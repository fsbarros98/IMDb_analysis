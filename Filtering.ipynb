{
 "cells": [
  {
   "cell_type": "markdown",
   "metadata": {},
   "source": [
    "# Title Basics and Title Ratings"
   ]
  },
  {
   "cell_type": "code",
   "execution_count": 1,
   "metadata": {},
   "outputs": [
    {
     "name": "stderr",
     "output_type": "stream",
     "text": [
      "Warning message:\n",
      "“replacing previous import ‘vctrs::data_frame’ by ‘tibble::data_frame’ when loading ‘dplyr’”\n"
     ]
    }
   ],
   "source": [
    "library(ggplot2)\n",
    "tb<-read.delim(\"title.basics.tsv\", header=TRUE)\n",
    "tr<-read.delim(\"title.ratings.tsv\", header=TRUE)"
   ]
  },
  {
   "cell_type": "code",
   "execution_count": 2,
   "metadata": {},
   "outputs": [
    {
     "name": "stdout",
     "output_type": "stream",
     "text": [
      "'data.frame':\t7281233 obs. of  9 variables:\n",
      " $ tconst        : chr  \"tt0000001\" \"tt0000002\" \"tt0000003\" \"tt0000004\" ...\n",
      " $ titleType     : chr  \"short\" \"short\" \"short\" \"short\" ...\n",
      " $ primaryTitle  : chr  \"Carmencita\" \"Le clown et ses chiens\" \"Pauvre Pierrot\" \"Un bon bock\" ...\n",
      " $ originalTitle : chr  \"Carmencita\" \"Le clown et ses chiens\" \"Pauvre Pierrot\" \"Un bon bock\" ...\n",
      " $ isAdult       : chr  \"0\" \"0\" \"0\" \"0\" ...\n",
      " $ startYear     : chr  \"1894\" \"1892\" \"1892\" \"1892\" ...\n",
      " $ endYear       : chr  \"\\\\N\" \"\\\\N\" \"\\\\N\" \"\\\\N\" ...\n",
      " $ runtimeMinutes: chr  \"1\" \"5\" \"4\" \"12\" ...\n",
      " $ genres        : chr  \"Documentary,Short\" \"Animation,Short\" \"Animation,Comedy,Romance\" \"Animation,Short\" ...\n"
     ]
    }
   ],
   "source": [
    "str(tb)"
   ]
  },
  {
   "cell_type": "code",
   "execution_count": 3,
   "metadata": {},
   "outputs": [
    {
     "name": "stdout",
     "output_type": "stream",
     "text": [
      "'data.frame':\t1086028 obs. of  3 variables:\n",
      " $ tconst       : chr  \"tt0000001\" \"tt0000002\" \"tt0000003\" \"tt0000004\" ...\n",
      " $ averageRating: num  5.6 6.1 6.5 6.2 6.2 5.3 5.5 5.4 5.9 6.9 ...\n",
      " $ numVotes     : int  1654 199 1366 121 2149 115 659 1821 156 6074 ...\n"
     ]
    }
   ],
   "source": [
    "str(tr)"
   ]
  },
  {
   "cell_type": "code",
   "execution_count": 4,
   "metadata": {},
   "outputs": [
    {
     "data": {
      "text/html": [
       "<style>\n",
       ".list-inline {list-style: none; margin:0; padding: 0}\n",
       ".list-inline>li {display: inline-block}\n",
       ".list-inline>li:not(:last-child)::after {content: \"\\00b7\"; padding: 0 .5ex}\n",
       "</style>\n",
       "<ol class=list-inline><li>'short'</li><li>'movie'</li><li>'tvShort'</li><li>'tvMovie'</li><li>'tvSeries'</li><li>'tvEpisode'</li><li>'tvMiniSeries'</li><li>'tvSpecial'</li><li>'video'</li><li>'videoGame'</li></ol>\n"
      ],
      "text/latex": [
       "\\begin{enumerate*}\n",
       "\\item 'short'\n",
       "\\item 'movie'\n",
       "\\item 'tvShort'\n",
       "\\item 'tvMovie'\n",
       "\\item 'tvSeries'\n",
       "\\item 'tvEpisode'\n",
       "\\item 'tvMiniSeries'\n",
       "\\item 'tvSpecial'\n",
       "\\item 'video'\n",
       "\\item 'videoGame'\n",
       "\\end{enumerate*}\n"
      ],
      "text/markdown": [
       "1. 'short'\n",
       "2. 'movie'\n",
       "3. 'tvShort'\n",
       "4. 'tvMovie'\n",
       "5. 'tvSeries'\n",
       "6. 'tvEpisode'\n",
       "7. 'tvMiniSeries'\n",
       "8. 'tvSpecial'\n",
       "9. 'video'\n",
       "10. 'videoGame'\n",
       "\n",
       "\n"
      ],
      "text/plain": [
       " [1] \"short\"        \"movie\"        \"tvShort\"      \"tvMovie\"      \"tvSeries\"    \n",
       " [6] \"tvEpisode\"    \"tvMiniSeries\" \"tvSpecial\"    \"video\"        \"videoGame\"   "
      ]
     },
     "metadata": {},
     "output_type": "display_data"
    }
   ],
   "source": [
    "unique(tb$titleType)"
   ]
  },
  {
   "cell_type": "code",
   "execution_count": 8,
   "metadata": {},
   "outputs": [],
   "source": [
    "tb_filtered=subset(tb,tb$titleType=='movie' | titleType=='short' | titleType=='tvMovie') #Filtered dataset"
   ]
  },
  {
   "cell_type": "code",
   "execution_count": 28,
   "metadata": {},
   "outputs": [],
   "source": [
    "write.table(tb_filtered, file='filtered.title.basics.tsv', quote=FALSE, sep='\\t') #Saving the filtered dataset"
   ]
  },
  {
   "cell_type": "code",
   "execution_count": 40,
   "metadata": {},
   "outputs": [
    {
     "data": {
      "text/html": [
       "423183"
      ],
      "text/latex": [
       "423183"
      ],
      "text/markdown": [
       "423183"
      ],
      "text/plain": [
       "[1] 423183"
      ]
     },
     "metadata": {},
     "output_type": "display_data"
    }
   ],
   "source": [
    "length(intersect(tr$tconst,tb_filtered$tconst)) #Both datasets have 423183 tconsts in common"
   ]
  },
  {
   "cell_type": "code",
   "execution_count": 49,
   "metadata": {},
   "outputs": [
    {
     "data": {
      "text/html": [
       "662845"
      ],
      "text/latex": [
       "662845"
      ],
      "text/markdown": [
       "662845"
      ],
      "text/plain": [
       "[1] 662845"
      ]
     },
     "metadata": {},
     "output_type": "display_data"
    }
   ],
   "source": [
    "length(setdiff(tr$tconst,tb_filtered$tconst)) #There are 662845 tconsts in tr that are not in tb_filtered"
   ]
  },
  {
   "cell_type": "code",
   "execution_count": 74,
   "metadata": {},
   "outputs": [],
   "source": [
    "movies=subset(tb_filtered,tb_filtered$titleType=='movie')\n",
    "shorts=subset(tb_filtered,tb_filtered$titleType=='short')\n",
    "tvmovies=subset(tb_filtered,tb_filtered$titleType=='tvMovie')"
   ]
  },
  {
   "cell_type": "code",
   "execution_count": 85,
   "metadata": {},
   "outputs": [
    {
     "data": {
      "image/png": "[encoded data removed]",
      "text/plain": [
       "plot without title"
      ]
     },
     "metadata": {
      "image/png": {
       "height": 420,
       "width": 420
      }
     },
     "output_type": "display_data"
    }
   ],
   "source": [
    "ggplot(tb_filtered,aes(x=titleType))+\n",
    "    geom_bar(fill=4,color=1)+\n",
    "    labs(x='Types',y='Count')"
   ]
  },
  {
   "cell_type": "code",
   "execution_count": null,
   "metadata": {},
   "outputs": [],
   "source": []
  }
 ],
 "metadata": {
  "kernelspec": {
   "display_name": "R",
   "language": "R",
   "name": "ir"
  },
  "language_info": {
   "codemirror_mode": "r",
   "file_extension": ".r",
   "mimetype": "text/x-r-source",
   "name": "R",
   "pygments_lexer": "r",
   "version": "4.0.2"
  }
 },
 "nbformat": 4,
 "nbformat_minor": 4
}
