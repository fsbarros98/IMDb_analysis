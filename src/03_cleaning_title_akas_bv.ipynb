{
 "cells": [
  {
   "cell_type": "markdown",
   "metadata": {},
   "source": [
    "## Arranging Title Akas"
   ]
  },
  {
   "cell_type": "code",
   "execution_count": 1,
   "metadata": {},
   "outputs": [],
   "source": [
    "tb=read.delim('cleaned_filtered_title_basics.tsv',header=TRUE)"
   ]
  },
  {
   "cell_type": "code",
   "execution_count": 2,
   "metadata": {},
   "outputs": [],
   "source": [
    "ta=read.delim('IMDb_Datasets_Filtered/filtered_title_akas.tsv',header=TRUE)"
   ]
  },
  {
   "cell_type": "code",
   "execution_count": 3,
   "metadata": {},
   "outputs": [
    {
     "data": {
      "text/html": [
       "<table>\n",
       "<caption>A data.frame: 6 × 8</caption>\n",
       "<thead>\n",
       "\t<tr><th></th><th scope=col>tconst</th><th scope=col>titleType</th><th scope=col>isAdult</th><th scope=col>startYear</th><th scope=col>runtimeMinutes</th><th scope=col>genre1</th><th scope=col>genre2</th><th scope=col>genre3</th></tr>\n",
       "\t<tr><th></th><th scope=col>&lt;chr&gt;</th><th scope=col>&lt;chr&gt;</th><th scope=col>&lt;int&gt;</th><th scope=col>&lt;int&gt;</th><th scope=col>&lt;int&gt;</th><th scope=col>&lt;chr&gt;</th><th scope=col>&lt;chr&gt;</th><th scope=col>&lt;chr&gt;</th></tr>\n",
       "</thead>\n",
       "<tbody>\n",
       "\t<tr><th scope=row>1</th><td>tt0000001</td><td>short</td><td>0</td><td>1894</td><td> 1</td><td>Documentary</td><td>Short </td><td>0      </td></tr>\n",
       "\t<tr><th scope=row>2</th><td>tt0000002</td><td>short</td><td>0</td><td>1892</td><td> 5</td><td>Animation  </td><td>Short </td><td>0      </td></tr>\n",
       "\t<tr><th scope=row>3</th><td>tt0000003</td><td>short</td><td>0</td><td>1892</td><td> 4</td><td>Animation  </td><td>Comedy</td><td>Romance</td></tr>\n",
       "\t<tr><th scope=row>4</th><td>tt0000004</td><td>short</td><td>0</td><td>1892</td><td>12</td><td>Animation  </td><td>Short </td><td>0      </td></tr>\n",
       "\t<tr><th scope=row>5</th><td>tt0000005</td><td>short</td><td>0</td><td>1893</td><td> 1</td><td>Comedy     </td><td>Short </td><td>0      </td></tr>\n",
       "\t<tr><th scope=row>6</th><td>tt0000006</td><td>short</td><td>0</td><td>1894</td><td> 1</td><td>Short      </td><td>0     </td><td>0      </td></tr>\n",
       "</tbody>\n",
       "</table>\n"
      ],
      "text/latex": [
       "A data.frame: 6 × 8\n",
       "\\begin{tabular}{r|llllllll}\n",
       "  & tconst & titleType & isAdult & startYear & runtimeMinutes & genre1 & genre2 & genre3\\\\\n",
       "  & <chr> & <chr> & <int> & <int> & <int> & <chr> & <chr> & <chr>\\\\\n",
       "\\hline\n",
       "\t1 & tt0000001 & short & 0 & 1894 &  1 & Documentary & Short  & 0      \\\\\n",
       "\t2 & tt0000002 & short & 0 & 1892 &  5 & Animation   & Short  & 0      \\\\\n",
       "\t3 & tt0000003 & short & 0 & 1892 &  4 & Animation   & Comedy & Romance\\\\\n",
       "\t4 & tt0000004 & short & 0 & 1892 & 12 & Animation   & Short  & 0      \\\\\n",
       "\t5 & tt0000005 & short & 0 & 1893 &  1 & Comedy      & Short  & 0      \\\\\n",
       "\t6 & tt0000006 & short & 0 & 1894 &  1 & Short       & 0      & 0      \\\\\n",
       "\\end{tabular}\n"
      ],
      "text/markdown": [
       "\n",
       "A data.frame: 6 × 8\n",
       "\n",
       "| <!--/--> | tconst &lt;chr&gt; | titleType &lt;chr&gt; | isAdult &lt;int&gt; | startYear &lt;int&gt; | runtimeMinutes &lt;int&gt; | genre1 &lt;chr&gt; | genre2 &lt;chr&gt; | genre3 &lt;chr&gt; |\n",
       "|---|---|---|---|---|---|---|---|---|\n",
       "| 1 | tt0000001 | short | 0 | 1894 |  1 | Documentary | Short  | 0       |\n",
       "| 2 | tt0000002 | short | 0 | 1892 |  5 | Animation   | Short  | 0       |\n",
       "| 3 | tt0000003 | short | 0 | 1892 |  4 | Animation   | Comedy | Romance |\n",
       "| 4 | tt0000004 | short | 0 | 1892 | 12 | Animation   | Short  | 0       |\n",
       "| 5 | tt0000005 | short | 0 | 1893 |  1 | Comedy      | Short  | 0       |\n",
       "| 6 | tt0000006 | short | 0 | 1894 |  1 | Short       | 0      | 0       |\n",
       "\n"
      ],
      "text/plain": [
       "  tconst    titleType isAdult startYear runtimeMinutes genre1      genre2\n",
       "1 tt0000001 short     0       1894       1             Documentary Short \n",
       "2 tt0000002 short     0       1892       5             Animation   Short \n",
       "3 tt0000003 short     0       1892       4             Animation   Comedy\n",
       "4 tt0000004 short     0       1892      12             Animation   Short \n",
       "5 tt0000005 short     0       1893       1             Comedy      Short \n",
       "6 tt0000006 short     0       1894       1             Short       0     \n",
       "  genre3 \n",
       "1 0      \n",
       "2 0      \n",
       "3 Romance\n",
       "4 0      \n",
       "5 0      \n",
       "6 0      "
      ]
     },
     "metadata": {},
     "output_type": "display_data"
    }
   ],
   "source": [
    "head(tb)"
   ]
  },
  {
   "cell_type": "code",
   "execution_count": 4,
   "metadata": {},
   "outputs": [],
   "source": [
    "ta$ordering = NULL"
   ]
  },
  {
   "cell_type": "code",
   "execution_count": 5,
   "metadata": {},
   "outputs": [],
   "source": [
    "ta$attributes = NULL"
   ]
  },
  {
   "cell_type": "code",
   "execution_count": 6,
   "metadata": {},
   "outputs": [],
   "source": [
    "ta$types = NULL"
   ]
  },
  {
   "cell_type": "code",
   "execution_count": 7,
   "metadata": {},
   "outputs": [],
   "source": [
    "ta$language = NULL"
   ]
  },
  {
   "cell_type": "code",
   "execution_count": 8,
   "metadata": {},
   "outputs": [],
   "source": [
    "ta$title = NULL"
   ]
  },
  {
   "cell_type": "code",
   "execution_count": 9,
   "metadata": {},
   "outputs": [],
   "source": [
    "library(readr)\n",
    "write_tsv(ta,'cleaned_filtered_title_akas.tsv')"
   ]
  },
  {
   "cell_type": "markdown",
   "metadata": {},
   "source": [
    "#### If one tries to remove columns something weird happens... We obtain NA values on the titleId variable... I don't know why it happens"
   ]
  },
  {
   "cell_type": "markdown",
   "metadata": {},
   "source": [
    "## Experiment"
   ]
  },
  {
   "cell_type": "code",
   "execution_count": 11,
   "metadata": {},
   "outputs": [],
   "source": [
    "titleid=unique(ta$titleId) #All titleId's"
   ]
  },
  {
   "cell_type": "code",
   "execution_count": 12,
   "metadata": {},
   "outputs": [
    {
     "data": {
      "text/html": [
       "908112"
      ],
      "text/latex": [
       "908112"
      ],
      "text/markdown": [
       "908112"
      ],
      "text/plain": [
       "[1] 908112"
      ]
     },
     "metadata": {},
     "output_type": "display_data"
    }
   ],
   "source": [
    "length(titleid) #Number of different movies"
   ]
  },
  {
   "cell_type": "code",
   "execution_count": 13,
   "metadata": {},
   "outputs": [],
   "source": [
    "ta_clean=ta"
   ]
  },
  {
   "cell_type": "code",
   "execution_count": null,
   "metadata": {},
   "outputs": [],
   "source": [
    "#The for cycle never stops\n",
    "a=data.frame(titleid[1:length(titleid)])\n",
    "regions=c()\n",
    "original_tit=c()\n",
    "\n",
    "for (i in 1:length(titleid)){\n",
    "    region=ta_clean[ta_clean$titleId==titleid[i],]$region\n",
    "    orig_tit=ta_clean[ta_clean$titleId==titleid[i],]$isOriginalTitle\n",
    "    regions=append(regions,list(region))\n",
    "    original_tit=append(original_tit,list(orig_tit))\n",
    "}\n",
    "\n",
    "a$regions=regions\n",
    "a$titleOriginal=original_tit"
   ]
  },
  {
   "cell_type": "code",
   "execution_count": null,
   "metadata": {},
   "outputs": [],
   "source": []
  }
 ],
 "metadata": {
  "kernelspec": {
   "display_name": "R",
   "language": "R",
   "name": "ir"
  },
  "language_info": {
   "codemirror_mode": "r",
   "file_extension": ".r",
   "mimetype": "text/x-r-source",
   "name": "R",
   "pygments_lexer": "r",
   "version": "4.0.2"
  }
 },
 "nbformat": 4,
 "nbformat_minor": 4
}
