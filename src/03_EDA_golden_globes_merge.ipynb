{
 "cells": [
  {
   "cell_type": "markdown",
   "metadata": {},
   "source": [
    "# Attempting to merge Golden Globes data with our datasets"
   ]
  },
  {
   "cell_type": "code",
   "execution_count": 1,
   "metadata": {},
   "outputs": [
    {
     "name": "stderr",
     "output_type": "stream",
     "text": [
      "Registered S3 methods overwritten by 'ggplot2':\n",
      "  method         from \n",
      "  [.quosures     rlang\n",
      "  c.quosures     rlang\n",
      "  print.quosures rlang\n",
      "\n",
      "Attaching package: ‘dplyr’\n",
      "\n",
      "The following objects are masked from ‘package:stats’:\n",
      "\n",
      "    filter, lag\n",
      "\n",
      "The following objects are masked from ‘package:base’:\n",
      "\n",
      "    intersect, setdiff, setequal, union\n",
      "\n",
      "Registered S3 method overwritten by 'rvest':\n",
      "  method            from\n",
      "  read_xml.response xml2\n",
      "── Attaching packages ─────────────────────────────────────── tidyverse 1.2.1 ──\n",
      "✔ tibble  3.0.4     ✔ purrr   0.3.2\n",
      "✔ tidyr   0.8.3     ✔ stringr 1.4.0\n",
      "✔ readr   1.3.1     ✔ forcats 0.4.0\n",
      "── Conflicts ────────────────────────────────────────── tidyverse_conflicts() ──\n",
      "✖ dplyr::filter() masks stats::filter()\n",
      "✖ dplyr::lag()    masks stats::lag()\n"
     ]
    }
   ],
   "source": [
    "library(ggplot2)\n",
    "library(dplyr)\n",
    "library(tidyverse)\n",
    "library(stringr)"
   ]
  },
  {
   "cell_type": "code",
   "execution_count": 2,
   "metadata": {},
   "outputs": [],
   "source": [
    "title_basics=read.delim(\"./../dataset/filtered.title.basics.tsv\",header=TRUE)"
   ]
  },
  {
   "cell_type": "code",
   "execution_count": 143,
   "metadata": {},
   "outputs": [],
   "source": [
    "golden_globes = read.csv(\"./../dataset/golden_globe_awards.csv\",header=TRUE) "
   ]
  },
  {
   "cell_type": "code",
   "execution_count": 144,
   "metadata": {},
   "outputs": [
    {
     "data": {
      "text/html": [
       "<table>\n",
       "<thead><tr><th scope=col>tconst</th><th scope=col>titleType</th><th scope=col>primaryTitle</th><th scope=col>originalTitle</th><th scope=col>isAdult</th><th scope=col>startYear</th><th scope=col>runtimeMinutes</th><th scope=col>genres</th></tr></thead>\n",
       "<tbody>\n",
       "\t<tr><td>tt0000001               </td><td>short                   </td><td>Carmencita              </td><td>Carmencita              </td><td>0                       </td><td>1894                    </td><td>1                       </td><td>Documentary,Short       </td></tr>\n",
       "\t<tr><td>tt0000002               </td><td>short                   </td><td>Le clown et ses chiens  </td><td>Le clown et ses chiens  </td><td>0                       </td><td>1892                    </td><td>5                       </td><td>Animation,Short         </td></tr>\n",
       "\t<tr><td>tt0000003               </td><td>short                   </td><td>Pauvre Pierrot          </td><td>Pauvre Pierrot          </td><td>0                       </td><td>1892                    </td><td>4                       </td><td>Animation,Comedy,Romance</td></tr>\n",
       "\t<tr><td>tt0000004               </td><td>short                   </td><td>Un bon bock             </td><td>Un bon bock             </td><td>0                       </td><td>1892                    </td><td>12                      </td><td>Animation,Short         </td></tr>\n",
       "\t<tr><td>tt0000005               </td><td>short                   </td><td>Blacksmith Scene        </td><td>Blacksmith Scene        </td><td>0                       </td><td>1893                    </td><td>1                       </td><td>Comedy,Short            </td></tr>\n",
       "\t<tr><td>tt0000006               </td><td>short                   </td><td>Chinese Opium Den       </td><td>Chinese Opium Den       </td><td>0                       </td><td>1894                    </td><td>1                       </td><td>Short                   </td></tr>\n",
       "</tbody>\n",
       "</table>\n"
      ],
      "text/latex": [
       "\\begin{tabular}{r|llllllll}\n",
       " tconst & titleType & primaryTitle & originalTitle & isAdult & startYear & runtimeMinutes & genres\\\\\n",
       "\\hline\n",
       "\t tt0000001                & short                    & Carmencita               & Carmencita               & 0                        & 1894                     & 1                        & Documentary,Short       \\\\\n",
       "\t tt0000002                & short                    & Le clown et ses chiens   & Le clown et ses chiens   & 0                        & 1892                     & 5                        & Animation,Short         \\\\\n",
       "\t tt0000003                & short                    & Pauvre Pierrot           & Pauvre Pierrot           & 0                        & 1892                     & 4                        & Animation,Comedy,Romance\\\\\n",
       "\t tt0000004                & short                    & Un bon bock              & Un bon bock              & 0                        & 1892                     & 12                       & Animation,Short         \\\\\n",
       "\t tt0000005                & short                    & Blacksmith Scene         & Blacksmith Scene         & 0                        & 1893                     & 1                        & Comedy,Short            \\\\\n",
       "\t tt0000006                & short                    & Chinese Opium Den        & Chinese Opium Den        & 0                        & 1894                     & 1                        & Short                   \\\\\n",
       "\\end{tabular}\n"
      ],
      "text/markdown": [
       "\n",
       "| tconst | titleType | primaryTitle | originalTitle | isAdult | startYear | runtimeMinutes | genres |\n",
       "|---|---|---|---|---|---|---|---|\n",
       "| tt0000001                | short                    | Carmencita               | Carmencita               | 0                        | 1894                     | 1                        | Documentary,Short        |\n",
       "| tt0000002                | short                    | Le clown et ses chiens   | Le clown et ses chiens   | 0                        | 1892                     | 5                        | Animation,Short          |\n",
       "| tt0000003                | short                    | Pauvre Pierrot           | Pauvre Pierrot           | 0                        | 1892                     | 4                        | Animation,Comedy,Romance |\n",
       "| tt0000004                | short                    | Un bon bock              | Un bon bock              | 0                        | 1892                     | 12                       | Animation,Short          |\n",
       "| tt0000005                | short                    | Blacksmith Scene         | Blacksmith Scene         | 0                        | 1893                     | 1                        | Comedy,Short             |\n",
       "| tt0000006                | short                    | Chinese Opium Den        | Chinese Opium Den        | 0                        | 1894                     | 1                        | Short                    |\n",
       "\n"
      ],
      "text/plain": [
       "  tconst    titleType primaryTitle           originalTitle          isAdult\n",
       "1 tt0000001 short     Carmencita             Carmencita             0      \n",
       "2 tt0000002 short     Le clown et ses chiens Le clown et ses chiens 0      \n",
       "3 tt0000003 short     Pauvre Pierrot         Pauvre Pierrot         0      \n",
       "4 tt0000004 short     Un bon bock            Un bon bock            0      \n",
       "5 tt0000005 short     Blacksmith Scene       Blacksmith Scene       0      \n",
       "6 tt0000006 short     Chinese Opium Den      Chinese Opium Den      0      \n",
       "  startYear runtimeMinutes genres                  \n",
       "1 1894      1              Documentary,Short       \n",
       "2 1892      5              Animation,Short         \n",
       "3 1892      4              Animation,Comedy,Romance\n",
       "4 1892      12             Animation,Short         \n",
       "5 1893      1              Comedy,Short            \n",
       "6 1894      1              Short                   "
      ]
     },
     "metadata": {},
     "output_type": "display_data"
    }
   ],
   "source": [
    "head(title_basics)"
   ]
  },
  {
   "cell_type": "code",
   "execution_count": 145,
   "metadata": {},
   "outputs": [
    {
     "data": {
      "text/html": [
       "<table>\n",
       "<thead><tr><th scope=col>year_film</th><th scope=col>year_award</th><th scope=col>ceremony</th><th scope=col>category</th><th scope=col>nominee</th><th scope=col>film</th><th scope=col>win</th></tr></thead>\n",
       "<tbody>\n",
       "\t<tr><td>1943                                                                     </td><td>1944                                                                     </td><td>1                                                                        </td><td>Best Performance by an Actress in a Supporting Role in any Motion Picture</td><td>Katina Paxinou                                                           </td><td>For Whom The Bell Tolls                                                  </td><td>True                                                                     </td></tr>\n",
       "\t<tr><td>1943                                                                     </td><td>1944                                                                     </td><td>1                                                                        </td><td>Best Performance by an Actor in a Supporting Role in any Motion Picture  </td><td>Akim Tamiroff                                                            </td><td>For Whom The Bell Tolls                                                  </td><td>True                                                                     </td></tr>\n",
       "\t<tr><td>1943                                                                     </td><td>1944                                                                     </td><td>1                                                                        </td><td>Best Director - Motion Picture                                           </td><td>Henry King                                                               </td><td>The Song Of Bernadette                                                   </td><td>True                                                                     </td></tr>\n",
       "\t<tr><td>1943                                                                     </td><td>1944                                                                     </td><td>1                                                                        </td><td>Picture                                                                  </td><td>The Song Of Bernadette                                                   </td><td>                                                                         </td><td>True                                                                     </td></tr>\n",
       "\t<tr><td>1943                                                                     </td><td>1944                                                                     </td><td>1                                                                        </td><td>Actress In A Leading Role                                                </td><td>Jennifer Jones                                                           </td><td>The Song Of Bernadette                                                   </td><td>True                                                                     </td></tr>\n",
       "\t<tr><td>1943                                                                     </td><td>1944                                                                     </td><td>1                                                                        </td><td>Actor In A Leading Role                                                  </td><td>Paul Lukas                                                               </td><td>Watch On The Rhine                                                       </td><td>True                                                                     </td></tr>\n",
       "</tbody>\n",
       "</table>\n"
      ],
      "text/latex": [
       "\\begin{tabular}{r|lllllll}\n",
       " year\\_film & year\\_award & ceremony & category & nominee & film & win\\\\\n",
       "\\hline\n",
       "\t 1943                                                                      & 1944                                                                      & 1                                                                         & Best Performance by an Actress in a Supporting Role in any Motion Picture & Katina Paxinou                                                            & For Whom The Bell Tolls                                                   & True                                                                     \\\\\n",
       "\t 1943                                                                      & 1944                                                                      & 1                                                                         & Best Performance by an Actor in a Supporting Role in any Motion Picture   & Akim Tamiroff                                                             & For Whom The Bell Tolls                                                   & True                                                                     \\\\\n",
       "\t 1943                                                                      & 1944                                                                      & 1                                                                         & Best Director - Motion Picture                                            & Henry King                                                                & The Song Of Bernadette                                                    & True                                                                     \\\\\n",
       "\t 1943                                                                      & 1944                                                                      & 1                                                                         & Picture                                                                   & The Song Of Bernadette                                                    &                                                                           & True                                                                     \\\\\n",
       "\t 1943                                                                      & 1944                                                                      & 1                                                                         & Actress In A Leading Role                                                 & Jennifer Jones                                                            & The Song Of Bernadette                                                    & True                                                                     \\\\\n",
       "\t 1943                                                                      & 1944                                                                      & 1                                                                         & Actor In A Leading Role                                                   & Paul Lukas                                                                & Watch On The Rhine                                                        & True                                                                     \\\\\n",
       "\\end{tabular}\n"
      ],
      "text/markdown": [
       "\n",
       "| year_film | year_award | ceremony | category | nominee | film | win |\n",
       "|---|---|---|---|---|---|---|\n",
       "| 1943                                                                      | 1944                                                                      | 1                                                                         | Best Performance by an Actress in a Supporting Role in any Motion Picture | Katina Paxinou                                                            | For Whom The Bell Tolls                                                   | True                                                                      |\n",
       "| 1943                                                                      | 1944                                                                      | 1                                                                         | Best Performance by an Actor in a Supporting Role in any Motion Picture   | Akim Tamiroff                                                             | For Whom The Bell Tolls                                                   | True                                                                      |\n",
       "| 1943                                                                      | 1944                                                                      | 1                                                                         | Best Director - Motion Picture                                            | Henry King                                                                | The Song Of Bernadette                                                    | True                                                                      |\n",
       "| 1943                                                                      | 1944                                                                      | 1                                                                         | Picture                                                                   | The Song Of Bernadette                                                    |                                                                           | True                                                                      |\n",
       "| 1943                                                                      | 1944                                                                      | 1                                                                         | Actress In A Leading Role                                                 | Jennifer Jones                                                            | The Song Of Bernadette                                                    | True                                                                      |\n",
       "| 1943                                                                      | 1944                                                                      | 1                                                                         | Actor In A Leading Role                                                   | Paul Lukas                                                                | Watch On The Rhine                                                        | True                                                                      |\n",
       "\n"
      ],
      "text/plain": [
       "  year_film year_award ceremony\n",
       "1 1943      1944       1       \n",
       "2 1943      1944       1       \n",
       "3 1943      1944       1       \n",
       "4 1943      1944       1       \n",
       "5 1943      1944       1       \n",
       "6 1943      1944       1       \n",
       "  category                                                                 \n",
       "1 Best Performance by an Actress in a Supporting Role in any Motion Picture\n",
       "2 Best Performance by an Actor in a Supporting Role in any Motion Picture  \n",
       "3 Best Director - Motion Picture                                           \n",
       "4 Picture                                                                  \n",
       "5 Actress In A Leading Role                                                \n",
       "6 Actor In A Leading Role                                                  \n",
       "  nominee                film                    win \n",
       "1 Katina Paxinou         For Whom The Bell Tolls True\n",
       "2 Akim Tamiroff          For Whom The Bell Tolls True\n",
       "3 Henry King             The Song Of Bernadette  True\n",
       "4 The Song Of Bernadette                         True\n",
       "5 Jennifer Jones         The Song Of Bernadette  True\n",
       "6 Paul Lukas             Watch On The Rhine      True"
      ]
     },
     "metadata": {},
     "output_type": "display_data"
    }
   ],
   "source": [
    "head(golden_globes)"
   ]
  },
  {
   "cell_type": "code",
   "execution_count": 146,
   "metadata": {
    "scrolled": true
   },
   "outputs": [
    {
     "data": {
      "text/plain": [
       "   year_film      year_award      ceremony    \n",
       " Min.   :1943   Min.   :1944   Min.   : 1.00  \n",
       " 1st Qu.:1972   1st Qu.:1973   1st Qu.:30.00  \n",
       " Median :1988   Median :1989   Median :46.00  \n",
       " Mean   :1987   Mean   :1988   Mean   :45.49  \n",
       " 3rd Qu.:2004   3rd Qu.:2005   3rd Qu.:62.00  \n",
       " Max.   :2019   Max.   :2020   Max.   :77.00  \n",
       "                                              \n",
       "                                                                      category   \n",
       " Best Performance by an Actress in a Supporting Role in any Motion Picture: 360  \n",
       " Best Director - Motion Picture                                           : 357  \n",
       " Best Performance by an Actor in a Supporting Role in any Motion Picture  : 352  \n",
       " Best Motion Picture - Drama                                              : 351  \n",
       " Best Performance by an Actor in a Motion Picture - Drama                 : 344  \n",
       " Best Performance by an Actor in a Motion Picture - Musical or Comedy     : 342  \n",
       " (Other)                                                                  :5885  \n",
       "             nominee                    film         win      \n",
       " Meryl Streep    :  33                    :1800   False:6166  \n",
       " Jack Lemmon     :  23   L.A. Law         :  26   True :1825  \n",
       " John Williams   :  23   All In The Family:  23               \n",
       " Shirley MacLaine:  21   Will & Grace     :  23               \n",
       " Al Pacino       :  19   Cheers           :  22               \n",
       " Jack Nicholson  :  18   Taxi             :  20               \n",
       " (Other)         :7854   (Other)          :6077               "
      ]
     },
     "metadata": {},
     "output_type": "display_data"
    }
   ],
   "source": [
    "summary(golden_globes)"
   ]
  },
  {
   "cell_type": "code",
   "execution_count": 147,
   "metadata": {},
   "outputs": [],
   "source": [
    "golden_globes$ceremony=NULL"
   ]
  },
  {
   "cell_type": "code",
   "execution_count": 148,
   "metadata": {},
   "outputs": [
    {
     "data": {
      "text/html": [
       "<ol class=list-inline>\n",
       "\t<li>1</li>\n",
       "\t<li>0</li>\n",
       "</ol>\n"
      ],
      "text/latex": [
       "\\begin{enumerate*}\n",
       "\\item 1\n",
       "\\item 0\n",
       "\\end{enumerate*}\n"
      ],
      "text/markdown": [
       "1. 1\n",
       "2. 0\n",
       "\n",
       "\n"
      ],
      "text/plain": [
       "[1] 1 0"
      ]
     },
     "metadata": {},
     "output_type": "display_data"
    }
   ],
   "source": [
    "golden_globes$win = as.integer(as.logical(golden_globes$win))\n",
    "unique(golden_globes$win)"
   ]
  },
  {
   "cell_type": "code",
   "execution_count": 149,
   "metadata": {},
   "outputs": [],
   "source": [
    "colnames(golden_globes) = c(\"startYear\",\"cerimonyYear\",\"category\",\"nominee\",\"film\",\"win\")"
   ]
  },
  {
   "cell_type": "code",
   "execution_count": 150,
   "metadata": {},
   "outputs": [
    {
     "data": {
      "text/html": [
       "<table>\n",
       "<thead><tr><th scope=col>startYear</th><th scope=col>cerimonyYear</th><th scope=col>category</th><th scope=col>nominee</th><th scope=col>film</th><th scope=col>win</th></tr></thead>\n",
       "<tbody>\n",
       "\t<tr><td>1943                                                                     </td><td>1944                                                                     </td><td>Best Performance by an Actress in a Supporting Role in any Motion Picture</td><td>Katina Paxinou                                                           </td><td>For Whom The Bell Tolls                                                  </td><td>1                                                                        </td></tr>\n",
       "\t<tr><td>1943                                                                     </td><td>1944                                                                     </td><td>Best Performance by an Actor in a Supporting Role in any Motion Picture  </td><td>Akim Tamiroff                                                            </td><td>For Whom The Bell Tolls                                                  </td><td>1                                                                        </td></tr>\n",
       "\t<tr><td>1943                                                                     </td><td>1944                                                                     </td><td>Best Director - Motion Picture                                           </td><td>Henry King                                                               </td><td>The Song Of Bernadette                                                   </td><td>1                                                                        </td></tr>\n",
       "\t<tr><td>1943                                                                     </td><td>1944                                                                     </td><td>Picture                                                                  </td><td>The Song Of Bernadette                                                   </td><td>                                                                         </td><td>1                                                                        </td></tr>\n",
       "\t<tr><td>1943                                                                     </td><td>1944                                                                     </td><td>Actress In A Leading Role                                                </td><td>Jennifer Jones                                                           </td><td>The Song Of Bernadette                                                   </td><td>1                                                                        </td></tr>\n",
       "\t<tr><td>1943                                                                     </td><td>1944                                                                     </td><td>Actor In A Leading Role                                                  </td><td>Paul Lukas                                                               </td><td>Watch On The Rhine                                                       </td><td>1                                                                        </td></tr>\n",
       "</tbody>\n",
       "</table>\n"
      ],
      "text/latex": [
       "\\begin{tabular}{r|llllll}\n",
       " startYear & cerimonyYear & category & nominee & film & win\\\\\n",
       "\\hline\n",
       "\t 1943                                                                      & 1944                                                                      & Best Performance by an Actress in a Supporting Role in any Motion Picture & Katina Paxinou                                                            & For Whom The Bell Tolls                                                   & 1                                                                        \\\\\n",
       "\t 1943                                                                      & 1944                                                                      & Best Performance by an Actor in a Supporting Role in any Motion Picture   & Akim Tamiroff                                                             & For Whom The Bell Tolls                                                   & 1                                                                        \\\\\n",
       "\t 1943                                                                      & 1944                                                                      & Best Director - Motion Picture                                            & Henry King                                                                & The Song Of Bernadette                                                    & 1                                                                        \\\\\n",
       "\t 1943                                                                      & 1944                                                                      & Picture                                                                   & The Song Of Bernadette                                                    &                                                                           & 1                                                                        \\\\\n",
       "\t 1943                                                                      & 1944                                                                      & Actress In A Leading Role                                                 & Jennifer Jones                                                            & The Song Of Bernadette                                                    & 1                                                                        \\\\\n",
       "\t 1943                                                                      & 1944                                                                      & Actor In A Leading Role                                                   & Paul Lukas                                                                & Watch On The Rhine                                                        & 1                                                                        \\\\\n",
       "\\end{tabular}\n"
      ],
      "text/markdown": [
       "\n",
       "| startYear | cerimonyYear | category | nominee | film | win |\n",
       "|---|---|---|---|---|---|\n",
       "| 1943                                                                      | 1944                                                                      | Best Performance by an Actress in a Supporting Role in any Motion Picture | Katina Paxinou                                                            | For Whom The Bell Tolls                                                   | 1                                                                         |\n",
       "| 1943                                                                      | 1944                                                                      | Best Performance by an Actor in a Supporting Role in any Motion Picture   | Akim Tamiroff                                                             | For Whom The Bell Tolls                                                   | 1                                                                         |\n",
       "| 1943                                                                      | 1944                                                                      | Best Director - Motion Picture                                            | Henry King                                                                | The Song Of Bernadette                                                    | 1                                                                         |\n",
       "| 1943                                                                      | 1944                                                                      | Picture                                                                   | The Song Of Bernadette                                                    |                                                                           | 1                                                                         |\n",
       "| 1943                                                                      | 1944                                                                      | Actress In A Leading Role                                                 | Jennifer Jones                                                            | The Song Of Bernadette                                                    | 1                                                                         |\n",
       "| 1943                                                                      | 1944                                                                      | Actor In A Leading Role                                                   | Paul Lukas                                                                | Watch On The Rhine                                                        | 1                                                                         |\n",
       "\n"
      ],
      "text/plain": [
       "  startYear cerimonyYear\n",
       "1 1943      1944        \n",
       "2 1943      1944        \n",
       "3 1943      1944        \n",
       "4 1943      1944        \n",
       "5 1943      1944        \n",
       "6 1943      1944        \n",
       "  category                                                                 \n",
       "1 Best Performance by an Actress in a Supporting Role in any Motion Picture\n",
       "2 Best Performance by an Actor in a Supporting Role in any Motion Picture  \n",
       "3 Best Director - Motion Picture                                           \n",
       "4 Picture                                                                  \n",
       "5 Actress In A Leading Role                                                \n",
       "6 Actor In A Leading Role                                                  \n",
       "  nominee                film                    win\n",
       "1 Katina Paxinou         For Whom The Bell Tolls 1  \n",
       "2 Akim Tamiroff          For Whom The Bell Tolls 1  \n",
       "3 Henry King             The Song Of Bernadette  1  \n",
       "4 The Song Of Bernadette                         1  \n",
       "5 Jennifer Jones         The Song Of Bernadette  1  \n",
       "6 Paul Lukas             Watch On The Rhine      1  "
      ]
     },
     "metadata": {},
     "output_type": "display_data"
    }
   ],
   "source": [
    "head(golden_globes)"
   ]
  },
  {
   "cell_type": "markdown",
   "metadata": {},
   "source": [
    "## How many of the awards are for people instead of films itself?"
   ]
  },
  {
   "cell_type": "code",
   "execution_count": 151,
   "metadata": {},
   "outputs": [],
   "source": [
    "person_p = 1 - nrow(golden_globes[golden_globes$film==\"\",])/nrow(golden_globes)\n",
    "film_p =  nrow(golden_globes[golden_globes$film==\"\",])/nrow(golden_globes)"
   ]
  },
  {
   "cell_type": "code",
   "execution_count": 152,
   "metadata": {},
   "outputs": [],
   "source": [
    "person_p = round(person_p,digits=2)\n",
    "film_p =  round(film_p,digits=2)"
   ]
  },
  {
   "cell_type": "code",
   "execution_count": 153,
   "metadata": {},
   "outputs": [],
   "source": [
    "pie_chart_data = data.frame(group=c(\"Film\",\"People\"),value=c(film_p,person_p))"
   ]
  },
  {
   "cell_type": "code",
   "execution_count": 154,
   "metadata": {
    "scrolled": false
   },
   "outputs": [
    {
     "data": {
      "image/png": "[encoded data removed]",
      "text/plain": [
       "plot without title"
      ]
     },
     "metadata": {},
     "output_type": "display_data"
    }
   ],
   "source": [
    "ggplot(pie_chart_data, aes(x=\"\", y=value, fill=group)) +\n",
    "  geom_bar(stat=\"identity\", width=1) +\n",
    "  coord_polar(\"y\", start=0) + \n",
    "  theme_void()+\n",
    "  theme(legend.position=\"none\",plot.title=element_text(hjust=0.5,size=30)) +\n",
    "  geom_text(aes(label = paste(group,\":\", value*100,\"%\")), position=position_stack(vjust=0.5), color = \"black\", size=9) + \n",
    "  scale_fill_brewer(palette=\"Blues\") +\n",
    "  labs(title=\"Distribution of nominees\")"
   ]
  },
  {
   "cell_type": "markdown",
   "metadata": {},
   "source": [
    "## merge"
   ]
  },
  {
   "cell_type": "code",
   "execution_count": 155,
   "metadata": {},
   "outputs": [],
   "source": [
    "title_basics$endYear=NULL"
   ]
  },
  {
   "cell_type": "code",
   "execution_count": 156,
   "metadata": {},
   "outputs": [
    {
     "data": {
      "text/html": [
       "<dl class=dl-horizontal>\n",
       "\t<dt>0</dt>\n",
       "\t\t<dd>6166</dd>\n",
       "\t<dt>1</dt>\n",
       "\t\t<dd>1825</dd>\n",
       "</dl>\n"
      ],
      "text/latex": [
       "\\begin{description*}\n",
       "\\item[0] 6166\n",
       "\\item[1] 1825\n",
       "\\end{description*}\n"
      ],
      "text/markdown": [
       "0\n",
       ":   61661\n",
       ":   1825\n",
       "\n"
      ],
      "text/plain": [
       "   0    1 \n",
       "6166 1825 "
      ]
     },
     "metadata": {},
     "output_type": "display_data"
    }
   ],
   "source": [
    "summary(as.factor(golden_globes$win))"
   ]
  },
  {
   "cell_type": "code",
   "execution_count": 157,
   "metadata": {},
   "outputs": [],
   "source": [
    "golden_films = golden_globes"
   ]
  },
  {
   "cell_type": "code",
   "execution_count": 158,
   "metadata": {},
   "outputs": [],
   "source": [
    "colnames(golden_films) = c(\"startYear\",\"cerimonyYear\",\"category\",\"primaryTitle\",\"film\",\"win\")"
   ]
  },
  {
   "cell_type": "code",
   "execution_count": 159,
   "metadata": {},
   "outputs": [],
   "source": [
    "merging = merge(title_basics,golden_films,by=c(\"primaryTitle\",\"startYear\"))"
   ]
  },
  {
   "cell_type": "code",
   "execution_count": 160,
   "metadata": {},
   "outputs": [
    {
     "data": {
      "text/html": [
       "<table>\n",
       "<thead><tr><th scope=col>primaryTitle</th><th scope=col>startYear</th><th scope=col>tconst</th><th scope=col>titleType</th><th scope=col>originalTitle</th><th scope=col>isAdult</th><th scope=col>runtimeMinutes</th><th scope=col>genres</th><th scope=col>cerimonyYear</th><th scope=col>category</th><th scope=col>film</th><th scope=col>win</th></tr></thead>\n",
       "<tbody>\n",
       "\t<tr><td>10                                     </td><td>1979                                   </td><td>tt0078721                              </td><td>movie                                  </td><td>10                                     </td><td>0                                      </td><td>122                                    </td><td>Comedy,Romance                         </td><td>1980                                   </td><td>Best Motion Picture - Musical or Comedy</td><td>                                       </td><td>0                                      </td></tr>\n",
       "\t<tr><td>12 Years a Slave                       </td><td>2013                                   </td><td>tt2024544                              </td><td>movie                                  </td><td>12 Years a Slave                       </td><td>0                                      </td><td>134                                    </td><td>Biography,Drama,History                </td><td>2014                                   </td><td>Best Motion Picture - Drama            </td><td>                                       </td><td>1                                      </td></tr>\n",
       "\t<tr><td>1776                                   </td><td>1972                                   </td><td>tt0068156                              </td><td>movie                                  </td><td>1776                                   </td><td>0                                      </td><td>141                                    </td><td>Drama,Family,History                   </td><td>1973                                   </td><td>Best Motion Picture - Musical or Comedy</td><td>                                       </td><td>0                                      </td></tr>\n",
       "\t<tr><td>1917                                   </td><td>2019                                   </td><td>tt8579674                              </td><td>movie                                  </td><td>1917                                   </td><td>0                                      </td><td>119                                    </td><td>Drama,War                              </td><td>2020                                   </td><td>Best Motion Picture - Drama            </td><td>                                       </td><td>1                                      </td></tr>\n",
       "\t<tr><td>20th Century Women                     </td><td>2016                                   </td><td>tt4385888                              </td><td>movie                                  </td><td>20th Century Women                     </td><td>0                                      </td><td>119                                    </td><td>Comedy,Drama                           </td><td>2017                                   </td><td>Best Motion Picture - Musical or Comedy</td><td>                                       </td><td>0                                      </td></tr>\n",
       "\t<tr><td>24                                     </td><td>2001                                   </td><td>tt0270179                              </td><td>movie                                  </td><td>24                                     </td><td>0                                      </td><td>78                                     </td><td>Drama                                  </td><td>2002                                   </td><td>Best Television Series - Drama         </td><td>                                       </td><td>0                                      </td></tr>\n",
       "</tbody>\n",
       "</table>\n"
      ],
      "text/latex": [
       "\\begin{tabular}{r|llllllllllll}\n",
       " primaryTitle & startYear & tconst & titleType & originalTitle & isAdult & runtimeMinutes & genres & cerimonyYear & category & film & win\\\\\n",
       "\\hline\n",
       "\t 10                                      & 1979                                    & tt0078721                               & movie                                   & 10                                      & 0                                       & 122                                     & Comedy,Romance                          & 1980                                    & Best Motion Picture - Musical or Comedy &                                         & 0                                      \\\\\n",
       "\t 12 Years a Slave                        & 2013                                    & tt2024544                               & movie                                   & 12 Years a Slave                        & 0                                       & 134                                     & Biography,Drama,History                 & 2014                                    & Best Motion Picture - Drama             &                                         & 1                                      \\\\\n",
       "\t 1776                                    & 1972                                    & tt0068156                               & movie                                   & 1776                                    & 0                                       & 141                                     & Drama,Family,History                    & 1973                                    & Best Motion Picture - Musical or Comedy &                                         & 0                                      \\\\\n",
       "\t 1917                                    & 2019                                    & tt8579674                               & movie                                   & 1917                                    & 0                                       & 119                                     & Drama,War                               & 2020                                    & Best Motion Picture - Drama             &                                         & 1                                      \\\\\n",
       "\t 20th Century Women                      & 2016                                    & tt4385888                               & movie                                   & 20th Century Women                      & 0                                       & 119                                     & Comedy,Drama                            & 2017                                    & Best Motion Picture - Musical or Comedy &                                         & 0                                      \\\\\n",
       "\t 24                                      & 2001                                    & tt0270179                               & movie                                   & 24                                      & 0                                       & 78                                      & Drama                                   & 2002                                    & Best Television Series - Drama          &                                         & 0                                      \\\\\n",
       "\\end{tabular}\n"
      ],
      "text/markdown": [
       "\n",
       "| primaryTitle | startYear | tconst | titleType | originalTitle | isAdult | runtimeMinutes | genres | cerimonyYear | category | film | win |\n",
       "|---|---|---|---|---|---|---|---|---|---|---|---|\n",
       "| 10                                      | 1979                                    | tt0078721                               | movie                                   | 10                                      | 0                                       | 122                                     | Comedy,Romance                          | 1980                                    | Best Motion Picture - Musical or Comedy |                                         | 0                                       |\n",
       "| 12 Years a Slave                        | 2013                                    | tt2024544                               | movie                                   | 12 Years a Slave                        | 0                                       | 134                                     | Biography,Drama,History                 | 2014                                    | Best Motion Picture - Drama             |                                         | 1                                       |\n",
       "| 1776                                    | 1972                                    | tt0068156                               | movie                                   | 1776                                    | 0                                       | 141                                     | Drama,Family,History                    | 1973                                    | Best Motion Picture - Musical or Comedy |                                         | 0                                       |\n",
       "| 1917                                    | 2019                                    | tt8579674                               | movie                                   | 1917                                    | 0                                       | 119                                     | Drama,War                               | 2020                                    | Best Motion Picture - Drama             |                                         | 1                                       |\n",
       "| 20th Century Women                      | 2016                                    | tt4385888                               | movie                                   | 20th Century Women                      | 0                                       | 119                                     | Comedy,Drama                            | 2017                                    | Best Motion Picture - Musical or Comedy |                                         | 0                                       |\n",
       "| 24                                      | 2001                                    | tt0270179                               | movie                                   | 24                                      | 0                                       | 78                                      | Drama                                   | 2002                                    | Best Television Series - Drama          |                                         | 0                                       |\n",
       "\n"
      ],
      "text/plain": [
       "  primaryTitle       startYear tconst    titleType originalTitle      isAdult\n",
       "1 10                 1979      tt0078721 movie     10                 0      \n",
       "2 12 Years a Slave   2013      tt2024544 movie     12 Years a Slave   0      \n",
       "3 1776               1972      tt0068156 movie     1776               0      \n",
       "4 1917               2019      tt8579674 movie     1917               0      \n",
       "5 20th Century Women 2016      tt4385888 movie     20th Century Women 0      \n",
       "6 24                 2001      tt0270179 movie     24                 0      \n",
       "  runtimeMinutes genres                  cerimonyYear\n",
       "1 122            Comedy,Romance          1980        \n",
       "2 134            Biography,Drama,History 2014        \n",
       "3 141            Drama,Family,History    1973        \n",
       "4 119            Drama,War               2020        \n",
       "5 119            Comedy,Drama            2017        \n",
       "6 78             Drama                   2002        \n",
       "  category                                film win\n",
       "1 Best Motion Picture - Musical or Comedy      0  \n",
       "2 Best Motion Picture - Drama                  1  \n",
       "3 Best Motion Picture - Musical or Comedy      0  \n",
       "4 Best Motion Picture - Drama                  1  \n",
       "5 Best Motion Picture - Musical or Comedy      0  \n",
       "6 Best Television Series - Drama               0  "
      ]
     },
     "metadata": {},
     "output_type": "display_data"
    }
   ],
   "source": [
    "head(merging)"
   ]
  },
  {
   "cell_type": "code",
   "execution_count": 161,
   "metadata": {},
   "outputs": [
    {
     "data": {
      "text/html": [
       "<dl class=dl-horizontal>\n",
       "\t<dt>0</dt>\n",
       "\t\t<dd>716</dd>\n",
       "\t<dt>1</dt>\n",
       "\t\t<dd>200</dd>\n",
       "</dl>\n"
      ],
      "text/latex": [
       "\\begin{description*}\n",
       "\\item[0] 716\n",
       "\\item[1] 200\n",
       "\\end{description*}\n"
      ],
      "text/markdown": [
       "0\n",
       ":   7161\n",
       ":   200\n",
       "\n"
      ],
      "text/plain": [
       "  0   1 \n",
       "716 200 "
      ]
     },
     "metadata": {},
     "output_type": "display_data"
    }
   ],
   "source": [
    "summary(as.factor(merging$win))"
   ]
  },
  {
   "cell_type": "code",
   "execution_count": null,
   "metadata": {},
   "outputs": [],
   "source": []
  }
 ],
 "metadata": {
  "kernelspec": {
   "display_name": "R",
   "language": "R",
   "name": "ir"
  },
  "language_info": {
   "codemirror_mode": "r",
   "file_extension": ".r",
   "mimetype": "text/x-r-source",
   "name": "R",
   "pygments_lexer": "r",
   "version": "3.6.1"
  }
 },
 "nbformat": 4,
 "nbformat_minor": 4
}
