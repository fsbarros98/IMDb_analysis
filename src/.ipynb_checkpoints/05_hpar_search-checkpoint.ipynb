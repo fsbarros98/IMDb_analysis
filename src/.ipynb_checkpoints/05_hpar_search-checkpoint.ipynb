{
 "cells": [
  {
   "cell_type": "code",
   "execution_count": 1,
   "metadata": {},
   "outputs": [
    {
     "name": "stderr",
     "output_type": "stream",
     "text": [
      "\n",
      "Attaching package: 'igraph'\n",
      "\n",
      "\n",
      "The following objects are masked from 'package:stats':\n",
      "\n",
      "    decompose, spectrum\n",
      "\n",
      "\n",
      "The following object is masked from 'package:base':\n",
      "\n",
      "    union\n",
      "\n",
      "\n"
     ]
    }
   ],
   "source": [
    "library(igraph)"
   ]
  },
  {
   "cell_type": "code",
   "execution_count": 2,
   "metadata": {},
   "outputs": [],
   "source": [
    "# let's increase the size of the plot\n",
    "options(repr.plot.width=7, repr.plot.height=5, repr.plot.res = 200)"
   ]
  },
  {
   "cell_type": "code",
   "execution_count": 3,
   "metadata": {},
   "outputs": [],
   "source": [
    "g1 = graph( edges=c(1,2 , 1,3 , 1,4 , 2,1 , 3,1 , 3,5 , 3,8 , 4,1 , 4,5 , 4,6 , 5,3 , 5,4 , 5,7 , 5,8 , 6,4 , 9,10 , 9,11), directed=F ) "
   ]
  },
  {
   "cell_type": "code",
   "execution_count": 4,
   "metadata": {},
   "outputs": [
    {
     "data": {
      "image/png": "[encoded data removed]",
      "text/plain": [
       "Plot with title \"\""
      ]
     },
     "metadata": {
      "image/png": {
       "height": 500,
       "width": 700
      }
     },
     "output_type": "display_data"
    }
   ],
   "source": [
    "plot(g1)"
   ]
  },
  {
   "cell_type": "code",
   "execution_count": 5,
   "metadata": {},
   "outputs": [
    {
     "data": {
      "image/png": "[encoded data removed]",
      "text/plain": [
       "Plot with title \"\""
      ]
     },
     "metadata": {
      "image/png": {
       "height": 500,
       "width": 700
      }
     },
     "output_type": "display_data"
    }
   ],
   "source": [
    "g1 = graph( edges=c(1,2 , 1,3 , 1,4 , 3,5 , 3,8 , 4,5 , 4,6 , 5,7 , 5,8 , 9,10 , 9,11), directed=F ) \n",
    "plot(g1)"
   ]
  },
  {
   "cell_type": "code",
   "execution_count": 6,
   "metadata": {},
   "outputs": [
    {
     "data": {
      "text/html": [
       "\n",
       "<table width=\"100%\" summary=\"page for igraph-package {igraph}\"><tr><td>igraph-package {igraph}</td><td style=\"text-align: right;\">R Documentation</td></tr></table>\n",
       "\n",
       "<h2>The igraph package</h2>\n",
       "\n",
       "<h3>Description</h3>\n",
       "\n",
       "<p>igraph is a library and R package for network analysis.\n",
       "</p>\n",
       "\n",
       "\n",
       "<h3>Introduction</h3>\n",
       "\n",
       "<p>The main goals of the igraph library is to provide a set of data types\n",
       "and functions for 1) pain-free implementation of graph algorithms, 2)\n",
       "fast handling of large graphs, with millions of vertices and edges, 3)\n",
       "allowing rapid prototyping via high level languages like R.\n",
       "</p>\n",
       "\n",
       "\n",
       "<h3>Igraph graphs</h3>\n",
       "\n",
       "<p>Igraph graphs have a class &lsquo;<code>igraph</code>&rsquo;. They are printed to\n",
       "the screen in a special format, here is an example, a ring graph\n",
       "created using <code>make_ring</code>: </p>\n",
       "<pre>\n",
       "    IGRAPH U--- 10 10 -- Ring graph\n",
       "    + attr: name (g/c), mutual (g/x), circular (g/x)  </pre>\n",
       "<p>&lsquo;<code>IGRAPH</code>&rsquo; denotes that this is an igraph graph. Then\n",
       "come four bits that denote the kind of the graph: the first is\n",
       "&lsquo;<code>U</code>&rsquo; for undirected and &lsquo;<code>D</code>&rsquo; for directed\n",
       "graphs. The second is &lsquo;<code>N</code>&rsquo; for named graph (i.e. if the\n",
       "graph has the &lsquo;<code>name</code>&rsquo; vertex attribute set). The third is\n",
       "&lsquo;<code>W</code>&rsquo; for weighted graphs (i.e. if the\n",
       "&lsquo;<code>weight</code>&rsquo; edge attribute is set). The fourth is\n",
       "&lsquo;<code>B</code>&rsquo; for bipartite graphs (i.e. if the\n",
       "&lsquo;<code>type</code>&rsquo; vertex attribute is set).\n",
       "</p>\n",
       "<p>Then come two numbers, the number of vertices and the number of edges\n",
       "in the graph, and after a double dash, the name of the graph (the\n",
       "&lsquo;<code>name</code>&rsquo; graph attribute) is printed if present. The\n",
       "second line is optional and it contains all the attributes of the\n",
       "graph. This graph has a &lsquo;<code>name</code>&rsquo; graph attribute, of type\n",
       "character, and two other graph attributes called\n",
       "&lsquo;<code>mutual</code>&rsquo; and &lsquo;<code>circular</code>&rsquo;, of a complex\n",
       "type. A complex type is simply anything that is not numeric or\n",
       "character. See the documentation of <code>print.igraph</code> for\n",
       "details.\n",
       "</p>\n",
       "<p>If you want to see the edges of the graph as well, then use the\n",
       "<code>print_all</code> function: </p>\n",
       "<pre>    &gt; print_all(g)\n",
       "    IGRAPH badcafe U--- 10 10 -- Ring graph\n",
       "    + attr: name (g/c), mutual (g/x), circular (g/x)\n",
       "    + edges:\n",
       "     [1] 1-- 2 2-- 3 3-- 4 4-- 5 5-- 6 6-- 7 7-- 8 8-- 9 9--10 1--10 </pre>\n",
       "\n",
       "\n",
       "<h3>Creating graphs</h3>\n",
       "\n",
       "<p>There are many functions in igraph for creating graphs, both\n",
       "deterministic and stochastic; stochastic graph constructors are called\n",
       "&lsquo;games&rsquo;.\n",
       "</p>\n",
       "<p>To create small graphs with a given structure probably the\n",
       "<code>graph_from_literal</code> function is easiest. It uses R's formula\n",
       "interface, its manual page contains many examples. Another option is\n",
       "<code>graph</code>, which takes numeric vertex ids directly.\n",
       "<code>graph.atlas</code> creates graph from the Graph Atlas,\n",
       "<code>make_graph</code> can create some special graphs.\n",
       "</p>\n",
       "<p>To create graphs from field data, <code>graph_from_edgelist</code>,\n",
       "<code>graph_from_data_frame</code> and <code>graph_from_adjacency_matrix</code> are\n",
       "probably the best choices.\n",
       "</p>\n",
       "<p>The igraph package includes some classic random graphs like the\n",
       "Erdos-Renyi GNP and GNM graphs (<code>sample_gnp</code>, <code>sample_gnm</code>) and\n",
       "some recent  popular models, like preferential attachment\n",
       "(<code>sample_pa</code>) and the small-world model\n",
       "(<code>sample_smallworld</code>).\n",
       "</p>\n",
       "\n",
       "\n",
       "<h3>Vertex and edge IDs</h3>\n",
       "\n",
       "<p>Vertices and edges have numerical vertex ids in igraph. Vertex ids are\n",
       "always consecutive and they start with one. I.e. for a graph with\n",
       "<i>n</i> vertices the vertex ids are between <i>1</i> and\n",
       "<i>n</i>. If some operation changes the number of vertices in the\n",
       "graphs, e.g. a subgraph is created via <code>induced_subgraph</code>, then\n",
       "the vertices are renumbered to satisfty this criteria.\n",
       "</p>\n",
       "<p>The same is true for the edges as well, edge ids are always between\n",
       "one and <i>m</i>, the total number of edges in the graph.\n",
       "</p>\n",
       "<p>It is often desirable to follow vertices along a number of graph\n",
       "operations, and vertex ids don't allow this because of the\n",
       "renumbering. The solution is to assign attributes to the\n",
       "vertices. These are kept by all operations, if possible. See more\n",
       "about attributes in the next section.\n",
       "</p>\n",
       "\n",
       "\n",
       "<h3>Attributes</h3>\n",
       "\n",
       "<p>In igraph it is possible to assign attributes to the vertices or edges\n",
       "of a graph, or to the graph itself. igraph provides flexible\n",
       "constructs for selecting a set of vertices or edges based on their\n",
       "attribute values, see <code>vertex_attr</code>,\n",
       "<code>V</code> and <code>E</code> for details.\n",
       "</p>\n",
       "<p>Some vertex/edge/graph attributes are treated specially. One of them\n",
       "is the &lsquo;name&rsquo; attribute. This is used for printing the graph\n",
       "instead of the numerical ids, if it exists. Vertex names can also be\n",
       "used to specify a vector or set of vertices, in all igraph\n",
       "functions. E.g. <code>degree</code> has a <code>v</code> argument\n",
       "that gives the vertices for which the degree is calculated. This\n",
       "argument can be given as a character vector of vertex names.\n",
       "</p>\n",
       "<p>Edges can also have a &lsquo;name&rsquo; attribute, and this is treated\n",
       "specially as well. Just like for vertices, edges can also be selected\n",
       "based on their names, e.g. in the <code>delete_edges</code> and\n",
       "other functions.\n",
       "</p>\n",
       "<p>We note here, that vertex names can also be used to select edges.\n",
       "The form &lsquo;<code>from|to</code>&rsquo;, where &lsquo;<code>from</code>&rsquo; and\n",
       "&lsquo;<code>to</code>&rsquo; are vertex names, select a single, possibly\n",
       "directed, edge going from &lsquo;<code>from</code>&rsquo; to\n",
       "&lsquo;<code>to</code>&rsquo;. The two forms can also be mixed in the same edge\n",
       "selector.\n",
       "</p>\n",
       "<p>Other attributes define visualization parameters, see\n",
       "<code>igraph.plotting</code> for details.\n",
       "</p>\n",
       "<p>Attribute values can be set to any R object, but note that storing the\n",
       "graph in some file formats might result the loss of complex attribute\n",
       "values. All attribute values are preserved if you use\n",
       "<code>save</code> and <code>load</code> to store/retrieve your\n",
       "graphs.\n",
       "</p>\n",
       "\n",
       "\n",
       "<h3>Visualization</h3>\n",
       "\n",
       "<p>igraph provides three different ways for visualization. The first is\n",
       "the <code>plot.igraph</code> function. (Actually you don't need to\n",
       "write <code>plot.igraph</code>, <code>plot</code> is enough. This function uses\n",
       "regular R graphics and can be used with any R device.\n",
       "</p>\n",
       "<p>The second function is <code>tkplot</code>, which uses a Tk GUI for\n",
       "basic interactive graph manipulation. (Tk is quite resource hungry, so\n",
       "don't try this for very large graphs.)\n",
       "</p>\n",
       "<p>The third way requires the <code>rgl</code> package and uses OpenGL. See the\n",
       "<code>rglplot</code> function for the details.\n",
       "</p>\n",
       "<p>Make sure you read <code>igraph.plotting</code> before you start\n",
       "plotting your graphs.\n",
       "</p>\n",
       "\n",
       "\n",
       "<h3>File formats</h3>\n",
       "\n",
       "<p>igraph can handle various graph file formats, usually both for reading\n",
       "and writing. We suggest that you use the GraphML file format for your\n",
       "graphs, except if the graphs are too big. For big graphs a simpler\n",
       "format is recommended. See <code>read_graph</code> and\n",
       "<code>write_graph</code> for details.\n",
       "</p>\n",
       "\n",
       "\n",
       "<h3>Further information</h3>\n",
       "\n",
       "<p>The igraph homepage is at <a href=\"https://igraph.org\">https://igraph.org</a>.\n",
       "See especially the documentation section. Join the igraph-help mailing\n",
       "list if you have questions or comments.\n",
       "</p>\n",
       "\n",
       "<hr /><div style=\"text-align: center;\">[Package <em>igraph</em> version 1.2.6 ]</div>"
      ],
      "text/latex": [
       "\\inputencoding{utf8}\n",
       "\\HeaderA{igraph-package}{The igraph package}{igraph.Rdash.package}\n",
       "\\aliasA{igraph}{igraph-package}{igraph}\n",
       "%\n",
       "\\begin{Description}\\relax\n",
       "igraph is a library and R package for network analysis.\n",
       "\\end{Description}\n",
       "%\n",
       "\\begin{Section}{Introduction}\n",
       "\n",
       "The main goals of the igraph library is to provide a set of data types\n",
       "and functions for 1) pain-free implementation of graph algorithms, 2)\n",
       "fast handling of large graphs, with millions of vertices and edges, 3)\n",
       "allowing rapid prototyping via high level languages like R.\n",
       "\\end{Section}\n",
       "%\n",
       "\\begin{Section}{Igraph graphs}\n",
       "\n",
       "Igraph graphs have a class `\\code{igraph}'. They are printed to\n",
       "the screen in a special format, here is an example, a ring graph\n",
       "created using \\code{\\LinkA{make\\_ring}{make.Rul.ring}}: \\begin{alltt}\n",
       "    IGRAPH U--- 10 10 -- Ring graph\n",
       "    + attr: name (g/c), mutual (g/x), circular (g/x)  \\end{alltt}\n",
       "\n",
       "`\\code{IGRAPH}' denotes that this is an igraph graph. Then\n",
       "come four bits that denote the kind of the graph: the first is\n",
       "`\\code{U}' for undirected and `\\code{D}' for directed\n",
       "graphs. The second is `\\code{N}' for named graph (i.e. if the\n",
       "graph has the `\\code{name}' vertex attribute set). The third is\n",
       "`\\code{W}' for weighted graphs (i.e. if the\n",
       "`\\code{weight}' edge attribute is set). The fourth is\n",
       "`\\code{B}' for bipartite graphs (i.e. if the\n",
       "`\\code{type}' vertex attribute is set).\n",
       "\n",
       "Then come two numbers, the number of vertices and the number of edges\n",
       "in the graph, and after a double dash, the name of the graph (the\n",
       "`\\code{name}' graph attribute) is printed if present. The\n",
       "second line is optional and it contains all the attributes of the\n",
       "graph. This graph has a `\\code{name}' graph attribute, of type\n",
       "character, and two other graph attributes called\n",
       "`\\code{mutual}' and `\\code{circular}', of a complex\n",
       "type. A complex type is simply anything that is not numeric or\n",
       "character. See the documentation of \\code{\\LinkA{print.igraph}{print.igraph}} for\n",
       "details.\n",
       "\n",
       "If you want to see the edges of the graph as well, then use the\n",
       "\\code{\\LinkA{print\\_all}{print.Rul.all}} function: \\begin{alltt}    > print_all(g)\n",
       "    IGRAPH badcafe U--- 10 10 -- Ring graph\n",
       "    + attr: name (g/c), mutual (g/x), circular (g/x)\n",
       "    + edges:\n",
       "     [1] 1-- 2 2-- 3 3-- 4 4-- 5 5-- 6 6-- 7 7-- 8 8-- 9 9--10 1--10 \\end{alltt}\n",
       "\n",
       "\\end{Section}\n",
       "%\n",
       "\\begin{Section}{Creating graphs}\n",
       "\n",
       "There are many functions in igraph for creating graphs, both\n",
       "deterministic and stochastic; stochastic graph constructors are called\n",
       "`games'.\n",
       "\n",
       "To create small graphs with a given structure probably the\n",
       "\\code{\\LinkA{graph\\_from\\_literal}{graph.Rul.from.Rul.literal}} function is easiest. It uses R's formula\n",
       "interface, its manual page contains many examples. Another option is\n",
       "\\code{\\LinkA{graph}{graph}}, which takes numeric vertex ids directly.\n",
       "\\code{\\LinkA{graph.atlas}{graph.atlas}} creates graph from the Graph Atlas,\n",
       "\\code{\\LinkA{make\\_graph}{make.Rul.graph}} can create some special graphs.\n",
       "\n",
       "To create graphs from field data, \\code{\\LinkA{graph\\_from\\_edgelist}{graph.Rul.from.Rul.edgelist}},\n",
       "\\code{\\LinkA{graph\\_from\\_data\\_frame}{graph.Rul.from.Rul.data.Rul.frame}} and \\code{\\LinkA{graph\\_from\\_adjacency\\_matrix}{graph.Rul.from.Rul.adjacency.Rul.matrix}} are\n",
       "probably the best choices.\n",
       "\n",
       "The igraph package includes some classic random graphs like the\n",
       "Erdos-Renyi GNP and GNM graphs (\\code{\\LinkA{sample\\_gnp}{sample.Rul.gnp}}, \\code{\\LinkA{sample\\_gnm}{sample.Rul.gnm}}) and\n",
       "some recent  popular models, like preferential attachment\n",
       "(\\code{\\LinkA{sample\\_pa}{sample.Rul.pa}}) and the small-world model\n",
       "(\\code{\\LinkA{sample\\_smallworld}{sample.Rul.smallworld}}).\n",
       "\\end{Section}\n",
       "%\n",
       "\\begin{Section}{Vertex and edge IDs}\n",
       "\n",
       "Vertices and edges have numerical vertex ids in igraph. Vertex ids are\n",
       "always consecutive and they start with one. I.e. for a graph with\n",
       "\\eqn{n}{} vertices the vertex ids are between \\eqn{1}{} and\n",
       "\\eqn{n}{}. If some operation changes the number of vertices in the\n",
       "graphs, e.g. a subgraph is created via \\code{\\LinkA{induced\\_subgraph}{induced.Rul.subgraph}}, then\n",
       "the vertices are renumbered to satisfty this criteria.\n",
       "\n",
       "The same is true for the edges as well, edge ids are always between\n",
       "one and \\eqn{m}{}, the total number of edges in the graph.\n",
       "\n",
       "It is often desirable to follow vertices along a number of graph\n",
       "operations, and vertex ids don't allow this because of the\n",
       "renumbering. The solution is to assign attributes to the\n",
       "vertices. These are kept by all operations, if possible. See more\n",
       "about attributes in the next section.\n",
       "\\end{Section}\n",
       "%\n",
       "\\begin{Section}{Attributes}\n",
       "\n",
       "In igraph it is possible to assign attributes to the vertices or edges\n",
       "of a graph, or to the graph itself. igraph provides flexible\n",
       "constructs for selecting a set of vertices or edges based on their\n",
       "attribute values, see \\code{\\LinkA{vertex\\_attr}{vertex.Rul.attr}},\n",
       "\\code{\\LinkA{V}{V}} and \\code{\\LinkA{E}{E}} for details.\n",
       "\n",
       "Some vertex/edge/graph attributes are treated specially. One of them\n",
       "is the `name' attribute. This is used for printing the graph\n",
       "instead of the numerical ids, if it exists. Vertex names can also be\n",
       "used to specify a vector or set of vertices, in all igraph\n",
       "functions. E.g. \\code{\\LinkA{degree}{degree}} has a \\code{v} argument\n",
       "that gives the vertices for which the degree is calculated. This\n",
       "argument can be given as a character vector of vertex names.\n",
       "\n",
       "Edges can also have a `name' attribute, and this is treated\n",
       "specially as well. Just like for vertices, edges can also be selected\n",
       "based on their names, e.g. in the \\code{\\LinkA{delete\\_edges}{delete.Rul.edges}} and\n",
       "other functions.\n",
       "\n",
       "We note here, that vertex names can also be used to select edges.\n",
       "The form `\\code{from|to}', where `\\code{from}' and\n",
       "`\\code{to}' are vertex names, select a single, possibly\n",
       "directed, edge going from `\\code{from}' to\n",
       "`\\code{to}'. The two forms can also be mixed in the same edge\n",
       "selector.\n",
       "\n",
       "Other attributes define visualization parameters, see\n",
       "\\code{\\LinkA{igraph.plotting}{igraph.plotting}} for details.\n",
       "\n",
       "Attribute values can be set to any R object, but note that storing the\n",
       "graph in some file formats might result the loss of complex attribute\n",
       "values. All attribute values are preserved if you use\n",
       "\\code{\\LinkA{save}{save}} and \\code{\\LinkA{load}{load}} to store/retrieve your\n",
       "graphs.\n",
       "\\end{Section}\n",
       "%\n",
       "\\begin{Section}{Visualization}\n",
       "\n",
       "igraph provides three different ways for visualization. The first is\n",
       "the \\code{\\LinkA{plot.igraph}{plot.igraph}} function. (Actually you don't need to\n",
       "write \\code{plot.igraph}, \\code{plot} is enough. This function uses\n",
       "regular R graphics and can be used with any R device.\n",
       "\n",
       "The second function is \\code{\\LinkA{tkplot}{tkplot}}, which uses a Tk GUI for\n",
       "basic interactive graph manipulation. (Tk is quite resource hungry, so\n",
       "don't try this for very large graphs.)\n",
       "\n",
       "The third way requires the \\code{rgl} package and uses OpenGL. See the\n",
       "\\code{\\LinkA{rglplot}{rglplot}} function for the details.\n",
       "\n",
       "Make sure you read \\code{\\LinkA{igraph.plotting}{igraph.plotting}} before you start\n",
       "plotting your graphs.\n",
       "\\end{Section}\n",
       "%\n",
       "\\begin{Section}{File formats}\n",
       "\n",
       "igraph can handle various graph file formats, usually both for reading\n",
       "and writing. We suggest that you use the GraphML file format for your\n",
       "graphs, except if the graphs are too big. For big graphs a simpler\n",
       "format is recommended. See \\code{\\LinkA{read\\_graph}{read.Rul.graph}} and\n",
       "\\code{\\LinkA{write\\_graph}{write.Rul.graph}} for details.\n",
       "\\end{Section}\n",
       "%\n",
       "\\begin{Section}{Further information}\n",
       "\n",
       "The igraph homepage is at \\url{https://igraph.org}.\n",
       "See especially the documentation section. Join the igraph-help mailing\n",
       "list if you have questions or comments.\n",
       "\\end{Section}"
      ],
      "text/plain": [
       "igraph-package             package:igraph              R Documentation\n",
       "\n",
       "_\bT_\bh_\be _\bi_\bg_\br_\ba_\bp_\bh _\bp_\ba_\bc_\bk_\ba_\bg_\be\n",
       "\n",
       "_\bD_\be_\bs_\bc_\br_\bi_\bp_\bt_\bi_\bo_\bn:\n",
       "\n",
       "     igraph is a library and R package for network analysis.\n",
       "\n",
       "_\bI_\bn_\bt_\br_\bo_\bd_\bu_\bc_\bt_\bi_\bo_\bn:\n",
       "\n",
       "     The main goals of the igraph library is to provide a set of data\n",
       "     types and functions for 1) pain-free implementation of graph\n",
       "     algorithms, 2) fast handling of large graphs, with millions of\n",
       "     vertices and edges, 3) allowing rapid prototyping via high level\n",
       "     languages like R.\n",
       "\n",
       "_\bI_\bg_\br_\ba_\bp_\bh _\bg_\br_\ba_\bp_\bh_\bs:\n",
       "\n",
       "     Igraph graphs have a class ''igraph''. They are printed to the\n",
       "     screen in a special format, here is an example, a ring graph\n",
       "     created using 'make_ring':\n",
       "     \n",
       "     \n",
       "         IGRAPH U--- 10 10 -- Ring graph\n",
       "         + attr: name (g/c), mutual (g/x), circular (g/x)  \n",
       "\n",
       "     ''IGRAPH'' denotes that this is an igraph graph. Then come four\n",
       "     bits that denote the kind of the graph: the first is ''U'' for\n",
       "     undirected and ''D'' for directed graphs. The second is ''N'' for\n",
       "     named graph (i.e. if the graph has the ''name'' vertex attribute\n",
       "     set). The third is ''W'' for weighted graphs (i.e. if the\n",
       "     ''weight'' edge attribute is set). The fourth is ''B'' for\n",
       "     bipartite graphs (i.e. if the ''type'' vertex attribute is set).\n",
       "\n",
       "     Then come two numbers, the number of vertices and the number of\n",
       "     edges in the graph, and after a double dash, the name of the graph\n",
       "     (the ''name'' graph attribute) is printed if present. The second\n",
       "     line is optional and it contains all the attributes of the graph.\n",
       "     This graph has a ''name'' graph attribute, of type character, and\n",
       "     two other graph attributes called ''mutual'' and ''circular'', of\n",
       "     a complex type. A complex type is simply anything that is not\n",
       "     numeric or character. See the documentation of 'print.igraph' for\n",
       "     details.\n",
       "\n",
       "     If you want to see the edges of the graph as well, then use the\n",
       "     'print_all' function:\n",
       "     \n",
       "         > print_all(g)\n",
       "         IGRAPH badcafe U--- 10 10 -- Ring graph\n",
       "         + attr: name (g/c), mutual (g/x), circular (g/x)\n",
       "         + edges:\n",
       "          [1] 1-- 2 2-- 3 3-- 4 4-- 5 5-- 6 6-- 7 7-- 8 8-- 9 9--10 1--10 \n",
       "\n",
       "_\bC_\br_\be_\ba_\bt_\bi_\bn_\bg _\bg_\br_\ba_\bp_\bh_\bs:\n",
       "\n",
       "     There are many functions in igraph for creating graphs, both\n",
       "     deterministic and stochastic; stochastic graph constructors are\n",
       "     called 'games'.\n",
       "\n",
       "     To create small graphs with a given structure probably the\n",
       "     'graph_from_literal' function is easiest. It uses R's formula\n",
       "     interface, its manual page contains many examples. Another option\n",
       "     is 'graph', which takes numeric vertex ids directly.\n",
       "     'graph.atlas' creates graph from the Graph Atlas, 'make_graph' can\n",
       "     create some special graphs.\n",
       "\n",
       "     To create graphs from field data, 'graph_from_edgelist',\n",
       "     'graph_from_data_frame' and 'graph_from_adjacency_matrix' are\n",
       "     probably the best choices.\n",
       "\n",
       "     The igraph package includes some classic random graphs like the\n",
       "     Erdos-Renyi GNP and GNM graphs ('sample_gnp', 'sample_gnm') and\n",
       "     some recent popular models, like preferential attachment\n",
       "     ('sample_pa') and the small-world model ('sample_smallworld').\n",
       "\n",
       "_\bV_\be_\br_\bt_\be_\bx _\ba_\bn_\bd _\be_\bd_\bg_\be _\bI_\bD_\bs:\n",
       "\n",
       "     Vertices and edges have numerical vertex ids in igraph. Vertex ids\n",
       "     are always consecutive and they start with one. I.e. for a graph\n",
       "     with n vertices the vertex ids are between 1 and n. If some\n",
       "     operation changes the number of vertices in the graphs, e.g. a\n",
       "     subgraph is created via 'induced_subgraph', then the vertices are\n",
       "     renumbered to satisfty this criteria.\n",
       "\n",
       "     The same is true for the edges as well, edge ids are always\n",
       "     between one and m, the total number of edges in the graph.\n",
       "\n",
       "     It is often desirable to follow vertices along a number of graph\n",
       "     operations, and vertex ids don't allow this because of the\n",
       "     renumbering. The solution is to assign attributes to the vertices.\n",
       "     These are kept by all operations, if possible. See more about\n",
       "     attributes in the next section.\n",
       "\n",
       "_\bA_\bt_\bt_\br_\bi_\bb_\bu_\bt_\be_\bs:\n",
       "\n",
       "     In igraph it is possible to assign attributes to the vertices or\n",
       "     edges of a graph, or to the graph itself. igraph provides flexible\n",
       "     constructs for selecting a set of vertices or edges based on their\n",
       "     attribute values, see 'vertex_attr', 'V' and 'E' for details.\n",
       "\n",
       "     Some vertex/edge/graph attributes are treated specially. One of\n",
       "     them is the 'name' attribute. This is used for printing the graph\n",
       "     instead of the numerical ids, if it exists. Vertex names can also\n",
       "     be used to specify a vector or set of vertices, in all igraph\n",
       "     functions. E.g. 'degree' has a 'v' argument that gives the\n",
       "     vertices for which the degree is calculated. This argument can be\n",
       "     given as a character vector of vertex names.\n",
       "\n",
       "     Edges can also have a 'name' attribute, and this is treated\n",
       "     specially as well. Just like for vertices, edges can also be\n",
       "     selected based on their names, e.g. in the 'delete_edges' and\n",
       "     other functions.\n",
       "\n",
       "     We note here, that vertex names can also be used to select edges.\n",
       "     The form ''from|to'', where ''from'' and ''to'' are vertex names,\n",
       "     select a single, possibly directed, edge going from ''from'' to\n",
       "     ''to''. The two forms can also be mixed in the same edge selector.\n",
       "\n",
       "     Other attributes define visualization parameters, see\n",
       "     'igraph.plotting' for details.\n",
       "\n",
       "     Attribute values can be set to any R object, but note that storing\n",
       "     the graph in some file formats might result the loss of complex\n",
       "     attribute values. All attribute values are preserved if you use\n",
       "     'save' and 'load' to store/retrieve your graphs.\n",
       "\n",
       "_\bV_\bi_\bs_\bu_\ba_\bl_\bi_\bz_\ba_\bt_\bi_\bo_\bn:\n",
       "\n",
       "     igraph provides three different ways for visualization. The first\n",
       "     is the 'plot.igraph' function. (Actually you don't need to write\n",
       "     'plot.igraph', 'plot' is enough. This function uses regular R\n",
       "     graphics and can be used with any R device.\n",
       "\n",
       "     The second function is 'tkplot', which uses a Tk GUI for basic\n",
       "     interactive graph manipulation. (Tk is quite resource hungry, so\n",
       "     don't try this for very large graphs.)\n",
       "\n",
       "     The third way requires the 'rgl' package and uses OpenGL. See the\n",
       "     'rglplot' function for the details.\n",
       "\n",
       "     Make sure you read 'igraph.plotting' before you start plotting\n",
       "     your graphs.\n",
       "\n",
       "_\bF_\bi_\bl_\be _\bf_\bo_\br_\bm_\ba_\bt_\bs:\n",
       "\n",
       "     igraph can handle various graph file formats, usually both for\n",
       "     reading and writing. We suggest that you use the GraphML file\n",
       "     format for your graphs, except if the graphs are too big. For big\n",
       "     graphs a simpler format is recommended. See 'read_graph' and\n",
       "     'write_graph' for details.\n",
       "\n",
       "_\bF_\bu_\br_\bt_\bh_\be_\br _\bi_\bn_\bf_\bo_\br_\bm_\ba_\bt_\bi_\bo_\bn:\n",
       "\n",
       "     The igraph homepage is at <URL: https://igraph.org>.  See\n",
       "     especially the documentation section. Join the igraph-help mailing\n",
       "     list if you have questions or comments.\n"
      ]
     },
     "metadata": {},
     "output_type": "display_data"
    }
   ],
   "source": [
    "help(igraph)"
   ]
  },
  {
   "cell_type": "code",
   "execution_count": 7,
   "metadata": {},
   "outputs": [
    {
     "name": "stdout",
     "output_type": "stream",
     "text": [
      "IGRAPH d3b6104 DN-- 5 6 -- \n",
      "+ attr: name (v/c), age (v/n), gender (v/c), same.dept (e/l),\n",
      "| friendship (e/n), advice (e/n)\n",
      "+ edges from d3b6104 (vertex names):\n",
      "[1] Bob      ->Alice Cecil    ->Bob   Cecil    ->Alice David    ->Alice\n",
      "[5] David    ->Bob   Esmeralda->Alice\n"
     ]
    },
    {
     "data": {
      "text/html": [
       "<table>\n",
       "<caption>A data.frame: 5 × 3</caption>\n",
       "<thead>\n",
       "\t<tr><th></th><th scope=col>name</th><th scope=col>age</th><th scope=col>gender</th></tr>\n",
       "\t<tr><th></th><th scope=col>&lt;chr&gt;</th><th scope=col>&lt;dbl&gt;</th><th scope=col>&lt;chr&gt;</th></tr>\n",
       "</thead>\n",
       "<tbody>\n",
       "\t<tr><th scope=row>Alice</th><td>Alice    </td><td>48</td><td>F</td></tr>\n",
       "\t<tr><th scope=row>Bob</th><td>Bob      </td><td>33</td><td>M</td></tr>\n",
       "\t<tr><th scope=row>Cecil</th><td>Cecil    </td><td>45</td><td>F</td></tr>\n",
       "\t<tr><th scope=row>David</th><td>David    </td><td>34</td><td>M</td></tr>\n",
       "\t<tr><th scope=row>Esmeralda</th><td>Esmeralda</td><td>21</td><td>F</td></tr>\n",
       "</tbody>\n",
       "</table>\n"
      ],
      "text/latex": [
       "A data.frame: 5 × 3\n",
       "\\begin{tabular}{r|lll}\n",
       "  & name & age & gender\\\\\n",
       "  & <chr> & <dbl> & <chr>\\\\\n",
       "\\hline\n",
       "\tAlice & Alice     & 48 & F\\\\\n",
       "\tBob & Bob       & 33 & M\\\\\n",
       "\tCecil & Cecil     & 45 & F\\\\\n",
       "\tDavid & David     & 34 & M\\\\\n",
       "\tEsmeralda & Esmeralda & 21 & F\\\\\n",
       "\\end{tabular}\n"
      ],
      "text/markdown": [
       "\n",
       "A data.frame: 5 × 3\n",
       "\n",
       "| <!--/--> | name &lt;chr&gt; | age &lt;dbl&gt; | gender &lt;chr&gt; |\n",
       "|---|---|---|---|\n",
       "| Alice | Alice     | 48 | F |\n",
       "| Bob | Bob       | 33 | M |\n",
       "| Cecil | Cecil     | 45 | F |\n",
       "| David | David     | 34 | M |\n",
       "| Esmeralda | Esmeralda | 21 | F |\n",
       "\n"
      ],
      "text/plain": [
       "          name      age gender\n",
       "Alice     Alice     48  F     \n",
       "Bob       Bob       33  M     \n",
       "Cecil     Cecil     45  F     \n",
       "David     David     34  M     \n",
       "Esmeralda Esmeralda 21  F     "
      ]
     },
     "metadata": {},
     "output_type": "display_data"
    },
    {
     "data": {
      "text/html": [
       "<table>\n",
       "<caption>A data.frame: 6 × 5</caption>\n",
       "<thead>\n",
       "\t<tr><th></th><th scope=col>from</th><th scope=col>to</th><th scope=col>same.dept</th><th scope=col>friendship</th><th scope=col>advice</th></tr>\n",
       "\t<tr><th></th><th scope=col>&lt;chr&gt;</th><th scope=col>&lt;chr&gt;</th><th scope=col>&lt;lgl&gt;</th><th scope=col>&lt;dbl&gt;</th><th scope=col>&lt;dbl&gt;</th></tr>\n",
       "</thead>\n",
       "<tbody>\n",
       "\t<tr><th scope=row>1</th><td>Bob      </td><td>Alice</td><td>FALSE</td><td>4</td><td>4</td></tr>\n",
       "\t<tr><th scope=row>2</th><td>Cecil    </td><td>Bob  </td><td>FALSE</td><td>5</td><td>5</td></tr>\n",
       "\t<tr><th scope=row>3</th><td>Cecil    </td><td>Alice</td><td> TRUE</td><td>5</td><td>5</td></tr>\n",
       "\t<tr><th scope=row>4</th><td>David    </td><td>Alice</td><td>FALSE</td><td>2</td><td>4</td></tr>\n",
       "\t<tr><th scope=row>5</th><td>David    </td><td>Bob  </td><td>FALSE</td><td>1</td><td>2</td></tr>\n",
       "\t<tr><th scope=row>6</th><td>Esmeralda</td><td>Alice</td><td> TRUE</td><td>1</td><td>3</td></tr>\n",
       "</tbody>\n",
       "</table>\n"
      ],
      "text/latex": [
       "A data.frame: 6 × 5\n",
       "\\begin{tabular}{r|lllll}\n",
       "  & from & to & same.dept & friendship & advice\\\\\n",
       "  & <chr> & <chr> & <lgl> & <dbl> & <dbl>\\\\\n",
       "\\hline\n",
       "\t1 & Bob       & Alice & FALSE & 4 & 4\\\\\n",
       "\t2 & Cecil     & Bob   & FALSE & 5 & 5\\\\\n",
       "\t3 & Cecil     & Alice &  TRUE & 5 & 5\\\\\n",
       "\t4 & David     & Alice & FALSE & 2 & 4\\\\\n",
       "\t5 & David     & Bob   & FALSE & 1 & 2\\\\\n",
       "\t6 & Esmeralda & Alice &  TRUE & 1 & 3\\\\\n",
       "\\end{tabular}\n"
      ],
      "text/markdown": [
       "\n",
       "A data.frame: 6 × 5\n",
       "\n",
       "| <!--/--> | from &lt;chr&gt; | to &lt;chr&gt; | same.dept &lt;lgl&gt; | friendship &lt;dbl&gt; | advice &lt;dbl&gt; |\n",
       "|---|---|---|---|---|---|\n",
       "| 1 | Bob       | Alice | FALSE | 4 | 4 |\n",
       "| 2 | Cecil     | Bob   | FALSE | 5 | 5 |\n",
       "| 3 | Cecil     | Alice |  TRUE | 5 | 5 |\n",
       "| 4 | David     | Alice | FALSE | 2 | 4 |\n",
       "| 5 | David     | Bob   | FALSE | 1 | 2 |\n",
       "| 6 | Esmeralda | Alice |  TRUE | 1 | 3 |\n",
       "\n"
      ],
      "text/plain": [
       "  from      to    same.dept friendship advice\n",
       "1 Bob       Alice FALSE     4          4     \n",
       "2 Cecil     Bob   FALSE     5          5     \n",
       "3 Cecil     Alice  TRUE     5          5     \n",
       "4 David     Alice FALSE     2          4     \n",
       "5 David     Bob   FALSE     1          2     \n",
       "6 Esmeralda Alice  TRUE     1          3     "
      ]
     },
     "metadata": {},
     "output_type": "display_data"
    },
    {
     "data": {
      "image/png": "[encoded data removed]",
      "text/plain": [
       "Plot with title \"\""
      ]
     },
     "metadata": {
      "image/png": {
       "height": 500,
       "width": 700
      }
     },
     "output_type": "display_data"
    }
   ],
   "source": [
    "actors <- data.frame(name=c(\"Alice\", \"Bob\", \"Cecil\", \"David\",\n",
    "                            \"Esmeralda\"),\n",
    "                     age=c(48,33,45,34,21),\n",
    "                     gender=c(\"F\",\"M\",\"F\",\"M\",\"F\"))\n",
    "relations <- data.frame(from=c(\"Bob\", \"Cecil\", \"Cecil\", \"David\",\n",
    "                               \"David\", \"Esmeralda\"),\n",
    "                        to=c(\"Alice\", \"Bob\", \"Alice\", \"Alice\", \"Bob\", \"Alice\"),\n",
    "                        same.dept=c(FALSE,FALSE,TRUE,FALSE,FALSE,TRUE),\n",
    "                        friendship=c(4,5,5,2,1,1), advice=c(4,5,5,4,2,3))\n",
    "g <- graph_from_data_frame(relations, directed=TRUE, vertices=actors)\n",
    "print(g, e=TRUE, v=TRUE)\n",
    "\n",
    "plot(g)\n",
    "\n",
    "## The opposite operation\n",
    "as_data_frame(g, what=\"vertices\")\n",
    "as_data_frame(g, what=\"edges\")\n"
   ]
  },
  {
   "cell_type": "code",
   "execution_count": 8,
   "metadata": {},
   "outputs": [
    {
     "data": {
      "image/png": "[encoded data removed]",
      "text/plain": [
       "Plot with title \"\""
      ]
     },
     "metadata": {
      "image/png": {
       "height": 500,
       "width": 700
      }
     },
     "output_type": "display_data"
    }
   ],
   "source": [
    "relations <- data.frame(from=c(1,1,2),\n",
    "                        to=c(2,3,3)\n",
    "                        )\n",
    "g <- graph_from_data_frame(relations, directed=FALSE)\n",
    "plot(g)"
   ]
  },
  {
   "cell_type": "code",
   "execution_count": 9,
   "metadata": {},
   "outputs": [
    {
     "name": "stderr",
     "output_type": "stream",
     "text": [
      "\n",
      "Attaching package: 'tidyr'\n",
      "\n",
      "\n",
      "The following object is masked from 'package:igraph':\n",
      "\n",
      "    crossing\n",
      "\n",
      "\n"
     ]
    },
    {
     "data": {
      "text/html": [
       "<table>\n",
       "<caption>A data.frame: 9 × 2</caption>\n",
       "<thead>\n",
       "\t<tr><th scope=col>Var1</th><th scope=col>Var2</th></tr>\n",
       "\t<tr><th scope=col>&lt;dbl&gt;</th><th scope=col>&lt;dbl&gt;</th></tr>\n",
       "</thead>\n",
       "<tbody>\n",
       "\t<tr><td>1</td><td>1</td></tr>\n",
       "\t<tr><td>2</td><td>1</td></tr>\n",
       "\t<tr><td>3</td><td>1</td></tr>\n",
       "\t<tr><td>1</td><td>2</td></tr>\n",
       "\t<tr><td>2</td><td>2</td></tr>\n",
       "\t<tr><td>3</td><td>2</td></tr>\n",
       "\t<tr><td>1</td><td>3</td></tr>\n",
       "\t<tr><td>2</td><td>3</td></tr>\n",
       "\t<tr><td>3</td><td>3</td></tr>\n",
       "</tbody>\n",
       "</table>\n"
      ],
      "text/latex": [
       "A data.frame: 9 × 2\n",
       "\\begin{tabular}{ll}\n",
       " Var1 & Var2\\\\\n",
       " <dbl> & <dbl>\\\\\n",
       "\\hline\n",
       "\t 1 & 1\\\\\n",
       "\t 2 & 1\\\\\n",
       "\t 3 & 1\\\\\n",
       "\t 1 & 2\\\\\n",
       "\t 2 & 2\\\\\n",
       "\t 3 & 2\\\\\n",
       "\t 1 & 3\\\\\n",
       "\t 2 & 3\\\\\n",
       "\t 3 & 3\\\\\n",
       "\\end{tabular}\n"
      ],
      "text/markdown": [
       "\n",
       "A data.frame: 9 × 2\n",
       "\n",
       "| Var1 &lt;dbl&gt; | Var2 &lt;dbl&gt; |\n",
       "|---|---|\n",
       "| 1 | 1 |\n",
       "| 2 | 1 |\n",
       "| 3 | 1 |\n",
       "| 1 | 2 |\n",
       "| 2 | 2 |\n",
       "| 3 | 2 |\n",
       "| 1 | 3 |\n",
       "| 2 | 3 |\n",
       "| 3 | 3 |\n",
       "\n"
      ],
      "text/plain": [
       "  Var1 Var2\n",
       "1 1    1   \n",
       "2 2    1   \n",
       "3 3    1   \n",
       "4 1    2   \n",
       "5 2    2   \n",
       "6 3    2   \n",
       "7 1    3   \n",
       "8 2    3   \n",
       "9 3    3   "
      ]
     },
     "metadata": {},
     "output_type": "display_data"
    }
   ],
   "source": [
    "library(tidyr)\n",
    "\n",
    "expand.grid(c(1,2,3), c(1,2,3))"
   ]
  },
  {
   "cell_type": "code",
   "execution_count": 10,
   "metadata": {},
   "outputs": [
    {
     "name": "stderr",
     "output_type": "stream",
     "text": [
      "\n",
      "Attaching package: 'gtools'\n",
      "\n",
      "\n",
      "The following object is masked from 'package:igraph':\n",
      "\n",
      "    permute\n",
      "\n",
      "\n"
     ]
    },
    {
     "data": {
      "text/html": [
       "\n",
       "<table width=\"100%\" summary=\"page for combinations {gtools}\"><tr><td>combinations {gtools}</td><td style=\"text-align: right;\">R Documentation</td></tr></table>\n",
       "\n",
       "<h2>Enumerate the Combinations or Permutations of the Elements of a Vector</h2>\n",
       "\n",
       "<h3>Description</h3>\n",
       "\n",
       "<p><code>combinations</code> enumerates the possible combinations of a\n",
       "specified size from the elements of a vector.  <code>permutations</code>\n",
       "enumerates the possible permutations.\n",
       "</p>\n",
       "\n",
       "\n",
       "<h3>Usage</h3>\n",
       "\n",
       "<pre>\n",
       "combinations(n, r, v=1:n, set=TRUE, repeats.allowed=FALSE)\n",
       "permutations(n, r, v=1:n, set=TRUE, repeats.allowed=FALSE)\n",
       "</pre>\n",
       "\n",
       "\n",
       "<h3>Arguments</h3>\n",
       "\n",
       "<table summary=\"R argblock\">\n",
       "<tr valign=\"top\"><td><code>n</code></td>\n",
       "<td>\n",
       "<p> Size of the source vector </p>\n",
       "</td></tr>\n",
       "<tr valign=\"top\"><td><code>r</code></td>\n",
       "<td>\n",
       "<p> Size of the target vectors </p>\n",
       "</td></tr>\n",
       "<tr valign=\"top\"><td><code>v</code></td>\n",
       "<td>\n",
       "<p> Source vector. Defaults to <code>1:n</code></p>\n",
       "</td></tr>\n",
       "<tr valign=\"top\"><td><code>set</code></td>\n",
       "<td>\n",
       "<p> Logical flag indicating whether duplicates should be\n",
       "removed from the source vector <code>v</code>. Defaults to <code>TRUE</code>.</p>\n",
       "</td></tr>\n",
       "<tr valign=\"top\"><td><code>repeats.allowed</code></td>\n",
       "<td>\n",
       "<p> Logical flag indicating whether the\n",
       "constructed vectors may include duplicated values.  Defaults to\n",
       "<code>FALSE</code>.  </p>\n",
       "</td></tr>\n",
       "</table>\n",
       "\n",
       "\n",
       "<h3>Details</h3>\n",
       "\n",
       "<p>Caution: The number of combinations and permutations increases rapidly\n",
       "with <code>n</code> and <code>r</code>!.\n",
       "</p>\n",
       "<p>To use values of <code>n</code> above about 45, you will need to increase\n",
       "R's recursion limit.  See the <code>expression</code> argument to the\n",
       "<code>options</code> command for details on how to do this.\n",
       "</p>\n",
       "\n",
       "\n",
       "<h3>Value</h3>\n",
       "\n",
       "<p>Returns a matrix where each row contains a vector of length <code>r</code>.\n",
       "</p>\n",
       "\n",
       "\n",
       "<h3>Author(s)</h3>\n",
       "\n",
       "<p> Original versions by Bill Venables\n",
       "<a href=\"mailto:Bill.Venables@cmis.csiro.au\">Bill.Venables@cmis.csiro.au</a>.  Extended to handle\n",
       "<code>repeats.allowed</code> by Gregory R. Warnes\n",
       "<a href=\"mailto:greg@warnes.net\">greg@warnes.net</a>.\n",
       "</p>\n",
       "\n",
       "\n",
       "<h3>References</h3>\n",
       "\n",
       "<p>Venables, Bill.  &quot;Programmers Note&quot;, R-News, Vol 1/1,\n",
       "Jan. 2001. <a href=\"https://cran.r-project.org/doc/Rnews/\">https://cran.r-project.org/doc/Rnews/</a> </p>\n",
       "\n",
       "\n",
       "<h3>See Also</h3>\n",
       "\n",
       " <p><code>choose</code>, <code>options</code> </p>\n",
       "\n",
       "\n",
       "<h3>Examples</h3>\n",
       "\n",
       "<pre>\n",
       "combinations(3,2,letters[1:3])\n",
       "combinations(3,2,letters[1:3],repeats=TRUE)\n",
       "\n",
       "permutations(3,2,letters[1:3])\n",
       "permutations(3,2,letters[1:3],repeats=TRUE)\n",
       "\n",
       "# To use large 'n', you need to change the default recusion limit\n",
       "options(expressions=1e5)\n",
       "cmat &lt;- combinations(300,2)\n",
       "dim(cmat) # 44850 by 2\n",
       "</pre>\n",
       "\n",
       "<hr /><div style=\"text-align: center;\">[Package <em>gtools</em> version 3.8.2 ]</div>"
      ],
      "text/latex": [
       "\\inputencoding{utf8}\n",
       "\\HeaderA{combinations}{Enumerate the Combinations or Permutations of the Elements of a Vector}{combinations}\n",
       "\\aliasA{permutations}{combinations}{permutations}\n",
       "\\keyword{manip}{combinations}\n",
       "%\n",
       "\\begin{Description}\\relax\n",
       "\\code{combinations} enumerates the possible combinations of a\n",
       "specified size from the elements of a vector.  \\code{permutations}\n",
       "enumerates the possible permutations.\n",
       "\\end{Description}\n",
       "%\n",
       "\\begin{Usage}\n",
       "\\begin{verbatim}\n",
       "combinations(n, r, v=1:n, set=TRUE, repeats.allowed=FALSE)\n",
       "permutations(n, r, v=1:n, set=TRUE, repeats.allowed=FALSE)\n",
       "\\end{verbatim}\n",
       "\\end{Usage}\n",
       "%\n",
       "\\begin{Arguments}\n",
       "\\begin{ldescription}\n",
       "\\item[\\code{n}]  Size of the source vector \n",
       "\\item[\\code{r}]  Size of the target vectors \n",
       "\\item[\\code{v}]  Source vector. Defaults to \\code{1:n}\n",
       "\\item[\\code{set}]  Logical flag indicating whether duplicates should be\n",
       "removed from the source vector \\code{v}. Defaults to \\code{TRUE}.\n",
       "\\item[\\code{repeats.allowed}]  Logical flag indicating whether the\n",
       "constructed vectors may include duplicated values.  Defaults to\n",
       "\\code{FALSE}.  \n",
       "\\end{ldescription}\n",
       "\\end{Arguments}\n",
       "%\n",
       "\\begin{Details}\\relax\n",
       "Caution: The number of combinations and permutations increases rapidly\n",
       "with \\code{n} and \\code{r}!.\n",
       "\n",
       "To use values of \\code{n} above about 45, you will need to increase\n",
       "R's recursion limit.  See the \\code{expression} argument to the\n",
       "\\code{options} command for details on how to do this.\n",
       "\\end{Details}\n",
       "%\n",
       "\\begin{Value}\n",
       "Returns a matrix where each row contains a vector of length \\code{r}.\n",
       "\\end{Value}\n",
       "%\n",
       "\\begin{Author}\\relax\n",
       " Original versions by Bill Venables\n",
       "\\email{Bill.Venables@cmis.csiro.au}.  Extended to handle\n",
       "\\code{repeats.allowed} by Gregory R. Warnes\n",
       "\\email{greg@warnes.net}.\n",
       "\n",
       "\\end{Author}\n",
       "%\n",
       "\\begin{References}\\relax\n",
       "Venables, Bill.  \"Programmers Note\", R-News, Vol 1/1,\n",
       "Jan. 2001. \\url{https://cran.r-project.org/doc/Rnews/} \n",
       "\\end{References}\n",
       "%\n",
       "\\begin{SeeAlso}\\relax\n",
       " \\code{\\LinkA{choose}{choose}}, \\code{\\LinkA{options}{options}} \n",
       "\\end{SeeAlso}\n",
       "%\n",
       "\\begin{Examples}\n",
       "\\begin{ExampleCode}\n",
       "combinations(3,2,letters[1:3])\n",
       "combinations(3,2,letters[1:3],repeats=TRUE)\n",
       "\n",
       "permutations(3,2,letters[1:3])\n",
       "permutations(3,2,letters[1:3],repeats=TRUE)\n",
       "\n",
       "# To use large 'n', you need to change the default recusion limit\n",
       "options(expressions=1e5)\n",
       "cmat <- combinations(300,2)\n",
       "dim(cmat) # 44850 by 2\n",
       "\\end{ExampleCode}\n",
       "\\end{Examples}"
      ],
      "text/plain": [
       "combinations              package:gtools               R Documentation\n",
       "\n",
       "_\bE_\bn_\bu_\bm_\be_\br_\ba_\bt_\be _\bt_\bh_\be _\bC_\bo_\bm_\bb_\bi_\bn_\ba_\bt_\bi_\bo_\bn_\bs _\bo_\br _\bP_\be_\br_\bm_\bu_\bt_\ba_\bt_\bi_\bo_\bn_\bs _\bo_\bf _\bt_\bh_\be _\bE_\bl_\be_\bm_\be_\bn_\bt_\bs _\bo_\bf _\ba _\bV_\be_\bc_\bt_\bo_\br\n",
       "\n",
       "_\bD_\be_\bs_\bc_\br_\bi_\bp_\bt_\bi_\bo_\bn:\n",
       "\n",
       "     'combinations' enumerates the possible combinations of a specified\n",
       "     size from the elements of a vector.  'permutations' enumerates the\n",
       "     possible permutations.\n",
       "\n",
       "_\bU_\bs_\ba_\bg_\be:\n",
       "\n",
       "     combinations(n, r, v=1:n, set=TRUE, repeats.allowed=FALSE)\n",
       "     permutations(n, r, v=1:n, set=TRUE, repeats.allowed=FALSE)\n",
       "     \n",
       "_\bA_\br_\bg_\bu_\bm_\be_\bn_\bt_\bs:\n",
       "\n",
       "       n: Size of the source vector\n",
       "\n",
       "       r: Size of the target vectors\n",
       "\n",
       "       v: Source vector. Defaults to '1:n'\n",
       "\n",
       "     set: Logical flag indicating whether duplicates should be removed\n",
       "          from the source vector 'v'. Defaults to 'TRUE'.\n",
       "\n",
       "repeats.allowed: Logical flag indicating whether the constructed\n",
       "          vectors may include duplicated values.  Defaults to 'FALSE'.\n",
       "\n",
       "_\bD_\be_\bt_\ba_\bi_\bl_\bs:\n",
       "\n",
       "     Caution: The number of combinations and permutations increases\n",
       "     rapidly with 'n' and 'r'!.\n",
       "\n",
       "     To use values of 'n' above about 45, you will need to increase R's\n",
       "     recursion limit.  See the 'expression' argument to the 'options'\n",
       "     command for details on how to do this.\n",
       "\n",
       "_\bV_\ba_\bl_\bu_\be:\n",
       "\n",
       "     Returns a matrix where each row contains a vector of length 'r'.\n",
       "\n",
       "_\bA_\bu_\bt_\bh_\bo_\br(_\bs):\n",
       "\n",
       "     Original versions by Bill Venables <email:\n",
       "     Bill.Venables@cmis.csiro.au>.  Extended to handle\n",
       "     'repeats.allowed' by Gregory R. Warnes <email: greg@warnes.net>.\n",
       "\n",
       "_\bR_\be_\bf_\be_\br_\be_\bn_\bc_\be_\bs:\n",
       "\n",
       "     Venables, Bill.  \"Programmers Note\", R-News, Vol 1/1, Jan. 2001.\n",
       "     <URL: https://cran.r-project.org/doc/Rnews/>\n",
       "\n",
       "_\bS_\be_\be _\bA_\bl_\bs_\bo:\n",
       "\n",
       "     'choose', 'options'\n",
       "\n",
       "_\bE_\bx_\ba_\bm_\bp_\bl_\be_\bs:\n",
       "\n",
       "     combinations(3,2,letters[1:3])\n",
       "     combinations(3,2,letters[1:3],repeats=TRUE)\n",
       "     \n",
       "     permutations(3,2,letters[1:3])\n",
       "     permutations(3,2,letters[1:3],repeats=TRUE)\n",
       "     \n",
       "     # To use large 'n', you need to change the default recusion limit\n",
       "     options(expressions=1e5)\n",
       "     cmat <- combinations(300,2)\n",
       "     dim(cmat) # 44850 by 2\n",
       "     "
      ]
     },
     "metadata": {},
     "output_type": "display_data"
    }
   ],
   "source": [
    "library(gtools)\n",
    "help(combinations)"
   ]
  },
  {
   "cell_type": "code",
   "execution_count": 11,
   "metadata": {},
   "outputs": [
    {
     "data": {
      "text/html": [
       "<table>\n",
       "<caption>A matrix: 1 × 3 of type dbl</caption>\n",
       "<tbody>\n",
       "\t<tr><td>1</td><td>2</td><td>3</td></tr>\n",
       "</tbody>\n",
       "</table>\n"
      ],
      "text/latex": [
       "A matrix: 1 × 3 of type dbl\n",
       "\\begin{tabular}{lll}\n",
       "\t 1 & 2 & 3\\\\\n",
       "\\end{tabular}\n"
      ],
      "text/markdown": [
       "\n",
       "A matrix: 1 × 3 of type dbl\n",
       "\n",
       "| 1 | 2 | 3 |\n",
       "\n"
      ],
      "text/plain": [
       "     [,1] [,2] [,3]\n",
       "[1,] 1    2    3   "
      ]
     },
     "metadata": {},
     "output_type": "display_data"
    }
   ],
   "source": [
    "combinations(n=3,r=3, v=c(1,2,3), repeats.allowed=FALSE)"
   ]
  },
  {
   "cell_type": "code",
   "execution_count": 12,
   "metadata": {},
   "outputs": [
    {
     "data": {
      "text/html": [
       "<table>\n",
       "<caption>A matrix: 2 × 3 of type dbl</caption>\n",
       "<tbody>\n",
       "\t<tr><td>1</td><td>1</td><td>2</td></tr>\n",
       "\t<tr><td>2</td><td>3</td><td>3</td></tr>\n",
       "</tbody>\n",
       "</table>\n"
      ],
      "text/latex": [
       "A matrix: 2 × 3 of type dbl\n",
       "\\begin{tabular}{lll}\n",
       "\t 1 & 1 & 2\\\\\n",
       "\t 2 & 3 & 3\\\\\n",
       "\\end{tabular}\n"
      ],
      "text/markdown": [
       "\n",
       "A matrix: 2 × 3 of type dbl\n",
       "\n",
       "| 1 | 1 | 2 |\n",
       "| 2 | 3 | 3 |\n",
       "\n"
      ],
      "text/plain": [
       "     [,1] [,2] [,3]\n",
       "[1,] 1    1    2   \n",
       "[2,] 2    3    3   "
      ]
     },
     "metadata": {},
     "output_type": "display_data"
    },
    {
     "data": {
      "text/html": [
       "<style>\n",
       ".list-inline {list-style: none; margin:0; padding: 0}\n",
       ".list-inline>li {display: inline-block}\n",
       ".list-inline>li:not(:last-child)::after {content: \"\\00b7\"; padding: 0 .5ex}\n",
       "</style>\n",
       "<ol class=list-inline><li>1</li><li>2</li></ol>\n"
      ],
      "text/latex": [
       "\\begin{enumerate*}\n",
       "\\item 1\n",
       "\\item 2\n",
       "\\end{enumerate*}\n"
      ],
      "text/markdown": [
       "1. 1\n",
       "2. 2\n",
       "\n",
       "\n"
      ],
      "text/plain": [
       "[1] 1 2"
      ]
     },
     "metadata": {},
     "output_type": "display_data"
    }
   ],
   "source": [
    "library(utils)\n",
    "\n",
    "m = combn(c(1,2,3),2)\n",
    "m\n",
    "m[,1]"
   ]
  },
  {
   "cell_type": "code",
   "execution_count": 13,
   "metadata": {},
   "outputs": [
    {
     "data": {
      "text/html": [
       "<table>\n",
       "<caption>A matrix: 2 × 36 of type dbl</caption>\n",
       "<tbody>\n",
       "\t<tr><td>1</td><td>1</td><td>1</td><td>1</td><td>1</td><td>1</td><td>1</td><td>1</td><td>2</td><td>2</td><td>⋯</td><td>5</td><td>5</td><td>5</td><td>5</td><td>6</td><td>6</td><td>6</td><td>7</td><td>7</td><td>8</td></tr>\n",
       "\t<tr><td>2</td><td>3</td><td>4</td><td>5</td><td>6</td><td>7</td><td>8</td><td>9</td><td>3</td><td>4</td><td>⋯</td><td>6</td><td>7</td><td>8</td><td>9</td><td>7</td><td>8</td><td>9</td><td>8</td><td>9</td><td>9</td></tr>\n",
       "</tbody>\n",
       "</table>\n"
      ],
      "text/latex": [
       "A matrix: 2 × 36 of type dbl\n",
       "\\begin{tabular}{lllllllllllllllllllll}\n",
       "\t 1 & 1 & 1 & 1 & 1 & 1 & 1 & 1 & 2 & 2 & ⋯ & 5 & 5 & 5 & 5 & 6 & 6 & 6 & 7 & 7 & 8\\\\\n",
       "\t 2 & 3 & 4 & 5 & 6 & 7 & 8 & 9 & 3 & 4 & ⋯ & 6 & 7 & 8 & 9 & 7 & 8 & 9 & 8 & 9 & 9\\\\\n",
       "\\end{tabular}\n"
      ],
      "text/markdown": [
       "\n",
       "A matrix: 2 × 36 of type dbl\n",
       "\n",
       "| 1 | 1 | 1 | 1 | 1 | 1 | 1 | 1 | 2 | 2 | ⋯ | 5 | 5 | 5 | 5 | 6 | 6 | 6 | 7 | 7 | 8 |\n",
       "| 2 | 3 | 4 | 5 | 6 | 7 | 8 | 9 | 3 | 4 | ⋯ | 6 | 7 | 8 | 9 | 7 | 8 | 9 | 8 | 9 | 9 |\n",
       "\n"
      ],
      "text/plain": [
       "     [,1] [,2] [,3] [,4] [,5] [,6] [,7] [,8] [,9] [,10] [,11] [,12] [,13] [,14]\n",
       "[1,] 1    1    1    1    1    1    1    1    2    2     <U+22EF> 5     5     5    \n",
       "[2,] 2    3    4    5    6    7    8    9    3    4     <U+22EF> 6     7     8    \n",
       "     [,15] [,16] [,17] [,18] [,19] [,20] [,21]\n",
       "[1,] 5     6     6     6     7     7     8    \n",
       "[2,] 9     7     8     9     8     9     9    "
      ]
     },
     "metadata": {},
     "output_type": "display_data"
    },
    {
     "data": {
      "text/html": [
       "<style>\n",
       ".list-inline {list-style: none; margin:0; padding: 0}\n",
       ".list-inline>li {display: inline-block}\n",
       ".list-inline>li:not(:last-child)::after {content: \"\\00b7\"; padding: 0 .5ex}\n",
       "</style>\n",
       "<ol class=list-inline><li>1</li><li>2</li></ol>\n"
      ],
      "text/latex": [
       "\\begin{enumerate*}\n",
       "\\item 1\n",
       "\\item 2\n",
       "\\end{enumerate*}\n"
      ],
      "text/markdown": [
       "1. 1\n",
       "2. 2\n",
       "\n",
       "\n"
      ],
      "text/plain": [
       "[1] 1 2"
      ]
     },
     "metadata": {},
     "output_type": "display_data"
    }
   ],
   "source": [
    "m = combn(c(1,2,3,4,5,6,7,8,9),2)\n",
    "m\n",
    "m[,1]"
   ]
  },
  {
   "cell_type": "code",
   "execution_count": 14,
   "metadata": {},
   "outputs": [
    {
     "data": {
      "image/png": "[encoded data removed]",
      "text/plain": [
       "Plot with title \"\""
      ]
     },
     "metadata": {
      "image/png": {
       "height": 500,
       "width": 700
      }
     },
     "output_type": "display_data"
    }
   ],
   "source": [
    "relations <- data.frame(from=m[1,],\n",
    "                        to=m[2,]\n",
    "                        )\n",
    "g <- graph_from_data_frame(relations, directed=FALSE)\n",
    "plot(g)"
   ]
  },
  {
   "cell_type": "code",
   "execution_count": 15,
   "metadata": {},
   "outputs": [],
   "source": [
    "m1 = combn(c(1,2,3,4,5,6,7,8,9),2)\n",
    "m2 = combn(c(20,21,22),2)\n",
    "m3 = combn(c(1,21),2)\n",
    "m4 = combn(c(1,21),2)\n",
    "m5 = combn(c(1,21),2)\n",
    "m = cbind(m1,m2)\n",
    "m = cbind(m,m3)\n",
    "m = cbind(m,m4)\n",
    "m = cbind(m,m5)"
   ]
  },
  {
   "cell_type": "code",
   "execution_count": 16,
   "metadata": {},
   "outputs": [
    {
     "data": {
      "image/png": "[encoded data removed]",
      "text/plain": [
       "Plot with title \"\""
      ]
     },
     "metadata": {
      "image/png": {
       "height": 500,
       "width": 700
      }
     },
     "output_type": "display_data"
    }
   ],
   "source": [
    "relations <- data.frame(from=m[1,],\n",
    "                        to=m[2,]\n",
    "                        )\n",
    "g <- graph_from_data_frame(relations, directed=FALSE)\n",
    "plot(g)"
   ]
  },
  {
   "cell_type": "code",
   "execution_count": null,
   "metadata": {},
   "outputs": [],
   "source": []
  },
  {
   "cell_type": "code",
   "execution_count": null,
   "metadata": {},
   "outputs": [],
   "source": []
  },
  {
   "cell_type": "code",
   "execution_count": 17,
   "metadata": {},
   "outputs": [],
   "source": [
    "names = data.frame(nconst=c(\"t1\",\"t2\",\"t3\"), knownForTitles1=c(\"a1\", \"a2\", \"a3\"), knownForTitles2=c(\"a2\", \"a4\", \"a1\"), knownForTitles3=c(\"a3\", \"a3\", \"a2\"))"
   ]
  },
  {
   "cell_type": "code",
   "execution_count": 18,
   "metadata": {},
   "outputs": [],
   "source": [
    "df = data.frame(nconst=rep(names$nconst, times=3), knownForTitles=NA)"
   ]
  },
  {
   "cell_type": "code",
   "execution_count": 19,
   "metadata": {},
   "outputs": [
    {
     "data": {
      "text/html": [
       "<table>\n",
       "<caption>A data.frame: 9 × 2</caption>\n",
       "<thead>\n",
       "\t<tr><th scope=col>nconst</th><th scope=col>knownForTitles</th></tr>\n",
       "\t<tr><th scope=col>&lt;fct&gt;</th><th scope=col>&lt;lgl&gt;</th></tr>\n",
       "</thead>\n",
       "<tbody>\n",
       "\t<tr><td>t1</td><td>NA</td></tr>\n",
       "\t<tr><td>t2</td><td>NA</td></tr>\n",
       "\t<tr><td>t3</td><td>NA</td></tr>\n",
       "\t<tr><td>t1</td><td>NA</td></tr>\n",
       "\t<tr><td>t2</td><td>NA</td></tr>\n",
       "\t<tr><td>t3</td><td>NA</td></tr>\n",
       "\t<tr><td>t1</td><td>NA</td></tr>\n",
       "\t<tr><td>t2</td><td>NA</td></tr>\n",
       "\t<tr><td>t3</td><td>NA</td></tr>\n",
       "</tbody>\n",
       "</table>\n"
      ],
      "text/latex": [
       "A data.frame: 9 × 2\n",
       "\\begin{tabular}{ll}\n",
       " nconst & knownForTitles\\\\\n",
       " <fct> & <lgl>\\\\\n",
       "\\hline\n",
       "\t t1 & NA\\\\\n",
       "\t t2 & NA\\\\\n",
       "\t t3 & NA\\\\\n",
       "\t t1 & NA\\\\\n",
       "\t t2 & NA\\\\\n",
       "\t t3 & NA\\\\\n",
       "\t t1 & NA\\\\\n",
       "\t t2 & NA\\\\\n",
       "\t t3 & NA\\\\\n",
       "\\end{tabular}\n"
      ],
      "text/markdown": [
       "\n",
       "A data.frame: 9 × 2\n",
       "\n",
       "| nconst &lt;fct&gt; | knownForTitles &lt;lgl&gt; |\n",
       "|---|---|\n",
       "| t1 | NA |\n",
       "| t2 | NA |\n",
       "| t3 | NA |\n",
       "| t1 | NA |\n",
       "| t2 | NA |\n",
       "| t3 | NA |\n",
       "| t1 | NA |\n",
       "| t2 | NA |\n",
       "| t3 | NA |\n",
       "\n"
      ],
      "text/plain": [
       "  nconst knownForTitles\n",
       "1 t1     NA            \n",
       "2 t2     NA            \n",
       "3 t3     NA            \n",
       "4 t1     NA            \n",
       "5 t2     NA            \n",
       "6 t3     NA            \n",
       "7 t1     NA            \n",
       "8 t2     NA            \n",
       "9 t3     NA            "
      ]
     },
     "metadata": {},
     "output_type": "display_data"
    }
   ],
   "source": [
    "df"
   ]
  },
  {
   "cell_type": "code",
   "execution_count": 20,
   "metadata": {},
   "outputs": [],
   "source": [
    "knownForTitles = c()\n",
    "for( col in names[,-1]){\n",
    "   col=as.vector(col)\n",
    "   knownForTitles = c(knownForTitles, col)\n",
    "}\n"
   ]
  },
  {
   "cell_type": "code",
   "execution_count": 21,
   "metadata": {},
   "outputs": [
    {
     "data": {
      "text/html": [
       "'character'"
      ],
      "text/latex": [
       "'character'"
      ],
      "text/markdown": [
       "'character'"
      ],
      "text/plain": [
       "[1] \"character\""
      ]
     },
     "metadata": {},
     "output_type": "display_data"
    }
   ],
   "source": [
    "class(knownForTitles)"
   ]
  },
  {
   "cell_type": "code",
   "execution_count": 22,
   "metadata": {},
   "outputs": [],
   "source": [
    "df$knownForTitles = knownForTitles"
   ]
  },
  {
   "cell_type": "code",
   "execution_count": 23,
   "metadata": {},
   "outputs": [
    {
     "data": {
      "text/html": [
       "<table>\n",
       "<caption>A data.frame: 9 × 2</caption>\n",
       "<thead>\n",
       "\t<tr><th scope=col>nconst</th><th scope=col>knownForTitles</th></tr>\n",
       "\t<tr><th scope=col>&lt;fct&gt;</th><th scope=col>&lt;chr&gt;</th></tr>\n",
       "</thead>\n",
       "<tbody>\n",
       "\t<tr><td>t1</td><td>a1</td></tr>\n",
       "\t<tr><td>t2</td><td>a2</td></tr>\n",
       "\t<tr><td>t3</td><td>a3</td></tr>\n",
       "\t<tr><td>t1</td><td>a2</td></tr>\n",
       "\t<tr><td>t2</td><td>a4</td></tr>\n",
       "\t<tr><td>t3</td><td>a1</td></tr>\n",
       "\t<tr><td>t1</td><td>a3</td></tr>\n",
       "\t<tr><td>t2</td><td>a3</td></tr>\n",
       "\t<tr><td>t3</td><td>a2</td></tr>\n",
       "</tbody>\n",
       "</table>\n"
      ],
      "text/latex": [
       "A data.frame: 9 × 2\n",
       "\\begin{tabular}{ll}\n",
       " nconst & knownForTitles\\\\\n",
       " <fct> & <chr>\\\\\n",
       "\\hline\n",
       "\t t1 & a1\\\\\n",
       "\t t2 & a2\\\\\n",
       "\t t3 & a3\\\\\n",
       "\t t1 & a2\\\\\n",
       "\t t2 & a4\\\\\n",
       "\t t3 & a1\\\\\n",
       "\t t1 & a3\\\\\n",
       "\t t2 & a3\\\\\n",
       "\t t3 & a2\\\\\n",
       "\\end{tabular}\n"
      ],
      "text/markdown": [
       "\n",
       "A data.frame: 9 × 2\n",
       "\n",
       "| nconst &lt;fct&gt; | knownForTitles &lt;chr&gt; |\n",
       "|---|---|\n",
       "| t1 | a1 |\n",
       "| t2 | a2 |\n",
       "| t3 | a3 |\n",
       "| t1 | a2 |\n",
       "| t2 | a4 |\n",
       "| t3 | a1 |\n",
       "| t1 | a3 |\n",
       "| t2 | a3 |\n",
       "| t3 | a2 |\n",
       "\n"
      ],
      "text/plain": [
       "  nconst knownForTitles\n",
       "1 t1     a1            \n",
       "2 t2     a2            \n",
       "3 t3     a3            \n",
       "4 t1     a2            \n",
       "5 t2     a4            \n",
       "6 t3     a1            \n",
       "7 t1     a3            \n",
       "8 t2     a3            \n",
       "9 t3     a2            "
      ]
     },
     "metadata": {},
     "output_type": "display_data"
    }
   ],
   "source": [
    "df"
   ]
  },
  {
   "cell_type": "code",
   "execution_count": 24,
   "metadata": {},
   "outputs": [],
   "source": [
    "split_df = split(df, df$knownForTitles)"
   ]
  },
  {
   "cell_type": "code",
   "execution_count": 25,
   "metadata": {},
   "outputs": [
    {
     "name": "stdout",
     "output_type": "stream",
     "text": [
      "List of 4\n",
      " $ a1:'data.frame':\t2 obs. of  2 variables:\n",
      "  ..$ nconst        : Factor w/ 3 levels \"t1\",\"t2\",\"t3\": 1 3\n",
      "  ..$ knownForTitles: chr [1:2] \"a1\" \"a1\"\n",
      " $ a2:'data.frame':\t3 obs. of  2 variables:\n",
      "  ..$ nconst        : Factor w/ 3 levels \"t1\",\"t2\",\"t3\": 2 1 3\n",
      "  ..$ knownForTitles: chr [1:3] \"a2\" \"a2\" \"a2\"\n",
      " $ a3:'data.frame':\t3 obs. of  2 variables:\n",
      "  ..$ nconst        : Factor w/ 3 levels \"t1\",\"t2\",\"t3\": 3 1 2\n",
      "  ..$ knownForTitles: chr [1:3] \"a3\" \"a3\" \"a3\"\n",
      " $ a4:'data.frame':\t1 obs. of  2 variables:\n",
      "  ..$ nconst        : Factor w/ 3 levels \"t1\",\"t2\",\"t3\": 2\n",
      "  ..$ knownForTitles: chr \"a4\"\n"
     ]
    }
   ],
   "source": [
    "str(split_df)"
   ]
  },
  {
   "cell_type": "code",
   "execution_count": 26,
   "metadata": {},
   "outputs": [
    {
     "data": {
      "text/html": [
       "<dl>\n",
       "\t<dt>$a1</dt>\n",
       "\t\t<dd><table>\n",
       "<caption>A data.frame: 2 × 2</caption>\n",
       "<thead>\n",
       "\t<tr><th></th><th scope=col>nconst</th><th scope=col>knownForTitles</th></tr>\n",
       "\t<tr><th></th><th scope=col>&lt;fct&gt;</th><th scope=col>&lt;chr&gt;</th></tr>\n",
       "</thead>\n",
       "<tbody>\n",
       "\t<tr><th scope=row>1</th><td>t1</td><td>a1</td></tr>\n",
       "\t<tr><th scope=row>6</th><td>t3</td><td>a1</td></tr>\n",
       "</tbody>\n",
       "</table>\n",
       "</dd>\n",
       "\t<dt>$a2</dt>\n",
       "\t\t<dd><table>\n",
       "<caption>A data.frame: 3 × 2</caption>\n",
       "<thead>\n",
       "\t<tr><th></th><th scope=col>nconst</th><th scope=col>knownForTitles</th></tr>\n",
       "\t<tr><th></th><th scope=col>&lt;fct&gt;</th><th scope=col>&lt;chr&gt;</th></tr>\n",
       "</thead>\n",
       "<tbody>\n",
       "\t<tr><th scope=row>2</th><td>t2</td><td>a2</td></tr>\n",
       "\t<tr><th scope=row>4</th><td>t1</td><td>a2</td></tr>\n",
       "\t<tr><th scope=row>9</th><td>t3</td><td>a2</td></tr>\n",
       "</tbody>\n",
       "</table>\n",
       "</dd>\n",
       "\t<dt>$a3</dt>\n",
       "\t\t<dd><table>\n",
       "<caption>A data.frame: 3 × 2</caption>\n",
       "<thead>\n",
       "\t<tr><th></th><th scope=col>nconst</th><th scope=col>knownForTitles</th></tr>\n",
       "\t<tr><th></th><th scope=col>&lt;fct&gt;</th><th scope=col>&lt;chr&gt;</th></tr>\n",
       "</thead>\n",
       "<tbody>\n",
       "\t<tr><th scope=row>3</th><td>t3</td><td>a3</td></tr>\n",
       "\t<tr><th scope=row>7</th><td>t1</td><td>a3</td></tr>\n",
       "\t<tr><th scope=row>8</th><td>t2</td><td>a3</td></tr>\n",
       "</tbody>\n",
       "</table>\n",
       "</dd>\n",
       "\t<dt>$a4</dt>\n",
       "\t\t<dd><table>\n",
       "<caption>A data.frame: 1 × 2</caption>\n",
       "<thead>\n",
       "\t<tr><th></th><th scope=col>nconst</th><th scope=col>knownForTitles</th></tr>\n",
       "\t<tr><th></th><th scope=col>&lt;fct&gt;</th><th scope=col>&lt;chr&gt;</th></tr>\n",
       "</thead>\n",
       "<tbody>\n",
       "\t<tr><th scope=row>5</th><td>t2</td><td>a4</td></tr>\n",
       "</tbody>\n",
       "</table>\n",
       "</dd>\n",
       "</dl>\n"
      ],
      "text/latex": [
       "\\begin{description}\n",
       "\\item[\\$a1] A data.frame: 2 × 2\n",
       "\\begin{tabular}{r|ll}\n",
       "  & nconst & knownForTitles\\\\\n",
       "  & <fct> & <chr>\\\\\n",
       "\\hline\n",
       "\t1 & t1 & a1\\\\\n",
       "\t6 & t3 & a1\\\\\n",
       "\\end{tabular}\n",
       "\n",
       "\\item[\\$a2] A data.frame: 3 × 2\n",
       "\\begin{tabular}{r|ll}\n",
       "  & nconst & knownForTitles\\\\\n",
       "  & <fct> & <chr>\\\\\n",
       "\\hline\n",
       "\t2 & t2 & a2\\\\\n",
       "\t4 & t1 & a2\\\\\n",
       "\t9 & t3 & a2\\\\\n",
       "\\end{tabular}\n",
       "\n",
       "\\item[\\$a3] A data.frame: 3 × 2\n",
       "\\begin{tabular}{r|ll}\n",
       "  & nconst & knownForTitles\\\\\n",
       "  & <fct> & <chr>\\\\\n",
       "\\hline\n",
       "\t3 & t3 & a3\\\\\n",
       "\t7 & t1 & a3\\\\\n",
       "\t8 & t2 & a3\\\\\n",
       "\\end{tabular}\n",
       "\n",
       "\\item[\\$a4] A data.frame: 1 × 2\n",
       "\\begin{tabular}{r|ll}\n",
       "  & nconst & knownForTitles\\\\\n",
       "  & <fct> & <chr>\\\\\n",
       "\\hline\n",
       "\t5 & t2 & a4\\\\\n",
       "\\end{tabular}\n",
       "\n",
       "\\end{description}\n"
      ],
      "text/markdown": [
       "$a1\n",
       ":   \n",
       "A data.frame: 2 × 2\n",
       "\n",
       "| <!--/--> | nconst &lt;fct&gt; | knownForTitles &lt;chr&gt; |\n",
       "|---|---|---|\n",
       "| 1 | t1 | a1 |\n",
       "| 6 | t3 | a1 |\n",
       "\n",
       "\n",
       "$a2\n",
       ":   \n",
       "A data.frame: 3 × 2\n",
       "\n",
       "| <!--/--> | nconst &lt;fct&gt; | knownForTitles &lt;chr&gt; |\n",
       "|---|---|---|\n",
       "| 2 | t2 | a2 |\n",
       "| 4 | t1 | a2 |\n",
       "| 9 | t3 | a2 |\n",
       "\n",
       "\n",
       "$a3\n",
       ":   \n",
       "A data.frame: 3 × 2\n",
       "\n",
       "| <!--/--> | nconst &lt;fct&gt; | knownForTitles &lt;chr&gt; |\n",
       "|---|---|---|\n",
       "| 3 | t3 | a3 |\n",
       "| 7 | t1 | a3 |\n",
       "| 8 | t2 | a3 |\n",
       "\n",
       "\n",
       "$a4\n",
       ":   \n",
       "A data.frame: 1 × 2\n",
       "\n",
       "| <!--/--> | nconst &lt;fct&gt; | knownForTitles &lt;chr&gt; |\n",
       "|---|---|---|\n",
       "| 5 | t2 | a4 |\n",
       "\n",
       "\n",
       "\n",
       "\n"
      ],
      "text/plain": [
       "$a1\n",
       "  nconst knownForTitles\n",
       "1     t1             a1\n",
       "6     t3             a1\n",
       "\n",
       "$a2\n",
       "  nconst knownForTitles\n",
       "2     t2             a2\n",
       "4     t1             a2\n",
       "9     t3             a2\n",
       "\n",
       "$a3\n",
       "  nconst knownForTitles\n",
       "3     t3             a3\n",
       "7     t1             a3\n",
       "8     t2             a3\n",
       "\n",
       "$a4\n",
       "  nconst knownForTitles\n",
       "5     t2             a4\n"
      ]
     },
     "metadata": {},
     "output_type": "display_data"
    }
   ],
   "source": [
    "split_df"
   ]
  },
  {
   "cell_type": "code",
   "execution_count": 27,
   "metadata": {},
   "outputs": [
    {
     "data": {
      "text/html": [
       "<table>\n",
       "<caption>A data.frame: 2 × 2</caption>\n",
       "<thead>\n",
       "\t<tr><th></th><th scope=col>nconst</th><th scope=col>knownForTitles</th></tr>\n",
       "\t<tr><th></th><th scope=col>&lt;fct&gt;</th><th scope=col>&lt;chr&gt;</th></tr>\n",
       "</thead>\n",
       "<tbody>\n",
       "\t<tr><th scope=row>1</th><td>t1</td><td>a1</td></tr>\n",
       "\t<tr><th scope=row>6</th><td>t3</td><td>a1</td></tr>\n",
       "</tbody>\n",
       "</table>\n"
      ],
      "text/latex": [
       "A data.frame: 2 × 2\n",
       "\\begin{tabular}{r|ll}\n",
       "  & nconst & knownForTitles\\\\\n",
       "  & <fct> & <chr>\\\\\n",
       "\\hline\n",
       "\t1 & t1 & a1\\\\\n",
       "\t6 & t3 & a1\\\\\n",
       "\\end{tabular}\n"
      ],
      "text/markdown": [
       "\n",
       "A data.frame: 2 × 2\n",
       "\n",
       "| <!--/--> | nconst &lt;fct&gt; | knownForTitles &lt;chr&gt; |\n",
       "|---|---|---|\n",
       "| 1 | t1 | a1 |\n",
       "| 6 | t3 | a1 |\n",
       "\n"
      ],
      "text/plain": [
       "  nconst knownForTitles\n",
       "1 t1     a1            \n",
       "6 t3     a1            "
      ]
     },
     "metadata": {},
     "output_type": "display_data"
    },
    {
     "data": {
      "text/html": [
       "<table>\n",
       "<caption>A data.frame: 2 × 1</caption>\n",
       "<thead>\n",
       "\t<tr><th></th><th scope=col>nconst</th></tr>\n",
       "\t<tr><th></th><th scope=col>&lt;fct&gt;</th></tr>\n",
       "</thead>\n",
       "<tbody>\n",
       "\t<tr><th scope=row>1</th><td>t1</td></tr>\n",
       "\t<tr><th scope=row>6</th><td>t3</td></tr>\n",
       "</tbody>\n",
       "</table>\n"
      ],
      "text/latex": [
       "A data.frame: 2 × 1\n",
       "\\begin{tabular}{r|l}\n",
       "  & nconst\\\\\n",
       "  & <fct>\\\\\n",
       "\\hline\n",
       "\t1 & t1\\\\\n",
       "\t6 & t3\\\\\n",
       "\\end{tabular}\n"
      ],
      "text/markdown": [
       "\n",
       "A data.frame: 2 × 1\n",
       "\n",
       "| <!--/--> | nconst &lt;fct&gt; |\n",
       "|---|---|\n",
       "| 1 | t1 |\n",
       "| 6 | t3 |\n",
       "\n"
      ],
      "text/plain": [
       "  nconst\n",
       "1 t1    \n",
       "6 t3    "
      ]
     },
     "metadata": {},
     "output_type": "display_data"
    },
    {
     "data": {
      "text/html": [
       "'data.frame'"
      ],
      "text/latex": [
       "'data.frame'"
      ],
      "text/markdown": [
       "'data.frame'"
      ],
      "text/plain": [
       "[1] \"data.frame\""
      ]
     },
     "metadata": {},
     "output_type": "display_data"
    },
    {
     "data": {
      "text/html": [
       "<style>\n",
       ".list-inline {list-style: none; margin:0; padding: 0}\n",
       ".list-inline>li {display: inline-block}\n",
       ".list-inline>li:not(:last-child)::after {content: \"\\00b7\"; padding: 0 .5ex}\n",
       "</style>\n",
       "<ol class=list-inline><li>t1</li><li>t3</li></ol>\n",
       "\n",
       "<details>\n",
       "\t<summary style=display:list-item;cursor:pointer>\n",
       "\t\t<strong>Levels</strong>:\n",
       "\t</summary>\n",
       "\t<style>\n",
       "\t.list-inline {list-style: none; margin:0; padding: 0}\n",
       "\t.list-inline>li {display: inline-block}\n",
       "\t.list-inline>li:not(:last-child)::after {content: \"\\00b7\"; padding: 0 .5ex}\n",
       "\t</style>\n",
       "\t<ol class=list-inline><li>'t1'</li><li>'t2'</li><li>'t3'</li></ol>\n",
       "</details>"
      ],
      "text/latex": [
       "\\begin{enumerate*}\n",
       "\\item t1\n",
       "\\item t3\n",
       "\\end{enumerate*}\n",
       "\n",
       "\\emph{Levels}: \\begin{enumerate*}\n",
       "\\item 't1'\n",
       "\\item 't2'\n",
       "\\item 't3'\n",
       "\\end{enumerate*}\n"
      ],
      "text/markdown": [
       "1. t1\n",
       "2. t3\n",
       "\n",
       "\n",
       "\n",
       "**Levels**: 1. 't1'\n",
       "2. 't2'\n",
       "3. 't3'\n",
       "\n",
       "\n"
      ],
      "text/plain": [
       "[1] t1 t3\n",
       "Levels: t1 t2 t3"
      ]
     },
     "metadata": {},
     "output_type": "display_data"
    },
    {
     "data": {
      "text/html": [
       "'factor'"
      ],
      "text/latex": [
       "'factor'"
      ],
      "text/markdown": [
       "'factor'"
      ],
      "text/plain": [
       "[1] \"factor\""
      ]
     },
     "metadata": {},
     "output_type": "display_data"
    },
    {
     "data": {
      "text/html": [
       "<style>\n",
       ".list-inline {list-style: none; margin:0; padding: 0}\n",
       ".list-inline>li {display: inline-block}\n",
       ".list-inline>li:not(:last-child)::after {content: \"\\00b7\"; padding: 0 .5ex}\n",
       "</style>\n",
       "<ol class=list-inline><li>'t1'</li><li>'t3'</li></ol>\n"
      ],
      "text/latex": [
       "\\begin{enumerate*}\n",
       "\\item 't1'\n",
       "\\item 't3'\n",
       "\\end{enumerate*}\n"
      ],
      "text/markdown": [
       "1. 't1'\n",
       "2. 't3'\n",
       "\n",
       "\n"
      ],
      "text/plain": [
       "[1] \"t1\" \"t3\""
      ]
     },
     "metadata": {},
     "output_type": "display_data"
    },
    {
     "data": {
      "text/html": [
       "'character'"
      ],
      "text/latex": [
       "'character'"
      ],
      "text/markdown": [
       "'character'"
      ],
      "text/plain": [
       "[1] \"character\""
      ]
     },
     "metadata": {},
     "output_type": "display_data"
    }
   ],
   "source": [
    "split_df[[1]]\n",
    "split_df[[1]][1]\n",
    "class(split_df[[1]][1])\n",
    "split_df[[1]][[1]]\n",
    "class(split_df[[1]][[1]])\n",
    "as.vector(split_df[[1]][[1]])\n",
    "class(as.vector(split_df[[1]][[1]]))"
   ]
  },
  {
   "cell_type": "code",
   "execution_count": 28,
   "metadata": {},
   "outputs": [
    {
     "data": {
      "text/html": [
       "4"
      ],
      "text/latex": [
       "4"
      ],
      "text/markdown": [
       "4"
      ],
      "text/plain": [
       "[1] 4"
      ]
     },
     "metadata": {},
     "output_type": "display_data"
    }
   ],
   "source": [
    "length(split_df)"
   ]
  },
  {
   "cell_type": "code",
   "execution_count": 29,
   "metadata": {},
   "outputs": [],
   "source": [
    "library(utils)"
   ]
  },
  {
   "cell_type": "code",
   "execution_count": 30,
   "metadata": {},
   "outputs": [
    {
     "data": {
      "text/html": [
       "<table>\n",
       "<caption>A matrix: 2 × 1 of type chr</caption>\n",
       "<tbody>\n",
       "\t<tr><td>t1</td></tr>\n",
       "\t<tr><td>t3</td></tr>\n",
       "</tbody>\n",
       "</table>\n"
      ],
      "text/latex": [
       "A matrix: 2 × 1 of type chr\n",
       "\\begin{tabular}{l}\n",
       "\t t1\\\\\n",
       "\t t3\\\\\n",
       "\\end{tabular}\n"
      ],
      "text/markdown": [
       "\n",
       "A matrix: 2 × 1 of type chr\n",
       "\n",
       "| t1 |\n",
       "| t3 |\n",
       "\n"
      ],
      "text/plain": [
       "     [,1]\n",
       "[1,] t1  \n",
       "[2,] t3  "
      ]
     },
     "metadata": {},
     "output_type": "display_data"
    }
   ],
   "source": [
    "combn(as.vector(split_df[[1]][[1]]), 2)"
   ]
  },
  {
   "cell_type": "code",
   "execution_count": 31,
   "metadata": {},
   "outputs": [
    {
     "data": {
      "text/html": [
       "<table>\n",
       "<caption>A matrix: 2 × 3 of type chr</caption>\n",
       "<tbody>\n",
       "\t<tr><td>t2</td><td>t2</td><td>t1</td></tr>\n",
       "\t<tr><td>t1</td><td>t3</td><td>t3</td></tr>\n",
       "</tbody>\n",
       "</table>\n"
      ],
      "text/latex": [
       "A matrix: 2 × 3 of type chr\n",
       "\\begin{tabular}{lll}\n",
       "\t t2 & t2 & t1\\\\\n",
       "\t t1 & t3 & t3\\\\\n",
       "\\end{tabular}\n"
      ],
      "text/markdown": [
       "\n",
       "A matrix: 2 × 3 of type chr\n",
       "\n",
       "| t2 | t2 | t1 |\n",
       "| t1 | t3 | t3 |\n",
       "\n"
      ],
      "text/plain": [
       "     [,1] [,2] [,3]\n",
       "[1,] t2   t2   t1  \n",
       "[2,] t1   t3   t3  "
      ]
     },
     "metadata": {},
     "output_type": "display_data"
    }
   ],
   "source": [
    "combn(as.vector(split_df[[2]][[1]]), 2)"
   ]
  },
  {
   "cell_type": "code",
   "execution_count": 41,
   "metadata": {},
   "outputs": [
    {
     "ename": "ERROR",
     "evalue": "Error in combn(as.vector(split_df[[4]][[1]]), 2): n < m\n",
     "output_type": "error",
     "traceback": [
      "Error in combn(as.vector(split_df[[4]][[1]]), 2): n < m\nTraceback:\n",
      "1. combn(as.vector(split_df[[4]][[1]]), 2)",
      "2. stop(\"n < m\", domain = NA)"
     ]
    }
   ],
   "source": [
    "combn(as.vector(split_df[[4]][[1]]), 2)"
   ]
  },
  {
   "cell_type": "code",
   "execution_count": 33,
   "metadata": {},
   "outputs": [
    {
     "data": {
      "text/html": [
       "1"
      ],
      "text/latex": [
       "1"
      ],
      "text/markdown": [
       "1"
      ],
      "text/plain": [
       "[1] 1"
      ]
     },
     "metadata": {},
     "output_type": "display_data"
    }
   ],
   "source": [
    "length(split_df[[4]][[1]])"
   ]
  },
  {
   "cell_type": "code",
   "execution_count": 34,
   "metadata": {},
   "outputs": [],
   "source": [
    "combination_matrix = c()\n",
    "for( i in 1:length(split_df)){\n",
    "    if(length(split_df[[i]][[1]]) > 1){\n",
    "        temp = combn(as.vector(split_df[[i]][[1]]), 2)\n",
    "        combination_matrix = cbind(combination_matrix, temp)\n",
    "    }\n",
    "}"
   ]
  },
  {
   "cell_type": "code",
   "execution_count": 35,
   "metadata": {},
   "outputs": [
    {
     "data": {
      "text/html": [
       "<table>\n",
       "<caption>A matrix: 2 × 7 of type chr</caption>\n",
       "<tbody>\n",
       "\t<tr><td>t1</td><td>t2</td><td>t2</td><td>t1</td><td>t3</td><td>t3</td><td>t1</td></tr>\n",
       "\t<tr><td>t3</td><td>t1</td><td>t3</td><td>t3</td><td>t1</td><td>t2</td><td>t2</td></tr>\n",
       "</tbody>\n",
       "</table>\n"
      ],
      "text/latex": [
       "A matrix: 2 × 7 of type chr\n",
       "\\begin{tabular}{lllllll}\n",
       "\t t1 & t2 & t2 & t1 & t3 & t3 & t1\\\\\n",
       "\t t3 & t1 & t3 & t3 & t1 & t2 & t2\\\\\n",
       "\\end{tabular}\n"
      ],
      "text/markdown": [
       "\n",
       "A matrix: 2 × 7 of type chr\n",
       "\n",
       "| t1 | t2 | t2 | t1 | t3 | t3 | t1 |\n",
       "| t3 | t1 | t3 | t3 | t1 | t2 | t2 |\n",
       "\n"
      ],
      "text/plain": [
       "     [,1] [,2] [,3] [,4] [,5] [,6] [,7]\n",
       "[1,] t1   t2   t2   t1   t3   t3   t1  \n",
       "[2,] t3   t1   t3   t3   t1   t2   t2  "
      ]
     },
     "metadata": {},
     "output_type": "display_data"
    }
   ],
   "source": [
    "combination_matrix"
   ]
  },
  {
   "cell_type": "code",
   "execution_count": 40,
   "metadata": {},
   "outputs": [
    {
     "data": {
      "image/png": "[encoded data removed]",
      "text/plain": [
       "Plot with title \"\""
      ]
     },
     "metadata": {
      "image/png": {
       "height": 500,
       "width": 700
      }
     },
     "output_type": "display_data"
    }
   ],
   "source": [
    "relations <- data.frame(from=combination_matrix[1,],\n",
    "                        to=combination_matrix[2,]\n",
    "                        )\n",
    "g <- graph_from_data_frame(relations, directed=FALSE)\n",
    "plot(g)"
   ]
  },
  {
   "cell_type": "code",
   "execution_count": null,
   "metadata": {},
   "outputs": [],
   "source": []
  },
  {
   "cell_type": "code",
   "execution_count": 42,
   "metadata": {},
   "outputs": [],
   "source": [
    "split_df_person = split(df, df$nconst)"
   ]
  },
  {
   "cell_type": "code",
   "execution_count": 43,
   "metadata": {},
   "outputs": [
    {
     "data": {
      "text/html": [
       "<dl>\n",
       "\t<dt>$t1</dt>\n",
       "\t\t<dd><table>\n",
       "<caption>A data.frame: 3 × 2</caption>\n",
       "<thead>\n",
       "\t<tr><th></th><th scope=col>nconst</th><th scope=col>knownForTitles</th></tr>\n",
       "\t<tr><th></th><th scope=col>&lt;fct&gt;</th><th scope=col>&lt;chr&gt;</th></tr>\n",
       "</thead>\n",
       "<tbody>\n",
       "\t<tr><th scope=row>1</th><td>t1</td><td>a1</td></tr>\n",
       "\t<tr><th scope=row>4</th><td>t1</td><td>a2</td></tr>\n",
       "\t<tr><th scope=row>7</th><td>t1</td><td>a3</td></tr>\n",
       "</tbody>\n",
       "</table>\n",
       "</dd>\n",
       "\t<dt>$t2</dt>\n",
       "\t\t<dd><table>\n",
       "<caption>A data.frame: 3 × 2</caption>\n",
       "<thead>\n",
       "\t<tr><th></th><th scope=col>nconst</th><th scope=col>knownForTitles</th></tr>\n",
       "\t<tr><th></th><th scope=col>&lt;fct&gt;</th><th scope=col>&lt;chr&gt;</th></tr>\n",
       "</thead>\n",
       "<tbody>\n",
       "\t<tr><th scope=row>2</th><td>t2</td><td>a2</td></tr>\n",
       "\t<tr><th scope=row>5</th><td>t2</td><td>a4</td></tr>\n",
       "\t<tr><th scope=row>8</th><td>t2</td><td>a3</td></tr>\n",
       "</tbody>\n",
       "</table>\n",
       "</dd>\n",
       "\t<dt>$t3</dt>\n",
       "\t\t<dd><table>\n",
       "<caption>A data.frame: 3 × 2</caption>\n",
       "<thead>\n",
       "\t<tr><th></th><th scope=col>nconst</th><th scope=col>knownForTitles</th></tr>\n",
       "\t<tr><th></th><th scope=col>&lt;fct&gt;</th><th scope=col>&lt;chr&gt;</th></tr>\n",
       "</thead>\n",
       "<tbody>\n",
       "\t<tr><th scope=row>3</th><td>t3</td><td>a3</td></tr>\n",
       "\t<tr><th scope=row>6</th><td>t3</td><td>a1</td></tr>\n",
       "\t<tr><th scope=row>9</th><td>t3</td><td>a2</td></tr>\n",
       "</tbody>\n",
       "</table>\n",
       "</dd>\n",
       "</dl>\n"
      ],
      "text/latex": [
       "\\begin{description}\n",
       "\\item[\\$t1] A data.frame: 3 × 2\n",
       "\\begin{tabular}{r|ll}\n",
       "  & nconst & knownForTitles\\\\\n",
       "  & <fct> & <chr>\\\\\n",
       "\\hline\n",
       "\t1 & t1 & a1\\\\\n",
       "\t4 & t1 & a2\\\\\n",
       "\t7 & t1 & a3\\\\\n",
       "\\end{tabular}\n",
       "\n",
       "\\item[\\$t2] A data.frame: 3 × 2\n",
       "\\begin{tabular}{r|ll}\n",
       "  & nconst & knownForTitles\\\\\n",
       "  & <fct> & <chr>\\\\\n",
       "\\hline\n",
       "\t2 & t2 & a2\\\\\n",
       "\t5 & t2 & a4\\\\\n",
       "\t8 & t2 & a3\\\\\n",
       "\\end{tabular}\n",
       "\n",
       "\\item[\\$t3] A data.frame: 3 × 2\n",
       "\\begin{tabular}{r|ll}\n",
       "  & nconst & knownForTitles\\\\\n",
       "  & <fct> & <chr>\\\\\n",
       "\\hline\n",
       "\t3 & t3 & a3\\\\\n",
       "\t6 & t3 & a1\\\\\n",
       "\t9 & t3 & a2\\\\\n",
       "\\end{tabular}\n",
       "\n",
       "\\end{description}\n"
      ],
      "text/markdown": [
       "$t1\n",
       ":   \n",
       "A data.frame: 3 × 2\n",
       "\n",
       "| <!--/--> | nconst &lt;fct&gt; | knownForTitles &lt;chr&gt; |\n",
       "|---|---|---|\n",
       "| 1 | t1 | a1 |\n",
       "| 4 | t1 | a2 |\n",
       "| 7 | t1 | a3 |\n",
       "\n",
       "\n",
       "$t2\n",
       ":   \n",
       "A data.frame: 3 × 2\n",
       "\n",
       "| <!--/--> | nconst &lt;fct&gt; | knownForTitles &lt;chr&gt; |\n",
       "|---|---|---|\n",
       "| 2 | t2 | a2 |\n",
       "| 5 | t2 | a4 |\n",
       "| 8 | t2 | a3 |\n",
       "\n",
       "\n",
       "$t3\n",
       ":   \n",
       "A data.frame: 3 × 2\n",
       "\n",
       "| <!--/--> | nconst &lt;fct&gt; | knownForTitles &lt;chr&gt; |\n",
       "|---|---|---|\n",
       "| 3 | t3 | a3 |\n",
       "| 6 | t3 | a1 |\n",
       "| 9 | t3 | a2 |\n",
       "\n",
       "\n",
       "\n",
       "\n"
      ],
      "text/plain": [
       "$t1\n",
       "  nconst knownForTitles\n",
       "1     t1             a1\n",
       "4     t1             a2\n",
       "7     t1             a3\n",
       "\n",
       "$t2\n",
       "  nconst knownForTitles\n",
       "2     t2             a2\n",
       "5     t2             a4\n",
       "8     t2             a3\n",
       "\n",
       "$t3\n",
       "  nconst knownForTitles\n",
       "3     t3             a3\n",
       "6     t3             a1\n",
       "9     t3             a2\n"
      ]
     },
     "metadata": {},
     "output_type": "display_data"
    }
   ],
   "source": [
    "split_df_person"
   ]
  },
  {
   "cell_type": "code",
   "execution_count": 44,
   "metadata": {},
   "outputs": [],
   "source": [
    "combination_matrix_person = c()\n",
    "for( i in 1:length(split_df_person)){\n",
    "    if(length(split_df_person[[i]][[2]]) > 1){\n",
    "        temp = combn(as.vector(split_df_person[[i]][[2]]), 2)\n",
    "        combination_matrix_person = cbind(combination_matrix_person, temp)\n",
    "    }\n",
    "}"
   ]
  },
  {
   "cell_type": "code",
   "execution_count": 45,
   "metadata": {},
   "outputs": [
    {
     "data": {
      "text/html": [
       "<table>\n",
       "<caption>A matrix: 2 × 9 of type chr</caption>\n",
       "<tbody>\n",
       "\t<tr><td>a1</td><td>a1</td><td>a2</td><td>a2</td><td>a2</td><td>a4</td><td>a3</td><td>a3</td><td>a1</td></tr>\n",
       "\t<tr><td>a2</td><td>a3</td><td>a3</td><td>a4</td><td>a3</td><td>a3</td><td>a1</td><td>a2</td><td>a2</td></tr>\n",
       "</tbody>\n",
       "</table>\n"
      ],
      "text/latex": [
       "A matrix: 2 × 9 of type chr\n",
       "\\begin{tabular}{lllllllll}\n",
       "\t a1 & a1 & a2 & a2 & a2 & a4 & a3 & a3 & a1\\\\\n",
       "\t a2 & a3 & a3 & a4 & a3 & a3 & a1 & a2 & a2\\\\\n",
       "\\end{tabular}\n"
      ],
      "text/markdown": [
       "\n",
       "A matrix: 2 × 9 of type chr\n",
       "\n",
       "| a1 | a1 | a2 | a2 | a2 | a4 | a3 | a3 | a1 |\n",
       "| a2 | a3 | a3 | a4 | a3 | a3 | a1 | a2 | a2 |\n",
       "\n"
      ],
      "text/plain": [
       "     [,1] [,2] [,3] [,4] [,5] [,6] [,7] [,8] [,9]\n",
       "[1,] a1   a1   a2   a2   a2   a4   a3   a3   a1  \n",
       "[2,] a2   a3   a3   a4   a3   a3   a1   a2   a2  "
      ]
     },
     "metadata": {},
     "output_type": "display_data"
    }
   ],
   "source": [
    "combination_matrix_person"
   ]
  },
  {
   "cell_type": "code",
   "execution_count": 46,
   "metadata": {},
   "outputs": [
    {
     "data": {
      "image/png": "[encoded data removed]",
      "text/plain": [
       "Plot with title \"\""
      ]
     },
     "metadata": {
      "image/png": {
       "height": 500,
       "width": 700
      }
     },
     "output_type": "display_data"
    }
   ],
   "source": [
    "relations_person <- data.frame(from=combination_matrix_person[1,],\n",
    "                        to=combination_matrix_person[2,]\n",
    "                        )\n",
    "g_person <- graph_from_data_frame(relations_person, directed=FALSE)\n",
    "plot(g_person)"
   ]
  },
  {
   "cell_type": "code",
   "execution_count": 48,
   "metadata": {},
   "outputs": [],
   "source": [
    "ratings = data.frame(tconst = c(\"a1\", \"a2\", \"a3\", \"a4\"), averageRating = c(1,1,9,9))"
   ]
  },
  {
   "cell_type": "code",
   "execution_count": 51,
   "metadata": {},
   "outputs": [],
   "source": [
    "rate_movie = c()\n",
    "\n",
    "for( movie in combination_matrix_person[1,]){\n",
    "    #print(movie)\n",
    "    rating = ratings[ ratings$tconst==movie,]$averageRating\n",
    "    #print(rating)\n",
    "    if(rating <= 3){\n",
    "        rate_movie = cbind(rate_movie, \"red\")\n",
    "    }\n",
    "    else{\n",
    "        rate_movie = cbind(rate_movie, \"green\")\n",
    "    }\n",
    "}"
   ]
  },
  {
   "cell_type": "code",
   "execution_count": 52,
   "metadata": {},
   "outputs": [
    {
     "data": {
      "text/html": [
       "<table>\n",
       "<caption>A matrix: 1 × 9 of type chr</caption>\n",
       "<tbody>\n",
       "\t<tr><td>red</td><td>red</td><td>red</td><td>red</td><td>red</td><td>green</td><td>green</td><td>green</td><td>red</td></tr>\n",
       "</tbody>\n",
       "</table>\n"
      ],
      "text/latex": [
       "A matrix: 1 × 9 of type chr\n",
       "\\begin{tabular}{lllllllll}\n",
       "\t red & red & red & red & red & green & green & green & red\\\\\n",
       "\\end{tabular}\n"
      ],
      "text/markdown": [
       "\n",
       "A matrix: 1 × 9 of type chr\n",
       "\n",
       "| red | red | red | red | red | green | green | green | red |\n",
       "\n"
      ],
      "text/plain": [
       "     [,1] [,2] [,3] [,4] [,5] [,6]  [,7]  [,8]  [,9]\n",
       "[1,] red  red  red  red  red  green green green red "
      ]
     },
     "metadata": {},
     "output_type": "display_data"
    }
   ],
   "source": [
    "rate_movie"
   ]
  },
  {
   "cell_type": "code",
   "execution_count": null,
   "metadata": {},
   "outputs": [],
   "source": []
  }
 ],
 "metadata": {
  "kernelspec": {
   "display_name": "R",
   "language": "R",
   "name": "ir"
  },
  "language_info": {
   "codemirror_mode": "r",
   "file_extension": ".r",
   "mimetype": "text/x-r-source",
   "name": "R",
   "pygments_lexer": "r",
   "version": "3.6.3"
  }
 },
 "nbformat": 4,
 "nbformat_minor": 4
}
