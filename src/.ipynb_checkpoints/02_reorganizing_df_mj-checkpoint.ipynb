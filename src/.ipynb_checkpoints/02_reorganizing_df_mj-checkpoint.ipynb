{
 "cells": [
  {
   "cell_type": "code",
   "execution_count": null,
   "metadata": {},
   "outputs": [],
   "source": [
    "name_basics = read.delim(\"./../dataset/filtered.name.basics.tsv\",header=TRUE)\n",
    "title_akas = read.delim(\"./../dataset/filtered.title.akas.tsv\",header=TRUE)\n",
    "title_basics = read.delim(\"./../dataset/filtered.title.basics.tsv\",header=TRUE)\n",
    "title_principals = read.delim(\"./../dataset/filtered.title.principals.tsv\",header=TRUE)\n",
    "title_ratings = read.delim(\"./../dataset/filtered.title.ratings.tsv\",header=TRUE)\n",
    "title_crew = read.delim(\"./../dataset/filtered.title.crew.tsv\",header=TRUE)\n"
   ]
  }
 ],
 "metadata": {
  "kernelspec": {
   "display_name": "R",
   "language": "R",
   "name": "ir"
  },
  "language_info": {
   "codemirror_mode": "r",
   "file_extension": ".r",
   "mimetype": "text/x-r-source",
   "name": "R",
   "pygments_lexer": "r",
   "version": "3.6.3"
  }
 },
 "nbformat": 4,
 "nbformat_minor": 4
}
