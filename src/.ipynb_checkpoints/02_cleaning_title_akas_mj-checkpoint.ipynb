{
 "cells": [
  {
   "cell_type": "code",
   "execution_count": 84,
   "metadata": {},
   "outputs": [],
   "source": [
    "library(\"dplyr\")\n",
    "library(\"ggplot2\")"
   ]
  },
  {
   "cell_type": "code",
   "execution_count": 1,
   "metadata": {},
   "outputs": [],
   "source": [
    "#name_basics = read.delim(\"./../dataset/filtered_name_basics.tsv\",header=TRUE)\n",
    "#title_akas = read.delim(\"./../dataset/filtered_title_akas.tsv\",header=TRUE)\n",
    "#title_basics = read.delim(\"./../dataset/filtered_title_basics.tsv\",header=TRUE)\n",
    "#title_principals = read.delim(\"./../dataset/filtered_title_principals.tsv\",header=TRUE)\n",
    "#title_ratings = read.delim(\"./../dataset/filtered_title_ratings.tsv\",header=TRUE)\n",
    "#title_crew = read.delim(\"./../dataset/filtered_title_crew.tsv\",header=TRUE)\n"
   ]
  },
  {
   "cell_type": "code",
   "execution_count": null,
   "metadata": {},
   "outputs": [],
   "source": []
  },
  {
   "cell_type": "markdown",
   "metadata": {},
   "source": [
    "#### removing useless features"
   ]
  },
  {
   "cell_type": "code",
   "execution_count": null,
   "metadata": {},
   "outputs": [],
   "source": [
    "#title_basics$endYear = NULL\n",
    "\n",
    "#title_principals$job = NULL\n",
    "#title_principals$ordering = NULL\n",
    "#title_principals$characters = NULL"
   ]
  },
  {
   "cell_type": "markdown",
   "metadata": {},
   "source": [
    "# Title Akas"
   ]
  },
  {
   "cell_type": "code",
   "execution_count": 85,
   "metadata": {},
   "outputs": [],
   "source": [
    "title_akas = read.delim(\"./../dataset/filtered_title_akas.tsv\",header=TRUE)"
   ]
  },
  {
   "cell_type": "code",
   "execution_count": 86,
   "metadata": {},
   "outputs": [
    {
     "data": {
      "text/html": [
       "2211001"
      ],
      "text/latex": [
       "2211001"
      ],
      "text/markdown": [
       "2211001"
      ],
      "text/plain": [
       "[1] 2211001"
      ]
     },
     "metadata": {},
     "output_type": "display_data"
    }
   ],
   "source": [
    "nrow(title_akas)"
   ]
  },
  {
   "cell_type": "code",
   "execution_count": 87,
   "metadata": {},
   "outputs": [
    {
     "data": {
      "text/html": [
       "<table>\n",
       "<caption>A data.frame: 6 × 8</caption>\n",
       "<thead>\n",
       "\t<tr><th></th><th scope=col>titleId</th><th scope=col>ordering</th><th scope=col>title</th><th scope=col>region</th><th scope=col>language</th><th scope=col>types</th><th scope=col>attributes</th><th scope=col>isOriginalTitle</th></tr>\n",
       "\t<tr><th></th><th scope=col>&lt;fct&gt;</th><th scope=col>&lt;int&gt;</th><th scope=col>&lt;fct&gt;</th><th scope=col>&lt;fct&gt;</th><th scope=col>&lt;fct&gt;</th><th scope=col>&lt;fct&gt;</th><th scope=col>&lt;fct&gt;</th><th scope=col>&lt;fct&gt;</th></tr>\n",
       "</thead>\n",
       "<tbody>\n",
       "\t<tr><th scope=row>1</th><td>tt0000001</td><td>1</td><td>ÃÅ¡ÃÂ°Ã‘â‚¬ÃÂ¼ÃÂµÃÂ½Ã‘ÂÃ‘â€“Ã‘â€šÃÂ°</td><td>UA</td><td>\\N</td><td>imdbDisplay</td><td>\\N          </td><td>0</td></tr>\n",
       "\t<tr><th scope=row>2</th><td>tt0000001</td><td>2</td><td>Carmencita                                 </td><td>DE</td><td>\\N</td><td>\\N        </td><td>literal title</td><td>0</td></tr>\n",
       "\t<tr><th scope=row>3</th><td>tt0000001</td><td>3</td><td>Carmencita - spanyol tÃƒÂ¡nc               </td><td>HU</td><td>\\N</td><td>imdbDisplay</td><td>\\N          </td><td>0</td></tr>\n",
       "\t<tr><th scope=row>4</th><td>tt0000001</td><td>4</td><td>ÃŽÅ¡ÃŽÂ±ÃÂÃŽÂ¼ÃŽÂµÃŽÂ½ÃÆ’ÃŽÂ¯Ãâ€žÃŽÂ±  </td><td>GR</td><td>\\N</td><td>imdbDisplay</td><td>\\N          </td><td>0</td></tr>\n",
       "\t<tr><th scope=row>5</th><td>tt0000001</td><td>5</td><td>ÃÅ¡ÃÂ°Ã‘â‚¬ÃÂ¼ÃÂµÃÂ½Ã‘ÂÃÂ¸Ã‘â€šÃÂ° </td><td>RU</td><td>\\N</td><td>imdbDisplay</td><td>\\N          </td><td>0</td></tr>\n",
       "\t<tr><th scope=row>6</th><td>tt0000001</td><td>6</td><td>Carmencita                                 </td><td>US</td><td>\\N</td><td>\\N        </td><td>\\N          </td><td>0</td></tr>\n",
       "</tbody>\n",
       "</table>\n"
      ],
      "text/latex": [
       "A data.frame: 6 × 8\n",
       "\\begin{tabular}{r|llllllll}\n",
       "  & titleId & ordering & title & region & language & types & attributes & isOriginalTitle\\\\\n",
       "  & <fct> & <int> & <fct> & <fct> & <fct> & <fct> & <fct> & <fct>\\\\\n",
       "\\hline\n",
       "\t1 & tt0000001 & 1 & ÃÅ¡ÃÂ°Ã‘â‚¬ÃÂ¼ÃÂµÃÂ½Ã‘ÂÃ‘â€“Ã‘â€šÃÂ° & UA & \\textbackslash{}N & imdbDisplay & \\textbackslash{}N           & 0\\\\\n",
       "\t2 & tt0000001 & 2 & Carmencita                                  & DE & \\textbackslash{}N & \\textbackslash{}N         & literal title & 0\\\\\n",
       "\t3 & tt0000001 & 3 & Carmencita - spanyol tÃƒÂ¡nc                & HU & \\textbackslash{}N & imdbDisplay & \\textbackslash{}N           & 0\\\\\n",
       "\t4 & tt0000001 & 4 & ÃŽÅ¡ÃŽÂ±ÃÂÃŽÂ¼ÃŽÂµÃŽÂ½ÃÆ’ÃŽÂ¯Ãâ€žÃŽÂ±   & GR & \\textbackslash{}N & imdbDisplay & \\textbackslash{}N           & 0\\\\\n",
       "\t5 & tt0000001 & 5 & ÃÅ¡ÃÂ°Ã‘â‚¬ÃÂ¼ÃÂµÃÂ½Ã‘ÂÃÂ¸Ã‘â€šÃÂ°  & RU & \\textbackslash{}N & imdbDisplay & \\textbackslash{}N           & 0\\\\\n",
       "\t6 & tt0000001 & 6 & Carmencita                                  & US & \\textbackslash{}N & \\textbackslash{}N         & \\textbackslash{}N           & 0\\\\\n",
       "\\end{tabular}\n"
      ],
      "text/markdown": [
       "\n",
       "A data.frame: 6 × 8\n",
       "\n",
       "| <!--/--> | titleId &lt;fct&gt; | ordering &lt;int&gt; | title &lt;fct&gt; | region &lt;fct&gt; | language &lt;fct&gt; | types &lt;fct&gt; | attributes &lt;fct&gt; | isOriginalTitle &lt;fct&gt; |\n",
       "|---|---|---|---|---|---|---|---|---|\n",
       "| 1 | tt0000001 | 1 | ÃÅ¡ÃÂ°Ã‘â‚¬ÃÂ¼ÃÂµÃÂ½Ã‘ÂÃ‘â€“Ã‘â€šÃÂ° | UA | \\N | imdbDisplay | \\N           | 0 |\n",
       "| 2 | tt0000001 | 2 | Carmencita                                  | DE | \\N | \\N         | literal title | 0 |\n",
       "| 3 | tt0000001 | 3 | Carmencita - spanyol tÃƒÂ¡nc                | HU | \\N | imdbDisplay | \\N           | 0 |\n",
       "| 4 | tt0000001 | 4 | ÃŽÅ¡ÃŽÂ±ÃÂÃŽÂ¼ÃŽÂµÃŽÂ½ÃÆ’ÃŽÂ¯Ãâ€žÃŽÂ±   | GR | \\N | imdbDisplay | \\N           | 0 |\n",
       "| 5 | tt0000001 | 5 | ÃÅ¡ÃÂ°Ã‘â‚¬ÃÂ¼ÃÂµÃÂ½Ã‘ÂÃÂ¸Ã‘â€šÃÂ°  | RU | \\N | imdbDisplay | \\N           | 0 |\n",
       "| 6 | tt0000001 | 6 | Carmencita                                  | US | \\N | \\N         | \\N           | 0 |\n",
       "\n"
      ],
      "text/plain": [
       "  titleId   ordering title                                       region\n",
       "1 tt0000001 1        Ã\\220Å¡Ã\\220Â°Ã‘â‚¬Ã\\220Â¼Ã\\220ÂµÃ\\220Â½Ã‘Â\\201Ã‘â\\200“Ã‘â\\200šÃ\\220Â° UA    \n",
       "2 tt0000001 2        Carmencita                                  DE    \n",
       "3 tt0000001 3        Carmencita - spanyol tÃƒÂ¡nc                HU    \n",
       "4 tt0000001 4        ÃŽÅ¡ÃŽÂ±Ã\\217Â\\201ÃŽÂ¼ÃŽÂµÃŽÂ½Ã\\217Æ’ÃŽÂ¯Ã\\217â\\200žÃŽÂ±   GR    \n",
       "5 tt0000001 5        Ã\\220Å¡Ã\\220Â°Ã‘â‚¬Ã\\220Â¼Ã\\220ÂµÃ\\220Â½Ã‘Â\\201Ã\\220Â¸Ã‘â\\200šÃ\\220Â°  RU    \n",
       "6 tt0000001 6        Carmencita                                  US    \n",
       "  language types       attributes    isOriginalTitle\n",
       "1 \\\\N      imdbDisplay \\\\N           0              \n",
       "2 \\\\N      \\\\N         literal title 0              \n",
       "3 \\\\N      imdbDisplay \\\\N           0              \n",
       "4 \\\\N      imdbDisplay \\\\N           0              \n",
       "5 \\\\N      imdbDisplay \\\\N           0              \n",
       "6 \\\\N      \\\\N         \\\\N           0              "
      ]
     },
     "metadata": {},
     "output_type": "display_data"
    }
   ],
   "source": [
    "head(title_akas)"
   ]
  },
  {
   "cell_type": "code",
   "execution_count": 105,
   "metadata": {},
   "outputs": [],
   "source": [
    "# any change in title_aka will be done in ta_clean\n",
    "ta_clean = title_akas"
   ]
  },
  {
   "cell_type": "markdown",
   "metadata": {},
   "source": [
    "### ordering (int) - a number to uniquely identify rows for a given titleId"
   ]
  },
  {
   "cell_type": "code",
   "execution_count": 88,
   "metadata": {},
   "outputs": [
    {
     "name": "stdout",
     "output_type": "stream",
     "text": [
      " int [1:2211001] 1 2 3 4 5 6 7 8 1 2 ...\n"
     ]
    }
   ],
   "source": [
    "str(title_akas$ordering)"
   ]
  },
  {
   "cell_type": "code",
   "execution_count": 8,
   "metadata": {},
   "outputs": [
    {
     "data": {
      "image/png": "[encoded data removed]",
      "text/plain": [
       "plot without title"
      ]
     },
     "metadata": {
      "image/png": {
       "height": 420,
       "width": 420
      }
     },
     "output_type": "display_data"
    }
   ],
   "source": [
    "ggplot(title_akas, aes(x=ordering)) + geom_boxplot()"
   ]
  },
  {
   "cell_type": "code",
   "execution_count": 10,
   "metadata": {},
   "outputs": [
    {
     "name": "stderr",
     "output_type": "stream",
     "text": [
      "`stat_bin()` using `bins = 30`. Pick better value with `binwidth`.\n",
      "\n"
     ]
    },
    {
     "data": {
      "image/png": "[encoded data removed]",
      "text/plain": [
       "plot without title"
      ]
     },
     "metadata": {
      "image/png": {
       "height": 420,
       "width": 420
      }
     },
     "output_type": "display_data"
    }
   ],
   "source": [
    "ggplot(title_akas, aes(x=ordering)) + geom_histogram() #histogram is a bar plot for continuoues variables"
   ]
  },
  {
   "cell_type": "code",
   "execution_count": 11,
   "metadata": {},
   "outputs": [
    {
     "data": {
      "text/html": [
       "<table>\n",
       "<caption>A data.frame: 0 × 8</caption>\n",
       "<thead>\n",
       "\t<tr><th scope=col>titleId</th><th scope=col>ordering</th><th scope=col>title</th><th scope=col>region</th><th scope=col>language</th><th scope=col>types</th><th scope=col>attributes</th><th scope=col>isOriginalTitle</th></tr>\n",
       "\t<tr><th scope=col>&lt;fct&gt;</th><th scope=col>&lt;int&gt;</th><th scope=col>&lt;fct&gt;</th><th scope=col>&lt;fct&gt;</th><th scope=col>&lt;fct&gt;</th><th scope=col>&lt;fct&gt;</th><th scope=col>&lt;fct&gt;</th><th scope=col>&lt;fct&gt;</th></tr>\n",
       "</thead>\n",
       "<tbody>\n",
       "</tbody>\n",
       "</table>\n"
      ],
      "text/latex": [
       "A data.frame: 0 × 8\n",
       "\\begin{tabular}{llllllll}\n",
       " titleId & ordering & title & region & language & types & attributes & isOriginalTitle\\\\\n",
       " <fct> & <int> & <fct> & <fct> & <fct> & <fct> & <fct> & <fct>\\\\\n",
       "\\hline\n",
       "\\end{tabular}\n"
      ],
      "text/markdown": [
       "\n",
       "A data.frame: 0 × 8\n",
       "\n",
       "| titleId &lt;fct&gt; | ordering &lt;int&gt; | title &lt;fct&gt; | region &lt;fct&gt; | language &lt;fct&gt; | types &lt;fct&gt; | attributes &lt;fct&gt; | isOriginalTitle &lt;fct&gt; |\n",
       "|---|---|---|---|---|---|---|---|\n",
       "\n"
      ],
      "text/plain": [
       "     titleId ordering title region language types attributes isOriginalTitle"
      ]
     },
     "metadata": {},
     "output_type": "display_data"
    }
   ],
   "source": [
    "title_akas[title_akas$ordering==0,]"
   ]
  },
  {
   "cell_type": "markdown",
   "metadata": {},
   "source": [
    "* what ordering represents is useless. Does not add any interest information."
   ]
  },
  {
   "cell_type": "code",
   "execution_count": 108,
   "metadata": {},
   "outputs": [],
   "source": [
    "ta_clean$ordering = NULL"
   ]
  },
  {
   "cell_type": "markdown",
   "metadata": {},
   "source": [
    " "
   ]
  },
  {
   "cell_type": "markdown",
   "metadata": {},
   "source": [
    "### attributes (array) - Additional terms to describe this alternative title, not enumerated"
   ]
  },
  {
   "cell_type": "code",
   "execution_count": 14,
   "metadata": {},
   "outputs": [
    {
     "name": "stdout",
     "output_type": "stream",
     "text": [
      " Factor w/ 134 levels \"\\\\N\",\"16mm release title\",..: 1 64 1 1 1 1 1 1 1 1 ...\n"
     ]
    }
   ],
   "source": [
    "str(title_akas$attributes)"
   ]
  },
  {
   "cell_type": "code",
   "execution_count": 23,
   "metadata": {},
   "outputs": [
    {
     "data": {
      "text/html": [
       "<style>\n",
       ".list-inline {list-style: none; margin:0; padding: 0}\n",
       ".list-inline>li {display: inline-block}\n",
       ".list-inline>li:not(:last-child)::after {content: \"\\00b7\"; padding: 0 .5ex}\n",
       "</style>\n",
       "<ol class=list-inline><li>\\\\N</li><li>literal title</li><li>literal English title</li><li>informal alternative title</li><li>promotional title</li><li>complete title</li><li>literal translation of working title</li><li>premiere title</li><li>informal title</li><li>short title</li><li>poster title</li><li>premiÃƒÂ¨re title</li><li>bowdlerized title</li><li>reissue title</li><li>informal English title</li><li>alternative spelling</li><li>original script title</li><li>informal literal title</li><li>copyright title</li><li>long title</li><li>transliterated title</li><li>informal short title</li><li>review title</li><li>new title</li><li>subtitle</li><li>original subtitled version</li><li>cut version</li><li>video catalogue title</li><li>second part title</li><li>fourth season title</li><li>third part title</li><li>fifth season title</li><li>series title</li><li>8mm release title</li><li>recut version</li><li>pre-release title</li><li>theatrical title</li><li>first part title</li><li>segment title</li><li>informal literal English title</li><li>Los Angeles premiÃƒÂ¨re title</li><li>DVD box title</li><li>second copyright title</li><li>16mm release title</li><li>short version</li><li>video box title</li><li>rerun title</li><li>restored version</li><li>english transliteration</li><li>recut version\\002reissue title</li><li>8mm release title\\002short version</li><li>alternative transliteration</li><li>anthology series</li><li>censored version</li><li>DVD menu title</li><li>trailer title</li><li>silent version</li><li>Berlin film festival title</li><li>Cannes festival title</li><li>dubbed version</li><li>added framing sequences and narration in Yiddish\\002reissue title</li><li>bootleg title</li><li>orthographically correct title</li><li>Bable dialect title</li><li>Venice film festival title</li><li>Yiddish dubbed\\002reissue title</li><li>cable TV title</li><li>uncensored intended title</li><li>last season title</li><li>Yiddish dubbed</li><li>TV listings title</li><li>YIVO translation</li><li>modern translation</li><li>long new title</li><li>director's cut</li><li>POLart\\002video box title</li><li>POLart</li><li>cut version\\002reissue title</li><li>YIVO translation\\002reissue title</li><li>racier version</li><li>redubbed comic version</li><li>X-rated version</li><li>copyright title\\002reissue title</li><li>syndication title</li><li>fake working title</li><li>closing credits title</li><li>armed forces circuit title</li><li>reissue title\\002short version</li><li>weekend title</li><li>longer version</li><li>Pay-TV title</li><li>3-D version</li><li>MIFED title</li><li>3-D video title</li><li>literal French title</li><li>expansion title</li><li>correct transliteration</li><li>16mm rental title</li><li>teaser title</li><li>first season title</li><li>video CD title</li><li>LD title</li><li>new syndication title</li><li>soft porn version</li><li>unauthorized video title</li><li>promotional abbreviation</li><li>English translation of working title</li><li>fourth part title</li><li>informal title\\002literal title</li><li>closing credits title\\002pre-release title</li><li>Los Angeles premiere title</li><li>IMAX version</li><li>non-modified Hepburn romanization</li><li>Locarno film festival title</li><li>ninth season title</li><li>second season title</li><li>third season title</li><li>eighth season title</li><li>game box title</li><li>dubbed version\\002recut version</li><li>American Mutoscope &amp; Biograph catalog title</li><li>R-rated version</li><li>original pilot title</li><li>thirtyfirst season title</li><li>Hakka dialect title</li><li>Bilbao festival title</li><li>first episodes title</li><li>eighteenth season title</li><li>first episode title</li><li>first segment title</li><li>second segment title</li><li>twentythird season title</li><li>incorrect title</li><li>rumored</li></ol>\n",
       "\n",
       "<details>\n",
       "\t<summary style=display:list-item;cursor:pointer>\n",
       "\t\t<strong>Levels</strong>:\n",
       "\t</summary>\n",
       "\t<style>\n",
       "\t.list-inline {list-style: none; margin:0; padding: 0}\n",
       "\t.list-inline>li {display: inline-block}\n",
       "\t.list-inline>li:not(:last-child)::after {content: \"\\00b7\"; padding: 0 .5ex}\n",
       "\t</style>\n",
       "\t<ol class=list-inline><li>'\\\\N'</li><li>'16mm release title'</li><li>'16mm rental title'</li><li>'3-D version'</li><li>'3-D video title'</li><li>'8mm release title'</li><li>'8mm release title\\002short version'</li><li>'added framing sequences and narration in Yiddish\\002reissue title'</li><li>'alternative spelling'</li><li>'alternative transliteration'</li><li>'American Mutoscope &amp; Biograph catalog title'</li><li>'anthology series'</li><li>'armed forces circuit title'</li><li>'Bable dialect title'</li><li>'Berlin film festival title'</li><li>'Bilbao festival title'</li><li>'bootleg title'</li><li>'bowdlerized title'</li><li>'cable TV title'</li><li>'Cannes festival title'</li><li>'censored version'</li><li>'closing credits title'</li><li>'closing credits title\\002pre-release title'</li><li>'complete title'</li><li>'copyright title'</li><li>'copyright title\\002reissue title'</li><li>'correct transliteration'</li><li>'cut version'</li><li>'cut version\\002reissue title'</li><li>'director\\'s cut'</li><li>'dubbed version'</li><li>'dubbed version\\002recut version'</li><li>'DVD box title'</li><li>'DVD menu title'</li><li>'eighteenth season title'</li><li>'eighth season title'</li><li>'English translation of working title'</li><li>'english transliteration'</li><li>'expansion title'</li><li>'fake working title'</li><li>'fifth season title'</li><li>'first episode title'</li><li>'first episodes title'</li><li>'first part title'</li><li>'first season title'</li><li>'first segment title'</li><li>'fourth part title'</li><li>'fourth season title'</li><li>'game box title'</li><li>'Hakka dialect title'</li><li>'IMAX version'</li><li>'incorrect title'</li><li>'informal alternative title'</li><li>'informal English title'</li><li>'informal literal English title'</li><li>'informal literal title'</li><li>'informal short title'</li><li>'informal title'</li><li>'informal title\\002literal title'</li><li>'last season title'</li><li>'LD title'</li><li>'literal English title'</li><li>'literal French title'</li><li>'literal title'</li><li>'literal translation of working title'</li><li>'Locarno film festival title'</li><li>'long new title'</li><li>'long title'</li><li>'longer version'</li><li>'Los Angeles premiÃƒÂ¨re title'</li><li>'Los Angeles premiere title'</li><li>'MIFED title'</li><li>'modern translation'</li><li>'new syndication title'</li><li>'new title'</li><li>'ninth season title'</li><li>'non-modified Hepburn romanization'</li><li>'original pilot title'</li><li>'original script title'</li><li>'original subtitled version'</li><li>'orthographically correct title'</li><li>'Pay-TV title'</li><li>'POLart'</li><li>'POLart\\002video box title'</li><li>'poster title'</li><li>'pre-release title'</li><li>'premiÃƒÂ¨re title'</li><li>'premiere title'</li><li>'promotional abbreviation'</li><li>'promotional title'</li><li>'R-rated version'</li><li>'racier version'</li><li>'recut version'</li><li>'recut version\\002reissue title'</li><li>'redubbed comic version'</li><li>'reissue title'</li><li>'reissue title\\002short version'</li><li>'rerun title'</li><li>'restored version'</li><li>'review title'</li><li>'rumored'</li><li>'second copyright title'</li><li>'second part title'</li><li>'second season title'</li><li>'second segment title'</li><li>'segment title'</li><li>'series title'</li><li>'short title'</li><li>'short version'</li><li>'silent version'</li><li>'soft porn version'</li><li>'subtitle'</li><li>'syndication title'</li><li>'teaser title'</li><li>'theatrical title'</li><li>'third part title'</li><li>'third season title'</li><li>'thirtyfirst season title'</li><li>'trailer title'</li><li>'transliterated title'</li><li>'TV listings title'</li><li>'twentythird season title'</li><li>'unauthorized video title'</li><li>'uncensored intended title'</li><li>'Venice film festival title'</li><li>'video box title'</li><li>'video catalogue title'</li><li>'video CD title'</li><li>'weekend title'</li><li>'X-rated version'</li><li>'Yiddish dubbed'</li><li>'Yiddish dubbed\\002reissue title'</li><li>'YIVO translation'</li><li>'YIVO translation\\002reissue title'</li></ol>\n",
       "</details>"
      ],
      "text/latex": [
       "\\begin{enumerate*}\n",
       "\\item \\textbackslash{}\\textbackslash{}N\n",
       "\\item literal title\n",
       "\\item literal English title\n",
       "\\item informal alternative title\n",
       "\\item promotional title\n",
       "\\item complete title\n",
       "\\item literal translation of working title\n",
       "\\item premiere title\n",
       "\\item informal title\n",
       "\\item short title\n",
       "\\item poster title\n",
       "\\item premiÃƒÂ¨re title\n",
       "\\item bowdlerized title\n",
       "\\item reissue title\n",
       "\\item informal English title\n",
       "\\item alternative spelling\n",
       "\\item original script title\n",
       "\\item informal literal title\n",
       "\\item copyright title\n",
       "\\item long title\n",
       "\\item transliterated title\n",
       "\\item informal short title\n",
       "\\item review title\n",
       "\\item new title\n",
       "\\item subtitle\n",
       "\\item original subtitled version\n",
       "\\item cut version\n",
       "\\item video catalogue title\n",
       "\\item second part title\n",
       "\\item fourth season title\n",
       "\\item third part title\n",
       "\\item fifth season title\n",
       "\\item series title\n",
       "\\item 8mm release title\n",
       "\\item recut version\n",
       "\\item pre-release title\n",
       "\\item theatrical title\n",
       "\\item first part title\n",
       "\\item segment title\n",
       "\\item informal literal English title\n",
       "\\item Los Angeles premiÃƒÂ¨re title\n",
       "\\item DVD box title\n",
       "\\item second copyright title\n",
       "\\item 16mm release title\n",
       "\\item short version\n",
       "\\item video box title\n",
       "\\item rerun title\n",
       "\\item restored version\n",
       "\\item english transliteration\n",
       "\\item recut version\\textbackslash{}002reissue title\n",
       "\\item 8mm release title\\textbackslash{}002short version\n",
       "\\item alternative transliteration\n",
       "\\item anthology series\n",
       "\\item censored version\n",
       "\\item DVD menu title\n",
       "\\item trailer title\n",
       "\\item silent version\n",
       "\\item Berlin film festival title\n",
       "\\item Cannes festival title\n",
       "\\item dubbed version\n",
       "\\item added framing sequences and narration in Yiddish\\textbackslash{}002reissue title\n",
       "\\item bootleg title\n",
       "\\item orthographically correct title\n",
       "\\item Bable dialect title\n",
       "\\item Venice film festival title\n",
       "\\item Yiddish dubbed\\textbackslash{}002reissue title\n",
       "\\item cable TV title\n",
       "\\item uncensored intended title\n",
       "\\item last season title\n",
       "\\item Yiddish dubbed\n",
       "\\item TV listings title\n",
       "\\item YIVO translation\n",
       "\\item modern translation\n",
       "\\item long new title\n",
       "\\item director's cut\n",
       "\\item POLart\\textbackslash{}002video box title\n",
       "\\item POLart\n",
       "\\item cut version\\textbackslash{}002reissue title\n",
       "\\item YIVO translation\\textbackslash{}002reissue title\n",
       "\\item racier version\n",
       "\\item redubbed comic version\n",
       "\\item X-rated version\n",
       "\\item copyright title\\textbackslash{}002reissue title\n",
       "\\item syndication title\n",
       "\\item fake working title\n",
       "\\item closing credits title\n",
       "\\item armed forces circuit title\n",
       "\\item reissue title\\textbackslash{}002short version\n",
       "\\item weekend title\n",
       "\\item longer version\n",
       "\\item Pay-TV title\n",
       "\\item 3-D version\n",
       "\\item MIFED title\n",
       "\\item 3-D video title\n",
       "\\item literal French title\n",
       "\\item expansion title\n",
       "\\item correct transliteration\n",
       "\\item 16mm rental title\n",
       "\\item teaser title\n",
       "\\item first season title\n",
       "\\item video CD title\n",
       "\\item LD title\n",
       "\\item new syndication title\n",
       "\\item soft porn version\n",
       "\\item unauthorized video title\n",
       "\\item promotional abbreviation\n",
       "\\item English translation of working title\n",
       "\\item fourth part title\n",
       "\\item informal title\\textbackslash{}002literal title\n",
       "\\item closing credits title\\textbackslash{}002pre-release title\n",
       "\\item Los Angeles premiere title\n",
       "\\item IMAX version\n",
       "\\item non-modified Hepburn romanization\n",
       "\\item Locarno film festival title\n",
       "\\item ninth season title\n",
       "\\item second season title\n",
       "\\item third season title\n",
       "\\item eighth season title\n",
       "\\item game box title\n",
       "\\item dubbed version\\textbackslash{}002recut version\n",
       "\\item American Mutoscope \\& Biograph catalog title\n",
       "\\item R-rated version\n",
       "\\item original pilot title\n",
       "\\item thirtyfirst season title\n",
       "\\item Hakka dialect title\n",
       "\\item Bilbao festival title\n",
       "\\item first episodes title\n",
       "\\item eighteenth season title\n",
       "\\item first episode title\n",
       "\\item first segment title\n",
       "\\item second segment title\n",
       "\\item twentythird season title\n",
       "\\item incorrect title\n",
       "\\item rumored\n",
       "\\end{enumerate*}\n",
       "\n",
       "\\emph{Levels}: \\begin{enumerate*}\n",
       "\\item '\\textbackslash{}\\textbackslash{}N'\n",
       "\\item '16mm release title'\n",
       "\\item '16mm rental title'\n",
       "\\item '3-D version'\n",
       "\\item '3-D video title'\n",
       "\\item '8mm release title'\n",
       "\\item '8mm release title\\textbackslash{}002short version'\n",
       "\\item 'added framing sequences and narration in Yiddish\\textbackslash{}002reissue title'\n",
       "\\item 'alternative spelling'\n",
       "\\item 'alternative transliteration'\n",
       "\\item 'American Mutoscope \\& Biograph catalog title'\n",
       "\\item 'anthology series'\n",
       "\\item 'armed forces circuit title'\n",
       "\\item 'Bable dialect title'\n",
       "\\item 'Berlin film festival title'\n",
       "\\item 'Bilbao festival title'\n",
       "\\item 'bootleg title'\n",
       "\\item 'bowdlerized title'\n",
       "\\item 'cable TV title'\n",
       "\\item 'Cannes festival title'\n",
       "\\item 'censored version'\n",
       "\\item 'closing credits title'\n",
       "\\item 'closing credits title\\textbackslash{}002pre-release title'\n",
       "\\item 'complete title'\n",
       "\\item 'copyright title'\n",
       "\\item 'copyright title\\textbackslash{}002reissue title'\n",
       "\\item 'correct transliteration'\n",
       "\\item 'cut version'\n",
       "\\item 'cut version\\textbackslash{}002reissue title'\n",
       "\\item 'director\\textbackslash{}'s cut'\n",
       "\\item 'dubbed version'\n",
       "\\item 'dubbed version\\textbackslash{}002recut version'\n",
       "\\item 'DVD box title'\n",
       "\\item 'DVD menu title'\n",
       "\\item 'eighteenth season title'\n",
       "\\item 'eighth season title'\n",
       "\\item 'English translation of working title'\n",
       "\\item 'english transliteration'\n",
       "\\item 'expansion title'\n",
       "\\item 'fake working title'\n",
       "\\item 'fifth season title'\n",
       "\\item 'first episode title'\n",
       "\\item 'first episodes title'\n",
       "\\item 'first part title'\n",
       "\\item 'first season title'\n",
       "\\item 'first segment title'\n",
       "\\item 'fourth part title'\n",
       "\\item 'fourth season title'\n",
       "\\item 'game box title'\n",
       "\\item 'Hakka dialect title'\n",
       "\\item 'IMAX version'\n",
       "\\item 'incorrect title'\n",
       "\\item 'informal alternative title'\n",
       "\\item 'informal English title'\n",
       "\\item 'informal literal English title'\n",
       "\\item 'informal literal title'\n",
       "\\item 'informal short title'\n",
       "\\item 'informal title'\n",
       "\\item 'informal title\\textbackslash{}002literal title'\n",
       "\\item 'last season title'\n",
       "\\item 'LD title'\n",
       "\\item 'literal English title'\n",
       "\\item 'literal French title'\n",
       "\\item 'literal title'\n",
       "\\item 'literal translation of working title'\n",
       "\\item 'Locarno film festival title'\n",
       "\\item 'long new title'\n",
       "\\item 'long title'\n",
       "\\item 'longer version'\n",
       "\\item 'Los Angeles premiÃƒÂ¨re title'\n",
       "\\item 'Los Angeles premiere title'\n",
       "\\item 'MIFED title'\n",
       "\\item 'modern translation'\n",
       "\\item 'new syndication title'\n",
       "\\item 'new title'\n",
       "\\item 'ninth season title'\n",
       "\\item 'non-modified Hepburn romanization'\n",
       "\\item 'original pilot title'\n",
       "\\item 'original script title'\n",
       "\\item 'original subtitled version'\n",
       "\\item 'orthographically correct title'\n",
       "\\item 'Pay-TV title'\n",
       "\\item 'POLart'\n",
       "\\item 'POLart\\textbackslash{}002video box title'\n",
       "\\item 'poster title'\n",
       "\\item 'pre-release title'\n",
       "\\item 'premiÃƒÂ¨re title'\n",
       "\\item 'premiere title'\n",
       "\\item 'promotional abbreviation'\n",
       "\\item 'promotional title'\n",
       "\\item 'R-rated version'\n",
       "\\item 'racier version'\n",
       "\\item 'recut version'\n",
       "\\item 'recut version\\textbackslash{}002reissue title'\n",
       "\\item 'redubbed comic version'\n",
       "\\item 'reissue title'\n",
       "\\item 'reissue title\\textbackslash{}002short version'\n",
       "\\item 'rerun title'\n",
       "\\item 'restored version'\n",
       "\\item 'review title'\n",
       "\\item 'rumored'\n",
       "\\item 'second copyright title'\n",
       "\\item 'second part title'\n",
       "\\item 'second season title'\n",
       "\\item 'second segment title'\n",
       "\\item 'segment title'\n",
       "\\item 'series title'\n",
       "\\item 'short title'\n",
       "\\item 'short version'\n",
       "\\item 'silent version'\n",
       "\\item 'soft porn version'\n",
       "\\item 'subtitle'\n",
       "\\item 'syndication title'\n",
       "\\item 'teaser title'\n",
       "\\item 'theatrical title'\n",
       "\\item 'third part title'\n",
       "\\item 'third season title'\n",
       "\\item 'thirtyfirst season title'\n",
       "\\item 'trailer title'\n",
       "\\item 'transliterated title'\n",
       "\\item 'TV listings title'\n",
       "\\item 'twentythird season title'\n",
       "\\item 'unauthorized video title'\n",
       "\\item 'uncensored intended title'\n",
       "\\item 'Venice film festival title'\n",
       "\\item 'video box title'\n",
       "\\item 'video catalogue title'\n",
       "\\item 'video CD title'\n",
       "\\item 'weekend title'\n",
       "\\item 'X-rated version'\n",
       "\\item 'Yiddish dubbed'\n",
       "\\item 'Yiddish dubbed\\textbackslash{}002reissue title'\n",
       "\\item 'YIVO translation'\n",
       "\\item 'YIVO translation\\textbackslash{}002reissue title'\n",
       "\\end{enumerate*}\n"
      ],
      "text/markdown": [
       "1. \\\\N\n",
       "2. literal title\n",
       "3. literal English title\n",
       "4. informal alternative title\n",
       "5. promotional title\n",
       "6. complete title\n",
       "7. literal translation of working title\n",
       "8. premiere title\n",
       "9. informal title\n",
       "10. short title\n",
       "11. poster title\n",
       "12. premiÃƒÂ¨re title\n",
       "13. bowdlerized title\n",
       "14. reissue title\n",
       "15. informal English title\n",
       "16. alternative spelling\n",
       "17. original script title\n",
       "18. informal literal title\n",
       "19. copyright title\n",
       "20. long title\n",
       "21. transliterated title\n",
       "22. informal short title\n",
       "23. review title\n",
       "24. new title\n",
       "25. subtitle\n",
       "26. original subtitled version\n",
       "27. cut version\n",
       "28. video catalogue title\n",
       "29. second part title\n",
       "30. fourth season title\n",
       "31. third part title\n",
       "32. fifth season title\n",
       "33. series title\n",
       "34. 8mm release title\n",
       "35. recut version\n",
       "36. pre-release title\n",
       "37. theatrical title\n",
       "38. first part title\n",
       "39. segment title\n",
       "40. informal literal English title\n",
       "41. Los Angeles premiÃƒÂ¨re title\n",
       "42. DVD box title\n",
       "43. second copyright title\n",
       "44. 16mm release title\n",
       "45. short version\n",
       "46. video box title\n",
       "47. rerun title\n",
       "48. restored version\n",
       "49. english transliteration\n",
       "50. recut version\\002reissue title\n",
       "51. 8mm release title\\002short version\n",
       "52. alternative transliteration\n",
       "53. anthology series\n",
       "54. censored version\n",
       "55. DVD menu title\n",
       "56. trailer title\n",
       "57. silent version\n",
       "58. Berlin film festival title\n",
       "59. Cannes festival title\n",
       "60. dubbed version\n",
       "61. added framing sequences and narration in Yiddish\\002reissue title\n",
       "62. bootleg title\n",
       "63. orthographically correct title\n",
       "64. Bable dialect title\n",
       "65. Venice film festival title\n",
       "66. Yiddish dubbed\\002reissue title\n",
       "67. cable TV title\n",
       "68. uncensored intended title\n",
       "69. last season title\n",
       "70. Yiddish dubbed\n",
       "71. TV listings title\n",
       "72. YIVO translation\n",
       "73. modern translation\n",
       "74. long new title\n",
       "75. director's cut\n",
       "76. POLart\\002video box title\n",
       "77. POLart\n",
       "78. cut version\\002reissue title\n",
       "79. YIVO translation\\002reissue title\n",
       "80. racier version\n",
       "81. redubbed comic version\n",
       "82. X-rated version\n",
       "83. copyright title\\002reissue title\n",
       "84. syndication title\n",
       "85. fake working title\n",
       "86. closing credits title\n",
       "87. armed forces circuit title\n",
       "88. reissue title\\002short version\n",
       "89. weekend title\n",
       "90. longer version\n",
       "91. Pay-TV title\n",
       "92. 3-D version\n",
       "93. MIFED title\n",
       "94. 3-D video title\n",
       "95. literal French title\n",
       "96. expansion title\n",
       "97. correct transliteration\n",
       "98. 16mm rental title\n",
       "99. teaser title\n",
       "100. first season title\n",
       "101. video CD title\n",
       "102. LD title\n",
       "103. new syndication title\n",
       "104. soft porn version\n",
       "105. unauthorized video title\n",
       "106. promotional abbreviation\n",
       "107. English translation of working title\n",
       "108. fourth part title\n",
       "109. informal title\\002literal title\n",
       "110. closing credits title\\002pre-release title\n",
       "111. Los Angeles premiere title\n",
       "112. IMAX version\n",
       "113. non-modified Hepburn romanization\n",
       "114. Locarno film festival title\n",
       "115. ninth season title\n",
       "116. second season title\n",
       "117. third season title\n",
       "118. eighth season title\n",
       "119. game box title\n",
       "120. dubbed version\\002recut version\n",
       "121. American Mutoscope &amp; Biograph catalog title\n",
       "122. R-rated version\n",
       "123. original pilot title\n",
       "124. thirtyfirst season title\n",
       "125. Hakka dialect title\n",
       "126. Bilbao festival title\n",
       "127. first episodes title\n",
       "128. eighteenth season title\n",
       "129. first episode title\n",
       "130. first segment title\n",
       "131. second segment title\n",
       "132. twentythird season title\n",
       "133. incorrect title\n",
       "134. rumored\n",
       "\n",
       "\n",
       "\n",
       "**Levels**: 1. '\\\\N'\n",
       "2. '16mm release title'\n",
       "3. '16mm rental title'\n",
       "4. '3-D version'\n",
       "5. '3-D video title'\n",
       "6. '8mm release title'\n",
       "7. '8mm release title\\002short version'\n",
       "8. 'added framing sequences and narration in Yiddish\\002reissue title'\n",
       "9. 'alternative spelling'\n",
       "10. 'alternative transliteration'\n",
       "11. 'American Mutoscope &amp; Biograph catalog title'\n",
       "12. 'anthology series'\n",
       "13. 'armed forces circuit title'\n",
       "14. 'Bable dialect title'\n",
       "15. 'Berlin film festival title'\n",
       "16. 'Bilbao festival title'\n",
       "17. 'bootleg title'\n",
       "18. 'bowdlerized title'\n",
       "19. 'cable TV title'\n",
       "20. 'Cannes festival title'\n",
       "21. 'censored version'\n",
       "22. 'closing credits title'\n",
       "23. 'closing credits title\\002pre-release title'\n",
       "24. 'complete title'\n",
       "25. 'copyright title'\n",
       "26. 'copyright title\\002reissue title'\n",
       "27. 'correct transliteration'\n",
       "28. 'cut version'\n",
       "29. 'cut version\\002reissue title'\n",
       "30. 'director\\'s cut'\n",
       "31. 'dubbed version'\n",
       "32. 'dubbed version\\002recut version'\n",
       "33. 'DVD box title'\n",
       "34. 'DVD menu title'\n",
       "35. 'eighteenth season title'\n",
       "36. 'eighth season title'\n",
       "37. 'English translation of working title'\n",
       "38. 'english transliteration'\n",
       "39. 'expansion title'\n",
       "40. 'fake working title'\n",
       "41. 'fifth season title'\n",
       "42. 'first episode title'\n",
       "43. 'first episodes title'\n",
       "44. 'first part title'\n",
       "45. 'first season title'\n",
       "46. 'first segment title'\n",
       "47. 'fourth part title'\n",
       "48. 'fourth season title'\n",
       "49. 'game box title'\n",
       "50. 'Hakka dialect title'\n",
       "51. 'IMAX version'\n",
       "52. 'incorrect title'\n",
       "53. 'informal alternative title'\n",
       "54. 'informal English title'\n",
       "55. 'informal literal English title'\n",
       "56. 'informal literal title'\n",
       "57. 'informal short title'\n",
       "58. 'informal title'\n",
       "59. 'informal title\\002literal title'\n",
       "60. 'last season title'\n",
       "61. 'LD title'\n",
       "62. 'literal English title'\n",
       "63. 'literal French title'\n",
       "64. 'literal title'\n",
       "65. 'literal translation of working title'\n",
       "66. 'Locarno film festival title'\n",
       "67. 'long new title'\n",
       "68. 'long title'\n",
       "69. 'longer version'\n",
       "70. 'Los Angeles premiÃƒÂ¨re title'\n",
       "71. 'Los Angeles premiere title'\n",
       "72. 'MIFED title'\n",
       "73. 'modern translation'\n",
       "74. 'new syndication title'\n",
       "75. 'new title'\n",
       "76. 'ninth season title'\n",
       "77. 'non-modified Hepburn romanization'\n",
       "78. 'original pilot title'\n",
       "79. 'original script title'\n",
       "80. 'original subtitled version'\n",
       "81. 'orthographically correct title'\n",
       "82. 'Pay-TV title'\n",
       "83. 'POLart'\n",
       "84. 'POLart\\002video box title'\n",
       "85. 'poster title'\n",
       "86. 'pre-release title'\n",
       "87. 'premiÃƒÂ¨re title'\n",
       "88. 'premiere title'\n",
       "89. 'promotional abbreviation'\n",
       "90. 'promotional title'\n",
       "91. 'R-rated version'\n",
       "92. 'racier version'\n",
       "93. 'recut version'\n",
       "94. 'recut version\\002reissue title'\n",
       "95. 'redubbed comic version'\n",
       "96. 'reissue title'\n",
       "97. 'reissue title\\002short version'\n",
       "98. 'rerun title'\n",
       "99. 'restored version'\n",
       "100. 'review title'\n",
       "101. 'rumored'\n",
       "102. 'second copyright title'\n",
       "103. 'second part title'\n",
       "104. 'second season title'\n",
       "105. 'second segment title'\n",
       "106. 'segment title'\n",
       "107. 'series title'\n",
       "108. 'short title'\n",
       "109. 'short version'\n",
       "110. 'silent version'\n",
       "111. 'soft porn version'\n",
       "112. 'subtitle'\n",
       "113. 'syndication title'\n",
       "114. 'teaser title'\n",
       "115. 'theatrical title'\n",
       "116. 'third part title'\n",
       "117. 'third season title'\n",
       "118. 'thirtyfirst season title'\n",
       "119. 'trailer title'\n",
       "120. 'transliterated title'\n",
       "121. 'TV listings title'\n",
       "122. 'twentythird season title'\n",
       "123. 'unauthorized video title'\n",
       "124. 'uncensored intended title'\n",
       "125. 'Venice film festival title'\n",
       "126. 'video box title'\n",
       "127. 'video catalogue title'\n",
       "128. 'video CD title'\n",
       "129. 'weekend title'\n",
       "130. 'X-rated version'\n",
       "131. 'Yiddish dubbed'\n",
       "132. 'Yiddish dubbed\\002reissue title'\n",
       "133. 'YIVO translation'\n",
       "134. 'YIVO translation\\002reissue title'\n",
       "\n",
       "\n"
      ],
      "text/plain": [
       "  [1] \\\\N                                                              \n",
       "  [2] literal title                                                    \n",
       "  [3] literal English title                                            \n",
       "  [4] informal alternative title                                       \n",
       "  [5] promotional title                                                \n",
       "  [6] complete title                                                   \n",
       "  [7] literal translation of working title                             \n",
       "  [8] premiere title                                                   \n",
       "  [9] informal title                                                   \n",
       " [10] short title                                                      \n",
       " [11] poster title                                                     \n",
       " [12] premiÃƒÂ¨re title                                                \n",
       " [13] bowdlerized title                                                \n",
       " [14] reissue title                                                    \n",
       " [15] informal English title                                           \n",
       " [16] alternative spelling                                             \n",
       " [17] original script title                                            \n",
       " [18] informal literal title                                           \n",
       " [19] copyright title                                                  \n",
       " [20] long title                                                       \n",
       " [21] transliterated title                                             \n",
       " [22] informal short title                                             \n",
       " [23] review title                                                     \n",
       " [24] new title                                                        \n",
       " [25] subtitle                                                         \n",
       " [26] original subtitled version                                       \n",
       " [27] cut version                                                      \n",
       " [28] video catalogue title                                            \n",
       " [29] second part title                                                \n",
       " [30] fourth season title                                              \n",
       " [31] third part title                                                 \n",
       " [32] fifth season title                                               \n",
       " [33] series title                                                     \n",
       " [34] 8mm release title                                                \n",
       " [35] recut version                                                    \n",
       " [36] pre-release title                                                \n",
       " [37] theatrical title                                                 \n",
       " [38] first part title                                                 \n",
       " [39] segment title                                                    \n",
       " [40] informal literal English title                                   \n",
       " [41] Los Angeles premiÃƒÂ¨re title                                    \n",
       " [42] DVD box title                                                    \n",
       " [43] second copyright title                                           \n",
       " [44] 16mm release title                                               \n",
       " [45] short version                                                    \n",
       " [46] video box title                                                  \n",
       " [47] rerun title                                                      \n",
       " [48] restored version                                                 \n",
       " [49] english transliteration                                          \n",
       " [50] recut version\\002reissue title                                   \n",
       " [51] 8mm release title\\002short version                               \n",
       " [52] alternative transliteration                                      \n",
       " [53] anthology series                                                 \n",
       " [54] censored version                                                 \n",
       " [55] DVD menu title                                                   \n",
       " [56] trailer title                                                    \n",
       " [57] silent version                                                   \n",
       " [58] Berlin film festival title                                       \n",
       " [59] Cannes festival title                                            \n",
       " [60] dubbed version                                                   \n",
       " [61] added framing sequences and narration in Yiddish\\002reissue title\n",
       " [62] bootleg title                                                    \n",
       " [63] orthographically correct title                                   \n",
       " [64] Bable dialect title                                              \n",
       " [65] Venice film festival title                                       \n",
       " [66] Yiddish dubbed\\002reissue title                                  \n",
       " [67] cable TV title                                                   \n",
       " [68] uncensored intended title                                        \n",
       " [69] last season title                                                \n",
       " [70] Yiddish dubbed                                                   \n",
       " [71] TV listings title                                                \n",
       " [72] YIVO translation                                                 \n",
       " [73] modern translation                                               \n",
       " [74] long new title                                                   \n",
       " [75] director's cut                                                   \n",
       " [76] POLart\\002video box title                                        \n",
       " [77] POLart                                                           \n",
       " [78] cut version\\002reissue title                                     \n",
       " [79] YIVO translation\\002reissue title                                \n",
       " [80] racier version                                                   \n",
       " [81] redubbed comic version                                           \n",
       " [82] X-rated version                                                  \n",
       " [83] copyright title\\002reissue title                                 \n",
       " [84] syndication title                                                \n",
       " [85] fake working title                                               \n",
       " [86] closing credits title                                            \n",
       " [87] armed forces circuit title                                       \n",
       " [88] reissue title\\002short version                                   \n",
       " [89] weekend title                                                    \n",
       " [90] longer version                                                   \n",
       " [91] Pay-TV title                                                     \n",
       " [92] 3-D version                                                      \n",
       " [93] MIFED title                                                      \n",
       " [94] 3-D video title                                                  \n",
       " [95] literal French title                                             \n",
       " [96] expansion title                                                  \n",
       " [97] correct transliteration                                          \n",
       " [98] 16mm rental title                                                \n",
       " [99] teaser title                                                     \n",
       "[100] first season title                                               \n",
       "[101] video CD title                                                   \n",
       "[102] LD title                                                         \n",
       "[103] new syndication title                                            \n",
       "[104] soft porn version                                                \n",
       "[105] unauthorized video title                                         \n",
       "[106] promotional abbreviation                                         \n",
       "[107] English translation of working title                             \n",
       "[108] fourth part title                                                \n",
       "[109] informal title\\002literal title                                  \n",
       "[110] closing credits title\\002pre-release title                       \n",
       "[111] Los Angeles premiere title                                       \n",
       "[112] IMAX version                                                     \n",
       "[113] non-modified Hepburn romanization                                \n",
       "[114] Locarno film festival title                                      \n",
       "[115] ninth season title                                               \n",
       "[116] second season title                                              \n",
       "[117] third season title                                               \n",
       "[118] eighth season title                                              \n",
       "[119] game box title                                                   \n",
       "[120] dubbed version\\002recut version                                  \n",
       "[121] American Mutoscope & Biograph catalog title                      \n",
       "[122] R-rated version                                                  \n",
       "[123] original pilot title                                             \n",
       "[124] thirtyfirst season title                                         \n",
       "[125] Hakka dialect title                                              \n",
       "[126] Bilbao festival title                                            \n",
       "[127] first episodes title                                             \n",
       "[128] eighteenth season title                                          \n",
       "[129] first episode title                                              \n",
       "[130] first segment title                                              \n",
       "[131] second segment title                                             \n",
       "[132] twentythird season title                                         \n",
       "[133] incorrect title                                                  \n",
       "[134] rumored                                                          \n",
       "134 Levels: \\\\N 16mm release title 16mm rental title ... YIVO translation\\002reissue title"
      ]
     },
     "metadata": {},
     "output_type": "display_data"
    }
   ],
   "source": [
    "unique(title_akas$attributes)"
   ]
  },
  {
   "cell_type": "code",
   "execution_count": 26,
   "metadata": {},
   "outputs": [
    {
     "data": {
      "text/html": [
       "0.950926299897648"
      ],
      "text/latex": [
       "0.950926299897648"
      ],
      "text/markdown": [
       "0.950926299897648"
      ],
      "text/plain": [
       "[1] 0.9509263"
      ]
     },
     "metadata": {},
     "output_type": "display_data"
    }
   ],
   "source": [
    "nrow(title_akas[title_akas$attributes==\"\\\\N\",])/nrow(title_akas)"
   ]
  },
  {
   "cell_type": "markdown",
   "metadata": {},
   "source": [
    "* attributes feature has most of its values as NA and would be very complicated to handle (has a lot of levels and some of them are comibned in a string).\n",
    "* It's a useless feature."
   ]
  },
  {
   "cell_type": "markdown",
   "metadata": {},
   "source": [
    " "
   ]
  },
  {
   "cell_type": "markdown",
   "metadata": {},
   "source": [
    "### title (string) – the localized title"
   ]
  },
  {
   "cell_type": "code",
   "execution_count": 28,
   "metadata": {},
   "outputs": [
    {
     "name": "stdout",
     "output_type": "stream",
     "text": [
      " Factor w/ 1515054 levels \"''Nightside''\",..: 112527 328315 328316 246632 112528 328315 328315 70229 809316 19935 ...\n"
     ]
    }
   ],
   "source": [
    "str(title_akas$title)"
   ]
  },
  {
   "cell_type": "markdown",
   "metadata": {},
   "source": [
    "* tilte does not add information from region and language features say\n",
    "* too many levels\n",
    "* problems reading different language titles"
   ]
  },
  {
   "cell_type": "markdown",
   "metadata": {},
   "source": [
    " "
   ]
  },
  {
   "cell_type": "markdown",
   "metadata": {},
   "source": [
    "### types (array) - Enumerated set of attributes for this alternative title"
   ]
  },
  {
   "cell_type": "code",
   "execution_count": 89,
   "metadata": {},
   "outputs": [
    {
     "name": "stdout",
     "output_type": "stream",
     "text": [
      " Factor w/ 23 levels \"\\\\N\",\"alternative\",..: 13 1 13 13 13 1 17 13 17 13 ...\n"
     ]
    }
   ],
   "source": [
    "str(title_akas$types)"
   ]
  },
  {
   "cell_type": "code",
   "execution_count": 90,
   "metadata": {},
   "outputs": [
    {
     "data": {
      "text/html": [
       "<style>\n",
       ".list-inline {list-style: none; margin:0; padding: 0}\n",
       ".list-inline>li {display: inline-block}\n",
       ".list-inline>li:not(:last-child)::after {content: \"\\00b7\"; padding: 0 .5ex}\n",
       "</style>\n",
       "<ol class=list-inline><li>imdbDisplay</li><li>\\\\N</li><li>original</li><li>alternative</li><li>dvd</li><li>festival</li><li>working</li><li>tv</li><li>video</li><li>imdbDisplay\\002tv</li><li>alternative\\002tv</li><li>imdbDisplay\\002working</li><li>festival\\002imdbDisplay</li><li>tv\\002working</li><li>imdbDisplay\\002video</li><li>alternative\\002dvd</li><li>tv\\002video</li><li>dvd\\002imdbDisplay</li><li>alternative\\002working</li><li>video\\002working</li><li>alternative\\002video</li><li>festival\\002working</li><li>dvd\\002video</li></ol>\n",
       "\n",
       "<details>\n",
       "\t<summary style=display:list-item;cursor:pointer>\n",
       "\t\t<strong>Levels</strong>:\n",
       "\t</summary>\n",
       "\t<style>\n",
       "\t.list-inline {list-style: none; margin:0; padding: 0}\n",
       "\t.list-inline>li {display: inline-block}\n",
       "\t.list-inline>li:not(:last-child)::after {content: \"\\00b7\"; padding: 0 .5ex}\n",
       "\t</style>\n",
       "\t<ol class=list-inline><li>'\\\\N'</li><li>'alternative'</li><li>'alternative\\002dvd'</li><li>'alternative\\002tv'</li><li>'alternative\\002video'</li><li>'alternative\\002working'</li><li>'dvd'</li><li>'dvd\\002imdbDisplay'</li><li>'dvd\\002video'</li><li>'festival'</li><li>'festival\\002imdbDisplay'</li><li>'festival\\002working'</li><li>'imdbDisplay'</li><li>'imdbDisplay\\002tv'</li><li>'imdbDisplay\\002video'</li><li>'imdbDisplay\\002working'</li><li>'original'</li><li>'tv'</li><li>'tv\\002video'</li><li>'tv\\002working'</li><li>'video'</li><li>'video\\002working'</li><li>'working'</li></ol>\n",
       "</details>"
      ],
      "text/latex": [
       "\\begin{enumerate*}\n",
       "\\item imdbDisplay\n",
       "\\item \\textbackslash{}\\textbackslash{}N\n",
       "\\item original\n",
       "\\item alternative\n",
       "\\item dvd\n",
       "\\item festival\n",
       "\\item working\n",
       "\\item tv\n",
       "\\item video\n",
       "\\item imdbDisplay\\textbackslash{}002tv\n",
       "\\item alternative\\textbackslash{}002tv\n",
       "\\item imdbDisplay\\textbackslash{}002working\n",
       "\\item festival\\textbackslash{}002imdbDisplay\n",
       "\\item tv\\textbackslash{}002working\n",
       "\\item imdbDisplay\\textbackslash{}002video\n",
       "\\item alternative\\textbackslash{}002dvd\n",
       "\\item tv\\textbackslash{}002video\n",
       "\\item dvd\\textbackslash{}002imdbDisplay\n",
       "\\item alternative\\textbackslash{}002working\n",
       "\\item video\\textbackslash{}002working\n",
       "\\item alternative\\textbackslash{}002video\n",
       "\\item festival\\textbackslash{}002working\n",
       "\\item dvd\\textbackslash{}002video\n",
       "\\end{enumerate*}\n",
       "\n",
       "\\emph{Levels}: \\begin{enumerate*}\n",
       "\\item '\\textbackslash{}\\textbackslash{}N'\n",
       "\\item 'alternative'\n",
       "\\item 'alternative\\textbackslash{}002dvd'\n",
       "\\item 'alternative\\textbackslash{}002tv'\n",
       "\\item 'alternative\\textbackslash{}002video'\n",
       "\\item 'alternative\\textbackslash{}002working'\n",
       "\\item 'dvd'\n",
       "\\item 'dvd\\textbackslash{}002imdbDisplay'\n",
       "\\item 'dvd\\textbackslash{}002video'\n",
       "\\item 'festival'\n",
       "\\item 'festival\\textbackslash{}002imdbDisplay'\n",
       "\\item 'festival\\textbackslash{}002working'\n",
       "\\item 'imdbDisplay'\n",
       "\\item 'imdbDisplay\\textbackslash{}002tv'\n",
       "\\item 'imdbDisplay\\textbackslash{}002video'\n",
       "\\item 'imdbDisplay\\textbackslash{}002working'\n",
       "\\item 'original'\n",
       "\\item 'tv'\n",
       "\\item 'tv\\textbackslash{}002video'\n",
       "\\item 'tv\\textbackslash{}002working'\n",
       "\\item 'video'\n",
       "\\item 'video\\textbackslash{}002working'\n",
       "\\item 'working'\n",
       "\\end{enumerate*}\n"
      ],
      "text/markdown": [
       "1. imdbDisplay\n",
       "2. \\\\N\n",
       "3. original\n",
       "4. alternative\n",
       "5. dvd\n",
       "6. festival\n",
       "7. working\n",
       "8. tv\n",
       "9. video\n",
       "10. imdbDisplay\\002tv\n",
       "11. alternative\\002tv\n",
       "12. imdbDisplay\\002working\n",
       "13. festival\\002imdbDisplay\n",
       "14. tv\\002working\n",
       "15. imdbDisplay\\002video\n",
       "16. alternative\\002dvd\n",
       "17. tv\\002video\n",
       "18. dvd\\002imdbDisplay\n",
       "19. alternative\\002working\n",
       "20. video\\002working\n",
       "21. alternative\\002video\n",
       "22. festival\\002working\n",
       "23. dvd\\002video\n",
       "\n",
       "\n",
       "\n",
       "**Levels**: 1. '\\\\N'\n",
       "2. 'alternative'\n",
       "3. 'alternative\\002dvd'\n",
       "4. 'alternative\\002tv'\n",
       "5. 'alternative\\002video'\n",
       "6. 'alternative\\002working'\n",
       "7. 'dvd'\n",
       "8. 'dvd\\002imdbDisplay'\n",
       "9. 'dvd\\002video'\n",
       "10. 'festival'\n",
       "11. 'festival\\002imdbDisplay'\n",
       "12. 'festival\\002working'\n",
       "13. 'imdbDisplay'\n",
       "14. 'imdbDisplay\\002tv'\n",
       "15. 'imdbDisplay\\002video'\n",
       "16. 'imdbDisplay\\002working'\n",
       "17. 'original'\n",
       "18. 'tv'\n",
       "19. 'tv\\002video'\n",
       "20. 'tv\\002working'\n",
       "21. 'video'\n",
       "22. 'video\\002working'\n",
       "23. 'working'\n",
       "\n",
       "\n"
      ],
      "text/plain": [
       " [1] imdbDisplay             \\\\N                     original               \n",
       " [4] alternative             dvd                     festival               \n",
       " [7] working                 tv                      video                  \n",
       "[10] imdbDisplay\\002tv       alternative\\002tv       imdbDisplay\\002working \n",
       "[13] festival\\002imdbDisplay tv\\002working           imdbDisplay\\002video   \n",
       "[16] alternative\\002dvd      tv\\002video             dvd\\002imdbDisplay     \n",
       "[19] alternative\\002working  video\\002working        alternative\\002video   \n",
       "[22] festival\\002working     dvd\\002video           \n",
       "23 Levels: \\\\N alternative alternative\\002dvd ... working"
      ]
     },
     "metadata": {},
     "output_type": "display_data"
    }
   ],
   "source": [
    "unique(title_akas$types)"
   ]
  },
  {
   "cell_type": "code",
   "execution_count": 91,
   "metadata": {},
   "outputs": [
    {
     "data": {
      "text/html": [
       "0.523503155358139"
      ],
      "text/latex": [
       "0.523503155358139"
      ],
      "text/markdown": [
       "0.523503155358139"
      ],
      "text/plain": [
       "[1] 0.5235032"
      ]
     },
     "metadata": {},
     "output_type": "display_data"
    }
   ],
   "source": [
    "nrow(title_akas[title_akas$types==\"\\\\N\",])/nrow(title_akas)"
   ]
  },
  {
   "cell_type": "code",
   "execution_count": 63,
   "metadata": {},
   "outputs": [
    {
     "data": {
      "image/png": "[encoded data removed]",
      "text/plain": [
       "plot without title"
      ]
     },
     "metadata": {
      "image/png": {
       "height": 420,
       "width": 420
      }
     },
     "output_type": "display_data"
    },
    {
     "data": {
      "image/png": "[encoded data removed]",
      "text/plain": [
       "plot without title"
      ]
     },
     "metadata": {
      "image/png": {
       "height": 420,
       "width": 420
      }
     },
     "output_type": "display_data"
    }
   ],
   "source": [
    "ggplot(title_akas, aes(x=types)) + geom_bar()\n",
    "ggplot(title_akas[title_akas$types!=\"\\\\N\",], aes(x=types)) + geom_bar()"
   ]
  },
  {
   "cell_type": "code",
   "execution_count": 55,
   "metadata": {},
   "outputs": [],
   "source": [
    "single_types = c(\"imdbDisplay\", \"original\", \"alternative\", \"dvd\", \"festival\", \"working\", \"tv\", \"video\")\n",
    "single_types_subset = title_akas[title_akas$types %in% single_types,]\n",
    "couple_types_subset = title_akas[!title_akas$types %in% single_types,]"
   ]
  },
  {
   "cell_type": "code",
   "execution_count": 64,
   "metadata": {},
   "outputs": [
    {
     "data": {
      "image/png": "[encoded data removed]",
      "text/plain": [
       "plot without title"
      ]
     },
     "metadata": {
      "image/png": {
       "height": 420,
       "width": 420
      }
     },
     "output_type": "display_data"
    },
    {
     "data": {
      "image/png": "[encoded data removed]",
      "text/plain": [
       "plot without title"
      ]
     },
     "metadata": {
      "image/png": {
       "height": 420,
       "width": 420
      }
     },
     "output_type": "display_data"
    }
   ],
   "source": [
    "ggplot(single_types_subset, aes(x=types)) + geom_bar()\n",
    "#ggplot(couple_types_subset, aes(x=types)) + geom_bar()\n",
    "ggplot(couple_types_subset[couple_types_subset$types!=\"\\\\N\",], aes(x=types)) + geom_bar()"
   ]
  },
  {
   "cell_type": "code",
   "execution_count": 67,
   "metadata": {},
   "outputs": [
    {
     "data": {
      "text/html": [
       "8662"
      ],
      "text/latex": [
       "8662"
      ],
      "text/markdown": [
       "8662"
      ],
      "text/plain": [
       "[1] 8662"
      ]
     },
     "metadata": {},
     "output_type": "display_data"
    },
    {
     "data": {
      "text/html": [
       "1157770"
      ],
      "text/latex": [
       "1157770"
      ],
      "text/markdown": [
       "1157770"
      ],
      "text/plain": [
       "[1] 1157770"
      ]
     },
     "metadata": {},
     "output_type": "display_data"
    }
   ],
   "source": [
    "nrow(title_akas[title_akas$types==\"festival\",])\n",
    "nrow(couple_types_subset) # these are too many to be deleted"
   ]
  },
  {
   "cell_type": "markdown",
   "metadata": {},
   "source": [
    "* has half of missing values, to many to perform imputation of values, should be removed\n",
    "* the categories are at most a combination of 2, so a possible way to deal with this is to create 2 new columns\n",
    "* single unique categories - imdbDisplay, original, alternative, dvd, festival, working, tv, video"
   ]
  },
  {
   "cell_type": "code",
   "execution_count": 106,
   "metadata": {},
   "outputs": [],
   "source": [
    "# remove NA\n",
    "ta_clean = title_akas[title_akas$types!=\"\\\\N\",]\n",
    "ta_clean$types = factor(ta_clean$types)"
   ]
  },
  {
   "cell_type": "code",
   "execution_count": 107,
   "metadata": {},
   "outputs": [
    {
     "data": {
      "text/html": [
       "<style>\n",
       ".list-inline {list-style: none; margin:0; padding: 0}\n",
       ".list-inline>li {display: inline-block}\n",
       ".list-inline>li:not(:last-child)::after {content: \"\\00b7\"; padding: 0 .5ex}\n",
       "</style>\n",
       "<ol class=list-inline><li>'alternative'</li><li>'alternative\\002dvd'</li><li>'alternative\\002tv'</li><li>'alternative\\002video'</li><li>'alternative\\002working'</li><li>'dvd'</li><li>'dvd\\002imdbDisplay'</li><li>'dvd\\002video'</li><li>'festival'</li><li>'festival\\002imdbDisplay'</li><li>'festival\\002working'</li><li>'imdbDisplay'</li><li>'imdbDisplay\\002tv'</li><li>'imdbDisplay\\002video'</li><li>'imdbDisplay\\002working'</li><li>'original'</li><li>'tv'</li><li>'tv\\002video'</li><li>'tv\\002working'</li><li>'video'</li><li>'video\\002working'</li><li>'working'</li></ol>\n"
      ],
      "text/latex": [
       "\\begin{enumerate*}\n",
       "\\item 'alternative'\n",
       "\\item 'alternative\\textbackslash{}002dvd'\n",
       "\\item 'alternative\\textbackslash{}002tv'\n",
       "\\item 'alternative\\textbackslash{}002video'\n",
       "\\item 'alternative\\textbackslash{}002working'\n",
       "\\item 'dvd'\n",
       "\\item 'dvd\\textbackslash{}002imdbDisplay'\n",
       "\\item 'dvd\\textbackslash{}002video'\n",
       "\\item 'festival'\n",
       "\\item 'festival\\textbackslash{}002imdbDisplay'\n",
       "\\item 'festival\\textbackslash{}002working'\n",
       "\\item 'imdbDisplay'\n",
       "\\item 'imdbDisplay\\textbackslash{}002tv'\n",
       "\\item 'imdbDisplay\\textbackslash{}002video'\n",
       "\\item 'imdbDisplay\\textbackslash{}002working'\n",
       "\\item 'original'\n",
       "\\item 'tv'\n",
       "\\item 'tv\\textbackslash{}002video'\n",
       "\\item 'tv\\textbackslash{}002working'\n",
       "\\item 'video'\n",
       "\\item 'video\\textbackslash{}002working'\n",
       "\\item 'working'\n",
       "\\end{enumerate*}\n"
      ],
      "text/markdown": [
       "1. 'alternative'\n",
       "2. 'alternative\\002dvd'\n",
       "3. 'alternative\\002tv'\n",
       "4. 'alternative\\002video'\n",
       "5. 'alternative\\002working'\n",
       "6. 'dvd'\n",
       "7. 'dvd\\002imdbDisplay'\n",
       "8. 'dvd\\002video'\n",
       "9. 'festival'\n",
       "10. 'festival\\002imdbDisplay'\n",
       "11. 'festival\\002working'\n",
       "12. 'imdbDisplay'\n",
       "13. 'imdbDisplay\\002tv'\n",
       "14. 'imdbDisplay\\002video'\n",
       "15. 'imdbDisplay\\002working'\n",
       "16. 'original'\n",
       "17. 'tv'\n",
       "18. 'tv\\002video'\n",
       "19. 'tv\\002working'\n",
       "20. 'video'\n",
       "21. 'video\\002working'\n",
       "22. 'working'\n",
       "\n",
       "\n"
      ],
      "text/plain": [
       " [1] \"alternative\"             \"alternative\\002dvd\"     \n",
       " [3] \"alternative\\002tv\"       \"alternative\\002video\"   \n",
       " [5] \"alternative\\002working\"  \"dvd\"                    \n",
       " [7] \"dvd\\002imdbDisplay\"      \"dvd\\002video\"           \n",
       " [9] \"festival\"                \"festival\\002imdbDisplay\"\n",
       "[11] \"festival\\002working\"     \"imdbDisplay\"            \n",
       "[13] \"imdbDisplay\\002tv\"       \"imdbDisplay\\002video\"   \n",
       "[15] \"imdbDisplay\\002working\"  \"original\"               \n",
       "[17] \"tv\"                      \"tv\\002video\"            \n",
       "[19] \"tv\\002working\"           \"video\"                  \n",
       "[21] \"video\\002working\"        \"working\"                "
      ]
     },
     "metadata": {},
     "output_type": "display_data"
    }
   ],
   "source": [
    "levels(ta_clean$types)"
   ]
  },
  {
   "cell_type": "code",
   "execution_count": 69,
   "metadata": {},
   "outputs": [],
   "source": [
    "# TODO: \n",
    "# split types"
   ]
  },
  {
   "cell_type": "markdown",
   "metadata": {},
   "source": [
    " "
   ]
  },
  {
   "cell_type": "markdown",
   "metadata": {},
   "source": [
    "### region (string) - the region for this version of the title"
   ]
  },
  {
   "cell_type": "code",
   "execution_count": 73,
   "metadata": {},
   "outputs": [
    {
     "name": "stdout",
     "output_type": "stream",
     "text": [
      " Factor w/ 236 levels \"\\\\N\",\"AD\",\"AE\",..: 207 94 85 175 1 107 1 94 173 175 ...\n"
     ]
    }
   ],
   "source": [
    "str(title_akas$region)"
   ]
  },
  {
   "cell_type": "markdown",
   "metadata": {},
   "source": [
    " "
   ]
  },
  {
   "cell_type": "markdown",
   "metadata": {},
   "source": [
    "### language (string) - the language of the title"
   ]
  },
  {
   "cell_type": "markdown",
   "metadata": {},
   "source": [
    "### is original title (boolean) – 0: not original title; 1: original title"
   ]
  },
  {
   "cell_type": "markdown",
   "metadata": {},
   "source": [
    "### removing useless features"
   ]
  },
  {
   "cell_type": "code",
   "execution_count": 30,
   "metadata": {},
   "outputs": [],
   "source": [
    "#title_akas$ordering = NULL\n",
    "#title_akas$attributes = NULL\n",
    "#title_akas$title = NULL"
   ]
  },
  {
   "cell_type": "code",
   "execution_count": 71,
   "metadata": {},
   "outputs": [
    {
     "data": {
      "text/html": [
       "<table>\n",
       "<caption>A data.frame: 6 × 5</caption>\n",
       "<thead>\n",
       "\t<tr><th></th><th scope=col>titleId</th><th scope=col>region</th><th scope=col>language</th><th scope=col>types</th><th scope=col>isOriginalTitle</th></tr>\n",
       "\t<tr><th></th><th scope=col>&lt;fct&gt;</th><th scope=col>&lt;fct&gt;</th><th scope=col>&lt;fct&gt;</th><th scope=col>&lt;fct&gt;</th><th scope=col>&lt;fct&gt;</th></tr>\n",
       "</thead>\n",
       "<tbody>\n",
       "\t<tr><th scope=row>1</th><td>tt0000001</td><td>UA </td><td>\\N</td><td>imdbDisplay</td><td>0</td></tr>\n",
       "\t<tr><th scope=row>3</th><td>tt0000001</td><td>HU </td><td>\\N</td><td>imdbDisplay</td><td>0</td></tr>\n",
       "\t<tr><th scope=row>4</th><td>tt0000001</td><td>GR </td><td>\\N</td><td>imdbDisplay</td><td>0</td></tr>\n",
       "\t<tr><th scope=row>5</th><td>tt0000001</td><td>RU </td><td>\\N</td><td>imdbDisplay</td><td>0</td></tr>\n",
       "\t<tr><th scope=row>7</th><td>tt0000001</td><td>\\N</td><td>\\N</td><td>original   </td><td>1</td></tr>\n",
       "\t<tr><th scope=row>8</th><td>tt0000001</td><td>JP </td><td>ja </td><td>imdbDisplay</td><td>0</td></tr>\n",
       "</tbody>\n",
       "</table>\n"
      ],
      "text/latex": [
       "A data.frame: 6 × 5\n",
       "\\begin{tabular}{r|lllll}\n",
       "  & titleId & region & language & types & isOriginalTitle\\\\\n",
       "  & <fct> & <fct> & <fct> & <fct> & <fct>\\\\\n",
       "\\hline\n",
       "\t1 & tt0000001 & UA  & \\textbackslash{}N & imdbDisplay & 0\\\\\n",
       "\t3 & tt0000001 & HU  & \\textbackslash{}N & imdbDisplay & 0\\\\\n",
       "\t4 & tt0000001 & GR  & \\textbackslash{}N & imdbDisplay & 0\\\\\n",
       "\t5 & tt0000001 & RU  & \\textbackslash{}N & imdbDisplay & 0\\\\\n",
       "\t7 & tt0000001 & \\textbackslash{}N & \\textbackslash{}N & original    & 1\\\\\n",
       "\t8 & tt0000001 & JP  & ja  & imdbDisplay & 0\\\\\n",
       "\\end{tabular}\n"
      ],
      "text/markdown": [
       "\n",
       "A data.frame: 6 × 5\n",
       "\n",
       "| <!--/--> | titleId &lt;fct&gt; | region &lt;fct&gt; | language &lt;fct&gt; | types &lt;fct&gt; | isOriginalTitle &lt;fct&gt; |\n",
       "|---|---|---|---|---|---|\n",
       "| 1 | tt0000001 | UA  | \\N | imdbDisplay | 0 |\n",
       "| 3 | tt0000001 | HU  | \\N | imdbDisplay | 0 |\n",
       "| 4 | tt0000001 | GR  | \\N | imdbDisplay | 0 |\n",
       "| 5 | tt0000001 | RU  | \\N | imdbDisplay | 0 |\n",
       "| 7 | tt0000001 | \\N | \\N | original    | 1 |\n",
       "| 8 | tt0000001 | JP  | ja  | imdbDisplay | 0 |\n",
       "\n"
      ],
      "text/plain": [
       "  titleId   region language types       isOriginalTitle\n",
       "1 tt0000001 UA     \\\\N      imdbDisplay 0              \n",
       "3 tt0000001 HU     \\\\N      imdbDisplay 0              \n",
       "4 tt0000001 GR     \\\\N      imdbDisplay 0              \n",
       "5 tt0000001 RU     \\\\N      imdbDisplay 0              \n",
       "7 tt0000001 \\\\N    \\\\N      original    1              \n",
       "8 tt0000001 JP     ja       imdbDisplay 0              "
      ]
     },
     "metadata": {},
     "output_type": "display_data"
    }
   ],
   "source": [
    "head(ta_clean)"
   ]
  },
  {
   "cell_type": "markdown",
   "metadata": {},
   "source": [
    "### Name Basics"
   ]
  },
  {
   "cell_type": "code",
   "execution_count": 4,
   "metadata": {},
   "outputs": [
    {
     "data": {
      "text/html": [
       "<table>\n",
       "<caption>A data.frame: 6 × 6</caption>\n",
       "<thead>\n",
       "\t<tr><th></th><th scope=col>nconst</th><th scope=col>primaryName</th><th scope=col>birthYear</th><th scope=col>deathYear</th><th scope=col>primaryProfession</th><th scope=col>knownForTitles</th></tr>\n",
       "\t<tr><th></th><th scope=col>&lt;fct&gt;</th><th scope=col>&lt;fct&gt;</th><th scope=col>&lt;fct&gt;</th><th scope=col>&lt;dbl&gt;</th><th scope=col>&lt;fct&gt;</th><th scope=col>&lt;fct&gt;</th></tr>\n",
       "</thead>\n",
       "<tbody>\n",
       "\t<tr><th scope=row>1</th><td>nm0000001</td><td>Fred Astaire   </td><td>1899</td><td>306</td><td>soundtrack,actor,miscellaneous     </td><td>tt0053137,tt0072308,tt0050419,tt0031983</td></tr>\n",
       "\t<tr><th scope=row>2</th><td>nm0000002</td><td>Lauren Bacall  </td><td>1924</td><td>333</td><td>actress,soundtrack                 </td><td>tt0117057,tt0071877,tt0038355,tt0037382</td></tr>\n",
       "\t<tr><th scope=row>3</th><td>nm0000003</td><td>Brigitte Bardot</td><td>1934</td><td>  1</td><td>actress,soundtrack,music_department</td><td>tt0049189,tt0054452,tt0057345,tt0059956</td></tr>\n",
       "\t<tr><th scope=row>4</th><td>nm0000004</td><td>John Belushi   </td><td>1949</td><td>301</td><td>actor,soundtrack,writer            </td><td>tt0072562,tt0077975,tt0078723,tt0080455</td></tr>\n",
       "\t<tr><th scope=row>5</th><td>nm0000005</td><td>Ingmar Bergman </td><td>1918</td><td>326</td><td>writer,director,actor              </td><td>tt0050986,tt0060827,tt0083922,tt0050976</td></tr>\n",
       "\t<tr><th scope=row>6</th><td>nm0000006</td><td>Ingrid Bergman </td><td>1915</td><td>301</td><td>actress,soundtrack,producer        </td><td>tt0034583,tt0036855,tt0038787,tt0038109</td></tr>\n",
       "</tbody>\n",
       "</table>\n"
      ],
      "text/latex": [
       "A data.frame: 6 × 6\n",
       "\\begin{tabular}{r|llllll}\n",
       "  & nconst & primaryName & birthYear & deathYear & primaryProfession & knownForTitles\\\\\n",
       "  & <fct> & <fct> & <fct> & <dbl> & <fct> & <fct>\\\\\n",
       "\\hline\n",
       "\t1 & nm0000001 & Fred Astaire    & 1899 & 306 & soundtrack,actor,miscellaneous      & tt0053137,tt0072308,tt0050419,tt0031983\\\\\n",
       "\t2 & nm0000002 & Lauren Bacall   & 1924 & 333 & actress,soundtrack                  & tt0117057,tt0071877,tt0038355,tt0037382\\\\\n",
       "\t3 & nm0000003 & Brigitte Bardot & 1934 &   1 & actress,soundtrack,music\\_department & tt0049189,tt0054452,tt0057345,tt0059956\\\\\n",
       "\t4 & nm0000004 & John Belushi    & 1949 & 301 & actor,soundtrack,writer             & tt0072562,tt0077975,tt0078723,tt0080455\\\\\n",
       "\t5 & nm0000005 & Ingmar Bergman  & 1918 & 326 & writer,director,actor               & tt0050986,tt0060827,tt0083922,tt0050976\\\\\n",
       "\t6 & nm0000006 & Ingrid Bergman  & 1915 & 301 & actress,soundtrack,producer         & tt0034583,tt0036855,tt0038787,tt0038109\\\\\n",
       "\\end{tabular}\n"
      ],
      "text/markdown": [
       "\n",
       "A data.frame: 6 × 6\n",
       "\n",
       "| <!--/--> | nconst &lt;fct&gt; | primaryName &lt;fct&gt; | birthYear &lt;fct&gt; | deathYear &lt;dbl&gt; | primaryProfession &lt;fct&gt; | knownForTitles &lt;fct&gt; |\n",
       "|---|---|---|---|---|---|---|\n",
       "| 1 | nm0000001 | Fred Astaire    | 1899 | 306 | soundtrack,actor,miscellaneous      | tt0053137,tt0072308,tt0050419,tt0031983 |\n",
       "| 2 | nm0000002 | Lauren Bacall   | 1924 | 333 | actress,soundtrack                  | tt0117057,tt0071877,tt0038355,tt0037382 |\n",
       "| 3 | nm0000003 | Brigitte Bardot | 1934 |   1 | actress,soundtrack,music_department | tt0049189,tt0054452,tt0057345,tt0059956 |\n",
       "| 4 | nm0000004 | John Belushi    | 1949 | 301 | actor,soundtrack,writer             | tt0072562,tt0077975,tt0078723,tt0080455 |\n",
       "| 5 | nm0000005 | Ingmar Bergman  | 1918 | 326 | writer,director,actor               | tt0050986,tt0060827,tt0083922,tt0050976 |\n",
       "| 6 | nm0000006 | Ingrid Bergman  | 1915 | 301 | actress,soundtrack,producer         | tt0034583,tt0036855,tt0038787,tt0038109 |\n",
       "\n"
      ],
      "text/plain": [
       "  nconst    primaryName     birthYear deathYear\n",
       "1 nm0000001 Fred Astaire    1899      306      \n",
       "2 nm0000002 Lauren Bacall   1924      333      \n",
       "3 nm0000003 Brigitte Bardot 1934        1      \n",
       "4 nm0000004 John Belushi    1949      301      \n",
       "5 nm0000005 Ingmar Bergman  1918      326      \n",
       "6 nm0000006 Ingrid Bergman  1915      301      \n",
       "  primaryProfession                   knownForTitles                         \n",
       "1 soundtrack,actor,miscellaneous      tt0053137,tt0072308,tt0050419,tt0031983\n",
       "2 actress,soundtrack                  tt0117057,tt0071877,tt0038355,tt0037382\n",
       "3 actress,soundtrack,music_department tt0049189,tt0054452,tt0057345,tt0059956\n",
       "4 actor,soundtrack,writer             tt0072562,tt0077975,tt0078723,tt0080455\n",
       "5 writer,director,actor               tt0050986,tt0060827,tt0083922,tt0050976\n",
       "6 actress,soundtrack,producer         tt0034583,tt0036855,tt0038787,tt0038109"
      ]
     },
     "metadata": {},
     "output_type": "display_data"
    }
   ],
   "source": [
    "head(name_basics)"
   ]
  },
  {
   "cell_type": "markdown",
   "metadata": {},
   "source": [
    "Changing feature types:\n",
    "birthYear -> int\n",
    "deathYear -> int\n",
    "primaryProfession and KnownForTitle needs work"
   ]
  },
  {
   "cell_type": "code",
   "execution_count": 3,
   "metadata": {},
   "outputs": [],
   "source": [
    "name_basics$birthYear = as.factor(name_basics$birthYear)\n",
    "name_basics$deathYear = as.numeric(name_basics$deathYear)"
   ]
  },
  {
   "cell_type": "code",
   "execution_count": 5,
   "metadata": {},
   "outputs": [
    {
     "data": {
      "text/html": [
       "<table>\n",
       "<caption>A data.frame: 6 × 6</caption>\n",
       "<thead>\n",
       "\t<tr><th></th><th scope=col>nconst</th><th scope=col>primaryName</th><th scope=col>birthYear</th><th scope=col>deathYear</th><th scope=col>primaryProfession</th><th scope=col>knownForTitles</th></tr>\n",
       "\t<tr><th></th><th scope=col>&lt;fct&gt;</th><th scope=col>&lt;fct&gt;</th><th scope=col>&lt;fct&gt;</th><th scope=col>&lt;dbl&gt;</th><th scope=col>&lt;fct&gt;</th><th scope=col>&lt;fct&gt;</th></tr>\n",
       "</thead>\n",
       "<tbody>\n",
       "\t<tr><th scope=row>1</th><td>nm0000001</td><td>Fred Astaire   </td><td>1899</td><td>306</td><td>soundtrack,actor,miscellaneous     </td><td>tt0053137,tt0072308,tt0050419,tt0031983</td></tr>\n",
       "\t<tr><th scope=row>2</th><td>nm0000002</td><td>Lauren Bacall  </td><td>1924</td><td>333</td><td>actress,soundtrack                 </td><td>tt0117057,tt0071877,tt0038355,tt0037382</td></tr>\n",
       "\t<tr><th scope=row>3</th><td>nm0000003</td><td>Brigitte Bardot</td><td>1934</td><td>  1</td><td>actress,soundtrack,music_department</td><td>tt0049189,tt0054452,tt0057345,tt0059956</td></tr>\n",
       "\t<tr><th scope=row>4</th><td>nm0000004</td><td>John Belushi   </td><td>1949</td><td>301</td><td>actor,soundtrack,writer            </td><td>tt0072562,tt0077975,tt0078723,tt0080455</td></tr>\n",
       "\t<tr><th scope=row>5</th><td>nm0000005</td><td>Ingmar Bergman </td><td>1918</td><td>326</td><td>writer,director,actor              </td><td>tt0050986,tt0060827,tt0083922,tt0050976</td></tr>\n",
       "\t<tr><th scope=row>6</th><td>nm0000006</td><td>Ingrid Bergman </td><td>1915</td><td>301</td><td>actress,soundtrack,producer        </td><td>tt0034583,tt0036855,tt0038787,tt0038109</td></tr>\n",
       "</tbody>\n",
       "</table>\n"
      ],
      "text/latex": [
       "A data.frame: 6 × 6\n",
       "\\begin{tabular}{r|llllll}\n",
       "  & nconst & primaryName & birthYear & deathYear & primaryProfession & knownForTitles\\\\\n",
       "  & <fct> & <fct> & <fct> & <dbl> & <fct> & <fct>\\\\\n",
       "\\hline\n",
       "\t1 & nm0000001 & Fred Astaire    & 1899 & 306 & soundtrack,actor,miscellaneous      & tt0053137,tt0072308,tt0050419,tt0031983\\\\\n",
       "\t2 & nm0000002 & Lauren Bacall   & 1924 & 333 & actress,soundtrack                  & tt0117057,tt0071877,tt0038355,tt0037382\\\\\n",
       "\t3 & nm0000003 & Brigitte Bardot & 1934 &   1 & actress,soundtrack,music\\_department & tt0049189,tt0054452,tt0057345,tt0059956\\\\\n",
       "\t4 & nm0000004 & John Belushi    & 1949 & 301 & actor,soundtrack,writer             & tt0072562,tt0077975,tt0078723,tt0080455\\\\\n",
       "\t5 & nm0000005 & Ingmar Bergman  & 1918 & 326 & writer,director,actor               & tt0050986,tt0060827,tt0083922,tt0050976\\\\\n",
       "\t6 & nm0000006 & Ingrid Bergman  & 1915 & 301 & actress,soundtrack,producer         & tt0034583,tt0036855,tt0038787,tt0038109\\\\\n",
       "\\end{tabular}\n"
      ],
      "text/markdown": [
       "\n",
       "A data.frame: 6 × 6\n",
       "\n",
       "| <!--/--> | nconst &lt;fct&gt; | primaryName &lt;fct&gt; | birthYear &lt;fct&gt; | deathYear &lt;dbl&gt; | primaryProfession &lt;fct&gt; | knownForTitles &lt;fct&gt; |\n",
       "|---|---|---|---|---|---|---|\n",
       "| 1 | nm0000001 | Fred Astaire    | 1899 | 306 | soundtrack,actor,miscellaneous      | tt0053137,tt0072308,tt0050419,tt0031983 |\n",
       "| 2 | nm0000002 | Lauren Bacall   | 1924 | 333 | actress,soundtrack                  | tt0117057,tt0071877,tt0038355,tt0037382 |\n",
       "| 3 | nm0000003 | Brigitte Bardot | 1934 |   1 | actress,soundtrack,music_department | tt0049189,tt0054452,tt0057345,tt0059956 |\n",
       "| 4 | nm0000004 | John Belushi    | 1949 | 301 | actor,soundtrack,writer             | tt0072562,tt0077975,tt0078723,tt0080455 |\n",
       "| 5 | nm0000005 | Ingmar Bergman  | 1918 | 326 | writer,director,actor               | tt0050986,tt0060827,tt0083922,tt0050976 |\n",
       "| 6 | nm0000006 | Ingrid Bergman  | 1915 | 301 | actress,soundtrack,producer         | tt0034583,tt0036855,tt0038787,tt0038109 |\n",
       "\n"
      ],
      "text/plain": [
       "  nconst    primaryName     birthYear deathYear\n",
       "1 nm0000001 Fred Astaire    1899      306      \n",
       "2 nm0000002 Lauren Bacall   1924      333      \n",
       "3 nm0000003 Brigitte Bardot 1934        1      \n",
       "4 nm0000004 John Belushi    1949      301      \n",
       "5 nm0000005 Ingmar Bergman  1918      326      \n",
       "6 nm0000006 Ingrid Bergman  1915      301      \n",
       "  primaryProfession                   knownForTitles                         \n",
       "1 soundtrack,actor,miscellaneous      tt0053137,tt0072308,tt0050419,tt0031983\n",
       "2 actress,soundtrack                  tt0117057,tt0071877,tt0038355,tt0037382\n",
       "3 actress,soundtrack,music_department tt0049189,tt0054452,tt0057345,tt0059956\n",
       "4 actor,soundtrack,writer             tt0072562,tt0077975,tt0078723,tt0080455\n",
       "5 writer,director,actor               tt0050986,tt0060827,tt0083922,tt0050976\n",
       "6 actress,soundtrack,producer         tt0034583,tt0036855,tt0038787,tt0038109"
      ]
     },
     "metadata": {},
     "output_type": "display_data"
    }
   ],
   "source": [
    "head(name_basics)"
   ]
  },
  {
   "cell_type": "code",
   "execution_count": null,
   "metadata": {},
   "outputs": [],
   "source": [
    "worker_professions = data.frame(nconst=factor(), profession=factor())\n",
    "\n",
    "for(i in 1:nrow(name_basics)){\n",
    "    profession_list = unlist(strsplit(as.character(name_basics$primaryProfession[i]), \",\"),'[.]')\n",
    "    \n",
    "    for(profession in profession_list){\n",
    "        add_row(worker_professions, nconst = name_basics$nconst[i], profession = profession)\n",
    "    }\n",
    "}\n",
    "\n"
   ]
  },
  {
   "cell_type": "code",
   "execution_count": null,
   "metadata": {},
   "outputs": [],
   "source": [
    "worker_professions = data.frame(nconst=factor(), profession=factor())\n",
    "add_row(worker_professions,nconst=2,profession=3)"
   ]
  },
  {
   "cell_type": "code",
   "execution_count": null,
   "metadata": {},
   "outputs": [],
   "source": [
    "worker_professions"
   ]
  },
  {
   "cell_type": "markdown",
   "metadata": {},
   "source": [
    "#### title basics"
   ]
  },
  {
   "cell_type": "code",
   "execution_count": 11,
   "metadata": {},
   "outputs": [
    {
     "data": {
      "text/html": [
       "<table>\n",
       "<caption>A data.frame: 6 × 8</caption>\n",
       "<thead>\n",
       "\t<tr><th></th><th scope=col>tconst</th><th scope=col>titleType</th><th scope=col>primaryTitle</th><th scope=col>originalTitle</th><th scope=col>isAdult</th><th scope=col>startYear</th><th scope=col>runtimeMinutes</th><th scope=col>genres</th></tr>\n",
       "\t<tr><th></th><th scope=col>&lt;fct&gt;</th><th scope=col>&lt;fct&gt;</th><th scope=col>&lt;fct&gt;</th><th scope=col>&lt;fct&gt;</th><th scope=col>&lt;int&gt;</th><th scope=col>&lt;fct&gt;</th><th scope=col>&lt;fct&gt;</th><th scope=col>&lt;fct&gt;</th></tr>\n",
       "</thead>\n",
       "<tbody>\n",
       "\t<tr><th scope=row>1</th><td>tt0000001</td><td>short</td><td>Carmencita            </td><td>Carmencita            </td><td>0</td><td>1894</td><td>1 </td><td>Documentary,Short       </td></tr>\n",
       "\t<tr><th scope=row>2</th><td>tt0000002</td><td>short</td><td>Le clown et ses chiens</td><td>Le clown et ses chiens</td><td>0</td><td>1892</td><td>5 </td><td>Animation,Short         </td></tr>\n",
       "\t<tr><th scope=row>3</th><td>tt0000003</td><td>short</td><td>Pauvre Pierrot        </td><td>Pauvre Pierrot        </td><td>0</td><td>1892</td><td>4 </td><td>Animation,Comedy,Romance</td></tr>\n",
       "\t<tr><th scope=row>4</th><td>tt0000004</td><td>short</td><td>Un bon bock           </td><td>Un bon bock           </td><td>0</td><td>1892</td><td>12</td><td>Animation,Short         </td></tr>\n",
       "\t<tr><th scope=row>5</th><td>tt0000005</td><td>short</td><td>Blacksmith Scene      </td><td>Blacksmith Scene      </td><td>0</td><td>1893</td><td>1 </td><td>Comedy,Short            </td></tr>\n",
       "\t<tr><th scope=row>6</th><td>tt0000006</td><td>short</td><td>Chinese Opium Den     </td><td>Chinese Opium Den     </td><td>0</td><td>1894</td><td>1 </td><td>Short                   </td></tr>\n",
       "</tbody>\n",
       "</table>\n"
      ],
      "text/latex": [
       "A data.frame: 6 × 8\n",
       "\\begin{tabular}{r|llllllll}\n",
       "  & tconst & titleType & primaryTitle & originalTitle & isAdult & startYear & runtimeMinutes & genres\\\\\n",
       "  & <fct> & <fct> & <fct> & <fct> & <int> & <fct> & <fct> & <fct>\\\\\n",
       "\\hline\n",
       "\t1 & tt0000001 & short & Carmencita             & Carmencita             & 0 & 1894 & 1  & Documentary,Short       \\\\\n",
       "\t2 & tt0000002 & short & Le clown et ses chiens & Le clown et ses chiens & 0 & 1892 & 5  & Animation,Short         \\\\\n",
       "\t3 & tt0000003 & short & Pauvre Pierrot         & Pauvre Pierrot         & 0 & 1892 & 4  & Animation,Comedy,Romance\\\\\n",
       "\t4 & tt0000004 & short & Un bon bock            & Un bon bock            & 0 & 1892 & 12 & Animation,Short         \\\\\n",
       "\t5 & tt0000005 & short & Blacksmith Scene       & Blacksmith Scene       & 0 & 1893 & 1  & Comedy,Short            \\\\\n",
       "\t6 & tt0000006 & short & Chinese Opium Den      & Chinese Opium Den      & 0 & 1894 & 1  & Short                   \\\\\n",
       "\\end{tabular}\n"
      ],
      "text/markdown": [
       "\n",
       "A data.frame: 6 × 8\n",
       "\n",
       "| <!--/--> | tconst &lt;fct&gt; | titleType &lt;fct&gt; | primaryTitle &lt;fct&gt; | originalTitle &lt;fct&gt; | isAdult &lt;int&gt; | startYear &lt;fct&gt; | runtimeMinutes &lt;fct&gt; | genres &lt;fct&gt; |\n",
       "|---|---|---|---|---|---|---|---|---|\n",
       "| 1 | tt0000001 | short | Carmencita             | Carmencita             | 0 | 1894 | 1  | Documentary,Short        |\n",
       "| 2 | tt0000002 | short | Le clown et ses chiens | Le clown et ses chiens | 0 | 1892 | 5  | Animation,Short          |\n",
       "| 3 | tt0000003 | short | Pauvre Pierrot         | Pauvre Pierrot         | 0 | 1892 | 4  | Animation,Comedy,Romance |\n",
       "| 4 | tt0000004 | short | Un bon bock            | Un bon bock            | 0 | 1892 | 12 | Animation,Short          |\n",
       "| 5 | tt0000005 | short | Blacksmith Scene       | Blacksmith Scene       | 0 | 1893 | 1  | Comedy,Short             |\n",
       "| 6 | tt0000006 | short | Chinese Opium Den      | Chinese Opium Den      | 0 | 1894 | 1  | Short                    |\n",
       "\n"
      ],
      "text/plain": [
       "  tconst    titleType primaryTitle           originalTitle          isAdult\n",
       "1 tt0000001 short     Carmencita             Carmencita             0      \n",
       "2 tt0000002 short     Le clown et ses chiens Le clown et ses chiens 0      \n",
       "3 tt0000003 short     Pauvre Pierrot         Pauvre Pierrot         0      \n",
       "4 tt0000004 short     Un bon bock            Un bon bock            0      \n",
       "5 tt0000005 short     Blacksmith Scene       Blacksmith Scene       0      \n",
       "6 tt0000006 short     Chinese Opium Den      Chinese Opium Den      0      \n",
       "  startYear runtimeMinutes genres                  \n",
       "1 1894      1              Documentary,Short       \n",
       "2 1892      5              Animation,Short         \n",
       "3 1892      4              Animation,Comedy,Romance\n",
       "4 1892      12             Animation,Short         \n",
       "5 1893      1              Comedy,Short            \n",
       "6 1894      1              Short                   "
      ]
     },
     "metadata": {},
     "output_type": "display_data"
    }
   ],
   "source": [
    "head(title_basics)"
   ]
  },
  {
   "cell_type": "markdown",
   "metadata": {},
   "source": [
    "Changing feature types:\n",
    "isAdult -> factor\n",
    "startYear -> int\n",
    "runtimeMinutes -> int\n",
    "genres needs"
   ]
  },
  {
   "cell_type": "code",
   "execution_count": 22,
   "metadata": {},
   "outputs": [],
   "source": [
    "title_basics$isAdult = as.factor(title_basics$isAdult)\n",
    "title_basics$startYear = as.numeric(title_basics$startYear)\n",
    "title_basics$runtimeMinutes = as.numeric(title_basics$runtimeMinutes)"
   ]
  },
  {
   "cell_type": "code",
   "execution_count": 28,
   "metadata": {},
   "outputs": [
    {
     "data": {
      "text/html": [
       "<table>\n",
       "<caption>A data.frame: 6 × 8</caption>\n",
       "<thead>\n",
       "\t<tr><th></th><th scope=col>tconst</th><th scope=col>titleType</th><th scope=col>primaryTitle</th><th scope=col>originalTitle</th><th scope=col>isAdult</th><th scope=col>startYear</th><th scope=col>runtimeMinutes</th><th scope=col>genres</th></tr>\n",
       "\t<tr><th></th><th scope=col>&lt;fct&gt;</th><th scope=col>&lt;fct&gt;</th><th scope=col>&lt;fct&gt;</th><th scope=col>&lt;fct&gt;</th><th scope=col>&lt;fct&gt;</th><th scope=col>&lt;dbl&gt;</th><th scope=col>&lt;dbl&gt;</th><th scope=col>&lt;fct&gt;</th></tr>\n",
       "</thead>\n",
       "<tbody>\n",
       "\t<tr><th scope=row>1</th><td>tt0000001</td><td>short</td><td>Carmencita            </td><td>Carmencita            </td><td>0</td><td>14</td><td>  3</td><td>Documentary,Short       </td></tr>\n",
       "\t<tr><th scope=row>2</th><td>tt0000002</td><td>short</td><td>Le clown et ses chiens</td><td>Le clown et ses chiens</td><td>0</td><td>12</td><td>384</td><td>Animation,Short         </td></tr>\n",
       "\t<tr><th scope=row>3</th><td>tt0000003</td><td>short</td><td>Pauvre Pierrot        </td><td>Pauvre Pierrot        </td><td>0</td><td>12</td><td>340</td><td>Animation,Comedy,Romance</td></tr>\n",
       "\t<tr><th scope=row>4</th><td>tt0000004</td><td>short</td><td>Un bon bock           </td><td>Un bon bock           </td><td>0</td><td>12</td><td> 32</td><td>Animation,Short         </td></tr>\n",
       "\t<tr><th scope=row>5</th><td>tt0000005</td><td>short</td><td>Blacksmith Scene      </td><td>Blacksmith Scene      </td><td>0</td><td>13</td><td>  3</td><td>Comedy,Short            </td></tr>\n",
       "\t<tr><th scope=row>6</th><td>tt0000006</td><td>short</td><td>Chinese Opium Den     </td><td>Chinese Opium Den     </td><td>0</td><td>14</td><td>  3</td><td>Short                   </td></tr>\n",
       "</tbody>\n",
       "</table>\n"
      ],
      "text/latex": [
       "A data.frame: 6 × 8\n",
       "\\begin{tabular}{r|llllllll}\n",
       "  & tconst & titleType & primaryTitle & originalTitle & isAdult & startYear & runtimeMinutes & genres\\\\\n",
       "  & <fct> & <fct> & <fct> & <fct> & <fct> & <dbl> & <dbl> & <fct>\\\\\n",
       "\\hline\n",
       "\t1 & tt0000001 & short & Carmencita             & Carmencita             & 0 & 14 &   3 & Documentary,Short       \\\\\n",
       "\t2 & tt0000002 & short & Le clown et ses chiens & Le clown et ses chiens & 0 & 12 & 384 & Animation,Short         \\\\\n",
       "\t3 & tt0000003 & short & Pauvre Pierrot         & Pauvre Pierrot         & 0 & 12 & 340 & Animation,Comedy,Romance\\\\\n",
       "\t4 & tt0000004 & short & Un bon bock            & Un bon bock            & 0 & 12 &  32 & Animation,Short         \\\\\n",
       "\t5 & tt0000005 & short & Blacksmith Scene       & Blacksmith Scene       & 0 & 13 &   3 & Comedy,Short            \\\\\n",
       "\t6 & tt0000006 & short & Chinese Opium Den      & Chinese Opium Den      & 0 & 14 &   3 & Short                   \\\\\n",
       "\\end{tabular}\n"
      ],
      "text/markdown": [
       "\n",
       "A data.frame: 6 × 8\n",
       "\n",
       "| <!--/--> | tconst &lt;fct&gt; | titleType &lt;fct&gt; | primaryTitle &lt;fct&gt; | originalTitle &lt;fct&gt; | isAdult &lt;fct&gt; | startYear &lt;dbl&gt; | runtimeMinutes &lt;dbl&gt; | genres &lt;fct&gt; |\n",
       "|---|---|---|---|---|---|---|---|---|\n",
       "| 1 | tt0000001 | short | Carmencita             | Carmencita             | 0 | 14 |   3 | Documentary,Short        |\n",
       "| 2 | tt0000002 | short | Le clown et ses chiens | Le clown et ses chiens | 0 | 12 | 384 | Animation,Short          |\n",
       "| 3 | tt0000003 | short | Pauvre Pierrot         | Pauvre Pierrot         | 0 | 12 | 340 | Animation,Comedy,Romance |\n",
       "| 4 | tt0000004 | short | Un bon bock            | Un bon bock            | 0 | 12 |  32 | Animation,Short          |\n",
       "| 5 | tt0000005 | short | Blacksmith Scene       | Blacksmith Scene       | 0 | 13 |   3 | Comedy,Short             |\n",
       "| 6 | tt0000006 | short | Chinese Opium Den      | Chinese Opium Den      | 0 | 14 |   3 | Short                    |\n",
       "\n"
      ],
      "text/plain": [
       "  tconst    titleType primaryTitle           originalTitle          isAdult\n",
       "1 tt0000001 short     Carmencita             Carmencita             0      \n",
       "2 tt0000002 short     Le clown et ses chiens Le clown et ses chiens 0      \n",
       "3 tt0000003 short     Pauvre Pierrot         Pauvre Pierrot         0      \n",
       "4 tt0000004 short     Un bon bock            Un bon bock            0      \n",
       "5 tt0000005 short     Blacksmith Scene       Blacksmith Scene       0      \n",
       "6 tt0000006 short     Chinese Opium Den      Chinese Opium Den      0      \n",
       "  startYear runtimeMinutes genres                  \n",
       "1 14          3            Documentary,Short       \n",
       "2 12        384            Animation,Short         \n",
       "3 12        340            Animation,Comedy,Romance\n",
       "4 12         32            Animation,Short         \n",
       "5 13          3            Comedy,Short            \n",
       "6 14          3            Short                   "
      ]
     },
     "metadata": {},
     "output_type": "display_data"
    }
   ],
   "source": [
    "head(title_basics)"
   ]
  },
  {
   "cell_type": "markdown",
   "metadata": {},
   "source": [
    "#### title principals"
   ]
  },
  {
   "cell_type": "code",
   "execution_count": 17,
   "metadata": {},
   "outputs": [
    {
     "data": {
      "text/html": [
       "<table>\n",
       "<caption>A data.frame: 6 × 3</caption>\n",
       "<thead>\n",
       "\t<tr><th></th><th scope=col>tconst</th><th scope=col>nconst</th><th scope=col>category</th></tr>\n",
       "\t<tr><th></th><th scope=col>&lt;fct&gt;</th><th scope=col>&lt;fct&gt;</th><th scope=col>&lt;fct&gt;</th></tr>\n",
       "</thead>\n",
       "<tbody>\n",
       "\t<tr><th scope=row>1</th><td>tt0000001</td><td>nm1588970</td><td>self           </td></tr>\n",
       "\t<tr><th scope=row>2</th><td>tt0000001</td><td>nm0005690</td><td>director       </td></tr>\n",
       "\t<tr><th scope=row>3</th><td>tt0000001</td><td>nm0374658</td><td>cinematographer</td></tr>\n",
       "\t<tr><th scope=row>4</th><td>tt0000002</td><td>nm0721526</td><td>director       </td></tr>\n",
       "\t<tr><th scope=row>5</th><td>tt0000002</td><td>nm1335271</td><td>composer       </td></tr>\n",
       "\t<tr><th scope=row>6</th><td>tt0000003</td><td>nm0721526</td><td>director       </td></tr>\n",
       "</tbody>\n",
       "</table>\n"
      ],
      "text/latex": [
       "A data.frame: 6 × 3\n",
       "\\begin{tabular}{r|lll}\n",
       "  & tconst & nconst & category\\\\\n",
       "  & <fct> & <fct> & <fct>\\\\\n",
       "\\hline\n",
       "\t1 & tt0000001 & nm1588970 & self           \\\\\n",
       "\t2 & tt0000001 & nm0005690 & director       \\\\\n",
       "\t3 & tt0000001 & nm0374658 & cinematographer\\\\\n",
       "\t4 & tt0000002 & nm0721526 & director       \\\\\n",
       "\t5 & tt0000002 & nm1335271 & composer       \\\\\n",
       "\t6 & tt0000003 & nm0721526 & director       \\\\\n",
       "\\end{tabular}\n"
      ],
      "text/markdown": [
       "\n",
       "A data.frame: 6 × 3\n",
       "\n",
       "| <!--/--> | tconst &lt;fct&gt; | nconst &lt;fct&gt; | category &lt;fct&gt; |\n",
       "|---|---|---|---|\n",
       "| 1 | tt0000001 | nm1588970 | self            |\n",
       "| 2 | tt0000001 | nm0005690 | director        |\n",
       "| 3 | tt0000001 | nm0374658 | cinematographer |\n",
       "| 4 | tt0000002 | nm0721526 | director        |\n",
       "| 5 | tt0000002 | nm1335271 | composer        |\n",
       "| 6 | tt0000003 | nm0721526 | director        |\n",
       "\n"
      ],
      "text/plain": [
       "  tconst    nconst    category       \n",
       "1 tt0000001 nm1588970 self           \n",
       "2 tt0000001 nm0005690 director       \n",
       "3 tt0000001 nm0374658 cinematographer\n",
       "4 tt0000002 nm0721526 director       \n",
       "5 tt0000002 nm1335271 composer       \n",
       "6 tt0000003 nm0721526 director       "
      ]
     },
     "metadata": {},
     "output_type": "display_data"
    }
   ],
   "source": [
    "head(title_principals)"
   ]
  },
  {
   "cell_type": "markdown",
   "metadata": {},
   "source": [
    "#### title ratings"
   ]
  },
  {
   "cell_type": "code",
   "execution_count": 18,
   "metadata": {},
   "outputs": [
    {
     "data": {
      "text/html": [
       "<table>\n",
       "<caption>A data.frame: 6 × 3</caption>\n",
       "<thead>\n",
       "\t<tr><th></th><th scope=col>tconst</th><th scope=col>averageRating</th><th scope=col>numVotes</th></tr>\n",
       "\t<tr><th></th><th scope=col>&lt;fct&gt;</th><th scope=col>&lt;dbl&gt;</th><th scope=col>&lt;int&gt;</th></tr>\n",
       "</thead>\n",
       "<tbody>\n",
       "\t<tr><th scope=row>1</th><td>tt0000001</td><td>5.6</td><td>1654</td></tr>\n",
       "\t<tr><th scope=row>2</th><td>tt0000002</td><td>6.1</td><td> 199</td></tr>\n",
       "\t<tr><th scope=row>3</th><td>tt0000003</td><td>6.5</td><td>1366</td></tr>\n",
       "\t<tr><th scope=row>4</th><td>tt0000004</td><td>6.2</td><td> 121</td></tr>\n",
       "\t<tr><th scope=row>5</th><td>tt0000005</td><td>6.2</td><td>2149</td></tr>\n",
       "\t<tr><th scope=row>6</th><td>tt0000006</td><td>5.3</td><td> 115</td></tr>\n",
       "</tbody>\n",
       "</table>\n"
      ],
      "text/latex": [
       "A data.frame: 6 × 3\n",
       "\\begin{tabular}{r|lll}\n",
       "  & tconst & averageRating & numVotes\\\\\n",
       "  & <fct> & <dbl> & <int>\\\\\n",
       "\\hline\n",
       "\t1 & tt0000001 & 5.6 & 1654\\\\\n",
       "\t2 & tt0000002 & 6.1 &  199\\\\\n",
       "\t3 & tt0000003 & 6.5 & 1366\\\\\n",
       "\t4 & tt0000004 & 6.2 &  121\\\\\n",
       "\t5 & tt0000005 & 6.2 & 2149\\\\\n",
       "\t6 & tt0000006 & 5.3 &  115\\\\\n",
       "\\end{tabular}\n"
      ],
      "text/markdown": [
       "\n",
       "A data.frame: 6 × 3\n",
       "\n",
       "| <!--/--> | tconst &lt;fct&gt; | averageRating &lt;dbl&gt; | numVotes &lt;int&gt; |\n",
       "|---|---|---|---|\n",
       "| 1 | tt0000001 | 5.6 | 1654 |\n",
       "| 2 | tt0000002 | 6.1 |  199 |\n",
       "| 3 | tt0000003 | 6.5 | 1366 |\n",
       "| 4 | tt0000004 | 6.2 |  121 |\n",
       "| 5 | tt0000005 | 6.2 | 2149 |\n",
       "| 6 | tt0000006 | 5.3 |  115 |\n",
       "\n"
      ],
      "text/plain": [
       "  tconst    averageRating numVotes\n",
       "1 tt0000001 5.6           1654    \n",
       "2 tt0000002 6.1            199    \n",
       "3 tt0000003 6.5           1366    \n",
       "4 tt0000004 6.2            121    \n",
       "5 tt0000005 6.2           2149    \n",
       "6 tt0000006 5.3            115    "
      ]
     },
     "metadata": {},
     "output_type": "display_data"
    }
   ],
   "source": [
    "head(title_ratings)"
   ]
  },
  {
   "cell_type": "markdown",
   "metadata": {},
   "source": [
    "#### title crew"
   ]
  },
  {
   "cell_type": "code",
   "execution_count": 19,
   "metadata": {},
   "outputs": [
    {
     "data": {
      "text/html": [
       "<table>\n",
       "<caption>A data.frame: 6 × 3</caption>\n",
       "<thead>\n",
       "\t<tr><th></th><th scope=col>tconst</th><th scope=col>directors</th><th scope=col>writers</th></tr>\n",
       "\t<tr><th></th><th scope=col>&lt;fct&gt;</th><th scope=col>&lt;fct&gt;</th><th scope=col>&lt;fct&gt;</th></tr>\n",
       "</thead>\n",
       "<tbody>\n",
       "\t<tr><th scope=row>1</th><td>tt0000001</td><td>nm0005690</td><td>\\N</td></tr>\n",
       "\t<tr><th scope=row>2</th><td>tt0000002</td><td>nm0721526</td><td>\\N</td></tr>\n",
       "\t<tr><th scope=row>3</th><td>tt0000003</td><td>nm0721526</td><td>\\N</td></tr>\n",
       "\t<tr><th scope=row>4</th><td>tt0000004</td><td>nm0721526</td><td>\\N</td></tr>\n",
       "\t<tr><th scope=row>5</th><td>tt0000005</td><td>nm0005690</td><td>\\N</td></tr>\n",
       "\t<tr><th scope=row>6</th><td>tt0000006</td><td>nm0005690</td><td>\\N</td></tr>\n",
       "</tbody>\n",
       "</table>\n"
      ],
      "text/latex": [
       "A data.frame: 6 × 3\n",
       "\\begin{tabular}{r|lll}\n",
       "  & tconst & directors & writers\\\\\n",
       "  & <fct> & <fct> & <fct>\\\\\n",
       "\\hline\n",
       "\t1 & tt0000001 & nm0005690 & \\textbackslash{}N\\\\\n",
       "\t2 & tt0000002 & nm0721526 & \\textbackslash{}N\\\\\n",
       "\t3 & tt0000003 & nm0721526 & \\textbackslash{}N\\\\\n",
       "\t4 & tt0000004 & nm0721526 & \\textbackslash{}N\\\\\n",
       "\t5 & tt0000005 & nm0005690 & \\textbackslash{}N\\\\\n",
       "\t6 & tt0000006 & nm0005690 & \\textbackslash{}N\\\\\n",
       "\\end{tabular}\n"
      ],
      "text/markdown": [
       "\n",
       "A data.frame: 6 × 3\n",
       "\n",
       "| <!--/--> | tconst &lt;fct&gt; | directors &lt;fct&gt; | writers &lt;fct&gt; |\n",
       "|---|---|---|---|\n",
       "| 1 | tt0000001 | nm0005690 | \\N |\n",
       "| 2 | tt0000002 | nm0721526 | \\N |\n",
       "| 3 | tt0000003 | nm0721526 | \\N |\n",
       "| 4 | tt0000004 | nm0721526 | \\N |\n",
       "| 5 | tt0000005 | nm0005690 | \\N |\n",
       "| 6 | tt0000006 | nm0005690 | \\N |\n",
       "\n"
      ],
      "text/plain": [
       "  tconst    directors writers\n",
       "1 tt0000001 nm0005690 \\\\N    \n",
       "2 tt0000002 nm0721526 \\\\N    \n",
       "3 tt0000003 nm0721526 \\\\N    \n",
       "4 tt0000004 nm0721526 \\\\N    \n",
       "5 tt0000005 nm0005690 \\\\N    \n",
       "6 tt0000006 nm0005690 \\\\N    "
      ]
     },
     "metadata": {},
     "output_type": "display_data"
    }
   ],
   "source": [
    "head(title_crew)"
   ]
  },
  {
   "cell_type": "code",
   "execution_count": 16,
   "metadata": {},
   "outputs": [],
   "source": []
  },
  {
   "cell_type": "code",
   "execution_count": null,
   "metadata": {},
   "outputs": [],
   "source": []
  },
  {
   "cell_type": "code",
   "execution_count": 25,
   "metadata": {},
   "outputs": [],
   "source": []
  },
  {
   "cell_type": "code",
   "execution_count": null,
   "metadata": {},
   "outputs": [],
   "source": []
  }
 ],
 "metadata": {
  "kernelspec": {
   "display_name": "R",
   "language": "R",
   "name": "ir"
  },
  "language_info": {
   "codemirror_mode": "r",
   "file_extension": ".r",
   "mimetype": "text/x-r-source",
   "name": "R",
   "pygments_lexer": "r",
   "version": "3.6.3"
  }
 },
 "nbformat": 4,
 "nbformat_minor": 4
}
