{
 "cells": [
  {
   "cell_type": "code",
   "execution_count": 1,
   "metadata": {},
   "outputs": [
    {
     "name": "stderr",
     "output_type": "stream",
     "text": [
      "Warning message:\n",
      "“replacing previous import ‘vctrs::data_frame’ by ‘tibble::data_frame’ when loading ‘dplyr’”\n",
      "\n",
      "Attaching package: ‘dplyr’\n",
      "\n",
      "\n",
      "The following objects are masked from ‘package:stats’:\n",
      "\n",
      "    filter, lag\n",
      "\n",
      "\n",
      "The following objects are masked from ‘package:base’:\n",
      "\n",
      "    intersect, setdiff, setequal, union\n",
      "\n",
      "\n"
     ]
    }
   ],
   "source": [
    "library(\"dplyr\")\n",
    "library(\"ggplot2\")"
   ]
  },
  {
   "cell_type": "markdown",
   "metadata": {},
   "source": [
    "## Importing DataSets - Title Crew and Ratings"
   ]
  },
  {
   "cell_type": "code",
   "execution_count": 2,
   "metadata": {},
   "outputs": [],
   "source": [
    "title_crew=read.delim('IMDb_Datasets_Filtered/filtered_title_crew.tsv')\n",
    "title_ratings=read.delim('IMDb_Datasets_Filtered/filtered_title_ratings.tsv')"
   ]
  },
  {
   "cell_type": "markdown",
   "metadata": {},
   "source": [
    "## 1st - Crew"
   ]
  },
  {
   "cell_type": "code",
   "execution_count": 3,
   "metadata": {},
   "outputs": [
    {
     "data": {
      "text/html": [
       "<table>\n",
       "<caption>A data.frame: 6 × 3</caption>\n",
       "<thead>\n",
       "\t<tr><th></th><th scope=col>tconst</th><th scope=col>directors</th><th scope=col>writers</th></tr>\n",
       "\t<tr><th></th><th scope=col>&lt;chr&gt;</th><th scope=col>&lt;chr&gt;</th><th scope=col>&lt;chr&gt;</th></tr>\n",
       "</thead>\n",
       "<tbody>\n",
       "\t<tr><th scope=row>1</th><td>tt0000001</td><td>nm0005690</td><td>\\N</td></tr>\n",
       "\t<tr><th scope=row>2</th><td>tt0000002</td><td>nm0721526</td><td>\\N</td></tr>\n",
       "\t<tr><th scope=row>3</th><td>tt0000003</td><td>nm0721526</td><td>\\N</td></tr>\n",
       "\t<tr><th scope=row>4</th><td>tt0000004</td><td>nm0721526</td><td>\\N</td></tr>\n",
       "\t<tr><th scope=row>5</th><td>tt0000005</td><td>nm0005690</td><td>\\N</td></tr>\n",
       "\t<tr><th scope=row>6</th><td>tt0000006</td><td>nm0005690</td><td>\\N</td></tr>\n",
       "</tbody>\n",
       "</table>\n"
      ],
      "text/latex": [
       "A data.frame: 6 × 3\n",
       "\\begin{tabular}{r|lll}\n",
       "  & tconst & directors & writers\\\\\n",
       "  & <chr> & <chr> & <chr>\\\\\n",
       "\\hline\n",
       "\t1 & tt0000001 & nm0005690 & \\textbackslash{}N\\\\\n",
       "\t2 & tt0000002 & nm0721526 & \\textbackslash{}N\\\\\n",
       "\t3 & tt0000003 & nm0721526 & \\textbackslash{}N\\\\\n",
       "\t4 & tt0000004 & nm0721526 & \\textbackslash{}N\\\\\n",
       "\t5 & tt0000005 & nm0005690 & \\textbackslash{}N\\\\\n",
       "\t6 & tt0000006 & nm0005690 & \\textbackslash{}N\\\\\n",
       "\\end{tabular}\n"
      ],
      "text/markdown": [
       "\n",
       "A data.frame: 6 × 3\n",
       "\n",
       "| <!--/--> | tconst &lt;chr&gt; | directors &lt;chr&gt; | writers &lt;chr&gt; |\n",
       "|---|---|---|---|\n",
       "| 1 | tt0000001 | nm0005690 | \\N |\n",
       "| 2 | tt0000002 | nm0721526 | \\N |\n",
       "| 3 | tt0000003 | nm0721526 | \\N |\n",
       "| 4 | tt0000004 | nm0721526 | \\N |\n",
       "| 5 | tt0000005 | nm0005690 | \\N |\n",
       "| 6 | tt0000006 | nm0005690 | \\N |\n",
       "\n"
      ],
      "text/plain": [
       "  tconst    directors writers\n",
       "1 tt0000001 nm0005690 \\\\N    \n",
       "2 tt0000002 nm0721526 \\\\N    \n",
       "3 tt0000003 nm0721526 \\\\N    \n",
       "4 tt0000004 nm0721526 \\\\N    \n",
       "5 tt0000005 nm0005690 \\\\N    \n",
       "6 tt0000006 nm0005690 \\\\N    "
      ]
     },
     "metadata": {},
     "output_type": "display_data"
    },
    {
     "data": {
      "text/html": [
       "<table>\n",
       "<caption>A data.frame: 6 × 3</caption>\n",
       "<thead>\n",
       "\t<tr><th></th><th scope=col>tconst</th><th scope=col>directors</th><th scope=col>writers</th></tr>\n",
       "\t<tr><th></th><th scope=col>&lt;chr&gt;</th><th scope=col>&lt;chr&gt;</th><th scope=col>&lt;chr&gt;</th></tr>\n",
       "</thead>\n",
       "<tbody>\n",
       "\t<tr><th scope=row>1443754</th><td>tt9916724</td><td>nm0652213          </td><td>nm0652213                                </td></tr>\n",
       "\t<tr><th scope=row>1443755</th><td>tt9916730</td><td>nm10538612         </td><td>nm10538612                               </td></tr>\n",
       "\t<tr><th scope=row>1443756</th><td>tt9916754</td><td>nm9272490,nm8349149</td><td>nm8349149,nm9272490                      </td></tr>\n",
       "\t<tr><th scope=row>1443757</th><td>tt9916756</td><td>nm10538639         </td><td>nm10538639                               </td></tr>\n",
       "\t<tr><th scope=row>1443758</th><td>tt9916764</td><td>nm6685122          </td><td>nm6687687,nm10538642,nm9641593,nm10538643</td></tr>\n",
       "\t<tr><th scope=row>1443759</th><td>tt9916856</td><td>nm10538645         </td><td>nm6951431                                </td></tr>\n",
       "</tbody>\n",
       "</table>\n"
      ],
      "text/latex": [
       "A data.frame: 6 × 3\n",
       "\\begin{tabular}{r|lll}\n",
       "  & tconst & directors & writers\\\\\n",
       "  & <chr> & <chr> & <chr>\\\\\n",
       "\\hline\n",
       "\t1443754 & tt9916724 & nm0652213           & nm0652213                                \\\\\n",
       "\t1443755 & tt9916730 & nm10538612          & nm10538612                               \\\\\n",
       "\t1443756 & tt9916754 & nm9272490,nm8349149 & nm8349149,nm9272490                      \\\\\n",
       "\t1443757 & tt9916756 & nm10538639          & nm10538639                               \\\\\n",
       "\t1443758 & tt9916764 & nm6685122           & nm6687687,nm10538642,nm9641593,nm10538643\\\\\n",
       "\t1443759 & tt9916856 & nm10538645          & nm6951431                                \\\\\n",
       "\\end{tabular}\n"
      ],
      "text/markdown": [
       "\n",
       "A data.frame: 6 × 3\n",
       "\n",
       "| <!--/--> | tconst &lt;chr&gt; | directors &lt;chr&gt; | writers &lt;chr&gt; |\n",
       "|---|---|---|---|\n",
       "| 1443754 | tt9916724 | nm0652213           | nm0652213                                 |\n",
       "| 1443755 | tt9916730 | nm10538612          | nm10538612                                |\n",
       "| 1443756 | tt9916754 | nm9272490,nm8349149 | nm8349149,nm9272490                       |\n",
       "| 1443757 | tt9916756 | nm10538639          | nm10538639                                |\n",
       "| 1443758 | tt9916764 | nm6685122           | nm6687687,nm10538642,nm9641593,nm10538643 |\n",
       "| 1443759 | tt9916856 | nm10538645          | nm6951431                                 |\n",
       "\n"
      ],
      "text/plain": [
       "        tconst    directors           writers                                  \n",
       "1443754 tt9916724 nm0652213           nm0652213                                \n",
       "1443755 tt9916730 nm10538612          nm10538612                               \n",
       "1443756 tt9916754 nm9272490,nm8349149 nm8349149,nm9272490                      \n",
       "1443757 tt9916756 nm10538639          nm10538639                               \n",
       "1443758 tt9916764 nm6685122           nm6687687,nm10538642,nm9641593,nm10538643\n",
       "1443759 tt9916856 nm10538645          nm6951431                                "
      ]
     },
     "metadata": {},
     "output_type": "display_data"
    }
   ],
   "source": [
    "head(title_crew)\n",
    "tail(title_crew)"
   ]
  },
  {
   "cell_type": "code",
   "execution_count": 4,
   "metadata": {},
   "outputs": [],
   "source": [
    "tc_clean=title_crew #Changes will be made in the tc_clean"
   ]
  },
  {
   "cell_type": "code",
   "execution_count": 5,
   "metadata": {},
   "outputs": [
    {
     "data": {
      "text/html": [
       "0.107700107843484"
      ],
      "text/latex": [
       "0.107700107843484"
      ],
      "text/markdown": [
       "0.107700107843484"
      ],
      "text/plain": [
       "[1] 0.1077001"
      ]
     },
     "metadata": {},
     "output_type": "display_data"
    }
   ],
   "source": [
    "nrow(tc_clean[tc_clean$directors=='\\\\N',])/nrow(tc_clean) #Percentage of movies without directors"
   ]
  },
  {
   "cell_type": "code",
   "execution_count": 6,
   "metadata": {},
   "outputs": [
    {
     "data": {
      "text/html": [
       "0.280482407382396"
      ],
      "text/latex": [
       "0.280482407382396"
      ],
      "text/markdown": [
       "0.280482407382396"
      ],
      "text/plain": [
       "[1] 0.2804824"
      ]
     },
     "metadata": {},
     "output_type": "display_data"
    }
   ],
   "source": [
    "nrow(tc_clean[tc_clean$writers=='\\\\N',])/nrow(tc_clean) #Percentage of movies without writers"
   ]
  },
  {
   "cell_type": "code",
   "execution_count": 7,
   "metadata": {},
   "outputs": [
    {
     "data": {
      "text/html": [
       "0.0783302476382831"
      ],
      "text/latex": [
       "0.0783302476382831"
      ],
      "text/markdown": [
       "0.0783302476382831"
      ],
      "text/plain": [
       "[1] 0.07833025"
      ]
     },
     "metadata": {},
     "output_type": "display_data"
    }
   ],
   "source": [
    "nrow(tc_clean[tc_clean$writers=='\\\\N' & tc_clean$directors=='\\\\N',])/nrow(tc_clean)\n",
    "#8% of movies don't have a director nor a writer, so they shall be removed"
   ]
  },
  {
   "cell_type": "code",
   "execution_count": 8,
   "metadata": {},
   "outputs": [],
   "source": [
    "tc_clean=tc_clean[tc_clean$writers!='\\\\N' | tc_clean$directors!='\\\\N',] #Removing the mentioned rows"
   ]
  },
  {
   "cell_type": "code",
   "execution_count": 9,
   "metadata": {},
   "outputs": [
    {
     "data": {
      "text/html": [
       "0"
      ],
      "text/latex": [
       "0"
      ],
      "text/markdown": [
       "0"
      ],
      "text/plain": [
       "[1] 0"
      ]
     },
     "metadata": {},
     "output_type": "display_data"
    }
   ],
   "source": [
    "nrow(tc_clean[tc_clean$writers=='\\\\N' & tc_clean$directors=='\\\\N',]) #Everything went OKAY"
   ]
  },
  {
   "cell_type": "code",
   "execution_count": 10,
   "metadata": {},
   "outputs": [
    {
     "data": {
      "text/html": [
       "1330669"
      ],
      "text/latex": [
       "1330669"
      ],
      "text/markdown": [
       "1330669"
      ],
      "text/plain": [
       "[1] 1330669"
      ]
     },
     "metadata": {},
     "output_type": "display_data"
    }
   ],
   "source": [
    "nrow(tc_clean)"
   ]
  },
  {
   "cell_type": "code",
   "execution_count": 11,
   "metadata": {},
   "outputs": [],
   "source": [
    "library(stringr)\n",
    "tc_clean$directors=str_split(tc_clean$directors,',')\n",
    "tc_clean$writers=str_split(tc_clean$writers,',')\n",
    "#Now, the elements of each column are lists"
   ]
  },
  {
   "cell_type": "code",
   "execution_count": 37,
   "metadata": {},
   "outputs": [
    {
     "data": {
      "text/html": [
       "<table>\n",
       "<caption>A data.frame: 6 × 3</caption>\n",
       "<thead>\n",
       "\t<tr><th></th><th scope=col>tconst</th><th scope=col>n_directors</th><th scope=col>n_writers</th></tr>\n",
       "\t<tr><th></th><th scope=col>&lt;chr&gt;</th><th scope=col>&lt;int&gt;</th><th scope=col>&lt;int&gt;</th></tr>\n",
       "</thead>\n",
       "<tbody>\n",
       "\t<tr><th scope=row>1</th><td>tt0000001</td><td>1</td><td>1</td></tr>\n",
       "\t<tr><th scope=row>2</th><td>tt0000002</td><td>1</td><td>1</td></tr>\n",
       "\t<tr><th scope=row>3</th><td>tt0000003</td><td>1</td><td>1</td></tr>\n",
       "\t<tr><th scope=row>4</th><td>tt0000004</td><td>1</td><td>1</td></tr>\n",
       "\t<tr><th scope=row>5</th><td>tt0000005</td><td>1</td><td>1</td></tr>\n",
       "\t<tr><th scope=row>6</th><td>tt0000006</td><td>1</td><td>1</td></tr>\n",
       "</tbody>\n",
       "</table>\n"
      ],
      "text/latex": [
       "A data.frame: 6 × 3\n",
       "\\begin{tabular}{r|lll}\n",
       "  & tconst & n\\_directors & n\\_writers\\\\\n",
       "  & <chr> & <int> & <int>\\\\\n",
       "\\hline\n",
       "\t1 & tt0000001 & 1 & 1\\\\\n",
       "\t2 & tt0000002 & 1 & 1\\\\\n",
       "\t3 & tt0000003 & 1 & 1\\\\\n",
       "\t4 & tt0000004 & 1 & 1\\\\\n",
       "\t5 & tt0000005 & 1 & 1\\\\\n",
       "\t6 & tt0000006 & 1 & 1\\\\\n",
       "\\end{tabular}\n"
      ],
      "text/markdown": [
       "\n",
       "A data.frame: 6 × 3\n",
       "\n",
       "| <!--/--> | tconst &lt;chr&gt; | n_directors &lt;int&gt; | n_writers &lt;int&gt; |\n",
       "|---|---|---|---|\n",
       "| 1 | tt0000001 | 1 | 1 |\n",
       "| 2 | tt0000002 | 1 | 1 |\n",
       "| 3 | tt0000003 | 1 | 1 |\n",
       "| 4 | tt0000004 | 1 | 1 |\n",
       "| 5 | tt0000005 | 1 | 1 |\n",
       "| 6 | tt0000006 | 1 | 1 |\n",
       "\n"
      ],
      "text/plain": [
       "  tconst    n_directors n_writers\n",
       "1 tt0000001 1           1        \n",
       "2 tt0000002 1           1        \n",
       "3 tt0000003 1           1        \n",
       "4 tt0000004 1           1        \n",
       "5 tt0000005 1           1        \n",
       "6 tt0000006 1           1        "
      ]
     },
     "metadata": {},
     "output_type": "display_data"
    },
    {
     "data": {
      "text/html": [
       "<table>\n",
       "<caption>A data.frame: 6 × 3</caption>\n",
       "<thead>\n",
       "\t<tr><th></th><th scope=col>tconst</th><th scope=col>n_directors</th><th scope=col>n_writers</th></tr>\n",
       "\t<tr><th></th><th scope=col>&lt;chr&gt;</th><th scope=col>&lt;int&gt;</th><th scope=col>&lt;int&gt;</th></tr>\n",
       "</thead>\n",
       "<tbody>\n",
       "\t<tr><th scope=row>1443754</th><td>tt9916724</td><td>1</td><td>1</td></tr>\n",
       "\t<tr><th scope=row>1443755</th><td>tt9916730</td><td>1</td><td>1</td></tr>\n",
       "\t<tr><th scope=row>1443756</th><td>tt9916754</td><td>2</td><td>2</td></tr>\n",
       "\t<tr><th scope=row>1443757</th><td>tt9916756</td><td>1</td><td>1</td></tr>\n",
       "\t<tr><th scope=row>1443758</th><td>tt9916764</td><td>1</td><td>4</td></tr>\n",
       "\t<tr><th scope=row>1443759</th><td>tt9916856</td><td>1</td><td>1</td></tr>\n",
       "</tbody>\n",
       "</table>\n"
      ],
      "text/latex": [
       "A data.frame: 6 × 3\n",
       "\\begin{tabular}{r|lll}\n",
       "  & tconst & n\\_directors & n\\_writers\\\\\n",
       "  & <chr> & <int> & <int>\\\\\n",
       "\\hline\n",
       "\t1443754 & tt9916724 & 1 & 1\\\\\n",
       "\t1443755 & tt9916730 & 1 & 1\\\\\n",
       "\t1443756 & tt9916754 & 2 & 2\\\\\n",
       "\t1443757 & tt9916756 & 1 & 1\\\\\n",
       "\t1443758 & tt9916764 & 1 & 4\\\\\n",
       "\t1443759 & tt9916856 & 1 & 1\\\\\n",
       "\\end{tabular}\n"
      ],
      "text/markdown": [
       "\n",
       "A data.frame: 6 × 3\n",
       "\n",
       "| <!--/--> | tconst &lt;chr&gt; | n_directors &lt;int&gt; | n_writers &lt;int&gt; |\n",
       "|---|---|---|---|\n",
       "| 1443754 | tt9916724 | 1 | 1 |\n",
       "| 1443755 | tt9916730 | 1 | 1 |\n",
       "| 1443756 | tt9916754 | 2 | 2 |\n",
       "| 1443757 | tt9916756 | 1 | 1 |\n",
       "| 1443758 | tt9916764 | 1 | 4 |\n",
       "| 1443759 | tt9916856 | 1 | 1 |\n",
       "\n"
      ],
      "text/plain": [
       "        tconst    n_directors n_writers\n",
       "1443754 tt9916724 1           1        \n",
       "1443755 tt9916730 1           1        \n",
       "1443756 tt9916754 2           2        \n",
       "1443757 tt9916756 1           1        \n",
       "1443758 tt9916764 1           4        \n",
       "1443759 tt9916856 1           1        "
      ]
     },
     "metadata": {},
     "output_type": "display_data"
    }
   ],
   "source": [
    "head(tc_clean)\n",
    "tail(tc_clean)"
   ]
  },
  {
   "cell_type": "code",
   "execution_count": 30,
   "metadata": {},
   "outputs": [],
   "source": [
    "tc_clean$n_directors=lengths(tc_clean$directors) #New column with the number of directors"
   ]
  },
  {
   "cell_type": "code",
   "execution_count": 32,
   "metadata": {},
   "outputs": [],
   "source": [
    "tc_clean$n_writers=lengths(tc_clean$writers) #New column with the number of writers"
   ]
  },
  {
   "cell_type": "code",
   "execution_count": 34,
   "metadata": {},
   "outputs": [],
   "source": [
    "tc_clean$directors=NULL #Removing the director's column"
   ]
  },
  {
   "cell_type": "code",
   "execution_count": 36,
   "metadata": {},
   "outputs": [],
   "source": [
    "tc_clean$writers=NULL #Removing writer's column"
   ]
  },
  {
   "cell_type": "code",
   "execution_count": 13,
   "metadata": {},
   "outputs": [
    {
     "data": {
      "text/html": [
       "320"
      ],
      "text/latex": [
       "320"
      ],
      "text/markdown": [
       "320"
      ],
      "text/plain": [
       "[1] 320"
      ]
     },
     "metadata": {},
     "output_type": "display_data"
    },
    {
     "data": {
      "text/html": [
       "<style>\n",
       ".dl-inline {width: auto; margin:0; padding: 0}\n",
       ".dl-inline>dt, .dl-inline>dd {float: none; width: auto; display: inline-block}\n",
       ".dl-inline>dt::after {content: \":\\0020\"; padding-right: .5ex}\n",
       ".dl-inline>dt:not(:first-of-type) {padding-left: .5ex}\n",
       "</style><dl class=dl-inline><dt>tconst</dt><dd>371</dd><dt>directors</dt><dd>371</dd><dt>writers</dt><dd>371</dd></dl>\n"
      ],
      "text/latex": [
       "\\begin{description*}\n",
       "\\item[tconst] 371\n",
       "\\item[directors] 371\n",
       "\\item[writers] 371\n",
       "\\end{description*}\n"
      ],
      "text/markdown": [
       "tconst\n",
       ":   371directors\n",
       ":   371writers\n",
       ":   371\n",
       "\n"
      ],
      "text/plain": [
       "   tconst directors   writers \n",
       "      371       371       371 "
      ]
     },
     "metadata": {},
     "output_type": "display_data"
    }
   ],
   "source": [
    "max(lengths(tc_clean$directors)) #There's a movie with 320 directors...\n",
    "lengths(tc_clean[lengths(tc_clean$directors)>10,]) #There are 371 movies with more than 10 directors"
   ]
  },
  {
   "cell_type": "code",
   "execution_count": 14,
   "metadata": {},
   "outputs": [
    {
     "data": {
      "text/html": [
       "63"
      ],
      "text/latex": [
       "63"
      ],
      "text/markdown": [
       "63"
      ],
      "text/plain": [
       "[1] 63"
      ]
     },
     "metadata": {},
     "output_type": "display_data"
    },
    {
     "data": {
      "text/html": [
       "<style>\n",
       ".dl-inline {width: auto; margin:0; padding: 0}\n",
       ".dl-inline>dt, .dl-inline>dd {float: none; width: auto; display: inline-block}\n",
       ".dl-inline>dt::after {content: \":\\0020\"; padding-right: .5ex}\n",
       ".dl-inline>dt:not(:first-of-type) {padding-left: .5ex}\n",
       "</style><dl class=dl-inline><dt>tconst</dt><dd>512</dd><dt>directors</dt><dd>512</dd><dt>writers</dt><dd>512</dd></dl>\n"
      ],
      "text/latex": [
       "\\begin{description*}\n",
       "\\item[tconst] 512\n",
       "\\item[directors] 512\n",
       "\\item[writers] 512\n",
       "\\end{description*}\n"
      ],
      "text/markdown": [
       "tconst\n",
       ":   512directors\n",
       ":   512writers\n",
       ":   512\n",
       "\n"
      ],
      "text/plain": [
       "   tconst directors   writers \n",
       "      512       512       512 "
      ]
     },
     "metadata": {},
     "output_type": "display_data"
    }
   ],
   "source": [
    "max(lengths(tc_clean$writers)) #There's a movie with 63 writers...\n",
    "lengths(tc_clean[lengths(tc_clean$writers)>10,]) #There are 512 movies with more than 10 writers"
   ]
  },
  {
   "cell_type": "code",
   "execution_count": 15,
   "metadata": {},
   "outputs": [
    {
     "name": "stderr",
     "output_type": "stream",
     "text": [
      "Warning message:\n",
      "“Removed 1919 rows containing non-finite values (stat_count).”\n",
      "Warning message:\n",
      "“Removed 1 rows containing missing values (geom_bar).”\n"
     ]
    },
    {
     "data": {
      "image/png": "[encoded data removed]",
      "text/plain": [
       "plot without title"
      ]
     },
     "metadata": {
      "image/png": {
       "height": 420,
       "width": 420
      }
     },
     "output_type": "display_data"
    }
   ],
   "source": [
    "ggplot(tc_clean,aes(x=lengths(directors)))+\n",
    "    geom_bar()+\n",
    "    xlim(0,5)"
   ]
  },
  {
   "cell_type": "code",
   "execution_count": 38,
   "metadata": {},
   "outputs": [],
   "source": [
    "library(readr)\n",
    "write_tsv(tc_clean,'cleaned_filtered_title_crew.tsv') #It doesn't let me save the file"
   ]
  },
  {
   "cell_type": "markdown",
   "metadata": {},
   "source": [
    "## 2nd - Ratings"
   ]
  },
  {
   "cell_type": "code",
   "execution_count": 17,
   "metadata": {},
   "outputs": [],
   "source": [
    "tr_clean=title_ratings #Changes will be performed in the tr_clean dataset"
   ]
  },
  {
   "cell_type": "code",
   "execution_count": 18,
   "metadata": {},
   "outputs": [
    {
     "data": {
      "text/html": [
       "<table>\n",
       "<caption>A data.frame: 6 × 3</caption>\n",
       "<thead>\n",
       "\t<tr><th></th><th scope=col>tconst</th><th scope=col>averageRating</th><th scope=col>numVotes</th></tr>\n",
       "\t<tr><th></th><th scope=col>&lt;chr&gt;</th><th scope=col>&lt;dbl&gt;</th><th scope=col>&lt;int&gt;</th></tr>\n",
       "</thead>\n",
       "<tbody>\n",
       "\t<tr><th scope=row>1</th><td>tt0000001</td><td>5.6</td><td>1654</td></tr>\n",
       "\t<tr><th scope=row>2</th><td>tt0000002</td><td>6.1</td><td> 199</td></tr>\n",
       "\t<tr><th scope=row>3</th><td>tt0000003</td><td>6.5</td><td>1366</td></tr>\n",
       "\t<tr><th scope=row>4</th><td>tt0000004</td><td>6.2</td><td> 121</td></tr>\n",
       "\t<tr><th scope=row>5</th><td>tt0000005</td><td>6.2</td><td>2149</td></tr>\n",
       "\t<tr><th scope=row>6</th><td>tt0000006</td><td>5.3</td><td> 115</td></tr>\n",
       "</tbody>\n",
       "</table>\n"
      ],
      "text/latex": [
       "A data.frame: 6 × 3\n",
       "\\begin{tabular}{r|lll}\n",
       "  & tconst & averageRating & numVotes\\\\\n",
       "  & <chr> & <dbl> & <int>\\\\\n",
       "\\hline\n",
       "\t1 & tt0000001 & 5.6 & 1654\\\\\n",
       "\t2 & tt0000002 & 6.1 &  199\\\\\n",
       "\t3 & tt0000003 & 6.5 & 1366\\\\\n",
       "\t4 & tt0000004 & 6.2 &  121\\\\\n",
       "\t5 & tt0000005 & 6.2 & 2149\\\\\n",
       "\t6 & tt0000006 & 5.3 &  115\\\\\n",
       "\\end{tabular}\n"
      ],
      "text/markdown": [
       "\n",
       "A data.frame: 6 × 3\n",
       "\n",
       "| <!--/--> | tconst &lt;chr&gt; | averageRating &lt;dbl&gt; | numVotes &lt;int&gt; |\n",
       "|---|---|---|---|\n",
       "| 1 | tt0000001 | 5.6 | 1654 |\n",
       "| 2 | tt0000002 | 6.1 |  199 |\n",
       "| 3 | tt0000003 | 6.5 | 1366 |\n",
       "| 4 | tt0000004 | 6.2 |  121 |\n",
       "| 5 | tt0000005 | 6.2 | 2149 |\n",
       "| 6 | tt0000006 | 5.3 |  115 |\n",
       "\n"
      ],
      "text/plain": [
       "  tconst    averageRating numVotes\n",
       "1 tt0000001 5.6           1654    \n",
       "2 tt0000002 6.1            199    \n",
       "3 tt0000003 6.5           1366    \n",
       "4 tt0000004 6.2            121    \n",
       "5 tt0000005 6.2           2149    \n",
       "6 tt0000006 5.3            115    "
      ]
     },
     "metadata": {},
     "output_type": "display_data"
    },
    {
     "data": {
      "text/html": [
       "<table>\n",
       "<caption>A data.frame: 6 × 3</caption>\n",
       "<thead>\n",
       "\t<tr><th></th><th scope=col>tconst</th><th scope=col>averageRating</th><th scope=col>numVotes</th></tr>\n",
       "\t<tr><th></th><th scope=col>&lt;chr&gt;</th><th scope=col>&lt;dbl&gt;</th><th scope=col>&lt;int&gt;</th></tr>\n",
       "</thead>\n",
       "<tbody>\n",
       "\t<tr><th scope=row>423178</th><td>tt9916192</td><td>7.4</td><td>  9</td></tr>\n",
       "\t<tr><th scope=row>423179</th><td>tt9916362</td><td>6.3</td><td>104</td></tr>\n",
       "\t<tr><th scope=row>423180</th><td>tt9916428</td><td>4.1</td><td> 11</td></tr>\n",
       "\t<tr><th scope=row>423181</th><td>tt9916538</td><td>8.4</td><td>  5</td></tr>\n",
       "\t<tr><th scope=row>423182</th><td>tt9916544</td><td>7.2</td><td> 24</td></tr>\n",
       "\t<tr><th scope=row>423183</th><td>tt9916720</td><td>6.0</td><td> 64</td></tr>\n",
       "</tbody>\n",
       "</table>\n"
      ],
      "text/latex": [
       "A data.frame: 6 × 3\n",
       "\\begin{tabular}{r|lll}\n",
       "  & tconst & averageRating & numVotes\\\\\n",
       "  & <chr> & <dbl> & <int>\\\\\n",
       "\\hline\n",
       "\t423178 & tt9916192 & 7.4 &   9\\\\\n",
       "\t423179 & tt9916362 & 6.3 & 104\\\\\n",
       "\t423180 & tt9916428 & 4.1 &  11\\\\\n",
       "\t423181 & tt9916538 & 8.4 &   5\\\\\n",
       "\t423182 & tt9916544 & 7.2 &  24\\\\\n",
       "\t423183 & tt9916720 & 6.0 &  64\\\\\n",
       "\\end{tabular}\n"
      ],
      "text/markdown": [
       "\n",
       "A data.frame: 6 × 3\n",
       "\n",
       "| <!--/--> | tconst &lt;chr&gt; | averageRating &lt;dbl&gt; | numVotes &lt;int&gt; |\n",
       "|---|---|---|---|\n",
       "| 423178 | tt9916192 | 7.4 |   9 |\n",
       "| 423179 | tt9916362 | 6.3 | 104 |\n",
       "| 423180 | tt9916428 | 4.1 |  11 |\n",
       "| 423181 | tt9916538 | 8.4 |   5 |\n",
       "| 423182 | tt9916544 | 7.2 |  24 |\n",
       "| 423183 | tt9916720 | 6.0 |  64 |\n",
       "\n"
      ],
      "text/plain": [
       "       tconst    averageRating numVotes\n",
       "423178 tt9916192 7.4             9     \n",
       "423179 tt9916362 6.3           104     \n",
       "423180 tt9916428 4.1            11     \n",
       "423181 tt9916538 8.4             5     \n",
       "423182 tt9916544 7.2            24     \n",
       "423183 tt9916720 6.0            64     "
      ]
     },
     "metadata": {},
     "output_type": "display_data"
    }
   ],
   "source": [
    "head(tr_clean)\n",
    "tail(tr_clean)"
   ]
  },
  {
   "cell_type": "code",
   "execution_count": 19,
   "metadata": {},
   "outputs": [
    {
     "data": {
      "image/png": "[encoded data removed]",
      "text/plain": [
       "plot without title"
      ]
     },
     "metadata": {
      "image/png": {
       "height": 420,
       "width": 420
      }
     },
     "output_type": "display_data"
    }
   ],
   "source": [
    "ggplot(tr_clean,aes(x=averageRating))+\n",
    "    geom_boxplot()"
   ]
  },
  {
   "cell_type": "code",
   "execution_count": 20,
   "metadata": {},
   "outputs": [
    {
     "data": {
      "image/png": "[encoded data removed]",
      "text/plain": [
       "plot without title"
      ]
     },
     "metadata": {
      "image/png": {
       "height": 420,
       "width": 420
      }
     },
     "output_type": "display_data"
    }
   ],
   "source": [
    "ggplot(tr_clean,aes(x=numVotes))+     \n",
    "    geom_boxplot()"
   ]
  },
  {
   "cell_type": "code",
   "execution_count": 21,
   "metadata": {},
   "outputs": [
    {
     "data": {
      "text/html": [
       "<table>\n",
       "<caption>A data.frame: 0 × 3</caption>\n",
       "<thead>\n",
       "\t<tr><th scope=col>tconst</th><th scope=col>averageRating</th><th scope=col>numVotes</th></tr>\n",
       "\t<tr><th scope=col>&lt;chr&gt;</th><th scope=col>&lt;dbl&gt;</th><th scope=col>&lt;int&gt;</th></tr>\n",
       "</thead>\n",
       "<tbody>\n",
       "</tbody>\n",
       "</table>\n"
      ],
      "text/latex": [
       "A data.frame: 0 × 3\n",
       "\\begin{tabular}{lll}\n",
       " tconst & averageRating & numVotes\\\\\n",
       " <chr> & <dbl> & <int>\\\\\n",
       "\\hline\n",
       "\\end{tabular}\n"
      ],
      "text/markdown": [
       "\n",
       "A data.frame: 0 × 3\n",
       "\n",
       "| tconst &lt;chr&gt; | averageRating &lt;dbl&gt; | numVotes &lt;int&gt; |\n",
       "|---|---|---|\n",
       "\n"
      ],
      "text/plain": [
       "     tconst averageRating numVotes"
      ]
     },
     "metadata": {},
     "output_type": "display_data"
    }
   ],
   "source": [
    "subset(tr_clean,averageRating<0 | averageRating>10) #We don't have stupid ratings"
   ]
  },
  {
   "cell_type": "code",
   "execution_count": 22,
   "metadata": {},
   "outputs": [
    {
     "data": {
      "text/html": [
       "<table>\n",
       "<caption>A data.frame: 0 × 3</caption>\n",
       "<thead>\n",
       "\t<tr><th scope=col>tconst</th><th scope=col>averageRating</th><th scope=col>numVotes</th></tr>\n",
       "\t<tr><th scope=col>&lt;chr&gt;</th><th scope=col>&lt;dbl&gt;</th><th scope=col>&lt;int&gt;</th></tr>\n",
       "</thead>\n",
       "<tbody>\n",
       "</tbody>\n",
       "</table>\n"
      ],
      "text/latex": [
       "A data.frame: 0 × 3\n",
       "\\begin{tabular}{lll}\n",
       " tconst & averageRating & numVotes\\\\\n",
       " <chr> & <dbl> & <int>\\\\\n",
       "\\hline\n",
       "\\end{tabular}\n"
      ],
      "text/markdown": [
       "\n",
       "A data.frame: 0 × 3\n",
       "\n",
       "| tconst &lt;chr&gt; | averageRating &lt;dbl&gt; | numVotes &lt;int&gt; |\n",
       "|---|---|---|\n",
       "\n"
      ],
      "text/plain": [
       "     tconst averageRating numVotes"
      ]
     },
     "metadata": {},
     "output_type": "display_data"
    }
   ],
   "source": [
    "subset(tr_clean,numVotes<=0) #Nor we have a non-positive number of votes"
   ]
  },
  {
   "cell_type": "markdown",
   "metadata": {},
   "source": [
    "# adfsfwf"
   ]
  },
  {
   "cell_type": "code",
   "execution_count": 23,
   "metadata": {},
   "outputs": [],
   "source": [
    "title_akas=read.delim('IMDb_Datasets_Filtered/filtered_title_akas.tsv')"
   ]
  },
  {
   "cell_type": "code",
   "execution_count": 24,
   "metadata": {},
   "outputs": [
    {
     "data": {
      "text/html": [
       "<table>\n",
       "<caption>A data.frame: 6 × 8</caption>\n",
       "<thead>\n",
       "\t<tr><th></th><th scope=col>titleId</th><th scope=col>ordering</th><th scope=col>title</th><th scope=col>region</th><th scope=col>language</th><th scope=col>types</th><th scope=col>attributes</th><th scope=col>isOriginalTitle</th></tr>\n",
       "\t<tr><th></th><th scope=col>&lt;chr&gt;</th><th scope=col>&lt;int&gt;</th><th scope=col>&lt;chr&gt;</th><th scope=col>&lt;chr&gt;</th><th scope=col>&lt;chr&gt;</th><th scope=col>&lt;chr&gt;</th><th scope=col>&lt;chr&gt;</th><th scope=col>&lt;chr&gt;</th></tr>\n",
       "</thead>\n",
       "<tbody>\n",
       "\t<tr><th scope=row>1</th><td>tt0000001</td><td>1</td><td>ÐšÐ°Ñ€Ð¼ÐµÐ½ÑÑ–Ñ‚Ð° </td><td>UA</td><td>\\N</td><td>imdbDisplay</td><td>\\N          </td><td>0</td></tr>\n",
       "\t<tr><th scope=row>2</th><td>tt0000001</td><td>2</td><td>Carmencita                </td><td>DE</td><td>\\N</td><td>\\N        </td><td>literal title</td><td>0</td></tr>\n",
       "\t<tr><th scope=row>3</th><td>tt0000001</td><td>3</td><td>Carmencita - spanyol tÃ¡nc</td><td>HU</td><td>\\N</td><td>imdbDisplay</td><td>\\N          </td><td>0</td></tr>\n",
       "\t<tr><th scope=row>4</th><td>tt0000001</td><td>4</td><td>ÎšÎ±ÏÎ¼ÎµÎ½ÏƒÎ¯Ï„Î± </td><td>GR</td><td>\\N</td><td>imdbDisplay</td><td>\\N          </td><td>0</td></tr>\n",
       "\t<tr><th scope=row>5</th><td>tt0000001</td><td>5</td><td>ÐšÐ°Ñ€Ð¼ÐµÐ½ÑÐ¸Ñ‚Ð° </td><td>RU</td><td>\\N</td><td>imdbDisplay</td><td>\\N          </td><td>0</td></tr>\n",
       "\t<tr><th scope=row>6</th><td>tt0000001</td><td>6</td><td>Carmencita                </td><td>US</td><td>\\N</td><td>\\N        </td><td>\\N          </td><td>0</td></tr>\n",
       "</tbody>\n",
       "</table>\n"
      ],
      "text/latex": [
       "A data.frame: 6 × 8\n",
       "\\begin{tabular}{r|llllllll}\n",
       "  & titleId & ordering & title & region & language & types & attributes & isOriginalTitle\\\\\n",
       "  & <chr> & <int> & <chr> & <chr> & <chr> & <chr> & <chr> & <chr>\\\\\n",
       "\\hline\n",
       "\t1 & tt0000001 & 1 & ÐšÐ°Ñ€Ð¼ÐµÐ½ÑÑ–Ñ‚Ð°  & UA & \\textbackslash{}N & imdbDisplay & \\textbackslash{}N           & 0\\\\\n",
       "\t2 & tt0000001 & 2 & Carmencita                 & DE & \\textbackslash{}N & \\textbackslash{}N         & literal title & 0\\\\\n",
       "\t3 & tt0000001 & 3 & Carmencita - spanyol tÃ¡nc & HU & \\textbackslash{}N & imdbDisplay & \\textbackslash{}N           & 0\\\\\n",
       "\t4 & tt0000001 & 4 & ÎšÎ±ÏÎ¼ÎµÎ½ÏƒÎ¯Ï„Î±  & GR & \\textbackslash{}N & imdbDisplay & \\textbackslash{}N           & 0\\\\\n",
       "\t5 & tt0000001 & 5 & ÐšÐ°Ñ€Ð¼ÐµÐ½ÑÐ¸Ñ‚Ð°  & RU & \\textbackslash{}N & imdbDisplay & \\textbackslash{}N           & 0\\\\\n",
       "\t6 & tt0000001 & 6 & Carmencita                 & US & \\textbackslash{}N & \\textbackslash{}N         & \\textbackslash{}N           & 0\\\\\n",
       "\\end{tabular}\n"
      ],
      "text/markdown": [
       "\n",
       "A data.frame: 6 × 8\n",
       "\n",
       "| <!--/--> | titleId &lt;chr&gt; | ordering &lt;int&gt; | title &lt;chr&gt; | region &lt;chr&gt; | language &lt;chr&gt; | types &lt;chr&gt; | attributes &lt;chr&gt; | isOriginalTitle &lt;chr&gt; |\n",
       "|---|---|---|---|---|---|---|---|---|\n",
       "| 1 | tt0000001 | 1 | ÐšÐ°Ñ€Ð¼ÐµÐ½ÑÑ–Ñ‚Ð°  | UA | \\N | imdbDisplay | \\N           | 0 |\n",
       "| 2 | tt0000001 | 2 | Carmencita                 | DE | \\N | \\N         | literal title | 0 |\n",
       "| 3 | tt0000001 | 3 | Carmencita - spanyol tÃ¡nc | HU | \\N | imdbDisplay | \\N           | 0 |\n",
       "| 4 | tt0000001 | 4 | ÎšÎ±ÏÎ¼ÎµÎ½ÏƒÎ¯Ï„Î±  | GR | \\N | imdbDisplay | \\N           | 0 |\n",
       "| 5 | tt0000001 | 5 | ÐšÐ°Ñ€Ð¼ÐµÐ½ÑÐ¸Ñ‚Ð°  | RU | \\N | imdbDisplay | \\N           | 0 |\n",
       "| 6 | tt0000001 | 6 | Carmencita                 | US | \\N | \\N         | \\N           | 0 |\n",
       "\n"
      ],
      "text/plain": [
       "  titleId   ordering title                      region language types      \n",
       "1 tt0000001 1        ÐšÐ°Ñ€Ð¼ÐµÐ½Ñ\\u0081Ñ–Ñ‚Ð°  UA     \\\\N      imdbDisplay\n",
       "2 tt0000001 2        Carmencita                 DE     \\\\N      \\\\N        \n",
       "3 tt0000001 3        Carmencita - spanyol tÃ¡nc HU     \\\\N      imdbDisplay\n",
       "4 tt0000001 4        ÎšÎ±Ï\\u0081Î¼ÎµÎ½ÏƒÎ¯Ï„Î±  GR     \\\\N      imdbDisplay\n",
       "5 tt0000001 5        ÐšÐ°Ñ€Ð¼ÐµÐ½Ñ\\u0081Ð¸Ñ‚Ð°  RU     \\\\N      imdbDisplay\n",
       "6 tt0000001 6        Carmencita                 US     \\\\N      \\\\N        \n",
       "  attributes    isOriginalTitle\n",
       "1 \\\\N           0              \n",
       "2 literal title 0              \n",
       "3 \\\\N           0              \n",
       "4 \\\\N           0              \n",
       "5 \\\\N           0              \n",
       "6 \\\\N           0              "
      ]
     },
     "metadata": {},
     "output_type": "display_data"
    }
   ],
   "source": [
    "head(title_akas)"
   ]
  },
  {
   "cell_type": "code",
   "execution_count": 25,
   "metadata": {},
   "outputs": [],
   "source": [
    "above3d=tc_clean[lengths(tc_clean$directors)>3,1] #Movies with more than 3 directors"
   ]
  },
  {
   "cell_type": "code",
   "execution_count": 26,
   "metadata": {},
   "outputs": [
    {
     "data": {
      "text/html": [
       "5366"
      ],
      "text/latex": [
       "5366"
      ],
      "text/markdown": [
       "5366"
      ],
      "text/plain": [
       "[1] 5366"
      ]
     },
     "metadata": {},
     "output_type": "display_data"
    }
   ],
   "source": [
    "length(above3d) #Number of movies with more than 3 directors"
   ]
  },
  {
   "cell_type": "code",
   "execution_count": 27,
   "metadata": {},
   "outputs": [
    {
     "data": {
      "text/html": [
       "<table>\n",
       "<caption>A data.frame: 1 × 3</caption>\n",
       "<thead>\n",
       "\t<tr><th></th><th scope=col>tconst</th><th scope=col>directors</th><th scope=col>writers</th></tr>\n",
       "\t<tr><th></th><th scope=col>&lt;chr&gt;</th><th scope=col>&lt;list&gt;</th><th scope=col>&lt;list&gt;</th></tr>\n",
       "</thead>\n",
       "<tbody>\n",
       "\t<tr><th scope=row>529730</th><td>tt11886912</td><td>nm0496172 , nm0155683 , nm0656584 , nm0112621 , nm0001929 , nm1856696 , nm0653366 , nm0217148 , nm0652823 , nm0047658 , nm0657484 , nm0059981 , nm0643130 , nm0044310 , nm0219136 , nm0842918 , nm0003029 , nm0669704 , nm0619738 , nm0042848 , nm0619614 , nm2400834 , nm0617736 , nm0613587 , nm1589892 , nm0002191 , nm0490694 , nm0603294 , nm0596962 , nm0066667 , nm0845386 , nm0040939 , nm0110300 , nm0221611 , nm0002218 , nm0038449 , nm0586123 , nm0116166 , nm1834139 , nm0582841 , nm0490324 , nm1195545 , nm0035993 , nm1192762 , nm0034079 , nm5018794 , nm6327278 , nm0221711 , nm0821637 , nm0553309 , nm1816892 , nm0149594 , nm0553303 , nm0677546 , nm0126898 , nm0551761 , nm0030681 , nm0551217 , nm1285812 , nm0222135 , nm4059694 , nm0545701 , nm0029268 , nm0449394 , nm0545393 , nm0028998 , nm0545382 , nm0000894 , nm0679928 , nm0195537 , nm0681412 , nm0028470 , nm0539667 , nm1313798 , nm0127804 , nm0069711 , nm0537626 , nm0028317 , nm0682692 , nm0232832 , nm0071117 , nm0025534 , nm1140699 , nm0684171 , nm0234672 , nm0506584 , nm0023832 , nm0506518 , nm4955199 , nm1392986 , nm0237547 , nm0350597 , nm1967121 , nm0684226 , nm0851724 , nm0021577 , nm0071379 , nm0685494 , nm0016900 , nm0529706 , nm0994546 , nm0015533 , nm0237876 , nm0073384 , nm0002020 , nm1303965 , nm0957794 , nm0074213 , nm0527852 , nm0813219 , nm0524568 , nm0001901 , nm0132064 , nm4805424 , nm0856500 , nm0000254 , nm0520569 , nm2130235 , nm0238475 , nm0518027 , nm0955026 , nm6291971 , nm0517975 , nm0008506 , nm0694946 , nm0515201 , nm0007814 , nm0513371 , nm0075650 , nm0858224 , nm1464594 , nm0239725 , nm0133028 , nm0859323 , nm0952148 , nm0146637 , nm11388447, nm0512071 , nm0181745 , nm1093478 , nm0699095 , nm0510233 , nm0107896 , nm2284662 , nm0241487 , nm0509302 , nm0941868 , nm0860019 , nm0504618 , nm0504267 , nm1680298 , nm0500976 , nm0181117 , nm1464507 , nm0076889 , nm0004202 , nm1179406 , nm0494558 , nm0077014 , nm11393715, nm0000962 , nm0494557 , nm0912224 , nm0077911 , nm0179576 , nm1269163 , nm0244378 , nm0494025 , nm0707466 , nm0252634 , nm0489309 , nm1135994 , nm0906174 , nm0811773 , nm0485939 , nm10962448, nm0710639 , nm0861292 , nm0078363 , nm0078465 , nm0483770 , nm0156694 , nm0712995 , nm0713042 , nm0261198 , nm0482532 , nm11390709, nm7114265 , nm0807704 , nm0714534 , nm0470443 , nm0468007 , nm0173916 , nm0000300 , nm0460120 , nm1311155 , nm3294643 , nm3035371 , nm0169699 , nm0736644 , nm0901799 , nm0458251 , nm0265724 , nm2025003 , nm0444244 , nm0439748 , nm0871779 , nm0000945 , nm0438051 , nm0434806 , nm1539008 , nm2928499 , nm0434701 , nm0738311 , nm0084492 , nm1196219 , nm0969395 , nm0099324 , nm1174756 , nm0084585 , nm0141142 , nm0418450 , nm0266862 , nm0415658 , nm0411556 , nm0267293 , nm0803066 , nm0407263 , nm0745973 , nm0268999 , nm0169245 , nm0399475 , nm0134559 , nm2004352 , nm0747690 , nm0898603 , nm11390699, nm1864602 , nm0382327 , nm0994651 , nm0167388 , nm0086920 , nm0749439 , nm0755389 , nm0004124 , nm0897957 , nm0271408 , nm0375469 , nm0371890 , nm0757958 , nm0897138 , nm0758933 , nm0086924 , nm0273862 , nm0897045 , nm6015437 , nm0345948 , nm0873211 , nm0802807 , nm0273863 , nm0350168 , nm1061623 , nm0141140 , nm0762201 , nm0086952 , nm0098953 , nm0347482 , nm0086992 , nm3772539 , nm0347473 , nm0094726 , nm0163022 , nm3176551 , nm0897017 , nm0876146 , nm0334488 , nm0274262 , nm0157145 , nm1062000 , nm0332648 , nm0778144 , nm0332647 , nm0779970 , nm0161717 , nm0895759 , nm0096773 , nm0278705 , nm0323937 , nm1175531 , nm11390698, nm0781748 , nm0283997 , nm0321403 , nm0785782 , nm1497208 , nm1051422 , nm0290425 , nm0320868 , nm0895752 , nm0098639 , nm0320762 , nm0796318 , nm1902512 , nm0797631 , nm0319624 , nm0003999 , nm0137228 , nm0315865 , nm0894439 , nm0798821 , nm0315591 , nm1779822 , nm0800098 , nm1202716 , nm4045057 , nm0312784 , nm0098793 , nm0309697 , nm0801533 , nm0894742 </td><td>nm11388447</td></tr>\n",
       "</tbody>\n",
       "</table>\n"
      ],
      "text/latex": [
       "A data.frame: 1 × 3\n",
       "\\begin{tabular}{r|lll}\n",
       "  & tconst & directors & writers\\\\\n",
       "  & <chr> & <list> & <list>\\\\\n",
       "\\hline\n",
       "\t529730 & tt11886912 & nm0496172 , nm0155683 , nm0656584 , nm0112621 , nm0001929 , nm1856696 , nm0653366 , nm0217148 , nm0652823 , nm0047658 , nm0657484 , nm0059981 , nm0643130 , nm0044310 , nm0219136 , nm0842918 , nm0003029 , nm0669704 , nm0619738 , nm0042848 , nm0619614 , nm2400834 , nm0617736 , nm0613587 , nm1589892 , nm0002191 , nm0490694 , nm0603294 , nm0596962 , nm0066667 , nm0845386 , nm0040939 , nm0110300 , nm0221611 , nm0002218 , nm0038449 , nm0586123 , nm0116166 , nm1834139 , nm0582841 , nm0490324 , nm1195545 , nm0035993 , nm1192762 , nm0034079 , nm5018794 , nm6327278 , nm0221711 , nm0821637 , nm0553309 , nm1816892 , nm0149594 , nm0553303 , nm0677546 , nm0126898 , nm0551761 , nm0030681 , nm0551217 , nm1285812 , nm0222135 , nm4059694 , nm0545701 , nm0029268 , nm0449394 , nm0545393 , nm0028998 , nm0545382 , nm0000894 , nm0679928 , nm0195537 , nm0681412 , nm0028470 , nm0539667 , nm1313798 , nm0127804 , nm0069711 , nm0537626 , nm0028317 , nm0682692 , nm0232832 , nm0071117 , nm0025534 , nm1140699 , nm0684171 , nm0234672 , nm0506584 , nm0023832 , nm0506518 , nm4955199 , nm1392986 , nm0237547 , nm0350597 , nm1967121 , nm0684226 , nm0851724 , nm0021577 , nm0071379 , nm0685494 , nm0016900 , nm0529706 , nm0994546 , nm0015533 , nm0237876 , nm0073384 , nm0002020 , nm1303965 , nm0957794 , nm0074213 , nm0527852 , nm0813219 , nm0524568 , nm0001901 , nm0132064 , nm4805424 , nm0856500 , nm0000254 , nm0520569 , nm2130235 , nm0238475 , nm0518027 , nm0955026 , nm6291971 , nm0517975 , nm0008506 , nm0694946 , nm0515201 , nm0007814 , nm0513371 , nm0075650 , nm0858224 , nm1464594 , nm0239725 , nm0133028 , nm0859323 , nm0952148 , nm0146637 , nm11388447, nm0512071 , nm0181745 , nm1093478 , nm0699095 , nm0510233 , nm0107896 , nm2284662 , nm0241487 , nm0509302 , nm0941868 , nm0860019 , nm0504618 , nm0504267 , nm1680298 , nm0500976 , nm0181117 , nm1464507 , nm0076889 , nm0004202 , nm1179406 , nm0494558 , nm0077014 , nm11393715, nm0000962 , nm0494557 , nm0912224 , nm0077911 , nm0179576 , nm1269163 , nm0244378 , nm0494025 , nm0707466 , nm0252634 , nm0489309 , nm1135994 , nm0906174 , nm0811773 , nm0485939 , nm10962448, nm0710639 , nm0861292 , nm0078363 , nm0078465 , nm0483770 , nm0156694 , nm0712995 , nm0713042 , nm0261198 , nm0482532 , nm11390709, nm7114265 , nm0807704 , nm0714534 , nm0470443 , nm0468007 , nm0173916 , nm0000300 , nm0460120 , nm1311155 , nm3294643 , nm3035371 , nm0169699 , nm0736644 , nm0901799 , nm0458251 , nm0265724 , nm2025003 , nm0444244 , nm0439748 , nm0871779 , nm0000945 , nm0438051 , nm0434806 , nm1539008 , nm2928499 , nm0434701 , nm0738311 , nm0084492 , nm1196219 , nm0969395 , nm0099324 , nm1174756 , nm0084585 , nm0141142 , nm0418450 , nm0266862 , nm0415658 , nm0411556 , nm0267293 , nm0803066 , nm0407263 , nm0745973 , nm0268999 , nm0169245 , nm0399475 , nm0134559 , nm2004352 , nm0747690 , nm0898603 , nm11390699, nm1864602 , nm0382327 , nm0994651 , nm0167388 , nm0086920 , nm0749439 , nm0755389 , nm0004124 , nm0897957 , nm0271408 , nm0375469 , nm0371890 , nm0757958 , nm0897138 , nm0758933 , nm0086924 , nm0273862 , nm0897045 , nm6015437 , nm0345948 , nm0873211 , nm0802807 , nm0273863 , nm0350168 , nm1061623 , nm0141140 , nm0762201 , nm0086952 , nm0098953 , nm0347482 , nm0086992 , nm3772539 , nm0347473 , nm0094726 , nm0163022 , nm3176551 , nm0897017 , nm0876146 , nm0334488 , nm0274262 , nm0157145 , nm1062000 , nm0332648 , nm0778144 , nm0332647 , nm0779970 , nm0161717 , nm0895759 , nm0096773 , nm0278705 , nm0323937 , nm1175531 , nm11390698, nm0781748 , nm0283997 , nm0321403 , nm0785782 , nm1497208 , nm1051422 , nm0290425 , nm0320868 , nm0895752 , nm0098639 , nm0320762 , nm0796318 , nm1902512 , nm0797631 , nm0319624 , nm0003999 , nm0137228 , nm0315865 , nm0894439 , nm0798821 , nm0315591 , nm1779822 , nm0800098 , nm1202716 , nm4045057 , nm0312784 , nm0098793 , nm0309697 , nm0801533 , nm0894742  & nm11388447\\\\\n",
       "\\end{tabular}\n"
      ],
      "text/markdown": [
       "\n",
       "A data.frame: 1 × 3\n",
       "\n",
       "| <!--/--> | tconst &lt;chr&gt; | directors &lt;list&gt; | writers &lt;list&gt; |\n",
       "|---|---|---|---|\n",
       "| 529730 | tt11886912 | nm0496172 , nm0155683 , nm0656584 , nm0112621 , nm0001929 , nm1856696 , nm0653366 , nm0217148 , nm0652823 , nm0047658 , nm0657484 , nm0059981 , nm0643130 , nm0044310 , nm0219136 , nm0842918 , nm0003029 , nm0669704 , nm0619738 , nm0042848 , nm0619614 , nm2400834 , nm0617736 , nm0613587 , nm1589892 , nm0002191 , nm0490694 , nm0603294 , nm0596962 , nm0066667 , nm0845386 , nm0040939 , nm0110300 , nm0221611 , nm0002218 , nm0038449 , nm0586123 , nm0116166 , nm1834139 , nm0582841 , nm0490324 , nm1195545 , nm0035993 , nm1192762 , nm0034079 , nm5018794 , nm6327278 , nm0221711 , nm0821637 , nm0553309 , nm1816892 , nm0149594 , nm0553303 , nm0677546 , nm0126898 , nm0551761 , nm0030681 , nm0551217 , nm1285812 , nm0222135 , nm4059694 , nm0545701 , nm0029268 , nm0449394 , nm0545393 , nm0028998 , nm0545382 , nm0000894 , nm0679928 , nm0195537 , nm0681412 , nm0028470 , nm0539667 , nm1313798 , nm0127804 , nm0069711 , nm0537626 , nm0028317 , nm0682692 , nm0232832 , nm0071117 , nm0025534 , nm1140699 , nm0684171 , nm0234672 , nm0506584 , nm0023832 , nm0506518 , nm4955199 , nm1392986 , nm0237547 , nm0350597 , nm1967121 , nm0684226 , nm0851724 , nm0021577 , nm0071379 , nm0685494 , nm0016900 , nm0529706 , nm0994546 , nm0015533 , nm0237876 , nm0073384 , nm0002020 , nm1303965 , nm0957794 , nm0074213 , nm0527852 , nm0813219 , nm0524568 , nm0001901 , nm0132064 , nm4805424 , nm0856500 , nm0000254 , nm0520569 , nm2130235 , nm0238475 , nm0518027 , nm0955026 , nm6291971 , nm0517975 , nm0008506 , nm0694946 , nm0515201 , nm0007814 , nm0513371 , nm0075650 , nm0858224 , nm1464594 , nm0239725 , nm0133028 , nm0859323 , nm0952148 , nm0146637 , nm11388447, nm0512071 , nm0181745 , nm1093478 , nm0699095 , nm0510233 , nm0107896 , nm2284662 , nm0241487 , nm0509302 , nm0941868 , nm0860019 , nm0504618 , nm0504267 , nm1680298 , nm0500976 , nm0181117 , nm1464507 , nm0076889 , nm0004202 , nm1179406 , nm0494558 , nm0077014 , nm11393715, nm0000962 , nm0494557 , nm0912224 , nm0077911 , nm0179576 , nm1269163 , nm0244378 , nm0494025 , nm0707466 , nm0252634 , nm0489309 , nm1135994 , nm0906174 , nm0811773 , nm0485939 , nm10962448, nm0710639 , nm0861292 , nm0078363 , nm0078465 , nm0483770 , nm0156694 , nm0712995 , nm0713042 , nm0261198 , nm0482532 , nm11390709, nm7114265 , nm0807704 , nm0714534 , nm0470443 , nm0468007 , nm0173916 , nm0000300 , nm0460120 , nm1311155 , nm3294643 , nm3035371 , nm0169699 , nm0736644 , nm0901799 , nm0458251 , nm0265724 , nm2025003 , nm0444244 , nm0439748 , nm0871779 , nm0000945 , nm0438051 , nm0434806 , nm1539008 , nm2928499 , nm0434701 , nm0738311 , nm0084492 , nm1196219 , nm0969395 , nm0099324 , nm1174756 , nm0084585 , nm0141142 , nm0418450 , nm0266862 , nm0415658 , nm0411556 , nm0267293 , nm0803066 , nm0407263 , nm0745973 , nm0268999 , nm0169245 , nm0399475 , nm0134559 , nm2004352 , nm0747690 , nm0898603 , nm11390699, nm1864602 , nm0382327 , nm0994651 , nm0167388 , nm0086920 , nm0749439 , nm0755389 , nm0004124 , nm0897957 , nm0271408 , nm0375469 , nm0371890 , nm0757958 , nm0897138 , nm0758933 , nm0086924 , nm0273862 , nm0897045 , nm6015437 , nm0345948 , nm0873211 , nm0802807 , nm0273863 , nm0350168 , nm1061623 , nm0141140 , nm0762201 , nm0086952 , nm0098953 , nm0347482 , nm0086992 , nm3772539 , nm0347473 , nm0094726 , nm0163022 , nm3176551 , nm0897017 , nm0876146 , nm0334488 , nm0274262 , nm0157145 , nm1062000 , nm0332648 , nm0778144 , nm0332647 , nm0779970 , nm0161717 , nm0895759 , nm0096773 , nm0278705 , nm0323937 , nm1175531 , nm11390698, nm0781748 , nm0283997 , nm0321403 , nm0785782 , nm1497208 , nm1051422 , nm0290425 , nm0320868 , nm0895752 , nm0098639 , nm0320762 , nm0796318 , nm1902512 , nm0797631 , nm0319624 , nm0003999 , nm0137228 , nm0315865 , nm0894439 , nm0798821 , nm0315591 , nm1779822 , nm0800098 , nm1202716 , nm4045057 , nm0312784 , nm0098793 , nm0309697 , nm0801533 , nm0894742  | nm11388447 |\n",
       "\n"
      ],
      "text/plain": [
       "       tconst    \n",
       "529730 tt11886912\n",
       "       directors                                                                                                                                                                                                                                                                                                                                                                                                                                                                                                                                                                                                                                                                                                                                                                                                                                                                                                                                                                                                                                                                                                                                                                                                                                                                                                                                                                                                                                                                                                                                                                                                                                                                                                                                                                                                                                                                                                                                                                                                                                                                                                                                                                                                                                                                                                                                                                                                                                                                                                                                                                                                                                                                                                                                                                                                                                                                                                                                                                                                                                                                                                                                                                                                                                                                                                                                                                                                                                                                                                                                                                                                                                                                                                                                                                                                                                                                                                                                                                                     \n",
       "529730 nm0496172 , nm0155683 , nm0656584 , nm0112621 , nm0001929 , nm1856696 , nm0653366 , nm0217148 , nm0652823 , nm0047658 , nm0657484 , nm0059981 , nm0643130 , nm0044310 , nm0219136 , nm0842918 , nm0003029 , nm0669704 , nm0619738 , nm0042848 , nm0619614 , nm2400834 , nm0617736 , nm0613587 , nm1589892 , nm0002191 , nm0490694 , nm0603294 , nm0596962 , nm0066667 , nm0845386 , nm0040939 , nm0110300 , nm0221611 , nm0002218 , nm0038449 , nm0586123 , nm0116166 , nm1834139 , nm0582841 , nm0490324 , nm1195545 , nm0035993 , nm1192762 , nm0034079 , nm5018794 , nm6327278 , nm0221711 , nm0821637 , nm0553309 , nm1816892 , nm0149594 , nm0553303 , nm0677546 , nm0126898 , nm0551761 , nm0030681 , nm0551217 , nm1285812 , nm0222135 , nm4059694 , nm0545701 , nm0029268 , nm0449394 , nm0545393 , nm0028998 , nm0545382 , nm0000894 , nm0679928 , nm0195537 , nm0681412 , nm0028470 , nm0539667 , nm1313798 , nm0127804 , nm0069711 , nm0537626 , nm0028317 , nm0682692 , nm0232832 , nm0071117 , nm0025534 , nm1140699 , nm0684171 , nm0234672 , nm0506584 , nm0023832 , nm0506518 , nm4955199 , nm1392986 , nm0237547 , nm0350597 , nm1967121 , nm0684226 , nm0851724 , nm0021577 , nm0071379 , nm0685494 , nm0016900 , nm0529706 , nm0994546 , nm0015533 , nm0237876 , nm0073384 , nm0002020 , nm1303965 , nm0957794 , nm0074213 , nm0527852 , nm0813219 , nm0524568 , nm0001901 , nm0132064 , nm4805424 , nm0856500 , nm0000254 , nm0520569 , nm2130235 , nm0238475 , nm0518027 , nm0955026 , nm6291971 , nm0517975 , nm0008506 , nm0694946 , nm0515201 , nm0007814 , nm0513371 , nm0075650 , nm0858224 , nm1464594 , nm0239725 , nm0133028 , nm0859323 , nm0952148 , nm0146637 , nm11388447, nm0512071 , nm0181745 , nm1093478 , nm0699095 , nm0510233 , nm0107896 , nm2284662 , nm0241487 , nm0509302 , nm0941868 , nm0860019 , nm0504618 , nm0504267 , nm1680298 , nm0500976 , nm0181117 , nm1464507 , nm0076889 , nm0004202 , nm1179406 , nm0494558 , nm0077014 , nm11393715, nm0000962 , nm0494557 , nm0912224 , nm0077911 , nm0179576 , nm1269163 , nm0244378 , nm0494025 , nm0707466 , nm0252634 , nm0489309 , nm1135994 , nm0906174 , nm0811773 , nm0485939 , nm10962448, nm0710639 , nm0861292 , nm0078363 , nm0078465 , nm0483770 , nm0156694 , nm0712995 , nm0713042 , nm0261198 , nm0482532 , nm11390709, nm7114265 , nm0807704 , nm0714534 , nm0470443 , nm0468007 , nm0173916 , nm0000300 , nm0460120 , nm1311155 , nm3294643 , nm3035371 , nm0169699 , nm0736644 , nm0901799 , nm0458251 , nm0265724 , nm2025003 , nm0444244 , nm0439748 , nm0871779 , nm0000945 , nm0438051 , nm0434806 , nm1539008 , nm2928499 , nm0434701 , nm0738311 , nm0084492 , nm1196219 , nm0969395 , nm0099324 , nm1174756 , nm0084585 , nm0141142 , nm0418450 , nm0266862 , nm0415658 , nm0411556 , nm0267293 , nm0803066 , nm0407263 , nm0745973 , nm0268999 , nm0169245 , nm0399475 , nm0134559 , nm2004352 , nm0747690 , nm0898603 , nm11390699, nm1864602 , nm0382327 , nm0994651 , nm0167388 , nm0086920 , nm0749439 , nm0755389 , nm0004124 , nm0897957 , nm0271408 , nm0375469 , nm0371890 , nm0757958 , nm0897138 , nm0758933 , nm0086924 , nm0273862 , nm0897045 , nm6015437 , nm0345948 , nm0873211 , nm0802807 , nm0273863 , nm0350168 , nm1061623 , nm0141140 , nm0762201 , nm0086952 , nm0098953 , nm0347482 , nm0086992 , nm3772539 , nm0347473 , nm0094726 , nm0163022 , nm3176551 , nm0897017 , nm0876146 , nm0334488 , nm0274262 , nm0157145 , nm1062000 , nm0332648 , nm0778144 , nm0332647 , nm0779970 , nm0161717 , nm0895759 , nm0096773 , nm0278705 , nm0323937 , nm1175531 , nm11390698, nm0781748 , nm0283997 , nm0321403 , nm0785782 , nm1497208 , nm1051422 , nm0290425 , nm0320868 , nm0895752 , nm0098639 , nm0320762 , nm0796318 , nm1902512 , nm0797631 , nm0319624 , nm0003999 , nm0137228 , nm0315865 , nm0894439 , nm0798821 , nm0315591 , nm1779822 , nm0800098 , nm1202716 , nm4045057 , nm0312784 , nm0098793 , nm0309697 , nm0801533 , nm0894742 \n",
       "       writers   \n",
       "529730 nm11388447"
      ]
     },
     "metadata": {},
     "output_type": "display_data"
    }
   ],
   "source": [
    "tc_clean[lengths(tc_clean$directors)==320,]"
   ]
  },
  {
   "cell_type": "code",
   "execution_count": null,
   "metadata": {},
   "outputs": [],
   "source": []
  }
 ],
 "metadata": {
  "kernelspec": {
   "display_name": "R",
   "language": "R",
   "name": "ir"
  },
  "language_info": {
   "codemirror_mode": "r",
   "file_extension": ".r",
   "mimetype": "text/x-r-source",
   "name": "R",
   "pygments_lexer": "r",
   "version": "4.0.2"
  }
 },
 "nbformat": 4,
 "nbformat_minor": 4
}
