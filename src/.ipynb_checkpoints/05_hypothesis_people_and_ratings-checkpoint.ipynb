{
 "cells": [
  {
   "cell_type": "markdown",
   "metadata": {},
   "source": [
    "## hypothesis success: people and ratings"
   ]
  },
  {
   "cell_type": "markdown",
   "metadata": {},
   "source": [
    "Grafo: vértices->pessoas; \n",
    "\n",
    "aresta entre duas pessoas caso tenham trabalhado juntas; \n",
    "\n",
    "a espessura da aresta é tanto maior quanto maior for o nº de filmes em comum "
   ]
  },
  {
   "cell_type": "markdown",
   "metadata": {},
   "source": [
    " "
   ]
  },
  {
   "cell_type": "code",
   "execution_count": null,
   "metadata": {},
   "outputs": [],
   "source": [
    "# filtered name basics containing only actors and actresses\n",
    "names = read.csv('./../dataset/name_basics_actors_actresses.csv',header=TRUE)"
   ]
  },
  {
   "cell_type": "code",
   "execution_count": null,
   "metadata": {},
   "outputs": [],
   "source": [
    "head(names)"
   ]
  },
  {
   "cell_type": "code",
   "execution_count": null,
   "metadata": {},
   "outputs": [],
   "source": [
    "df = data.frame(nconst=factor(), knownForTitles=factor())"
   ]
  },
  {
   "cell_type": "code",
   "execution_count": null,
   "metadata": {},
   "outputs": [],
   "source": [
    "head(df)"
   ]
  },
  {
   "cell_type": "code",
   "execution_count": null,
   "metadata": {},
   "outputs": [],
   "source": [
    "#df$nconst = rep(names$nconst, 4)"
   ]
  },
  {
   "cell_type": "code",
   "execution_count": null,
   "metadata": {},
   "outputs": [],
   "source": [
    "#head(df)"
   ]
  },
  {
   "cell_type": "code",
   "execution_count": null,
   "metadata": {},
   "outputs": [],
   "source": []
  },
  {
   "cell_type": "code",
   "execution_count": null,
   "metadata": {},
   "outputs": [],
   "source": []
  },
  {
   "cell_type": "code",
   "execution_count": null,
   "metadata": {},
   "outputs": [],
   "source": []
  },
  {
   "cell_type": "code",
   "execution_count": null,
   "metadata": {},
   "outputs": [],
   "source": []
  },
  {
   "cell_type": "code",
   "execution_count": 8,
   "metadata": {},
   "outputs": [],
   "source": [
    "merged = read.delim('./../dataset/merge_basics_ratings_crew.tsv',header=TRUE)"
   ]
  },
  {
   "cell_type": "code",
   "execution_count": 9,
   "metadata": {},
   "outputs": [
    {
     "data": {
      "text/html": [
       "<table>\n",
       "<caption>A data.frame: 6 × 12</caption>\n",
       "<thead>\n",
       "\t<tr><th></th><th scope=col>tconst</th><th scope=col>titleType</th><th scope=col>isAdult</th><th scope=col>startYear</th><th scope=col>runtimeMinutes</th><th scope=col>genre1</th><th scope=col>genre2</th><th scope=col>genre3</th><th scope=col>averageRating</th><th scope=col>numVotes</th><th scope=col>n_directors</th><th scope=col>n_writers</th></tr>\n",
       "\t<tr><th></th><th scope=col>&lt;fct&gt;</th><th scope=col>&lt;fct&gt;</th><th scope=col>&lt;int&gt;</th><th scope=col>&lt;int&gt;</th><th scope=col>&lt;int&gt;</th><th scope=col>&lt;fct&gt;</th><th scope=col>&lt;fct&gt;</th><th scope=col>&lt;fct&gt;</th><th scope=col>&lt;dbl&gt;</th><th scope=col>&lt;int&gt;</th><th scope=col>&lt;int&gt;</th><th scope=col>&lt;int&gt;</th></tr>\n",
       "</thead>\n",
       "<tbody>\n",
       "\t<tr><th scope=row>1</th><td>tt0000001</td><td>short</td><td>0</td><td>1894</td><td> 1</td><td>Documentary</td><td>Short </td><td>0      </td><td>5.6</td><td>1654</td><td>1</td><td>1</td></tr>\n",
       "\t<tr><th scope=row>2</th><td>tt0000002</td><td>short</td><td>0</td><td>1892</td><td> 5</td><td>Animation  </td><td>Short </td><td>0      </td><td>6.1</td><td> 199</td><td>1</td><td>1</td></tr>\n",
       "\t<tr><th scope=row>3</th><td>tt0000003</td><td>short</td><td>0</td><td>1892</td><td> 4</td><td>Animation  </td><td>Comedy</td><td>Romance</td><td>6.5</td><td>1366</td><td>1</td><td>1</td></tr>\n",
       "\t<tr><th scope=row>4</th><td>tt0000004</td><td>short</td><td>0</td><td>1892</td><td>12</td><td>Animation  </td><td>Short </td><td>0      </td><td>6.2</td><td> 121</td><td>1</td><td>1</td></tr>\n",
       "\t<tr><th scope=row>5</th><td>tt0000005</td><td>short</td><td>0</td><td>1893</td><td> 1</td><td>Comedy     </td><td>Short </td><td>0      </td><td>6.2</td><td>2149</td><td>1</td><td>1</td></tr>\n",
       "\t<tr><th scope=row>6</th><td>tt0000006</td><td>short</td><td>0</td><td>1894</td><td> 1</td><td>Short      </td><td>0     </td><td>0      </td><td>5.3</td><td> 115</td><td>1</td><td>1</td></tr>\n",
       "</tbody>\n",
       "</table>\n"
      ],
      "text/latex": [
       "A data.frame: 6 × 12\n",
       "\\begin{tabular}{r|llllllllllll}\n",
       "  & tconst & titleType & isAdult & startYear & runtimeMinutes & genre1 & genre2 & genre3 & averageRating & numVotes & n\\_directors & n\\_writers\\\\\n",
       "  & <fct> & <fct> & <int> & <int> & <int> & <fct> & <fct> & <fct> & <dbl> & <int> & <int> & <int>\\\\\n",
       "\\hline\n",
       "\t1 & tt0000001 & short & 0 & 1894 &  1 & Documentary & Short  & 0       & 5.6 & 1654 & 1 & 1\\\\\n",
       "\t2 & tt0000002 & short & 0 & 1892 &  5 & Animation   & Short  & 0       & 6.1 &  199 & 1 & 1\\\\\n",
       "\t3 & tt0000003 & short & 0 & 1892 &  4 & Animation   & Comedy & Romance & 6.5 & 1366 & 1 & 1\\\\\n",
       "\t4 & tt0000004 & short & 0 & 1892 & 12 & Animation   & Short  & 0       & 6.2 &  121 & 1 & 1\\\\\n",
       "\t5 & tt0000005 & short & 0 & 1893 &  1 & Comedy      & Short  & 0       & 6.2 & 2149 & 1 & 1\\\\\n",
       "\t6 & tt0000006 & short & 0 & 1894 &  1 & Short       & 0      & 0       & 5.3 &  115 & 1 & 1\\\\\n",
       "\\end{tabular}\n"
      ],
      "text/markdown": [
       "\n",
       "A data.frame: 6 × 12\n",
       "\n",
       "| <!--/--> | tconst &lt;fct&gt; | titleType &lt;fct&gt; | isAdult &lt;int&gt; | startYear &lt;int&gt; | runtimeMinutes &lt;int&gt; | genre1 &lt;fct&gt; | genre2 &lt;fct&gt; | genre3 &lt;fct&gt; | averageRating &lt;dbl&gt; | numVotes &lt;int&gt; | n_directors &lt;int&gt; | n_writers &lt;int&gt; |\n",
       "|---|---|---|---|---|---|---|---|---|---|---|---|---|\n",
       "| 1 | tt0000001 | short | 0 | 1894 |  1 | Documentary | Short  | 0       | 5.6 | 1654 | 1 | 1 |\n",
       "| 2 | tt0000002 | short | 0 | 1892 |  5 | Animation   | Short  | 0       | 6.1 |  199 | 1 | 1 |\n",
       "| 3 | tt0000003 | short | 0 | 1892 |  4 | Animation   | Comedy | Romance | 6.5 | 1366 | 1 | 1 |\n",
       "| 4 | tt0000004 | short | 0 | 1892 | 12 | Animation   | Short  | 0       | 6.2 |  121 | 1 | 1 |\n",
       "| 5 | tt0000005 | short | 0 | 1893 |  1 | Comedy      | Short  | 0       | 6.2 | 2149 | 1 | 1 |\n",
       "| 6 | tt0000006 | short | 0 | 1894 |  1 | Short       | 0      | 0       | 5.3 |  115 | 1 | 1 |\n",
       "\n"
      ],
      "text/plain": [
       "  tconst    titleType isAdult startYear runtimeMinutes genre1      genre2\n",
       "1 tt0000001 short     0       1894       1             Documentary Short \n",
       "2 tt0000002 short     0       1892       5             Animation   Short \n",
       "3 tt0000003 short     0       1892       4             Animation   Comedy\n",
       "4 tt0000004 short     0       1892      12             Animation   Short \n",
       "5 tt0000005 short     0       1893       1             Comedy      Short \n",
       "6 tt0000006 short     0       1894       1             Short       0     \n",
       "  genre3  averageRating numVotes n_directors n_writers\n",
       "1 0       5.6           1654     1           1        \n",
       "2 0       6.1            199     1           1        \n",
       "3 Romance 6.5           1366     1           1        \n",
       "4 0       6.2            121     1           1        \n",
       "5 0       6.2           2149     1           1        \n",
       "6 0       5.3            115     1           1        "
      ]
     },
     "metadata": {},
     "output_type": "display_data"
    }
   ],
   "source": [
    "head(merged)"
   ]
  },
  {
   "cell_type": "code",
   "execution_count": null,
   "metadata": {},
   "outputs": [],
   "source": []
  }
 ],
 "metadata": {
  "kernelspec": {
   "display_name": "R",
   "language": "R",
   "name": "ir"
  },
  "language_info": {
   "codemirror_mode": "r",
   "file_extension": ".r",
   "mimetype": "text/x-r-source",
   "name": "R",
   "pygments_lexer": "r",
   "version": "3.6.3"
  }
 },
 "nbformat": 4,
 "nbformat_minor": 4
}
