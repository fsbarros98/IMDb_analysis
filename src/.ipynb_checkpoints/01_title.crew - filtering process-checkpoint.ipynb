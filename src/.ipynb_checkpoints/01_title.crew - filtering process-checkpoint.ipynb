{
 "cells": [
  {
   "cell_type": "code",
   "execution_count": 1,
   "metadata": {},
   "outputs": [],
   "source": [
    "library(readxl)"
   ]
  },
  {
   "cell_type": "code",
   "execution_count": null,
   "metadata": {},
   "outputs": [],
   "source": [
    "new <- read.delim('/home/fatimab/Documents/FEUP/Visualização_de_Dados/VD_project/dataset/title.principals.tsv',header=TRUE,nrows=)\n",
    "print(\"New loaded\")\n",
    "filtered <- read.delim(\"/home/fatimab/Documents/FEUP/Visualização_de_Dados/VD_project/dataset/filtered.title.basics.tsv\",header=TRUE)\n",
    "print(\"Filtered Title basics loaded\")\n",
    "\n",
    "df = dplyr::filter(new, new$tconst %in% filtered$tconst)\n",
    "\n",
    "print(\"Saving new filtered...\")\n",
    "write.table(df,file='filtered.title.principals.tsv',quote=FALSE,sep='\\t',row.names=FALSE)\n",
    "print(\"Done!\")"
   ]
  },
  {
   "cell_type": "code",
   "execution_count": null,
   "metadata": {},
   "outputs": [],
   "source": []
  }
 ],
 "metadata": {
  "kernelspec": {
   "display_name": "R",
   "language": "R",
   "name": "ir"
  },
  "language_info": {
   "codemirror_mode": "r",
   "file_extension": ".r",
   "mimetype": "text/x-r-source",
   "name": "R",
   "pygments_lexer": "r",
   "version": "3.6.1"
  }
 },
 "nbformat": 4,
 "nbformat_minor": 4
}
