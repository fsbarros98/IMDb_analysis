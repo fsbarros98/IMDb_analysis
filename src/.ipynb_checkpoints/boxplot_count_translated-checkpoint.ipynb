{
 "cells": [
  {
   "cell_type": "markdown",
   "metadata": {},
   "source": [
    "# Counting translated titles"
   ]
  },
  {
   "cell_type": "code",
   "execution_count": 1,
   "metadata": {},
   "outputs": [
    {
     "name": "stderr",
     "output_type": "stream",
     "text": [
      "Registered S3 methods overwritten by 'ggplot2':\n",
      "  method         from \n",
      "  [.quosures     rlang\n",
      "  c.quosures     rlang\n",
      "  print.quosures rlang\n",
      "\n",
      "Attaching package: ‘dplyr’\n",
      "\n",
      "The following objects are masked from ‘package:stats’:\n",
      "\n",
      "    filter, lag\n",
      "\n",
      "The following objects are masked from ‘package:base’:\n",
      "\n",
      "    intersect, setdiff, setequal, union\n",
      "\n",
      "Registered S3 method overwritten by 'rvest':\n",
      "  method            from\n",
      "  read_xml.response xml2\n",
      "── Attaching packages ─────────────────────────────────────── tidyverse 1.2.1 ──\n",
      "✔ tibble  3.0.4     ✔ purrr   0.3.2\n",
      "✔ tidyr   0.8.3     ✔ stringr 1.4.0\n",
      "✔ readr   1.3.1     ✔ forcats 0.4.0\n",
      "── Conflicts ────────────────────────────────────────── tidyverse_conflicts() ──\n",
      "✖ dplyr::filter() masks stats::filter()\n",
      "✖ dplyr::lag()    masks stats::lag()\n"
     ]
    }
   ],
   "source": [
    "library(ggplot2)\n",
    "library(dplyr)\n",
    "library(tidyverse)\n",
    "library(stringr)"
   ]
  },
  {
   "cell_type": "code",
   "execution_count": 2,
   "metadata": {},
   "outputs": [],
   "source": [
    "title_akas=read.delim(\"./../dataset/cleaned_filtered_title_akas.tsv\",header=TRUE)"
   ]
  },
  {
   "cell_type": "code",
   "execution_count": 3,
   "metadata": {},
   "outputs": [
    {
     "data": {
      "text/html": [
       "<table>\n",
       "<thead><tr><th scope=col>titleId</th><th scope=col>region</th><th scope=col>isOriginalTitle</th></tr></thead>\n",
       "<tbody>\n",
       "\t<tr><td>tt0000001</td><td>UA       </td><td>0        </td></tr>\n",
       "\t<tr><td>tt0000001</td><td>DE       </td><td>0        </td></tr>\n",
       "\t<tr><td>tt0000001</td><td>HU       </td><td>0        </td></tr>\n",
       "\t<tr><td>tt0000001</td><td>GR       </td><td>0        </td></tr>\n",
       "\t<tr><td>tt0000001</td><td>RU       </td><td>0        </td></tr>\n",
       "\t<tr><td>tt0000001</td><td>US       </td><td>0        </td></tr>\n",
       "</tbody>\n",
       "</table>\n"
      ],
      "text/latex": [
       "\\begin{tabular}{r|lll}\n",
       " titleId & region & isOriginalTitle\\\\\n",
       "\\hline\n",
       "\t tt0000001 & UA        & 0        \\\\\n",
       "\t tt0000001 & DE        & 0        \\\\\n",
       "\t tt0000001 & HU        & 0        \\\\\n",
       "\t tt0000001 & GR        & 0        \\\\\n",
       "\t tt0000001 & RU        & 0        \\\\\n",
       "\t tt0000001 & US        & 0        \\\\\n",
       "\\end{tabular}\n"
      ],
      "text/markdown": [
       "\n",
       "| titleId | region | isOriginalTitle |\n",
       "|---|---|---|\n",
       "| tt0000001 | UA        | 0         |\n",
       "| tt0000001 | DE        | 0         |\n",
       "| tt0000001 | HU        | 0         |\n",
       "| tt0000001 | GR        | 0         |\n",
       "| tt0000001 | RU        | 0         |\n",
       "| tt0000001 | US        | 0         |\n",
       "\n"
      ],
      "text/plain": [
       "  titleId   region isOriginalTitle\n",
       "1 tt0000001 UA     0              \n",
       "2 tt0000001 DE     0              \n",
       "3 tt0000001 HU     0              \n",
       "4 tt0000001 GR     0              \n",
       "5 tt0000001 RU     0              \n",
       "6 tt0000001 US     0              "
      ]
     },
     "metadata": {},
     "output_type": "display_data"
    }
   ],
   "source": [
    "head(title_akas)"
   ]
  },
  {
   "cell_type": "code",
   "execution_count": 10,
   "metadata": {},
   "outputs": [],
   "source": [
    "ids = table(title_akas$titleId)"
   ]
  },
  {
   "cell_type": "code",
   "execution_count": 42,
   "metadata": {},
   "outputs": [],
   "source": [
    "ids = as.data.frame(ids)\n",
    "ids$type = \"Title\""
   ]
  },
  {
   "cell_type": "code",
   "execution_count": 43,
   "metadata": {},
   "outputs": [
    {
     "data": {
      "text/plain": [
       "        Var1             Freq            type          \n",
       " tt0000001:     1   Min.   : 1.000   Length:907879     \n",
       " tt0000002:     1   1st Qu.: 1.000   Class :character  \n",
       " tt0000003:     1   Median : 1.000   Mode  :character  \n",
       " tt0000004:     1   Mean   : 2.105                     \n",
       " tt0000005:     1   3rd Qu.: 2.000                     \n",
       " tt0000006:     1   Max.   :78.000                     \n",
       " (Other)  :907873                                      "
      ]
     },
     "metadata": {},
     "output_type": "display_data"
    }
   ],
   "source": [
    "summary(ids)"
   ]
  },
  {
   "cell_type": "code",
   "execution_count": 107,
   "metadata": {},
   "outputs": [
    {
     "data": {
      "text/html": [
       "0.747613944148945"
      ],
      "text/latex": [
       "0.747613944148945"
      ],
      "text/markdown": [
       "0.747613944148945"
      ],
      "text/plain": [
       "[1] 0.7476139"
      ]
     },
     "metadata": {},
     "output_type": "display_data"
    }
   ],
   "source": [
    "ones = nrow(ids[ids$Freq==1,])/nrow(ids)\n",
    "ones"
   ]
  },
  {
   "cell_type": "code",
   "execution_count": 108,
   "metadata": {},
   "outputs": [],
   "source": [
    "plus_ones = 1-ones"
   ]
  },
  {
   "cell_type": "code",
   "execution_count": 109,
   "metadata": {},
   "outputs": [],
   "source": [
    "ones = round(ones,digits=2)\n",
    "plus_ones =  round(plus_ones,digits=2)"
   ]
  },
  {
   "cell_type": "code",
   "execution_count": 110,
   "metadata": {},
   "outputs": [],
   "source": [
    "pie_chart_data = data.frame(group=c(\"1's\",\"+1\"),value=c(ones,plus_ones))"
   ]
  },
  {
   "cell_type": "code",
   "execution_count": 111,
   "metadata": {},
   "outputs": [
    {
     "data": {
      "image/png": "[encoded data removed]",
      "text/plain": [
       "plot without title"
      ]
     },
     "metadata": {},
     "output_type": "display_data"
    }
   ],
   "source": [
    "ggplot(pie_chart_data, aes(x=\"\", y=value, fill=group)) +\n",
    "  geom_bar(stat=\"identity\", width=1) +\n",
    "  coord_polar(\"y\", start=0) + \n",
    "  theme_void()+\n",
    "  theme(legend.position=\"none\",plot.title=element_text(hjust=0.5,size=30)) +\n",
    "  geom_text(aes(label = paste(group,\":\", value*100,\"%\")), position=position_stack(vjust=0.5), color = \"black\", size=9) + \n",
    "  scale_fill_brewer(palette=\"Blues\") +\n",
    "  labs(title=\"Regions per Titles\")"
   ]
  },
  {
   "cell_type": "code",
   "execution_count": 113,
   "metadata": {},
   "outputs": [],
   "source": [
    "ids_menor_1 = ids[ids$Freq<2,]\n",
    "ids_maior_1 = ids[ids$Freq>=2,]"
   ]
  },
  {
   "cell_type": "code",
   "execution_count": 114,
   "metadata": {},
   "outputs": [
    {
     "data": {
      "text/plain": [
       "        Var1             Freq       type          \n",
       " tt0000019:     1   Min.   :1   Length:678743     \n",
       " tt0000025:     1   1st Qu.:1   Class :character  \n",
       " tt0000038:     1   Median :1   Mode  :character  \n",
       " tt0000039:     1   Mean   :1                     \n",
       " tt0000043:     1   3rd Qu.:1                     \n",
       " tt0000044:     1   Max.   :1                     \n",
       " (Other)  :678737                                 "
      ]
     },
     "metadata": {},
     "output_type": "display_data"
    }
   ],
   "source": [
    "summary(ids_menor_1)"
   ]
  },
  {
   "cell_type": "code",
   "execution_count": 115,
   "metadata": {},
   "outputs": [
    {
     "data": {
      "text/plain": [
       "        Var1             Freq            type          \n",
       " tt0000001:     1   Min.   : 2.000   Length:229136     \n",
       " tt0000002:     1   1st Qu.: 2.000   Class :character  \n",
       " tt0000003:     1   Median : 3.000   Mode  :character  \n",
       " tt0000004:     1   Mean   : 5.379                     \n",
       " tt0000005:     1   3rd Qu.: 5.000                     \n",
       " tt0000006:     1   Max.   :78.000                     \n",
       " (Other)  :229130                                      "
      ]
     },
     "metadata": {},
     "output_type": "display_data"
    }
   ],
   "source": [
    "summary(ids_maior_1)"
   ]
  },
  {
   "cell_type": "code",
   "execution_count": 116,
   "metadata": {},
   "outputs": [],
   "source": [
    "require(scales)"
   ]
  },
  {
   "cell_type": "code",
   "execution_count": 117,
   "metadata": {
    "scrolled": false
   },
   "outputs": [
    {
     "data": {
      "image/png": "[encoded data removed]",
      "text/plain": [
       "plot without title"
      ]
     },
     "metadata": {},
     "output_type": "display_data"
    }
   ],
   "source": [
    "ggplot(ids,aes(x=factor(type),y=(Freq)))+\n",
    "  geom_violin()+ \n",
    "  scale_y_log10()+\n",
    "  coord_flip() "
   ]
  },
  {
   "cell_type": "code",
   "execution_count": 151,
   "metadata": {},
   "outputs": [
    {
     "data": {
      "image/png": "[encoded data removed]",
      "text/plain": [
       "plot without title"
      ]
     },
     "metadata": {},
     "output_type": "display_data"
    }
   ],
   "source": [
    "ggplot(ids_maior_1,aes(x=factor(type),y=(Freq)))+\n",
    "  geom_violin(fill=\"5\",alpha=0.3)+ \n",
    "  scale_y_log10(breaks=c(0,1,2,3,4,5,6,7,8,9,10,20,30,40,50,60,70,80))+\n",
    "  theme_classic(base_size = 15)+\n",
    "  coord_flip()+\n",
    "  theme(axis.title.y=element_blank(),axis.text.y=element_blank(),\n",
    "        axis.ticks.y=element_blank(),legend.position=\"none\",plot.title=element_text(hjust=0.5,size=30)) +\n",
    "  labs(y=\"Frequency\",x=\"\",title=\"Violin Plot of Regions per Title \")"
   ]
  },
  {
   "cell_type": "code",
   "execution_count": 93,
   "metadata": {
    "scrolled": true
   },
   "outputs": [
    {
     "data": {
      "text/html": [
       "<table>\n",
       "<thead><tr><th></th><th scope=col>Var1</th><th scope=col>Freq</th><th scope=col>type</th></tr></thead>\n",
       "<tbody>\n",
       "\t<tr><th scope=row>19</th><td>tt0000019</td><td>1        </td><td>Title    </td></tr>\n",
       "\t<tr><th scope=row>24</th><td>tt0000025</td><td>1        </td><td>Title    </td></tr>\n",
       "\t<tr><th scope=row>37</th><td>tt0000038</td><td>1        </td><td>Title    </td></tr>\n",
       "\t<tr><th scope=row>38</th><td>tt0000039</td><td>1        </td><td>Title    </td></tr>\n",
       "\t<tr><th scope=row>42</th><td>tt0000043</td><td>1        </td><td>Title    </td></tr>\n",
       "\t<tr><th scope=row>43</th><td>tt0000044</td><td>1        </td><td>Title    </td></tr>\n",
       "\t<tr><th scope=row>46</th><td>tt0000047</td><td>1        </td><td>Title    </td></tr>\n",
       "\t<tr><th scope=row>47</th><td>tt0000048</td><td>1        </td><td>Title    </td></tr>\n",
       "\t<tr><th scope=row>48</th><td>tt0000049</td><td>1        </td><td>Title    </td></tr>\n",
       "\t<tr><th scope=row>52</th><td>tt0000053</td><td>1        </td><td>Title    </td></tr>\n",
       "\t<tr><th scope=row>54</th><td>tt0000055</td><td>1        </td><td>Title    </td></tr>\n",
       "\t<tr><th scope=row>55</th><td>tt0000056</td><td>1        </td><td>Title    </td></tr>\n",
       "\t<tr><th scope=row>59</th><td>tt0000060</td><td>1        </td><td>Title    </td></tr>\n",
       "\t<tr><th scope=row>60</th><td>tt0000061</td><td>1        </td><td>Title    </td></tr>\n",
       "\t<tr><th scope=row>61</th><td>tt0000062</td><td>1        </td><td>Title    </td></tr>\n",
       "\t<tr><th scope=row>63</th><td>tt0000064</td><td>1        </td><td>Title    </td></tr>\n",
       "\t<tr><th scope=row>64</th><td>tt0000065</td><td>1        </td><td>Title    </td></tr>\n",
       "\t<tr><th scope=row>65</th><td>tt0000066</td><td>1        </td><td>Title    </td></tr>\n",
       "\t<tr><th scope=row>76</th><td>tt0000077</td><td>1        </td><td>Title    </td></tr>\n",
       "\t<tr><th scope=row>78</th><td>tt0000079</td><td>1        </td><td>Title    </td></tr>\n",
       "\t<tr><th scope=row>92</th><td>tt0000093</td><td>1        </td><td>Title    </td></tr>\n",
       "\t<tr><th scope=row>95</th><td>tt0000096</td><td>1        </td><td>Title    </td></tr>\n",
       "\t<tr><th scope=row>98</th><td>tt0000099</td><td>1        </td><td>Title    </td></tr>\n",
       "\t<tr><th scope=row>100</th><td>tt0000101</td><td>1        </td><td>Title    </td></tr>\n",
       "\t<tr><th scope=row>105</th><td>tt0000106</td><td>1        </td><td>Title    </td></tr>\n",
       "\t<tr><th scope=row>115</th><td>tt0000116</td><td>1        </td><td>Title    </td></tr>\n",
       "\t<tr><th scope=row>117</th><td>tt0000118</td><td>1        </td><td>Title    </td></tr>\n",
       "\t<tr><th scope=row>124</th><td>tt0000125</td><td>1        </td><td>Title    </td></tr>\n",
       "\t<tr><th scope=row>126</th><td>tt0000127</td><td>1        </td><td>Title    </td></tr>\n",
       "\t<tr><th scope=row>129</th><td>tt0000130</td><td>1        </td><td>Title    </td></tr>\n",
       "\t<tr><th scope=row>...</th><td>...</td><td>...</td><td>...</td></tr>\n",
       "\t<tr><th scope=row>907845</th><td>tt9916190</td><td>1        </td><td>Title    </td></tr>\n",
       "\t<tr><th scope=row>907847</th><td>tt9916214</td><td>1        </td><td>Title    </td></tr>\n",
       "\t<tr><th scope=row>907848</th><td>tt9916248</td><td>1        </td><td>Title    </td></tr>\n",
       "\t<tr><th scope=row>907850</th><td>tt9916312</td><td>1        </td><td>Title    </td></tr>\n",
       "\t<tr><th scope=row>907853</th><td>tt9916460</td><td>1        </td><td>Title    </td></tr>\n",
       "\t<tr><th scope=row>907854</th><td>tt9916472</td><td>1        </td><td>Title    </td></tr>\n",
       "\t<tr><th scope=row>907855</th><td>tt9916538</td><td>1        </td><td>Title    </td></tr>\n",
       "\t<tr><th scope=row>907856</th><td>tt9916544</td><td>1        </td><td>Title    </td></tr>\n",
       "\t<tr><th scope=row>907857</th><td>tt9916560</td><td>1        </td><td>Title    </td></tr>\n",
       "\t<tr><th scope=row>907858</th><td>tt9916610</td><td>1        </td><td>Title    </td></tr>\n",
       "\t<tr><th scope=row>907859</th><td>tt9916614</td><td>1        </td><td>Title    </td></tr>\n",
       "\t<tr><th scope=row>907860</th><td>tt9916616</td><td>1        </td><td>Title    </td></tr>\n",
       "\t<tr><th scope=row>907861</th><td>tt9916620</td><td>1        </td><td>Title    </td></tr>\n",
       "\t<tr><th scope=row>907862</th><td>tt9916622</td><td>1        </td><td>Title    </td></tr>\n",
       "\t<tr><th scope=row>907863</th><td>tt9916634</td><td>1        </td><td>Title    </td></tr>\n",
       "\t<tr><th scope=row>907864</th><td>tt9916652</td><td>1        </td><td>Title    </td></tr>\n",
       "\t<tr><th scope=row>907865</th><td>tt9916664</td><td>1        </td><td>Title    </td></tr>\n",
       "\t<tr><th scope=row>907866</th><td>tt9916666</td><td>1        </td><td>Title    </td></tr>\n",
       "\t<tr><th scope=row>907867</th><td>tt9916680</td><td>1        </td><td>Title    </td></tr>\n",
       "\t<tr><th scope=row>907868</th><td>tt9916692</td><td>1        </td><td>Title    </td></tr>\n",
       "\t<tr><th scope=row>907869</th><td>tt9916696</td><td>1        </td><td>Title    </td></tr>\n",
       "\t<tr><th scope=row>907870</th><td>tt9916698</td><td>1        </td><td>Title    </td></tr>\n",
       "\t<tr><th scope=row>907871</th><td>tt9916702</td><td>1        </td><td>Title    </td></tr>\n",
       "\t<tr><th scope=row>907872</th><td>tt9916706</td><td>1        </td><td>Title    </td></tr>\n",
       "\t<tr><th scope=row>907874</th><td>tt9916724</td><td>1        </td><td>Title    </td></tr>\n",
       "\t<tr><th scope=row>907875</th><td>tt9916730</td><td>1        </td><td>Title    </td></tr>\n",
       "\t<tr><th scope=row>907876</th><td>tt9916754</td><td>1        </td><td>Title    </td></tr>\n",
       "\t<tr><th scope=row>907877</th><td>tt9916756</td><td>1        </td><td>Title    </td></tr>\n",
       "\t<tr><th scope=row>907878</th><td>tt9916764</td><td>1        </td><td>Title    </td></tr>\n",
       "\t<tr><th scope=row>907879</th><td>tt9916856</td><td>1        </td><td>Title    </td></tr>\n",
       "</tbody>\n",
       "</table>\n"
      ],
      "text/latex": [
       "\\begin{tabular}{r|lll}\n",
       "  & Var1 & Freq & type\\\\\n",
       "\\hline\n",
       "\t19 & tt0000019 & 1         & Title    \\\\\n",
       "\t24 & tt0000025 & 1         & Title    \\\\\n",
       "\t37 & tt0000038 & 1         & Title    \\\\\n",
       "\t38 & tt0000039 & 1         & Title    \\\\\n",
       "\t42 & tt0000043 & 1         & Title    \\\\\n",
       "\t43 & tt0000044 & 1         & Title    \\\\\n",
       "\t46 & tt0000047 & 1         & Title    \\\\\n",
       "\t47 & tt0000048 & 1         & Title    \\\\\n",
       "\t48 & tt0000049 & 1         & Title    \\\\\n",
       "\t52 & tt0000053 & 1         & Title    \\\\\n",
       "\t54 & tt0000055 & 1         & Title    \\\\\n",
       "\t55 & tt0000056 & 1         & Title    \\\\\n",
       "\t59 & tt0000060 & 1         & Title    \\\\\n",
       "\t60 & tt0000061 & 1         & Title    \\\\\n",
       "\t61 & tt0000062 & 1         & Title    \\\\\n",
       "\t63 & tt0000064 & 1         & Title    \\\\\n",
       "\t64 & tt0000065 & 1         & Title    \\\\\n",
       "\t65 & tt0000066 & 1         & Title    \\\\\n",
       "\t76 & tt0000077 & 1         & Title    \\\\\n",
       "\t78 & tt0000079 & 1         & Title    \\\\\n",
       "\t92 & tt0000093 & 1         & Title    \\\\\n",
       "\t95 & tt0000096 & 1         & Title    \\\\\n",
       "\t98 & tt0000099 & 1         & Title    \\\\\n",
       "\t100 & tt0000101 & 1         & Title    \\\\\n",
       "\t105 & tt0000106 & 1         & Title    \\\\\n",
       "\t115 & tt0000116 & 1         & Title    \\\\\n",
       "\t117 & tt0000118 & 1         & Title    \\\\\n",
       "\t124 & tt0000125 & 1         & Title    \\\\\n",
       "\t126 & tt0000127 & 1         & Title    \\\\\n",
       "\t129 & tt0000130 & 1         & Title    \\\\\n",
       "\t... & ... & ... & ...\\\\\n",
       "\t907845 & tt9916190 & 1         & Title    \\\\\n",
       "\t907847 & tt9916214 & 1         & Title    \\\\\n",
       "\t907848 & tt9916248 & 1         & Title    \\\\\n",
       "\t907850 & tt9916312 & 1         & Title    \\\\\n",
       "\t907853 & tt9916460 & 1         & Title    \\\\\n",
       "\t907854 & tt9916472 & 1         & Title    \\\\\n",
       "\t907855 & tt9916538 & 1         & Title    \\\\\n",
       "\t907856 & tt9916544 & 1         & Title    \\\\\n",
       "\t907857 & tt9916560 & 1         & Title    \\\\\n",
       "\t907858 & tt9916610 & 1         & Title    \\\\\n",
       "\t907859 & tt9916614 & 1         & Title    \\\\\n",
       "\t907860 & tt9916616 & 1         & Title    \\\\\n",
       "\t907861 & tt9916620 & 1         & Title    \\\\\n",
       "\t907862 & tt9916622 & 1         & Title    \\\\\n",
       "\t907863 & tt9916634 & 1         & Title    \\\\\n",
       "\t907864 & tt9916652 & 1         & Title    \\\\\n",
       "\t907865 & tt9916664 & 1         & Title    \\\\\n",
       "\t907866 & tt9916666 & 1         & Title    \\\\\n",
       "\t907867 & tt9916680 & 1         & Title    \\\\\n",
       "\t907868 & tt9916692 & 1         & Title    \\\\\n",
       "\t907869 & tt9916696 & 1         & Title    \\\\\n",
       "\t907870 & tt9916698 & 1         & Title    \\\\\n",
       "\t907871 & tt9916702 & 1         & Title    \\\\\n",
       "\t907872 & tt9916706 & 1         & Title    \\\\\n",
       "\t907874 & tt9916724 & 1         & Title    \\\\\n",
       "\t907875 & tt9916730 & 1         & Title    \\\\\n",
       "\t907876 & tt9916754 & 1         & Title    \\\\\n",
       "\t907877 & tt9916756 & 1         & Title    \\\\\n",
       "\t907878 & tt9916764 & 1         & Title    \\\\\n",
       "\t907879 & tt9916856 & 1         & Title    \\\\\n",
       "\\end{tabular}\n"
      ],
      "text/markdown": [
       "\n",
       "| <!--/--> | Var1 | Freq | type |\n",
       "|---|---|---|---|\n",
       "| 19 | tt0000019 | 1         | Title     |\n",
       "| 24 | tt0000025 | 1         | Title     |\n",
       "| 37 | tt0000038 | 1         | Title     |\n",
       "| 38 | tt0000039 | 1         | Title     |\n",
       "| 42 | tt0000043 | 1         | Title     |\n",
       "| 43 | tt0000044 | 1         | Title     |\n",
       "| 46 | tt0000047 | 1         | Title     |\n",
       "| 47 | tt0000048 | 1         | Title     |\n",
       "| 48 | tt0000049 | 1         | Title     |\n",
       "| 52 | tt0000053 | 1         | Title     |\n",
       "| 54 | tt0000055 | 1         | Title     |\n",
       "| 55 | tt0000056 | 1         | Title     |\n",
       "| 59 | tt0000060 | 1         | Title     |\n",
       "| 60 | tt0000061 | 1         | Title     |\n",
       "| 61 | tt0000062 | 1         | Title     |\n",
       "| 63 | tt0000064 | 1         | Title     |\n",
       "| 64 | tt0000065 | 1         | Title     |\n",
       "| 65 | tt0000066 | 1         | Title     |\n",
       "| 76 | tt0000077 | 1         | Title     |\n",
       "| 78 | tt0000079 | 1         | Title     |\n",
       "| 92 | tt0000093 | 1         | Title     |\n",
       "| 95 | tt0000096 | 1         | Title     |\n",
       "| 98 | tt0000099 | 1         | Title     |\n",
       "| 100 | tt0000101 | 1         | Title     |\n",
       "| 105 | tt0000106 | 1         | Title     |\n",
       "| 115 | tt0000116 | 1         | Title     |\n",
       "| 117 | tt0000118 | 1         | Title     |\n",
       "| 124 | tt0000125 | 1         | Title     |\n",
       "| 126 | tt0000127 | 1         | Title     |\n",
       "| 129 | tt0000130 | 1         | Title     |\n",
       "| ... | ... | ... | ... |\n",
       "| 907845 | tt9916190 | 1         | Title     |\n",
       "| 907847 | tt9916214 | 1         | Title     |\n",
       "| 907848 | tt9916248 | 1         | Title     |\n",
       "| 907850 | tt9916312 | 1         | Title     |\n",
       "| 907853 | tt9916460 | 1         | Title     |\n",
       "| 907854 | tt9916472 | 1         | Title     |\n",
       "| 907855 | tt9916538 | 1         | Title     |\n",
       "| 907856 | tt9916544 | 1         | Title     |\n",
       "| 907857 | tt9916560 | 1         | Title     |\n",
       "| 907858 | tt9916610 | 1         | Title     |\n",
       "| 907859 | tt9916614 | 1         | Title     |\n",
       "| 907860 | tt9916616 | 1         | Title     |\n",
       "| 907861 | tt9916620 | 1         | Title     |\n",
       "| 907862 | tt9916622 | 1         | Title     |\n",
       "| 907863 | tt9916634 | 1         | Title     |\n",
       "| 907864 | tt9916652 | 1         | Title     |\n",
       "| 907865 | tt9916664 | 1         | Title     |\n",
       "| 907866 | tt9916666 | 1         | Title     |\n",
       "| 907867 | tt9916680 | 1         | Title     |\n",
       "| 907868 | tt9916692 | 1         | Title     |\n",
       "| 907869 | tt9916696 | 1         | Title     |\n",
       "| 907870 | tt9916698 | 1         | Title     |\n",
       "| 907871 | tt9916702 | 1         | Title     |\n",
       "| 907872 | tt9916706 | 1         | Title     |\n",
       "| 907874 | tt9916724 | 1         | Title     |\n",
       "| 907875 | tt9916730 | 1         | Title     |\n",
       "| 907876 | tt9916754 | 1         | Title     |\n",
       "| 907877 | tt9916756 | 1         | Title     |\n",
       "| 907878 | tt9916764 | 1         | Title     |\n",
       "| 907879 | tt9916856 | 1         | Title     |\n",
       "\n"
      ],
      "text/plain": [
       "       Var1      Freq type \n",
       "19     tt0000019 1    Title\n",
       "24     tt0000025 1    Title\n",
       "37     tt0000038 1    Title\n",
       "38     tt0000039 1    Title\n",
       "42     tt0000043 1    Title\n",
       "43     tt0000044 1    Title\n",
       "46     tt0000047 1    Title\n",
       "47     tt0000048 1    Title\n",
       "48     tt0000049 1    Title\n",
       "52     tt0000053 1    Title\n",
       "54     tt0000055 1    Title\n",
       "55     tt0000056 1    Title\n",
       "59     tt0000060 1    Title\n",
       "60     tt0000061 1    Title\n",
       "61     tt0000062 1    Title\n",
       "63     tt0000064 1    Title\n",
       "64     tt0000065 1    Title\n",
       "65     tt0000066 1    Title\n",
       "76     tt0000077 1    Title\n",
       "78     tt0000079 1    Title\n",
       "92     tt0000093 1    Title\n",
       "95     tt0000096 1    Title\n",
       "98     tt0000099 1    Title\n",
       "100    tt0000101 1    Title\n",
       "105    tt0000106 1    Title\n",
       "115    tt0000116 1    Title\n",
       "117    tt0000118 1    Title\n",
       "124    tt0000125 1    Title\n",
       "126    tt0000127 1    Title\n",
       "129    tt0000130 1    Title\n",
       "...    ...       ...  ...  \n",
       "907845 tt9916190 1    Title\n",
       "907847 tt9916214 1    Title\n",
       "907848 tt9916248 1    Title\n",
       "907850 tt9916312 1    Title\n",
       "907853 tt9916460 1    Title\n",
       "907854 tt9916472 1    Title\n",
       "907855 tt9916538 1    Title\n",
       "907856 tt9916544 1    Title\n",
       "907857 tt9916560 1    Title\n",
       "907858 tt9916610 1    Title\n",
       "907859 tt9916614 1    Title\n",
       "907860 tt9916616 1    Title\n",
       "907861 tt9916620 1    Title\n",
       "907862 tt9916622 1    Title\n",
       "907863 tt9916634 1    Title\n",
       "907864 tt9916652 1    Title\n",
       "907865 tt9916664 1    Title\n",
       "907866 tt9916666 1    Title\n",
       "907867 tt9916680 1    Title\n",
       "907868 tt9916692 1    Title\n",
       "907869 tt9916696 1    Title\n",
       "907870 tt9916698 1    Title\n",
       "907871 tt9916702 1    Title\n",
       "907872 tt9916706 1    Title\n",
       "907874 tt9916724 1    Title\n",
       "907875 tt9916730 1    Title\n",
       "907876 tt9916754 1    Title\n",
       "907877 tt9916756 1    Title\n",
       "907878 tt9916764 1    Title\n",
       "907879 tt9916856 1    Title"
      ]
     },
     "metadata": {},
     "output_type": "display_data"
    }
   ],
   "source": [
    "ids_menor_10"
   ]
  },
  {
   "cell_type": "code",
   "execution_count": null,
   "metadata": {},
   "outputs": [],
   "source": []
  }
 ],
 "metadata": {
  "kernelspec": {
   "display_name": "R",
   "language": "R",
   "name": "ir"
  },
  "language_info": {
   "codemirror_mode": "r",
   "file_extension": ".r",
   "mimetype": "text/x-r-source",
   "name": "R",
   "pygments_lexer": "r",
   "version": "3.6.1"
  }
 },
 "nbformat": 4,
 "nbformat_minor": 4
}
