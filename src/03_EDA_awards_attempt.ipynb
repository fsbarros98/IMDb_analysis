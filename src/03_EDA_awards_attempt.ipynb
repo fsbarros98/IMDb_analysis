{
 "cells": [
  {
   "cell_type": "markdown",
   "metadata": {},
   "source": [
    "# Attempting to merge Emmy Award data with our datasets"
   ]
  },
  {
   "cell_type": "code",
   "execution_count": 1,
   "metadata": {},
   "outputs": [
    {
     "name": "stderr",
     "output_type": "stream",
     "text": [
      "Registered S3 methods overwritten by 'ggplot2':\n",
      "  method         from \n",
      "  [.quosures     rlang\n",
      "  c.quosures     rlang\n",
      "  print.quosures rlang\n",
      "\n",
      "Attaching package: ‘dplyr’\n",
      "\n",
      "The following objects are masked from ‘package:stats’:\n",
      "\n",
      "    filter, lag\n",
      "\n",
      "The following objects are masked from ‘package:base’:\n",
      "\n",
      "    intersect, setdiff, setequal, union\n",
      "\n",
      "Registered S3 method overwritten by 'rvest':\n",
      "  method            from\n",
      "  read_xml.response xml2\n",
      "── Attaching packages ─────────────────────────────────────── tidyverse 1.2.1 ──\n",
      "✔ tibble  3.0.4     ✔ purrr   0.3.2\n",
      "✔ tidyr   0.8.3     ✔ stringr 1.4.0\n",
      "✔ readr   1.3.1     ✔ forcats 0.4.0\n",
      "── Conflicts ────────────────────────────────────────── tidyverse_conflicts() ──\n",
      "✖ dplyr::filter() masks stats::filter()\n",
      "✖ dplyr::lag()    masks stats::lag()\n"
     ]
    }
   ],
   "source": [
    "library(ggplot2)\n",
    "library(dplyr)\n",
    "library(tidyverse)\n",
    "library(stringr)"
   ]
  },
  {
   "cell_type": "markdown",
   "metadata": {},
   "source": [
    "## Import datasets"
   ]
  },
  {
   "cell_type": "code",
   "execution_count": 2,
   "metadata": {},
   "outputs": [],
   "source": [
    "title_basics=read.delim(\"./../dataset/filtered.title.basics.tsv\",header=TRUE)"
   ]
  },
  {
   "cell_type": "code",
   "execution_count": 3,
   "metadata": {},
   "outputs": [],
   "source": [
    "emmy_awards = read.csv(\"./../dataset/the_emmy_awards.csv\",header=TRUE) "
   ]
  },
  {
   "cell_type": "code",
   "execution_count": 4,
   "metadata": {},
   "outputs": [
    {
     "data": {
      "text/html": [
       "<table>\n",
       "<thead><tr><th scope=col>tconst</th><th scope=col>titleType</th><th scope=col>primaryTitle</th><th scope=col>originalTitle</th><th scope=col>isAdult</th><th scope=col>startYear</th><th scope=col>endYear</th><th scope=col>runtimeMinutes</th><th scope=col>genres</th></tr></thead>\n",
       "<tbody>\n",
       "\t<tr><td>tt0000001               </td><td>short                   </td><td>Carmencita              </td><td>Carmencita              </td><td>0                       </td><td>1894                    </td><td>\\N                     </td><td>1                       </td><td>Documentary,Short       </td></tr>\n",
       "\t<tr><td>tt0000002               </td><td>short                   </td><td>Le clown et ses chiens  </td><td>Le clown et ses chiens  </td><td>0                       </td><td>1892                    </td><td>\\N                     </td><td>5                       </td><td>Animation,Short         </td></tr>\n",
       "\t<tr><td>tt0000003               </td><td>short                   </td><td>Pauvre Pierrot          </td><td>Pauvre Pierrot          </td><td>0                       </td><td>1892                    </td><td>\\N                     </td><td>4                       </td><td>Animation,Comedy,Romance</td></tr>\n",
       "\t<tr><td>tt0000004               </td><td>short                   </td><td>Un bon bock             </td><td>Un bon bock             </td><td>0                       </td><td>1892                    </td><td>\\N                     </td><td>12                      </td><td>Animation,Short         </td></tr>\n",
       "\t<tr><td>tt0000005               </td><td>short                   </td><td>Blacksmith Scene        </td><td>Blacksmith Scene        </td><td>0                       </td><td>1893                    </td><td>\\N                     </td><td>1                       </td><td>Comedy,Short            </td></tr>\n",
       "\t<tr><td>tt0000006               </td><td>short                   </td><td>Chinese Opium Den       </td><td>Chinese Opium Den       </td><td>0                       </td><td>1894                    </td><td>\\N                     </td><td>1                       </td><td>Short                   </td></tr>\n",
       "</tbody>\n",
       "</table>\n"
      ],
      "text/latex": [
       "\\begin{tabular}{r|lllllllll}\n",
       " tconst & titleType & primaryTitle & originalTitle & isAdult & startYear & endYear & runtimeMinutes & genres\\\\\n",
       "\\hline\n",
       "\t tt0000001                & short                    & Carmencita               & Carmencita               & 0                        & 1894                     & \\textbackslash{}N       & 1                        & Documentary,Short       \\\\\n",
       "\t tt0000002                & short                    & Le clown et ses chiens   & Le clown et ses chiens   & 0                        & 1892                     & \\textbackslash{}N       & 5                        & Animation,Short         \\\\\n",
       "\t tt0000003                & short                    & Pauvre Pierrot           & Pauvre Pierrot           & 0                        & 1892                     & \\textbackslash{}N       & 4                        & Animation,Comedy,Romance\\\\\n",
       "\t tt0000004                & short                    & Un bon bock              & Un bon bock              & 0                        & 1892                     & \\textbackslash{}N       & 12                       & Animation,Short         \\\\\n",
       "\t tt0000005                & short                    & Blacksmith Scene         & Blacksmith Scene         & 0                        & 1893                     & \\textbackslash{}N       & 1                        & Comedy,Short            \\\\\n",
       "\t tt0000006                & short                    & Chinese Opium Den        & Chinese Opium Den        & 0                        & 1894                     & \\textbackslash{}N       & 1                        & Short                   \\\\\n",
       "\\end{tabular}\n"
      ],
      "text/markdown": [
       "\n",
       "| tconst | titleType | primaryTitle | originalTitle | isAdult | startYear | endYear | runtimeMinutes | genres |\n",
       "|---|---|---|---|---|---|---|---|---|\n",
       "| tt0000001                | short                    | Carmencita               | Carmencita               | 0                        | 1894                     | \\N                      | 1                        | Documentary,Short        |\n",
       "| tt0000002                | short                    | Le clown et ses chiens   | Le clown et ses chiens   | 0                        | 1892                     | \\N                      | 5                        | Animation,Short          |\n",
       "| tt0000003                | short                    | Pauvre Pierrot           | Pauvre Pierrot           | 0                        | 1892                     | \\N                      | 4                        | Animation,Comedy,Romance |\n",
       "| tt0000004                | short                    | Un bon bock              | Un bon bock              | 0                        | 1892                     | \\N                      | 12                       | Animation,Short          |\n",
       "| tt0000005                | short                    | Blacksmith Scene         | Blacksmith Scene         | 0                        | 1893                     | \\N                      | 1                        | Comedy,Short             |\n",
       "| tt0000006                | short                    | Chinese Opium Den        | Chinese Opium Den        | 0                        | 1894                     | \\N                      | 1                        | Short                    |\n",
       "\n"
      ],
      "text/plain": [
       "  tconst    titleType primaryTitle           originalTitle          isAdult\n",
       "1 tt0000001 short     Carmencita             Carmencita             0      \n",
       "2 tt0000002 short     Le clown et ses chiens Le clown et ses chiens 0      \n",
       "3 tt0000003 short     Pauvre Pierrot         Pauvre Pierrot         0      \n",
       "4 tt0000004 short     Un bon bock            Un bon bock            0      \n",
       "5 tt0000005 short     Blacksmith Scene       Blacksmith Scene       0      \n",
       "6 tt0000006 short     Chinese Opium Den      Chinese Opium Den      0      \n",
       "  startYear endYear runtimeMinutes genres                  \n",
       "1 1894      \\\\N     1              Documentary,Short       \n",
       "2 1892      \\\\N     5              Animation,Short         \n",
       "3 1892      \\\\N     4              Animation,Comedy,Romance\n",
       "4 1892      \\\\N     12             Animation,Short         \n",
       "5 1893      \\\\N     1              Comedy,Short            \n",
       "6 1894      \\\\N     1              Short                   "
      ]
     },
     "metadata": {},
     "output_type": "display_data"
    }
   ],
   "source": [
    "head(title_basics)"
   ]
  },
  {
   "cell_type": "code",
   "execution_count": 5,
   "metadata": {},
   "outputs": [
    {
     "data": {
      "text/html": [
       "<table>\n",
       "<thead><tr><th scope=col>id</th><th scope=col>startYear</th><th scope=col>category</th><th scope=col>primaryTitle</th><th scope=col>staff</th><th scope=col>company</th><th scope=col>producer</th><th scope=col>win</th></tr></thead>\n",
       "<tbody>\n",
       "\t<tr><td>1                                                                                              </td><td>2019                                                                                           </td><td>Outstanding Character Voice-Over Performance                                                   </td><td>The Simpsons                                                                                   </td><td>Hank Azaria, as Moe, Carl, Duffman, Kirk                                                       </td><td>FOX                                                                                            </td><td>Gracie Films in association with 20th Century Fox Television                                   </td><td>False                                                                                          </td></tr>\n",
       "\t<tr><td>2                                                                                              </td><td>2019                                                                                           </td><td>Outstanding Character Voice-Over Performance                                                   </td><td>Family Guy                                                                                     </td><td>Alex Borstein, as Lois Griffin, Tricia Takanawa                                                </td><td>FOX                                                                                            </td><td>20th Century Fox Television                                                                    </td><td>False                                                                                          </td></tr>\n",
       "\t<tr><td>3                                                                                              </td><td>2019                                                                                           </td><td>Outstanding Character Voice-Over Performance                                                   </td><td>When You Wish Upon A Pickle: A Sesame Street Special                                           </td><td>Eric Jacobson, as Bert, Grover, Oscar                                                          </td><td>HBO                                                                                            </td><td>Sesame Street Workshop                                                                         </td><td>False                                                                                          </td></tr>\n",
       "\t<tr><td>4                                                                                              </td><td>2019                                                                                           </td><td>Outstanding Character Voice-Over Performance                                                   </td><td>F Is For Family                                                                                </td><td>Kevin Michael Richardson, as Rosie                                                             </td><td>Netflix                                                                                        </td><td>Wild West Television in association with Gaumont Television                                    </td><td>False                                                                                          </td></tr>\n",
       "\t<tr><td>5                                                                                              </td><td>2019                                                                                           </td><td>Outstanding Production Design For A Narrative Contemporary Program (One Hour Or More)          </td><td>Escape At Dannemora                                                                            </td><td>Mark Ricker, Production Designer; James Truesdale, Art Director; Cherish M. Hale, Set Decorator</td><td>Showtime                                                                                       </td><td>Red Hour, Busyhands, The White Mountain Company, Michael De Luca Productions, BZ Entertainment </td><td>False                                                                                          </td></tr>\n",
       "\t<tr><td>6                                                                                              </td><td>2019                                                                                           </td><td>Outstanding Production Design For A Narrative Contemporary Program (One Hour Or More)          </td><td>Killing Eve                                                                                    </td><td>Laurence Dorman, Production Designer; Beckie Harvey, Art Director; Linda Wilson, Set Decorator </td><td>BBC America                                                                                    </td><td>Sid Gentle Films Ltd.                                                                          </td><td>False                                                                                          </td></tr>\n",
       "</tbody>\n",
       "</table>\n"
      ],
      "text/latex": [
       "\\begin{tabular}{r|llllllll}\n",
       " id & startYear & category & primaryTitle & staff & company & producer & win\\\\\n",
       "\\hline\n",
       "\t 1                                                                                               & 2019                                                                                            & Outstanding Character Voice-Over Performance                                                    & The Simpsons                                                                                    & Hank Azaria, as Moe, Carl, Duffman, Kirk                                                        & FOX                                                                                             & Gracie Films in association with 20th Century Fox Television                                    & False                                                                                          \\\\\n",
       "\t 2                                                                                               & 2019                                                                                            & Outstanding Character Voice-Over Performance                                                    & Family Guy                                                                                      & Alex Borstein, as Lois Griffin, Tricia Takanawa                                                 & FOX                                                                                             & 20th Century Fox Television                                                                     & False                                                                                          \\\\\n",
       "\t 3                                                                                               & 2019                                                                                            & Outstanding Character Voice-Over Performance                                                    & When You Wish Upon A Pickle: A Sesame Street Special                                            & Eric Jacobson, as Bert, Grover, Oscar                                                           & HBO                                                                                             & Sesame Street Workshop                                                                          & False                                                                                          \\\\\n",
       "\t 4                                                                                               & 2019                                                                                            & Outstanding Character Voice-Over Performance                                                    & F Is For Family                                                                                 & Kevin Michael Richardson, as Rosie                                                              & Netflix                                                                                         & Wild West Television in association with Gaumont Television                                     & False                                                                                          \\\\\n",
       "\t 5                                                                                               & 2019                                                                                            & Outstanding Production Design For A Narrative Contemporary Program (One Hour Or More)           & Escape At Dannemora                                                                             & Mark Ricker, Production Designer; James Truesdale, Art Director; Cherish M. Hale, Set Decorator & Showtime                                                                                        & Red Hour, Busyhands, The White Mountain Company, Michael De Luca Productions, BZ Entertainment  & False                                                                                          \\\\\n",
       "\t 6                                                                                               & 2019                                                                                            & Outstanding Production Design For A Narrative Contemporary Program (One Hour Or More)           & Killing Eve                                                                                     & Laurence Dorman, Production Designer; Beckie Harvey, Art Director; Linda Wilson, Set Decorator  & BBC America                                                                                     & Sid Gentle Films Ltd.                                                                           & False                                                                                          \\\\\n",
       "\\end{tabular}\n"
      ],
      "text/markdown": [
       "\n",
       "| id | startYear | category | primaryTitle | staff | company | producer | win |\n",
       "|---|---|---|---|---|---|---|---|\n",
       "| 1                                                                                               | 2019                                                                                            | Outstanding Character Voice-Over Performance                                                    | The Simpsons                                                                                    | Hank Azaria, as Moe, Carl, Duffman, Kirk                                                        | FOX                                                                                             | Gracie Films in association with 20th Century Fox Television                                    | False                                                                                           |\n",
       "| 2                                                                                               | 2019                                                                                            | Outstanding Character Voice-Over Performance                                                    | Family Guy                                                                                      | Alex Borstein, as Lois Griffin, Tricia Takanawa                                                 | FOX                                                                                             | 20th Century Fox Television                                                                     | False                                                                                           |\n",
       "| 3                                                                                               | 2019                                                                                            | Outstanding Character Voice-Over Performance                                                    | When You Wish Upon A Pickle: A Sesame Street Special                                            | Eric Jacobson, as Bert, Grover, Oscar                                                           | HBO                                                                                             | Sesame Street Workshop                                                                          | False                                                                                           |\n",
       "| 4                                                                                               | 2019                                                                                            | Outstanding Character Voice-Over Performance                                                    | F Is For Family                                                                                 | Kevin Michael Richardson, as Rosie                                                              | Netflix                                                                                         | Wild West Television in association with Gaumont Television                                     | False                                                                                           |\n",
       "| 5                                                                                               | 2019                                                                                            | Outstanding Production Design For A Narrative Contemporary Program (One Hour Or More)           | Escape At Dannemora                                                                             | Mark Ricker, Production Designer; James Truesdale, Art Director; Cherish M. Hale, Set Decorator | Showtime                                                                                        | Red Hour, Busyhands, The White Mountain Company, Michael De Luca Productions, BZ Entertainment  | False                                                                                           |\n",
       "| 6                                                                                               | 2019                                                                                            | Outstanding Production Design For A Narrative Contemporary Program (One Hour Or More)           | Killing Eve                                                                                     | Laurence Dorman, Production Designer; Beckie Harvey, Art Director; Linda Wilson, Set Decorator  | BBC America                                                                                     | Sid Gentle Films Ltd.                                                                           | False                                                                                           |\n",
       "\n"
      ],
      "text/plain": [
       "  id startYear\n",
       "1 1  2019     \n",
       "2 2  2019     \n",
       "3 3  2019     \n",
       "4 4  2019     \n",
       "5 5  2019     \n",
       "6 6  2019     \n",
       "  category                                                                             \n",
       "1 Outstanding Character Voice-Over Performance                                         \n",
       "2 Outstanding Character Voice-Over Performance                                         \n",
       "3 Outstanding Character Voice-Over Performance                                         \n",
       "4 Outstanding Character Voice-Over Performance                                         \n",
       "5 Outstanding Production Design For A Narrative Contemporary Program (One Hour Or More)\n",
       "6 Outstanding Production Design For A Narrative Contemporary Program (One Hour Or More)\n",
       "  primaryTitle                                        \n",
       "1 The Simpsons                                        \n",
       "2 Family Guy                                          \n",
       "3 When You Wish Upon A Pickle: A Sesame Street Special\n",
       "4 F Is For Family                                     \n",
       "5 Escape At Dannemora                                 \n",
       "6 Killing Eve                                         \n",
       "  staff                                                                                          \n",
       "1 Hank Azaria, as Moe, Carl, Duffman, Kirk                                                       \n",
       "2 Alex Borstein, as Lois Griffin, Tricia Takanawa                                                \n",
       "3 Eric Jacobson, as Bert, Grover, Oscar                                                          \n",
       "4 Kevin Michael Richardson, as Rosie                                                             \n",
       "5 Mark Ricker, Production Designer; James Truesdale, Art Director; Cherish M. Hale, Set Decorator\n",
       "6 Laurence Dorman, Production Designer; Beckie Harvey, Art Director; Linda Wilson, Set Decorator \n",
       "  company    \n",
       "1 FOX        \n",
       "2 FOX        \n",
       "3 HBO        \n",
       "4 Netflix    \n",
       "5 Showtime   \n",
       "6 BBC America\n",
       "  producer                                                                                      \n",
       "1 Gracie Films in association with 20th Century Fox Television                                  \n",
       "2 20th Century Fox Television                                                                   \n",
       "3 Sesame Street Workshop                                                                        \n",
       "4 Wild West Television in association with Gaumont Television                                   \n",
       "5 Red Hour, Busyhands, The White Mountain Company, Michael De Luca Productions, BZ Entertainment\n",
       "6 Sid Gentle Films Ltd.                                                                         \n",
       "  win  \n",
       "1 False\n",
       "2 False\n",
       "3 False\n",
       "4 False\n",
       "5 False\n",
       "6 False"
      ]
     },
     "metadata": {},
     "output_type": "display_data"
    }
   ],
   "source": [
    "head(emmy_awards)"
   ]
  },
  {
   "cell_type": "code",
   "execution_count": 6,
   "metadata": {},
   "outputs": [
    {
     "data": {
      "text/html": [
       "<table>\n",
       "<thead><tr><th></th><th scope=col>id</th><th scope=col>startYear</th><th scope=col>category</th><th scope=col>primaryTitle</th><th scope=col>staff</th><th scope=col>company</th><th scope=col>producer</th><th scope=col>win</th></tr></thead>\n",
       "<tbody>\n",
       "\t<tr><th scope=row>21498</th><td>21498                                             </td><td>1949                                              </td><td>MOST POPULAR TELEVISION PROGRAM                   </td><td>Armchair Detective                                </td><td>n/a,                                              </td><td>KTLA                                              </td><td>                                                  </td><td>False                                             </td></tr>\n",
       "\t<tr><th scope=row>21499</th><td>21499                                             </td><td>1949                                              </td><td>MOST POPULAR TELEVISION PROGRAM                   </td><td>Don Lee Music Hall                                </td><td>n/a,                                              </td><td>KTSL                                              </td><td>                                                  </td><td>False                                             </td></tr>\n",
       "\t<tr><th scope=row>21500</th><td>21500                                             </td><td>1949                                              </td><td>MOST POPULAR TELEVISION PROGRAM                   </td><td>Felix De Cola Show                                </td><td>n/a,                                              </td><td>KTLA                                              </td><td>                                                  </td><td>False                                             </td></tr>\n",
       "\t<tr><th scope=row>21501</th><td>21501                                             </td><td>1949                                              </td><td>SPECIAL AWARD                                     </td><td>Louis McManus For His Original Design of the Emmy </td><td>n/a,                                              </td><td>                                                  </td><td>                                                  </td><td>True                                              </td></tr>\n",
       "\t<tr><th scope=row>21502</th><td>21502                                             </td><td>1949                                              </td><td>STATION AWARD                                     </td><td>KTLA for Outstanding overall achievement in 1948  </td><td>n/a,                                              </td><td>KTLA                                              </td><td>                                                  </td><td>True                                              </td></tr>\n",
       "\t<tr><th scope=row>21503</th><td>21503                                             </td><td>1949                                              </td><td>TECHNICAL AWARD                                   </td><td>Charles Mesak/Don Lee TV for Phasefader - In Recog</td><td>n/a,                                              </td><td>                                                  </td><td>                                                  </td><td>True                                              </td></tr>\n",
       "</tbody>\n",
       "</table>\n"
      ],
      "text/latex": [
       "\\begin{tabular}{r|llllllll}\n",
       "  & id & startYear & category & primaryTitle & staff & company & producer & win\\\\\n",
       "\\hline\n",
       "\t21498 & 21498                                              & 1949                                               & MOST POPULAR TELEVISION PROGRAM                    & Armchair Detective                                 & n/a,                                               & KTLA                                               &                                                    & False                                             \\\\\n",
       "\t21499 & 21499                                              & 1949                                               & MOST POPULAR TELEVISION PROGRAM                    & Don Lee Music Hall                                 & n/a,                                               & KTSL                                               &                                                    & False                                             \\\\\n",
       "\t21500 & 21500                                              & 1949                                               & MOST POPULAR TELEVISION PROGRAM                    & Felix De Cola Show                                 & n/a,                                               & KTLA                                               &                                                    & False                                             \\\\\n",
       "\t21501 & 21501                                              & 1949                                               & SPECIAL AWARD                                      & Louis McManus For His Original Design of the Emmy  & n/a,                                               &                                                    &                                                    & True                                              \\\\\n",
       "\t21502 & 21502                                              & 1949                                               & STATION AWARD                                      & KTLA for Outstanding overall achievement in 1948   & n/a,                                               & KTLA                                               &                                                    & True                                              \\\\\n",
       "\t21503 & 21503                                              & 1949                                               & TECHNICAL AWARD                                    & Charles Mesak/Don Lee TV for Phasefader - In Recog & n/a,                                               &                                                    &                                                    & True                                              \\\\\n",
       "\\end{tabular}\n"
      ],
      "text/markdown": [
       "\n",
       "| <!--/--> | id | startYear | category | primaryTitle | staff | company | producer | win |\n",
       "|---|---|---|---|---|---|---|---|---|\n",
       "| 21498 | 21498                                              | 1949                                               | MOST POPULAR TELEVISION PROGRAM                    | Armchair Detective                                 | n/a,                                               | KTLA                                               |                                                    | False                                              |\n",
       "| 21499 | 21499                                              | 1949                                               | MOST POPULAR TELEVISION PROGRAM                    | Don Lee Music Hall                                 | n/a,                                               | KTSL                                               |                                                    | False                                              |\n",
       "| 21500 | 21500                                              | 1949                                               | MOST POPULAR TELEVISION PROGRAM                    | Felix De Cola Show                                 | n/a,                                               | KTLA                                               |                                                    | False                                              |\n",
       "| 21501 | 21501                                              | 1949                                               | SPECIAL AWARD                                      | Louis McManus For His Original Design of the Emmy  | n/a,                                               |                                                    |                                                    | True                                               |\n",
       "| 21502 | 21502                                              | 1949                                               | STATION AWARD                                      | KTLA for Outstanding overall achievement in 1948   | n/a,                                               | KTLA                                               |                                                    | True                                               |\n",
       "| 21503 | 21503                                              | 1949                                               | TECHNICAL AWARD                                    | Charles Mesak/Don Lee TV for Phasefader - In Recog | n/a,                                               |                                                    |                                                    | True                                               |\n",
       "\n"
      ],
      "text/plain": [
       "      id    startYear category                       \n",
       "21498 21498 1949      MOST POPULAR TELEVISION PROGRAM\n",
       "21499 21499 1949      MOST POPULAR TELEVISION PROGRAM\n",
       "21500 21500 1949      MOST POPULAR TELEVISION PROGRAM\n",
       "21501 21501 1949      SPECIAL AWARD                  \n",
       "21502 21502 1949      STATION AWARD                  \n",
       "21503 21503 1949      TECHNICAL AWARD                \n",
       "      primaryTitle                                       staff company producer\n",
       "21498 Armchair Detective                                 n/a,  KTLA            \n",
       "21499 Don Lee Music Hall                                 n/a,  KTSL            \n",
       "21500 Felix De Cola Show                                 n/a,  KTLA            \n",
       "21501 Louis McManus For His Original Design of the Emmy  n/a,                  \n",
       "21502 KTLA for Outstanding overall achievement in 1948   n/a,  KTLA            \n",
       "21503 Charles Mesak/Don Lee TV for Phasefader - In Recog n/a,                  \n",
       "      win  \n",
       "21498 False\n",
       "21499 False\n",
       "21500 False\n",
       "21501 True \n",
       "21502 True \n",
       "21503 True "
      ]
     },
     "metadata": {},
     "output_type": "display_data"
    }
   ],
   "source": [
    "tail(emmy_awards)"
   ]
  },
  {
   "cell_type": "code",
   "execution_count": 7,
   "metadata": {},
   "outputs": [],
   "source": [
    "emmy_awards$producer=NULL"
   ]
  },
  {
   "cell_type": "code",
   "execution_count": 8,
   "metadata": {},
   "outputs": [],
   "source": [
    "emmy_awards$id=NULL"
   ]
  },
  {
   "cell_type": "code",
   "execution_count": 9,
   "metadata": {},
   "outputs": [],
   "source": [
    "emmy_awards$staff=NULL"
   ]
  },
  {
   "cell_type": "code",
   "execution_count": 10,
   "metadata": {},
   "outputs": [],
   "source": [
    "emmy_awards$company=NULL"
   ]
  },
  {
   "cell_type": "code",
   "execution_count": 11,
   "metadata": {},
   "outputs": [],
   "source": [
    "emmy_awards$staff=NULL"
   ]
  },
  {
   "cell_type": "code",
   "execution_count": 12,
   "metadata": {},
   "outputs": [
    {
     "data": {
      "text/html": [
       "<table>\n",
       "<thead><tr><th scope=col>startYear</th><th scope=col>category</th><th scope=col>primaryTitle</th><th scope=col>win</th></tr></thead>\n",
       "<tbody>\n",
       "\t<tr><td>2019                                                                                 </td><td>Outstanding Character Voice-Over Performance                                         </td><td>The Simpsons                                                                         </td><td>False                                                                                </td></tr>\n",
       "\t<tr><td>2019                                                                                 </td><td>Outstanding Character Voice-Over Performance                                         </td><td>Family Guy                                                                           </td><td>False                                                                                </td></tr>\n",
       "\t<tr><td>2019                                                                                 </td><td>Outstanding Character Voice-Over Performance                                         </td><td>When You Wish Upon A Pickle: A Sesame Street Special                                 </td><td>False                                                                                </td></tr>\n",
       "\t<tr><td>2019                                                                                 </td><td>Outstanding Character Voice-Over Performance                                         </td><td>F Is For Family                                                                      </td><td>False                                                                                </td></tr>\n",
       "\t<tr><td>2019                                                                                 </td><td>Outstanding Production Design For A Narrative Contemporary Program (One Hour Or More)</td><td>Escape At Dannemora                                                                  </td><td>False                                                                                </td></tr>\n",
       "\t<tr><td>2019                                                                                 </td><td>Outstanding Production Design For A Narrative Contemporary Program (One Hour Or More)</td><td>Killing Eve                                                                          </td><td>False                                                                                </td></tr>\n",
       "</tbody>\n",
       "</table>\n"
      ],
      "text/latex": [
       "\\begin{tabular}{r|llll}\n",
       " startYear & category & primaryTitle & win\\\\\n",
       "\\hline\n",
       "\t 2019                                                                                  & Outstanding Character Voice-Over Performance                                          & The Simpsons                                                                          & False                                                                                \\\\\n",
       "\t 2019                                                                                  & Outstanding Character Voice-Over Performance                                          & Family Guy                                                                            & False                                                                                \\\\\n",
       "\t 2019                                                                                  & Outstanding Character Voice-Over Performance                                          & When You Wish Upon A Pickle: A Sesame Street Special                                  & False                                                                                \\\\\n",
       "\t 2019                                                                                  & Outstanding Character Voice-Over Performance                                          & F Is For Family                                                                       & False                                                                                \\\\\n",
       "\t 2019                                                                                  & Outstanding Production Design For A Narrative Contemporary Program (One Hour Or More) & Escape At Dannemora                                                                   & False                                                                                \\\\\n",
       "\t 2019                                                                                  & Outstanding Production Design For A Narrative Contemporary Program (One Hour Or More) & Killing Eve                                                                           & False                                                                                \\\\\n",
       "\\end{tabular}\n"
      ],
      "text/markdown": [
       "\n",
       "| startYear | category | primaryTitle | win |\n",
       "|---|---|---|---|\n",
       "| 2019                                                                                  | Outstanding Character Voice-Over Performance                                          | The Simpsons                                                                          | False                                                                                 |\n",
       "| 2019                                                                                  | Outstanding Character Voice-Over Performance                                          | Family Guy                                                                            | False                                                                                 |\n",
       "| 2019                                                                                  | Outstanding Character Voice-Over Performance                                          | When You Wish Upon A Pickle: A Sesame Street Special                                  | False                                                                                 |\n",
       "| 2019                                                                                  | Outstanding Character Voice-Over Performance                                          | F Is For Family                                                                       | False                                                                                 |\n",
       "| 2019                                                                                  | Outstanding Production Design For A Narrative Contemporary Program (One Hour Or More) | Escape At Dannemora                                                                   | False                                                                                 |\n",
       "| 2019                                                                                  | Outstanding Production Design For A Narrative Contemporary Program (One Hour Or More) | Killing Eve                                                                           | False                                                                                 |\n",
       "\n"
      ],
      "text/plain": [
       "  startYear\n",
       "1 2019     \n",
       "2 2019     \n",
       "3 2019     \n",
       "4 2019     \n",
       "5 2019     \n",
       "6 2019     \n",
       "  category                                                                             \n",
       "1 Outstanding Character Voice-Over Performance                                         \n",
       "2 Outstanding Character Voice-Over Performance                                         \n",
       "3 Outstanding Character Voice-Over Performance                                         \n",
       "4 Outstanding Character Voice-Over Performance                                         \n",
       "5 Outstanding Production Design For A Narrative Contemporary Program (One Hour Or More)\n",
       "6 Outstanding Production Design For A Narrative Contemporary Program (One Hour Or More)\n",
       "  primaryTitle                                         win  \n",
       "1 The Simpsons                                         False\n",
       "2 Family Guy                                           False\n",
       "3 When You Wish Upon A Pickle: A Sesame Street Special False\n",
       "4 F Is For Family                                      False\n",
       "5 Escape At Dannemora                                  False\n",
       "6 Killing Eve                                          False"
      ]
     },
     "metadata": {},
     "output_type": "display_data"
    }
   ],
   "source": [
    "head(emmy_awards)"
   ]
  },
  {
   "cell_type": "code",
   "execution_count": 13,
   "metadata": {},
   "outputs": [
    {
     "data": {
      "text/html": [
       "<ol class=list-inline>\n",
       "\t<li>False</li>\n",
       "\t<li>True</li>\n",
       "</ol>\n",
       "\n",
       "<details>\n",
       "\t<summary style=display:list-item;cursor:pointer>\n",
       "\t\t<strong>Levels</strong>:\n",
       "\t</summary>\n",
       "\t<ol class=list-inline>\n",
       "\t\t<li>'False'</li>\n",
       "\t\t<li>'True'</li>\n",
       "\t</ol>\n",
       "</details>"
      ],
      "text/latex": [
       "\\begin{enumerate*}\n",
       "\\item False\n",
       "\\item True\n",
       "\\end{enumerate*}\n",
       "\n",
       "\\emph{Levels}: \\begin{enumerate*}\n",
       "\\item 'False'\n",
       "\\item 'True'\n",
       "\\end{enumerate*}\n"
      ],
      "text/markdown": [
       "1. False\n",
       "2. True\n",
       "\n",
       "\n",
       "\n",
       "**Levels**: 1. 'False'\n",
       "2. 'True'\n",
       "\n",
       "\n"
      ],
      "text/plain": [
       "[1] False True \n",
       "Levels: False True"
      ]
     },
     "metadata": {},
     "output_type": "display_data"
    }
   ],
   "source": [
    "unique(emmy_awards$win)"
   ]
  },
  {
   "cell_type": "code",
   "execution_count": 14,
   "metadata": {},
   "outputs": [],
   "source": [
    "new_awards = emmy_awards"
   ]
  },
  {
   "cell_type": "code",
   "execution_count": 15,
   "metadata": {},
   "outputs": [
    {
     "data": {
      "text/html": [
       "'factor'"
      ],
      "text/latex": [
       "'factor'"
      ],
      "text/markdown": [
       "'factor'"
      ],
      "text/plain": [
       "[1] \"factor\""
      ]
     },
     "metadata": {},
     "output_type": "display_data"
    }
   ],
   "source": [
    "class(new_awards$win)"
   ]
  },
  {
   "cell_type": "code",
   "execution_count": 16,
   "metadata": {},
   "outputs": [],
   "source": [
    "new_awards$win = as.integer(as.logical(new_awards$win))"
   ]
  },
  {
   "cell_type": "code",
   "execution_count": 17,
   "metadata": {},
   "outputs": [
    {
     "data": {
      "text/html": [
       "<ol class=list-inline>\n",
       "\t<li>0</li>\n",
       "\t<li>1</li>\n",
       "</ol>\n"
      ],
      "text/latex": [
       "\\begin{enumerate*}\n",
       "\\item 0\n",
       "\\item 1\n",
       "\\end{enumerate*}\n"
      ],
      "text/markdown": [
       "1. 0\n",
       "2. 1\n",
       "\n",
       "\n"
      ],
      "text/plain": [
       "[1] 0 1"
      ]
     },
     "metadata": {},
     "output_type": "display_data"
    }
   ],
   "source": [
    "unique(new_awards$win)"
   ]
  },
  {
   "cell_type": "code",
   "execution_count": 18,
   "metadata": {},
   "outputs": [
    {
     "data": {
      "text/html": [
       "<table>\n",
       "<thead><tr><th scope=col>startYear</th><th scope=col>category</th><th scope=col>primaryTitle</th><th scope=col>win</th></tr></thead>\n",
       "<tbody>\n",
       "\t<tr><td>2019                                                                                 </td><td>Outstanding Character Voice-Over Performance                                         </td><td>The Simpsons                                                                         </td><td>0                                                                                    </td></tr>\n",
       "\t<tr><td>2019                                                                                 </td><td>Outstanding Character Voice-Over Performance                                         </td><td>Family Guy                                                                           </td><td>0                                                                                    </td></tr>\n",
       "\t<tr><td>2019                                                                                 </td><td>Outstanding Character Voice-Over Performance                                         </td><td>When You Wish Upon A Pickle: A Sesame Street Special                                 </td><td>0                                                                                    </td></tr>\n",
       "\t<tr><td>2019                                                                                 </td><td>Outstanding Character Voice-Over Performance                                         </td><td>F Is For Family                                                                      </td><td>0                                                                                    </td></tr>\n",
       "\t<tr><td>2019                                                                                 </td><td>Outstanding Production Design For A Narrative Contemporary Program (One Hour Or More)</td><td>Escape At Dannemora                                                                  </td><td>0                                                                                    </td></tr>\n",
       "\t<tr><td>2019                                                                                 </td><td>Outstanding Production Design For A Narrative Contemporary Program (One Hour Or More)</td><td>Killing Eve                                                                          </td><td>0                                                                                    </td></tr>\n",
       "</tbody>\n",
       "</table>\n"
      ],
      "text/latex": [
       "\\begin{tabular}{r|llll}\n",
       " startYear & category & primaryTitle & win\\\\\n",
       "\\hline\n",
       "\t 2019                                                                                  & Outstanding Character Voice-Over Performance                                          & The Simpsons                                                                          & 0                                                                                    \\\\\n",
       "\t 2019                                                                                  & Outstanding Character Voice-Over Performance                                          & Family Guy                                                                            & 0                                                                                    \\\\\n",
       "\t 2019                                                                                  & Outstanding Character Voice-Over Performance                                          & When You Wish Upon A Pickle: A Sesame Street Special                                  & 0                                                                                    \\\\\n",
       "\t 2019                                                                                  & Outstanding Character Voice-Over Performance                                          & F Is For Family                                                                       & 0                                                                                    \\\\\n",
       "\t 2019                                                                                  & Outstanding Production Design For A Narrative Contemporary Program (One Hour Or More) & Escape At Dannemora                                                                   & 0                                                                                    \\\\\n",
       "\t 2019                                                                                  & Outstanding Production Design For A Narrative Contemporary Program (One Hour Or More) & Killing Eve                                                                           & 0                                                                                    \\\\\n",
       "\\end{tabular}\n"
      ],
      "text/markdown": [
       "\n",
       "| startYear | category | primaryTitle | win |\n",
       "|---|---|---|---|\n",
       "| 2019                                                                                  | Outstanding Character Voice-Over Performance                                          | The Simpsons                                                                          | 0                                                                                     |\n",
       "| 2019                                                                                  | Outstanding Character Voice-Over Performance                                          | Family Guy                                                                            | 0                                                                                     |\n",
       "| 2019                                                                                  | Outstanding Character Voice-Over Performance                                          | When You Wish Upon A Pickle: A Sesame Street Special                                  | 0                                                                                     |\n",
       "| 2019                                                                                  | Outstanding Character Voice-Over Performance                                          | F Is For Family                                                                       | 0                                                                                     |\n",
       "| 2019                                                                                  | Outstanding Production Design For A Narrative Contemporary Program (One Hour Or More) | Escape At Dannemora                                                                   | 0                                                                                     |\n",
       "| 2019                                                                                  | Outstanding Production Design For A Narrative Contemporary Program (One Hour Or More) | Killing Eve                                                                           | 0                                                                                     |\n",
       "\n"
      ],
      "text/plain": [
       "  startYear\n",
       "1 2019     \n",
       "2 2019     \n",
       "3 2019     \n",
       "4 2019     \n",
       "5 2019     \n",
       "6 2019     \n",
       "  category                                                                             \n",
       "1 Outstanding Character Voice-Over Performance                                         \n",
       "2 Outstanding Character Voice-Over Performance                                         \n",
       "3 Outstanding Character Voice-Over Performance                                         \n",
       "4 Outstanding Character Voice-Over Performance                                         \n",
       "5 Outstanding Production Design For A Narrative Contemporary Program (One Hour Or More)\n",
       "6 Outstanding Production Design For A Narrative Contemporary Program (One Hour Or More)\n",
       "  primaryTitle                                         win\n",
       "1 The Simpsons                                         0  \n",
       "2 Family Guy                                           0  \n",
       "3 When You Wish Upon A Pickle: A Sesame Street Special 0  \n",
       "4 F Is For Family                                      0  \n",
       "5 Escape At Dannemora                                  0  \n",
       "6 Killing Eve                                          0  "
      ]
     },
     "metadata": {},
     "output_type": "display_data"
    }
   ],
   "source": [
    "head(new_awards)"
   ]
  },
  {
   "cell_type": "code",
   "execution_count": 19,
   "metadata": {},
   "outputs": [],
   "source": [
    "title_basics$endYear=NULL"
   ]
  },
  {
   "cell_type": "markdown",
   "metadata": {},
   "source": [
    "## Testing things"
   ]
  },
  {
   "cell_type": "code",
   "execution_count": 20,
   "metadata": {},
   "outputs": [
    {
     "name": "stdout",
     "output_type": "stream",
     "text": [
      "'data.frame':\t21503 obs. of  4 variables:\n",
      " $ startYear   : int  2019 2019 2019 2019 2019 2019 2019 2019 2019 2019 ...\n",
      " $ category    : Factor w/ 1333 levels \"Achievements In Educational Television\",..: 451 451 451 451 1001 1001 1001 1001 1002 1002 ...\n",
      " $ primaryTitle: Factor w/ 5628 levels \"\\\"A Streetcar Named Desire\\\" From The San Francisco\",..: 4963 1610 5484 1588 1554 2453 3246 5084 1767 4720 ...\n",
      " $ win         : int  0 0 0 0 0 0 0 0 0 0 ...\n"
     ]
    }
   ],
   "source": [
    "str(new_awards)"
   ]
  },
  {
   "cell_type": "code",
   "execution_count": 21,
   "metadata": {},
   "outputs": [
    {
     "data": {
      "text/html": [
       "<dl class=dl-horizontal>\n",
       "\t<dt>0</dt>\n",
       "\t\t<dd>16586</dd>\n",
       "\t<dt>1</dt>\n",
       "\t\t<dd>4917</dd>\n",
       "</dl>\n"
      ],
      "text/latex": [
       "\\begin{description*}\n",
       "\\item[0] 16586\n",
       "\\item[1] 4917\n",
       "\\end{description*}\n"
      ],
      "text/markdown": [
       "0\n",
       ":   165861\n",
       ":   4917\n",
       "\n"
      ],
      "text/plain": [
       "    0     1 \n",
       "16586  4917 "
      ]
     },
     "metadata": {},
     "output_type": "display_data"
    }
   ],
   "source": [
    "summary(as.factor(new_awards$win))"
   ]
  },
  {
   "cell_type": "code",
   "execution_count": 22,
   "metadata": {},
   "outputs": [],
   "source": [
    "merging = merge(title_basics,new_awards,by=c(\"primaryTitle\",\"startYear\"))"
   ]
  },
  {
   "cell_type": "code",
   "execution_count": 23,
   "metadata": {
    "scrolled": true
   },
   "outputs": [
    {
     "data": {
      "text/html": [
       "<table>\n",
       "<thead><tr><th scope=col>primaryTitle</th><th scope=col>startYear</th><th scope=col>tconst</th><th scope=col>titleType</th><th scope=col>originalTitle</th><th scope=col>isAdult</th><th scope=col>runtimeMinutes</th><th scope=col>genres</th><th scope=col>category</th><th scope=col>win</th></tr></thead>\n",
       "<tbody>\n",
       "\t<tr><td>3                                                             </td><td>2005                                                          </td><td>tt0485074                                                     </td><td>short                                                         </td><td>3                                                             </td><td>0                                                             </td><td>22                                                            </td><td>Short                                                         </td><td>Outstanding Sound Editing For A Miniseries, Movie Or A Special</td><td>0                                                             </td></tr>\n",
       "\t<tr><td>5 American Kids - 5 American Handguns                         </td><td>1995                                                          </td><td>tt0112261                                                     </td><td>tvMovie                                                       </td><td>5 American Kids - 5 American Handguns                         </td><td>0                                                             </td><td>60                                                            </td><td>Documentary                                                   </td><td>OUTSTANDING INFORMATIONAL SPECIAL                             </td><td>0                                                             </td></tr>\n",
       "\t<tr><td>6 Rms Riv Vu                                                  </td><td>1974                                                          </td><td>tt0397022                                                     </td><td>tvMovie                                                       </td><td>6 Rms Riv Vu                                                  </td><td>0                                                             </td><td>110                                                           </td><td>Comedy                                                        </td><td>BEST LEAD ACTRESS IN A DRAMA                                  </td><td>0                                                             </td></tr>\n",
       "\t<tr><td>6 Rms Riv Vu                                                  </td><td>1974                                                          </td><td>tt0397022                                                     </td><td>tvMovie                                                       </td><td>6 Rms Riv Vu                                                  </td><td>0                                                             </td><td>110                                                           </td><td>Comedy                                                        </td><td>OUTSTANDING LIMITED SERIES                                    </td><td>0                                                             </td></tr>\n",
       "\t<tr><td>6 Rms Riv Vu                                                  </td><td>1974                                                          </td><td>tt0397022                                                     </td><td>tvMovie                                                       </td><td>6 Rms Riv Vu                                                  </td><td>0                                                             </td><td>110                                                           </td><td>Comedy                                                        </td><td>BEST LEAD ACTOR IN A DRAMA                                    </td><td>0                                                             </td></tr>\n",
       "\t<tr><td>61*                                                           </td><td>2001                                                          </td><td>tt0250934                                                     </td><td>tvMovie                                                       </td><td>61*                                                           </td><td>0                                                             </td><td>129                                                           </td><td>Biography,Drama,History                                       </td><td>Outstanding Lead Actor In A Miniseries Or A Movie             </td><td>0                                                             </td></tr>\n",
       "</tbody>\n",
       "</table>\n"
      ],
      "text/latex": [
       "\\begin{tabular}{r|llllllllll}\n",
       " primaryTitle & startYear & tconst & titleType & originalTitle & isAdult & runtimeMinutes & genres & category & win\\\\\n",
       "\\hline\n",
       "\t 3                                                              & 2005                                                           & tt0485074                                                      & short                                                          & 3                                                              & 0                                                              & 22                                                             & Short                                                          & Outstanding Sound Editing For A Miniseries, Movie Or A Special & 0                                                             \\\\\n",
       "\t 5 American Kids - 5 American Handguns                          & 1995                                                           & tt0112261                                                      & tvMovie                                                        & 5 American Kids - 5 American Handguns                          & 0                                                              & 60                                                             & Documentary                                                    & OUTSTANDING INFORMATIONAL SPECIAL                              & 0                                                             \\\\\n",
       "\t 6 Rms Riv Vu                                                   & 1974                                                           & tt0397022                                                      & tvMovie                                                        & 6 Rms Riv Vu                                                   & 0                                                              & 110                                                            & Comedy                                                         & BEST LEAD ACTRESS IN A DRAMA                                   & 0                                                             \\\\\n",
       "\t 6 Rms Riv Vu                                                   & 1974                                                           & tt0397022                                                      & tvMovie                                                        & 6 Rms Riv Vu                                                   & 0                                                              & 110                                                            & Comedy                                                         & OUTSTANDING LIMITED SERIES                                     & 0                                                             \\\\\n",
       "\t 6 Rms Riv Vu                                                   & 1974                                                           & tt0397022                                                      & tvMovie                                                        & 6 Rms Riv Vu                                                   & 0                                                              & 110                                                            & Comedy                                                         & BEST LEAD ACTOR IN A DRAMA                                     & 0                                                             \\\\\n",
       "\t 61*                                                            & 2001                                                           & tt0250934                                                      & tvMovie                                                        & 61*                                                            & 0                                                              & 129                                                            & Biography,Drama,History                                        & Outstanding Lead Actor In A Miniseries Or A Movie              & 0                                                             \\\\\n",
       "\\end{tabular}\n"
      ],
      "text/markdown": [
       "\n",
       "| primaryTitle | startYear | tconst | titleType | originalTitle | isAdult | runtimeMinutes | genres | category | win |\n",
       "|---|---|---|---|---|---|---|---|---|---|\n",
       "| 3                                                              | 2005                                                           | tt0485074                                                      | short                                                          | 3                                                              | 0                                                              | 22                                                             | Short                                                          | Outstanding Sound Editing For A Miniseries, Movie Or A Special | 0                                                              |\n",
       "| 5 American Kids - 5 American Handguns                          | 1995                                                           | tt0112261                                                      | tvMovie                                                        | 5 American Kids - 5 American Handguns                          | 0                                                              | 60                                                             | Documentary                                                    | OUTSTANDING INFORMATIONAL SPECIAL                              | 0                                                              |\n",
       "| 6 Rms Riv Vu                                                   | 1974                                                           | tt0397022                                                      | tvMovie                                                        | 6 Rms Riv Vu                                                   | 0                                                              | 110                                                            | Comedy                                                         | BEST LEAD ACTRESS IN A DRAMA                                   | 0                                                              |\n",
       "| 6 Rms Riv Vu                                                   | 1974                                                           | tt0397022                                                      | tvMovie                                                        | 6 Rms Riv Vu                                                   | 0                                                              | 110                                                            | Comedy                                                         | OUTSTANDING LIMITED SERIES                                     | 0                                                              |\n",
       "| 6 Rms Riv Vu                                                   | 1974                                                           | tt0397022                                                      | tvMovie                                                        | 6 Rms Riv Vu                                                   | 0                                                              | 110                                                            | Comedy                                                         | BEST LEAD ACTOR IN A DRAMA                                     | 0                                                              |\n",
       "| 61*                                                            | 2001                                                           | tt0250934                                                      | tvMovie                                                        | 61*                                                            | 0                                                              | 129                                                            | Biography,Drama,History                                        | Outstanding Lead Actor In A Miniseries Or A Movie              | 0                                                              |\n",
       "\n"
      ],
      "text/plain": [
       "  primaryTitle                          startYear tconst    titleType\n",
       "1 3                                     2005      tt0485074 short    \n",
       "2 5 American Kids - 5 American Handguns 1995      tt0112261 tvMovie  \n",
       "3 6 Rms Riv Vu                          1974      tt0397022 tvMovie  \n",
       "4 6 Rms Riv Vu                          1974      tt0397022 tvMovie  \n",
       "5 6 Rms Riv Vu                          1974      tt0397022 tvMovie  \n",
       "6 61*                                   2001      tt0250934 tvMovie  \n",
       "  originalTitle                         isAdult runtimeMinutes\n",
       "1 3                                     0       22            \n",
       "2 5 American Kids - 5 American Handguns 0       60            \n",
       "3 6 Rms Riv Vu                          0       110           \n",
       "4 6 Rms Riv Vu                          0       110           \n",
       "5 6 Rms Riv Vu                          0       110           \n",
       "6 61*                                   0       129           \n",
       "  genres                 \n",
       "1 Short                  \n",
       "2 Documentary            \n",
       "3 Comedy                 \n",
       "4 Comedy                 \n",
       "5 Comedy                 \n",
       "6 Biography,Drama,History\n",
       "  category                                                       win\n",
       "1 Outstanding Sound Editing For A Miniseries, Movie Or A Special 0  \n",
       "2 OUTSTANDING INFORMATIONAL SPECIAL                              0  \n",
       "3 BEST LEAD ACTRESS IN A DRAMA                                   0  \n",
       "4 OUTSTANDING LIMITED SERIES                                     0  \n",
       "5 BEST LEAD ACTOR IN A DRAMA                                     0  \n",
       "6 Outstanding Lead Actor In A Miniseries Or A Movie              0  "
      ]
     },
     "metadata": {},
     "output_type": "display_data"
    }
   ],
   "source": [
    "head(merging)"
   ]
  },
  {
   "cell_type": "code",
   "execution_count": 24,
   "metadata": {},
   "outputs": [
    {
     "data": {
      "text/html": [
       "<table>\n",
       "<thead><tr><th></th><th scope=col>primaryTitle</th><th scope=col>startYear</th><th scope=col>tconst</th><th scope=col>titleType</th><th scope=col>originalTitle</th><th scope=col>isAdult</th><th scope=col>runtimeMinutes</th><th scope=col>genres</th><th scope=col>category</th><th scope=col>win</th></tr></thead>\n",
       "<tbody>\n",
       "\t<tr><th scope=row>1906</th><td>You Don't Know Jack                                               </td><td>2010                                                              </td><td>tt1132623                                                         </td><td>tvMovie                                                           </td><td>You Don't Know Jack                                               </td><td>0                                                                 </td><td>134                                                               </td><td>Biography,Drama                                                   </td><td>Outstanding Supporting Actress in a Miniseries or Movie           </td><td>0                                                                 </td></tr>\n",
       "\t<tr><th scope=row>1907</th><td>You Don't Know Jack                                               </td><td>2010                                                              </td><td>tt1132623                                                         </td><td>tvMovie                                                           </td><td>You Don't Know Jack                                               </td><td>0                                                                 </td><td>134                                                               </td><td>Biography,Drama                                                   </td><td>Outstanding Hairstyling For A Miniseries Or A Movie               </td><td>0                                                                 </td></tr>\n",
       "\t<tr><th scope=row>1908</th><td>You Don't Know Jack                                               </td><td>2010                                                              </td><td>tt1132623                                                         </td><td>tvMovie                                                           </td><td>You Don't Know Jack                                               </td><td>0                                                                 </td><td>134                                                               </td><td>Biography,Drama                                                   </td><td>Outstanding Supporting Actress in a Miniseries or Movie           </td><td>0                                                                 </td></tr>\n",
       "\t<tr><th scope=row>1909</th><td>You Don't Know Jack                                               </td><td>2010                                                              </td><td>tt1132623                                                         </td><td>tvMovie                                                           </td><td>You Don't Know Jack                                               </td><td>0                                                                 </td><td>134                                                               </td><td>Biography,Drama                                                   </td><td>Outstanding Costumes For A Miniseries, Movie Or A Special         </td><td>0                                                                 </td></tr>\n",
       "\t<tr><th scope=row>1910</th><td>Young Catherine                                                   </td><td>1991                                                              </td><td>tt0103311                                                         </td><td>tvMovie                                                           </td><td>Young Catherine                                                   </td><td>0                                                                 </td><td>150                                                               </td><td>Biography,Drama,History                                           </td><td>OUTSTANDING ACHIEVEMENT IN COSTUMING FOR A MINISERIES or a special</td><td>0                                                                 </td></tr>\n",
       "\t<tr><th scope=row>1911</th><td>Young Catherine                                                   </td><td>1991                                                              </td><td>tt0103311                                                         </td><td>tvMovie                                                           </td><td>Young Catherine                                                   </td><td>0                                                                 </td><td>150                                                               </td><td>Biography,Drama,History                                           </td><td>OUTSTANDING SUPPORTING ACTRESS IN A MINISERIES OR SPECIAL         </td><td>0                                                                 </td></tr>\n",
       "</tbody>\n",
       "</table>\n"
      ],
      "text/latex": [
       "\\begin{tabular}{r|llllllllll}\n",
       "  & primaryTitle & startYear & tconst & titleType & originalTitle & isAdult & runtimeMinutes & genres & category & win\\\\\n",
       "\\hline\n",
       "\t1906 & You Don't Know Jack                                                & 2010                                                               & tt1132623                                                          & tvMovie                                                            & You Don't Know Jack                                                & 0                                                                  & 134                                                                & Biography,Drama                                                    & Outstanding Supporting Actress in a Miniseries or Movie            & 0                                                                 \\\\\n",
       "\t1907 & You Don't Know Jack                                                & 2010                                                               & tt1132623                                                          & tvMovie                                                            & You Don't Know Jack                                                & 0                                                                  & 134                                                                & Biography,Drama                                                    & Outstanding Hairstyling For A Miniseries Or A Movie                & 0                                                                 \\\\\n",
       "\t1908 & You Don't Know Jack                                                & 2010                                                               & tt1132623                                                          & tvMovie                                                            & You Don't Know Jack                                                & 0                                                                  & 134                                                                & Biography,Drama                                                    & Outstanding Supporting Actress in a Miniseries or Movie            & 0                                                                 \\\\\n",
       "\t1909 & You Don't Know Jack                                                & 2010                                                               & tt1132623                                                          & tvMovie                                                            & You Don't Know Jack                                                & 0                                                                  & 134                                                                & Biography,Drama                                                    & Outstanding Costumes For A Miniseries, Movie Or A Special          & 0                                                                 \\\\\n",
       "\t1910 & Young Catherine                                                    & 1991                                                               & tt0103311                                                          & tvMovie                                                            & Young Catherine                                                    & 0                                                                  & 150                                                                & Biography,Drama,History                                            & OUTSTANDING ACHIEVEMENT IN COSTUMING FOR A MINISERIES or a special & 0                                                                 \\\\\n",
       "\t1911 & Young Catherine                                                    & 1991                                                               & tt0103311                                                          & tvMovie                                                            & Young Catherine                                                    & 0                                                                  & 150                                                                & Biography,Drama,History                                            & OUTSTANDING SUPPORTING ACTRESS IN A MINISERIES OR SPECIAL          & 0                                                                 \\\\\n",
       "\\end{tabular}\n"
      ],
      "text/markdown": [
       "\n",
       "| <!--/--> | primaryTitle | startYear | tconst | titleType | originalTitle | isAdult | runtimeMinutes | genres | category | win |\n",
       "|---|---|---|---|---|---|---|---|---|---|---|\n",
       "| 1906 | You Don't Know Jack                                                | 2010                                                               | tt1132623                                                          | tvMovie                                                            | You Don't Know Jack                                                | 0                                                                  | 134                                                                | Biography,Drama                                                    | Outstanding Supporting Actress in a Miniseries or Movie            | 0                                                                  |\n",
       "| 1907 | You Don't Know Jack                                                | 2010                                                               | tt1132623                                                          | tvMovie                                                            | You Don't Know Jack                                                | 0                                                                  | 134                                                                | Biography,Drama                                                    | Outstanding Hairstyling For A Miniseries Or A Movie                | 0                                                                  |\n",
       "| 1908 | You Don't Know Jack                                                | 2010                                                               | tt1132623                                                          | tvMovie                                                            | You Don't Know Jack                                                | 0                                                                  | 134                                                                | Biography,Drama                                                    | Outstanding Supporting Actress in a Miniseries or Movie            | 0                                                                  |\n",
       "| 1909 | You Don't Know Jack                                                | 2010                                                               | tt1132623                                                          | tvMovie                                                            | You Don't Know Jack                                                | 0                                                                  | 134                                                                | Biography,Drama                                                    | Outstanding Costumes For A Miniseries, Movie Or A Special          | 0                                                                  |\n",
       "| 1910 | Young Catherine                                                    | 1991                                                               | tt0103311                                                          | tvMovie                                                            | Young Catherine                                                    | 0                                                                  | 150                                                                | Biography,Drama,History                                            | OUTSTANDING ACHIEVEMENT IN COSTUMING FOR A MINISERIES or a special | 0                                                                  |\n",
       "| 1911 | Young Catherine                                                    | 1991                                                               | tt0103311                                                          | tvMovie                                                            | Young Catherine                                                    | 0                                                                  | 150                                                                | Biography,Drama,History                                            | OUTSTANDING SUPPORTING ACTRESS IN A MINISERIES OR SPECIAL          | 0                                                                  |\n",
       "\n"
      ],
      "text/plain": [
       "     primaryTitle        startYear tconst    titleType originalTitle      \n",
       "1906 You Don't Know Jack 2010      tt1132623 tvMovie   You Don't Know Jack\n",
       "1907 You Don't Know Jack 2010      tt1132623 tvMovie   You Don't Know Jack\n",
       "1908 You Don't Know Jack 2010      tt1132623 tvMovie   You Don't Know Jack\n",
       "1909 You Don't Know Jack 2010      tt1132623 tvMovie   You Don't Know Jack\n",
       "1910 Young Catherine     1991      tt0103311 tvMovie   Young Catherine    \n",
       "1911 Young Catherine     1991      tt0103311 tvMovie   Young Catherine    \n",
       "     isAdult runtimeMinutes genres                 \n",
       "1906 0       134            Biography,Drama        \n",
       "1907 0       134            Biography,Drama        \n",
       "1908 0       134            Biography,Drama        \n",
       "1909 0       134            Biography,Drama        \n",
       "1910 0       150            Biography,Drama,History\n",
       "1911 0       150            Biography,Drama,History\n",
       "     category                                                           win\n",
       "1906 Outstanding Supporting Actress in a Miniseries or Movie            0  \n",
       "1907 Outstanding Hairstyling For A Miniseries Or A Movie                0  \n",
       "1908 Outstanding Supporting Actress in a Miniseries or Movie            0  \n",
       "1909 Outstanding Costumes For A Miniseries, Movie Or A Special          0  \n",
       "1910 OUTSTANDING ACHIEVEMENT IN COSTUMING FOR A MINISERIES or a special 0  \n",
       "1911 OUTSTANDING SUPPORTING ACTRESS IN A MINISERIES OR SPECIAL          0  "
      ]
     },
     "metadata": {},
     "output_type": "display_data"
    }
   ],
   "source": [
    "tail(merging)"
   ]
  },
  {
   "cell_type": "code",
   "execution_count": 25,
   "metadata": {},
   "outputs": [
    {
     "data": {
      "text/html": [
       "<table>\n",
       "<thead><tr><th></th><th scope=col>tconst</th><th scope=col>titleType</th><th scope=col>primaryTitle</th><th scope=col>originalTitle</th><th scope=col>isAdult</th><th scope=col>startYear</th><th scope=col>runtimeMinutes</th><th scope=col>genres</th></tr></thead>\n",
       "<tbody>\n",
       "\t<tr><th scope=row>1443754</th><td>tt9916724                     </td><td>short                         </td><td>Hay Que Ser Paciente          </td><td>Hay Que Ser Paciente          </td><td>0                             </td><td>2015                          </td><td>3                             </td><td>Documentary,Short             </td></tr>\n",
       "\t<tr><th scope=row>1443755</th><td>tt9916730                     </td><td>movie                         </td><td>6 Gunn                        </td><td>6 Gunn                        </td><td>0                             </td><td>2017                          </td><td>116                           </td><td>\\N                           </td></tr>\n",
       "\t<tr><th scope=row>1443756</th><td>tt9916754                     </td><td>movie                         </td><td>Chico Albuquerque - Revelações</td><td>Chico Albuquerque - Revelações</td><td>0                             </td><td>2013                          </td><td>49                            </td><td>Documentary                   </td></tr>\n",
       "\t<tr><th scope=row>1443757</th><td>tt9916756                     </td><td>short                         </td><td>Pretty Pretty Black Girl      </td><td>Pretty Pretty Black Girl      </td><td>0                             </td><td>2019                          </td><td>\\N                           </td><td>Short                         </td></tr>\n",
       "\t<tr><th scope=row>1443758</th><td>tt9916764                     </td><td>short                         </td><td>38                            </td><td>38                            </td><td>0                             </td><td>2018                          </td><td>\\N                           </td><td>Short                         </td></tr>\n",
       "\t<tr><th scope=row>1443759</th><td>tt9916856                     </td><td>short                         </td><td>The Wind                      </td><td>The Wind                      </td><td>0                             </td><td>2015                          </td><td>27                            </td><td>Short                         </td></tr>\n",
       "</tbody>\n",
       "</table>\n"
      ],
      "text/latex": [
       "\\begin{tabular}{r|llllllll}\n",
       "  & tconst & titleType & primaryTitle & originalTitle & isAdult & startYear & runtimeMinutes & genres\\\\\n",
       "\\hline\n",
       "\t1443754 & tt9916724                      & short                          & Hay Que Ser Paciente           & Hay Que Ser Paciente           & 0                              & 2015                           & 3                              & Documentary,Short             \\\\\n",
       "\t1443755 & tt9916730                        & movie                            & 6 Gunn                           & 6 Gunn                           & 0                                & 2017                             & 116                              & \\textbackslash{}N              \\\\\n",
       "\t1443756 & tt9916754                      & movie                          & Chico Albuquerque - Revelações & Chico Albuquerque - Revelações & 0                              & 2013                           & 49                             & Documentary                   \\\\\n",
       "\t1443757 & tt9916756                      & short                          & Pretty Pretty Black Girl       & Pretty Pretty Black Girl       & 0                              & 2019                           & \\textbackslash{}N             & Short                         \\\\\n",
       "\t1443758 & tt9916764                      & short                          & 38                             & 38                             & 0                              & 2018                           & \\textbackslash{}N             & Short                         \\\\\n",
       "\t1443759 & tt9916856                      & short                          & The Wind                       & The Wind                       & 0                              & 2015                           & 27                             & Short                         \\\\\n",
       "\\end{tabular}\n"
      ],
      "text/markdown": [
       "\n",
       "| <!--/--> | tconst | titleType | primaryTitle | originalTitle | isAdult | startYear | runtimeMinutes | genres |\n",
       "|---|---|---|---|---|---|---|---|---|\n",
       "| 1443754 | tt9916724                      | short                          | Hay Que Ser Paciente           | Hay Que Ser Paciente           | 0                              | 2015                           | 3                              | Documentary,Short              |\n",
       "| 1443755 | tt9916730                      | movie                          | 6 Gunn                         | 6 Gunn                         | 0                              | 2017                           | 116                            | \\N                            |\n",
       "| 1443756 | tt9916754                      | movie                          | Chico Albuquerque - Revelações | Chico Albuquerque - Revelações | 0                              | 2013                           | 49                             | Documentary                    |\n",
       "| 1443757 | tt9916756                      | short                          | Pretty Pretty Black Girl       | Pretty Pretty Black Girl       | 0                              | 2019                           | \\N                            | Short                          |\n",
       "| 1443758 | tt9916764                      | short                          | 38                             | 38                             | 0                              | 2018                           | \\N                            | Short                          |\n",
       "| 1443759 | tt9916856                      | short                          | The Wind                       | The Wind                       | 0                              | 2015                           | 27                             | Short                          |\n",
       "\n"
      ],
      "text/plain": [
       "        tconst    titleType primaryTitle                  \n",
       "1443754 tt9916724 short     Hay Que Ser Paciente          \n",
       "1443755 tt9916730 movie     6 Gunn                        \n",
       "1443756 tt9916754 movie     Chico Albuquerque - Revelações\n",
       "1443757 tt9916756 short     Pretty Pretty Black Girl      \n",
       "1443758 tt9916764 short     38                            \n",
       "1443759 tt9916856 short     The Wind                      \n",
       "        originalTitle                  isAdult startYear runtimeMinutes\n",
       "1443754 Hay Que Ser Paciente           0       2015      3             \n",
       "1443755 6 Gunn                         0       2017      116           \n",
       "1443756 Chico Albuquerque - Revelações 0       2013      49            \n",
       "1443757 Pretty Pretty Black Girl       0       2019      \\\\N           \n",
       "1443758 38                             0       2018      \\\\N           \n",
       "1443759 The Wind                       0       2015      27            \n",
       "        genres           \n",
       "1443754 Documentary,Short\n",
       "1443755 \\\\N              \n",
       "1443756 Documentary      \n",
       "1443757 Short            \n",
       "1443758 Short            \n",
       "1443759 Short            "
      ]
     },
     "metadata": {},
     "output_type": "display_data"
    }
   ],
   "source": [
    "tail(title_basics)"
   ]
  },
  {
   "cell_type": "code",
   "execution_count": 26,
   "metadata": {
    "scrolled": false
   },
   "outputs": [
    {
     "data": {
      "text/plain": [
       "        primaryTitle    startYear           tconst       titleType  \n",
       " Lost         :  89   2018   : 132   tt10913716:  19   movie  :321  \n",
       " The Voice    :  72   2016   : 122   tt0758751 :  17   short  :785  \n",
       " Survivor     :  51   2012   : 108   tt2087883 :  17   tvMovie:805  \n",
       " Homeland     :  50   2019   : 105   tt2091354 :  17                \n",
       " Modern Family:  48   2017   :  99   tt9731004 :  17                \n",
       " Friends      :  42   2013   :  97   tt0423510 :  16                \n",
       " (Other)      :1559   (Other):1248   (Other)   :1808                \n",
       "   originalTitle     isAdult        runtimeMinutes\n",
       " Lost     :  89   Min.   :0.00000   \\\\N    : 250  \n",
       " The Voice:  59   1st Qu.:0.00000   100    :  61  \n",
       " Survivor :  51   Median :0.00000   5      :  58  \n",
       " Friends  :  42   Mean   :0.00157   6      :  56  \n",
       " Broken   :  40   3rd Qu.:0.00000   120    :  50  \n",
       " Mom      :  40   Max.   :1.00000   96     :  48  \n",
       " (Other)  :1590                     (Other):1388  \n",
       "                     genres    \n",
       " Drama,Short            : 260  \n",
       " Drama                  : 255  \n",
       " Short                  : 120  \n",
       " Biography,Drama,History: 106  \n",
       " Biography,Drama        :  83  \n",
       " Comedy,Short           :  69  \n",
       " (Other)                :1018  \n",
       "                                                     category   \n",
       " Outstanding Lead Actress In A Miniseries Or A Movie     :  29  \n",
       " Outstanding Supporting Actress In A Comedy Series       :  28  \n",
       " Outstanding Lead Actor In A Miniseries Or A Movie       :  25  \n",
       " Outstanding Supporting Actor In A Drama Series          :  25  \n",
       " Outstanding Casting For A Miniseries, Movie Or A Special:  23  \n",
       " Outstanding Made For Television Movie                   :  23  \n",
       " (Other)                                                 :1758  \n",
       "      win        \n",
       " Min.   :0.0000  \n",
       " 1st Qu.:0.0000  \n",
       " Median :0.0000  \n",
       " Mean   :0.1889  \n",
       " 3rd Qu.:0.0000  \n",
       " Max.   :1.0000  \n",
       "                 "
      ]
     },
     "metadata": {},
     "output_type": "display_data"
    }
   ],
   "source": [
    "summary(merging)"
   ]
  },
  {
   "cell_type": "code",
   "execution_count": 27,
   "metadata": {},
   "outputs": [
    {
     "data": {
      "text/html": [
       "<dl class=dl-horizontal>\n",
       "\t<dt>0</dt>\n",
       "\t\t<dd>1550</dd>\n",
       "\t<dt>1</dt>\n",
       "\t\t<dd>361</dd>\n",
       "</dl>\n"
      ],
      "text/latex": [
       "\\begin{description*}\n",
       "\\item[0] 1550\n",
       "\\item[1] 361\n",
       "\\end{description*}\n"
      ],
      "text/markdown": [
       "0\n",
       ":   15501\n",
       ":   361\n",
       "\n"
      ],
      "text/plain": [
       "   0    1 \n",
       "1550  361 "
      ]
     },
     "metadata": {},
     "output_type": "display_data"
    }
   ],
   "source": [
    "summary(as.factor(merging$win))"
   ]
  },
  {
   "cell_type": "code",
   "execution_count": 28,
   "metadata": {
    "scrolled": true
   },
   "outputs": [
    {
     "data": {
      "text/html": [
       "<table>\n",
       "<thead><tr><th scope=col>primaryTitle</th><th scope=col>startYear</th><th scope=col>tconst</th><th scope=col>titleType</th><th scope=col>originalTitle</th><th scope=col>isAdult</th><th scope=col>runtimeMinutes</th><th scope=col>genres</th><th scope=col>category</th><th scope=col>win</th></tr></thead>\n",
       "<tbody>\n",
       "\t<tr><td>3                                                                               </td><td>2005                                                                            </td><td>tt0485074                                                                       </td><td>short                                                                           </td><td>3                                                                               </td><td>0                                                                               </td><td>22                                                                              </td><td>Short                                                                           </td><td>Outstanding Sound Editing For A Miniseries, Movie Or A Special                  </td><td>0                                                                               </td></tr>\n",
       "\t<tr><td>5 American Kids - 5 American Handguns                                           </td><td>1995                                                                            </td><td>tt0112261                                                                       </td><td>tvMovie                                                                         </td><td>5 American Kids - 5 American Handguns                                           </td><td>0                                                                               </td><td>60                                                                              </td><td>Documentary                                                                     </td><td>OUTSTANDING INFORMATIONAL SPECIAL                                               </td><td>0                                                                               </td></tr>\n",
       "\t<tr><td>6 Rms Riv Vu                                                                    </td><td>1974                                                                            </td><td>tt0397022                                                                       </td><td>tvMovie                                                                         </td><td>6 Rms Riv Vu                                                                    </td><td>0                                                                               </td><td>110                                                                             </td><td>Comedy                                                                          </td><td>BEST LEAD ACTRESS IN A DRAMA                                                    </td><td>0                                                                               </td></tr>\n",
       "\t<tr><td>6 Rms Riv Vu                                                                    </td><td>1974                                                                            </td><td>tt0397022                                                                       </td><td>tvMovie                                                                         </td><td>6 Rms Riv Vu                                                                    </td><td>0                                                                               </td><td>110                                                                             </td><td>Comedy                                                                          </td><td>OUTSTANDING LIMITED SERIES                                                      </td><td>0                                                                               </td></tr>\n",
       "\t<tr><td>6 Rms Riv Vu                                                                    </td><td>1974                                                                            </td><td>tt0397022                                                                       </td><td>tvMovie                                                                         </td><td>6 Rms Riv Vu                                                                    </td><td>0                                                                               </td><td>110                                                                             </td><td>Comedy                                                                          </td><td>BEST LEAD ACTOR IN A DRAMA                                                      </td><td>0                                                                               </td></tr>\n",
       "\t<tr><td>61*                                                                             </td><td>2001                                                                            </td><td>tt0250934                                                                       </td><td>tvMovie                                                                         </td><td>61*                                                                             </td><td>0                                                                               </td><td>129                                                                             </td><td>Biography,Drama,History                                                         </td><td>Outstanding Lead Actor In A Miniseries Or A Movie                               </td><td>0                                                                               </td></tr>\n",
       "\t<tr><td>61*                                                                             </td><td>2001                                                                            </td><td>tt0250934                                                                       </td><td>tvMovie                                                                         </td><td>61*                                                                             </td><td>0                                                                               </td><td>129                                                                             </td><td>Biography,Drama,History                                                         </td><td>Outstanding Sound Editing For A Miniseries, Movie Or A Special                  </td><td>1                                                                               </td></tr>\n",
       "\t<tr><td>61*                                                                             </td><td>2001                                                                            </td><td>tt0250934                                                                       </td><td>tvMovie                                                                         </td><td>61*                                                                             </td><td>0                                                                               </td><td>129                                                                             </td><td>Biography,Drama,History                                                         </td><td>Outstanding Casting For A Miniseries, Movie Or A Special                        </td><td>1                                                                               </td></tr>\n",
       "\t<tr><td>61*                                                                             </td><td>2001                                                                            </td><td>tt0250934                                                                       </td><td>tvMovie                                                                         </td><td>61*                                                                             </td><td>0                                                                               </td><td>129                                                                             </td><td>Biography,Drama,History                                                         </td><td>OUTSTANDING SINGLE-CAMERA PICTURE EDITING FOR A MINISERIES, MOVIE OR A SPECIAL  </td><td>0                                                                               </td></tr>\n",
       "\t<tr><td>61*                                                                             </td><td>2001                                                                            </td><td>tt0250934                                                                       </td><td>tvMovie                                                                         </td><td>61*                                                                             </td><td>0                                                                               </td><td>129                                                                             </td><td>Biography,Drama,History                                                         </td><td>OUTSTANDING DIRECTING FOR A MINISERIES, MOVIE OR A SPECIAL                      </td><td>0                                                                               </td></tr>\n",
       "\t<tr><td>61*                                                                             </td><td>2001                                                                            </td><td>tt0250934                                                                       </td><td>tvMovie                                                                         </td><td>61*                                                                             </td><td>0                                                                               </td><td>129                                                                             </td><td>Biography,Drama,History                                                         </td><td>Outstanding Single-Camera Sound Mixing For A Miniseries Or A Movie              </td><td>0                                                                               </td></tr>\n",
       "\t<tr><td>61*                                                                             </td><td>2001                                                                            </td><td>tt0250934                                                                       </td><td>tvMovie                                                                         </td><td>61*                                                                             </td><td>0                                                                               </td><td>129                                                                             </td><td>Biography,Drama,History                                                         </td><td>Outstanding Made For Television Movie                                           </td><td>0                                                                               </td></tr>\n",
       "\t<tr><td>61*                                                                             </td><td>2001                                                                            </td><td>tt0250934                                                                       </td><td>tvMovie                                                                         </td><td>61*                                                                             </td><td>0                                                                               </td><td>129                                                                             </td><td>Biography,Drama,History                                                         </td><td>OUTSTANDING MAKEUP FOR A MINISERIES, MOVIE OR A SPECIAL                         </td><td>0                                                                               </td></tr>\n",
       "\t<tr><td>61*                                                                             </td><td>2001                                                                            </td><td>tt0250934                                                                       </td><td>tvMovie                                                                         </td><td>61*                                                                             </td><td>0                                                                               </td><td>129                                                                             </td><td>Biography,Drama,History                                                         </td><td>OUTSTANDING CINEMATOGRAPHY FOR A MINISERIES OR A MOVIE                          </td><td>0                                                                               </td></tr>\n",
       "\t<tr><td>61*                                                                             </td><td>2001                                                                            </td><td>tt0250934                                                                       </td><td>tvMovie                                                                         </td><td>61*                                                                             </td><td>0                                                                               </td><td>129                                                                             </td><td>Biography,Drama,History                                                         </td><td>OUTSTANDING WRITING FOR A MINISERIES OR A MOVIE                                 </td><td>0                                                                               </td></tr>\n",
       "\t<tr><td>61*                                                                             </td><td>2001                                                                            </td><td>tt0250934                                                                       </td><td>tvMovie                                                                         </td><td>61*                                                                             </td><td>0                                                                               </td><td>129                                                                             </td><td>Biography,Drama,History                                                         </td><td>Outstanding Hairstyling For A Miniseries, Movie Or A Special                    </td><td>0                                                                               </td></tr>\n",
       "\t<tr><td>61*                                                                             </td><td>2001                                                                            </td><td>tt0250934                                                                       </td><td>tvMovie                                                                         </td><td>61*                                                                             </td><td>0                                                                               </td><td>129                                                                             </td><td>Biography,Drama,History                                                         </td><td>OUTSTANDING ART DIRECTION FOR A MINISERIES, MOVIE OR A SPECIAL                  </td><td>0                                                                               </td></tr>\n",
       "\t<tr><td>9/11                                                                            </td><td>2002                                                                            </td><td>tt0312318                                                                       </td><td>tvMovie                                                                         </td><td>9/11                                                                            </td><td>0                                                                               </td><td>112                                                                             </td><td>Documentary                                                                     </td><td>Outstanding Cinematography For Non-Fiction Programming (Single Or Multi-Camera) </td><td>0                                                                               </td></tr>\n",
       "\t<tr><td>9/11                                                                            </td><td>2002                                                                            </td><td>tt0312318                                                                       </td><td>tvMovie                                                                         </td><td>9/11                                                                            </td><td>0                                                                               </td><td>112                                                                             </td><td>Documentary                                                                     </td><td>Outstanding Sound Editing For Non-Fiction Programming (Single Or Multi-Camera)  </td><td>0                                                                               </td></tr>\n",
       "\t<tr><td>9/11                                                                            </td><td>2002                                                                            </td><td>tt0312318                                                                       </td><td>tvMovie                                                                         </td><td>9/11                                                                            </td><td>0                                                                               </td><td>112                                                                             </td><td>Documentary                                                                     </td><td>Outstanding Sound Mixing For Non-Fiction Programming (Single Or Multi-Camera)   </td><td>1                                                                               </td></tr>\n",
       "\t<tr><td>9/11                                                                            </td><td>2002                                                                            </td><td>tt0312318                                                                       </td><td>tvMovie                                                                         </td><td>9/11                                                                            </td><td>0                                                                               </td><td>112                                                                             </td><td>Documentary                                                                     </td><td>Outstanding Picture Editing For Non-Fiction Programming (Single Or Multi-Camera)</td><td>0                                                                               </td></tr>\n",
       "\t<tr><td>9/11                                                                            </td><td>2002                                                                            </td><td>tt0312318                                                                       </td><td>tvMovie                                                                         </td><td>9/11                                                                            </td><td>0                                                                               </td><td>112                                                                             </td><td>Documentary                                                                     </td><td>Outstanding Non-Fiction Special (Informational)                                 </td><td>1                                                                               </td></tr>\n",
       "\t<tr><td>A Bayou Legend                                                                  </td><td>1981                                                                            </td><td>tt0343414                                                                       </td><td>tvMovie                                                                         </td><td>A Bayou Legend                                                                  </td><td>0                                                                               </td><td>90                                                                              </td><td>Music                                                                           </td><td>OUTSTANDING ACHIEVEMENT IN LIGHTING DIRECTION                                   </td><td>0                                                                               </td></tr>\n",
       "\t<tr><td>A Bright Shining Lie                                                            </td><td>1998                                                                            </td><td>tt0126220                                                                       </td><td>tvMovie                                                                         </td><td>A Bright Shining Lie                                                            </td><td>0                                                                               </td><td>118                                                                             </td><td>Drama,War                                                                       </td><td>Outstanding Made For Television Movie                                           </td><td>0                                                                               </td></tr>\n",
       "\t<tr><td>A Bunny's Tale                                                                  </td><td>1985                                                                            </td><td>tt0088865                                                                       </td><td>tvMovie                                                                         </td><td>A Bunny's Tale                                                                  </td><td>0                                                                               </td><td>104                                                                             </td><td>Biography,Comedy,Drama                                                          </td><td>OUTSTANDING FILM SOUND EDITING FOR A LIMITED SERIES or a special                </td><td>0                                                                               </td></tr>\n",
       "\t<tr><td>A Case of Libel                                                                 </td><td>1968                                                                            </td><td>tt0204189                                                                       </td><td>tvMovie                                                                         </td><td>A Case of Libel                                                                 </td><td>0                                                                               </td><td>120                                                                             </td><td>Drama                                                                           </td><td>Outstanding Single Performance by an Actor in a Leading Role in a Drama         </td><td>0                                                                               </td></tr>\n",
       "\t<tr><td>A Charlie Brown Celebration                                                     </td><td>1982                                                                            </td><td>tt0173721                                                                       </td><td>tvMovie                                                                         </td><td>A Charlie Brown Celebration                                                     </td><td>0                                                                               </td><td>60                                                                              </td><td>Animation,Comedy,Family                                                         </td><td>Outstanding Animated Program                                                    </td><td>0                                                                               </td></tr>\n",
       "\t<tr><td>A Christmas Carol                                                               </td><td>2000                                                                            </td><td>tt0291816                                                                       </td><td>tvMovie                                                                         </td><td>A Christmas Carol                                                               </td><td>0                                                                               </td><td>75                                                                              </td><td>Drama,Family,Fantasy                                                            </td><td>OUTSTANDING CINEMATOGRAPHY FOR A MINISERIES MOVIE OR A SPECIAL                  </td><td>0                                                                               </td></tr>\n",
       "\t<tr><td>A Circle of Children                                                            </td><td>1977                                                                            </td><td>tt0075853                                                                       </td><td>tvMovie                                                                         </td><td>A Circle of Children                                                            </td><td>0                                                                               </td><td>100                                                                             </td><td>Drama                                                                           </td><td>OUTSTANDING WRITING IN A SPECIAL PROGRAM - DRAMA OR COMEDY - adaptation         </td><td>0                                                                               </td></tr>\n",
       "\t<tr><td>A Death in Canaan                                                               </td><td>1978                                                                            </td><td>tt0077412                                                                       </td><td>tvMovie                                                                         </td><td>A Death in Canaan                                                               </td><td>0                                                                               </td><td>125                                                                             </td><td>Drama                                                                           </td><td>OUTSTANDING LIMITED SERIES                                                      </td><td>0                                                                               </td></tr>\n",
       "\t<tr><td>...</td><td>...</td><td>...</td><td>...</td><td>...</td><td>...</td><td>...</td><td>...</td><td>...</td><td>...</td></tr>\n",
       "\t<tr><td>Wit                                                                                                 </td><td>2001                                                                                                </td><td>tt0243664                                                                                           </td><td>tvMovie                                                                                             </td><td>Wit                                                                                                 </td><td>0                                                                                                   </td><td>99                                                                                                  </td><td>Drama                                                                                               </td><td>Outstanding Casting For A Miniseries, Movie Or A Special                                            </td><td>0                                                                                                   </td></tr>\n",
       "\t<tr><td>Wit                                                                                                 </td><td>2001                                                                                                </td><td>tt0243664                                                                                           </td><td>tvMovie                                                                                             </td><td>Wit                                                                                                 </td><td>0                                                                                                   </td><td>99                                                                                                  </td><td>Drama                                                                                               </td><td>Outstanding Made For Television Movie                                                               </td><td>1                                                                                                   </td></tr>\n",
       "\t<tr><td>Wit                                                                                                 </td><td>2001                                                                                                </td><td>tt0243664                                                                                           </td><td>tvMovie                                                                                             </td><td>Wit                                                                                                 </td><td>0                                                                                                   </td><td>99                                                                                                  </td><td>Drama                                                                                               </td><td>OUTSTANDING WRITING FOR A MINISERIES OR A MOVIE                                                     </td><td>0                                                                                                   </td></tr>\n",
       "\t<tr><td>Wit                                                                                                 </td><td>2001                                                                                                </td><td>tt0243664                                                                                           </td><td>tvMovie                                                                                             </td><td>Wit                                                                                                 </td><td>0                                                                                                   </td><td>99                                                                                                  </td><td>Drama                                                                                               </td><td>Outstanding Supporting Actress In A Miniseries Or A Movie                                           </td><td>0                                                                                                   </td></tr>\n",
       "\t<tr><td>Wit                                                                                                 </td><td>2001                                                                                                </td><td>tt0243664                                                                                           </td><td>tvMovie                                                                                             </td><td>Wit                                                                                                 </td><td>0                                                                                                   </td><td>99                                                                                                  </td><td>Drama                                                                                               </td><td>Outstanding Lead Actress In A Miniseries Or A Movie                                                 </td><td>0                                                                                                   </td></tr>\n",
       "\t<tr><td>With Dad                                                                                            </td><td>2015                                                                                                </td><td>tt4780202                                                                                           </td><td>short                                                                                               </td><td>With Dad                                                                                            </td><td>0                                                                                                   </td><td>8                                                                                                   </td><td>Drama,Family,Short                                                                                  </td><td>Outstanding Commercial                                                                              </td><td>0                                                                                                   </td></tr>\n",
       "\t<tr><td>Word of Honor                                                                                       </td><td>1981                                                                                                </td><td>tt0083340                                                                                           </td><td>tvMovie                                                                                             </td><td>Word of Honor                                                                                       </td><td>0                                                                                                   </td><td>96                                                                                                  </td><td>Drama,Thriller                                                                                      </td><td>OUTSTANDING FILM SOUND MIXING                                                                       </td><td>0                                                                                                   </td></tr>\n",
       "\t<tr><td>World War II: When Lions Roared                                                                     </td><td>1994                                                                                                </td><td>tt0108956                                                                                           </td><td>tvMovie                                                                                             </td><td>World War II: When Lions Roared                                                                     </td><td>0                                                                                                   </td><td>194                                                                                                 </td><td>Drama,History,War                                                                                   </td><td>OUTSTANDING INDIVIDUAL ACHIEVEMENT IN EDITING FOR A miniseries or a special - single-camera producti</td><td>0                                                                                                   </td></tr>\n",
       "\t<tr><td>World War II: When Lions Roared                                                                     </td><td>1994                                                                                                </td><td>tt0108956                                                                                           </td><td>tvMovie                                                                                             </td><td>World War II: When Lions Roared                                                                     </td><td>0                                                                                                   </td><td>194                                                                                                 </td><td>Drama,History,War                                                                                   </td><td>Outstanding Miniseries                                                                              </td><td>0                                                                                                   </td></tr>\n",
       "\t<tr><td>World War II: When Lions Roared                                                                     </td><td>1994                                                                                                </td><td>tt0108956                                                                                           </td><td>tvMovie                                                                                             </td><td>World War II: When Lions Roared                                                                     </td><td>0                                                                                                   </td><td>194                                                                                                 </td><td>Drama,History,War                                                                                   </td><td>OUTSTANDING INDIVIDUAL ACHIEVEMENT IN COSTUME DESIGN FOR A avariety or music program                </td><td>0                                                                                                   </td></tr>\n",
       "\t<tr><td>World War II: When Lions Roared                                                                     </td><td>1994                                                                                                </td><td>tt0108956                                                                                           </td><td>tvMovie                                                                                             </td><td>World War II: When Lions Roared                                                                     </td><td>0                                                                                                   </td><td>194                                                                                                 </td><td>Drama,History,War                                                                                   </td><td>OUTSTANDING LEAD ACTOR IN A MINISERIES OR SPECIAL                                                   </td><td>0                                                                                                   </td></tr>\n",
       "\t<tr><td>World War II: When Lions Roared                                                                     </td><td>1994                                                                                                </td><td>tt0108956                                                                                           </td><td>tvMovie                                                                                             </td><td>World War II: When Lions Roared                                                                     </td><td>0                                                                                                   </td><td>194                                                                                                 </td><td>Drama,History,War                                                                                   </td><td>OUTSTANDING INDIVIDUAL ACHIEVEMENT IN CINEMATOGRAPHY FOR A miniseries or a special                  </td><td>0                                                                                                   </td></tr>\n",
       "\t<tr><td>World War II: When Lions Roared                                                                     </td><td>1994                                                                                                </td><td>tt0108956                                                                                           </td><td>tvMovie                                                                                             </td><td>World War II: When Lions Roared                                                                     </td><td>0                                                                                                   </td><td>194                                                                                                 </td><td>Drama,History,War                                                                                   </td><td>OUTSTANDING INDIVIDUAL ACHIEVEMENT IN LIGHTING DIRECTION (electronic) for a drama series, variety se</td><td>1                                                                                                   </td></tr>\n",
       "\t<tr><td>You Don't Know Jack                                                                                 </td><td>2010                                                                                                </td><td>tt1132623                                                                                           </td><td>tvMovie                                                                                             </td><td>You Don't Know Jack                                                                                 </td><td>0                                                                                                   </td><td>134                                                                                                 </td><td>Biography,Drama                                                                                     </td><td>Outstanding Cinematography For A Miniseries Or Movie                                                </td><td>0                                                                                                   </td></tr>\n",
       "\t<tr><td>You Don't Know Jack                                                                                 </td><td>2010                                                                                                </td><td>tt1132623                                                                                           </td><td>tvMovie                                                                                             </td><td>You Don't Know Jack                                                                                 </td><td>0                                                                                                   </td><td>134                                                                                                 </td><td>Biography,Drama                                                                                     </td><td>Outstanding Lead Actor In A Miniseries Or A Movie                                                   </td><td>1                                                                                                   </td></tr>\n",
       "\t<tr><td>You Don't Know Jack                                                                                 </td><td>2010                                                                                                </td><td>tt1132623                                                                                           </td><td>tvMovie                                                                                             </td><td>You Don't Know Jack                                                                                 </td><td>0                                                                                                   </td><td>134                                                                                                 </td><td>Biography,Drama                                                                                     </td><td>Outstanding Supporting Actor In A Miniseries Or A Movie                                             </td><td>0                                                                                                   </td></tr>\n",
       "\t<tr><td>You Don't Know Jack                                                                                 </td><td>2010                                                                                                </td><td>tt1132623                                                                                           </td><td>tvMovie                                                                                             </td><td>You Don't Know Jack                                                                                 </td><td>0                                                                                                   </td><td>134                                                                                                 </td><td>Biography,Drama                                                                                     </td><td>Outstanding Makeup For A Miniseries Or A Movie (Non-Prosthetic)                                     </td><td>0                                                                                                   </td></tr>\n",
       "\t<tr><td>You Don't Know Jack                                                                                 </td><td>2010                                                                                                </td><td>tt1132623                                                                                           </td><td>tvMovie                                                                                             </td><td>You Don't Know Jack                                                                                 </td><td>0                                                                                                   </td><td>134                                                                                                 </td><td>Biography,Drama                                                                                     </td><td>Outstanding Music Composition For A Miniseries, Movie Or A Special (Original Dramatic Score)        </td><td>0                                                                                                   </td></tr>\n",
       "\t<tr><td>You Don't Know Jack                                                                                 </td><td>2010                                                                                                </td><td>tt1132623                                                                                           </td><td>tvMovie                                                                                             </td><td>You Don't Know Jack                                                                                 </td><td>0                                                                                                   </td><td>134                                                                                                 </td><td>Biography,Drama                                                                                     </td><td>Outstanding Directing For A Miniseries, Movie Or A Dramatic Special                                 </td><td>0                                                                                                   </td></tr>\n",
       "\t<tr><td>You Don't Know Jack                                                                                 </td><td>2010                                                                                                </td><td>tt1132623                                                                                           </td><td>tvMovie                                                                                             </td><td>You Don't Know Jack                                                                                 </td><td>0                                                                                                   </td><td>134                                                                                                 </td><td>Biography,Drama                                                                                     </td><td>Outstanding Casting For A Miniseries, Movie Or A Special                                            </td><td>0                                                                                                   </td></tr>\n",
       "\t<tr><td>You Don't Know Jack                                                                                 </td><td>2010                                                                                                </td><td>tt1132623                                                                                           </td><td>tvMovie                                                                                             </td><td>You Don't Know Jack                                                                                 </td><td>0                                                                                                   </td><td>134                                                                                                 </td><td>Biography,Drama                                                                                     </td><td>Outstanding Single-Camera Picture Editing For A Miniseries Or A Movie                               </td><td>0                                                                                                   </td></tr>\n",
       "\t<tr><td>You Don't Know Jack                                                                                 </td><td>2010                                                                                                </td><td>tt1132623                                                                                           </td><td>tvMovie                                                                                             </td><td>You Don't Know Jack                                                                                 </td><td>0                                                                                                   </td><td>134                                                                                                 </td><td>Biography,Drama                                                                                     </td><td>Outstanding Made For Television Movie                                                               </td><td>0                                                                                                   </td></tr>\n",
       "\t<tr><td>You Don't Know Jack                                                                                 </td><td>2010                                                                                                </td><td>tt1132623                                                                                           </td><td>tvMovie                                                                                             </td><td>You Don't Know Jack                                                                                 </td><td>0                                                                                                   </td><td>134                                                                                                 </td><td>Biography,Drama                                                                                     </td><td>Outstanding Art Direction For A Miniseries Or Movie                                                 </td><td>0                                                                                                   </td></tr>\n",
       "\t<tr><td>You Don't Know Jack                                                                                 </td><td>2010                                                                                                </td><td>tt1132623                                                                                           </td><td>tvMovie                                                                                             </td><td>You Don't Know Jack                                                                                 </td><td>0                                                                                                   </td><td>134                                                                                                 </td><td>Biography,Drama                                                                                     </td><td>Outstanding Writing for a Miniseries, Movie or a Dramatic Special                                   </td><td>1                                                                                                   </td></tr>\n",
       "\t<tr><td>You Don't Know Jack                                                                                 </td><td>2010                                                                                                </td><td>tt1132623                                                                                           </td><td>tvMovie                                                                                             </td><td>You Don't Know Jack                                                                                 </td><td>0                                                                                                   </td><td>134                                                                                                 </td><td>Biography,Drama                                                                                     </td><td>Outstanding Supporting Actress in a Miniseries or Movie                                             </td><td>0                                                                                                   </td></tr>\n",
       "\t<tr><td>You Don't Know Jack                                                                                 </td><td>2010                                                                                                </td><td>tt1132623                                                                                           </td><td>tvMovie                                                                                             </td><td>You Don't Know Jack                                                                                 </td><td>0                                                                                                   </td><td>134                                                                                                 </td><td>Biography,Drama                                                                                     </td><td>Outstanding Hairstyling For A Miniseries Or A Movie                                                 </td><td>0                                                                                                   </td></tr>\n",
       "\t<tr><td>You Don't Know Jack                                                                                 </td><td>2010                                                                                                </td><td>tt1132623                                                                                           </td><td>tvMovie                                                                                             </td><td>You Don't Know Jack                                                                                 </td><td>0                                                                                                   </td><td>134                                                                                                 </td><td>Biography,Drama                                                                                     </td><td>Outstanding Supporting Actress in a Miniseries or Movie                                             </td><td>0                                                                                                   </td></tr>\n",
       "\t<tr><td>You Don't Know Jack                                                                                 </td><td>2010                                                                                                </td><td>tt1132623                                                                                           </td><td>tvMovie                                                                                             </td><td>You Don't Know Jack                                                                                 </td><td>0                                                                                                   </td><td>134                                                                                                 </td><td>Biography,Drama                                                                                     </td><td>Outstanding Costumes For A Miniseries, Movie Or A Special                                           </td><td>0                                                                                                   </td></tr>\n",
       "\t<tr><td>Young Catherine                                                                                     </td><td>1991                                                                                                </td><td>tt0103311                                                                                           </td><td>tvMovie                                                                                             </td><td>Young Catherine                                                                                     </td><td>0                                                                                                   </td><td>150                                                                                                 </td><td>Biography,Drama,History                                                                             </td><td>OUTSTANDING ACHIEVEMENT IN COSTUMING FOR A MINISERIES or a special                                  </td><td>0                                                                                                   </td></tr>\n",
       "\t<tr><td>Young Catherine                                                                                     </td><td>1991                                                                                                </td><td>tt0103311                                                                                           </td><td>tvMovie                                                                                             </td><td>Young Catherine                                                                                     </td><td>0                                                                                                   </td><td>150                                                                                                 </td><td>Biography,Drama,History                                                                             </td><td>OUTSTANDING SUPPORTING ACTRESS IN A MINISERIES OR SPECIAL                                           </td><td>0                                                                                                   </td></tr>\n",
       "</tbody>\n",
       "</table>\n"
      ],
      "text/latex": [
       "\\begin{tabular}{r|llllllllll}\n",
       " primaryTitle & startYear & tconst & titleType & originalTitle & isAdult & runtimeMinutes & genres & category & win\\\\\n",
       "\\hline\n",
       "\t 3                                                                                & 2005                                                                             & tt0485074                                                                        & short                                                                            & 3                                                                                & 0                                                                                & 22                                                                               & Short                                                                            & Outstanding Sound Editing For A Miniseries, Movie Or A Special                   & 0                                                                               \\\\\n",
       "\t 5 American Kids - 5 American Handguns                                            & 1995                                                                             & tt0112261                                                                        & tvMovie                                                                          & 5 American Kids - 5 American Handguns                                            & 0                                                                                & 60                                                                               & Documentary                                                                      & OUTSTANDING INFORMATIONAL SPECIAL                                                & 0                                                                               \\\\\n",
       "\t 6 Rms Riv Vu                                                                     & 1974                                                                             & tt0397022                                                                        & tvMovie                                                                          & 6 Rms Riv Vu                                                                     & 0                                                                                & 110                                                                              & Comedy                                                                           & BEST LEAD ACTRESS IN A DRAMA                                                     & 0                                                                               \\\\\n",
       "\t 6 Rms Riv Vu                                                                     & 1974                                                                             & tt0397022                                                                        & tvMovie                                                                          & 6 Rms Riv Vu                                                                     & 0                                                                                & 110                                                                              & Comedy                                                                           & OUTSTANDING LIMITED SERIES                                                       & 0                                                                               \\\\\n",
       "\t 6 Rms Riv Vu                                                                     & 1974                                                                             & tt0397022                                                                        & tvMovie                                                                          & 6 Rms Riv Vu                                                                     & 0                                                                                & 110                                                                              & Comedy                                                                           & BEST LEAD ACTOR IN A DRAMA                                                       & 0                                                                               \\\\\n",
       "\t 61*                                                                              & 2001                                                                             & tt0250934                                                                        & tvMovie                                                                          & 61*                                                                              & 0                                                                                & 129                                                                              & Biography,Drama,History                                                          & Outstanding Lead Actor In A Miniseries Or A Movie                                & 0                                                                               \\\\\n",
       "\t 61*                                                                              & 2001                                                                             & tt0250934                                                                        & tvMovie                                                                          & 61*                                                                              & 0                                                                                & 129                                                                              & Biography,Drama,History                                                          & Outstanding Sound Editing For A Miniseries, Movie Or A Special                   & 1                                                                               \\\\\n",
       "\t 61*                                                                              & 2001                                                                             & tt0250934                                                                        & tvMovie                                                                          & 61*                                                                              & 0                                                                                & 129                                                                              & Biography,Drama,History                                                          & Outstanding Casting For A Miniseries, Movie Or A Special                         & 1                                                                               \\\\\n",
       "\t 61*                                                                              & 2001                                                                             & tt0250934                                                                        & tvMovie                                                                          & 61*                                                                              & 0                                                                                & 129                                                                              & Biography,Drama,History                                                          & OUTSTANDING SINGLE-CAMERA PICTURE EDITING FOR A MINISERIES, MOVIE OR A SPECIAL   & 0                                                                               \\\\\n",
       "\t 61*                                                                              & 2001                                                                             & tt0250934                                                                        & tvMovie                                                                          & 61*                                                                              & 0                                                                                & 129                                                                              & Biography,Drama,History                                                          & OUTSTANDING DIRECTING FOR A MINISERIES, MOVIE OR A SPECIAL                       & 0                                                                               \\\\\n",
       "\t 61*                                                                              & 2001                                                                             & tt0250934                                                                        & tvMovie                                                                          & 61*                                                                              & 0                                                                                & 129                                                                              & Biography,Drama,History                                                          & Outstanding Single-Camera Sound Mixing For A Miniseries Or A Movie               & 0                                                                               \\\\\n",
       "\t 61*                                                                              & 2001                                                                             & tt0250934                                                                        & tvMovie                                                                          & 61*                                                                              & 0                                                                                & 129                                                                              & Biography,Drama,History                                                          & Outstanding Made For Television Movie                                            & 0                                                                               \\\\\n",
       "\t 61*                                                                              & 2001                                                                             & tt0250934                                                                        & tvMovie                                                                          & 61*                                                                              & 0                                                                                & 129                                                                              & Biography,Drama,History                                                          & OUTSTANDING MAKEUP FOR A MINISERIES, MOVIE OR A SPECIAL                          & 0                                                                               \\\\\n",
       "\t 61*                                                                              & 2001                                                                             & tt0250934                                                                        & tvMovie                                                                          & 61*                                                                              & 0                                                                                & 129                                                                              & Biography,Drama,History                                                          & OUTSTANDING CINEMATOGRAPHY FOR A MINISERIES OR A MOVIE                           & 0                                                                               \\\\\n",
       "\t 61*                                                                              & 2001                                                                             & tt0250934                                                                        & tvMovie                                                                          & 61*                                                                              & 0                                                                                & 129                                                                              & Biography,Drama,History                                                          & OUTSTANDING WRITING FOR A MINISERIES OR A MOVIE                                  & 0                                                                               \\\\\n",
       "\t 61*                                                                              & 2001                                                                             & tt0250934                                                                        & tvMovie                                                                          & 61*                                                                              & 0                                                                                & 129                                                                              & Biography,Drama,History                                                          & Outstanding Hairstyling For A Miniseries, Movie Or A Special                     & 0                                                                               \\\\\n",
       "\t 61*                                                                              & 2001                                                                             & tt0250934                                                                        & tvMovie                                                                          & 61*                                                                              & 0                                                                                & 129                                                                              & Biography,Drama,History                                                          & OUTSTANDING ART DIRECTION FOR A MINISERIES, MOVIE OR A SPECIAL                   & 0                                                                               \\\\\n",
       "\t 9/11                                                                             & 2002                                                                             & tt0312318                                                                        & tvMovie                                                                          & 9/11                                                                             & 0                                                                                & 112                                                                              & Documentary                                                                      & Outstanding Cinematography For Non-Fiction Programming (Single Or Multi-Camera)  & 0                                                                               \\\\\n",
       "\t 9/11                                                                             & 2002                                                                             & tt0312318                                                                        & tvMovie                                                                          & 9/11                                                                             & 0                                                                                & 112                                                                              & Documentary                                                                      & Outstanding Sound Editing For Non-Fiction Programming (Single Or Multi-Camera)   & 0                                                                               \\\\\n",
       "\t 9/11                                                                             & 2002                                                                             & tt0312318                                                                        & tvMovie                                                                          & 9/11                                                                             & 0                                                                                & 112                                                                              & Documentary                                                                      & Outstanding Sound Mixing For Non-Fiction Programming (Single Or Multi-Camera)    & 1                                                                               \\\\\n",
       "\t 9/11                                                                             & 2002                                                                             & tt0312318                                                                        & tvMovie                                                                          & 9/11                                                                             & 0                                                                                & 112                                                                              & Documentary                                                                      & Outstanding Picture Editing For Non-Fiction Programming (Single Or Multi-Camera) & 0                                                                               \\\\\n",
       "\t 9/11                                                                             & 2002                                                                             & tt0312318                                                                        & tvMovie                                                                          & 9/11                                                                             & 0                                                                                & 112                                                                              & Documentary                                                                      & Outstanding Non-Fiction Special (Informational)                                  & 1                                                                               \\\\\n",
       "\t A Bayou Legend                                                                   & 1981                                                                             & tt0343414                                                                        & tvMovie                                                                          & A Bayou Legend                                                                   & 0                                                                                & 90                                                                               & Music                                                                            & OUTSTANDING ACHIEVEMENT IN LIGHTING DIRECTION                                    & 0                                                                               \\\\\n",
       "\t A Bright Shining Lie                                                             & 1998                                                                             & tt0126220                                                                        & tvMovie                                                                          & A Bright Shining Lie                                                             & 0                                                                                & 118                                                                              & Drama,War                                                                        & Outstanding Made For Television Movie                                            & 0                                                                               \\\\\n",
       "\t A Bunny's Tale                                                                   & 1985                                                                             & tt0088865                                                                        & tvMovie                                                                          & A Bunny's Tale                                                                   & 0                                                                                & 104                                                                              & Biography,Comedy,Drama                                                           & OUTSTANDING FILM SOUND EDITING FOR A LIMITED SERIES or a special                 & 0                                                                               \\\\\n",
       "\t A Case of Libel                                                                  & 1968                                                                             & tt0204189                                                                        & tvMovie                                                                          & A Case of Libel                                                                  & 0                                                                                & 120                                                                              & Drama                                                                            & Outstanding Single Performance by an Actor in a Leading Role in a Drama          & 0                                                                               \\\\\n",
       "\t A Charlie Brown Celebration                                                      & 1982                                                                             & tt0173721                                                                        & tvMovie                                                                          & A Charlie Brown Celebration                                                      & 0                                                                                & 60                                                                               & Animation,Comedy,Family                                                          & Outstanding Animated Program                                                     & 0                                                                               \\\\\n",
       "\t A Christmas Carol                                                                & 2000                                                                             & tt0291816                                                                        & tvMovie                                                                          & A Christmas Carol                                                                & 0                                                                                & 75                                                                               & Drama,Family,Fantasy                                                             & OUTSTANDING CINEMATOGRAPHY FOR A MINISERIES MOVIE OR A SPECIAL                   & 0                                                                               \\\\\n",
       "\t A Circle of Children                                                             & 1977                                                                             & tt0075853                                                                        & tvMovie                                                                          & A Circle of Children                                                             & 0                                                                                & 100                                                                              & Drama                                                                            & OUTSTANDING WRITING IN A SPECIAL PROGRAM - DRAMA OR COMEDY - adaptation          & 0                                                                               \\\\\n",
       "\t A Death in Canaan                                                                & 1978                                                                             & tt0077412                                                                        & tvMovie                                                                          & A Death in Canaan                                                                & 0                                                                                & 125                                                                              & Drama                                                                            & OUTSTANDING LIMITED SERIES                                                       & 0                                                                               \\\\\n",
       "\t ... & ... & ... & ... & ... & ... & ... & ... & ... & ...\\\\\n",
       "\t Wit                                                                                                  & 2001                                                                                                 & tt0243664                                                                                            & tvMovie                                                                                              & Wit                                                                                                  & 0                                                                                                    & 99                                                                                                   & Drama                                                                                                & Outstanding Casting For A Miniseries, Movie Or A Special                                             & 0                                                                                                   \\\\\n",
       "\t Wit                                                                                                  & 2001                                                                                                 & tt0243664                                                                                            & tvMovie                                                                                              & Wit                                                                                                  & 0                                                                                                    & 99                                                                                                   & Drama                                                                                                & Outstanding Made For Television Movie                                                                & 1                                                                                                   \\\\\n",
       "\t Wit                                                                                                  & 2001                                                                                                 & tt0243664                                                                                            & tvMovie                                                                                              & Wit                                                                                                  & 0                                                                                                    & 99                                                                                                   & Drama                                                                                                & OUTSTANDING WRITING FOR A MINISERIES OR A MOVIE                                                      & 0                                                                                                   \\\\\n",
       "\t Wit                                                                                                  & 2001                                                                                                 & tt0243664                                                                                            & tvMovie                                                                                              & Wit                                                                                                  & 0                                                                                                    & 99                                                                                                   & Drama                                                                                                & Outstanding Supporting Actress In A Miniseries Or A Movie                                            & 0                                                                                                   \\\\\n",
       "\t Wit                                                                                                  & 2001                                                                                                 & tt0243664                                                                                            & tvMovie                                                                                              & Wit                                                                                                  & 0                                                                                                    & 99                                                                                                   & Drama                                                                                                & Outstanding Lead Actress In A Miniseries Or A Movie                                                  & 0                                                                                                   \\\\\n",
       "\t With Dad                                                                                             & 2015                                                                                                 & tt4780202                                                                                            & short                                                                                                & With Dad                                                                                             & 0                                                                                                    & 8                                                                                                    & Drama,Family,Short                                                                                   & Outstanding Commercial                                                                               & 0                                                                                                   \\\\\n",
       "\t Word of Honor                                                                                        & 1981                                                                                                 & tt0083340                                                                                            & tvMovie                                                                                              & Word of Honor                                                                                        & 0                                                                                                    & 96                                                                                                   & Drama,Thriller                                                                                       & OUTSTANDING FILM SOUND MIXING                                                                        & 0                                                                                                   \\\\\n",
       "\t World War II: When Lions Roared                                                                      & 1994                                                                                                 & tt0108956                                                                                            & tvMovie                                                                                              & World War II: When Lions Roared                                                                      & 0                                                                                                    & 194                                                                                                  & Drama,History,War                                                                                    & OUTSTANDING INDIVIDUAL ACHIEVEMENT IN EDITING FOR A miniseries or a special - single-camera producti & 0                                                                                                   \\\\\n",
       "\t World War II: When Lions Roared                                                                      & 1994                                                                                                 & tt0108956                                                                                            & tvMovie                                                                                              & World War II: When Lions Roared                                                                      & 0                                                                                                    & 194                                                                                                  & Drama,History,War                                                                                    & Outstanding Miniseries                                                                               & 0                                                                                                   \\\\\n",
       "\t World War II: When Lions Roared                                                                      & 1994                                                                                                 & tt0108956                                                                                            & tvMovie                                                                                              & World War II: When Lions Roared                                                                      & 0                                                                                                    & 194                                                                                                  & Drama,History,War                                                                                    & OUTSTANDING INDIVIDUAL ACHIEVEMENT IN COSTUME DESIGN FOR A avariety or music program                 & 0                                                                                                   \\\\\n",
       "\t World War II: When Lions Roared                                                                      & 1994                                                                                                 & tt0108956                                                                                            & tvMovie                                                                                              & World War II: When Lions Roared                                                                      & 0                                                                                                    & 194                                                                                                  & Drama,History,War                                                                                    & OUTSTANDING LEAD ACTOR IN A MINISERIES OR SPECIAL                                                    & 0                                                                                                   \\\\\n",
       "\t World War II: When Lions Roared                                                                      & 1994                                                                                                 & tt0108956                                                                                            & tvMovie                                                                                              & World War II: When Lions Roared                                                                      & 0                                                                                                    & 194                                                                                                  & Drama,History,War                                                                                    & OUTSTANDING INDIVIDUAL ACHIEVEMENT IN CINEMATOGRAPHY FOR A miniseries or a special                   & 0                                                                                                   \\\\\n",
       "\t World War II: When Lions Roared                                                                      & 1994                                                                                                 & tt0108956                                                                                            & tvMovie                                                                                              & World War II: When Lions Roared                                                                      & 0                                                                                                    & 194                                                                                                  & Drama,History,War                                                                                    & OUTSTANDING INDIVIDUAL ACHIEVEMENT IN LIGHTING DIRECTION (electronic) for a drama series, variety se & 1                                                                                                   \\\\\n",
       "\t You Don't Know Jack                                                                                  & 2010                                                                                                 & tt1132623                                                                                            & tvMovie                                                                                              & You Don't Know Jack                                                                                  & 0                                                                                                    & 134                                                                                                  & Biography,Drama                                                                                      & Outstanding Cinematography For A Miniseries Or Movie                                                 & 0                                                                                                   \\\\\n",
       "\t You Don't Know Jack                                                                                  & 2010                                                                                                 & tt1132623                                                                                            & tvMovie                                                                                              & You Don't Know Jack                                                                                  & 0                                                                                                    & 134                                                                                                  & Biography,Drama                                                                                      & Outstanding Lead Actor In A Miniseries Or A Movie                                                    & 1                                                                                                   \\\\\n",
       "\t You Don't Know Jack                                                                                  & 2010                                                                                                 & tt1132623                                                                                            & tvMovie                                                                                              & You Don't Know Jack                                                                                  & 0                                                                                                    & 134                                                                                                  & Biography,Drama                                                                                      & Outstanding Supporting Actor In A Miniseries Or A Movie                                              & 0                                                                                                   \\\\\n",
       "\t You Don't Know Jack                                                                                  & 2010                                                                                                 & tt1132623                                                                                            & tvMovie                                                                                              & You Don't Know Jack                                                                                  & 0                                                                                                    & 134                                                                                                  & Biography,Drama                                                                                      & Outstanding Makeup For A Miniseries Or A Movie (Non-Prosthetic)                                      & 0                                                                                                   \\\\\n",
       "\t You Don't Know Jack                                                                                  & 2010                                                                                                 & tt1132623                                                                                            & tvMovie                                                                                              & You Don't Know Jack                                                                                  & 0                                                                                                    & 134                                                                                                  & Biography,Drama                                                                                      & Outstanding Music Composition For A Miniseries, Movie Or A Special (Original Dramatic Score)         & 0                                                                                                   \\\\\n",
       "\t You Don't Know Jack                                                                                  & 2010                                                                                                 & tt1132623                                                                                            & tvMovie                                                                                              & You Don't Know Jack                                                                                  & 0                                                                                                    & 134                                                                                                  & Biography,Drama                                                                                      & Outstanding Directing For A Miniseries, Movie Or A Dramatic Special                                  & 0                                                                                                   \\\\\n",
       "\t You Don't Know Jack                                                                                  & 2010                                                                                                 & tt1132623                                                                                            & tvMovie                                                                                              & You Don't Know Jack                                                                                  & 0                                                                                                    & 134                                                                                                  & Biography,Drama                                                                                      & Outstanding Casting For A Miniseries, Movie Or A Special                                             & 0                                                                                                   \\\\\n",
       "\t You Don't Know Jack                                                                                  & 2010                                                                                                 & tt1132623                                                                                            & tvMovie                                                                                              & You Don't Know Jack                                                                                  & 0                                                                                                    & 134                                                                                                  & Biography,Drama                                                                                      & Outstanding Single-Camera Picture Editing For A Miniseries Or A Movie                                & 0                                                                                                   \\\\\n",
       "\t You Don't Know Jack                                                                                  & 2010                                                                                                 & tt1132623                                                                                            & tvMovie                                                                                              & You Don't Know Jack                                                                                  & 0                                                                                                    & 134                                                                                                  & Biography,Drama                                                                                      & Outstanding Made For Television Movie                                                                & 0                                                                                                   \\\\\n",
       "\t You Don't Know Jack                                                                                  & 2010                                                                                                 & tt1132623                                                                                            & tvMovie                                                                                              & You Don't Know Jack                                                                                  & 0                                                                                                    & 134                                                                                                  & Biography,Drama                                                                                      & Outstanding Art Direction For A Miniseries Or Movie                                                  & 0                                                                                                   \\\\\n",
       "\t You Don't Know Jack                                                                                  & 2010                                                                                                 & tt1132623                                                                                            & tvMovie                                                                                              & You Don't Know Jack                                                                                  & 0                                                                                                    & 134                                                                                                  & Biography,Drama                                                                                      & Outstanding Writing for a Miniseries, Movie or a Dramatic Special                                    & 1                                                                                                   \\\\\n",
       "\t You Don't Know Jack                                                                                  & 2010                                                                                                 & tt1132623                                                                                            & tvMovie                                                                                              & You Don't Know Jack                                                                                  & 0                                                                                                    & 134                                                                                                  & Biography,Drama                                                                                      & Outstanding Supporting Actress in a Miniseries or Movie                                              & 0                                                                                                   \\\\\n",
       "\t You Don't Know Jack                                                                                  & 2010                                                                                                 & tt1132623                                                                                            & tvMovie                                                                                              & You Don't Know Jack                                                                                  & 0                                                                                                    & 134                                                                                                  & Biography,Drama                                                                                      & Outstanding Hairstyling For A Miniseries Or A Movie                                                  & 0                                                                                                   \\\\\n",
       "\t You Don't Know Jack                                                                                  & 2010                                                                                                 & tt1132623                                                                                            & tvMovie                                                                                              & You Don't Know Jack                                                                                  & 0                                                                                                    & 134                                                                                                  & Biography,Drama                                                                                      & Outstanding Supporting Actress in a Miniseries or Movie                                              & 0                                                                                                   \\\\\n",
       "\t You Don't Know Jack                                                                                  & 2010                                                                                                 & tt1132623                                                                                            & tvMovie                                                                                              & You Don't Know Jack                                                                                  & 0                                                                                                    & 134                                                                                                  & Biography,Drama                                                                                      & Outstanding Costumes For A Miniseries, Movie Or A Special                                            & 0                                                                                                   \\\\\n",
       "\t Young Catherine                                                                                      & 1991                                                                                                 & tt0103311                                                                                            & tvMovie                                                                                              & Young Catherine                                                                                      & 0                                                                                                    & 150                                                                                                  & Biography,Drama,History                                                                              & OUTSTANDING ACHIEVEMENT IN COSTUMING FOR A MINISERIES or a special                                   & 0                                                                                                   \\\\\n",
       "\t Young Catherine                                                                                      & 1991                                                                                                 & tt0103311                                                                                            & tvMovie                                                                                              & Young Catherine                                                                                      & 0                                                                                                    & 150                                                                                                  & Biography,Drama,History                                                                              & OUTSTANDING SUPPORTING ACTRESS IN A MINISERIES OR SPECIAL                                            & 0                                                                                                   \\\\\n",
       "\\end{tabular}\n"
      ],
      "text/markdown": [
       "\n",
       "| primaryTitle | startYear | tconst | titleType | originalTitle | isAdult | runtimeMinutes | genres | category | win |\n",
       "|---|---|---|---|---|---|---|---|---|---|\n",
       "| 3                                                                                | 2005                                                                             | tt0485074                                                                        | short                                                                            | 3                                                                                | 0                                                                                | 22                                                                               | Short                                                                            | Outstanding Sound Editing For A Miniseries, Movie Or A Special                   | 0                                                                                |\n",
       "| 5 American Kids - 5 American Handguns                                            | 1995                                                                             | tt0112261                                                                        | tvMovie                                                                          | 5 American Kids - 5 American Handguns                                            | 0                                                                                | 60                                                                               | Documentary                                                                      | OUTSTANDING INFORMATIONAL SPECIAL                                                | 0                                                                                |\n",
       "| 6 Rms Riv Vu                                                                     | 1974                                                                             | tt0397022                                                                        | tvMovie                                                                          | 6 Rms Riv Vu                                                                     | 0                                                                                | 110                                                                              | Comedy                                                                           | BEST LEAD ACTRESS IN A DRAMA                                                     | 0                                                                                |\n",
       "| 6 Rms Riv Vu                                                                     | 1974                                                                             | tt0397022                                                                        | tvMovie                                                                          | 6 Rms Riv Vu                                                                     | 0                                                                                | 110                                                                              | Comedy                                                                           | OUTSTANDING LIMITED SERIES                                                       | 0                                                                                |\n",
       "| 6 Rms Riv Vu                                                                     | 1974                                                                             | tt0397022                                                                        | tvMovie                                                                          | 6 Rms Riv Vu                                                                     | 0                                                                                | 110                                                                              | Comedy                                                                           | BEST LEAD ACTOR IN A DRAMA                                                       | 0                                                                                |\n",
       "| 61*                                                                              | 2001                                                                             | tt0250934                                                                        | tvMovie                                                                          | 61*                                                                              | 0                                                                                | 129                                                                              | Biography,Drama,History                                                          | Outstanding Lead Actor In A Miniseries Or A Movie                                | 0                                                                                |\n",
       "| 61*                                                                              | 2001                                                                             | tt0250934                                                                        | tvMovie                                                                          | 61*                                                                              | 0                                                                                | 129                                                                              | Biography,Drama,History                                                          | Outstanding Sound Editing For A Miniseries, Movie Or A Special                   | 1                                                                                |\n",
       "| 61*                                                                              | 2001                                                                             | tt0250934                                                                        | tvMovie                                                                          | 61*                                                                              | 0                                                                                | 129                                                                              | Biography,Drama,History                                                          | Outstanding Casting For A Miniseries, Movie Or A Special                         | 1                                                                                |\n",
       "| 61*                                                                              | 2001                                                                             | tt0250934                                                                        | tvMovie                                                                          | 61*                                                                              | 0                                                                                | 129                                                                              | Biography,Drama,History                                                          | OUTSTANDING SINGLE-CAMERA PICTURE EDITING FOR A MINISERIES, MOVIE OR A SPECIAL   | 0                                                                                |\n",
       "| 61*                                                                              | 2001                                                                             | tt0250934                                                                        | tvMovie                                                                          | 61*                                                                              | 0                                                                                | 129                                                                              | Biography,Drama,History                                                          | OUTSTANDING DIRECTING FOR A MINISERIES, MOVIE OR A SPECIAL                       | 0                                                                                |\n",
       "| 61*                                                                              | 2001                                                                             | tt0250934                                                                        | tvMovie                                                                          | 61*                                                                              | 0                                                                                | 129                                                                              | Biography,Drama,History                                                          | Outstanding Single-Camera Sound Mixing For A Miniseries Or A Movie               | 0                                                                                |\n",
       "| 61*                                                                              | 2001                                                                             | tt0250934                                                                        | tvMovie                                                                          | 61*                                                                              | 0                                                                                | 129                                                                              | Biography,Drama,History                                                          | Outstanding Made For Television Movie                                            | 0                                                                                |\n",
       "| 61*                                                                              | 2001                                                                             | tt0250934                                                                        | tvMovie                                                                          | 61*                                                                              | 0                                                                                | 129                                                                              | Biography,Drama,History                                                          | OUTSTANDING MAKEUP FOR A MINISERIES, MOVIE OR A SPECIAL                          | 0                                                                                |\n",
       "| 61*                                                                              | 2001                                                                             | tt0250934                                                                        | tvMovie                                                                          | 61*                                                                              | 0                                                                                | 129                                                                              | Biography,Drama,History                                                          | OUTSTANDING CINEMATOGRAPHY FOR A MINISERIES OR A MOVIE                           | 0                                                                                |\n",
       "| 61*                                                                              | 2001                                                                             | tt0250934                                                                        | tvMovie                                                                          | 61*                                                                              | 0                                                                                | 129                                                                              | Biography,Drama,History                                                          | OUTSTANDING WRITING FOR A MINISERIES OR A MOVIE                                  | 0                                                                                |\n",
       "| 61*                                                                              | 2001                                                                             | tt0250934                                                                        | tvMovie                                                                          | 61*                                                                              | 0                                                                                | 129                                                                              | Biography,Drama,History                                                          | Outstanding Hairstyling For A Miniseries, Movie Or A Special                     | 0                                                                                |\n",
       "| 61*                                                                              | 2001                                                                             | tt0250934                                                                        | tvMovie                                                                          | 61*                                                                              | 0                                                                                | 129                                                                              | Biography,Drama,History                                                          | OUTSTANDING ART DIRECTION FOR A MINISERIES, MOVIE OR A SPECIAL                   | 0                                                                                |\n",
       "| 9/11                                                                             | 2002                                                                             | tt0312318                                                                        | tvMovie                                                                          | 9/11                                                                             | 0                                                                                | 112                                                                              | Documentary                                                                      | Outstanding Cinematography For Non-Fiction Programming (Single Or Multi-Camera)  | 0                                                                                |\n",
       "| 9/11                                                                             | 2002                                                                             | tt0312318                                                                        | tvMovie                                                                          | 9/11                                                                             | 0                                                                                | 112                                                                              | Documentary                                                                      | Outstanding Sound Editing For Non-Fiction Programming (Single Or Multi-Camera)   | 0                                                                                |\n",
       "| 9/11                                                                             | 2002                                                                             | tt0312318                                                                        | tvMovie                                                                          | 9/11                                                                             | 0                                                                                | 112                                                                              | Documentary                                                                      | Outstanding Sound Mixing For Non-Fiction Programming (Single Or Multi-Camera)    | 1                                                                                |\n",
       "| 9/11                                                                             | 2002                                                                             | tt0312318                                                                        | tvMovie                                                                          | 9/11                                                                             | 0                                                                                | 112                                                                              | Documentary                                                                      | Outstanding Picture Editing For Non-Fiction Programming (Single Or Multi-Camera) | 0                                                                                |\n",
       "| 9/11                                                                             | 2002                                                                             | tt0312318                                                                        | tvMovie                                                                          | 9/11                                                                             | 0                                                                                | 112                                                                              | Documentary                                                                      | Outstanding Non-Fiction Special (Informational)                                  | 1                                                                                |\n",
       "| A Bayou Legend                                                                   | 1981                                                                             | tt0343414                                                                        | tvMovie                                                                          | A Bayou Legend                                                                   | 0                                                                                | 90                                                                               | Music                                                                            | OUTSTANDING ACHIEVEMENT IN LIGHTING DIRECTION                                    | 0                                                                                |\n",
       "| A Bright Shining Lie                                                             | 1998                                                                             | tt0126220                                                                        | tvMovie                                                                          | A Bright Shining Lie                                                             | 0                                                                                | 118                                                                              | Drama,War                                                                        | Outstanding Made For Television Movie                                            | 0                                                                                |\n",
       "| A Bunny's Tale                                                                   | 1985                                                                             | tt0088865                                                                        | tvMovie                                                                          | A Bunny's Tale                                                                   | 0                                                                                | 104                                                                              | Biography,Comedy,Drama                                                           | OUTSTANDING FILM SOUND EDITING FOR A LIMITED SERIES or a special                 | 0                                                                                |\n",
       "| A Case of Libel                                                                  | 1968                                                                             | tt0204189                                                                        | tvMovie                                                                          | A Case of Libel                                                                  | 0                                                                                | 120                                                                              | Drama                                                                            | Outstanding Single Performance by an Actor in a Leading Role in a Drama          | 0                                                                                |\n",
       "| A Charlie Brown Celebration                                                      | 1982                                                                             | tt0173721                                                                        | tvMovie                                                                          | A Charlie Brown Celebration                                                      | 0                                                                                | 60                                                                               | Animation,Comedy,Family                                                          | Outstanding Animated Program                                                     | 0                                                                                |\n",
       "| A Christmas Carol                                                                | 2000                                                                             | tt0291816                                                                        | tvMovie                                                                          | A Christmas Carol                                                                | 0                                                                                | 75                                                                               | Drama,Family,Fantasy                                                             | OUTSTANDING CINEMATOGRAPHY FOR A MINISERIES MOVIE OR A SPECIAL                   | 0                                                                                |\n",
       "| A Circle of Children                                                             | 1977                                                                             | tt0075853                                                                        | tvMovie                                                                          | A Circle of Children                                                             | 0                                                                                | 100                                                                              | Drama                                                                            | OUTSTANDING WRITING IN A SPECIAL PROGRAM - DRAMA OR COMEDY - adaptation          | 0                                                                                |\n",
       "| A Death in Canaan                                                                | 1978                                                                             | tt0077412                                                                        | tvMovie                                                                          | A Death in Canaan                                                                | 0                                                                                | 125                                                                              | Drama                                                                            | OUTSTANDING LIMITED SERIES                                                       | 0                                                                                |\n",
       "| ... | ... | ... | ... | ... | ... | ... | ... | ... | ... |\n",
       "| Wit                                                                                                  | 2001                                                                                                 | tt0243664                                                                                            | tvMovie                                                                                              | Wit                                                                                                  | 0                                                                                                    | 99                                                                                                   | Drama                                                                                                | Outstanding Casting For A Miniseries, Movie Or A Special                                             | 0                                                                                                    |\n",
       "| Wit                                                                                                  | 2001                                                                                                 | tt0243664                                                                                            | tvMovie                                                                                              | Wit                                                                                                  | 0                                                                                                    | 99                                                                                                   | Drama                                                                                                | Outstanding Made For Television Movie                                                                | 1                                                                                                    |\n",
       "| Wit                                                                                                  | 2001                                                                                                 | tt0243664                                                                                            | tvMovie                                                                                              | Wit                                                                                                  | 0                                                                                                    | 99                                                                                                   | Drama                                                                                                | OUTSTANDING WRITING FOR A MINISERIES OR A MOVIE                                                      | 0                                                                                                    |\n",
       "| Wit                                                                                                  | 2001                                                                                                 | tt0243664                                                                                            | tvMovie                                                                                              | Wit                                                                                                  | 0                                                                                                    | 99                                                                                                   | Drama                                                                                                | Outstanding Supporting Actress In A Miniseries Or A Movie                                            | 0                                                                                                    |\n",
       "| Wit                                                                                                  | 2001                                                                                                 | tt0243664                                                                                            | tvMovie                                                                                              | Wit                                                                                                  | 0                                                                                                    | 99                                                                                                   | Drama                                                                                                | Outstanding Lead Actress In A Miniseries Or A Movie                                                  | 0                                                                                                    |\n",
       "| With Dad                                                                                             | 2015                                                                                                 | tt4780202                                                                                            | short                                                                                                | With Dad                                                                                             | 0                                                                                                    | 8                                                                                                    | Drama,Family,Short                                                                                   | Outstanding Commercial                                                                               | 0                                                                                                    |\n",
       "| Word of Honor                                                                                        | 1981                                                                                                 | tt0083340                                                                                            | tvMovie                                                                                              | Word of Honor                                                                                        | 0                                                                                                    | 96                                                                                                   | Drama,Thriller                                                                                       | OUTSTANDING FILM SOUND MIXING                                                                        | 0                                                                                                    |\n",
       "| World War II: When Lions Roared                                                                      | 1994                                                                                                 | tt0108956                                                                                            | tvMovie                                                                                              | World War II: When Lions Roared                                                                      | 0                                                                                                    | 194                                                                                                  | Drama,History,War                                                                                    | OUTSTANDING INDIVIDUAL ACHIEVEMENT IN EDITING FOR A miniseries or a special - single-camera producti | 0                                                                                                    |\n",
       "| World War II: When Lions Roared                                                                      | 1994                                                                                                 | tt0108956                                                                                            | tvMovie                                                                                              | World War II: When Lions Roared                                                                      | 0                                                                                                    | 194                                                                                                  | Drama,History,War                                                                                    | Outstanding Miniseries                                                                               | 0                                                                                                    |\n",
       "| World War II: When Lions Roared                                                                      | 1994                                                                                                 | tt0108956                                                                                            | tvMovie                                                                                              | World War II: When Lions Roared                                                                      | 0                                                                                                    | 194                                                                                                  | Drama,History,War                                                                                    | OUTSTANDING INDIVIDUAL ACHIEVEMENT IN COSTUME DESIGN FOR A avariety or music program                 | 0                                                                                                    |\n",
       "| World War II: When Lions Roared                                                                      | 1994                                                                                                 | tt0108956                                                                                            | tvMovie                                                                                              | World War II: When Lions Roared                                                                      | 0                                                                                                    | 194                                                                                                  | Drama,History,War                                                                                    | OUTSTANDING LEAD ACTOR IN A MINISERIES OR SPECIAL                                                    | 0                                                                                                    |\n",
       "| World War II: When Lions Roared                                                                      | 1994                                                                                                 | tt0108956                                                                                            | tvMovie                                                                                              | World War II: When Lions Roared                                                                      | 0                                                                                                    | 194                                                                                                  | Drama,History,War                                                                                    | OUTSTANDING INDIVIDUAL ACHIEVEMENT IN CINEMATOGRAPHY FOR A miniseries or a special                   | 0                                                                                                    |\n",
       "| World War II: When Lions Roared                                                                      | 1994                                                                                                 | tt0108956                                                                                            | tvMovie                                                                                              | World War II: When Lions Roared                                                                      | 0                                                                                                    | 194                                                                                                  | Drama,History,War                                                                                    | OUTSTANDING INDIVIDUAL ACHIEVEMENT IN LIGHTING DIRECTION (electronic) for a drama series, variety se | 1                                                                                                    |\n",
       "| You Don't Know Jack                                                                                  | 2010                                                                                                 | tt1132623                                                                                            | tvMovie                                                                                              | You Don't Know Jack                                                                                  | 0                                                                                                    | 134                                                                                                  | Biography,Drama                                                                                      | Outstanding Cinematography For A Miniseries Or Movie                                                 | 0                                                                                                    |\n",
       "| You Don't Know Jack                                                                                  | 2010                                                                                                 | tt1132623                                                                                            | tvMovie                                                                                              | You Don't Know Jack                                                                                  | 0                                                                                                    | 134                                                                                                  | Biography,Drama                                                                                      | Outstanding Lead Actor In A Miniseries Or A Movie                                                    | 1                                                                                                    |\n",
       "| You Don't Know Jack                                                                                  | 2010                                                                                                 | tt1132623                                                                                            | tvMovie                                                                                              | You Don't Know Jack                                                                                  | 0                                                                                                    | 134                                                                                                  | Biography,Drama                                                                                      | Outstanding Supporting Actor In A Miniseries Or A Movie                                              | 0                                                                                                    |\n",
       "| You Don't Know Jack                                                                                  | 2010                                                                                                 | tt1132623                                                                                            | tvMovie                                                                                              | You Don't Know Jack                                                                                  | 0                                                                                                    | 134                                                                                                  | Biography,Drama                                                                                      | Outstanding Makeup For A Miniseries Or A Movie (Non-Prosthetic)                                      | 0                                                                                                    |\n",
       "| You Don't Know Jack                                                                                  | 2010                                                                                                 | tt1132623                                                                                            | tvMovie                                                                                              | You Don't Know Jack                                                                                  | 0                                                                                                    | 134                                                                                                  | Biography,Drama                                                                                      | Outstanding Music Composition For A Miniseries, Movie Or A Special (Original Dramatic Score)         | 0                                                                                                    |\n",
       "| You Don't Know Jack                                                                                  | 2010                                                                                                 | tt1132623                                                                                            | tvMovie                                                                                              | You Don't Know Jack                                                                                  | 0                                                                                                    | 134                                                                                                  | Biography,Drama                                                                                      | Outstanding Directing For A Miniseries, Movie Or A Dramatic Special                                  | 0                                                                                                    |\n",
       "| You Don't Know Jack                                                                                  | 2010                                                                                                 | tt1132623                                                                                            | tvMovie                                                                                              | You Don't Know Jack                                                                                  | 0                                                                                                    | 134                                                                                                  | Biography,Drama                                                                                      | Outstanding Casting For A Miniseries, Movie Or A Special                                             | 0                                                                                                    |\n",
       "| You Don't Know Jack                                                                                  | 2010                                                                                                 | tt1132623                                                                                            | tvMovie                                                                                              | You Don't Know Jack                                                                                  | 0                                                                                                    | 134                                                                                                  | Biography,Drama                                                                                      | Outstanding Single-Camera Picture Editing For A Miniseries Or A Movie                                | 0                                                                                                    |\n",
       "| You Don't Know Jack                                                                                  | 2010                                                                                                 | tt1132623                                                                                            | tvMovie                                                                                              | You Don't Know Jack                                                                                  | 0                                                                                                    | 134                                                                                                  | Biography,Drama                                                                                      | Outstanding Made For Television Movie                                                                | 0                                                                                                    |\n",
       "| You Don't Know Jack                                                                                  | 2010                                                                                                 | tt1132623                                                                                            | tvMovie                                                                                              | You Don't Know Jack                                                                                  | 0                                                                                                    | 134                                                                                                  | Biography,Drama                                                                                      | Outstanding Art Direction For A Miniseries Or Movie                                                  | 0                                                                                                    |\n",
       "| You Don't Know Jack                                                                                  | 2010                                                                                                 | tt1132623                                                                                            | tvMovie                                                                                              | You Don't Know Jack                                                                                  | 0                                                                                                    | 134                                                                                                  | Biography,Drama                                                                                      | Outstanding Writing for a Miniseries, Movie or a Dramatic Special                                    | 1                                                                                                    |\n",
       "| You Don't Know Jack                                                                                  | 2010                                                                                                 | tt1132623                                                                                            | tvMovie                                                                                              | You Don't Know Jack                                                                                  | 0                                                                                                    | 134                                                                                                  | Biography,Drama                                                                                      | Outstanding Supporting Actress in a Miniseries or Movie                                              | 0                                                                                                    |\n",
       "| You Don't Know Jack                                                                                  | 2010                                                                                                 | tt1132623                                                                                            | tvMovie                                                                                              | You Don't Know Jack                                                                                  | 0                                                                                                    | 134                                                                                                  | Biography,Drama                                                                                      | Outstanding Hairstyling For A Miniseries Or A Movie                                                  | 0                                                                                                    |\n",
       "| You Don't Know Jack                                                                                  | 2010                                                                                                 | tt1132623                                                                                            | tvMovie                                                                                              | You Don't Know Jack                                                                                  | 0                                                                                                    | 134                                                                                                  | Biography,Drama                                                                                      | Outstanding Supporting Actress in a Miniseries or Movie                                              | 0                                                                                                    |\n",
       "| You Don't Know Jack                                                                                  | 2010                                                                                                 | tt1132623                                                                                            | tvMovie                                                                                              | You Don't Know Jack                                                                                  | 0                                                                                                    | 134                                                                                                  | Biography,Drama                                                                                      | Outstanding Costumes For A Miniseries, Movie Or A Special                                            | 0                                                                                                    |\n",
       "| Young Catherine                                                                                      | 1991                                                                                                 | tt0103311                                                                                            | tvMovie                                                                                              | Young Catherine                                                                                      | 0                                                                                                    | 150                                                                                                  | Biography,Drama,History                                                                              | OUTSTANDING ACHIEVEMENT IN COSTUMING FOR A MINISERIES or a special                                   | 0                                                                                                    |\n",
       "| Young Catherine                                                                                      | 1991                                                                                                 | tt0103311                                                                                            | tvMovie                                                                                              | Young Catherine                                                                                      | 0                                                                                                    | 150                                                                                                  | Biography,Drama,History                                                                              | OUTSTANDING SUPPORTING ACTRESS IN A MINISERIES OR SPECIAL                                            | 0                                                                                                    |\n",
       "\n"
      ],
      "text/plain": [
       "     primaryTitle                          startYear tconst    titleType\n",
       "1    3                                     2005      tt0485074 short    \n",
       "2    5 American Kids - 5 American Handguns 1995      tt0112261 tvMovie  \n",
       "3    6 Rms Riv Vu                          1974      tt0397022 tvMovie  \n",
       "4    6 Rms Riv Vu                          1974      tt0397022 tvMovie  \n",
       "5    6 Rms Riv Vu                          1974      tt0397022 tvMovie  \n",
       "6    61*                                   2001      tt0250934 tvMovie  \n",
       "7    61*                                   2001      tt0250934 tvMovie  \n",
       "8    61*                                   2001      tt0250934 tvMovie  \n",
       "9    61*                                   2001      tt0250934 tvMovie  \n",
       "10   61*                                   2001      tt0250934 tvMovie  \n",
       "11   61*                                   2001      tt0250934 tvMovie  \n",
       "12   61*                                   2001      tt0250934 tvMovie  \n",
       "13   61*                                   2001      tt0250934 tvMovie  \n",
       "14   61*                                   2001      tt0250934 tvMovie  \n",
       "15   61*                                   2001      tt0250934 tvMovie  \n",
       "16   61*                                   2001      tt0250934 tvMovie  \n",
       "17   61*                                   2001      tt0250934 tvMovie  \n",
       "18   9/11                                  2002      tt0312318 tvMovie  \n",
       "19   9/11                                  2002      tt0312318 tvMovie  \n",
       "20   9/11                                  2002      tt0312318 tvMovie  \n",
       "21   9/11                                  2002      tt0312318 tvMovie  \n",
       "22   9/11                                  2002      tt0312318 tvMovie  \n",
       "23   A Bayou Legend                        1981      tt0343414 tvMovie  \n",
       "24   A Bright Shining Lie                  1998      tt0126220 tvMovie  \n",
       "25   A Bunny's Tale                        1985      tt0088865 tvMovie  \n",
       "26   A Case of Libel                       1968      tt0204189 tvMovie  \n",
       "27   A Charlie Brown Celebration           1982      tt0173721 tvMovie  \n",
       "28   A Christmas Carol                     2000      tt0291816 tvMovie  \n",
       "29   A Circle of Children                  1977      tt0075853 tvMovie  \n",
       "30   A Death in Canaan                     1978      tt0077412 tvMovie  \n",
       "...  ...                                   ...       ...       ...      \n",
       "1882 Wit                                   2001      tt0243664 tvMovie  \n",
       "1883 Wit                                   2001      tt0243664 tvMovie  \n",
       "1884 Wit                                   2001      tt0243664 tvMovie  \n",
       "1885 Wit                                   2001      tt0243664 tvMovie  \n",
       "1886 Wit                                   2001      tt0243664 tvMovie  \n",
       "1887 With Dad                              2015      tt4780202 short    \n",
       "1888 Word of Honor                         1981      tt0083340 tvMovie  \n",
       "1889 World War II: When Lions Roared       1994      tt0108956 tvMovie  \n",
       "1890 World War II: When Lions Roared       1994      tt0108956 tvMovie  \n",
       "1891 World War II: When Lions Roared       1994      tt0108956 tvMovie  \n",
       "1892 World War II: When Lions Roared       1994      tt0108956 tvMovie  \n",
       "1893 World War II: When Lions Roared       1994      tt0108956 tvMovie  \n",
       "1894 World War II: When Lions Roared       1994      tt0108956 tvMovie  \n",
       "1895 You Don't Know Jack                   2010      tt1132623 tvMovie  \n",
       "1896 You Don't Know Jack                   2010      tt1132623 tvMovie  \n",
       "1897 You Don't Know Jack                   2010      tt1132623 tvMovie  \n",
       "1898 You Don't Know Jack                   2010      tt1132623 tvMovie  \n",
       "1899 You Don't Know Jack                   2010      tt1132623 tvMovie  \n",
       "1900 You Don't Know Jack                   2010      tt1132623 tvMovie  \n",
       "1901 You Don't Know Jack                   2010      tt1132623 tvMovie  \n",
       "1902 You Don't Know Jack                   2010      tt1132623 tvMovie  \n",
       "1903 You Don't Know Jack                   2010      tt1132623 tvMovie  \n",
       "1904 You Don't Know Jack                   2010      tt1132623 tvMovie  \n",
       "1905 You Don't Know Jack                   2010      tt1132623 tvMovie  \n",
       "1906 You Don't Know Jack                   2010      tt1132623 tvMovie  \n",
       "1907 You Don't Know Jack                   2010      tt1132623 tvMovie  \n",
       "1908 You Don't Know Jack                   2010      tt1132623 tvMovie  \n",
       "1909 You Don't Know Jack                   2010      tt1132623 tvMovie  \n",
       "1910 Young Catherine                       1991      tt0103311 tvMovie  \n",
       "1911 Young Catherine                       1991      tt0103311 tvMovie  \n",
       "     originalTitle                         isAdult runtimeMinutes\n",
       "1    3                                     0       22            \n",
       "2    5 American Kids - 5 American Handguns 0       60            \n",
       "3    6 Rms Riv Vu                          0       110           \n",
       "4    6 Rms Riv Vu                          0       110           \n",
       "5    6 Rms Riv Vu                          0       110           \n",
       "6    61*                                   0       129           \n",
       "7    61*                                   0       129           \n",
       "8    61*                                   0       129           \n",
       "9    61*                                   0       129           \n",
       "10   61*                                   0       129           \n",
       "11   61*                                   0       129           \n",
       "12   61*                                   0       129           \n",
       "13   61*                                   0       129           \n",
       "14   61*                                   0       129           \n",
       "15   61*                                   0       129           \n",
       "16   61*                                   0       129           \n",
       "17   61*                                   0       129           \n",
       "18   9/11                                  0       112           \n",
       "19   9/11                                  0       112           \n",
       "20   9/11                                  0       112           \n",
       "21   9/11                                  0       112           \n",
       "22   9/11                                  0       112           \n",
       "23   A Bayou Legend                        0       90            \n",
       "24   A Bright Shining Lie                  0       118           \n",
       "25   A Bunny's Tale                        0       104           \n",
       "26   A Case of Libel                       0       120           \n",
       "27   A Charlie Brown Celebration           0       60            \n",
       "28   A Christmas Carol                     0       75            \n",
       "29   A Circle of Children                  0       100           \n",
       "30   A Death in Canaan                     0       125           \n",
       "...  ...                                   ...     ...           \n",
       "1882 Wit                                   0       99            \n",
       "1883 Wit                                   0       99            \n",
       "1884 Wit                                   0       99            \n",
       "1885 Wit                                   0       99            \n",
       "1886 Wit                                   0       99            \n",
       "1887 With Dad                              0       8             \n",
       "1888 Word of Honor                         0       96            \n",
       "1889 World War II: When Lions Roared       0       194           \n",
       "1890 World War II: When Lions Roared       0       194           \n",
       "1891 World War II: When Lions Roared       0       194           \n",
       "1892 World War II: When Lions Roared       0       194           \n",
       "1893 World War II: When Lions Roared       0       194           \n",
       "1894 World War II: When Lions Roared       0       194           \n",
       "1895 You Don't Know Jack                   0       134           \n",
       "1896 You Don't Know Jack                   0       134           \n",
       "1897 You Don't Know Jack                   0       134           \n",
       "1898 You Don't Know Jack                   0       134           \n",
       "1899 You Don't Know Jack                   0       134           \n",
       "1900 You Don't Know Jack                   0       134           \n",
       "1901 You Don't Know Jack                   0       134           \n",
       "1902 You Don't Know Jack                   0       134           \n",
       "1903 You Don't Know Jack                   0       134           \n",
       "1904 You Don't Know Jack                   0       134           \n",
       "1905 You Don't Know Jack                   0       134           \n",
       "1906 You Don't Know Jack                   0       134           \n",
       "1907 You Don't Know Jack                   0       134           \n",
       "1908 You Don't Know Jack                   0       134           \n",
       "1909 You Don't Know Jack                   0       134           \n",
       "1910 Young Catherine                       0       150           \n",
       "1911 Young Catherine                       0       150           \n",
       "     genres                 \n",
       "1    Short                  \n",
       "2    Documentary            \n",
       "3    Comedy                 \n",
       "4    Comedy                 \n",
       "5    Comedy                 \n",
       "6    Biography,Drama,History\n",
       "7    Biography,Drama,History\n",
       "8    Biography,Drama,History\n",
       "9    Biography,Drama,History\n",
       "10   Biography,Drama,History\n",
       "11   Biography,Drama,History\n",
       "12   Biography,Drama,History\n",
       "13   Biography,Drama,History\n",
       "14   Biography,Drama,History\n",
       "15   Biography,Drama,History\n",
       "16   Biography,Drama,History\n",
       "17   Biography,Drama,History\n",
       "18   Documentary            \n",
       "19   Documentary            \n",
       "20   Documentary            \n",
       "21   Documentary            \n",
       "22   Documentary            \n",
       "23   Music                  \n",
       "24   Drama,War              \n",
       "25   Biography,Comedy,Drama \n",
       "26   Drama                  \n",
       "27   Animation,Comedy,Family\n",
       "28   Drama,Family,Fantasy   \n",
       "29   Drama                  \n",
       "30   Drama                  \n",
       "...  ...                    \n",
       "1882 Drama                  \n",
       "1883 Drama                  \n",
       "1884 Drama                  \n",
       "1885 Drama                  \n",
       "1886 Drama                  \n",
       "1887 Drama,Family,Short     \n",
       "1888 Drama,Thriller         \n",
       "1889 Drama,History,War      \n",
       "1890 Drama,History,War      \n",
       "1891 Drama,History,War      \n",
       "1892 Drama,History,War      \n",
       "1893 Drama,History,War      \n",
       "1894 Drama,History,War      \n",
       "1895 Biography,Drama        \n",
       "1896 Biography,Drama        \n",
       "1897 Biography,Drama        \n",
       "1898 Biography,Drama        \n",
       "1899 Biography,Drama        \n",
       "1900 Biography,Drama        \n",
       "1901 Biography,Drama        \n",
       "1902 Biography,Drama        \n",
       "1903 Biography,Drama        \n",
       "1904 Biography,Drama        \n",
       "1905 Biography,Drama        \n",
       "1906 Biography,Drama        \n",
       "1907 Biography,Drama        \n",
       "1908 Biography,Drama        \n",
       "1909 Biography,Drama        \n",
       "1910 Biography,Drama,History\n",
       "1911 Biography,Drama,History\n",
       "     category                                                                                            \n",
       "1    Outstanding Sound Editing For A Miniseries, Movie Or A Special                                      \n",
       "2    OUTSTANDING INFORMATIONAL SPECIAL                                                                   \n",
       "3    BEST LEAD ACTRESS IN A DRAMA                                                                        \n",
       "4    OUTSTANDING LIMITED SERIES                                                                          \n",
       "5    BEST LEAD ACTOR IN A DRAMA                                                                          \n",
       "6    Outstanding Lead Actor In A Miniseries Or A Movie                                                   \n",
       "7    Outstanding Sound Editing For A Miniseries, Movie Or A Special                                      \n",
       "8    Outstanding Casting For A Miniseries, Movie Or A Special                                            \n",
       "9    OUTSTANDING SINGLE-CAMERA PICTURE EDITING FOR A MINISERIES, MOVIE OR A SPECIAL                      \n",
       "10   OUTSTANDING DIRECTING FOR A MINISERIES, MOVIE OR A SPECIAL                                          \n",
       "11   Outstanding Single-Camera Sound Mixing For A Miniseries Or A Movie                                  \n",
       "12   Outstanding Made For Television Movie                                                               \n",
       "13   OUTSTANDING MAKEUP FOR A MINISERIES, MOVIE OR A SPECIAL                                             \n",
       "14   OUTSTANDING CINEMATOGRAPHY FOR A MINISERIES OR A MOVIE                                              \n",
       "15   OUTSTANDING WRITING FOR A MINISERIES OR A MOVIE                                                     \n",
       "16   Outstanding Hairstyling For A Miniseries, Movie Or A Special                                        \n",
       "17   OUTSTANDING ART DIRECTION FOR A MINISERIES, MOVIE OR A SPECIAL                                      \n",
       "18   Outstanding Cinematography For Non-Fiction Programming (Single Or Multi-Camera)                     \n",
       "19   Outstanding Sound Editing For Non-Fiction Programming (Single Or Multi-Camera)                      \n",
       "20   Outstanding Sound Mixing For Non-Fiction Programming (Single Or Multi-Camera)                       \n",
       "21   Outstanding Picture Editing For Non-Fiction Programming (Single Or Multi-Camera)                    \n",
       "22   Outstanding Non-Fiction Special (Informational)                                                     \n",
       "23   OUTSTANDING ACHIEVEMENT IN LIGHTING DIRECTION                                                       \n",
       "24   Outstanding Made For Television Movie                                                               \n",
       "25   OUTSTANDING FILM SOUND EDITING FOR A LIMITED SERIES or a special                                    \n",
       "26   Outstanding Single Performance by an Actor in a Leading Role in a Drama                             \n",
       "27   Outstanding Animated Program                                                                        \n",
       "28   OUTSTANDING CINEMATOGRAPHY FOR A MINISERIES MOVIE OR A SPECIAL                                      \n",
       "29   OUTSTANDING WRITING IN A SPECIAL PROGRAM - DRAMA OR COMEDY - adaptation                             \n",
       "30   OUTSTANDING LIMITED SERIES                                                                          \n",
       "...  ...                                                                                                 \n",
       "1882 Outstanding Casting For A Miniseries, Movie Or A Special                                            \n",
       "1883 Outstanding Made For Television Movie                                                               \n",
       "1884 OUTSTANDING WRITING FOR A MINISERIES OR A MOVIE                                                     \n",
       "1885 Outstanding Supporting Actress In A Miniseries Or A Movie                                           \n",
       "1886 Outstanding Lead Actress In A Miniseries Or A Movie                                                 \n",
       "1887 Outstanding Commercial                                                                              \n",
       "1888 OUTSTANDING FILM SOUND MIXING                                                                       \n",
       "1889 OUTSTANDING INDIVIDUAL ACHIEVEMENT IN EDITING FOR A miniseries or a special - single-camera producti\n",
       "1890 Outstanding Miniseries                                                                              \n",
       "1891 OUTSTANDING INDIVIDUAL ACHIEVEMENT IN COSTUME DESIGN FOR A avariety or music program                \n",
       "1892 OUTSTANDING LEAD ACTOR IN A MINISERIES OR SPECIAL                                                   \n",
       "1893 OUTSTANDING INDIVIDUAL ACHIEVEMENT IN CINEMATOGRAPHY FOR A miniseries or a special                  \n",
       "1894 OUTSTANDING INDIVIDUAL ACHIEVEMENT IN LIGHTING DIRECTION (electronic) for a drama series, variety se\n",
       "1895 Outstanding Cinematography For A Miniseries Or Movie                                                \n",
       "1896 Outstanding Lead Actor In A Miniseries Or A Movie                                                   \n",
       "1897 Outstanding Supporting Actor In A Miniseries Or A Movie                                             \n",
       "1898 Outstanding Makeup For A Miniseries Or A Movie (Non-Prosthetic)                                     \n",
       "1899 Outstanding Music Composition For A Miniseries, Movie Or A Special (Original Dramatic Score)        \n",
       "1900 Outstanding Directing For A Miniseries, Movie Or A Dramatic Special                                 \n",
       "1901 Outstanding Casting For A Miniseries, Movie Or A Special                                            \n",
       "1902 Outstanding Single-Camera Picture Editing For A Miniseries Or A Movie                               \n",
       "1903 Outstanding Made For Television Movie                                                               \n",
       "1904 Outstanding Art Direction For A Miniseries Or Movie                                                 \n",
       "1905 Outstanding Writing for a Miniseries, Movie or a Dramatic Special                                   \n",
       "1906 Outstanding Supporting Actress in a Miniseries or Movie                                             \n",
       "1907 Outstanding Hairstyling For A Miniseries Or A Movie                                                 \n",
       "1908 Outstanding Supporting Actress in a Miniseries or Movie                                             \n",
       "1909 Outstanding Costumes For A Miniseries, Movie Or A Special                                           \n",
       "1910 OUTSTANDING ACHIEVEMENT IN COSTUMING FOR A MINISERIES or a special                                  \n",
       "1911 OUTSTANDING SUPPORTING ACTRESS IN A MINISERIES OR SPECIAL                                           \n",
       "     win\n",
       "1    0  \n",
       "2    0  \n",
       "3    0  \n",
       "4    0  \n",
       "5    0  \n",
       "6    0  \n",
       "7    1  \n",
       "8    1  \n",
       "9    0  \n",
       "10   0  \n",
       "11   0  \n",
       "12   0  \n",
       "13   0  \n",
       "14   0  \n",
       "15   0  \n",
       "16   0  \n",
       "17   0  \n",
       "18   0  \n",
       "19   0  \n",
       "20   1  \n",
       "21   0  \n",
       "22   1  \n",
       "23   0  \n",
       "24   0  \n",
       "25   0  \n",
       "26   0  \n",
       "27   0  \n",
       "28   0  \n",
       "29   0  \n",
       "30   0  \n",
       "...  ...\n",
       "1882 0  \n",
       "1883 1  \n",
       "1884 0  \n",
       "1885 0  \n",
       "1886 0  \n",
       "1887 0  \n",
       "1888 0  \n",
       "1889 0  \n",
       "1890 0  \n",
       "1891 0  \n",
       "1892 0  \n",
       "1893 0  \n",
       "1894 1  \n",
       "1895 0  \n",
       "1896 1  \n",
       "1897 0  \n",
       "1898 0  \n",
       "1899 0  \n",
       "1900 0  \n",
       "1901 0  \n",
       "1902 0  \n",
       "1903 0  \n",
       "1904 0  \n",
       "1905 1  \n",
       "1906 0  \n",
       "1907 0  \n",
       "1908 0  \n",
       "1909 0  \n",
       "1910 0  \n",
       "1911 0  "
      ]
     },
     "metadata": {},
     "output_type": "display_data"
    }
   ],
   "source": [
    "merging"
   ]
  },
  {
   "cell_type": "code",
   "execution_count": null,
   "metadata": {},
   "outputs": [],
   "source": []
  },
  {
   "cell_type": "code",
   "execution_count": null,
   "metadata": {},
   "outputs": [],
   "source": []
  }
 ],
 "metadata": {
  "kernelspec": {
   "display_name": "R",
   "language": "R",
   "name": "ir"
  },
  "language_info": {
   "codemirror_mode": "r",
   "file_extension": ".r",
   "mimetype": "text/x-r-source",
   "name": "R",
   "pygments_lexer": "r",
   "version": "3.6.1"
  }
 },
 "nbformat": 4,
 "nbformat_minor": 4
}
