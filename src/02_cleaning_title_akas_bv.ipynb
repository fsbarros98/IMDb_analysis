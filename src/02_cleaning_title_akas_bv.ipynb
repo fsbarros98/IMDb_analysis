{
 "cells": [
  {
   "cell_type": "markdown",
   "metadata": {},
   "source": [
    "## Arranging Title Akas"
   ]
  },
  {
   "cell_type": "code",
   "execution_count": 1,
   "metadata": {},
   "outputs": [],
   "source": [
    "#tb=read.delim('cleaned_filtered_title_basics.tsv',header=TRUE)"
   ]
  },
  {
   "cell_type": "code",
   "execution_count": 2,
   "metadata": {},
   "outputs": [],
   "source": [
    "#head(tb)"
   ]
  },
  {
   "cell_type": "code",
   "execution_count": 3,
   "metadata": {},
   "outputs": [],
   "source": [
    "ta=read.delim('../../IMDb_Datasets_Filtered/filtered_title_akas.tsv',header=TRUE)"
   ]
  },
  {
   "cell_type": "code",
   "execution_count": 4,
   "metadata": {},
   "outputs": [],
   "source": [
    "ta$ordering = NULL"
   ]
  },
  {
   "cell_type": "code",
   "execution_count": 5,
   "metadata": {},
   "outputs": [
    {
     "data": {
      "text/html": [
       "0.950926299897648"
      ],
      "text/latex": [
       "0.950926299897648"
      ],
      "text/markdown": [
       "0.950926299897648"
      ],
      "text/plain": [
       "[1] 0.9509263"
      ]
     },
     "metadata": {},
     "output_type": "display_data"
    }
   ],
   "source": [
    "nrow(ta[ta$attributes=='\\\\N',])/nrow(ta) #95.1%"
   ]
  },
  {
   "cell_type": "code",
   "execution_count": 6,
   "metadata": {},
   "outputs": [],
   "source": [
    "ta$attributes = NULL"
   ]
  },
  {
   "cell_type": "code",
   "execution_count": 7,
   "metadata": {},
   "outputs": [
    {
     "data": {
      "text/html": [
       "0.523503155358139"
      ],
      "text/latex": [
       "0.523503155358139"
      ],
      "text/markdown": [
       "0.523503155358139"
      ],
      "text/plain": [
       "[1] 0.5235032"
      ]
     },
     "metadata": {},
     "output_type": "display_data"
    }
   ],
   "source": [
    "nrow(ta[ta$types=='\\\\N',])/nrow(ta) #52.4%"
   ]
  },
  {
   "cell_type": "code",
   "execution_count": 8,
   "metadata": {},
   "outputs": [],
   "source": [
    "ta$types = NULL"
   ]
  },
  {
   "cell_type": "code",
   "execution_count": 9,
   "metadata": {},
   "outputs": [
    {
     "data": {
      "text/html": [
       "0.871417968603361"
      ],
      "text/latex": [
       "0.871417968603361"
      ],
      "text/markdown": [
       "0.871417968603361"
      ],
      "text/plain": [
       "[1] 0.871418"
      ]
     },
     "metadata": {},
     "output_type": "display_data"
    }
   ],
   "source": [
    "nrow(ta[ta$language=='\\\\N',])/nrow(ta) #87.1%"
   ]
  },
  {
   "cell_type": "code",
   "execution_count": 10,
   "metadata": {},
   "outputs": [],
   "source": [
    "ta$language = NULL"
   ]
  },
  {
   "cell_type": "code",
   "execution_count": 11,
   "metadata": {},
   "outputs": [],
   "source": [
    "ta$title = NULL"
   ]
  },
  {
   "cell_type": "code",
   "execution_count": 12,
   "metadata": {},
   "outputs": [],
   "source": [
    "ta_clean=ta #Further changes will take place in the ta_clean dataframe"
   ]
  },
  {
   "cell_type": "code",
   "execution_count": 13,
   "metadata": {},
   "outputs": [
    {
     "data": {
      "text/html": [
       "<table>\n",
       "<caption>A data.frame: 6 × 3</caption>\n",
       "<thead>\n",
       "\t<tr><th></th><th scope=col>titleId</th><th scope=col>region</th><th scope=col>isOriginalTitle</th></tr>\n",
       "\t<tr><th></th><th scope=col>&lt;chr&gt;</th><th scope=col>&lt;chr&gt;</th><th scope=col>&lt;chr&gt;</th></tr>\n",
       "</thead>\n",
       "<tbody>\n",
       "\t<tr><th scope=row>1</th><td>tt0000001</td><td>UA</td><td>0</td></tr>\n",
       "\t<tr><th scope=row>2</th><td>tt0000001</td><td>DE</td><td>0</td></tr>\n",
       "\t<tr><th scope=row>3</th><td>tt0000001</td><td>HU</td><td>0</td></tr>\n",
       "\t<tr><th scope=row>4</th><td>tt0000001</td><td>GR</td><td>0</td></tr>\n",
       "\t<tr><th scope=row>5</th><td>tt0000001</td><td>RU</td><td>0</td></tr>\n",
       "\t<tr><th scope=row>6</th><td>tt0000001</td><td>US</td><td>0</td></tr>\n",
       "</tbody>\n",
       "</table>\n"
      ],
      "text/latex": [
       "A data.frame: 6 × 3\n",
       "\\begin{tabular}{r|lll}\n",
       "  & titleId & region & isOriginalTitle\\\\\n",
       "  & <chr> & <chr> & <chr>\\\\\n",
       "\\hline\n",
       "\t1 & tt0000001 & UA & 0\\\\\n",
       "\t2 & tt0000001 & DE & 0\\\\\n",
       "\t3 & tt0000001 & HU & 0\\\\\n",
       "\t4 & tt0000001 & GR & 0\\\\\n",
       "\t5 & tt0000001 & RU & 0\\\\\n",
       "\t6 & tt0000001 & US & 0\\\\\n",
       "\\end{tabular}\n"
      ],
      "text/markdown": [
       "\n",
       "A data.frame: 6 × 3\n",
       "\n",
       "| <!--/--> | titleId &lt;chr&gt; | region &lt;chr&gt; | isOriginalTitle &lt;chr&gt; |\n",
       "|---|---|---|---|\n",
       "| 1 | tt0000001 | UA | 0 |\n",
       "| 2 | tt0000001 | DE | 0 |\n",
       "| 3 | tt0000001 | HU | 0 |\n",
       "| 4 | tt0000001 | GR | 0 |\n",
       "| 5 | tt0000001 | RU | 0 |\n",
       "| 6 | tt0000001 | US | 0 |\n",
       "\n"
      ],
      "text/plain": [
       "  titleId   region isOriginalTitle\n",
       "1 tt0000001 UA     0              \n",
       "2 tt0000001 DE     0              \n",
       "3 tt0000001 HU     0              \n",
       "4 tt0000001 GR     0              \n",
       "5 tt0000001 RU     0              \n",
       "6 tt0000001 US     0              "
      ]
     },
     "metadata": {},
     "output_type": "display_data"
    }
   ],
   "source": [
    "head(ta_clean)"
   ]
  },
  {
   "cell_type": "code",
   "execution_count": 14,
   "metadata": {},
   "outputs": [
    {
     "data": {
      "text/html": [
       "0.135515994791499"
      ],
      "text/latex": [
       "0.135515994791499"
      ],
      "text/markdown": [
       "0.135515994791499"
      ],
      "text/plain": [
       "[1] 0.135516"
      ]
     },
     "metadata": {},
     "output_type": "display_data"
    }
   ],
   "source": [
    "nrow(ta_clean[ta_clean$region=='\\\\N',])/nrow(ta) #13.6% of missing values regarding the region attribute"
   ]
  },
  {
   "cell_type": "code",
   "execution_count": 15,
   "metadata": {},
   "outputs": [],
   "source": [
    "ta_clean=subset(ta_clean,region!='\\\\N') #Let's remove them"
   ]
  },
  {
   "cell_type": "code",
   "execution_count": 16,
   "metadata": {},
   "outputs": [
    {
     "data": {
      "text/html": [
       "<table>\n",
       "<caption>A data.frame: 0 × 3</caption>\n",
       "<thead>\n",
       "\t<tr><th scope=col>titleId</th><th scope=col>region</th><th scope=col>isOriginalTitle</th></tr>\n",
       "\t<tr><th scope=col>&lt;chr&gt;</th><th scope=col>&lt;chr&gt;</th><th scope=col>&lt;chr&gt;</th></tr>\n",
       "</thead>\n",
       "<tbody>\n",
       "</tbody>\n",
       "</table>\n"
      ],
      "text/latex": [
       "A data.frame: 0 × 3\n",
       "\\begin{tabular}{lll}\n",
       " titleId & region & isOriginalTitle\\\\\n",
       " <chr> & <chr> & <chr>\\\\\n",
       "\\hline\n",
       "\\end{tabular}\n"
      ],
      "text/markdown": [
       "\n",
       "A data.frame: 0 × 3\n",
       "\n",
       "| titleId &lt;chr&gt; | region &lt;chr&gt; | isOriginalTitle &lt;chr&gt; |\n",
       "|---|---|---|\n",
       "\n"
      ],
      "text/plain": [
       "     titleId region isOriginalTitle"
      ]
     },
     "metadata": {},
     "output_type": "display_data"
    }
   ],
   "source": [
    "ta_clean[is.na(ta_clean$titleId),] #They're gone (properly gone!)"
   ]
  },
  {
   "cell_type": "code",
   "execution_count": 17,
   "metadata": {},
   "outputs": [
    {
     "data": {
      "text/html": [
       "1.62822178732619e-05"
      ],
      "text/latex": [
       "1.62822178732619e-05"
      ],
      "text/markdown": [
       "1.62822178732619e-05"
      ],
      "text/plain": [
       "[1] 1.628222e-05"
      ]
     },
     "metadata": {},
     "output_type": "display_data"
    }
   ],
   "source": [
    "nrow(ta_clean[ta_clean$isOriginalTitle=='\\\\N',])/nrow(ta) #0.0016% are missing"
   ]
  },
  {
   "cell_type": "code",
   "execution_count": 18,
   "metadata": {},
   "outputs": [],
   "source": [
    "ta_clean=subset(ta_clean,isOriginalTitle!='\\\\N') #Let's remove them"
   ]
  },
  {
   "cell_type": "code",
   "execution_count": 19,
   "metadata": {},
   "outputs": [
    {
     "data": {
      "text/html": [
       "<table>\n",
       "<caption>A data.frame: 0 × 3</caption>\n",
       "<thead>\n",
       "\t<tr><th scope=col>titleId</th><th scope=col>region</th><th scope=col>isOriginalTitle</th></tr>\n",
       "\t<tr><th scope=col>&lt;chr&gt;</th><th scope=col>&lt;chr&gt;</th><th scope=col>&lt;chr&gt;</th></tr>\n",
       "</thead>\n",
       "<tbody>\n",
       "</tbody>\n",
       "</table>\n"
      ],
      "text/latex": [
       "A data.frame: 0 × 3\n",
       "\\begin{tabular}{lll}\n",
       " titleId & region & isOriginalTitle\\\\\n",
       " <chr> & <chr> & <chr>\\\\\n",
       "\\hline\n",
       "\\end{tabular}\n"
      ],
      "text/markdown": [
       "\n",
       "A data.frame: 0 × 3\n",
       "\n",
       "| titleId &lt;chr&gt; | region &lt;chr&gt; | isOriginalTitle &lt;chr&gt; |\n",
       "|---|---|---|\n",
       "\n"
      ],
      "text/plain": [
       "     titleId region isOriginalTitle"
      ]
     },
     "metadata": {},
     "output_type": "display_data"
    }
   ],
   "source": [
    "ta_clean[is.na(ta_clean$titleId),] #They're gone (properly gone!)"
   ]
  },
  {
   "cell_type": "code",
   "execution_count": 20,
   "metadata": {},
   "outputs": [
    {
     "data": {
      "text/html": [
       "1911339"
      ],
      "text/latex": [
       "1911339"
      ],
      "text/markdown": [
       "1911339"
      ],
      "text/plain": [
       "[1] 1911339"
      ]
     },
     "metadata": {},
     "output_type": "display_data"
    }
   ],
   "source": [
    "nrow(ta_clean)"
   ]
  },
  {
   "cell_type": "code",
   "execution_count": 21,
   "metadata": {},
   "outputs": [],
   "source": [
    "library(readr)\n",
    "write_tsv(ta_clean,'../../cleaned_filtered_title_akas.tsv')"
   ]
  },
  {
   "cell_type": "markdown",
   "metadata": {},
   "source": [
    "#### (SOLVED!) If one tries to remove columns something weird happens... We obtain NA values on the titleId variable... I don't know why it happens"
   ]
  },
  {
   "cell_type": "markdown",
   "metadata": {},
   "source": [
    "## Experiment"
   ]
  },
  {
   "cell_type": "code",
   "execution_count": 22,
   "metadata": {},
   "outputs": [],
   "source": [
    "#titleid=unique(ta$titleId) #All titleId's"
   ]
  },
  {
   "cell_type": "code",
   "execution_count": 23,
   "metadata": {},
   "outputs": [],
   "source": [
    "#length(titleid) #Number of different movies"
   ]
  },
  {
   "cell_type": "code",
   "execution_count": null,
   "metadata": {},
   "outputs": [],
   "source": [
    "#The for cycle never stops\n",
    "a=data.frame(titleid[1:length(titleid)])\n",
    "regions=c()\n",
    "original_tit=c()\n",
    "\n",
    "for (i in 1:length(titleid)){\n",
    "    region=ta_clean[ta_clean$titleId==titleid[i],]$region\n",
    "    orig_tit=ta_clean[ta_clean$titleId==titleid[i],]$isOriginalTitle\n",
    "    regions=append(regions,list(region))\n",
    "    original_tit=append(original_tit,list(orig_tit))\n",
    "}\n",
    "\n",
    "a$regions=regions\n",
    "a$titleOriginal=original_tit"
   ]
  },
  {
   "cell_type": "code",
   "execution_count": null,
   "metadata": {},
   "outputs": [],
   "source": []
  }
 ],
 "metadata": {
  "kernelspec": {
   "display_name": "R",
   "language": "R",
   "name": "ir"
  },
  "language_info": {
   "codemirror_mode": "r",
   "file_extension": ".r",
   "mimetype": "text/x-r-source",
   "name": "R",
   "pygments_lexer": "r",
   "version": "3.6.1"
  }
 },
 "nbformat": 4,
 "nbformat_minor": 4
}
