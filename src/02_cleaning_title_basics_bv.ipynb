{
 "cells": [
  {
   "cell_type": "code",
   "execution_count": 2,
   "metadata": {},
   "outputs": [],
   "source": [
    "library(\"ggplot2\")\n",
    "library(\"dplyr\")\n",
    "library(\"tidyverse\")\n",
    "library(stringr)"
   ]
  },
  {
   "cell_type": "code",
   "execution_count": 3,
   "metadata": {},
   "outputs": [],
   "source": [
    "title_basics=read.delim('../../IMDb_Datasets_Filtered/filtered.title.basics.tsv',header=TRUE)"
   ]
  },
  {
   "cell_type": "code",
   "execution_count": 4,
   "metadata": {},
   "outputs": [
    {
     "data": {
      "text/html": [
       "1443759"
      ],
      "text/latex": [
       "1443759"
      ],
      "text/markdown": [
       "1443759"
      ],
      "text/plain": [
       "[1] 1443759"
      ]
     },
     "metadata": {},
     "output_type": "display_data"
    }
   ],
   "source": [
    "nrow(title_basics)"
   ]
  },
  {
   "cell_type": "code",
   "execution_count": 5,
   "metadata": {},
   "outputs": [
    {
     "data": {
      "text/html": [
       "<table>\n",
       "<caption>A data.frame: 6 × 9</caption>\n",
       "<thead>\n",
       "\t<tr><th></th><th scope=col>tconst</th><th scope=col>titleType</th><th scope=col>primaryTitle</th><th scope=col>originalTitle</th><th scope=col>isAdult</th><th scope=col>startYear</th><th scope=col>endYear</th><th scope=col>runtimeMinutes</th><th scope=col>genres</th></tr>\n",
       "\t<tr><th></th><th scope=col>&lt;chr&gt;</th><th scope=col>&lt;chr&gt;</th><th scope=col>&lt;chr&gt;</th><th scope=col>&lt;chr&gt;</th><th scope=col>&lt;int&gt;</th><th scope=col>&lt;chr&gt;</th><th scope=col>&lt;chr&gt;</th><th scope=col>&lt;chr&gt;</th><th scope=col>&lt;chr&gt;</th></tr>\n",
       "</thead>\n",
       "<tbody>\n",
       "\t<tr><th scope=row>1</th><td>tt0000001</td><td>short</td><td>Carmencita            </td><td>Carmencita            </td><td>0</td><td>1894</td><td>\\N</td><td>1 </td><td>Documentary,Short       </td></tr>\n",
       "\t<tr><th scope=row>2</th><td>tt0000002</td><td>short</td><td>Le clown et ses chiens</td><td>Le clown et ses chiens</td><td>0</td><td>1892</td><td>\\N</td><td>5 </td><td>Animation,Short         </td></tr>\n",
       "\t<tr><th scope=row>3</th><td>tt0000003</td><td>short</td><td>Pauvre Pierrot        </td><td>Pauvre Pierrot        </td><td>0</td><td>1892</td><td>\\N</td><td>4 </td><td>Animation,Comedy,Romance</td></tr>\n",
       "\t<tr><th scope=row>4</th><td>tt0000004</td><td>short</td><td>Un bon bock           </td><td>Un bon bock           </td><td>0</td><td>1892</td><td>\\N</td><td>12</td><td>Animation,Short         </td></tr>\n",
       "\t<tr><th scope=row>5</th><td>tt0000005</td><td>short</td><td>Blacksmith Scene      </td><td>Blacksmith Scene      </td><td>0</td><td>1893</td><td>\\N</td><td>1 </td><td>Comedy,Short            </td></tr>\n",
       "\t<tr><th scope=row>6</th><td>tt0000006</td><td>short</td><td>Chinese Opium Den     </td><td>Chinese Opium Den     </td><td>0</td><td>1894</td><td>\\N</td><td>1 </td><td>Short                   </td></tr>\n",
       "</tbody>\n",
       "</table>\n"
      ],
      "text/latex": [
       "A data.frame: 6 × 9\n",
       "\\begin{tabular}{r|lllllllll}\n",
       "  & tconst & titleType & primaryTitle & originalTitle & isAdult & startYear & endYear & runtimeMinutes & genres\\\\\n",
       "  & <chr> & <chr> & <chr> & <chr> & <int> & <chr> & <chr> & <chr> & <chr>\\\\\n",
       "\\hline\n",
       "\t1 & tt0000001 & short & Carmencita             & Carmencita             & 0 & 1894 & \\textbackslash{}N & 1  & Documentary,Short       \\\\\n",
       "\t2 & tt0000002 & short & Le clown et ses chiens & Le clown et ses chiens & 0 & 1892 & \\textbackslash{}N & 5  & Animation,Short         \\\\\n",
       "\t3 & tt0000003 & short & Pauvre Pierrot         & Pauvre Pierrot         & 0 & 1892 & \\textbackslash{}N & 4  & Animation,Comedy,Romance\\\\\n",
       "\t4 & tt0000004 & short & Un bon bock            & Un bon bock            & 0 & 1892 & \\textbackslash{}N & 12 & Animation,Short         \\\\\n",
       "\t5 & tt0000005 & short & Blacksmith Scene       & Blacksmith Scene       & 0 & 1893 & \\textbackslash{}N & 1  & Comedy,Short            \\\\\n",
       "\t6 & tt0000006 & short & Chinese Opium Den      & Chinese Opium Den      & 0 & 1894 & \\textbackslash{}N & 1  & Short                   \\\\\n",
       "\\end{tabular}\n"
      ],
      "text/markdown": [
       "\n",
       "A data.frame: 6 × 9\n",
       "\n",
       "| <!--/--> | tconst &lt;chr&gt; | titleType &lt;chr&gt; | primaryTitle &lt;chr&gt; | originalTitle &lt;chr&gt; | isAdult &lt;int&gt; | startYear &lt;chr&gt; | endYear &lt;chr&gt; | runtimeMinutes &lt;chr&gt; | genres &lt;chr&gt; |\n",
       "|---|---|---|---|---|---|---|---|---|---|\n",
       "| 1 | tt0000001 | short | Carmencita             | Carmencita             | 0 | 1894 | \\N | 1  | Documentary,Short        |\n",
       "| 2 | tt0000002 | short | Le clown et ses chiens | Le clown et ses chiens | 0 | 1892 | \\N | 5  | Animation,Short          |\n",
       "| 3 | tt0000003 | short | Pauvre Pierrot         | Pauvre Pierrot         | 0 | 1892 | \\N | 4  | Animation,Comedy,Romance |\n",
       "| 4 | tt0000004 | short | Un bon bock            | Un bon bock            | 0 | 1892 | \\N | 12 | Animation,Short          |\n",
       "| 5 | tt0000005 | short | Blacksmith Scene       | Blacksmith Scene       | 0 | 1893 | \\N | 1  | Comedy,Short             |\n",
       "| 6 | tt0000006 | short | Chinese Opium Den      | Chinese Opium Den      | 0 | 1894 | \\N | 1  | Short                    |\n",
       "\n"
      ],
      "text/plain": [
       "  tconst    titleType primaryTitle           originalTitle          isAdult\n",
       "1 tt0000001 short     Carmencita             Carmencita             0      \n",
       "2 tt0000002 short     Le clown et ses chiens Le clown et ses chiens 0      \n",
       "3 tt0000003 short     Pauvre Pierrot         Pauvre Pierrot         0      \n",
       "4 tt0000004 short     Un bon bock            Un bon bock            0      \n",
       "5 tt0000005 short     Blacksmith Scene       Blacksmith Scene       0      \n",
       "6 tt0000006 short     Chinese Opium Den      Chinese Opium Den      0      \n",
       "  startYear endYear runtimeMinutes genres                  \n",
       "1 1894      \\\\N     1              Documentary,Short       \n",
       "2 1892      \\\\N     5              Animation,Short         \n",
       "3 1892      \\\\N     4              Animation,Comedy,Romance\n",
       "4 1892      \\\\N     12             Animation,Short         \n",
       "5 1893      \\\\N     1              Comedy,Short            \n",
       "6 1894      \\\\N     1              Short                   "
      ]
     },
     "metadata": {},
     "output_type": "display_data"
    },
    {
     "data": {
      "text/html": [
       "<table>\n",
       "<caption>A data.frame: 6 × 9</caption>\n",
       "<thead>\n",
       "\t<tr><th></th><th scope=col>tconst</th><th scope=col>titleType</th><th scope=col>primaryTitle</th><th scope=col>originalTitle</th><th scope=col>isAdult</th><th scope=col>startYear</th><th scope=col>endYear</th><th scope=col>runtimeMinutes</th><th scope=col>genres</th></tr>\n",
       "\t<tr><th></th><th scope=col>&lt;chr&gt;</th><th scope=col>&lt;chr&gt;</th><th scope=col>&lt;chr&gt;</th><th scope=col>&lt;chr&gt;</th><th scope=col>&lt;int&gt;</th><th scope=col>&lt;chr&gt;</th><th scope=col>&lt;chr&gt;</th><th scope=col>&lt;chr&gt;</th><th scope=col>&lt;chr&gt;</th></tr>\n",
       "</thead>\n",
       "<tbody>\n",
       "\t<tr><th scope=row>1443754</th><td>tt9916724</td><td>short</td><td>Hay Que Ser Paciente          </td><td>Hay Que Ser Paciente          </td><td>0</td><td>2015</td><td>\\N</td><td>3  </td><td>Documentary,Short</td></tr>\n",
       "\t<tr><th scope=row>1443755</th><td>tt9916730</td><td>movie</td><td>6 Gunn                        </td><td>6 Gunn                        </td><td>0</td><td>2017</td><td>\\N</td><td>116</td><td>\\N              </td></tr>\n",
       "\t<tr><th scope=row>1443756</th><td>tt9916754</td><td>movie</td><td>Chico Albuquerque - Revelações</td><td>Chico Albuquerque - Revelações</td><td>0</td><td>2013</td><td>\\N</td><td>49 </td><td>Documentary      </td></tr>\n",
       "\t<tr><th scope=row>1443757</th><td>tt9916756</td><td>short</td><td>Pretty Pretty Black Girl      </td><td>Pretty Pretty Black Girl      </td><td>0</td><td>2019</td><td>\\N</td><td>\\N</td><td>Short            </td></tr>\n",
       "\t<tr><th scope=row>1443758</th><td>tt9916764</td><td>short</td><td>38                            </td><td>38                            </td><td>0</td><td>2018</td><td>\\N</td><td>\\N</td><td>Short            </td></tr>\n",
       "\t<tr><th scope=row>1443759</th><td>tt9916856</td><td>short</td><td>The Wind                      </td><td>The Wind                      </td><td>0</td><td>2015</td><td>\\N</td><td>27 </td><td>Short            </td></tr>\n",
       "</tbody>\n",
       "</table>\n"
      ],
      "text/latex": [
       "A data.frame: 6 × 9\n",
       "\\begin{tabular}{r|lllllllll}\n",
       "  & tconst & titleType & primaryTitle & originalTitle & isAdult & startYear & endYear & runtimeMinutes & genres\\\\\n",
       "  & <chr> & <chr> & <chr> & <chr> & <int> & <chr> & <chr> & <chr> & <chr>\\\\\n",
       "\\hline\n",
       "\t1443754 & tt9916724 & short & Hay Que Ser Paciente           & Hay Que Ser Paciente           & 0 & 2015 & \\textbackslash{}N & 3   & Documentary,Short\\\\\n",
       "\t1443755 & tt9916730 & movie & 6 Gunn                         & 6 Gunn                         & 0 & 2017 & \\textbackslash{}N & 116 & \\textbackslash{}N              \\\\\n",
       "\t1443756 & tt9916754 & movie & Chico Albuquerque - Revelações & Chico Albuquerque - Revelações & 0 & 2013 & \\textbackslash{}N & 49  & Documentary      \\\\\n",
       "\t1443757 & tt9916756 & short & Pretty Pretty Black Girl       & Pretty Pretty Black Girl       & 0 & 2019 & \\textbackslash{}N & \\textbackslash{}N & Short            \\\\\n",
       "\t1443758 & tt9916764 & short & 38                             & 38                             & 0 & 2018 & \\textbackslash{}N & \\textbackslash{}N & Short            \\\\\n",
       "\t1443759 & tt9916856 & short & The Wind                       & The Wind                       & 0 & 2015 & \\textbackslash{}N & 27  & Short            \\\\\n",
       "\\end{tabular}\n"
      ],
      "text/markdown": [
       "\n",
       "A data.frame: 6 × 9\n",
       "\n",
       "| <!--/--> | tconst &lt;chr&gt; | titleType &lt;chr&gt; | primaryTitle &lt;chr&gt; | originalTitle &lt;chr&gt; | isAdult &lt;int&gt; | startYear &lt;chr&gt; | endYear &lt;chr&gt; | runtimeMinutes &lt;chr&gt; | genres &lt;chr&gt; |\n",
       "|---|---|---|---|---|---|---|---|---|---|\n",
       "| 1443754 | tt9916724 | short | Hay Que Ser Paciente           | Hay Que Ser Paciente           | 0 | 2015 | \\N | 3   | Documentary,Short |\n",
       "| 1443755 | tt9916730 | movie | 6 Gunn                         | 6 Gunn                         | 0 | 2017 | \\N | 116 | \\N               |\n",
       "| 1443756 | tt9916754 | movie | Chico Albuquerque - Revelações | Chico Albuquerque - Revelações | 0 | 2013 | \\N | 49  | Documentary       |\n",
       "| 1443757 | tt9916756 | short | Pretty Pretty Black Girl       | Pretty Pretty Black Girl       | 0 | 2019 | \\N | \\N | Short             |\n",
       "| 1443758 | tt9916764 | short | 38                             | 38                             | 0 | 2018 | \\N | \\N | Short             |\n",
       "| 1443759 | tt9916856 | short | The Wind                       | The Wind                       | 0 | 2015 | \\N | 27  | Short             |\n",
       "\n"
      ],
      "text/plain": [
       "        tconst    titleType primaryTitle                  \n",
       "1443754 tt9916724 short     Hay Que Ser Paciente          \n",
       "1443755 tt9916730 movie     6 Gunn                        \n",
       "1443756 tt9916754 movie     Chico Albuquerque - Revelações\n",
       "1443757 tt9916756 short     Pretty Pretty Black Girl      \n",
       "1443758 tt9916764 short     38                            \n",
       "1443759 tt9916856 short     The Wind                      \n",
       "        originalTitle                  isAdult startYear endYear runtimeMinutes\n",
       "1443754 Hay Que Ser Paciente           0       2015      \\\\N     3             \n",
       "1443755 6 Gunn                         0       2017      \\\\N     116           \n",
       "1443756 Chico Albuquerque - Revelações 0       2013      \\\\N     49            \n",
       "1443757 Pretty Pretty Black Girl       0       2019      \\\\N     \\\\N           \n",
       "1443758 38                             0       2018      \\\\N     \\\\N           \n",
       "1443759 The Wind                       0       2015      \\\\N     27            \n",
       "        genres           \n",
       "1443754 Documentary,Short\n",
       "1443755 \\\\N              \n",
       "1443756 Documentary      \n",
       "1443757 Short            \n",
       "1443758 Short            \n",
       "1443759 Short            "
      ]
     },
     "metadata": {},
     "output_type": "display_data"
    }
   ],
   "source": [
    "head(title_basics)\n",
    "tail(title_basics)"
   ]
  },
  {
   "cell_type": "code",
   "execution_count": 6,
   "metadata": {},
   "outputs": [],
   "source": [
    "tb_clean = title_basics #Changes will take place in the tb_clean variable"
   ]
  },
  {
   "cell_type": "markdown",
   "metadata": {},
   "source": [
    "## primaryTitle and originalTitle"
   ]
  },
  {
   "cell_type": "code",
   "execution_count": 7,
   "metadata": {},
   "outputs": [],
   "source": [
    "tb_clean$primaryTitle = NULL\n",
    "tb_clean$originalTitle = NULL\n",
    "#Accordind to MJ, \"both of these features don't add relevant and usable information \n",
    "#(analyse of strings is very high computatinal cost)\""
   ]
  },
  {
   "cell_type": "markdown",
   "metadata": {},
   "source": [
    "## isAdult"
   ]
  },
  {
   "cell_type": "code",
   "execution_count": 8,
   "metadata": {},
   "outputs": [],
   "source": [
    "tb_clean$isAdult = as.factor(tb_clean$isAdult) #Don't know why I did this... isAdult is an int"
   ]
  },
  {
   "cell_type": "code",
   "execution_count": 9,
   "metadata": {},
   "outputs": [
    {
     "data": {
      "text/html": [
       "0.00714731475266994"
      ],
      "text/latex": [
       "0.00714731475266994"
      ],
      "text/markdown": [
       "0.00714731475266994"
      ],
      "text/plain": [
       "[1] 0.007147315"
      ]
     },
     "metadata": {},
     "output_type": "display_data"
    }
   ],
   "source": [
    "nrow(tb_clean[tb_clean$isAdult==1,])/nrow(tb_clean) #Percentage of adult movies"
   ]
  },
  {
   "cell_type": "markdown",
   "metadata": {},
   "source": [
    "## startYear"
   ]
  },
  {
   "cell_type": "code",
   "execution_count": 10,
   "metadata": {},
   "outputs": [
    {
     "data": {
      "text/html": [
       "0.0610759829029637"
      ],
      "text/latex": [
       "0.0610759829029637"
      ],
      "text/markdown": [
       "0.0610759829029637"
      ],
      "text/plain": [
       "[1] 0.06107598"
      ]
     },
     "metadata": {},
     "output_type": "display_data"
    }
   ],
   "source": [
    "nrow(tb_clean[tb_clean$startYear==\"\\\\N\",])/nrow(tb_clean)"
   ]
  },
  {
   "cell_type": "code",
   "execution_count": 11,
   "metadata": {},
   "outputs": [],
   "source": [
    "# remove NA\n",
    "tb_clean = tb_clean[tb_clean$startYear!=\"\\\\N\",]\n",
    "tb_clean$startYear = factor(tb_clean$startYear)"
   ]
  },
  {
   "cell_type": "code",
   "execution_count": 12,
   "metadata": {},
   "outputs": [],
   "source": [
    "# convert to numeric type\n",
    "tb_clean$startYear = as.numeric(as.character(tb_clean$startYear))"
   ]
  },
  {
   "cell_type": "code",
   "execution_count": 13,
   "metadata": {},
   "outputs": [],
   "source": [
    "tb_clean = tb_clean[tb_clean$startYear!=2115,] #This is ridiculous"
   ]
  },
  {
   "cell_type": "markdown",
   "metadata": {},
   "source": [
    "## endYear"
   ]
  },
  {
   "cell_type": "code",
   "execution_count": 14,
   "metadata": {},
   "outputs": [],
   "source": [
    "tb_clean$endYear = NULL #End Years are just for Series"
   ]
  },
  {
   "cell_type": "markdown",
   "metadata": {},
   "source": [
    "## runtimeMinutes"
   ]
  },
  {
   "cell_type": "code",
   "execution_count": 15,
   "metadata": {},
   "outputs": [
    {
     "data": {
      "text/html": [
       "0.323572436575072"
      ],
      "text/latex": [
       "0.323572436575072"
      ],
      "text/markdown": [
       "0.323572436575072"
      ],
      "text/plain": [
       "[1] 0.3235724"
      ]
     },
     "metadata": {},
     "output_type": "display_data"
    }
   ],
   "source": [
    "nrow(tb_clean[tb_clean$runtimeMinutes==\"\\\\N\",])/nrow(tb_clean)\n",
    "#MJ removed these rows, but I don't think it's a good idea..."
   ]
  },
  {
   "cell_type": "code",
   "execution_count": 16,
   "metadata": {},
   "outputs": [],
   "source": [
    "runtimeMinutes=tb_clean$runtimeMinutes #Creating an array with all the runtimeMinutes\n",
    "runtimeMinutes[runtimeMinutes=='\\\\N']='-1' #Replacing the '\\N' in the array by '-1'\n",
    "tb_clean$runtimeMinutes=runtimeMinutes #Replacing the column by the updated column"
   ]
  },
  {
   "cell_type": "code",
   "execution_count": 17,
   "metadata": {},
   "outputs": [],
   "source": [
    "tb_clean$runtimeMinutes = factor(tb_clean$runtimeMinutes)\n",
    "# convert to numeric type\n",
    "tb_clean$runtimeMinutes = as.numeric(as.character(tb_clean$runtimeMinutes))"
   ]
  },
  {
   "cell_type": "code",
   "execution_count": 18,
   "metadata": {},
   "outputs": [
    {
     "data": {
      "text/html": [
       "0.000661709867149019"
      ],
      "text/latex": [
       "0.000661709867149019"
      ],
      "text/markdown": [
       "0.000661709867149019"
      ],
      "text/plain": [
       "[1] 0.0006617099"
      ]
     },
     "metadata": {},
     "output_type": "display_data"
    }
   ],
   "source": [
    "nrow(tb_clean[tb_clean$runtimeMinutes>240,])/nrow(tb_clean) #Movies with more than 4 hours"
   ]
  },
  {
   "cell_type": "code",
   "execution_count": 19,
   "metadata": {},
   "outputs": [],
   "source": [
    "#Going to remove the movies with more than 4h\n",
    "tb_clean = tb_clean[tb_clean$runtimeMinutes<=240,]"
   ]
  },
  {
   "cell_type": "markdown",
   "metadata": {},
   "source": [
    "## genres"
   ]
  },
  {
   "cell_type": "code",
   "execution_count": 20,
   "metadata": {},
   "outputs": [
    {
     "data": {
      "text/html": [
       "0.0566332172421277"
      ],
      "text/latex": [
       "0.0566332172421277"
      ],
      "text/markdown": [
       "0.0566332172421277"
      ],
      "text/plain": [
       "[1] 0.05663322"
      ]
     },
     "metadata": {},
     "output_type": "display_data"
    }
   ],
   "source": [
    "nrow(tb_clean[tb_clean$genres==\"\\\\N\",])/nrow(tb_clean)"
   ]
  },
  {
   "cell_type": "code",
   "execution_count": 21,
   "metadata": {},
   "outputs": [],
   "source": [
    "# removing \\N\n",
    "tb_clean = tb_clean[tb_clean$genres!=\"\\\\N\",]\n",
    "tb_clean$genres = factor(tb_clean$genres)"
   ]
  },
  {
   "cell_type": "code",
   "execution_count": 22,
   "metadata": {},
   "outputs": [
    {
     "data": {
      "text/html": [
       "1277962"
      ],
      "text/latex": [
       "1277962"
      ],
      "text/markdown": [
       "1277962"
      ],
      "text/plain": [
       "[1] 1277962"
      ]
     },
     "metadata": {},
     "output_type": "display_data"
    }
   ],
   "source": [
    "nrow(tb_clean)"
   ]
  },
  {
   "cell_type": "markdown",
   "metadata": {},
   "source": [
    "## Creating columns for the genres"
   ]
  },
  {
   "cell_type": "code",
   "execution_count": 23,
   "metadata": {},
   "outputs": [
    {
     "data": {
      "text/html": [
       "0"
      ],
      "text/latex": [
       "0"
      ],
      "text/markdown": [
       "0"
      ],
      "text/plain": [
       "[1] 0"
      ]
     },
     "metadata": {},
     "output_type": "display_data"
    }
   ],
   "source": [
    "nrow(tb_clean[tb_clean$genres=='\\\\N',]) #As expected there are no rows with \\N in the genres"
   ]
  },
  {
   "cell_type": "code",
   "execution_count": 24,
   "metadata": {},
   "outputs": [],
   "source": [
    "genres= str_split(tb_clean$genres,',')"
   ]
  },
  {
   "cell_type": "code",
   "execution_count": 25,
   "metadata": {},
   "outputs": [
    {
     "data": {
      "image/png": "[encoded data removed]",
      "text/plain": [
       "plot without title"
      ]
     },
     "metadata": {
      "image/png": {
       "height": 420,
       "width": 420
      }
     },
     "output_type": "display_data"
    }
   ],
   "source": [
    "count_1 = length(which(lengths(genres) == 1))\n",
    "count_2 = length(which(lengths(genres) == 2))\n",
    "count_3 = length(which(lengths(genres) == 3))\n",
    "lengths = c(1,2,3)\n",
    "counts=c(count_1,count_2,count_3)\n",
    "genres_counts = data.frame(lengths,counts)\n",
    "ggplot(genres_counts,aes(x=factor(lengths),y=counts))+geom_bar(stat=\"identity\")"
   ]
  },
  {
   "cell_type": "code",
   "execution_count": 26,
   "metadata": {},
   "outputs": [
    {
     "name": "stderr",
     "output_type": "stream",
     "text": [
      "Warning message:\n",
      "“Expected 3 pieces. Missing pieces filled with `NA` in 1033202 rows [1, 2, 4, 5, 6, 7, 8, 9, 10, 11, 13, 14, 15, 16, 17, 18, 19, 21, 22, 23, ...].”\n"
     ]
    }
   ],
   "source": [
    "tb_clean = separate(tb_clean,genres,c(\"genre1\",\"genre2\",\"genre3\"),\",\")"
   ]
  },
  {
   "cell_type": "code",
   "execution_count": 27,
   "metadata": {},
   "outputs": [
    {
     "data": {
      "text/html": [
       "<table>\n",
       "<caption>A data.frame: 6 × 8</caption>\n",
       "<thead>\n",
       "\t<tr><th></th><th scope=col>tconst</th><th scope=col>titleType</th><th scope=col>isAdult</th><th scope=col>startYear</th><th scope=col>runtimeMinutes</th><th scope=col>genre1</th><th scope=col>genre2</th><th scope=col>genre3</th></tr>\n",
       "\t<tr><th></th><th scope=col>&lt;chr&gt;</th><th scope=col>&lt;chr&gt;</th><th scope=col>&lt;fct&gt;</th><th scope=col>&lt;dbl&gt;</th><th scope=col>&lt;dbl&gt;</th><th scope=col>&lt;chr&gt;</th><th scope=col>&lt;chr&gt;</th><th scope=col>&lt;chr&gt;</th></tr>\n",
       "</thead>\n",
       "<tbody>\n",
       "\t<tr><th scope=row>1</th><td>tt0000001</td><td>short</td><td>0</td><td>1894</td><td> 1</td><td>Documentary</td><td>Short </td><td>NA     </td></tr>\n",
       "\t<tr><th scope=row>2</th><td>tt0000002</td><td>short</td><td>0</td><td>1892</td><td> 5</td><td>Animation  </td><td>Short </td><td>NA     </td></tr>\n",
       "\t<tr><th scope=row>3</th><td>tt0000003</td><td>short</td><td>0</td><td>1892</td><td> 4</td><td>Animation  </td><td>Comedy</td><td>Romance</td></tr>\n",
       "\t<tr><th scope=row>4</th><td>tt0000004</td><td>short</td><td>0</td><td>1892</td><td>12</td><td>Animation  </td><td>Short </td><td>NA     </td></tr>\n",
       "\t<tr><th scope=row>5</th><td>tt0000005</td><td>short</td><td>0</td><td>1893</td><td> 1</td><td>Comedy     </td><td>Short </td><td>NA     </td></tr>\n",
       "\t<tr><th scope=row>6</th><td>tt0000006</td><td>short</td><td>0</td><td>1894</td><td> 1</td><td>Short      </td><td>NA    </td><td>NA     </td></tr>\n",
       "</tbody>\n",
       "</table>\n"
      ],
      "text/latex": [
       "A data.frame: 6 × 8\n",
       "\\begin{tabular}{r|llllllll}\n",
       "  & tconst & titleType & isAdult & startYear & runtimeMinutes & genre1 & genre2 & genre3\\\\\n",
       "  & <chr> & <chr> & <fct> & <dbl> & <dbl> & <chr> & <chr> & <chr>\\\\\n",
       "\\hline\n",
       "\t1 & tt0000001 & short & 0 & 1894 &  1 & Documentary & Short  & NA     \\\\\n",
       "\t2 & tt0000002 & short & 0 & 1892 &  5 & Animation   & Short  & NA     \\\\\n",
       "\t3 & tt0000003 & short & 0 & 1892 &  4 & Animation   & Comedy & Romance\\\\\n",
       "\t4 & tt0000004 & short & 0 & 1892 & 12 & Animation   & Short  & NA     \\\\\n",
       "\t5 & tt0000005 & short & 0 & 1893 &  1 & Comedy      & Short  & NA     \\\\\n",
       "\t6 & tt0000006 & short & 0 & 1894 &  1 & Short       & NA     & NA     \\\\\n",
       "\\end{tabular}\n"
      ],
      "text/markdown": [
       "\n",
       "A data.frame: 6 × 8\n",
       "\n",
       "| <!--/--> | tconst &lt;chr&gt; | titleType &lt;chr&gt; | isAdult &lt;fct&gt; | startYear &lt;dbl&gt; | runtimeMinutes &lt;dbl&gt; | genre1 &lt;chr&gt; | genre2 &lt;chr&gt; | genre3 &lt;chr&gt; |\n",
       "|---|---|---|---|---|---|---|---|---|\n",
       "| 1 | tt0000001 | short | 0 | 1894 |  1 | Documentary | Short  | NA      |\n",
       "| 2 | tt0000002 | short | 0 | 1892 |  5 | Animation   | Short  | NA      |\n",
       "| 3 | tt0000003 | short | 0 | 1892 |  4 | Animation   | Comedy | Romance |\n",
       "| 4 | tt0000004 | short | 0 | 1892 | 12 | Animation   | Short  | NA      |\n",
       "| 5 | tt0000005 | short | 0 | 1893 |  1 | Comedy      | Short  | NA      |\n",
       "| 6 | tt0000006 | short | 0 | 1894 |  1 | Short       | NA     | NA      |\n",
       "\n"
      ],
      "text/plain": [
       "  tconst    titleType isAdult startYear runtimeMinutes genre1      genre2\n",
       "1 tt0000001 short     0       1894       1             Documentary Short \n",
       "2 tt0000002 short     0       1892       5             Animation   Short \n",
       "3 tt0000003 short     0       1892       4             Animation   Comedy\n",
       "4 tt0000004 short     0       1892      12             Animation   Short \n",
       "5 tt0000005 short     0       1893       1             Comedy      Short \n",
       "6 tt0000006 short     0       1894       1             Short       NA    \n",
       "  genre3 \n",
       "1 NA     \n",
       "2 NA     \n",
       "3 Romance\n",
       "4 NA     \n",
       "5 NA     \n",
       "6 NA     "
      ]
     },
     "metadata": {},
     "output_type": "display_data"
    },
    {
     "data": {
      "text/html": [
       "<table>\n",
       "<caption>A data.frame: 6 × 8</caption>\n",
       "<thead>\n",
       "\t<tr><th></th><th scope=col>tconst</th><th scope=col>titleType</th><th scope=col>isAdult</th><th scope=col>startYear</th><th scope=col>runtimeMinutes</th><th scope=col>genre1</th><th scope=col>genre2</th><th scope=col>genre3</th></tr>\n",
       "\t<tr><th></th><th scope=col>&lt;chr&gt;</th><th scope=col>&lt;chr&gt;</th><th scope=col>&lt;fct&gt;</th><th scope=col>&lt;dbl&gt;</th><th scope=col>&lt;dbl&gt;</th><th scope=col>&lt;chr&gt;</th><th scope=col>&lt;chr&gt;</th><th scope=col>&lt;chr&gt;</th></tr>\n",
       "</thead>\n",
       "<tbody>\n",
       "\t<tr><th scope=row>1443753</th><td>tt9916720</td><td>short</td><td>0</td><td>2019</td><td>10</td><td>Comedy     </td><td>Horror</td><td>Mystery</td></tr>\n",
       "\t<tr><th scope=row>1443754</th><td>tt9916724</td><td>short</td><td>0</td><td>2015</td><td> 3</td><td>Documentary</td><td>Short </td><td>NA     </td></tr>\n",
       "\t<tr><th scope=row>1443756</th><td>tt9916754</td><td>movie</td><td>0</td><td>2013</td><td>49</td><td>Documentary</td><td>NA    </td><td>NA     </td></tr>\n",
       "\t<tr><th scope=row>1443757</th><td>tt9916756</td><td>short</td><td>0</td><td>2019</td><td>-1</td><td>Short      </td><td>NA    </td><td>NA     </td></tr>\n",
       "\t<tr><th scope=row>1443758</th><td>tt9916764</td><td>short</td><td>0</td><td>2018</td><td>-1</td><td>Short      </td><td>NA    </td><td>NA     </td></tr>\n",
       "\t<tr><th scope=row>1443759</th><td>tt9916856</td><td>short</td><td>0</td><td>2015</td><td>27</td><td>Short      </td><td>NA    </td><td>NA     </td></tr>\n",
       "</tbody>\n",
       "</table>\n"
      ],
      "text/latex": [
       "A data.frame: 6 × 8\n",
       "\\begin{tabular}{r|llllllll}\n",
       "  & tconst & titleType & isAdult & startYear & runtimeMinutes & genre1 & genre2 & genre3\\\\\n",
       "  & <chr> & <chr> & <fct> & <dbl> & <dbl> & <chr> & <chr> & <chr>\\\\\n",
       "\\hline\n",
       "\t1443753 & tt9916720 & short & 0 & 2019 & 10 & Comedy      & Horror & Mystery\\\\\n",
       "\t1443754 & tt9916724 & short & 0 & 2015 &  3 & Documentary & Short  & NA     \\\\\n",
       "\t1443756 & tt9916754 & movie & 0 & 2013 & 49 & Documentary & NA     & NA     \\\\\n",
       "\t1443757 & tt9916756 & short & 0 & 2019 & -1 & Short       & NA     & NA     \\\\\n",
       "\t1443758 & tt9916764 & short & 0 & 2018 & -1 & Short       & NA     & NA     \\\\\n",
       "\t1443759 & tt9916856 & short & 0 & 2015 & 27 & Short       & NA     & NA     \\\\\n",
       "\\end{tabular}\n"
      ],
      "text/markdown": [
       "\n",
       "A data.frame: 6 × 8\n",
       "\n",
       "| <!--/--> | tconst &lt;chr&gt; | titleType &lt;chr&gt; | isAdult &lt;fct&gt; | startYear &lt;dbl&gt; | runtimeMinutes &lt;dbl&gt; | genre1 &lt;chr&gt; | genre2 &lt;chr&gt; | genre3 &lt;chr&gt; |\n",
       "|---|---|---|---|---|---|---|---|---|\n",
       "| 1443753 | tt9916720 | short | 0 | 2019 | 10 | Comedy      | Horror | Mystery |\n",
       "| 1443754 | tt9916724 | short | 0 | 2015 |  3 | Documentary | Short  | NA      |\n",
       "| 1443756 | tt9916754 | movie | 0 | 2013 | 49 | Documentary | NA     | NA      |\n",
       "| 1443757 | tt9916756 | short | 0 | 2019 | -1 | Short       | NA     | NA      |\n",
       "| 1443758 | tt9916764 | short | 0 | 2018 | -1 | Short       | NA     | NA      |\n",
       "| 1443759 | tt9916856 | short | 0 | 2015 | 27 | Short       | NA     | NA      |\n",
       "\n"
      ],
      "text/plain": [
       "        tconst    titleType isAdult startYear runtimeMinutes genre1      genre2\n",
       "1443753 tt9916720 short     0       2019      10             Comedy      Horror\n",
       "1443754 tt9916724 short     0       2015       3             Documentary Short \n",
       "1443756 tt9916754 movie     0       2013      49             Documentary NA    \n",
       "1443757 tt9916756 short     0       2019      -1             Short       NA    \n",
       "1443758 tt9916764 short     0       2018      -1             Short       NA    \n",
       "1443759 tt9916856 short     0       2015      27             Short       NA    \n",
       "        genre3 \n",
       "1443753 Mystery\n",
       "1443754 NA     \n",
       "1443756 NA     \n",
       "1443757 NA     \n",
       "1443758 NA     \n",
       "1443759 NA     "
      ]
     },
     "metadata": {},
     "output_type": "display_data"
    }
   ],
   "source": [
    "head(tb_clean)\n",
    "tail(tb_clean)"
   ]
  },
  {
   "cell_type": "code",
   "execution_count": 28,
   "metadata": {},
   "outputs": [],
   "source": [
    "#Assigning global constant 0 to the ones that have NA\n",
    "tb_clean$genre1[is.na(tb_clean$genre1)]=0\n",
    "tb_clean$genre2[is.na(tb_clean$genre2)]=0\n",
    "tb_clean$genre3[is.na(tb_clean$genre3)]=0"
   ]
  },
  {
   "cell_type": "code",
   "execution_count": 29,
   "metadata": {},
   "outputs": [
    {
     "data": {
      "text/html": [
       "<table>\n",
       "<caption>A data.frame: 6 × 8</caption>\n",
       "<thead>\n",
       "\t<tr><th></th><th scope=col>tconst</th><th scope=col>titleType</th><th scope=col>isAdult</th><th scope=col>startYear</th><th scope=col>runtimeMinutes</th><th scope=col>genre1</th><th scope=col>genre2</th><th scope=col>genre3</th></tr>\n",
       "\t<tr><th></th><th scope=col>&lt;chr&gt;</th><th scope=col>&lt;chr&gt;</th><th scope=col>&lt;fct&gt;</th><th scope=col>&lt;dbl&gt;</th><th scope=col>&lt;dbl&gt;</th><th scope=col>&lt;chr&gt;</th><th scope=col>&lt;chr&gt;</th><th scope=col>&lt;chr&gt;</th></tr>\n",
       "</thead>\n",
       "<tbody>\n",
       "\t<tr><th scope=row>1</th><td>tt0000001</td><td>short</td><td>0</td><td>1894</td><td> 1</td><td>Documentary</td><td>Short </td><td>0      </td></tr>\n",
       "\t<tr><th scope=row>2</th><td>tt0000002</td><td>short</td><td>0</td><td>1892</td><td> 5</td><td>Animation  </td><td>Short </td><td>0      </td></tr>\n",
       "\t<tr><th scope=row>3</th><td>tt0000003</td><td>short</td><td>0</td><td>1892</td><td> 4</td><td>Animation  </td><td>Comedy</td><td>Romance</td></tr>\n",
       "\t<tr><th scope=row>4</th><td>tt0000004</td><td>short</td><td>0</td><td>1892</td><td>12</td><td>Animation  </td><td>Short </td><td>0      </td></tr>\n",
       "\t<tr><th scope=row>5</th><td>tt0000005</td><td>short</td><td>0</td><td>1893</td><td> 1</td><td>Comedy     </td><td>Short </td><td>0      </td></tr>\n",
       "\t<tr><th scope=row>6</th><td>tt0000006</td><td>short</td><td>0</td><td>1894</td><td> 1</td><td>Short      </td><td>0     </td><td>0      </td></tr>\n",
       "</tbody>\n",
       "</table>\n"
      ],
      "text/latex": [
       "A data.frame: 6 × 8\n",
       "\\begin{tabular}{r|llllllll}\n",
       "  & tconst & titleType & isAdult & startYear & runtimeMinutes & genre1 & genre2 & genre3\\\\\n",
       "  & <chr> & <chr> & <fct> & <dbl> & <dbl> & <chr> & <chr> & <chr>\\\\\n",
       "\\hline\n",
       "\t1 & tt0000001 & short & 0 & 1894 &  1 & Documentary & Short  & 0      \\\\\n",
       "\t2 & tt0000002 & short & 0 & 1892 &  5 & Animation   & Short  & 0      \\\\\n",
       "\t3 & tt0000003 & short & 0 & 1892 &  4 & Animation   & Comedy & Romance\\\\\n",
       "\t4 & tt0000004 & short & 0 & 1892 & 12 & Animation   & Short  & 0      \\\\\n",
       "\t5 & tt0000005 & short & 0 & 1893 &  1 & Comedy      & Short  & 0      \\\\\n",
       "\t6 & tt0000006 & short & 0 & 1894 &  1 & Short       & 0      & 0      \\\\\n",
       "\\end{tabular}\n"
      ],
      "text/markdown": [
       "\n",
       "A data.frame: 6 × 8\n",
       "\n",
       "| <!--/--> | tconst &lt;chr&gt; | titleType &lt;chr&gt; | isAdult &lt;fct&gt; | startYear &lt;dbl&gt; | runtimeMinutes &lt;dbl&gt; | genre1 &lt;chr&gt; | genre2 &lt;chr&gt; | genre3 &lt;chr&gt; |\n",
       "|---|---|---|---|---|---|---|---|---|\n",
       "| 1 | tt0000001 | short | 0 | 1894 |  1 | Documentary | Short  | 0       |\n",
       "| 2 | tt0000002 | short | 0 | 1892 |  5 | Animation   | Short  | 0       |\n",
       "| 3 | tt0000003 | short | 0 | 1892 |  4 | Animation   | Comedy | Romance |\n",
       "| 4 | tt0000004 | short | 0 | 1892 | 12 | Animation   | Short  | 0       |\n",
       "| 5 | tt0000005 | short | 0 | 1893 |  1 | Comedy      | Short  | 0       |\n",
       "| 6 | tt0000006 | short | 0 | 1894 |  1 | Short       | 0      | 0       |\n",
       "\n"
      ],
      "text/plain": [
       "  tconst    titleType isAdult startYear runtimeMinutes genre1      genre2\n",
       "1 tt0000001 short     0       1894       1             Documentary Short \n",
       "2 tt0000002 short     0       1892       5             Animation   Short \n",
       "3 tt0000003 short     0       1892       4             Animation   Comedy\n",
       "4 tt0000004 short     0       1892      12             Animation   Short \n",
       "5 tt0000005 short     0       1893       1             Comedy      Short \n",
       "6 tt0000006 short     0       1894       1             Short       0     \n",
       "  genre3 \n",
       "1 0      \n",
       "2 0      \n",
       "3 Romance\n",
       "4 0      \n",
       "5 0      \n",
       "6 0      "
      ]
     },
     "metadata": {},
     "output_type": "display_data"
    },
    {
     "data": {
      "text/html": [
       "<table>\n",
       "<caption>A data.frame: 6 × 8</caption>\n",
       "<thead>\n",
       "\t<tr><th></th><th scope=col>tconst</th><th scope=col>titleType</th><th scope=col>isAdult</th><th scope=col>startYear</th><th scope=col>runtimeMinutes</th><th scope=col>genre1</th><th scope=col>genre2</th><th scope=col>genre3</th></tr>\n",
       "\t<tr><th></th><th scope=col>&lt;chr&gt;</th><th scope=col>&lt;chr&gt;</th><th scope=col>&lt;fct&gt;</th><th scope=col>&lt;dbl&gt;</th><th scope=col>&lt;dbl&gt;</th><th scope=col>&lt;chr&gt;</th><th scope=col>&lt;chr&gt;</th><th scope=col>&lt;chr&gt;</th></tr>\n",
       "</thead>\n",
       "<tbody>\n",
       "\t<tr><th scope=row>1443753</th><td>tt9916720</td><td>short</td><td>0</td><td>2019</td><td>10</td><td>Comedy     </td><td>Horror</td><td>Mystery</td></tr>\n",
       "\t<tr><th scope=row>1443754</th><td>tt9916724</td><td>short</td><td>0</td><td>2015</td><td> 3</td><td>Documentary</td><td>Short </td><td>0      </td></tr>\n",
       "\t<tr><th scope=row>1443756</th><td>tt9916754</td><td>movie</td><td>0</td><td>2013</td><td>49</td><td>Documentary</td><td>0     </td><td>0      </td></tr>\n",
       "\t<tr><th scope=row>1443757</th><td>tt9916756</td><td>short</td><td>0</td><td>2019</td><td>-1</td><td>Short      </td><td>0     </td><td>0      </td></tr>\n",
       "\t<tr><th scope=row>1443758</th><td>tt9916764</td><td>short</td><td>0</td><td>2018</td><td>-1</td><td>Short      </td><td>0     </td><td>0      </td></tr>\n",
       "\t<tr><th scope=row>1443759</th><td>tt9916856</td><td>short</td><td>0</td><td>2015</td><td>27</td><td>Short      </td><td>0     </td><td>0      </td></tr>\n",
       "</tbody>\n",
       "</table>\n"
      ],
      "text/latex": [
       "A data.frame: 6 × 8\n",
       "\\begin{tabular}{r|llllllll}\n",
       "  & tconst & titleType & isAdult & startYear & runtimeMinutes & genre1 & genre2 & genre3\\\\\n",
       "  & <chr> & <chr> & <fct> & <dbl> & <dbl> & <chr> & <chr> & <chr>\\\\\n",
       "\\hline\n",
       "\t1443753 & tt9916720 & short & 0 & 2019 & 10 & Comedy      & Horror & Mystery\\\\\n",
       "\t1443754 & tt9916724 & short & 0 & 2015 &  3 & Documentary & Short  & 0      \\\\\n",
       "\t1443756 & tt9916754 & movie & 0 & 2013 & 49 & Documentary & 0      & 0      \\\\\n",
       "\t1443757 & tt9916756 & short & 0 & 2019 & -1 & Short       & 0      & 0      \\\\\n",
       "\t1443758 & tt9916764 & short & 0 & 2018 & -1 & Short       & 0      & 0      \\\\\n",
       "\t1443759 & tt9916856 & short & 0 & 2015 & 27 & Short       & 0      & 0      \\\\\n",
       "\\end{tabular}\n"
      ],
      "text/markdown": [
       "\n",
       "A data.frame: 6 × 8\n",
       "\n",
       "| <!--/--> | tconst &lt;chr&gt; | titleType &lt;chr&gt; | isAdult &lt;fct&gt; | startYear &lt;dbl&gt; | runtimeMinutes &lt;dbl&gt; | genre1 &lt;chr&gt; | genre2 &lt;chr&gt; | genre3 &lt;chr&gt; |\n",
       "|---|---|---|---|---|---|---|---|---|\n",
       "| 1443753 | tt9916720 | short | 0 | 2019 | 10 | Comedy      | Horror | Mystery |\n",
       "| 1443754 | tt9916724 | short | 0 | 2015 |  3 | Documentary | Short  | 0       |\n",
       "| 1443756 | tt9916754 | movie | 0 | 2013 | 49 | Documentary | 0      | 0       |\n",
       "| 1443757 | tt9916756 | short | 0 | 2019 | -1 | Short       | 0      | 0       |\n",
       "| 1443758 | tt9916764 | short | 0 | 2018 | -1 | Short       | 0      | 0       |\n",
       "| 1443759 | tt9916856 | short | 0 | 2015 | 27 | Short       | 0      | 0       |\n",
       "\n"
      ],
      "text/plain": [
       "        tconst    titleType isAdult startYear runtimeMinutes genre1      genre2\n",
       "1443753 tt9916720 short     0       2019      10             Comedy      Horror\n",
       "1443754 tt9916724 short     0       2015       3             Documentary Short \n",
       "1443756 tt9916754 movie     0       2013      49             Documentary 0     \n",
       "1443757 tt9916756 short     0       2019      -1             Short       0     \n",
       "1443758 tt9916764 short     0       2018      -1             Short       0     \n",
       "1443759 tt9916856 short     0       2015      27             Short       0     \n",
       "        genre3 \n",
       "1443753 Mystery\n",
       "1443754 0      \n",
       "1443756 0      \n",
       "1443757 0      \n",
       "1443758 0      \n",
       "1443759 0      "
      ]
     },
     "metadata": {},
     "output_type": "display_data"
    }
   ],
   "source": [
    "head(tb_clean)\n",
    "tail(tb_clean)"
   ]
  },
  {
   "cell_type": "markdown",
   "metadata": {},
   "source": [
    "## Writing to a tsv file"
   ]
  },
  {
   "cell_type": "code",
   "execution_count": 30,
   "metadata": {},
   "outputs": [],
   "source": [
    "library(readr)\n",
    "write_tsv(tb_clean,'cleaned_filtered_title_basics.tsv')"
   ]
  },
  {
   "cell_type": "code",
   "execution_count": null,
   "metadata": {},
   "outputs": [],
   "source": []
  }
 ],
 "metadata": {
  "kernelspec": {
   "display_name": "R",
   "language": "R",
   "name": "ir"
  },
  "language_info": {
   "codemirror_mode": "r",
   "file_extension": ".r",
   "mimetype": "text/x-r-source",
   "name": "R",
   "pygments_lexer": "r",
   "version": "3.6.1"
  }
 },
 "nbformat": 4,
 "nbformat_minor": 4
}
