{
 "cells": [
  {
   "cell_type": "code",
   "execution_count": 1,
   "metadata": {},
   "outputs": [],
   "source": [
    "#name_basics = read.delim(\"./../dataset/filtered_name_basics.tsv\",header=TRUE)\n",
    "#title_akas = read.delim(\"./../dataset/filtered_title_akas.tsv\",header=TRUE)\n",
    "#title_basics = read.delim(\"./../dataset/filtered_title_basics.tsv\",header=TRUE)\n",
    "#title_principals = read.delim(\"./../dataset/filtered_title_principals.tsv\",header=TRUE)\n",
    "#title_ratings = read.delim(\"./../dataset/filtered_title_ratings.tsv\",header=TRUE)\n",
    "#title_crew = read.delim(\"./../dataset/filtered_title_crew.tsv\",header=TRUE)\n"
   ]
  },
  {
   "cell_type": "markdown",
   "metadata": {},
   "source": [
    "# Title Akas"
   ]
  },
  {
   "cell_type": "code",
   "execution_count": 84,
   "metadata": {},
   "outputs": [],
   "source": [
    "library(\"dplyr\")\n",
    "library(\"ggplot2\")"
   ]
  },
  {
   "cell_type": "code",
   "execution_count": 85,
   "metadata": {},
   "outputs": [],
   "source": [
    "title_akas = read.delim(\"./../dataset/filtered_title_akas.tsv\",header=TRUE)"
   ]
  },
  {
   "cell_type": "code",
   "execution_count": 86,
   "metadata": {},
   "outputs": [
    {
     "data": {
      "text/html": [
       "2211001"
      ],
      "text/latex": [
       "2211001"
      ],
      "text/markdown": [
       "2211001"
      ],
      "text/plain": [
       "[1] 2211001"
      ]
     },
     "metadata": {},
     "output_type": "display_data"
    }
   ],
   "source": [
    "nrow(title_akas)"
   ]
  },
  {
   "cell_type": "code",
   "execution_count": 87,
   "metadata": {},
   "outputs": [
    {
     "data": {
      "text/html": [
       "<table>\n",
       "<caption>A data.frame: 6 × 8</caption>\n",
       "<thead>\n",
       "\t<tr><th></th><th scope=col>titleId</th><th scope=col>ordering</th><th scope=col>title</th><th scope=col>region</th><th scope=col>language</th><th scope=col>types</th><th scope=col>attributes</th><th scope=col>isOriginalTitle</th></tr>\n",
       "\t<tr><th></th><th scope=col>&lt;fct&gt;</th><th scope=col>&lt;int&gt;</th><th scope=col>&lt;fct&gt;</th><th scope=col>&lt;fct&gt;</th><th scope=col>&lt;fct&gt;</th><th scope=col>&lt;fct&gt;</th><th scope=col>&lt;fct&gt;</th><th scope=col>&lt;fct&gt;</th></tr>\n",
       "</thead>\n",
       "<tbody>\n",
       "\t<tr><th scope=row>1</th><td>tt0000001</td><td>1</td><td>ÃÅ¡ÃÂ°Ã‘â‚¬ÃÂ¼ÃÂµÃÂ½Ã‘ÂÃ‘â€“Ã‘â€šÃÂ°</td><td>UA</td><td>\\N</td><td>imdbDisplay</td><td>\\N          </td><td>0</td></tr>\n",
       "\t<tr><th scope=row>2</th><td>tt0000001</td><td>2</td><td>Carmencita                                 </td><td>DE</td><td>\\N</td><td>\\N        </td><td>literal title</td><td>0</td></tr>\n",
       "\t<tr><th scope=row>3</th><td>tt0000001</td><td>3</td><td>Carmencita - spanyol tÃƒÂ¡nc               </td><td>HU</td><td>\\N</td><td>imdbDisplay</td><td>\\N          </td><td>0</td></tr>\n",
       "\t<tr><th scope=row>4</th><td>tt0000001</td><td>4</td><td>ÃŽÅ¡ÃŽÂ±ÃÂÃŽÂ¼ÃŽÂµÃŽÂ½ÃÆ’ÃŽÂ¯Ãâ€žÃŽÂ±  </td><td>GR</td><td>\\N</td><td>imdbDisplay</td><td>\\N          </td><td>0</td></tr>\n",
       "\t<tr><th scope=row>5</th><td>tt0000001</td><td>5</td><td>ÃÅ¡ÃÂ°Ã‘â‚¬ÃÂ¼ÃÂµÃÂ½Ã‘ÂÃÂ¸Ã‘â€šÃÂ° </td><td>RU</td><td>\\N</td><td>imdbDisplay</td><td>\\N          </td><td>0</td></tr>\n",
       "\t<tr><th scope=row>6</th><td>tt0000001</td><td>6</td><td>Carmencita                                 </td><td>US</td><td>\\N</td><td>\\N        </td><td>\\N          </td><td>0</td></tr>\n",
       "</tbody>\n",
       "</table>\n"
      ],
      "text/latex": [
       "A data.frame: 6 × 8\n",
       "\\begin{tabular}{r|llllllll}\n",
       "  & titleId & ordering & title & region & language & types & attributes & isOriginalTitle\\\\\n",
       "  & <fct> & <int> & <fct> & <fct> & <fct> & <fct> & <fct> & <fct>\\\\\n",
       "\\hline\n",
       "\t1 & tt0000001 & 1 & ÃÅ¡ÃÂ°Ã‘â‚¬ÃÂ¼ÃÂµÃÂ½Ã‘ÂÃ‘â€“Ã‘â€šÃÂ° & UA & \\textbackslash{}N & imdbDisplay & \\textbackslash{}N           & 0\\\\\n",
       "\t2 & tt0000001 & 2 & Carmencita                                  & DE & \\textbackslash{}N & \\textbackslash{}N         & literal title & 0\\\\\n",
       "\t3 & tt0000001 & 3 & Carmencita - spanyol tÃƒÂ¡nc                & HU & \\textbackslash{}N & imdbDisplay & \\textbackslash{}N           & 0\\\\\n",
       "\t4 & tt0000001 & 4 & ÃŽÅ¡ÃŽÂ±ÃÂÃŽÂ¼ÃŽÂµÃŽÂ½ÃÆ’ÃŽÂ¯Ãâ€žÃŽÂ±   & GR & \\textbackslash{}N & imdbDisplay & \\textbackslash{}N           & 0\\\\\n",
       "\t5 & tt0000001 & 5 & ÃÅ¡ÃÂ°Ã‘â‚¬ÃÂ¼ÃÂµÃÂ½Ã‘ÂÃÂ¸Ã‘â€šÃÂ°  & RU & \\textbackslash{}N & imdbDisplay & \\textbackslash{}N           & 0\\\\\n",
       "\t6 & tt0000001 & 6 & Carmencita                                  & US & \\textbackslash{}N & \\textbackslash{}N         & \\textbackslash{}N           & 0\\\\\n",
       "\\end{tabular}\n"
      ],
      "text/markdown": [
       "\n",
       "A data.frame: 6 × 8\n",
       "\n",
       "| <!--/--> | titleId &lt;fct&gt; | ordering &lt;int&gt; | title &lt;fct&gt; | region &lt;fct&gt; | language &lt;fct&gt; | types &lt;fct&gt; | attributes &lt;fct&gt; | isOriginalTitle &lt;fct&gt; |\n",
       "|---|---|---|---|---|---|---|---|---|\n",
       "| 1 | tt0000001 | 1 | ÃÅ¡ÃÂ°Ã‘â‚¬ÃÂ¼ÃÂµÃÂ½Ã‘ÂÃ‘â€“Ã‘â€šÃÂ° | UA | \\N | imdbDisplay | \\N           | 0 |\n",
       "| 2 | tt0000001 | 2 | Carmencita                                  | DE | \\N | \\N         | literal title | 0 |\n",
       "| 3 | tt0000001 | 3 | Carmencita - spanyol tÃƒÂ¡nc                | HU | \\N | imdbDisplay | \\N           | 0 |\n",
       "| 4 | tt0000001 | 4 | ÃŽÅ¡ÃŽÂ±ÃÂÃŽÂ¼ÃŽÂµÃŽÂ½ÃÆ’ÃŽÂ¯Ãâ€žÃŽÂ±   | GR | \\N | imdbDisplay | \\N           | 0 |\n",
       "| 5 | tt0000001 | 5 | ÃÅ¡ÃÂ°Ã‘â‚¬ÃÂ¼ÃÂµÃÂ½Ã‘ÂÃÂ¸Ã‘â€šÃÂ°  | RU | \\N | imdbDisplay | \\N           | 0 |\n",
       "| 6 | tt0000001 | 6 | Carmencita                                  | US | \\N | \\N         | \\N           | 0 |\n",
       "\n"
      ],
      "text/plain": [
       "  titleId   ordering title                                       region\n",
       "1 tt0000001 1        Ã\\220Å¡Ã\\220Â°Ã‘â‚¬Ã\\220Â¼Ã\\220ÂµÃ\\220Â½Ã‘Â\\201Ã‘â\\200“Ã‘â\\200šÃ\\220Â° UA    \n",
       "2 tt0000001 2        Carmencita                                  DE    \n",
       "3 tt0000001 3        Carmencita - spanyol tÃƒÂ¡nc                HU    \n",
       "4 tt0000001 4        ÃŽÅ¡ÃŽÂ±Ã\\217Â\\201ÃŽÂ¼ÃŽÂµÃŽÂ½Ã\\217Æ’ÃŽÂ¯Ã\\217â\\200žÃŽÂ±   GR    \n",
       "5 tt0000001 5        Ã\\220Å¡Ã\\220Â°Ã‘â‚¬Ã\\220Â¼Ã\\220ÂµÃ\\220Â½Ã‘Â\\201Ã\\220Â¸Ã‘â\\200šÃ\\220Â°  RU    \n",
       "6 tt0000001 6        Carmencita                                  US    \n",
       "  language types       attributes    isOriginalTitle\n",
       "1 \\\\N      imdbDisplay \\\\N           0              \n",
       "2 \\\\N      \\\\N         literal title 0              \n",
       "3 \\\\N      imdbDisplay \\\\N           0              \n",
       "4 \\\\N      imdbDisplay \\\\N           0              \n",
       "5 \\\\N      imdbDisplay \\\\N           0              \n",
       "6 \\\\N      \\\\N         \\\\N           0              "
      ]
     },
     "metadata": {},
     "output_type": "display_data"
    }
   ],
   "source": [
    "head(title_akas)"
   ]
  },
  {
   "cell_type": "code",
   "execution_count": 168,
   "metadata": {},
   "outputs": [
    {
     "data": {
      "text/html": [
       "<table>\n",
       "<caption>A data.frame: 6 × 8</caption>\n",
       "<thead>\n",
       "\t<tr><th></th><th scope=col>titleId</th><th scope=col>ordering</th><th scope=col>title</th><th scope=col>region</th><th scope=col>language</th><th scope=col>types</th><th scope=col>attributes</th><th scope=col>isOriginalTitle</th></tr>\n",
       "\t<tr><th></th><th scope=col>&lt;fct&gt;</th><th scope=col>&lt;int&gt;</th><th scope=col>&lt;fct&gt;</th><th scope=col>&lt;fct&gt;</th><th scope=col>&lt;fct&gt;</th><th scope=col>&lt;fct&gt;</th><th scope=col>&lt;fct&gt;</th><th scope=col>&lt;fct&gt;</th></tr>\n",
       "</thead>\n",
       "<tbody>\n",
       "\t<tr><th scope=row>2210996</th><td>tt9916724</td><td>1</td><td>Hay Que Ser Paciente                </td><td>CO</td><td>\\N</td><td>\\N</td><td>\\N</td><td>0</td></tr>\n",
       "\t<tr><th scope=row>2210997</th><td>tt9916730</td><td>1</td><td>6 Gunn                              </td><td>IN</td><td>\\N</td><td>\\N</td><td>\\N</td><td>0</td></tr>\n",
       "\t<tr><th scope=row>2210998</th><td>tt9916754</td><td>1</td><td>Chico Albuquerque - RevelaÃƒÂ§ÃƒÂµes</td><td>BR</td><td>\\N</td><td>\\N</td><td>\\N</td><td>0</td></tr>\n",
       "\t<tr><th scope=row>2210999</th><td>tt9916756</td><td>1</td><td>Pretty Pretty Black Girl            </td><td>US</td><td>\\N</td><td>\\N</td><td>\\N</td><td>0</td></tr>\n",
       "\t<tr><th scope=row>2211000</th><td>tt9916764</td><td>1</td><td>38                                  </td><td>US</td><td>\\N</td><td>\\N</td><td>\\N</td><td>0</td></tr>\n",
       "\t<tr><th scope=row>2211001</th><td>tt9916856</td><td>1</td><td>The Wind                            </td><td>DE</td><td>\\N</td><td>\\N</td><td>\\N</td><td>0</td></tr>\n",
       "</tbody>\n",
       "</table>\n"
      ],
      "text/latex": [
       "A data.frame: 6 × 8\n",
       "\\begin{tabular}{r|llllllll}\n",
       "  & titleId & ordering & title & region & language & types & attributes & isOriginalTitle\\\\\n",
       "  & <fct> & <int> & <fct> & <fct> & <fct> & <fct> & <fct> & <fct>\\\\\n",
       "\\hline\n",
       "\t2210996 & tt9916724 & 1 & Hay Que Ser Paciente                 & CO & \\textbackslash{}N & \\textbackslash{}N & \\textbackslash{}N & 0\\\\\n",
       "\t2210997 & tt9916730 & 1 & 6 Gunn                               & IN & \\textbackslash{}N & \\textbackslash{}N & \\textbackslash{}N & 0\\\\\n",
       "\t2210998 & tt9916754 & 1 & Chico Albuquerque - RevelaÃƒÂ§ÃƒÂµes & BR & \\textbackslash{}N & \\textbackslash{}N & \\textbackslash{}N & 0\\\\\n",
       "\t2210999 & tt9916756 & 1 & Pretty Pretty Black Girl             & US & \\textbackslash{}N & \\textbackslash{}N & \\textbackslash{}N & 0\\\\\n",
       "\t2211000 & tt9916764 & 1 & 38                                   & US & \\textbackslash{}N & \\textbackslash{}N & \\textbackslash{}N & 0\\\\\n",
       "\t2211001 & tt9916856 & 1 & The Wind                             & DE & \\textbackslash{}N & \\textbackslash{}N & \\textbackslash{}N & 0\\\\\n",
       "\\end{tabular}\n"
      ],
      "text/markdown": [
       "\n",
       "A data.frame: 6 × 8\n",
       "\n",
       "| <!--/--> | titleId &lt;fct&gt; | ordering &lt;int&gt; | title &lt;fct&gt; | region &lt;fct&gt; | language &lt;fct&gt; | types &lt;fct&gt; | attributes &lt;fct&gt; | isOriginalTitle &lt;fct&gt; |\n",
       "|---|---|---|---|---|---|---|---|---|\n",
       "| 2210996 | tt9916724 | 1 | Hay Que Ser Paciente                 | CO | \\N | \\N | \\N | 0 |\n",
       "| 2210997 | tt9916730 | 1 | 6 Gunn                               | IN | \\N | \\N | \\N | 0 |\n",
       "| 2210998 | tt9916754 | 1 | Chico Albuquerque - RevelaÃƒÂ§ÃƒÂµes | BR | \\N | \\N | \\N | 0 |\n",
       "| 2210999 | tt9916756 | 1 | Pretty Pretty Black Girl             | US | \\N | \\N | \\N | 0 |\n",
       "| 2211000 | tt9916764 | 1 | 38                                   | US | \\N | \\N | \\N | 0 |\n",
       "| 2211001 | tt9916856 | 1 | The Wind                             | DE | \\N | \\N | \\N | 0 |\n",
       "\n"
      ],
      "text/plain": [
       "        titleId   ordering title                                region language\n",
       "2210996 tt9916724 1        Hay Que Ser Paciente                 CO     \\\\N     \n",
       "2210997 tt9916730 1        6 Gunn                               IN     \\\\N     \n",
       "2210998 tt9916754 1        Chico Albuquerque - RevelaÃƒÂ§ÃƒÂµes BR     \\\\N     \n",
       "2210999 tt9916756 1        Pretty Pretty Black Girl             US     \\\\N     \n",
       "2211000 tt9916764 1        38                                   US     \\\\N     \n",
       "2211001 tt9916856 1        The Wind                             DE     \\\\N     \n",
       "        types attributes isOriginalTitle\n",
       "2210996 \\\\N   \\\\N        0              \n",
       "2210997 \\\\N   \\\\N        0              \n",
       "2210998 \\\\N   \\\\N        0              \n",
       "2210999 \\\\N   \\\\N        0              \n",
       "2211000 \\\\N   \\\\N        0              \n",
       "2211001 \\\\N   \\\\N        0              "
      ]
     },
     "metadata": {},
     "output_type": "display_data"
    }
   ],
   "source": [
    "tail(title_akas)"
   ]
  },
  {
   "cell_type": "code",
   "execution_count": 137,
   "metadata": {},
   "outputs": [],
   "source": [
    "# any change in title_aka will be done in ta_clean\n",
    "ta_clean = title_akas"
   ]
  },
  {
   "cell_type": "markdown",
   "metadata": {},
   "source": [
    "### ordering (int) - a number to uniquely identify rows for a given titleId"
   ]
  },
  {
   "cell_type": "code",
   "execution_count": 88,
   "metadata": {},
   "outputs": [
    {
     "name": "stdout",
     "output_type": "stream",
     "text": [
      " int [1:2211001] 1 2 3 4 5 6 7 8 1 2 ...\n"
     ]
    }
   ],
   "source": [
    "str(title_akas$ordering)"
   ]
  },
  {
   "cell_type": "code",
   "execution_count": 8,
   "metadata": {},
   "outputs": [
    {
     "data": {
      "image/png": "[encoded data removed]",
      "text/plain": [
       "plot without title"
      ]
     },
     "metadata": {
      "image/png": {
       "height": 420,
       "width": 420
      }
     },
     "output_type": "display_data"
    }
   ],
   "source": [
    "ggplot(title_akas, aes(x=ordering)) + geom_boxplot()"
   ]
  },
  {
   "cell_type": "code",
   "execution_count": 10,
   "metadata": {},
   "outputs": [
    {
     "name": "stderr",
     "output_type": "stream",
     "text": [
      "`stat_bin()` using `bins = 30`. Pick better value with `binwidth`.\n",
      "\n"
     ]
    },
    {
     "data": {
      "image/png": "[encoded data removed]",
      "text/plain": [
       "plot without title"
      ]
     },
     "metadata": {
      "image/png": {
       "height": 420,
       "width": 420
      }
     },
     "output_type": "display_data"
    }
   ],
   "source": [
    "ggplot(title_akas, aes(x=ordering)) + geom_histogram() #histogram is a bar plot for continuoues variables"
   ]
  },
  {
   "cell_type": "code",
   "execution_count": 11,
   "metadata": {},
   "outputs": [
    {
     "data": {
      "text/html": [
       "<table>\n",
       "<caption>A data.frame: 0 × 8</caption>\n",
       "<thead>\n",
       "\t<tr><th scope=col>titleId</th><th scope=col>ordering</th><th scope=col>title</th><th scope=col>region</th><th scope=col>language</th><th scope=col>types</th><th scope=col>attributes</th><th scope=col>isOriginalTitle</th></tr>\n",
       "\t<tr><th scope=col>&lt;fct&gt;</th><th scope=col>&lt;int&gt;</th><th scope=col>&lt;fct&gt;</th><th scope=col>&lt;fct&gt;</th><th scope=col>&lt;fct&gt;</th><th scope=col>&lt;fct&gt;</th><th scope=col>&lt;fct&gt;</th><th scope=col>&lt;fct&gt;</th></tr>\n",
       "</thead>\n",
       "<tbody>\n",
       "</tbody>\n",
       "</table>\n"
      ],
      "text/latex": [
       "A data.frame: 0 × 8\n",
       "\\begin{tabular}{llllllll}\n",
       " titleId & ordering & title & region & language & types & attributes & isOriginalTitle\\\\\n",
       " <fct> & <int> & <fct> & <fct> & <fct> & <fct> & <fct> & <fct>\\\\\n",
       "\\hline\n",
       "\\end{tabular}\n"
      ],
      "text/markdown": [
       "\n",
       "A data.frame: 0 × 8\n",
       "\n",
       "| titleId &lt;fct&gt; | ordering &lt;int&gt; | title &lt;fct&gt; | region &lt;fct&gt; | language &lt;fct&gt; | types &lt;fct&gt; | attributes &lt;fct&gt; | isOriginalTitle &lt;fct&gt; |\n",
       "|---|---|---|---|---|---|---|---|\n",
       "\n"
      ],
      "text/plain": [
       "     titleId ordering title region language types attributes isOriginalTitle"
      ]
     },
     "metadata": {},
     "output_type": "display_data"
    }
   ],
   "source": [
    "title_akas[title_akas$ordering==0,]"
   ]
  },
  {
   "cell_type": "markdown",
   "metadata": {},
   "source": [
    "* what ordering represents is useless. Does not add any interest information."
   ]
  },
  {
   "cell_type": "code",
   "execution_count": 138,
   "metadata": {},
   "outputs": [],
   "source": [
    "ta_clean$ordering = NULL"
   ]
  },
  {
   "cell_type": "markdown",
   "metadata": {},
   "source": [
    " "
   ]
  },
  {
   "cell_type": "markdown",
   "metadata": {},
   "source": [
    "### attributes (array) - Additional terms to describe this alternative title, not enumerated"
   ]
  },
  {
   "cell_type": "code",
   "execution_count": 14,
   "metadata": {},
   "outputs": [
    {
     "name": "stdout",
     "output_type": "stream",
     "text": [
      " Factor w/ 134 levels \"\\\\N\",\"16mm release title\",..: 1 64 1 1 1 1 1 1 1 1 ...\n"
     ]
    }
   ],
   "source": [
    "str(title_akas$attributes)"
   ]
  },
  {
   "cell_type": "code",
   "execution_count": 23,
   "metadata": {},
   "outputs": [
    {
     "data": {
      "text/html": [
       "<style>\n",
       ".list-inline {list-style: none; margin:0; padding: 0}\n",
       ".list-inline>li {display: inline-block}\n",
       ".list-inline>li:not(:last-child)::after {content: \"\\00b7\"; padding: 0 .5ex}\n",
       "</style>\n",
       "<ol class=list-inline><li>\\\\N</li><li>literal title</li><li>literal English title</li><li>informal alternative title</li><li>promotional title</li><li>complete title</li><li>literal translation of working title</li><li>premiere title</li><li>informal title</li><li>short title</li><li>poster title</li><li>premiÃƒÂ¨re title</li><li>bowdlerized title</li><li>reissue title</li><li>informal English title</li><li>alternative spelling</li><li>original script title</li><li>informal literal title</li><li>copyright title</li><li>long title</li><li>transliterated title</li><li>informal short title</li><li>review title</li><li>new title</li><li>subtitle</li><li>original subtitled version</li><li>cut version</li><li>video catalogue title</li><li>second part title</li><li>fourth season title</li><li>third part title</li><li>fifth season title</li><li>series title</li><li>8mm release title</li><li>recut version</li><li>pre-release title</li><li>theatrical title</li><li>first part title</li><li>segment title</li><li>informal literal English title</li><li>Los Angeles premiÃƒÂ¨re title</li><li>DVD box title</li><li>second copyright title</li><li>16mm release title</li><li>short version</li><li>video box title</li><li>rerun title</li><li>restored version</li><li>english transliteration</li><li>recut version\\002reissue title</li><li>8mm release title\\002short version</li><li>alternative transliteration</li><li>anthology series</li><li>censored version</li><li>DVD menu title</li><li>trailer title</li><li>silent version</li><li>Berlin film festival title</li><li>Cannes festival title</li><li>dubbed version</li><li>added framing sequences and narration in Yiddish\\002reissue title</li><li>bootleg title</li><li>orthographically correct title</li><li>Bable dialect title</li><li>Venice film festival title</li><li>Yiddish dubbed\\002reissue title</li><li>cable TV title</li><li>uncensored intended title</li><li>last season title</li><li>Yiddish dubbed</li><li>TV listings title</li><li>YIVO translation</li><li>modern translation</li><li>long new title</li><li>director's cut</li><li>POLart\\002video box title</li><li>POLart</li><li>cut version\\002reissue title</li><li>YIVO translation\\002reissue title</li><li>racier version</li><li>redubbed comic version</li><li>X-rated version</li><li>copyright title\\002reissue title</li><li>syndication title</li><li>fake working title</li><li>closing credits title</li><li>armed forces circuit title</li><li>reissue title\\002short version</li><li>weekend title</li><li>longer version</li><li>Pay-TV title</li><li>3-D version</li><li>MIFED title</li><li>3-D video title</li><li>literal French title</li><li>expansion title</li><li>correct transliteration</li><li>16mm rental title</li><li>teaser title</li><li>first season title</li><li>video CD title</li><li>LD title</li><li>new syndication title</li><li>soft porn version</li><li>unauthorized video title</li><li>promotional abbreviation</li><li>English translation of working title</li><li>fourth part title</li><li>informal title\\002literal title</li><li>closing credits title\\002pre-release title</li><li>Los Angeles premiere title</li><li>IMAX version</li><li>non-modified Hepburn romanization</li><li>Locarno film festival title</li><li>ninth season title</li><li>second season title</li><li>third season title</li><li>eighth season title</li><li>game box title</li><li>dubbed version\\002recut version</li><li>American Mutoscope &amp; Biograph catalog title</li><li>R-rated version</li><li>original pilot title</li><li>thirtyfirst season title</li><li>Hakka dialect title</li><li>Bilbao festival title</li><li>first episodes title</li><li>eighteenth season title</li><li>first episode title</li><li>first segment title</li><li>second segment title</li><li>twentythird season title</li><li>incorrect title</li><li>rumored</li></ol>\n",
       "\n",
       "<details>\n",
       "\t<summary style=display:list-item;cursor:pointer>\n",
       "\t\t<strong>Levels</strong>:\n",
       "\t</summary>\n",
       "\t<style>\n",
       "\t.list-inline {list-style: none; margin:0; padding: 0}\n",
       "\t.list-inline>li {display: inline-block}\n",
       "\t.list-inline>li:not(:last-child)::after {content: \"\\00b7\"; padding: 0 .5ex}\n",
       "\t</style>\n",
       "\t<ol class=list-inline><li>'\\\\N'</li><li>'16mm release title'</li><li>'16mm rental title'</li><li>'3-D version'</li><li>'3-D video title'</li><li>'8mm release title'</li><li>'8mm release title\\002short version'</li><li>'added framing sequences and narration in Yiddish\\002reissue title'</li><li>'alternative spelling'</li><li>'alternative transliteration'</li><li>'American Mutoscope &amp; Biograph catalog title'</li><li>'anthology series'</li><li>'armed forces circuit title'</li><li>'Bable dialect title'</li><li>'Berlin film festival title'</li><li>'Bilbao festival title'</li><li>'bootleg title'</li><li>'bowdlerized title'</li><li>'cable TV title'</li><li>'Cannes festival title'</li><li>'censored version'</li><li>'closing credits title'</li><li>'closing credits title\\002pre-release title'</li><li>'complete title'</li><li>'copyright title'</li><li>'copyright title\\002reissue title'</li><li>'correct transliteration'</li><li>'cut version'</li><li>'cut version\\002reissue title'</li><li>'director\\'s cut'</li><li>'dubbed version'</li><li>'dubbed version\\002recut version'</li><li>'DVD box title'</li><li>'DVD menu title'</li><li>'eighteenth season title'</li><li>'eighth season title'</li><li>'English translation of working title'</li><li>'english transliteration'</li><li>'expansion title'</li><li>'fake working title'</li><li>'fifth season title'</li><li>'first episode title'</li><li>'first episodes title'</li><li>'first part title'</li><li>'first season title'</li><li>'first segment title'</li><li>'fourth part title'</li><li>'fourth season title'</li><li>'game box title'</li><li>'Hakka dialect title'</li><li>'IMAX version'</li><li>'incorrect title'</li><li>'informal alternative title'</li><li>'informal English title'</li><li>'informal literal English title'</li><li>'informal literal title'</li><li>'informal short title'</li><li>'informal title'</li><li>'informal title\\002literal title'</li><li>'last season title'</li><li>'LD title'</li><li>'literal English title'</li><li>'literal French title'</li><li>'literal title'</li><li>'literal translation of working title'</li><li>'Locarno film festival title'</li><li>'long new title'</li><li>'long title'</li><li>'longer version'</li><li>'Los Angeles premiÃƒÂ¨re title'</li><li>'Los Angeles premiere title'</li><li>'MIFED title'</li><li>'modern translation'</li><li>'new syndication title'</li><li>'new title'</li><li>'ninth season title'</li><li>'non-modified Hepburn romanization'</li><li>'original pilot title'</li><li>'original script title'</li><li>'original subtitled version'</li><li>'orthographically correct title'</li><li>'Pay-TV title'</li><li>'POLart'</li><li>'POLart\\002video box title'</li><li>'poster title'</li><li>'pre-release title'</li><li>'premiÃƒÂ¨re title'</li><li>'premiere title'</li><li>'promotional abbreviation'</li><li>'promotional title'</li><li>'R-rated version'</li><li>'racier version'</li><li>'recut version'</li><li>'recut version\\002reissue title'</li><li>'redubbed comic version'</li><li>'reissue title'</li><li>'reissue title\\002short version'</li><li>'rerun title'</li><li>'restored version'</li><li>'review title'</li><li>'rumored'</li><li>'second copyright title'</li><li>'second part title'</li><li>'second season title'</li><li>'second segment title'</li><li>'segment title'</li><li>'series title'</li><li>'short title'</li><li>'short version'</li><li>'silent version'</li><li>'soft porn version'</li><li>'subtitle'</li><li>'syndication title'</li><li>'teaser title'</li><li>'theatrical title'</li><li>'third part title'</li><li>'third season title'</li><li>'thirtyfirst season title'</li><li>'trailer title'</li><li>'transliterated title'</li><li>'TV listings title'</li><li>'twentythird season title'</li><li>'unauthorized video title'</li><li>'uncensored intended title'</li><li>'Venice film festival title'</li><li>'video box title'</li><li>'video catalogue title'</li><li>'video CD title'</li><li>'weekend title'</li><li>'X-rated version'</li><li>'Yiddish dubbed'</li><li>'Yiddish dubbed\\002reissue title'</li><li>'YIVO translation'</li><li>'YIVO translation\\002reissue title'</li></ol>\n",
       "</details>"
      ],
      "text/latex": [
       "\\begin{enumerate*}\n",
       "\\item \\textbackslash{}\\textbackslash{}N\n",
       "\\item literal title\n",
       "\\item literal English title\n",
       "\\item informal alternative title\n",
       "\\item promotional title\n",
       "\\item complete title\n",
       "\\item literal translation of working title\n",
       "\\item premiere title\n",
       "\\item informal title\n",
       "\\item short title\n",
       "\\item poster title\n",
       "\\item premiÃƒÂ¨re title\n",
       "\\item bowdlerized title\n",
       "\\item reissue title\n",
       "\\item informal English title\n",
       "\\item alternative spelling\n",
       "\\item original script title\n",
       "\\item informal literal title\n",
       "\\item copyright title\n",
       "\\item long title\n",
       "\\item transliterated title\n",
       "\\item informal short title\n",
       "\\item review title\n",
       "\\item new title\n",
       "\\item subtitle\n",
       "\\item original subtitled version\n",
       "\\item cut version\n",
       "\\item video catalogue title\n",
       "\\item second part title\n",
       "\\item fourth season title\n",
       "\\item third part title\n",
       "\\item fifth season title\n",
       "\\item series title\n",
       "\\item 8mm release title\n",
       "\\item recut version\n",
       "\\item pre-release title\n",
       "\\item theatrical title\n",
       "\\item first part title\n",
       "\\item segment title\n",
       "\\item informal literal English title\n",
       "\\item Los Angeles premiÃƒÂ¨re title\n",
       "\\item DVD box title\n",
       "\\item second copyright title\n",
       "\\item 16mm release title\n",
       "\\item short version\n",
       "\\item video box title\n",
       "\\item rerun title\n",
       "\\item restored version\n",
       "\\item english transliteration\n",
       "\\item recut version\\textbackslash{}002reissue title\n",
       "\\item 8mm release title\\textbackslash{}002short version\n",
       "\\item alternative transliteration\n",
       "\\item anthology series\n",
       "\\item censored version\n",
       "\\item DVD menu title\n",
       "\\item trailer title\n",
       "\\item silent version\n",
       "\\item Berlin film festival title\n",
       "\\item Cannes festival title\n",
       "\\item dubbed version\n",
       "\\item added framing sequences and narration in Yiddish\\textbackslash{}002reissue title\n",
       "\\item bootleg title\n",
       "\\item orthographically correct title\n",
       "\\item Bable dialect title\n",
       "\\item Venice film festival title\n",
       "\\item Yiddish dubbed\\textbackslash{}002reissue title\n",
       "\\item cable TV title\n",
       "\\item uncensored intended title\n",
       "\\item last season title\n",
       "\\item Yiddish dubbed\n",
       "\\item TV listings title\n",
       "\\item YIVO translation\n",
       "\\item modern translation\n",
       "\\item long new title\n",
       "\\item director's cut\n",
       "\\item POLart\\textbackslash{}002video box title\n",
       "\\item POLart\n",
       "\\item cut version\\textbackslash{}002reissue title\n",
       "\\item YIVO translation\\textbackslash{}002reissue title\n",
       "\\item racier version\n",
       "\\item redubbed comic version\n",
       "\\item X-rated version\n",
       "\\item copyright title\\textbackslash{}002reissue title\n",
       "\\item syndication title\n",
       "\\item fake working title\n",
       "\\item closing credits title\n",
       "\\item armed forces circuit title\n",
       "\\item reissue title\\textbackslash{}002short version\n",
       "\\item weekend title\n",
       "\\item longer version\n",
       "\\item Pay-TV title\n",
       "\\item 3-D version\n",
       "\\item MIFED title\n",
       "\\item 3-D video title\n",
       "\\item literal French title\n",
       "\\item expansion title\n",
       "\\item correct transliteration\n",
       "\\item 16mm rental title\n",
       "\\item teaser title\n",
       "\\item first season title\n",
       "\\item video CD title\n",
       "\\item LD title\n",
       "\\item new syndication title\n",
       "\\item soft porn version\n",
       "\\item unauthorized video title\n",
       "\\item promotional abbreviation\n",
       "\\item English translation of working title\n",
       "\\item fourth part title\n",
       "\\item informal title\\textbackslash{}002literal title\n",
       "\\item closing credits title\\textbackslash{}002pre-release title\n",
       "\\item Los Angeles premiere title\n",
       "\\item IMAX version\n",
       "\\item non-modified Hepburn romanization\n",
       "\\item Locarno film festival title\n",
       "\\item ninth season title\n",
       "\\item second season title\n",
       "\\item third season title\n",
       "\\item eighth season title\n",
       "\\item game box title\n",
       "\\item dubbed version\\textbackslash{}002recut version\n",
       "\\item American Mutoscope \\& Biograph catalog title\n",
       "\\item R-rated version\n",
       "\\item original pilot title\n",
       "\\item thirtyfirst season title\n",
       "\\item Hakka dialect title\n",
       "\\item Bilbao festival title\n",
       "\\item first episodes title\n",
       "\\item eighteenth season title\n",
       "\\item first episode title\n",
       "\\item first segment title\n",
       "\\item second segment title\n",
       "\\item twentythird season title\n",
       "\\item incorrect title\n",
       "\\item rumored\n",
       "\\end{enumerate*}\n",
       "\n",
       "\\emph{Levels}: \\begin{enumerate*}\n",
       "\\item '\\textbackslash{}\\textbackslash{}N'\n",
       "\\item '16mm release title'\n",
       "\\item '16mm rental title'\n",
       "\\item '3-D version'\n",
       "\\item '3-D video title'\n",
       "\\item '8mm release title'\n",
       "\\item '8mm release title\\textbackslash{}002short version'\n",
       "\\item 'added framing sequences and narration in Yiddish\\textbackslash{}002reissue title'\n",
       "\\item 'alternative spelling'\n",
       "\\item 'alternative transliteration'\n",
       "\\item 'American Mutoscope \\& Biograph catalog title'\n",
       "\\item 'anthology series'\n",
       "\\item 'armed forces circuit title'\n",
       "\\item 'Bable dialect title'\n",
       "\\item 'Berlin film festival title'\n",
       "\\item 'Bilbao festival title'\n",
       "\\item 'bootleg title'\n",
       "\\item 'bowdlerized title'\n",
       "\\item 'cable TV title'\n",
       "\\item 'Cannes festival title'\n",
       "\\item 'censored version'\n",
       "\\item 'closing credits title'\n",
       "\\item 'closing credits title\\textbackslash{}002pre-release title'\n",
       "\\item 'complete title'\n",
       "\\item 'copyright title'\n",
       "\\item 'copyright title\\textbackslash{}002reissue title'\n",
       "\\item 'correct transliteration'\n",
       "\\item 'cut version'\n",
       "\\item 'cut version\\textbackslash{}002reissue title'\n",
       "\\item 'director\\textbackslash{}'s cut'\n",
       "\\item 'dubbed version'\n",
       "\\item 'dubbed version\\textbackslash{}002recut version'\n",
       "\\item 'DVD box title'\n",
       "\\item 'DVD menu title'\n",
       "\\item 'eighteenth season title'\n",
       "\\item 'eighth season title'\n",
       "\\item 'English translation of working title'\n",
       "\\item 'english transliteration'\n",
       "\\item 'expansion title'\n",
       "\\item 'fake working title'\n",
       "\\item 'fifth season title'\n",
       "\\item 'first episode title'\n",
       "\\item 'first episodes title'\n",
       "\\item 'first part title'\n",
       "\\item 'first season title'\n",
       "\\item 'first segment title'\n",
       "\\item 'fourth part title'\n",
       "\\item 'fourth season title'\n",
       "\\item 'game box title'\n",
       "\\item 'Hakka dialect title'\n",
       "\\item 'IMAX version'\n",
       "\\item 'incorrect title'\n",
       "\\item 'informal alternative title'\n",
       "\\item 'informal English title'\n",
       "\\item 'informal literal English title'\n",
       "\\item 'informal literal title'\n",
       "\\item 'informal short title'\n",
       "\\item 'informal title'\n",
       "\\item 'informal title\\textbackslash{}002literal title'\n",
       "\\item 'last season title'\n",
       "\\item 'LD title'\n",
       "\\item 'literal English title'\n",
       "\\item 'literal French title'\n",
       "\\item 'literal title'\n",
       "\\item 'literal translation of working title'\n",
       "\\item 'Locarno film festival title'\n",
       "\\item 'long new title'\n",
       "\\item 'long title'\n",
       "\\item 'longer version'\n",
       "\\item 'Los Angeles premiÃƒÂ¨re title'\n",
       "\\item 'Los Angeles premiere title'\n",
       "\\item 'MIFED title'\n",
       "\\item 'modern translation'\n",
       "\\item 'new syndication title'\n",
       "\\item 'new title'\n",
       "\\item 'ninth season title'\n",
       "\\item 'non-modified Hepburn romanization'\n",
       "\\item 'original pilot title'\n",
       "\\item 'original script title'\n",
       "\\item 'original subtitled version'\n",
       "\\item 'orthographically correct title'\n",
       "\\item 'Pay-TV title'\n",
       "\\item 'POLart'\n",
       "\\item 'POLart\\textbackslash{}002video box title'\n",
       "\\item 'poster title'\n",
       "\\item 'pre-release title'\n",
       "\\item 'premiÃƒÂ¨re title'\n",
       "\\item 'premiere title'\n",
       "\\item 'promotional abbreviation'\n",
       "\\item 'promotional title'\n",
       "\\item 'R-rated version'\n",
       "\\item 'racier version'\n",
       "\\item 'recut version'\n",
       "\\item 'recut version\\textbackslash{}002reissue title'\n",
       "\\item 'redubbed comic version'\n",
       "\\item 'reissue title'\n",
       "\\item 'reissue title\\textbackslash{}002short version'\n",
       "\\item 'rerun title'\n",
       "\\item 'restored version'\n",
       "\\item 'review title'\n",
       "\\item 'rumored'\n",
       "\\item 'second copyright title'\n",
       "\\item 'second part title'\n",
       "\\item 'second season title'\n",
       "\\item 'second segment title'\n",
       "\\item 'segment title'\n",
       "\\item 'series title'\n",
       "\\item 'short title'\n",
       "\\item 'short version'\n",
       "\\item 'silent version'\n",
       "\\item 'soft porn version'\n",
       "\\item 'subtitle'\n",
       "\\item 'syndication title'\n",
       "\\item 'teaser title'\n",
       "\\item 'theatrical title'\n",
       "\\item 'third part title'\n",
       "\\item 'third season title'\n",
       "\\item 'thirtyfirst season title'\n",
       "\\item 'trailer title'\n",
       "\\item 'transliterated title'\n",
       "\\item 'TV listings title'\n",
       "\\item 'twentythird season title'\n",
       "\\item 'unauthorized video title'\n",
       "\\item 'uncensored intended title'\n",
       "\\item 'Venice film festival title'\n",
       "\\item 'video box title'\n",
       "\\item 'video catalogue title'\n",
       "\\item 'video CD title'\n",
       "\\item 'weekend title'\n",
       "\\item 'X-rated version'\n",
       "\\item 'Yiddish dubbed'\n",
       "\\item 'Yiddish dubbed\\textbackslash{}002reissue title'\n",
       "\\item 'YIVO translation'\n",
       "\\item 'YIVO translation\\textbackslash{}002reissue title'\n",
       "\\end{enumerate*}\n"
      ],
      "text/markdown": [
       "1. \\\\N\n",
       "2. literal title\n",
       "3. literal English title\n",
       "4. informal alternative title\n",
       "5. promotional title\n",
       "6. complete title\n",
       "7. literal translation of working title\n",
       "8. premiere title\n",
       "9. informal title\n",
       "10. short title\n",
       "11. poster title\n",
       "12. premiÃƒÂ¨re title\n",
       "13. bowdlerized title\n",
       "14. reissue title\n",
       "15. informal English title\n",
       "16. alternative spelling\n",
       "17. original script title\n",
       "18. informal literal title\n",
       "19. copyright title\n",
       "20. long title\n",
       "21. transliterated title\n",
       "22. informal short title\n",
       "23. review title\n",
       "24. new title\n",
       "25. subtitle\n",
       "26. original subtitled version\n",
       "27. cut version\n",
       "28. video catalogue title\n",
       "29. second part title\n",
       "30. fourth season title\n",
       "31. third part title\n",
       "32. fifth season title\n",
       "33. series title\n",
       "34. 8mm release title\n",
       "35. recut version\n",
       "36. pre-release title\n",
       "37. theatrical title\n",
       "38. first part title\n",
       "39. segment title\n",
       "40. informal literal English title\n",
       "41. Los Angeles premiÃƒÂ¨re title\n",
       "42. DVD box title\n",
       "43. second copyright title\n",
       "44. 16mm release title\n",
       "45. short version\n",
       "46. video box title\n",
       "47. rerun title\n",
       "48. restored version\n",
       "49. english transliteration\n",
       "50. recut version\\002reissue title\n",
       "51. 8mm release title\\002short version\n",
       "52. alternative transliteration\n",
       "53. anthology series\n",
       "54. censored version\n",
       "55. DVD menu title\n",
       "56. trailer title\n",
       "57. silent version\n",
       "58. Berlin film festival title\n",
       "59. Cannes festival title\n",
       "60. dubbed version\n",
       "61. added framing sequences and narration in Yiddish\\002reissue title\n",
       "62. bootleg title\n",
       "63. orthographically correct title\n",
       "64. Bable dialect title\n",
       "65. Venice film festival title\n",
       "66. Yiddish dubbed\\002reissue title\n",
       "67. cable TV title\n",
       "68. uncensored intended title\n",
       "69. last season title\n",
       "70. Yiddish dubbed\n",
       "71. TV listings title\n",
       "72. YIVO translation\n",
       "73. modern translation\n",
       "74. long new title\n",
       "75. director's cut\n",
       "76. POLart\\002video box title\n",
       "77. POLart\n",
       "78. cut version\\002reissue title\n",
       "79. YIVO translation\\002reissue title\n",
       "80. racier version\n",
       "81. redubbed comic version\n",
       "82. X-rated version\n",
       "83. copyright title\\002reissue title\n",
       "84. syndication title\n",
       "85. fake working title\n",
       "86. closing credits title\n",
       "87. armed forces circuit title\n",
       "88. reissue title\\002short version\n",
       "89. weekend title\n",
       "90. longer version\n",
       "91. Pay-TV title\n",
       "92. 3-D version\n",
       "93. MIFED title\n",
       "94. 3-D video title\n",
       "95. literal French title\n",
       "96. expansion title\n",
       "97. correct transliteration\n",
       "98. 16mm rental title\n",
       "99. teaser title\n",
       "100. first season title\n",
       "101. video CD title\n",
       "102. LD title\n",
       "103. new syndication title\n",
       "104. soft porn version\n",
       "105. unauthorized video title\n",
       "106. promotional abbreviation\n",
       "107. English translation of working title\n",
       "108. fourth part title\n",
       "109. informal title\\002literal title\n",
       "110. closing credits title\\002pre-release title\n",
       "111. Los Angeles premiere title\n",
       "112. IMAX version\n",
       "113. non-modified Hepburn romanization\n",
       "114. Locarno film festival title\n",
       "115. ninth season title\n",
       "116. second season title\n",
       "117. third season title\n",
       "118. eighth season title\n",
       "119. game box title\n",
       "120. dubbed version\\002recut version\n",
       "121. American Mutoscope &amp; Biograph catalog title\n",
       "122. R-rated version\n",
       "123. original pilot title\n",
       "124. thirtyfirst season title\n",
       "125. Hakka dialect title\n",
       "126. Bilbao festival title\n",
       "127. first episodes title\n",
       "128. eighteenth season title\n",
       "129. first episode title\n",
       "130. first segment title\n",
       "131. second segment title\n",
       "132. twentythird season title\n",
       "133. incorrect title\n",
       "134. rumored\n",
       "\n",
       "\n",
       "\n",
       "**Levels**: 1. '\\\\N'\n",
       "2. '16mm release title'\n",
       "3. '16mm rental title'\n",
       "4. '3-D version'\n",
       "5. '3-D video title'\n",
       "6. '8mm release title'\n",
       "7. '8mm release title\\002short version'\n",
       "8. 'added framing sequences and narration in Yiddish\\002reissue title'\n",
       "9. 'alternative spelling'\n",
       "10. 'alternative transliteration'\n",
       "11. 'American Mutoscope &amp; Biograph catalog title'\n",
       "12. 'anthology series'\n",
       "13. 'armed forces circuit title'\n",
       "14. 'Bable dialect title'\n",
       "15. 'Berlin film festival title'\n",
       "16. 'Bilbao festival title'\n",
       "17. 'bootleg title'\n",
       "18. 'bowdlerized title'\n",
       "19. 'cable TV title'\n",
       "20. 'Cannes festival title'\n",
       "21. 'censored version'\n",
       "22. 'closing credits title'\n",
       "23. 'closing credits title\\002pre-release title'\n",
       "24. 'complete title'\n",
       "25. 'copyright title'\n",
       "26. 'copyright title\\002reissue title'\n",
       "27. 'correct transliteration'\n",
       "28. 'cut version'\n",
       "29. 'cut version\\002reissue title'\n",
       "30. 'director\\'s cut'\n",
       "31. 'dubbed version'\n",
       "32. 'dubbed version\\002recut version'\n",
       "33. 'DVD box title'\n",
       "34. 'DVD menu title'\n",
       "35. 'eighteenth season title'\n",
       "36. 'eighth season title'\n",
       "37. 'English translation of working title'\n",
       "38. 'english transliteration'\n",
       "39. 'expansion title'\n",
       "40. 'fake working title'\n",
       "41. 'fifth season title'\n",
       "42. 'first episode title'\n",
       "43. 'first episodes title'\n",
       "44. 'first part title'\n",
       "45. 'first season title'\n",
       "46. 'first segment title'\n",
       "47. 'fourth part title'\n",
       "48. 'fourth season title'\n",
       "49. 'game box title'\n",
       "50. 'Hakka dialect title'\n",
       "51. 'IMAX version'\n",
       "52. 'incorrect title'\n",
       "53. 'informal alternative title'\n",
       "54. 'informal English title'\n",
       "55. 'informal literal English title'\n",
       "56. 'informal literal title'\n",
       "57. 'informal short title'\n",
       "58. 'informal title'\n",
       "59. 'informal title\\002literal title'\n",
       "60. 'last season title'\n",
       "61. 'LD title'\n",
       "62. 'literal English title'\n",
       "63. 'literal French title'\n",
       "64. 'literal title'\n",
       "65. 'literal translation of working title'\n",
       "66. 'Locarno film festival title'\n",
       "67. 'long new title'\n",
       "68. 'long title'\n",
       "69. 'longer version'\n",
       "70. 'Los Angeles premiÃƒÂ¨re title'\n",
       "71. 'Los Angeles premiere title'\n",
       "72. 'MIFED title'\n",
       "73. 'modern translation'\n",
       "74. 'new syndication title'\n",
       "75. 'new title'\n",
       "76. 'ninth season title'\n",
       "77. 'non-modified Hepburn romanization'\n",
       "78. 'original pilot title'\n",
       "79. 'original script title'\n",
       "80. 'original subtitled version'\n",
       "81. 'orthographically correct title'\n",
       "82. 'Pay-TV title'\n",
       "83. 'POLart'\n",
       "84. 'POLart\\002video box title'\n",
       "85. 'poster title'\n",
       "86. 'pre-release title'\n",
       "87. 'premiÃƒÂ¨re title'\n",
       "88. 'premiere title'\n",
       "89. 'promotional abbreviation'\n",
       "90. 'promotional title'\n",
       "91. 'R-rated version'\n",
       "92. 'racier version'\n",
       "93. 'recut version'\n",
       "94. 'recut version\\002reissue title'\n",
       "95. 'redubbed comic version'\n",
       "96. 'reissue title'\n",
       "97. 'reissue title\\002short version'\n",
       "98. 'rerun title'\n",
       "99. 'restored version'\n",
       "100. 'review title'\n",
       "101. 'rumored'\n",
       "102. 'second copyright title'\n",
       "103. 'second part title'\n",
       "104. 'second season title'\n",
       "105. 'second segment title'\n",
       "106. 'segment title'\n",
       "107. 'series title'\n",
       "108. 'short title'\n",
       "109. 'short version'\n",
       "110. 'silent version'\n",
       "111. 'soft porn version'\n",
       "112. 'subtitle'\n",
       "113. 'syndication title'\n",
       "114. 'teaser title'\n",
       "115. 'theatrical title'\n",
       "116. 'third part title'\n",
       "117. 'third season title'\n",
       "118. 'thirtyfirst season title'\n",
       "119. 'trailer title'\n",
       "120. 'transliterated title'\n",
       "121. 'TV listings title'\n",
       "122. 'twentythird season title'\n",
       "123. 'unauthorized video title'\n",
       "124. 'uncensored intended title'\n",
       "125. 'Venice film festival title'\n",
       "126. 'video box title'\n",
       "127. 'video catalogue title'\n",
       "128. 'video CD title'\n",
       "129. 'weekend title'\n",
       "130. 'X-rated version'\n",
       "131. 'Yiddish dubbed'\n",
       "132. 'Yiddish dubbed\\002reissue title'\n",
       "133. 'YIVO translation'\n",
       "134. 'YIVO translation\\002reissue title'\n",
       "\n",
       "\n"
      ],
      "text/plain": [
       "  [1] \\\\N                                                              \n",
       "  [2] literal title                                                    \n",
       "  [3] literal English title                                            \n",
       "  [4] informal alternative title                                       \n",
       "  [5] promotional title                                                \n",
       "  [6] complete title                                                   \n",
       "  [7] literal translation of working title                             \n",
       "  [8] premiere title                                                   \n",
       "  [9] informal title                                                   \n",
       " [10] short title                                                      \n",
       " [11] poster title                                                     \n",
       " [12] premiÃƒÂ¨re title                                                \n",
       " [13] bowdlerized title                                                \n",
       " [14] reissue title                                                    \n",
       " [15] informal English title                                           \n",
       " [16] alternative spelling                                             \n",
       " [17] original script title                                            \n",
       " [18] informal literal title                                           \n",
       " [19] copyright title                                                  \n",
       " [20] long title                                                       \n",
       " [21] transliterated title                                             \n",
       " [22] informal short title                                             \n",
       " [23] review title                                                     \n",
       " [24] new title                                                        \n",
       " [25] subtitle                                                         \n",
       " [26] original subtitled version                                       \n",
       " [27] cut version                                                      \n",
       " [28] video catalogue title                                            \n",
       " [29] second part title                                                \n",
       " [30] fourth season title                                              \n",
       " [31] third part title                                                 \n",
       " [32] fifth season title                                               \n",
       " [33] series title                                                     \n",
       " [34] 8mm release title                                                \n",
       " [35] recut version                                                    \n",
       " [36] pre-release title                                                \n",
       " [37] theatrical title                                                 \n",
       " [38] first part title                                                 \n",
       " [39] segment title                                                    \n",
       " [40] informal literal English title                                   \n",
       " [41] Los Angeles premiÃƒÂ¨re title                                    \n",
       " [42] DVD box title                                                    \n",
       " [43] second copyright title                                           \n",
       " [44] 16mm release title                                               \n",
       " [45] short version                                                    \n",
       " [46] video box title                                                  \n",
       " [47] rerun title                                                      \n",
       " [48] restored version                                                 \n",
       " [49] english transliteration                                          \n",
       " [50] recut version\\002reissue title                                   \n",
       " [51] 8mm release title\\002short version                               \n",
       " [52] alternative transliteration                                      \n",
       " [53] anthology series                                                 \n",
       " [54] censored version                                                 \n",
       " [55] DVD menu title                                                   \n",
       " [56] trailer title                                                    \n",
       " [57] silent version                                                   \n",
       " [58] Berlin film festival title                                       \n",
       " [59] Cannes festival title                                            \n",
       " [60] dubbed version                                                   \n",
       " [61] added framing sequences and narration in Yiddish\\002reissue title\n",
       " [62] bootleg title                                                    \n",
       " [63] orthographically correct title                                   \n",
       " [64] Bable dialect title                                              \n",
       " [65] Venice film festival title                                       \n",
       " [66] Yiddish dubbed\\002reissue title                                  \n",
       " [67] cable TV title                                                   \n",
       " [68] uncensored intended title                                        \n",
       " [69] last season title                                                \n",
       " [70] Yiddish dubbed                                                   \n",
       " [71] TV listings title                                                \n",
       " [72] YIVO translation                                                 \n",
       " [73] modern translation                                               \n",
       " [74] long new title                                                   \n",
       " [75] director's cut                                                   \n",
       " [76] POLart\\002video box title                                        \n",
       " [77] POLart                                                           \n",
       " [78] cut version\\002reissue title                                     \n",
       " [79] YIVO translation\\002reissue title                                \n",
       " [80] racier version                                                   \n",
       " [81] redubbed comic version                                           \n",
       " [82] X-rated version                                                  \n",
       " [83] copyright title\\002reissue title                                 \n",
       " [84] syndication title                                                \n",
       " [85] fake working title                                               \n",
       " [86] closing credits title                                            \n",
       " [87] armed forces circuit title                                       \n",
       " [88] reissue title\\002short version                                   \n",
       " [89] weekend title                                                    \n",
       " [90] longer version                                                   \n",
       " [91] Pay-TV title                                                     \n",
       " [92] 3-D version                                                      \n",
       " [93] MIFED title                                                      \n",
       " [94] 3-D video title                                                  \n",
       " [95] literal French title                                             \n",
       " [96] expansion title                                                  \n",
       " [97] correct transliteration                                          \n",
       " [98] 16mm rental title                                                \n",
       " [99] teaser title                                                     \n",
       "[100] first season title                                               \n",
       "[101] video CD title                                                   \n",
       "[102] LD title                                                         \n",
       "[103] new syndication title                                            \n",
       "[104] soft porn version                                                \n",
       "[105] unauthorized video title                                         \n",
       "[106] promotional abbreviation                                         \n",
       "[107] English translation of working title                             \n",
       "[108] fourth part title                                                \n",
       "[109] informal title\\002literal title                                  \n",
       "[110] closing credits title\\002pre-release title                       \n",
       "[111] Los Angeles premiere title                                       \n",
       "[112] IMAX version                                                     \n",
       "[113] non-modified Hepburn romanization                                \n",
       "[114] Locarno film festival title                                      \n",
       "[115] ninth season title                                               \n",
       "[116] second season title                                              \n",
       "[117] third season title                                               \n",
       "[118] eighth season title                                              \n",
       "[119] game box title                                                   \n",
       "[120] dubbed version\\002recut version                                  \n",
       "[121] American Mutoscope & Biograph catalog title                      \n",
       "[122] R-rated version                                                  \n",
       "[123] original pilot title                                             \n",
       "[124] thirtyfirst season title                                         \n",
       "[125] Hakka dialect title                                              \n",
       "[126] Bilbao festival title                                            \n",
       "[127] first episodes title                                             \n",
       "[128] eighteenth season title                                          \n",
       "[129] first episode title                                              \n",
       "[130] first segment title                                              \n",
       "[131] second segment title                                             \n",
       "[132] twentythird season title                                         \n",
       "[133] incorrect title                                                  \n",
       "[134] rumored                                                          \n",
       "134 Levels: \\\\N 16mm release title 16mm rental title ... YIVO translation\\002reissue title"
      ]
     },
     "metadata": {},
     "output_type": "display_data"
    }
   ],
   "source": [
    "unique(title_akas$attributes)"
   ]
  },
  {
   "cell_type": "code",
   "execution_count": 26,
   "metadata": {},
   "outputs": [
    {
     "data": {
      "text/html": [
       "0.950926299897648"
      ],
      "text/latex": [
       "0.950926299897648"
      ],
      "text/markdown": [
       "0.950926299897648"
      ],
      "text/plain": [
       "[1] 0.9509263"
      ]
     },
     "metadata": {},
     "output_type": "display_data"
    }
   ],
   "source": [
    "nrow(title_akas[title_akas$attributes==\"\\\\N\",])/nrow(title_akas)"
   ]
  },
  {
   "cell_type": "markdown",
   "metadata": {},
   "source": [
    "* attributes feature has most of its values as NA and would be very complicated to handle (has a lot of levels and some of them are comibned in a string).\n",
    "* It's a useless feature."
   ]
  },
  {
   "cell_type": "code",
   "execution_count": 139,
   "metadata": {},
   "outputs": [],
   "source": [
    "ta_clean$attributes = NULL"
   ]
  },
  {
   "cell_type": "markdown",
   "metadata": {},
   "source": [
    " "
   ]
  },
  {
   "cell_type": "markdown",
   "metadata": {},
   "source": [
    "### title (string) – the localized title"
   ]
  },
  {
   "cell_type": "code",
   "execution_count": 28,
   "metadata": {},
   "outputs": [
    {
     "name": "stdout",
     "output_type": "stream",
     "text": [
      " Factor w/ 1515054 levels \"''Nightside''\",..: 112527 328315 328316 246632 112528 328315 328315 70229 809316 19935 ...\n"
     ]
    }
   ],
   "source": [
    "str(title_akas$title)"
   ]
  },
  {
   "cell_type": "markdown",
   "metadata": {},
   "source": [
    "* tilte does not add information from region and language features say\n",
    "* too many levels\n",
    "* problems reading different language titles"
   ]
  },
  {
   "cell_type": "code",
   "execution_count": 140,
   "metadata": {},
   "outputs": [],
   "source": [
    "ta_clean$title = NULL"
   ]
  },
  {
   "cell_type": "markdown",
   "metadata": {},
   "source": [
    " "
   ]
  },
  {
   "cell_type": "markdown",
   "metadata": {},
   "source": [
    "### types (array) - Enumerated set of attributes for this alternative title"
   ]
  },
  {
   "cell_type": "code",
   "execution_count": 89,
   "metadata": {},
   "outputs": [
    {
     "name": "stdout",
     "output_type": "stream",
     "text": [
      " Factor w/ 23 levels \"\\\\N\",\"alternative\",..: 13 1 13 13 13 1 17 13 17 13 ...\n"
     ]
    }
   ],
   "source": [
    "str(title_akas$types)"
   ]
  },
  {
   "cell_type": "code",
   "execution_count": 90,
   "metadata": {},
   "outputs": [
    {
     "data": {
      "text/html": [
       "<style>\n",
       ".list-inline {list-style: none; margin:0; padding: 0}\n",
       ".list-inline>li {display: inline-block}\n",
       ".list-inline>li:not(:last-child)::after {content: \"\\00b7\"; padding: 0 .5ex}\n",
       "</style>\n",
       "<ol class=list-inline><li>imdbDisplay</li><li>\\\\N</li><li>original</li><li>alternative</li><li>dvd</li><li>festival</li><li>working</li><li>tv</li><li>video</li><li>imdbDisplay\\002tv</li><li>alternative\\002tv</li><li>imdbDisplay\\002working</li><li>festival\\002imdbDisplay</li><li>tv\\002working</li><li>imdbDisplay\\002video</li><li>alternative\\002dvd</li><li>tv\\002video</li><li>dvd\\002imdbDisplay</li><li>alternative\\002working</li><li>video\\002working</li><li>alternative\\002video</li><li>festival\\002working</li><li>dvd\\002video</li></ol>\n",
       "\n",
       "<details>\n",
       "\t<summary style=display:list-item;cursor:pointer>\n",
       "\t\t<strong>Levels</strong>:\n",
       "\t</summary>\n",
       "\t<style>\n",
       "\t.list-inline {list-style: none; margin:0; padding: 0}\n",
       "\t.list-inline>li {display: inline-block}\n",
       "\t.list-inline>li:not(:last-child)::after {content: \"\\00b7\"; padding: 0 .5ex}\n",
       "\t</style>\n",
       "\t<ol class=list-inline><li>'\\\\N'</li><li>'alternative'</li><li>'alternative\\002dvd'</li><li>'alternative\\002tv'</li><li>'alternative\\002video'</li><li>'alternative\\002working'</li><li>'dvd'</li><li>'dvd\\002imdbDisplay'</li><li>'dvd\\002video'</li><li>'festival'</li><li>'festival\\002imdbDisplay'</li><li>'festival\\002working'</li><li>'imdbDisplay'</li><li>'imdbDisplay\\002tv'</li><li>'imdbDisplay\\002video'</li><li>'imdbDisplay\\002working'</li><li>'original'</li><li>'tv'</li><li>'tv\\002video'</li><li>'tv\\002working'</li><li>'video'</li><li>'video\\002working'</li><li>'working'</li></ol>\n",
       "</details>"
      ],
      "text/latex": [
       "\\begin{enumerate*}\n",
       "\\item imdbDisplay\n",
       "\\item \\textbackslash{}\\textbackslash{}N\n",
       "\\item original\n",
       "\\item alternative\n",
       "\\item dvd\n",
       "\\item festival\n",
       "\\item working\n",
       "\\item tv\n",
       "\\item video\n",
       "\\item imdbDisplay\\textbackslash{}002tv\n",
       "\\item alternative\\textbackslash{}002tv\n",
       "\\item imdbDisplay\\textbackslash{}002working\n",
       "\\item festival\\textbackslash{}002imdbDisplay\n",
       "\\item tv\\textbackslash{}002working\n",
       "\\item imdbDisplay\\textbackslash{}002video\n",
       "\\item alternative\\textbackslash{}002dvd\n",
       "\\item tv\\textbackslash{}002video\n",
       "\\item dvd\\textbackslash{}002imdbDisplay\n",
       "\\item alternative\\textbackslash{}002working\n",
       "\\item video\\textbackslash{}002working\n",
       "\\item alternative\\textbackslash{}002video\n",
       "\\item festival\\textbackslash{}002working\n",
       "\\item dvd\\textbackslash{}002video\n",
       "\\end{enumerate*}\n",
       "\n",
       "\\emph{Levels}: \\begin{enumerate*}\n",
       "\\item '\\textbackslash{}\\textbackslash{}N'\n",
       "\\item 'alternative'\n",
       "\\item 'alternative\\textbackslash{}002dvd'\n",
       "\\item 'alternative\\textbackslash{}002tv'\n",
       "\\item 'alternative\\textbackslash{}002video'\n",
       "\\item 'alternative\\textbackslash{}002working'\n",
       "\\item 'dvd'\n",
       "\\item 'dvd\\textbackslash{}002imdbDisplay'\n",
       "\\item 'dvd\\textbackslash{}002video'\n",
       "\\item 'festival'\n",
       "\\item 'festival\\textbackslash{}002imdbDisplay'\n",
       "\\item 'festival\\textbackslash{}002working'\n",
       "\\item 'imdbDisplay'\n",
       "\\item 'imdbDisplay\\textbackslash{}002tv'\n",
       "\\item 'imdbDisplay\\textbackslash{}002video'\n",
       "\\item 'imdbDisplay\\textbackslash{}002working'\n",
       "\\item 'original'\n",
       "\\item 'tv'\n",
       "\\item 'tv\\textbackslash{}002video'\n",
       "\\item 'tv\\textbackslash{}002working'\n",
       "\\item 'video'\n",
       "\\item 'video\\textbackslash{}002working'\n",
       "\\item 'working'\n",
       "\\end{enumerate*}\n"
      ],
      "text/markdown": [
       "1. imdbDisplay\n",
       "2. \\\\N\n",
       "3. original\n",
       "4. alternative\n",
       "5. dvd\n",
       "6. festival\n",
       "7. working\n",
       "8. tv\n",
       "9. video\n",
       "10. imdbDisplay\\002tv\n",
       "11. alternative\\002tv\n",
       "12. imdbDisplay\\002working\n",
       "13. festival\\002imdbDisplay\n",
       "14. tv\\002working\n",
       "15. imdbDisplay\\002video\n",
       "16. alternative\\002dvd\n",
       "17. tv\\002video\n",
       "18. dvd\\002imdbDisplay\n",
       "19. alternative\\002working\n",
       "20. video\\002working\n",
       "21. alternative\\002video\n",
       "22. festival\\002working\n",
       "23. dvd\\002video\n",
       "\n",
       "\n",
       "\n",
       "**Levels**: 1. '\\\\N'\n",
       "2. 'alternative'\n",
       "3. 'alternative\\002dvd'\n",
       "4. 'alternative\\002tv'\n",
       "5. 'alternative\\002video'\n",
       "6. 'alternative\\002working'\n",
       "7. 'dvd'\n",
       "8. 'dvd\\002imdbDisplay'\n",
       "9. 'dvd\\002video'\n",
       "10. 'festival'\n",
       "11. 'festival\\002imdbDisplay'\n",
       "12. 'festival\\002working'\n",
       "13. 'imdbDisplay'\n",
       "14. 'imdbDisplay\\002tv'\n",
       "15. 'imdbDisplay\\002video'\n",
       "16. 'imdbDisplay\\002working'\n",
       "17. 'original'\n",
       "18. 'tv'\n",
       "19. 'tv\\002video'\n",
       "20. 'tv\\002working'\n",
       "21. 'video'\n",
       "22. 'video\\002working'\n",
       "23. 'working'\n",
       "\n",
       "\n"
      ],
      "text/plain": [
       " [1] imdbDisplay             \\\\N                     original               \n",
       " [4] alternative             dvd                     festival               \n",
       " [7] working                 tv                      video                  \n",
       "[10] imdbDisplay\\002tv       alternative\\002tv       imdbDisplay\\002working \n",
       "[13] festival\\002imdbDisplay tv\\002working           imdbDisplay\\002video   \n",
       "[16] alternative\\002dvd      tv\\002video             dvd\\002imdbDisplay     \n",
       "[19] alternative\\002working  video\\002working        alternative\\002video   \n",
       "[22] festival\\002working     dvd\\002video           \n",
       "23 Levels: \\\\N alternative alternative\\002dvd ... working"
      ]
     },
     "metadata": {},
     "output_type": "display_data"
    }
   ],
   "source": [
    "unique(title_akas$types)"
   ]
  },
  {
   "cell_type": "code",
   "execution_count": 91,
   "metadata": {},
   "outputs": [
    {
     "data": {
      "text/html": [
       "0.523503155358139"
      ],
      "text/latex": [
       "0.523503155358139"
      ],
      "text/markdown": [
       "0.523503155358139"
      ],
      "text/plain": [
       "[1] 0.5235032"
      ]
     },
     "metadata": {},
     "output_type": "display_data"
    }
   ],
   "source": [
    "nrow(title_akas[title_akas$types==\"\\\\N\",])/nrow(title_akas)"
   ]
  },
  {
   "cell_type": "code",
   "execution_count": 63,
   "metadata": {},
   "outputs": [
    {
     "data": {
      "image/png": "[encoded data removed]",
      "text/plain": [
       "plot without title"
      ]
     },
     "metadata": {
      "image/png": {
       "height": 420,
       "width": 420
      }
     },
     "output_type": "display_data"
    },
    {
     "data": {
      "image/png": "[encoded data removed]",
      "text/plain": [
       "plot without title"
      ]
     },
     "metadata": {
      "image/png": {
       "height": 420,
       "width": 420
      }
     },
     "output_type": "display_data"
    }
   ],
   "source": [
    "ggplot(title_akas, aes(x=types)) + geom_bar()\n",
    "ggplot(title_akas[title_akas$types!=\"\\\\N\",], aes(x=types)) + geom_bar()"
   ]
  },
  {
   "cell_type": "code",
   "execution_count": 55,
   "metadata": {},
   "outputs": [],
   "source": [
    "single_types = c(\"imdbDisplay\", \"original\", \"alternative\", \"dvd\", \"festival\", \"working\", \"tv\", \"video\")\n",
    "single_types_subset = title_akas[title_akas$types %in% single_types,]\n",
    "couple_types_subset = title_akas[!title_akas$types %in% single_types,]"
   ]
  },
  {
   "cell_type": "code",
   "execution_count": 64,
   "metadata": {},
   "outputs": [
    {
     "data": {
      "image/png": "[encoded data removed]",
      "text/plain": [
       "plot without title"
      ]
     },
     "metadata": {
      "image/png": {
       "height": 420,
       "width": 420
      }
     },
     "output_type": "display_data"
    },
    {
     "data": {
      "image/png": "[encoded data removed]",
      "text/plain": [
       "plot without title"
      ]
     },
     "metadata": {
      "image/png": {
       "height": 420,
       "width": 420
      }
     },
     "output_type": "display_data"
    }
   ],
   "source": [
    "ggplot(single_types_subset, aes(x=types)) + geom_bar()\n",
    "#ggplot(couple_types_subset, aes(x=types)) + geom_bar()\n",
    "ggplot(couple_types_subset[couple_types_subset$types!=\"\\\\N\",], aes(x=types)) + geom_bar()"
   ]
  },
  {
   "cell_type": "code",
   "execution_count": 67,
   "metadata": {},
   "outputs": [
    {
     "data": {
      "text/html": [
       "8662"
      ],
      "text/latex": [
       "8662"
      ],
      "text/markdown": [
       "8662"
      ],
      "text/plain": [
       "[1] 8662"
      ]
     },
     "metadata": {},
     "output_type": "display_data"
    },
    {
     "data": {
      "text/html": [
       "1157770"
      ],
      "text/latex": [
       "1157770"
      ],
      "text/markdown": [
       "1157770"
      ],
      "text/plain": [
       "[1] 1157770"
      ]
     },
     "metadata": {},
     "output_type": "display_data"
    }
   ],
   "source": [
    "nrow(title_akas[title_akas$types==\"festival\",])\n",
    "nrow(couple_types_subset) # these are too many to be deleted"
   ]
  },
  {
   "cell_type": "markdown",
   "metadata": {},
   "source": [
    "* has half of missing values, to many to perform imputation of values\n",
    "* the categories are at most a combination of 2, so a possible way to deal with this is to create 2 new columns\n",
    "* single unique categories - imdbDisplay, original, alternative, dvd, festival, working, tv, video\n",
    "* since half of the lines are missing values (1 157 466 lines), plus the work to separate the categories into 2 columns, this feature is giving me too much work, so is going to be removed"
   ]
  },
  {
   "cell_type": "code",
   "execution_count": 121,
   "metadata": {},
   "outputs": [],
   "source": [
    "# remove NA\n",
    "#ta_clean = ta_clean[ta_clean$types!=\"\\\\N\",]\n",
    "#ta_clean$types = factor(ta_clean$types)\n",
    "#levels(ta_clean$types)"
   ]
  },
  {
   "cell_type": "code",
   "execution_count": 142,
   "metadata": {},
   "outputs": [],
   "source": [
    "ta_clean$types = NULL"
   ]
  },
  {
   "cell_type": "markdown",
   "metadata": {},
   "source": [
    " "
   ]
  },
  {
   "cell_type": "markdown",
   "metadata": {},
   "source": [
    "### region (string) - the region for this version of the title"
   ]
  },
  {
   "cell_type": "code",
   "execution_count": 143,
   "metadata": {},
   "outputs": [
    {
     "name": "stdout",
     "output_type": "stream",
     "text": [
      " Factor w/ 236 levels \"\\\\N\",\"AD\",\"AE\",..: 207 55 94 85 175 209 1 107 1 94 ...\n"
     ]
    }
   ],
   "source": [
    "str(ta_clean$region)"
   ]
  },
  {
   "cell_type": "code",
   "execution_count": 144,
   "metadata": {},
   "outputs": [
    {
     "data": {
      "text/html": [
       "<style>\n",
       ".list-inline {list-style: none; margin:0; padding: 0}\n",
       ".list-inline>li {display: inline-block}\n",
       ".list-inline>li:not(:last-child)::after {content: \"\\00b7\"; padding: 0 .5ex}\n",
       "</style>\n",
       "<ol class=list-inline><li>'\\\\N'</li><li>'AD'</li><li>'AE'</li><li>'AF'</li><li>'AG'</li><li>'AL'</li><li>'AM'</li><li>'AN'</li><li>'AO'</li><li>'AQ'</li><li>'AR'</li><li>'AS'</li><li>'AT'</li><li>'AU'</li><li>'AW'</li><li>'AZ'</li><li>'BA'</li><li>'BB'</li><li>'BD'</li><li>'BE'</li><li>'BF'</li><li>'BG'</li><li>'BH'</li><li>'BI'</li><li>'BJ'</li><li>'BM'</li><li>'BN'</li><li>'BO'</li><li>'BR'</li><li>'BS'</li><li>'BT'</li><li>'BUMM'</li><li>'BW'</li><li>'BY'</li><li>'BZ'</li><li>'CA'</li><li>'CD'</li><li>'CF'</li><li>'CG'</li><li>'CH'</li><li>'CI'</li><li>'CK'</li><li>'CL'</li><li>'CM'</li><li>'CN'</li><li>'CO'</li><li>'CR'</li><li>'CSHH'</li><li>'CSXX'</li><li>'CU'</li><li>'CV'</li><li>'CY'</li><li>'CZ'</li><li>'DDDE'</li><li>'DE'</li><li>'DJ'</li><li>'DK'</li><li>'DM'</li><li>'DO'</li><li>'DZ'</li><li>'EC'</li><li>'EE'</li><li>'EG'</li><li>'EH'</li><li>'ER'</li><li>'ES'</li><li>'ET'</li><li>'FI'</li><li>'FJ'</li><li>'FM'</li><li>'FO'</li><li>'FR'</li><li>'GA'</li><li>'GB'</li><li>'GD'</li><li>'GE'</li><li>'GF'</li><li>'GH'</li><li>'GI'</li><li>'GL'</li><li>'GM'</li><li>'GN'</li><li>'GP'</li><li>'GQ'</li><li>'GR'</li><li>'GT'</li><li>'GU'</li><li>'GW'</li><li>'GY'</li><li>'HK'</li><li>'HN'</li><li>'HR'</li><li>'HT'</li><li>'HU'</li><li>'ID'</li><li>'IE'</li><li>'IL'</li><li>'IM'</li><li>'IN'</li><li>'IQ'</li><li>'IR'</li><li>'IS'</li><li>'IT'</li><li>'JE'</li><li>'JM'</li><li>'JO'</li><li>'JP'</li><li>'KE'</li><li>'KG'</li><li>'KH'</li><li>'KM'</li><li>'KN'</li><li>'KP'</li><li>'KR'</li><li>'KW'</li><li>'KY'</li><li>'KZ'</li><li>'LA'</li><li>'LB'</li><li>'LC'</li><li>'LI'</li><li>'LK'</li><li>'LR'</li><li>'LS'</li><li>'LT'</li><li>'LU'</li><li>'LV'</li><li>'LY'</li><li>'MA'</li><li>'MC'</li><li>'MD'</li><li>'ME'</li><li>'MG'</li><li>'MH'</li><li>'MK'</li><li>'ML'</li><li>'MM'</li><li>'MN'</li><li>'MO'</li><li>'MP'</li><li>'MQ'</li><li>'MR'</li><li>'MT'</li><li>'MU'</li><li>'MV'</li><li>'MW'</li><li>'MX'</li><li>'MY'</li><li>'MZ'</li><li>'NC'</li><li>'NE'</li><li>'NG'</li><li>'NI'</li><li>'NL'</li><li>'NO'</li><li>'NP'</li><li>'NU'</li><li>'NZ'</li><li>'OM'</li><li>'PA'</li><li>'PE'</li><li>'PF'</li><li>'PG'</li><li>'PH'</li><li>'PK'</li><li>'PL'</li><li>'PR'</li><li>'PS'</li><li>'PT'</li><li>'PY'</li><li>'QA'</li><li>'RE'</li><li>'RO'</li><li>'RS'</li><li>'RU'</li><li>'RW'</li><li>'SA'</li><li>'SC'</li><li>'SD'</li><li>'SE'</li><li>'SG'</li><li>'SI'</li><li>'SK'</li><li>'SL'</li><li>'SM'</li><li>'SN'</li><li>'SO'</li><li>'SR'</li><li>'ST'</li><li>'SUHH'</li><li>'SV'</li><li>'SY'</li><li>'SZ'</li><li>'TD'</li><li>'TG'</li><li>'TH'</li><li>'TJ'</li><li>'TL'</li><li>'TM'</li><li>'TN'</li><li>'TO'</li><li>'TR'</li><li>'TT'</li><li>'TV'</li><li>'TW'</li><li>'TZ'</li><li>'UA'</li><li>'UG'</li><li>'US'</li><li>'UY'</li><li>'UZ'</li><li>'VA'</li><li>'VC'</li><li>'VDVN'</li><li>'VE'</li><li>'VI'</li><li>'VN'</li><li>'VU'</li><li>'WS'</li><li>'XAS'</li><li>'XEU'</li><li>'XKO'</li><li>'XKV'</li><li>'XNA'</li><li>'XPI'</li><li>'XSA'</li><li>'XSI'</li><li>'XWG'</li><li>'XWW'</li><li>'XYU'</li><li>'YE'</li><li>'YUCS'</li><li>'ZA'</li><li>'ZM'</li><li>'ZRCD'</li><li>'ZW'</li></ol>\n"
      ],
      "text/latex": [
       "\\begin{enumerate*}\n",
       "\\item '\\textbackslash{}\\textbackslash{}N'\n",
       "\\item 'AD'\n",
       "\\item 'AE'\n",
       "\\item 'AF'\n",
       "\\item 'AG'\n",
       "\\item 'AL'\n",
       "\\item 'AM'\n",
       "\\item 'AN'\n",
       "\\item 'AO'\n",
       "\\item 'AQ'\n",
       "\\item 'AR'\n",
       "\\item 'AS'\n",
       "\\item 'AT'\n",
       "\\item 'AU'\n",
       "\\item 'AW'\n",
       "\\item 'AZ'\n",
       "\\item 'BA'\n",
       "\\item 'BB'\n",
       "\\item 'BD'\n",
       "\\item 'BE'\n",
       "\\item 'BF'\n",
       "\\item 'BG'\n",
       "\\item 'BH'\n",
       "\\item 'BI'\n",
       "\\item 'BJ'\n",
       "\\item 'BM'\n",
       "\\item 'BN'\n",
       "\\item 'BO'\n",
       "\\item 'BR'\n",
       "\\item 'BS'\n",
       "\\item 'BT'\n",
       "\\item 'BUMM'\n",
       "\\item 'BW'\n",
       "\\item 'BY'\n",
       "\\item 'BZ'\n",
       "\\item 'CA'\n",
       "\\item 'CD'\n",
       "\\item 'CF'\n",
       "\\item 'CG'\n",
       "\\item 'CH'\n",
       "\\item 'CI'\n",
       "\\item 'CK'\n",
       "\\item 'CL'\n",
       "\\item 'CM'\n",
       "\\item 'CN'\n",
       "\\item 'CO'\n",
       "\\item 'CR'\n",
       "\\item 'CSHH'\n",
       "\\item 'CSXX'\n",
       "\\item 'CU'\n",
       "\\item 'CV'\n",
       "\\item 'CY'\n",
       "\\item 'CZ'\n",
       "\\item 'DDDE'\n",
       "\\item 'DE'\n",
       "\\item 'DJ'\n",
       "\\item 'DK'\n",
       "\\item 'DM'\n",
       "\\item 'DO'\n",
       "\\item 'DZ'\n",
       "\\item 'EC'\n",
       "\\item 'EE'\n",
       "\\item 'EG'\n",
       "\\item 'EH'\n",
       "\\item 'ER'\n",
       "\\item 'ES'\n",
       "\\item 'ET'\n",
       "\\item 'FI'\n",
       "\\item 'FJ'\n",
       "\\item 'FM'\n",
       "\\item 'FO'\n",
       "\\item 'FR'\n",
       "\\item 'GA'\n",
       "\\item 'GB'\n",
       "\\item 'GD'\n",
       "\\item 'GE'\n",
       "\\item 'GF'\n",
       "\\item 'GH'\n",
       "\\item 'GI'\n",
       "\\item 'GL'\n",
       "\\item 'GM'\n",
       "\\item 'GN'\n",
       "\\item 'GP'\n",
       "\\item 'GQ'\n",
       "\\item 'GR'\n",
       "\\item 'GT'\n",
       "\\item 'GU'\n",
       "\\item 'GW'\n",
       "\\item 'GY'\n",
       "\\item 'HK'\n",
       "\\item 'HN'\n",
       "\\item 'HR'\n",
       "\\item 'HT'\n",
       "\\item 'HU'\n",
       "\\item 'ID'\n",
       "\\item 'IE'\n",
       "\\item 'IL'\n",
       "\\item 'IM'\n",
       "\\item 'IN'\n",
       "\\item 'IQ'\n",
       "\\item 'IR'\n",
       "\\item 'IS'\n",
       "\\item 'IT'\n",
       "\\item 'JE'\n",
       "\\item 'JM'\n",
       "\\item 'JO'\n",
       "\\item 'JP'\n",
       "\\item 'KE'\n",
       "\\item 'KG'\n",
       "\\item 'KH'\n",
       "\\item 'KM'\n",
       "\\item 'KN'\n",
       "\\item 'KP'\n",
       "\\item 'KR'\n",
       "\\item 'KW'\n",
       "\\item 'KY'\n",
       "\\item 'KZ'\n",
       "\\item 'LA'\n",
       "\\item 'LB'\n",
       "\\item 'LC'\n",
       "\\item 'LI'\n",
       "\\item 'LK'\n",
       "\\item 'LR'\n",
       "\\item 'LS'\n",
       "\\item 'LT'\n",
       "\\item 'LU'\n",
       "\\item 'LV'\n",
       "\\item 'LY'\n",
       "\\item 'MA'\n",
       "\\item 'MC'\n",
       "\\item 'MD'\n",
       "\\item 'ME'\n",
       "\\item 'MG'\n",
       "\\item 'MH'\n",
       "\\item 'MK'\n",
       "\\item 'ML'\n",
       "\\item 'MM'\n",
       "\\item 'MN'\n",
       "\\item 'MO'\n",
       "\\item 'MP'\n",
       "\\item 'MQ'\n",
       "\\item 'MR'\n",
       "\\item 'MT'\n",
       "\\item 'MU'\n",
       "\\item 'MV'\n",
       "\\item 'MW'\n",
       "\\item 'MX'\n",
       "\\item 'MY'\n",
       "\\item 'MZ'\n",
       "\\item 'NC'\n",
       "\\item 'NE'\n",
       "\\item 'NG'\n",
       "\\item 'NI'\n",
       "\\item 'NL'\n",
       "\\item 'NO'\n",
       "\\item 'NP'\n",
       "\\item 'NU'\n",
       "\\item 'NZ'\n",
       "\\item 'OM'\n",
       "\\item 'PA'\n",
       "\\item 'PE'\n",
       "\\item 'PF'\n",
       "\\item 'PG'\n",
       "\\item 'PH'\n",
       "\\item 'PK'\n",
       "\\item 'PL'\n",
       "\\item 'PR'\n",
       "\\item 'PS'\n",
       "\\item 'PT'\n",
       "\\item 'PY'\n",
       "\\item 'QA'\n",
       "\\item 'RE'\n",
       "\\item 'RO'\n",
       "\\item 'RS'\n",
       "\\item 'RU'\n",
       "\\item 'RW'\n",
       "\\item 'SA'\n",
       "\\item 'SC'\n",
       "\\item 'SD'\n",
       "\\item 'SE'\n",
       "\\item 'SG'\n",
       "\\item 'SI'\n",
       "\\item 'SK'\n",
       "\\item 'SL'\n",
       "\\item 'SM'\n",
       "\\item 'SN'\n",
       "\\item 'SO'\n",
       "\\item 'SR'\n",
       "\\item 'ST'\n",
       "\\item 'SUHH'\n",
       "\\item 'SV'\n",
       "\\item 'SY'\n",
       "\\item 'SZ'\n",
       "\\item 'TD'\n",
       "\\item 'TG'\n",
       "\\item 'TH'\n",
       "\\item 'TJ'\n",
       "\\item 'TL'\n",
       "\\item 'TM'\n",
       "\\item 'TN'\n",
       "\\item 'TO'\n",
       "\\item 'TR'\n",
       "\\item 'TT'\n",
       "\\item 'TV'\n",
       "\\item 'TW'\n",
       "\\item 'TZ'\n",
       "\\item 'UA'\n",
       "\\item 'UG'\n",
       "\\item 'US'\n",
       "\\item 'UY'\n",
       "\\item 'UZ'\n",
       "\\item 'VA'\n",
       "\\item 'VC'\n",
       "\\item 'VDVN'\n",
       "\\item 'VE'\n",
       "\\item 'VI'\n",
       "\\item 'VN'\n",
       "\\item 'VU'\n",
       "\\item 'WS'\n",
       "\\item 'XAS'\n",
       "\\item 'XEU'\n",
       "\\item 'XKO'\n",
       "\\item 'XKV'\n",
       "\\item 'XNA'\n",
       "\\item 'XPI'\n",
       "\\item 'XSA'\n",
       "\\item 'XSI'\n",
       "\\item 'XWG'\n",
       "\\item 'XWW'\n",
       "\\item 'XYU'\n",
       "\\item 'YE'\n",
       "\\item 'YUCS'\n",
       "\\item 'ZA'\n",
       "\\item 'ZM'\n",
       "\\item 'ZRCD'\n",
       "\\item 'ZW'\n",
       "\\end{enumerate*}\n"
      ],
      "text/markdown": [
       "1. '\\\\N'\n",
       "2. 'AD'\n",
       "3. 'AE'\n",
       "4. 'AF'\n",
       "5. 'AG'\n",
       "6. 'AL'\n",
       "7. 'AM'\n",
       "8. 'AN'\n",
       "9. 'AO'\n",
       "10. 'AQ'\n",
       "11. 'AR'\n",
       "12. 'AS'\n",
       "13. 'AT'\n",
       "14. 'AU'\n",
       "15. 'AW'\n",
       "16. 'AZ'\n",
       "17. 'BA'\n",
       "18. 'BB'\n",
       "19. 'BD'\n",
       "20. 'BE'\n",
       "21. 'BF'\n",
       "22. 'BG'\n",
       "23. 'BH'\n",
       "24. 'BI'\n",
       "25. 'BJ'\n",
       "26. 'BM'\n",
       "27. 'BN'\n",
       "28. 'BO'\n",
       "29. 'BR'\n",
       "30. 'BS'\n",
       "31. 'BT'\n",
       "32. 'BUMM'\n",
       "33. 'BW'\n",
       "34. 'BY'\n",
       "35. 'BZ'\n",
       "36. 'CA'\n",
       "37. 'CD'\n",
       "38. 'CF'\n",
       "39. 'CG'\n",
       "40. 'CH'\n",
       "41. 'CI'\n",
       "42. 'CK'\n",
       "43. 'CL'\n",
       "44. 'CM'\n",
       "45. 'CN'\n",
       "46. 'CO'\n",
       "47. 'CR'\n",
       "48. 'CSHH'\n",
       "49. 'CSXX'\n",
       "50. 'CU'\n",
       "51. 'CV'\n",
       "52. 'CY'\n",
       "53. 'CZ'\n",
       "54. 'DDDE'\n",
       "55. 'DE'\n",
       "56. 'DJ'\n",
       "57. 'DK'\n",
       "58. 'DM'\n",
       "59. 'DO'\n",
       "60. 'DZ'\n",
       "61. 'EC'\n",
       "62. 'EE'\n",
       "63. 'EG'\n",
       "64. 'EH'\n",
       "65. 'ER'\n",
       "66. 'ES'\n",
       "67. 'ET'\n",
       "68. 'FI'\n",
       "69. 'FJ'\n",
       "70. 'FM'\n",
       "71. 'FO'\n",
       "72. 'FR'\n",
       "73. 'GA'\n",
       "74. 'GB'\n",
       "75. 'GD'\n",
       "76. 'GE'\n",
       "77. 'GF'\n",
       "78. 'GH'\n",
       "79. 'GI'\n",
       "80. 'GL'\n",
       "81. 'GM'\n",
       "82. 'GN'\n",
       "83. 'GP'\n",
       "84. 'GQ'\n",
       "85. 'GR'\n",
       "86. 'GT'\n",
       "87. 'GU'\n",
       "88. 'GW'\n",
       "89. 'GY'\n",
       "90. 'HK'\n",
       "91. 'HN'\n",
       "92. 'HR'\n",
       "93. 'HT'\n",
       "94. 'HU'\n",
       "95. 'ID'\n",
       "96. 'IE'\n",
       "97. 'IL'\n",
       "98. 'IM'\n",
       "99. 'IN'\n",
       "100. 'IQ'\n",
       "101. 'IR'\n",
       "102. 'IS'\n",
       "103. 'IT'\n",
       "104. 'JE'\n",
       "105. 'JM'\n",
       "106. 'JO'\n",
       "107. 'JP'\n",
       "108. 'KE'\n",
       "109. 'KG'\n",
       "110. 'KH'\n",
       "111. 'KM'\n",
       "112. 'KN'\n",
       "113. 'KP'\n",
       "114. 'KR'\n",
       "115. 'KW'\n",
       "116. 'KY'\n",
       "117. 'KZ'\n",
       "118. 'LA'\n",
       "119. 'LB'\n",
       "120. 'LC'\n",
       "121. 'LI'\n",
       "122. 'LK'\n",
       "123. 'LR'\n",
       "124. 'LS'\n",
       "125. 'LT'\n",
       "126. 'LU'\n",
       "127. 'LV'\n",
       "128. 'LY'\n",
       "129. 'MA'\n",
       "130. 'MC'\n",
       "131. 'MD'\n",
       "132. 'ME'\n",
       "133. 'MG'\n",
       "134. 'MH'\n",
       "135. 'MK'\n",
       "136. 'ML'\n",
       "137. 'MM'\n",
       "138. 'MN'\n",
       "139. 'MO'\n",
       "140. 'MP'\n",
       "141. 'MQ'\n",
       "142. 'MR'\n",
       "143. 'MT'\n",
       "144. 'MU'\n",
       "145. 'MV'\n",
       "146. 'MW'\n",
       "147. 'MX'\n",
       "148. 'MY'\n",
       "149. 'MZ'\n",
       "150. 'NC'\n",
       "151. 'NE'\n",
       "152. 'NG'\n",
       "153. 'NI'\n",
       "154. 'NL'\n",
       "155. 'NO'\n",
       "156. 'NP'\n",
       "157. 'NU'\n",
       "158. 'NZ'\n",
       "159. 'OM'\n",
       "160. 'PA'\n",
       "161. 'PE'\n",
       "162. 'PF'\n",
       "163. 'PG'\n",
       "164. 'PH'\n",
       "165. 'PK'\n",
       "166. 'PL'\n",
       "167. 'PR'\n",
       "168. 'PS'\n",
       "169. 'PT'\n",
       "170. 'PY'\n",
       "171. 'QA'\n",
       "172. 'RE'\n",
       "173. 'RO'\n",
       "174. 'RS'\n",
       "175. 'RU'\n",
       "176. 'RW'\n",
       "177. 'SA'\n",
       "178. 'SC'\n",
       "179. 'SD'\n",
       "180. 'SE'\n",
       "181. 'SG'\n",
       "182. 'SI'\n",
       "183. 'SK'\n",
       "184. 'SL'\n",
       "185. 'SM'\n",
       "186. 'SN'\n",
       "187. 'SO'\n",
       "188. 'SR'\n",
       "189. 'ST'\n",
       "190. 'SUHH'\n",
       "191. 'SV'\n",
       "192. 'SY'\n",
       "193. 'SZ'\n",
       "194. 'TD'\n",
       "195. 'TG'\n",
       "196. 'TH'\n",
       "197. 'TJ'\n",
       "198. 'TL'\n",
       "199. 'TM'\n",
       "200. 'TN'\n",
       "201. 'TO'\n",
       "202. 'TR'\n",
       "203. 'TT'\n",
       "204. 'TV'\n",
       "205. 'TW'\n",
       "206. 'TZ'\n",
       "207. 'UA'\n",
       "208. 'UG'\n",
       "209. 'US'\n",
       "210. 'UY'\n",
       "211. 'UZ'\n",
       "212. 'VA'\n",
       "213. 'VC'\n",
       "214. 'VDVN'\n",
       "215. 'VE'\n",
       "216. 'VI'\n",
       "217. 'VN'\n",
       "218. 'VU'\n",
       "219. 'WS'\n",
       "220. 'XAS'\n",
       "221. 'XEU'\n",
       "222. 'XKO'\n",
       "223. 'XKV'\n",
       "224. 'XNA'\n",
       "225. 'XPI'\n",
       "226. 'XSA'\n",
       "227. 'XSI'\n",
       "228. 'XWG'\n",
       "229. 'XWW'\n",
       "230. 'XYU'\n",
       "231. 'YE'\n",
       "232. 'YUCS'\n",
       "233. 'ZA'\n",
       "234. 'ZM'\n",
       "235. 'ZRCD'\n",
       "236. 'ZW'\n",
       "\n",
       "\n"
      ],
      "text/plain": [
       "  [1] \"\\\\N\"  \"AD\"   \"AE\"   \"AF\"   \"AG\"   \"AL\"   \"AM\"   \"AN\"   \"AO\"   \"AQ\"  \n",
       " [11] \"AR\"   \"AS\"   \"AT\"   \"AU\"   \"AW\"   \"AZ\"   \"BA\"   \"BB\"   \"BD\"   \"BE\"  \n",
       " [21] \"BF\"   \"BG\"   \"BH\"   \"BI\"   \"BJ\"   \"BM\"   \"BN\"   \"BO\"   \"BR\"   \"BS\"  \n",
       " [31] \"BT\"   \"BUMM\" \"BW\"   \"BY\"   \"BZ\"   \"CA\"   \"CD\"   \"CF\"   \"CG\"   \"CH\"  \n",
       " [41] \"CI\"   \"CK\"   \"CL\"   \"CM\"   \"CN\"   \"CO\"   \"CR\"   \"CSHH\" \"CSXX\" \"CU\"  \n",
       " [51] \"CV\"   \"CY\"   \"CZ\"   \"DDDE\" \"DE\"   \"DJ\"   \"DK\"   \"DM\"   \"DO\"   \"DZ\"  \n",
       " [61] \"EC\"   \"EE\"   \"EG\"   \"EH\"   \"ER\"   \"ES\"   \"ET\"   \"FI\"   \"FJ\"   \"FM\"  \n",
       " [71] \"FO\"   \"FR\"   \"GA\"   \"GB\"   \"GD\"   \"GE\"   \"GF\"   \"GH\"   \"GI\"   \"GL\"  \n",
       " [81] \"GM\"   \"GN\"   \"GP\"   \"GQ\"   \"GR\"   \"GT\"   \"GU\"   \"GW\"   \"GY\"   \"HK\"  \n",
       " [91] \"HN\"   \"HR\"   \"HT\"   \"HU\"   \"ID\"   \"IE\"   \"IL\"   \"IM\"   \"IN\"   \"IQ\"  \n",
       "[101] \"IR\"   \"IS\"   \"IT\"   \"JE\"   \"JM\"   \"JO\"   \"JP\"   \"KE\"   \"KG\"   \"KH\"  \n",
       "[111] \"KM\"   \"KN\"   \"KP\"   \"KR\"   \"KW\"   \"KY\"   \"KZ\"   \"LA\"   \"LB\"   \"LC\"  \n",
       "[121] \"LI\"   \"LK\"   \"LR\"   \"LS\"   \"LT\"   \"LU\"   \"LV\"   \"LY\"   \"MA\"   \"MC\"  \n",
       "[131] \"MD\"   \"ME\"   \"MG\"   \"MH\"   \"MK\"   \"ML\"   \"MM\"   \"MN\"   \"MO\"   \"MP\"  \n",
       "[141] \"MQ\"   \"MR\"   \"MT\"   \"MU\"   \"MV\"   \"MW\"   \"MX\"   \"MY\"   \"MZ\"   \"NC\"  \n",
       "[151] \"NE\"   \"NG\"   \"NI\"   \"NL\"   \"NO\"   \"NP\"   \"NU\"   \"NZ\"   \"OM\"   \"PA\"  \n",
       "[161] \"PE\"   \"PF\"   \"PG\"   \"PH\"   \"PK\"   \"PL\"   \"PR\"   \"PS\"   \"PT\"   \"PY\"  \n",
       "[171] \"QA\"   \"RE\"   \"RO\"   \"RS\"   \"RU\"   \"RW\"   \"SA\"   \"SC\"   \"SD\"   \"SE\"  \n",
       "[181] \"SG\"   \"SI\"   \"SK\"   \"SL\"   \"SM\"   \"SN\"   \"SO\"   \"SR\"   \"ST\"   \"SUHH\"\n",
       "[191] \"SV\"   \"SY\"   \"SZ\"   \"TD\"   \"TG\"   \"TH\"   \"TJ\"   \"TL\"   \"TM\"   \"TN\"  \n",
       "[201] \"TO\"   \"TR\"   \"TT\"   \"TV\"   \"TW\"   \"TZ\"   \"UA\"   \"UG\"   \"US\"   \"UY\"  \n",
       "[211] \"UZ\"   \"VA\"   \"VC\"   \"VDVN\" \"VE\"   \"VI\"   \"VN\"   \"VU\"   \"WS\"   \"XAS\" \n",
       "[221] \"XEU\"  \"XKO\"  \"XKV\"  \"XNA\"  \"XPI\"  \"XSA\"  \"XSI\"  \"XWG\"  \"XWW\"  \"XYU\" \n",
       "[231] \"YE\"   \"YUCS\" \"ZA\"   \"ZM\"   \"ZRCD\" \"ZW\"  "
      ]
     },
     "metadata": {},
     "output_type": "display_data"
    }
   ],
   "source": [
    "levels(ta_clean$region)"
   ]
  },
  {
   "cell_type": "code",
   "execution_count": 145,
   "metadata": {},
   "outputs": [
    {
     "data": {
      "text/html": [
       "0.135515994791499"
      ],
      "text/latex": [
       "0.135515994791499"
      ],
      "text/markdown": [
       "0.135515994791499"
      ],
      "text/plain": [
       "[1] 0.135516"
      ]
     },
     "metadata": {},
     "output_type": "display_data"
    }
   ],
   "source": [
    "nrow(ta_clean[ta_clean$region==\"\\\\N\",])/nrow(ta_clean)"
   ]
  },
  {
   "cell_type": "code",
   "execution_count": 146,
   "metadata": {},
   "outputs": [
    {
     "data": {
      "image/png": "[encoded data removed]",
      "text/plain": [
       "plot without title"
      ]
     },
     "metadata": {
      "image/png": {
       "height": 420,
       "width": 420
      }
     },
     "output_type": "display_data"
    }
   ],
   "source": [
    "ggplot(ta_clean[ta_clean$region!=\"\\\\N\",], aes(x=region)) + geom_bar()"
   ]
  },
  {
   "cell_type": "code",
   "execution_count": 147,
   "metadata": {},
   "outputs": [],
   "source": [
    "# remove NA\n",
    "ta_clean = ta_clean[ta_clean$region!=\"\\\\N\",]\n",
    "ta_clean$region = factor(ta_clean$region)"
   ]
  },
  {
   "cell_type": "markdown",
   "metadata": {},
   "source": [
    " "
   ]
  },
  {
   "cell_type": "markdown",
   "metadata": {},
   "source": [
    "### language (string) - the language of the title"
   ]
  },
  {
   "cell_type": "code",
   "execution_count": 148,
   "metadata": {},
   "outputs": [
    {
     "data": {
      "text/html": [
       "<style>\n",
       ".list-inline {list-style: none; margin:0; padding: 0}\n",
       ".list-inline>li {display: inline-block}\n",
       ".list-inline>li:not(:last-child)::after {content: \"\\00b7\"; padding: 0 .5ex}\n",
       "</style>\n",
       "<ol class=list-inline><li>'\\\\N'</li><li>'af'</li><li>'ar'</li><li>'az'</li><li>'be'</li><li>'bg'</li><li>'bn'</li><li>'bs'</li><li>'ca'</li><li>'cmn'</li><li>'cs'</li><li>'cy'</li><li>'da'</li><li>'de'</li><li>'el'</li><li>'en'</li><li>'es'</li><li>'et'</li><li>'eu'</li><li>'fa'</li><li>'fi'</li><li>'fr'</li><li>'fro'</li><li>'ga'</li><li>'gd'</li><li>'gl'</li><li>'gsw'</li><li>'gu'</li><li>'he'</li><li>'hi'</li><li>'hr'</li><li>'hu'</li><li>'hy'</li><li>'id'</li><li>'it'</li><li>'iu'</li><li>'ja'</li><li>'ka'</li><li>'kk'</li><li>'kn'</li><li>'ko'</li><li>'ku'</li><li>'ky'</li><li>'la'</li><li>'lt'</li><li>'lv'</li><li>'mi'</li><li>'mk'</li><li>'ml'</li><li>'mr'</li><li>'ms'</li><li>'nl'</li><li>'no'</li><li>'pa'</li><li>'pl'</li><li>'ps'</li><li>'pt'</li><li>'qal'</li><li>'qbn'</li><li>'qbo'</li><li>'qbp'</li><li>'rm'</li><li>'rn'</li><li>'ro'</li><li>'ru'</li><li>'sd'</li><li>'sk'</li><li>'sl'</li><li>'sr'</li><li>'st'</li><li>'su'</li><li>'sv'</li><li>'ta'</li><li>'te'</li><li>'tg'</li><li>'th'</li><li>'tl'</li><li>'tn'</li><li>'tr'</li><li>'uk'</li><li>'ur'</li><li>'uz'</li><li>'vi'</li><li>'wo'</li><li>'xh'</li><li>'yi'</li><li>'yue'</li><li>'zh'</li><li>'zu'</li></ol>\n"
      ],
      "text/latex": [
       "\\begin{enumerate*}\n",
       "\\item '\\textbackslash{}\\textbackslash{}N'\n",
       "\\item 'af'\n",
       "\\item 'ar'\n",
       "\\item 'az'\n",
       "\\item 'be'\n",
       "\\item 'bg'\n",
       "\\item 'bn'\n",
       "\\item 'bs'\n",
       "\\item 'ca'\n",
       "\\item 'cmn'\n",
       "\\item 'cs'\n",
       "\\item 'cy'\n",
       "\\item 'da'\n",
       "\\item 'de'\n",
       "\\item 'el'\n",
       "\\item 'en'\n",
       "\\item 'es'\n",
       "\\item 'et'\n",
       "\\item 'eu'\n",
       "\\item 'fa'\n",
       "\\item 'fi'\n",
       "\\item 'fr'\n",
       "\\item 'fro'\n",
       "\\item 'ga'\n",
       "\\item 'gd'\n",
       "\\item 'gl'\n",
       "\\item 'gsw'\n",
       "\\item 'gu'\n",
       "\\item 'he'\n",
       "\\item 'hi'\n",
       "\\item 'hr'\n",
       "\\item 'hu'\n",
       "\\item 'hy'\n",
       "\\item 'id'\n",
       "\\item 'it'\n",
       "\\item 'iu'\n",
       "\\item 'ja'\n",
       "\\item 'ka'\n",
       "\\item 'kk'\n",
       "\\item 'kn'\n",
       "\\item 'ko'\n",
       "\\item 'ku'\n",
       "\\item 'ky'\n",
       "\\item 'la'\n",
       "\\item 'lt'\n",
       "\\item 'lv'\n",
       "\\item 'mi'\n",
       "\\item 'mk'\n",
       "\\item 'ml'\n",
       "\\item 'mr'\n",
       "\\item 'ms'\n",
       "\\item 'nl'\n",
       "\\item 'no'\n",
       "\\item 'pa'\n",
       "\\item 'pl'\n",
       "\\item 'ps'\n",
       "\\item 'pt'\n",
       "\\item 'qal'\n",
       "\\item 'qbn'\n",
       "\\item 'qbo'\n",
       "\\item 'qbp'\n",
       "\\item 'rm'\n",
       "\\item 'rn'\n",
       "\\item 'ro'\n",
       "\\item 'ru'\n",
       "\\item 'sd'\n",
       "\\item 'sk'\n",
       "\\item 'sl'\n",
       "\\item 'sr'\n",
       "\\item 'st'\n",
       "\\item 'su'\n",
       "\\item 'sv'\n",
       "\\item 'ta'\n",
       "\\item 'te'\n",
       "\\item 'tg'\n",
       "\\item 'th'\n",
       "\\item 'tl'\n",
       "\\item 'tn'\n",
       "\\item 'tr'\n",
       "\\item 'uk'\n",
       "\\item 'ur'\n",
       "\\item 'uz'\n",
       "\\item 'vi'\n",
       "\\item 'wo'\n",
       "\\item 'xh'\n",
       "\\item 'yi'\n",
       "\\item 'yue'\n",
       "\\item 'zh'\n",
       "\\item 'zu'\n",
       "\\end{enumerate*}\n"
      ],
      "text/markdown": [
       "1. '\\\\N'\n",
       "2. 'af'\n",
       "3. 'ar'\n",
       "4. 'az'\n",
       "5. 'be'\n",
       "6. 'bg'\n",
       "7. 'bn'\n",
       "8. 'bs'\n",
       "9. 'ca'\n",
       "10. 'cmn'\n",
       "11. 'cs'\n",
       "12. 'cy'\n",
       "13. 'da'\n",
       "14. 'de'\n",
       "15. 'el'\n",
       "16. 'en'\n",
       "17. 'es'\n",
       "18. 'et'\n",
       "19. 'eu'\n",
       "20. 'fa'\n",
       "21. 'fi'\n",
       "22. 'fr'\n",
       "23. 'fro'\n",
       "24. 'ga'\n",
       "25. 'gd'\n",
       "26. 'gl'\n",
       "27. 'gsw'\n",
       "28. 'gu'\n",
       "29. 'he'\n",
       "30. 'hi'\n",
       "31. 'hr'\n",
       "32. 'hu'\n",
       "33. 'hy'\n",
       "34. 'id'\n",
       "35. 'it'\n",
       "36. 'iu'\n",
       "37. 'ja'\n",
       "38. 'ka'\n",
       "39. 'kk'\n",
       "40. 'kn'\n",
       "41. 'ko'\n",
       "42. 'ku'\n",
       "43. 'ky'\n",
       "44. 'la'\n",
       "45. 'lt'\n",
       "46. 'lv'\n",
       "47. 'mi'\n",
       "48. 'mk'\n",
       "49. 'ml'\n",
       "50. 'mr'\n",
       "51. 'ms'\n",
       "52. 'nl'\n",
       "53. 'no'\n",
       "54. 'pa'\n",
       "55. 'pl'\n",
       "56. 'ps'\n",
       "57. 'pt'\n",
       "58. 'qal'\n",
       "59. 'qbn'\n",
       "60. 'qbo'\n",
       "61. 'qbp'\n",
       "62. 'rm'\n",
       "63. 'rn'\n",
       "64. 'ro'\n",
       "65. 'ru'\n",
       "66. 'sd'\n",
       "67. 'sk'\n",
       "68. 'sl'\n",
       "69. 'sr'\n",
       "70. 'st'\n",
       "71. 'su'\n",
       "72. 'sv'\n",
       "73. 'ta'\n",
       "74. 'te'\n",
       "75. 'tg'\n",
       "76. 'th'\n",
       "77. 'tl'\n",
       "78. 'tn'\n",
       "79. 'tr'\n",
       "80. 'uk'\n",
       "81. 'ur'\n",
       "82. 'uz'\n",
       "83. 'vi'\n",
       "84. 'wo'\n",
       "85. 'xh'\n",
       "86. 'yi'\n",
       "87. 'yue'\n",
       "88. 'zh'\n",
       "89. 'zu'\n",
       "\n",
       "\n"
      ],
      "text/plain": [
       " [1] \"\\\\N\" \"af\"  \"ar\"  \"az\"  \"be\"  \"bg\"  \"bn\"  \"bs\"  \"ca\"  \"cmn\" \"cs\"  \"cy\" \n",
       "[13] \"da\"  \"de\"  \"el\"  \"en\"  \"es\"  \"et\"  \"eu\"  \"fa\"  \"fi\"  \"fr\"  \"fro\" \"ga\" \n",
       "[25] \"gd\"  \"gl\"  \"gsw\" \"gu\"  \"he\"  \"hi\"  \"hr\"  \"hu\"  \"hy\"  \"id\"  \"it\"  \"iu\" \n",
       "[37] \"ja\"  \"ka\"  \"kk\"  \"kn\"  \"ko\"  \"ku\"  \"ky\"  \"la\"  \"lt\"  \"lv\"  \"mi\"  \"mk\" \n",
       "[49] \"ml\"  \"mr\"  \"ms\"  \"nl\"  \"no\"  \"pa\"  \"pl\"  \"ps\"  \"pt\"  \"qal\" \"qbn\" \"qbo\"\n",
       "[61] \"qbp\" \"rm\"  \"rn\"  \"ro\"  \"ru\"  \"sd\"  \"sk\"  \"sl\"  \"sr\"  \"st\"  \"su\"  \"sv\" \n",
       "[73] \"ta\"  \"te\"  \"tg\"  \"th\"  \"tl\"  \"tn\"  \"tr\"  \"uk\"  \"ur\"  \"uz\"  \"vi\"  \"wo\" \n",
       "[85] \"xh\"  \"yi\"  \"yue\" \"zh\"  \"zu\" "
      ]
     },
     "metadata": {},
     "output_type": "display_data"
    }
   ],
   "source": [
    "levels(ta_clean$language)"
   ]
  },
  {
   "cell_type": "code",
   "execution_count": 149,
   "metadata": {},
   "outputs": [
    {
     "data": {
      "text/html": [
       "0.85126487246641"
      ],
      "text/latex": [
       "0.85126487246641"
      ],
      "text/markdown": [
       "0.85126487246641"
      ],
      "text/plain": [
       "[1] 0.8512649"
      ]
     },
     "metadata": {},
     "output_type": "display_data"
    }
   ],
   "source": [
    "nrow(ta_clean[ta_clean$language==\"\\\\N\",])/nrow(ta_clean)"
   ]
  },
  {
   "cell_type": "code",
   "execution_count": 150,
   "metadata": {},
   "outputs": [
    {
     "data": {
      "image/png": "[encoded data removed]",
      "text/plain": [
       "plot without title"
      ]
     },
     "metadata": {
      "image/png": {
       "height": 420,
       "width": 420
      }
     },
     "output_type": "display_data"
    },
    {
     "data": {
      "image/png": "[encoded data removed]",
      "text/plain": [
       "plot without title"
      ]
     },
     "metadata": {
      "image/png": {
       "height": 420,
       "width": 420
      }
     },
     "output_type": "display_data"
    }
   ],
   "source": [
    "ggplot(ta_clean, aes(x=language)) + geom_bar()\n",
    "ggplot(ta_clean[ta_clean$language!=\"\\\\N\",], aes(x=language)) + geom_bar()"
   ]
  },
  {
   "cell_type": "markdown",
   "metadata": {},
   "source": [
    "* more than half of the rows are missing values, this makes this column not usable."
   ]
  },
  {
   "cell_type": "code",
   "execution_count": 151,
   "metadata": {},
   "outputs": [],
   "source": [
    "ta_clean$language = NULL"
   ]
  },
  {
   "cell_type": "code",
   "execution_count": 152,
   "metadata": {},
   "outputs": [
    {
     "data": {
      "text/html": [
       "<table>\n",
       "<caption>A data.frame: 6 × 3</caption>\n",
       "<thead>\n",
       "\t<tr><th></th><th scope=col>titleId</th><th scope=col>region</th><th scope=col>isOriginalTitle</th></tr>\n",
       "\t<tr><th></th><th scope=col>&lt;fct&gt;</th><th scope=col>&lt;fct&gt;</th><th scope=col>&lt;fct&gt;</th></tr>\n",
       "</thead>\n",
       "<tbody>\n",
       "\t<tr><th scope=row>1</th><td>tt0000001</td><td>UA</td><td>0</td></tr>\n",
       "\t<tr><th scope=row>2</th><td>tt0000001</td><td>DE</td><td>0</td></tr>\n",
       "\t<tr><th scope=row>3</th><td>tt0000001</td><td>HU</td><td>0</td></tr>\n",
       "\t<tr><th scope=row>4</th><td>tt0000001</td><td>GR</td><td>0</td></tr>\n",
       "\t<tr><th scope=row>5</th><td>tt0000001</td><td>RU</td><td>0</td></tr>\n",
       "\t<tr><th scope=row>6</th><td>tt0000001</td><td>US</td><td>0</td></tr>\n",
       "</tbody>\n",
       "</table>\n"
      ],
      "text/latex": [
       "A data.frame: 6 × 3\n",
       "\\begin{tabular}{r|lll}\n",
       "  & titleId & region & isOriginalTitle\\\\\n",
       "  & <fct> & <fct> & <fct>\\\\\n",
       "\\hline\n",
       "\t1 & tt0000001 & UA & 0\\\\\n",
       "\t2 & tt0000001 & DE & 0\\\\\n",
       "\t3 & tt0000001 & HU & 0\\\\\n",
       "\t4 & tt0000001 & GR & 0\\\\\n",
       "\t5 & tt0000001 & RU & 0\\\\\n",
       "\t6 & tt0000001 & US & 0\\\\\n",
       "\\end{tabular}\n"
      ],
      "text/markdown": [
       "\n",
       "A data.frame: 6 × 3\n",
       "\n",
       "| <!--/--> | titleId &lt;fct&gt; | region &lt;fct&gt; | isOriginalTitle &lt;fct&gt; |\n",
       "|---|---|---|---|\n",
       "| 1 | tt0000001 | UA | 0 |\n",
       "| 2 | tt0000001 | DE | 0 |\n",
       "| 3 | tt0000001 | HU | 0 |\n",
       "| 4 | tt0000001 | GR | 0 |\n",
       "| 5 | tt0000001 | RU | 0 |\n",
       "| 6 | tt0000001 | US | 0 |\n",
       "\n"
      ],
      "text/plain": [
       "  titleId   region isOriginalTitle\n",
       "1 tt0000001 UA     0              \n",
       "2 tt0000001 DE     0              \n",
       "3 tt0000001 HU     0              \n",
       "4 tt0000001 GR     0              \n",
       "5 tt0000001 RU     0              \n",
       "6 tt0000001 US     0              "
      ]
     },
     "metadata": {},
     "output_type": "display_data"
    }
   ],
   "source": [
    "head(ta_clean)"
   ]
  },
  {
   "cell_type": "code",
   "execution_count": 153,
   "metadata": {},
   "outputs": [
    {
     "data": {
      "text/html": [
       "1911418"
      ],
      "text/latex": [
       "1911418"
      ],
      "text/markdown": [
       "1911418"
      ],
      "text/plain": [
       "[1] 1911418"
      ]
     },
     "metadata": {},
     "output_type": "display_data"
    }
   ],
   "source": [
    "nrow(ta_clean)"
   ]
  },
  {
   "cell_type": "markdown",
   "metadata": {},
   "source": [
    "### is original title (boolean) – 0: not original title; 1: original title"
   ]
  },
  {
   "cell_type": "code",
   "execution_count": 154,
   "metadata": {},
   "outputs": [
    {
     "data": {
      "text/html": [
       "<style>\n",
       ".list-inline {list-style: none; margin:0; padding: 0}\n",
       ".list-inline>li {display: inline-block}\n",
       ".list-inline>li:not(:last-child)::after {content: \"\\00b7\"; padding: 0 .5ex}\n",
       "</style>\n",
       "<ol class=list-inline><li>'\\\\N'</li><li>'0'</li><li>'1'</li></ol>\n"
      ],
      "text/latex": [
       "\\begin{enumerate*}\n",
       "\\item '\\textbackslash{}\\textbackslash{}N'\n",
       "\\item '0'\n",
       "\\item '1'\n",
       "\\end{enumerate*}\n"
      ],
      "text/markdown": [
       "1. '\\\\N'\n",
       "2. '0'\n",
       "3. '1'\n",
       "\n",
       "\n"
      ],
      "text/plain": [
       "[1] \"\\\\N\" \"0\"   \"1\"  "
      ]
     },
     "metadata": {},
     "output_type": "display_data"
    }
   ],
   "source": [
    "levels(ta_clean$isOriginalTitle)"
   ]
  },
  {
   "cell_type": "code",
   "execution_count": 156,
   "metadata": {},
   "outputs": [
    {
     "data": {
      "text/html": [
       "4.1330572381342e-05"
      ],
      "text/latex": [
       "4.1330572381342e-05"
      ],
      "text/markdown": [
       "4.1330572381342e-05"
      ],
      "text/plain": [
       "[1] 4.133057e-05"
      ]
     },
     "metadata": {},
     "output_type": "display_data"
    }
   ],
   "source": [
    "nrow(ta_clean[ta_clean$isOriginalTitle==\"\\\\N\",])/nrow(ta_clean) # very few"
   ]
  },
  {
   "cell_type": "code",
   "execution_count": 158,
   "metadata": {},
   "outputs": [],
   "source": [
    "# remove NA\n",
    "ta_clean = ta_clean[ta_clean$isOriginalTitle!=\"\\\\N\",]\n",
    "ta_clean$isOriginalTitle = factor(ta_clean$isOriginalTitle)"
   ]
  },
  {
   "cell_type": "code",
   "execution_count": 159,
   "metadata": {},
   "outputs": [
    {
     "data": {
      "image/png": "[encoded data removed]",
      "text/plain": [
       "plot without title"
      ]
     },
     "metadata": {
      "image/png": {
       "height": 420,
       "width": 420
      }
     },
     "output_type": "display_data"
    }
   ],
   "source": [
    "ggplot(ta_clean, aes(x=isOriginalTitle)) + geom_bar()"
   ]
  },
  {
   "cell_type": "code",
   "execution_count": 164,
   "metadata": {},
   "outputs": [
    {
     "data": {
      "text/html": [
       "2.56359011437797e-05"
      ],
      "text/latex": [
       "2.56359011437797e-05"
      ],
      "text/markdown": [
       "2.56359011437797e-05"
      ],
      "text/plain": [
       "[1] 2.56359e-05"
      ]
     },
     "metadata": {},
     "output_type": "display_data"
    },
    {
     "data": {
      "text/html": [
       "49"
      ],
      "text/latex": [
       "49"
      ],
      "text/markdown": [
       "49"
      ],
      "text/plain": [
       "[1] 49"
      ]
     },
     "metadata": {},
     "output_type": "display_data"
    },
    {
     "data": {
      "text/html": [
       "1911376"
      ],
      "text/latex": [
       "1911376"
      ],
      "text/markdown": [
       "1911376"
      ],
      "text/plain": [
       "[1] 1911376"
      ]
     },
     "metadata": {},
     "output_type": "display_data"
    }
   ],
   "source": [
    "nrow(ta_clean[ta_clean$isOriginalTitle==\"1\",])/nrow(ta_clean) # very few\n",
    "nrow(ta_clean[ta_clean$isOriginalTitle==\"1\",])\n",
    "nrow(ta_clean[ta_clean$isOriginalTitle==\"0\",])"
   ]
  },
  {
   "cell_type": "markdown",
   "metadata": {},
   "source": [
    " "
   ]
  },
  {
   "cell_type": "code",
   "execution_count": 165,
   "metadata": {},
   "outputs": [
    {
     "data": {
      "text/html": [
       "<table>\n",
       "<caption>A data.frame: 6 × 3</caption>\n",
       "<thead>\n",
       "\t<tr><th></th><th scope=col>titleId</th><th scope=col>region</th><th scope=col>isOriginalTitle</th></tr>\n",
       "\t<tr><th></th><th scope=col>&lt;fct&gt;</th><th scope=col>&lt;fct&gt;</th><th scope=col>&lt;fct&gt;</th></tr>\n",
       "</thead>\n",
       "<tbody>\n",
       "\t<tr><th scope=row>1</th><td>tt0000001</td><td>UA</td><td>0</td></tr>\n",
       "\t<tr><th scope=row>2</th><td>tt0000001</td><td>DE</td><td>0</td></tr>\n",
       "\t<tr><th scope=row>3</th><td>tt0000001</td><td>HU</td><td>0</td></tr>\n",
       "\t<tr><th scope=row>4</th><td>tt0000001</td><td>GR</td><td>0</td></tr>\n",
       "\t<tr><th scope=row>5</th><td>tt0000001</td><td>RU</td><td>0</td></tr>\n",
       "\t<tr><th scope=row>6</th><td>tt0000001</td><td>US</td><td>0</td></tr>\n",
       "</tbody>\n",
       "</table>\n"
      ],
      "text/latex": [
       "A data.frame: 6 × 3\n",
       "\\begin{tabular}{r|lll}\n",
       "  & titleId & region & isOriginalTitle\\\\\n",
       "  & <fct> & <fct> & <fct>\\\\\n",
       "\\hline\n",
       "\t1 & tt0000001 & UA & 0\\\\\n",
       "\t2 & tt0000001 & DE & 0\\\\\n",
       "\t3 & tt0000001 & HU & 0\\\\\n",
       "\t4 & tt0000001 & GR & 0\\\\\n",
       "\t5 & tt0000001 & RU & 0\\\\\n",
       "\t6 & tt0000001 & US & 0\\\\\n",
       "\\end{tabular}\n"
      ],
      "text/markdown": [
       "\n",
       "A data.frame: 6 × 3\n",
       "\n",
       "| <!--/--> | titleId &lt;fct&gt; | region &lt;fct&gt; | isOriginalTitle &lt;fct&gt; |\n",
       "|---|---|---|---|\n",
       "| 1 | tt0000001 | UA | 0 |\n",
       "| 2 | tt0000001 | DE | 0 |\n",
       "| 3 | tt0000001 | HU | 0 |\n",
       "| 4 | tt0000001 | GR | 0 |\n",
       "| 5 | tt0000001 | RU | 0 |\n",
       "| 6 | tt0000001 | US | 0 |\n",
       "\n"
      ],
      "text/plain": [
       "  titleId   region isOriginalTitle\n",
       "1 tt0000001 UA     0              \n",
       "2 tt0000001 DE     0              \n",
       "3 tt0000001 HU     0              \n",
       "4 tt0000001 GR     0              \n",
       "5 tt0000001 RU     0              \n",
       "6 tt0000001 US     0              "
      ]
     },
     "metadata": {},
     "output_type": "display_data"
    }
   ],
   "source": [
    "head(ta_clean)"
   ]
  },
  {
   "cell_type": "markdown",
   "metadata": {},
   "source": [
    "### write to file"
   ]
  },
  {
   "cell_type": "code",
   "execution_count": 167,
   "metadata": {},
   "outputs": [],
   "source": [
    "# For using write_tsv\n",
    "library(readr)\n",
    "write_tsv(ta_clean,'cleaned_filtered_title_akas.tsv')"
   ]
  },
  {
   "cell_type": "code",
   "execution_count": null,
   "metadata": {},
   "outputs": [],
   "source": []
  }
 ],
 "metadata": {
  "kernelspec": {
   "display_name": "R",
   "language": "R",
   "name": "ir"
  },
  "language_info": {
   "codemirror_mode": "r",
   "file_extension": ".r",
   "mimetype": "text/x-r-source",
   "name": "R",
   "pygments_lexer": "r",
   "version": "3.6.3"
  }
 },
 "nbformat": 4,
 "nbformat_minor": 4
}
