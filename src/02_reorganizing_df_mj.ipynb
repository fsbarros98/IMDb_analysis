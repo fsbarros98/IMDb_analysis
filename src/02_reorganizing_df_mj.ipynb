{
 "cells": [
  {
   "cell_type": "code",
   "execution_count": 2,
   "metadata": {},
   "outputs": [
    {
     "name": "stderr",
     "output_type": "stream",
     "text": [
      "\n",
      "Attaching package: 'dplyr'\n",
      "\n",
      "\n",
      "The following objects are masked from 'package:stats':\n",
      "\n",
      "    filter, lag\n",
      "\n",
      "\n",
      "The following objects are masked from 'package:base':\n",
      "\n",
      "    intersect, setdiff, setequal, union\n",
      "\n",
      "\n"
     ]
    }
   ],
   "source": [
    "library(\"dplyr\")"
   ]
  },
  {
   "cell_type": "code",
   "execution_count": 1,
   "metadata": {},
   "outputs": [],
   "source": [
    "name_basics = read.delim(\"./../dataset/filtered.name.basics.tsv\",header=TRUE)\n",
    "#title_akas = read.delim(\"./../dataset/filtered.title.akas.tsv\",header=TRUE)\n",
    "#title_basics = read.delim(\"./../dataset/filtered.title.basics.tsv\",header=TRUE)\n",
    "#title_principals = read.delim(\"./../dataset/filtered.title.principals.tsv\",header=TRUE)\n",
    "#title_ratings = read.delim(\"./../dataset/filtered.title.ratings.tsv\",header=TRUE)\n",
    "#title_crew = read.delim(\"./../dataset/filtered.title.crew.tsv\",header=TRUE)\n"
   ]
  },
  {
   "cell_type": "markdown",
   "metadata": {},
   "source": [
    "#### removing useless features"
   ]
  },
  {
   "cell_type": "code",
   "execution_count": null,
   "metadata": {},
   "outputs": [],
   "source": [
    "title_akas$ordering = NULL\n",
    "title_akas$attributes = NULL\n",
    "title_akas$title = NULL\n",
    "\n",
    "title_basics$endYear = NULL\n",
    "\n",
    "title_principals$job = NULL\n",
    "title_principals$ordering = NULL\n",
    "title_principals$characters = NULL"
   ]
  },
  {
   "cell_type": "markdown",
   "metadata": {},
   "source": [
    "#### name basics"
   ]
  },
  {
   "cell_type": "code",
   "execution_count": 4,
   "metadata": {},
   "outputs": [
    {
     "data": {
      "text/html": [
       "<table>\n",
       "<caption>A data.frame: 6 × 6</caption>\n",
       "<thead>\n",
       "\t<tr><th></th><th scope=col>nconst</th><th scope=col>primaryName</th><th scope=col>birthYear</th><th scope=col>deathYear</th><th scope=col>primaryProfession</th><th scope=col>knownForTitles</th></tr>\n",
       "\t<tr><th></th><th scope=col>&lt;fct&gt;</th><th scope=col>&lt;fct&gt;</th><th scope=col>&lt;fct&gt;</th><th scope=col>&lt;dbl&gt;</th><th scope=col>&lt;fct&gt;</th><th scope=col>&lt;fct&gt;</th></tr>\n",
       "</thead>\n",
       "<tbody>\n",
       "\t<tr><th scope=row>1</th><td>nm0000001</td><td>Fred Astaire   </td><td>1899</td><td>306</td><td>soundtrack,actor,miscellaneous     </td><td>tt0053137,tt0072308,tt0050419,tt0031983</td></tr>\n",
       "\t<tr><th scope=row>2</th><td>nm0000002</td><td>Lauren Bacall  </td><td>1924</td><td>333</td><td>actress,soundtrack                 </td><td>tt0117057,tt0071877,tt0038355,tt0037382</td></tr>\n",
       "\t<tr><th scope=row>3</th><td>nm0000003</td><td>Brigitte Bardot</td><td>1934</td><td>  1</td><td>actress,soundtrack,music_department</td><td>tt0049189,tt0054452,tt0057345,tt0059956</td></tr>\n",
       "\t<tr><th scope=row>4</th><td>nm0000004</td><td>John Belushi   </td><td>1949</td><td>301</td><td>actor,soundtrack,writer            </td><td>tt0072562,tt0077975,tt0078723,tt0080455</td></tr>\n",
       "\t<tr><th scope=row>5</th><td>nm0000005</td><td>Ingmar Bergman </td><td>1918</td><td>326</td><td>writer,director,actor              </td><td>tt0050986,tt0060827,tt0083922,tt0050976</td></tr>\n",
       "\t<tr><th scope=row>6</th><td>nm0000006</td><td>Ingrid Bergman </td><td>1915</td><td>301</td><td>actress,soundtrack,producer        </td><td>tt0034583,tt0036855,tt0038787,tt0038109</td></tr>\n",
       "</tbody>\n",
       "</table>\n"
      ],
      "text/latex": [
       "A data.frame: 6 × 6\n",
       "\\begin{tabular}{r|llllll}\n",
       "  & nconst & primaryName & birthYear & deathYear & primaryProfession & knownForTitles\\\\\n",
       "  & <fct> & <fct> & <fct> & <dbl> & <fct> & <fct>\\\\\n",
       "\\hline\n",
       "\t1 & nm0000001 & Fred Astaire    & 1899 & 306 & soundtrack,actor,miscellaneous      & tt0053137,tt0072308,tt0050419,tt0031983\\\\\n",
       "\t2 & nm0000002 & Lauren Bacall   & 1924 & 333 & actress,soundtrack                  & tt0117057,tt0071877,tt0038355,tt0037382\\\\\n",
       "\t3 & nm0000003 & Brigitte Bardot & 1934 &   1 & actress,soundtrack,music\\_department & tt0049189,tt0054452,tt0057345,tt0059956\\\\\n",
       "\t4 & nm0000004 & John Belushi    & 1949 & 301 & actor,soundtrack,writer             & tt0072562,tt0077975,tt0078723,tt0080455\\\\\n",
       "\t5 & nm0000005 & Ingmar Bergman  & 1918 & 326 & writer,director,actor               & tt0050986,tt0060827,tt0083922,tt0050976\\\\\n",
       "\t6 & nm0000006 & Ingrid Bergman  & 1915 & 301 & actress,soundtrack,producer         & tt0034583,tt0036855,tt0038787,tt0038109\\\\\n",
       "\\end{tabular}\n"
      ],
      "text/markdown": [
       "\n",
       "A data.frame: 6 × 6\n",
       "\n",
       "| <!--/--> | nconst &lt;fct&gt; | primaryName &lt;fct&gt; | birthYear &lt;fct&gt; | deathYear &lt;dbl&gt; | primaryProfession &lt;fct&gt; | knownForTitles &lt;fct&gt; |\n",
       "|---|---|---|---|---|---|---|\n",
       "| 1 | nm0000001 | Fred Astaire    | 1899 | 306 | soundtrack,actor,miscellaneous      | tt0053137,tt0072308,tt0050419,tt0031983 |\n",
       "| 2 | nm0000002 | Lauren Bacall   | 1924 | 333 | actress,soundtrack                  | tt0117057,tt0071877,tt0038355,tt0037382 |\n",
       "| 3 | nm0000003 | Brigitte Bardot | 1934 |   1 | actress,soundtrack,music_department | tt0049189,tt0054452,tt0057345,tt0059956 |\n",
       "| 4 | nm0000004 | John Belushi    | 1949 | 301 | actor,soundtrack,writer             | tt0072562,tt0077975,tt0078723,tt0080455 |\n",
       "| 5 | nm0000005 | Ingmar Bergman  | 1918 | 326 | writer,director,actor               | tt0050986,tt0060827,tt0083922,tt0050976 |\n",
       "| 6 | nm0000006 | Ingrid Bergman  | 1915 | 301 | actress,soundtrack,producer         | tt0034583,tt0036855,tt0038787,tt0038109 |\n",
       "\n"
      ],
      "text/plain": [
       "  nconst    primaryName     birthYear deathYear\n",
       "1 nm0000001 Fred Astaire    1899      306      \n",
       "2 nm0000002 Lauren Bacall   1924      333      \n",
       "3 nm0000003 Brigitte Bardot 1934        1      \n",
       "4 nm0000004 John Belushi    1949      301      \n",
       "5 nm0000005 Ingmar Bergman  1918      326      \n",
       "6 nm0000006 Ingrid Bergman  1915      301      \n",
       "  primaryProfession                   knownForTitles                         \n",
       "1 soundtrack,actor,miscellaneous      tt0053137,tt0072308,tt0050419,tt0031983\n",
       "2 actress,soundtrack                  tt0117057,tt0071877,tt0038355,tt0037382\n",
       "3 actress,soundtrack,music_department tt0049189,tt0054452,tt0057345,tt0059956\n",
       "4 actor,soundtrack,writer             tt0072562,tt0077975,tt0078723,tt0080455\n",
       "5 writer,director,actor               tt0050986,tt0060827,tt0083922,tt0050976\n",
       "6 actress,soundtrack,producer         tt0034583,tt0036855,tt0038787,tt0038109"
      ]
     },
     "metadata": {},
     "output_type": "display_data"
    }
   ],
   "source": [
    "head(name_basics)"
   ]
  },
  {
   "cell_type": "markdown",
   "metadata": {},
   "source": [
    "Changing feature types:\n",
    "birthYear -> int\n",
    "deathYear -> int\n",
    "primaryProfession and KnownForTitle needs work"
   ]
  },
  {
   "cell_type": "code",
   "execution_count": 3,
   "metadata": {},
   "outputs": [],
   "source": [
    "name_basics$birthYear = as.factor(name_basics$birthYear)\n",
    "name_basics$deathYear = as.numeric(name_basics$deathYear)"
   ]
  },
  {
   "cell_type": "code",
   "execution_count": 5,
   "metadata": {},
   "outputs": [
    {
     "data": {
      "text/html": [
       "<table>\n",
       "<caption>A data.frame: 6 × 6</caption>\n",
       "<thead>\n",
       "\t<tr><th></th><th scope=col>nconst</th><th scope=col>primaryName</th><th scope=col>birthYear</th><th scope=col>deathYear</th><th scope=col>primaryProfession</th><th scope=col>knownForTitles</th></tr>\n",
       "\t<tr><th></th><th scope=col>&lt;fct&gt;</th><th scope=col>&lt;fct&gt;</th><th scope=col>&lt;fct&gt;</th><th scope=col>&lt;dbl&gt;</th><th scope=col>&lt;fct&gt;</th><th scope=col>&lt;fct&gt;</th></tr>\n",
       "</thead>\n",
       "<tbody>\n",
       "\t<tr><th scope=row>1</th><td>nm0000001</td><td>Fred Astaire   </td><td>1899</td><td>306</td><td>soundtrack,actor,miscellaneous     </td><td>tt0053137,tt0072308,tt0050419,tt0031983</td></tr>\n",
       "\t<tr><th scope=row>2</th><td>nm0000002</td><td>Lauren Bacall  </td><td>1924</td><td>333</td><td>actress,soundtrack                 </td><td>tt0117057,tt0071877,tt0038355,tt0037382</td></tr>\n",
       "\t<tr><th scope=row>3</th><td>nm0000003</td><td>Brigitte Bardot</td><td>1934</td><td>  1</td><td>actress,soundtrack,music_department</td><td>tt0049189,tt0054452,tt0057345,tt0059956</td></tr>\n",
       "\t<tr><th scope=row>4</th><td>nm0000004</td><td>John Belushi   </td><td>1949</td><td>301</td><td>actor,soundtrack,writer            </td><td>tt0072562,tt0077975,tt0078723,tt0080455</td></tr>\n",
       "\t<tr><th scope=row>5</th><td>nm0000005</td><td>Ingmar Bergman </td><td>1918</td><td>326</td><td>writer,director,actor              </td><td>tt0050986,tt0060827,tt0083922,tt0050976</td></tr>\n",
       "\t<tr><th scope=row>6</th><td>nm0000006</td><td>Ingrid Bergman </td><td>1915</td><td>301</td><td>actress,soundtrack,producer        </td><td>tt0034583,tt0036855,tt0038787,tt0038109</td></tr>\n",
       "</tbody>\n",
       "</table>\n"
      ],
      "text/latex": [
       "A data.frame: 6 × 6\n",
       "\\begin{tabular}{r|llllll}\n",
       "  & nconst & primaryName & birthYear & deathYear & primaryProfession & knownForTitles\\\\\n",
       "  & <fct> & <fct> & <fct> & <dbl> & <fct> & <fct>\\\\\n",
       "\\hline\n",
       "\t1 & nm0000001 & Fred Astaire    & 1899 & 306 & soundtrack,actor,miscellaneous      & tt0053137,tt0072308,tt0050419,tt0031983\\\\\n",
       "\t2 & nm0000002 & Lauren Bacall   & 1924 & 333 & actress,soundtrack                  & tt0117057,tt0071877,tt0038355,tt0037382\\\\\n",
       "\t3 & nm0000003 & Brigitte Bardot & 1934 &   1 & actress,soundtrack,music\\_department & tt0049189,tt0054452,tt0057345,tt0059956\\\\\n",
       "\t4 & nm0000004 & John Belushi    & 1949 & 301 & actor,soundtrack,writer             & tt0072562,tt0077975,tt0078723,tt0080455\\\\\n",
       "\t5 & nm0000005 & Ingmar Bergman  & 1918 & 326 & writer,director,actor               & tt0050986,tt0060827,tt0083922,tt0050976\\\\\n",
       "\t6 & nm0000006 & Ingrid Bergman  & 1915 & 301 & actress,soundtrack,producer         & tt0034583,tt0036855,tt0038787,tt0038109\\\\\n",
       "\\end{tabular}\n"
      ],
      "text/markdown": [
       "\n",
       "A data.frame: 6 × 6\n",
       "\n",
       "| <!--/--> | nconst &lt;fct&gt; | primaryName &lt;fct&gt; | birthYear &lt;fct&gt; | deathYear &lt;dbl&gt; | primaryProfession &lt;fct&gt; | knownForTitles &lt;fct&gt; |\n",
       "|---|---|---|---|---|---|---|\n",
       "| 1 | nm0000001 | Fred Astaire    | 1899 | 306 | soundtrack,actor,miscellaneous      | tt0053137,tt0072308,tt0050419,tt0031983 |\n",
       "| 2 | nm0000002 | Lauren Bacall   | 1924 | 333 | actress,soundtrack                  | tt0117057,tt0071877,tt0038355,tt0037382 |\n",
       "| 3 | nm0000003 | Brigitte Bardot | 1934 |   1 | actress,soundtrack,music_department | tt0049189,tt0054452,tt0057345,tt0059956 |\n",
       "| 4 | nm0000004 | John Belushi    | 1949 | 301 | actor,soundtrack,writer             | tt0072562,tt0077975,tt0078723,tt0080455 |\n",
       "| 5 | nm0000005 | Ingmar Bergman  | 1918 | 326 | writer,director,actor               | tt0050986,tt0060827,tt0083922,tt0050976 |\n",
       "| 6 | nm0000006 | Ingrid Bergman  | 1915 | 301 | actress,soundtrack,producer         | tt0034583,tt0036855,tt0038787,tt0038109 |\n",
       "\n"
      ],
      "text/plain": [
       "  nconst    primaryName     birthYear deathYear\n",
       "1 nm0000001 Fred Astaire    1899      306      \n",
       "2 nm0000002 Lauren Bacall   1924      333      \n",
       "3 nm0000003 Brigitte Bardot 1934        1      \n",
       "4 nm0000004 John Belushi    1949      301      \n",
       "5 nm0000005 Ingmar Bergman  1918      326      \n",
       "6 nm0000006 Ingrid Bergman  1915      301      \n",
       "  primaryProfession                   knownForTitles                         \n",
       "1 soundtrack,actor,miscellaneous      tt0053137,tt0072308,tt0050419,tt0031983\n",
       "2 actress,soundtrack                  tt0117057,tt0071877,tt0038355,tt0037382\n",
       "3 actress,soundtrack,music_department tt0049189,tt0054452,tt0057345,tt0059956\n",
       "4 actor,soundtrack,writer             tt0072562,tt0077975,tt0078723,tt0080455\n",
       "5 writer,director,actor               tt0050986,tt0060827,tt0083922,tt0050976\n",
       "6 actress,soundtrack,producer         tt0034583,tt0036855,tt0038787,tt0038109"
      ]
     },
     "metadata": {},
     "output_type": "display_data"
    }
   ],
   "source": [
    "head(name_basics)"
   ]
  },
  {
   "cell_type": "code",
   "execution_count": null,
   "metadata": {},
   "outputs": [],
   "source": [
    "worker_professions = data.frame(nconst=factor(), profession=factor())\n",
    "\n",
    "for(i in 1:nrow(name_basics)){\n",
    "    profession_list = unlist(strsplit(as.character(name_basics$primaryProfession[i]), \",\"),'[.]')\n",
    "    \n",
    "    for(profession in profession_list){\n",
    "        add_row(worker_professions, nconst = name_basics$nconst[i], profession = profession)\n",
    "    }\n",
    "}\n",
    "\n"
   ]
  },
  {
   "cell_type": "code",
   "execution_count": null,
   "metadata": {},
   "outputs": [],
   "source": [
    "worker_professions = data.frame(nconst=factor(), profession=factor())\n",
    "add_row(worker_professions,nconst=2,profession=3)"
   ]
  },
  {
   "cell_type": "code",
   "execution_count": null,
   "metadata": {},
   "outputs": [],
   "source": [
    "worker_professions"
   ]
  },
  {
   "cell_type": "markdown",
   "metadata": {},
   "source": [
    "#### title akas"
   ]
  },
  {
   "cell_type": "code",
   "execution_count": 26,
   "metadata": {},
   "outputs": [
    {
     "data": {
      "text/html": [
       "<table>\n",
       "<caption>A data.frame: 6 × 5</caption>\n",
       "<thead>\n",
       "\t<tr><th></th><th scope=col>titleId</th><th scope=col>region</th><th scope=col>language</th><th scope=col>types</th><th scope=col>isOriginalTitle</th></tr>\n",
       "\t<tr><th></th><th scope=col>&lt;fct&gt;</th><th scope=col>&lt;fct&gt;</th><th scope=col>&lt;fct&gt;</th><th scope=col>&lt;fct&gt;</th><th scope=col>&lt;fct&gt;</th></tr>\n",
       "</thead>\n",
       "<tbody>\n",
       "\t<tr><th scope=row>1</th><td>tt0000001</td><td>UA</td><td>\\N</td><td>imdbDisplay</td><td>0</td></tr>\n",
       "\t<tr><th scope=row>2</th><td>tt0000001</td><td>DE</td><td>\\N</td><td>\\N        </td><td>0</td></tr>\n",
       "\t<tr><th scope=row>3</th><td>tt0000001</td><td>HU</td><td>\\N</td><td>imdbDisplay</td><td>0</td></tr>\n",
       "\t<tr><th scope=row>4</th><td>tt0000001</td><td>GR</td><td>\\N</td><td>imdbDisplay</td><td>0</td></tr>\n",
       "\t<tr><th scope=row>5</th><td>tt0000001</td><td>RU</td><td>\\N</td><td>imdbDisplay</td><td>0</td></tr>\n",
       "\t<tr><th scope=row>6</th><td>tt0000001</td><td>US</td><td>\\N</td><td>\\N        </td><td>0</td></tr>\n",
       "</tbody>\n",
       "</table>\n"
      ],
      "text/latex": [
       "A data.frame: 6 × 5\n",
       "\\begin{tabular}{r|lllll}\n",
       "  & titleId & region & language & types & isOriginalTitle\\\\\n",
       "  & <fct> & <fct> & <fct> & <fct> & <fct>\\\\\n",
       "\\hline\n",
       "\t1 & tt0000001 & UA & \\textbackslash{}N & imdbDisplay & 0\\\\\n",
       "\t2 & tt0000001 & DE & \\textbackslash{}N & \\textbackslash{}N         & 0\\\\\n",
       "\t3 & tt0000001 & HU & \\textbackslash{}N & imdbDisplay & 0\\\\\n",
       "\t4 & tt0000001 & GR & \\textbackslash{}N & imdbDisplay & 0\\\\\n",
       "\t5 & tt0000001 & RU & \\textbackslash{}N & imdbDisplay & 0\\\\\n",
       "\t6 & tt0000001 & US & \\textbackslash{}N & \\textbackslash{}N         & 0\\\\\n",
       "\\end{tabular}\n"
      ],
      "text/markdown": [
       "\n",
       "A data.frame: 6 × 5\n",
       "\n",
       "| <!--/--> | titleId &lt;fct&gt; | region &lt;fct&gt; | language &lt;fct&gt; | types &lt;fct&gt; | isOriginalTitle &lt;fct&gt; |\n",
       "|---|---|---|---|---|---|\n",
       "| 1 | tt0000001 | UA | \\N | imdbDisplay | 0 |\n",
       "| 2 | tt0000001 | DE | \\N | \\N         | 0 |\n",
       "| 3 | tt0000001 | HU | \\N | imdbDisplay | 0 |\n",
       "| 4 | tt0000001 | GR | \\N | imdbDisplay | 0 |\n",
       "| 5 | tt0000001 | RU | \\N | imdbDisplay | 0 |\n",
       "| 6 | tt0000001 | US | \\N | \\N         | 0 |\n",
       "\n"
      ],
      "text/plain": [
       "  titleId   region language types       isOriginalTitle\n",
       "1 tt0000001 UA     \\\\N      imdbDisplay 0              \n",
       "2 tt0000001 DE     \\\\N      \\\\N         0              \n",
       "3 tt0000001 HU     \\\\N      imdbDisplay 0              \n",
       "4 tt0000001 GR     \\\\N      imdbDisplay 0              \n",
       "5 tt0000001 RU     \\\\N      imdbDisplay 0              \n",
       "6 tt0000001 US     \\\\N      \\\\N         0              "
      ]
     },
     "metadata": {},
     "output_type": "display_data"
    }
   ],
   "source": [
    "head(title_akas)"
   ]
  },
  {
   "cell_type": "markdown",
   "metadata": {},
   "source": [
    "#### title basics"
   ]
  },
  {
   "cell_type": "code",
   "execution_count": 11,
   "metadata": {},
   "outputs": [
    {
     "data": {
      "text/html": [
       "<table>\n",
       "<caption>A data.frame: 6 × 8</caption>\n",
       "<thead>\n",
       "\t<tr><th></th><th scope=col>tconst</th><th scope=col>titleType</th><th scope=col>primaryTitle</th><th scope=col>originalTitle</th><th scope=col>isAdult</th><th scope=col>startYear</th><th scope=col>runtimeMinutes</th><th scope=col>genres</th></tr>\n",
       "\t<tr><th></th><th scope=col>&lt;fct&gt;</th><th scope=col>&lt;fct&gt;</th><th scope=col>&lt;fct&gt;</th><th scope=col>&lt;fct&gt;</th><th scope=col>&lt;int&gt;</th><th scope=col>&lt;fct&gt;</th><th scope=col>&lt;fct&gt;</th><th scope=col>&lt;fct&gt;</th></tr>\n",
       "</thead>\n",
       "<tbody>\n",
       "\t<tr><th scope=row>1</th><td>tt0000001</td><td>short</td><td>Carmencita            </td><td>Carmencita            </td><td>0</td><td>1894</td><td>1 </td><td>Documentary,Short       </td></tr>\n",
       "\t<tr><th scope=row>2</th><td>tt0000002</td><td>short</td><td>Le clown et ses chiens</td><td>Le clown et ses chiens</td><td>0</td><td>1892</td><td>5 </td><td>Animation,Short         </td></tr>\n",
       "\t<tr><th scope=row>3</th><td>tt0000003</td><td>short</td><td>Pauvre Pierrot        </td><td>Pauvre Pierrot        </td><td>0</td><td>1892</td><td>4 </td><td>Animation,Comedy,Romance</td></tr>\n",
       "\t<tr><th scope=row>4</th><td>tt0000004</td><td>short</td><td>Un bon bock           </td><td>Un bon bock           </td><td>0</td><td>1892</td><td>12</td><td>Animation,Short         </td></tr>\n",
       "\t<tr><th scope=row>5</th><td>tt0000005</td><td>short</td><td>Blacksmith Scene      </td><td>Blacksmith Scene      </td><td>0</td><td>1893</td><td>1 </td><td>Comedy,Short            </td></tr>\n",
       "\t<tr><th scope=row>6</th><td>tt0000006</td><td>short</td><td>Chinese Opium Den     </td><td>Chinese Opium Den     </td><td>0</td><td>1894</td><td>1 </td><td>Short                   </td></tr>\n",
       "</tbody>\n",
       "</table>\n"
      ],
      "text/latex": [
       "A data.frame: 6 × 8\n",
       "\\begin{tabular}{r|llllllll}\n",
       "  & tconst & titleType & primaryTitle & originalTitle & isAdult & startYear & runtimeMinutes & genres\\\\\n",
       "  & <fct> & <fct> & <fct> & <fct> & <int> & <fct> & <fct> & <fct>\\\\\n",
       "\\hline\n",
       "\t1 & tt0000001 & short & Carmencita             & Carmencita             & 0 & 1894 & 1  & Documentary,Short       \\\\\n",
       "\t2 & tt0000002 & short & Le clown et ses chiens & Le clown et ses chiens & 0 & 1892 & 5  & Animation,Short         \\\\\n",
       "\t3 & tt0000003 & short & Pauvre Pierrot         & Pauvre Pierrot         & 0 & 1892 & 4  & Animation,Comedy,Romance\\\\\n",
       "\t4 & tt0000004 & short & Un bon bock            & Un bon bock            & 0 & 1892 & 12 & Animation,Short         \\\\\n",
       "\t5 & tt0000005 & short & Blacksmith Scene       & Blacksmith Scene       & 0 & 1893 & 1  & Comedy,Short            \\\\\n",
       "\t6 & tt0000006 & short & Chinese Opium Den      & Chinese Opium Den      & 0 & 1894 & 1  & Short                   \\\\\n",
       "\\end{tabular}\n"
      ],
      "text/markdown": [
       "\n",
       "A data.frame: 6 × 8\n",
       "\n",
       "| <!--/--> | tconst &lt;fct&gt; | titleType &lt;fct&gt; | primaryTitle &lt;fct&gt; | originalTitle &lt;fct&gt; | isAdult &lt;int&gt; | startYear &lt;fct&gt; | runtimeMinutes &lt;fct&gt; | genres &lt;fct&gt; |\n",
       "|---|---|---|---|---|---|---|---|---|\n",
       "| 1 | tt0000001 | short | Carmencita             | Carmencita             | 0 | 1894 | 1  | Documentary,Short        |\n",
       "| 2 | tt0000002 | short | Le clown et ses chiens | Le clown et ses chiens | 0 | 1892 | 5  | Animation,Short          |\n",
       "| 3 | tt0000003 | short | Pauvre Pierrot         | Pauvre Pierrot         | 0 | 1892 | 4  | Animation,Comedy,Romance |\n",
       "| 4 | tt0000004 | short | Un bon bock            | Un bon bock            | 0 | 1892 | 12 | Animation,Short          |\n",
       "| 5 | tt0000005 | short | Blacksmith Scene       | Blacksmith Scene       | 0 | 1893 | 1  | Comedy,Short             |\n",
       "| 6 | tt0000006 | short | Chinese Opium Den      | Chinese Opium Den      | 0 | 1894 | 1  | Short                    |\n",
       "\n"
      ],
      "text/plain": [
       "  tconst    titleType primaryTitle           originalTitle          isAdult\n",
       "1 tt0000001 short     Carmencita             Carmencita             0      \n",
       "2 tt0000002 short     Le clown et ses chiens Le clown et ses chiens 0      \n",
       "3 tt0000003 short     Pauvre Pierrot         Pauvre Pierrot         0      \n",
       "4 tt0000004 short     Un bon bock            Un bon bock            0      \n",
       "5 tt0000005 short     Blacksmith Scene       Blacksmith Scene       0      \n",
       "6 tt0000006 short     Chinese Opium Den      Chinese Opium Den      0      \n",
       "  startYear runtimeMinutes genres                  \n",
       "1 1894      1              Documentary,Short       \n",
       "2 1892      5              Animation,Short         \n",
       "3 1892      4              Animation,Comedy,Romance\n",
       "4 1892      12             Animation,Short         \n",
       "5 1893      1              Comedy,Short            \n",
       "6 1894      1              Short                   "
      ]
     },
     "metadata": {},
     "output_type": "display_data"
    }
   ],
   "source": [
    "head(title_basics)"
   ]
  },
  {
   "cell_type": "markdown",
   "metadata": {},
   "source": [
    "Changing feature types:\n",
    "isAdult -> factor\n",
    "startYear -> int\n",
    "runtimeMinutes -> int\n",
    "genres needs"
   ]
  },
  {
   "cell_type": "code",
   "execution_count": 22,
   "metadata": {},
   "outputs": [],
   "source": [
    "title_basics$isAdult = as.factor(title_basics$isAdult)\n",
    "title_basics$startYear = as.numeric(title_basics$startYear)\n",
    "title_basics$runtimeMinutes = as.numeric(title_basics$runtimeMinutes)"
   ]
  },
  {
   "cell_type": "code",
   "execution_count": 28,
   "metadata": {},
   "outputs": [
    {
     "data": {
      "text/html": [
       "<table>\n",
       "<caption>A data.frame: 6 × 8</caption>\n",
       "<thead>\n",
       "\t<tr><th></th><th scope=col>tconst</th><th scope=col>titleType</th><th scope=col>primaryTitle</th><th scope=col>originalTitle</th><th scope=col>isAdult</th><th scope=col>startYear</th><th scope=col>runtimeMinutes</th><th scope=col>genres</th></tr>\n",
       "\t<tr><th></th><th scope=col>&lt;fct&gt;</th><th scope=col>&lt;fct&gt;</th><th scope=col>&lt;fct&gt;</th><th scope=col>&lt;fct&gt;</th><th scope=col>&lt;fct&gt;</th><th scope=col>&lt;dbl&gt;</th><th scope=col>&lt;dbl&gt;</th><th scope=col>&lt;fct&gt;</th></tr>\n",
       "</thead>\n",
       "<tbody>\n",
       "\t<tr><th scope=row>1</th><td>tt0000001</td><td>short</td><td>Carmencita            </td><td>Carmencita            </td><td>0</td><td>14</td><td>  3</td><td>Documentary,Short       </td></tr>\n",
       "\t<tr><th scope=row>2</th><td>tt0000002</td><td>short</td><td>Le clown et ses chiens</td><td>Le clown et ses chiens</td><td>0</td><td>12</td><td>384</td><td>Animation,Short         </td></tr>\n",
       "\t<tr><th scope=row>3</th><td>tt0000003</td><td>short</td><td>Pauvre Pierrot        </td><td>Pauvre Pierrot        </td><td>0</td><td>12</td><td>340</td><td>Animation,Comedy,Romance</td></tr>\n",
       "\t<tr><th scope=row>4</th><td>tt0000004</td><td>short</td><td>Un bon bock           </td><td>Un bon bock           </td><td>0</td><td>12</td><td> 32</td><td>Animation,Short         </td></tr>\n",
       "\t<tr><th scope=row>5</th><td>tt0000005</td><td>short</td><td>Blacksmith Scene      </td><td>Blacksmith Scene      </td><td>0</td><td>13</td><td>  3</td><td>Comedy,Short            </td></tr>\n",
       "\t<tr><th scope=row>6</th><td>tt0000006</td><td>short</td><td>Chinese Opium Den     </td><td>Chinese Opium Den     </td><td>0</td><td>14</td><td>  3</td><td>Short                   </td></tr>\n",
       "</tbody>\n",
       "</table>\n"
      ],
      "text/latex": [
       "A data.frame: 6 × 8\n",
       "\\begin{tabular}{r|llllllll}\n",
       "  & tconst & titleType & primaryTitle & originalTitle & isAdult & startYear & runtimeMinutes & genres\\\\\n",
       "  & <fct> & <fct> & <fct> & <fct> & <fct> & <dbl> & <dbl> & <fct>\\\\\n",
       "\\hline\n",
       "\t1 & tt0000001 & short & Carmencita             & Carmencita             & 0 & 14 &   3 & Documentary,Short       \\\\\n",
       "\t2 & tt0000002 & short & Le clown et ses chiens & Le clown et ses chiens & 0 & 12 & 384 & Animation,Short         \\\\\n",
       "\t3 & tt0000003 & short & Pauvre Pierrot         & Pauvre Pierrot         & 0 & 12 & 340 & Animation,Comedy,Romance\\\\\n",
       "\t4 & tt0000004 & short & Un bon bock            & Un bon bock            & 0 & 12 &  32 & Animation,Short         \\\\\n",
       "\t5 & tt0000005 & short & Blacksmith Scene       & Blacksmith Scene       & 0 & 13 &   3 & Comedy,Short            \\\\\n",
       "\t6 & tt0000006 & short & Chinese Opium Den      & Chinese Opium Den      & 0 & 14 &   3 & Short                   \\\\\n",
       "\\end{tabular}\n"
      ],
      "text/markdown": [
       "\n",
       "A data.frame: 6 × 8\n",
       "\n",
       "| <!--/--> | tconst &lt;fct&gt; | titleType &lt;fct&gt; | primaryTitle &lt;fct&gt; | originalTitle &lt;fct&gt; | isAdult &lt;fct&gt; | startYear &lt;dbl&gt; | runtimeMinutes &lt;dbl&gt; | genres &lt;fct&gt; |\n",
       "|---|---|---|---|---|---|---|---|---|\n",
       "| 1 | tt0000001 | short | Carmencita             | Carmencita             | 0 | 14 |   3 | Documentary,Short        |\n",
       "| 2 | tt0000002 | short | Le clown et ses chiens | Le clown et ses chiens | 0 | 12 | 384 | Animation,Short          |\n",
       "| 3 | tt0000003 | short | Pauvre Pierrot         | Pauvre Pierrot         | 0 | 12 | 340 | Animation,Comedy,Romance |\n",
       "| 4 | tt0000004 | short | Un bon bock            | Un bon bock            | 0 | 12 |  32 | Animation,Short          |\n",
       "| 5 | tt0000005 | short | Blacksmith Scene       | Blacksmith Scene       | 0 | 13 |   3 | Comedy,Short             |\n",
       "| 6 | tt0000006 | short | Chinese Opium Den      | Chinese Opium Den      | 0 | 14 |   3 | Short                    |\n",
       "\n"
      ],
      "text/plain": [
       "  tconst    titleType primaryTitle           originalTitle          isAdult\n",
       "1 tt0000001 short     Carmencita             Carmencita             0      \n",
       "2 tt0000002 short     Le clown et ses chiens Le clown et ses chiens 0      \n",
       "3 tt0000003 short     Pauvre Pierrot         Pauvre Pierrot         0      \n",
       "4 tt0000004 short     Un bon bock            Un bon bock            0      \n",
       "5 tt0000005 short     Blacksmith Scene       Blacksmith Scene       0      \n",
       "6 tt0000006 short     Chinese Opium Den      Chinese Opium Den      0      \n",
       "  startYear runtimeMinutes genres                  \n",
       "1 14          3            Documentary,Short       \n",
       "2 12        384            Animation,Short         \n",
       "3 12        340            Animation,Comedy,Romance\n",
       "4 12         32            Animation,Short         \n",
       "5 13          3            Comedy,Short            \n",
       "6 14          3            Short                   "
      ]
     },
     "metadata": {},
     "output_type": "display_data"
    }
   ],
   "source": [
    "head(title_basics)"
   ]
  },
  {
   "cell_type": "markdown",
   "metadata": {},
   "source": [
    "#### title principals"
   ]
  },
  {
   "cell_type": "code",
   "execution_count": 17,
   "metadata": {},
   "outputs": [
    {
     "data": {
      "text/html": [
       "<table>\n",
       "<caption>A data.frame: 6 × 3</caption>\n",
       "<thead>\n",
       "\t<tr><th></th><th scope=col>tconst</th><th scope=col>nconst</th><th scope=col>category</th></tr>\n",
       "\t<tr><th></th><th scope=col>&lt;fct&gt;</th><th scope=col>&lt;fct&gt;</th><th scope=col>&lt;fct&gt;</th></tr>\n",
       "</thead>\n",
       "<tbody>\n",
       "\t<tr><th scope=row>1</th><td>tt0000001</td><td>nm1588970</td><td>self           </td></tr>\n",
       "\t<tr><th scope=row>2</th><td>tt0000001</td><td>nm0005690</td><td>director       </td></tr>\n",
       "\t<tr><th scope=row>3</th><td>tt0000001</td><td>nm0374658</td><td>cinematographer</td></tr>\n",
       "\t<tr><th scope=row>4</th><td>tt0000002</td><td>nm0721526</td><td>director       </td></tr>\n",
       "\t<tr><th scope=row>5</th><td>tt0000002</td><td>nm1335271</td><td>composer       </td></tr>\n",
       "\t<tr><th scope=row>6</th><td>tt0000003</td><td>nm0721526</td><td>director       </td></tr>\n",
       "</tbody>\n",
       "</table>\n"
      ],
      "text/latex": [
       "A data.frame: 6 × 3\n",
       "\\begin{tabular}{r|lll}\n",
       "  & tconst & nconst & category\\\\\n",
       "  & <fct> & <fct> & <fct>\\\\\n",
       "\\hline\n",
       "\t1 & tt0000001 & nm1588970 & self           \\\\\n",
       "\t2 & tt0000001 & nm0005690 & director       \\\\\n",
       "\t3 & tt0000001 & nm0374658 & cinematographer\\\\\n",
       "\t4 & tt0000002 & nm0721526 & director       \\\\\n",
       "\t5 & tt0000002 & nm1335271 & composer       \\\\\n",
       "\t6 & tt0000003 & nm0721526 & director       \\\\\n",
       "\\end{tabular}\n"
      ],
      "text/markdown": [
       "\n",
       "A data.frame: 6 × 3\n",
       "\n",
       "| <!--/--> | tconst &lt;fct&gt; | nconst &lt;fct&gt; | category &lt;fct&gt; |\n",
       "|---|---|---|---|\n",
       "| 1 | tt0000001 | nm1588970 | self            |\n",
       "| 2 | tt0000001 | nm0005690 | director        |\n",
       "| 3 | tt0000001 | nm0374658 | cinematographer |\n",
       "| 4 | tt0000002 | nm0721526 | director        |\n",
       "| 5 | tt0000002 | nm1335271 | composer        |\n",
       "| 6 | tt0000003 | nm0721526 | director        |\n",
       "\n"
      ],
      "text/plain": [
       "  tconst    nconst    category       \n",
       "1 tt0000001 nm1588970 self           \n",
       "2 tt0000001 nm0005690 director       \n",
       "3 tt0000001 nm0374658 cinematographer\n",
       "4 tt0000002 nm0721526 director       \n",
       "5 tt0000002 nm1335271 composer       \n",
       "6 tt0000003 nm0721526 director       "
      ]
     },
     "metadata": {},
     "output_type": "display_data"
    }
   ],
   "source": [
    "head(title_principals)"
   ]
  },
  {
   "cell_type": "markdown",
   "metadata": {},
   "source": [
    "#### title ratings"
   ]
  },
  {
   "cell_type": "code",
   "execution_count": 18,
   "metadata": {},
   "outputs": [
    {
     "data": {
      "text/html": [
       "<table>\n",
       "<caption>A data.frame: 6 × 3</caption>\n",
       "<thead>\n",
       "\t<tr><th></th><th scope=col>tconst</th><th scope=col>averageRating</th><th scope=col>numVotes</th></tr>\n",
       "\t<tr><th></th><th scope=col>&lt;fct&gt;</th><th scope=col>&lt;dbl&gt;</th><th scope=col>&lt;int&gt;</th></tr>\n",
       "</thead>\n",
       "<tbody>\n",
       "\t<tr><th scope=row>1</th><td>tt0000001</td><td>5.6</td><td>1654</td></tr>\n",
       "\t<tr><th scope=row>2</th><td>tt0000002</td><td>6.1</td><td> 199</td></tr>\n",
       "\t<tr><th scope=row>3</th><td>tt0000003</td><td>6.5</td><td>1366</td></tr>\n",
       "\t<tr><th scope=row>4</th><td>tt0000004</td><td>6.2</td><td> 121</td></tr>\n",
       "\t<tr><th scope=row>5</th><td>tt0000005</td><td>6.2</td><td>2149</td></tr>\n",
       "\t<tr><th scope=row>6</th><td>tt0000006</td><td>5.3</td><td> 115</td></tr>\n",
       "</tbody>\n",
       "</table>\n"
      ],
      "text/latex": [
       "A data.frame: 6 × 3\n",
       "\\begin{tabular}{r|lll}\n",
       "  & tconst & averageRating & numVotes\\\\\n",
       "  & <fct> & <dbl> & <int>\\\\\n",
       "\\hline\n",
       "\t1 & tt0000001 & 5.6 & 1654\\\\\n",
       "\t2 & tt0000002 & 6.1 &  199\\\\\n",
       "\t3 & tt0000003 & 6.5 & 1366\\\\\n",
       "\t4 & tt0000004 & 6.2 &  121\\\\\n",
       "\t5 & tt0000005 & 6.2 & 2149\\\\\n",
       "\t6 & tt0000006 & 5.3 &  115\\\\\n",
       "\\end{tabular}\n"
      ],
      "text/markdown": [
       "\n",
       "A data.frame: 6 × 3\n",
       "\n",
       "| <!--/--> | tconst &lt;fct&gt; | averageRating &lt;dbl&gt; | numVotes &lt;int&gt; |\n",
       "|---|---|---|---|\n",
       "| 1 | tt0000001 | 5.6 | 1654 |\n",
       "| 2 | tt0000002 | 6.1 |  199 |\n",
       "| 3 | tt0000003 | 6.5 | 1366 |\n",
       "| 4 | tt0000004 | 6.2 |  121 |\n",
       "| 5 | tt0000005 | 6.2 | 2149 |\n",
       "| 6 | tt0000006 | 5.3 |  115 |\n",
       "\n"
      ],
      "text/plain": [
       "  tconst    averageRating numVotes\n",
       "1 tt0000001 5.6           1654    \n",
       "2 tt0000002 6.1            199    \n",
       "3 tt0000003 6.5           1366    \n",
       "4 tt0000004 6.2            121    \n",
       "5 tt0000005 6.2           2149    \n",
       "6 tt0000006 5.3            115    "
      ]
     },
     "metadata": {},
     "output_type": "display_data"
    }
   ],
   "source": [
    "head(title_ratings)"
   ]
  },
  {
   "cell_type": "markdown",
   "metadata": {},
   "source": [
    "#### title crew"
   ]
  },
  {
   "cell_type": "code",
   "execution_count": 19,
   "metadata": {},
   "outputs": [
    {
     "data": {
      "text/html": [
       "<table>\n",
       "<caption>A data.frame: 6 × 3</caption>\n",
       "<thead>\n",
       "\t<tr><th></th><th scope=col>tconst</th><th scope=col>directors</th><th scope=col>writers</th></tr>\n",
       "\t<tr><th></th><th scope=col>&lt;fct&gt;</th><th scope=col>&lt;fct&gt;</th><th scope=col>&lt;fct&gt;</th></tr>\n",
       "</thead>\n",
       "<tbody>\n",
       "\t<tr><th scope=row>1</th><td>tt0000001</td><td>nm0005690</td><td>\\N</td></tr>\n",
       "\t<tr><th scope=row>2</th><td>tt0000002</td><td>nm0721526</td><td>\\N</td></tr>\n",
       "\t<tr><th scope=row>3</th><td>tt0000003</td><td>nm0721526</td><td>\\N</td></tr>\n",
       "\t<tr><th scope=row>4</th><td>tt0000004</td><td>nm0721526</td><td>\\N</td></tr>\n",
       "\t<tr><th scope=row>5</th><td>tt0000005</td><td>nm0005690</td><td>\\N</td></tr>\n",
       "\t<tr><th scope=row>6</th><td>tt0000006</td><td>nm0005690</td><td>\\N</td></tr>\n",
       "</tbody>\n",
       "</table>\n"
      ],
      "text/latex": [
       "A data.frame: 6 × 3\n",
       "\\begin{tabular}{r|lll}\n",
       "  & tconst & directors & writers\\\\\n",
       "  & <fct> & <fct> & <fct>\\\\\n",
       "\\hline\n",
       "\t1 & tt0000001 & nm0005690 & \\textbackslash{}N\\\\\n",
       "\t2 & tt0000002 & nm0721526 & \\textbackslash{}N\\\\\n",
       "\t3 & tt0000003 & nm0721526 & \\textbackslash{}N\\\\\n",
       "\t4 & tt0000004 & nm0721526 & \\textbackslash{}N\\\\\n",
       "\t5 & tt0000005 & nm0005690 & \\textbackslash{}N\\\\\n",
       "\t6 & tt0000006 & nm0005690 & \\textbackslash{}N\\\\\n",
       "\\end{tabular}\n"
      ],
      "text/markdown": [
       "\n",
       "A data.frame: 6 × 3\n",
       "\n",
       "| <!--/--> | tconst &lt;fct&gt; | directors &lt;fct&gt; | writers &lt;fct&gt; |\n",
       "|---|---|---|---|\n",
       "| 1 | tt0000001 | nm0005690 | \\N |\n",
       "| 2 | tt0000002 | nm0721526 | \\N |\n",
       "| 3 | tt0000003 | nm0721526 | \\N |\n",
       "| 4 | tt0000004 | nm0721526 | \\N |\n",
       "| 5 | tt0000005 | nm0005690 | \\N |\n",
       "| 6 | tt0000006 | nm0005690 | \\N |\n",
       "\n"
      ],
      "text/plain": [
       "  tconst    directors writers\n",
       "1 tt0000001 nm0005690 \\\\N    \n",
       "2 tt0000002 nm0721526 \\\\N    \n",
       "3 tt0000003 nm0721526 \\\\N    \n",
       "4 tt0000004 nm0721526 \\\\N    \n",
       "5 tt0000005 nm0005690 \\\\N    \n",
       "6 tt0000006 nm0005690 \\\\N    "
      ]
     },
     "metadata": {},
     "output_type": "display_data"
    }
   ],
   "source": [
    "head(title_crew)"
   ]
  },
  {
   "cell_type": "code",
   "execution_count": 16,
   "metadata": {},
   "outputs": [],
   "source": []
  },
  {
   "cell_type": "code",
   "execution_count": null,
   "metadata": {},
   "outputs": [],
   "source": []
  },
  {
   "cell_type": "code",
   "execution_count": 25,
   "metadata": {},
   "outputs": [],
   "source": []
  },
  {
   "cell_type": "code",
   "execution_count": null,
   "metadata": {},
   "outputs": [],
   "source": []
  }
 ],
 "metadata": {
  "kernelspec": {
   "display_name": "R",
   "language": "R",
   "name": "ir"
  },
  "language_info": {
   "codemirror_mode": "r",
   "file_extension": ".r",
   "mimetype": "text/x-r-source",
   "name": "R",
   "pygments_lexer": "r",
   "version": "3.6.3"
  }
 },
 "nbformat": 4,
 "nbformat_minor": 4
}
