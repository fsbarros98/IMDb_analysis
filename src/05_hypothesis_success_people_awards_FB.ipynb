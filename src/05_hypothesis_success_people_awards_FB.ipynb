{
 "cells": [
  {
   "cell_type": "markdown",
   "metadata": {},
   "source": [
    "# Hipothesis - Titles' Success\n",
    "## Titles Awards"
   ]
  },
  {
   "cell_type": "code",
   "execution_count": 1,
   "metadata": {},
   "outputs": [
    {
     "name": "stderr",
     "output_type": "stream",
     "text": [
      "Registered S3 methods overwritten by 'ggplot2':\n",
      "  method         from \n",
      "  [.quosures     rlang\n",
      "  c.quosures     rlang\n",
      "  print.quosures rlang\n",
      "\n",
      "Attaching package: ‘dplyr’\n",
      "\n",
      "The following objects are masked from ‘package:stats’:\n",
      "\n",
      "    filter, lag\n",
      "\n",
      "The following objects are masked from ‘package:base’:\n",
      "\n",
      "    intersect, setdiff, setequal, union\n",
      "\n",
      "Registered S3 method overwritten by 'rvest':\n",
      "  method            from\n",
      "  read_xml.response xml2\n",
      "── Attaching packages ─────────────────────────────────────── tidyverse 1.2.1 ──\n",
      "✔ tibble  3.0.4     ✔ purrr   0.3.2\n",
      "✔ tidyr   0.8.3     ✔ stringr 1.4.0\n",
      "✔ readr   1.3.1     ✔ forcats 0.4.0\n",
      "── Conflicts ────────────────────────────────────────── tidyverse_conflicts() ──\n",
      "✖ dplyr::filter() masks stats::filter()\n",
      "✖ dplyr::lag()    masks stats::lag()\n"
     ]
    }
   ],
   "source": [
    "#libraries\n",
    "library(ggplot2)\n",
    "library(dplyr)\n",
    "library(tidyverse)\n",
    "library(stringr)"
   ]
  },
  {
   "cell_type": "code",
   "execution_count": 2,
   "metadata": {},
   "outputs": [],
   "source": [
    "#load datasets"
   ]
  },
  {
   "cell_type": "code",
   "execution_count": 3,
   "metadata": {},
   "outputs": [],
   "source": [
    "title_basics=read.delim(\"./../dataset/title_basics_cleaned_withtitle.tsv\",header=TRUE)"
   ]
  },
  {
   "cell_type": "code",
   "execution_count": 4,
   "metadata": {},
   "outputs": [],
   "source": [
    "golden_globes = read.csv(\"./../dataset/golden_globe_awards.csv\",header=TRUE) "
   ]
  },
  {
   "cell_type": "code",
   "execution_count": 5,
   "metadata": {},
   "outputs": [],
   "source": [
    "emmy_awards = read.csv(\"./../dataset/the_emmy_awards.csv\",header=TRUE) "
   ]
  },
  {
   "cell_type": "code",
   "execution_count": 6,
   "metadata": {},
   "outputs": [
    {
     "data": {
      "text/html": [
       "<table>\n",
       "<thead><tr><th scope=col>tconst</th><th scope=col>titleType</th><th scope=col>primaryTitle</th><th scope=col>isAdult</th><th scope=col>startYear</th><th scope=col>runtimeMinutes</th><th scope=col>genre1</th><th scope=col>genre2</th><th scope=col>genre3</th></tr></thead>\n",
       "<tbody>\n",
       "\t<tr><td>tt0000001             </td><td>short                 </td><td>Carmencita            </td><td>0                     </td><td>1894                  </td><td> 1                    </td><td>Documentary           </td><td>Short                 </td><td>0                     </td></tr>\n",
       "\t<tr><td>tt0000002             </td><td>short                 </td><td>Le clown et ses chiens</td><td>0                     </td><td>1892                  </td><td> 5                    </td><td>Animation             </td><td>Short                 </td><td>0                     </td></tr>\n",
       "\t<tr><td>tt0000003             </td><td>short                 </td><td>Pauvre Pierrot        </td><td>0                     </td><td>1892                  </td><td> 4                    </td><td>Animation             </td><td>Comedy                </td><td>Romance               </td></tr>\n",
       "\t<tr><td>tt0000004             </td><td>short                 </td><td>Un bon bock           </td><td>0                     </td><td>1892                  </td><td>12                    </td><td>Animation             </td><td>Short                 </td><td>0                     </td></tr>\n",
       "\t<tr><td>tt0000005             </td><td>short                 </td><td>Blacksmith Scene      </td><td>0                     </td><td>1893                  </td><td> 1                    </td><td>Comedy                </td><td>Short                 </td><td>0                     </td></tr>\n",
       "\t<tr><td>tt0000006             </td><td>short                 </td><td>Chinese Opium Den     </td><td>0                     </td><td>1894                  </td><td> 1                    </td><td>Short                 </td><td>0                     </td><td>0                     </td></tr>\n",
       "</tbody>\n",
       "</table>\n"
      ],
      "text/latex": [
       "\\begin{tabular}{r|lllllllll}\n",
       " tconst & titleType & primaryTitle & isAdult & startYear & runtimeMinutes & genre1 & genre2 & genre3\\\\\n",
       "\\hline\n",
       "\t tt0000001              & short                  & Carmencita             & 0                      & 1894                   &  1                     & Documentary            & Short                  & 0                     \\\\\n",
       "\t tt0000002              & short                  & Le clown et ses chiens & 0                      & 1892                   &  5                     & Animation              & Short                  & 0                     \\\\\n",
       "\t tt0000003              & short                  & Pauvre Pierrot         & 0                      & 1892                   &  4                     & Animation              & Comedy                 & Romance               \\\\\n",
       "\t tt0000004              & short                  & Un bon bock            & 0                      & 1892                   & 12                     & Animation              & Short                  & 0                     \\\\\n",
       "\t tt0000005              & short                  & Blacksmith Scene       & 0                      & 1893                   &  1                     & Comedy                 & Short                  & 0                     \\\\\n",
       "\t tt0000006              & short                  & Chinese Opium Den      & 0                      & 1894                   &  1                     & Short                  & 0                      & 0                     \\\\\n",
       "\\end{tabular}\n"
      ],
      "text/markdown": [
       "\n",
       "| tconst | titleType | primaryTitle | isAdult | startYear | runtimeMinutes | genre1 | genre2 | genre3 |\n",
       "|---|---|---|---|---|---|---|---|---|\n",
       "| tt0000001              | short                  | Carmencita             | 0                      | 1894                   |  1                     | Documentary            | Short                  | 0                      |\n",
       "| tt0000002              | short                  | Le clown et ses chiens | 0                      | 1892                   |  5                     | Animation              | Short                  | 0                      |\n",
       "| tt0000003              | short                  | Pauvre Pierrot         | 0                      | 1892                   |  4                     | Animation              | Comedy                 | Romance                |\n",
       "| tt0000004              | short                  | Un bon bock            | 0                      | 1892                   | 12                     | Animation              | Short                  | 0                      |\n",
       "| tt0000005              | short                  | Blacksmith Scene       | 0                      | 1893                   |  1                     | Comedy                 | Short                  | 0                      |\n",
       "| tt0000006              | short                  | Chinese Opium Den      | 0                      | 1894                   |  1                     | Short                  | 0                      | 0                      |\n",
       "\n"
      ],
      "text/plain": [
       "  tconst    titleType primaryTitle           isAdult startYear runtimeMinutes\n",
       "1 tt0000001 short     Carmencita             0       1894       1            \n",
       "2 tt0000002 short     Le clown et ses chiens 0       1892       5            \n",
       "3 tt0000003 short     Pauvre Pierrot         0       1892       4            \n",
       "4 tt0000004 short     Un bon bock            0       1892      12            \n",
       "5 tt0000005 short     Blacksmith Scene       0       1893       1            \n",
       "6 tt0000006 short     Chinese Opium Den      0       1894       1            \n",
       "  genre1      genre2 genre3 \n",
       "1 Documentary Short  0      \n",
       "2 Animation   Short  0      \n",
       "3 Animation   Comedy Romance\n",
       "4 Animation   Short  0      \n",
       "5 Comedy      Short  0      \n",
       "6 Short       0      0      "
      ]
     },
     "metadata": {},
     "output_type": "display_data"
    }
   ],
   "source": [
    "head(title_basics)"
   ]
  },
  {
   "cell_type": "code",
   "execution_count": 7,
   "metadata": {},
   "outputs": [
    {
     "data": {
      "text/html": [
       "<table>\n",
       "<thead><tr><th scope=col>year_film</th><th scope=col>year_award</th><th scope=col>ceremony</th><th scope=col>category</th><th scope=col>nominee</th><th scope=col>film</th><th scope=col>win</th></tr></thead>\n",
       "<tbody>\n",
       "\t<tr><td>1943                                                                     </td><td>1944                                                                     </td><td>1                                                                        </td><td>Best Performance by an Actress in a Supporting Role in any Motion Picture</td><td>Katina Paxinou                                                           </td><td>For Whom The Bell Tolls                                                  </td><td>True                                                                     </td></tr>\n",
       "\t<tr><td>1943                                                                     </td><td>1944                                                                     </td><td>1                                                                        </td><td>Best Performance by an Actor in a Supporting Role in any Motion Picture  </td><td>Akim Tamiroff                                                            </td><td>For Whom The Bell Tolls                                                  </td><td>True                                                                     </td></tr>\n",
       "\t<tr><td>1943                                                                     </td><td>1944                                                                     </td><td>1                                                                        </td><td>Best Director - Motion Picture                                           </td><td>Henry King                                                               </td><td>The Song Of Bernadette                                                   </td><td>True                                                                     </td></tr>\n",
       "\t<tr><td>1943                                                                     </td><td>1944                                                                     </td><td>1                                                                        </td><td>Picture                                                                  </td><td>The Song Of Bernadette                                                   </td><td>                                                                         </td><td>True                                                                     </td></tr>\n",
       "\t<tr><td>1943                                                                     </td><td>1944                                                                     </td><td>1                                                                        </td><td>Actress In A Leading Role                                                </td><td>Jennifer Jones                                                           </td><td>The Song Of Bernadette                                                   </td><td>True                                                                     </td></tr>\n",
       "\t<tr><td>1943                                                                     </td><td>1944                                                                     </td><td>1                                                                        </td><td>Actor In A Leading Role                                                  </td><td>Paul Lukas                                                               </td><td>Watch On The Rhine                                                       </td><td>True                                                                     </td></tr>\n",
       "</tbody>\n",
       "</table>\n"
      ],
      "text/latex": [
       "\\begin{tabular}{r|lllllll}\n",
       " year\\_film & year\\_award & ceremony & category & nominee & film & win\\\\\n",
       "\\hline\n",
       "\t 1943                                                                      & 1944                                                                      & 1                                                                         & Best Performance by an Actress in a Supporting Role in any Motion Picture & Katina Paxinou                                                            & For Whom The Bell Tolls                                                   & True                                                                     \\\\\n",
       "\t 1943                                                                      & 1944                                                                      & 1                                                                         & Best Performance by an Actor in a Supporting Role in any Motion Picture   & Akim Tamiroff                                                             & For Whom The Bell Tolls                                                   & True                                                                     \\\\\n",
       "\t 1943                                                                      & 1944                                                                      & 1                                                                         & Best Director - Motion Picture                                            & Henry King                                                                & The Song Of Bernadette                                                    & True                                                                     \\\\\n",
       "\t 1943                                                                      & 1944                                                                      & 1                                                                         & Picture                                                                   & The Song Of Bernadette                                                    &                                                                           & True                                                                     \\\\\n",
       "\t 1943                                                                      & 1944                                                                      & 1                                                                         & Actress In A Leading Role                                                 & Jennifer Jones                                                            & The Song Of Bernadette                                                    & True                                                                     \\\\\n",
       "\t 1943                                                                      & 1944                                                                      & 1                                                                         & Actor In A Leading Role                                                   & Paul Lukas                                                                & Watch On The Rhine                                                        & True                                                                     \\\\\n",
       "\\end{tabular}\n"
      ],
      "text/markdown": [
       "\n",
       "| year_film | year_award | ceremony | category | nominee | film | win |\n",
       "|---|---|---|---|---|---|---|\n",
       "| 1943                                                                      | 1944                                                                      | 1                                                                         | Best Performance by an Actress in a Supporting Role in any Motion Picture | Katina Paxinou                                                            | For Whom The Bell Tolls                                                   | True                                                                      |\n",
       "| 1943                                                                      | 1944                                                                      | 1                                                                         | Best Performance by an Actor in a Supporting Role in any Motion Picture   | Akim Tamiroff                                                             | For Whom The Bell Tolls                                                   | True                                                                      |\n",
       "| 1943                                                                      | 1944                                                                      | 1                                                                         | Best Director - Motion Picture                                            | Henry King                                                                | The Song Of Bernadette                                                    | True                                                                      |\n",
       "| 1943                                                                      | 1944                                                                      | 1                                                                         | Picture                                                                   | The Song Of Bernadette                                                    |                                                                           | True                                                                      |\n",
       "| 1943                                                                      | 1944                                                                      | 1                                                                         | Actress In A Leading Role                                                 | Jennifer Jones                                                            | The Song Of Bernadette                                                    | True                                                                      |\n",
       "| 1943                                                                      | 1944                                                                      | 1                                                                         | Actor In A Leading Role                                                   | Paul Lukas                                                                | Watch On The Rhine                                                        | True                                                                      |\n",
       "\n"
      ],
      "text/plain": [
       "  year_film year_award ceremony\n",
       "1 1943      1944       1       \n",
       "2 1943      1944       1       \n",
       "3 1943      1944       1       \n",
       "4 1943      1944       1       \n",
       "5 1943      1944       1       \n",
       "6 1943      1944       1       \n",
       "  category                                                                 \n",
       "1 Best Performance by an Actress in a Supporting Role in any Motion Picture\n",
       "2 Best Performance by an Actor in a Supporting Role in any Motion Picture  \n",
       "3 Best Director - Motion Picture                                           \n",
       "4 Picture                                                                  \n",
       "5 Actress In A Leading Role                                                \n",
       "6 Actor In A Leading Role                                                  \n",
       "  nominee                film                    win \n",
       "1 Katina Paxinou         For Whom The Bell Tolls True\n",
       "2 Akim Tamiroff          For Whom The Bell Tolls True\n",
       "3 Henry King             The Song Of Bernadette  True\n",
       "4 The Song Of Bernadette                         True\n",
       "5 Jennifer Jones         The Song Of Bernadette  True\n",
       "6 Paul Lukas             Watch On The Rhine      True"
      ]
     },
     "metadata": {},
     "output_type": "display_data"
    }
   ],
   "source": [
    "head(golden_globes)"
   ]
  },
  {
   "cell_type": "code",
   "execution_count": 8,
   "metadata": {},
   "outputs": [
    {
     "data": {
      "text/html": [
       "<table>\n",
       "<thead><tr><th scope=col>id</th><th scope=col>startYear</th><th scope=col>category</th><th scope=col>primaryTitle</th><th scope=col>staff</th><th scope=col>company</th><th scope=col>producer</th><th scope=col>win</th></tr></thead>\n",
       "<tbody>\n",
       "\t<tr><td>1                                                                                              </td><td>2019                                                                                           </td><td>Outstanding Character Voice-Over Performance                                                   </td><td>The Simpsons                                                                                   </td><td>Hank Azaria, as Moe, Carl, Duffman, Kirk                                                       </td><td>FOX                                                                                            </td><td>Gracie Films in association with 20th Century Fox Television                                   </td><td>False                                                                                          </td></tr>\n",
       "\t<tr><td>2                                                                                              </td><td>2019                                                                                           </td><td>Outstanding Character Voice-Over Performance                                                   </td><td>Family Guy                                                                                     </td><td>Alex Borstein, as Lois Griffin, Tricia Takanawa                                                </td><td>FOX                                                                                            </td><td>20th Century Fox Television                                                                    </td><td>False                                                                                          </td></tr>\n",
       "\t<tr><td>3                                                                                              </td><td>2019                                                                                           </td><td>Outstanding Character Voice-Over Performance                                                   </td><td>When You Wish Upon A Pickle: A Sesame Street Special                                           </td><td>Eric Jacobson, as Bert, Grover, Oscar                                                          </td><td>HBO                                                                                            </td><td>Sesame Street Workshop                                                                         </td><td>False                                                                                          </td></tr>\n",
       "\t<tr><td>4                                                                                              </td><td>2019                                                                                           </td><td>Outstanding Character Voice-Over Performance                                                   </td><td>F Is For Family                                                                                </td><td>Kevin Michael Richardson, as Rosie                                                             </td><td>Netflix                                                                                        </td><td>Wild West Television in association with Gaumont Television                                    </td><td>False                                                                                          </td></tr>\n",
       "\t<tr><td>5                                                                                              </td><td>2019                                                                                           </td><td>Outstanding Production Design For A Narrative Contemporary Program (One Hour Or More)          </td><td>Escape At Dannemora                                                                            </td><td>Mark Ricker, Production Designer; James Truesdale, Art Director; Cherish M. Hale, Set Decorator</td><td>Showtime                                                                                       </td><td>Red Hour, Busyhands, The White Mountain Company, Michael De Luca Productions, BZ Entertainment </td><td>False                                                                                          </td></tr>\n",
       "\t<tr><td>6                                                                                              </td><td>2019                                                                                           </td><td>Outstanding Production Design For A Narrative Contemporary Program (One Hour Or More)          </td><td>Killing Eve                                                                                    </td><td>Laurence Dorman, Production Designer; Beckie Harvey, Art Director; Linda Wilson, Set Decorator </td><td>BBC America                                                                                    </td><td>Sid Gentle Films Ltd.                                                                          </td><td>False                                                                                          </td></tr>\n",
       "</tbody>\n",
       "</table>\n"
      ],
      "text/latex": [
       "\\begin{tabular}{r|llllllll}\n",
       " id & startYear & category & primaryTitle & staff & company & producer & win\\\\\n",
       "\\hline\n",
       "\t 1                                                                                               & 2019                                                                                            & Outstanding Character Voice-Over Performance                                                    & The Simpsons                                                                                    & Hank Azaria, as Moe, Carl, Duffman, Kirk                                                        & FOX                                                                                             & Gracie Films in association with 20th Century Fox Television                                    & False                                                                                          \\\\\n",
       "\t 2                                                                                               & 2019                                                                                            & Outstanding Character Voice-Over Performance                                                    & Family Guy                                                                                      & Alex Borstein, as Lois Griffin, Tricia Takanawa                                                 & FOX                                                                                             & 20th Century Fox Television                                                                     & False                                                                                          \\\\\n",
       "\t 3                                                                                               & 2019                                                                                            & Outstanding Character Voice-Over Performance                                                    & When You Wish Upon A Pickle: A Sesame Street Special                                            & Eric Jacobson, as Bert, Grover, Oscar                                                           & HBO                                                                                             & Sesame Street Workshop                                                                          & False                                                                                          \\\\\n",
       "\t 4                                                                                               & 2019                                                                                            & Outstanding Character Voice-Over Performance                                                    & F Is For Family                                                                                 & Kevin Michael Richardson, as Rosie                                                              & Netflix                                                                                         & Wild West Television in association with Gaumont Television                                     & False                                                                                          \\\\\n",
       "\t 5                                                                                               & 2019                                                                                            & Outstanding Production Design For A Narrative Contemporary Program (One Hour Or More)           & Escape At Dannemora                                                                             & Mark Ricker, Production Designer; James Truesdale, Art Director; Cherish M. Hale, Set Decorator & Showtime                                                                                        & Red Hour, Busyhands, The White Mountain Company, Michael De Luca Productions, BZ Entertainment  & False                                                                                          \\\\\n",
       "\t 6                                                                                               & 2019                                                                                            & Outstanding Production Design For A Narrative Contemporary Program (One Hour Or More)           & Killing Eve                                                                                     & Laurence Dorman, Production Designer; Beckie Harvey, Art Director; Linda Wilson, Set Decorator  & BBC America                                                                                     & Sid Gentle Films Ltd.                                                                           & False                                                                                          \\\\\n",
       "\\end{tabular}\n"
      ],
      "text/markdown": [
       "\n",
       "| id | startYear | category | primaryTitle | staff | company | producer | win |\n",
       "|---|---|---|---|---|---|---|---|\n",
       "| 1                                                                                               | 2019                                                                                            | Outstanding Character Voice-Over Performance                                                    | The Simpsons                                                                                    | Hank Azaria, as Moe, Carl, Duffman, Kirk                                                        | FOX                                                                                             | Gracie Films in association with 20th Century Fox Television                                    | False                                                                                           |\n",
       "| 2                                                                                               | 2019                                                                                            | Outstanding Character Voice-Over Performance                                                    | Family Guy                                                                                      | Alex Borstein, as Lois Griffin, Tricia Takanawa                                                 | FOX                                                                                             | 20th Century Fox Television                                                                     | False                                                                                           |\n",
       "| 3                                                                                               | 2019                                                                                            | Outstanding Character Voice-Over Performance                                                    | When You Wish Upon A Pickle: A Sesame Street Special                                            | Eric Jacobson, as Bert, Grover, Oscar                                                           | HBO                                                                                             | Sesame Street Workshop                                                                          | False                                                                                           |\n",
       "| 4                                                                                               | 2019                                                                                            | Outstanding Character Voice-Over Performance                                                    | F Is For Family                                                                                 | Kevin Michael Richardson, as Rosie                                                              | Netflix                                                                                         | Wild West Television in association with Gaumont Television                                     | False                                                                                           |\n",
       "| 5                                                                                               | 2019                                                                                            | Outstanding Production Design For A Narrative Contemporary Program (One Hour Or More)           | Escape At Dannemora                                                                             | Mark Ricker, Production Designer; James Truesdale, Art Director; Cherish M. Hale, Set Decorator | Showtime                                                                                        | Red Hour, Busyhands, The White Mountain Company, Michael De Luca Productions, BZ Entertainment  | False                                                                                           |\n",
       "| 6                                                                                               | 2019                                                                                            | Outstanding Production Design For A Narrative Contemporary Program (One Hour Or More)           | Killing Eve                                                                                     | Laurence Dorman, Production Designer; Beckie Harvey, Art Director; Linda Wilson, Set Decorator  | BBC America                                                                                     | Sid Gentle Films Ltd.                                                                           | False                                                                                           |\n",
       "\n"
      ],
      "text/plain": [
       "  id startYear\n",
       "1 1  2019     \n",
       "2 2  2019     \n",
       "3 3  2019     \n",
       "4 4  2019     \n",
       "5 5  2019     \n",
       "6 6  2019     \n",
       "  category                                                                             \n",
       "1 Outstanding Character Voice-Over Performance                                         \n",
       "2 Outstanding Character Voice-Over Performance                                         \n",
       "3 Outstanding Character Voice-Over Performance                                         \n",
       "4 Outstanding Character Voice-Over Performance                                         \n",
       "5 Outstanding Production Design For A Narrative Contemporary Program (One Hour Or More)\n",
       "6 Outstanding Production Design For A Narrative Contemporary Program (One Hour Or More)\n",
       "  primaryTitle                                        \n",
       "1 The Simpsons                                        \n",
       "2 Family Guy                                          \n",
       "3 When You Wish Upon A Pickle: A Sesame Street Special\n",
       "4 F Is For Family                                     \n",
       "5 Escape At Dannemora                                 \n",
       "6 Killing Eve                                         \n",
       "  staff                                                                                          \n",
       "1 Hank Azaria, as Moe, Carl, Duffman, Kirk                                                       \n",
       "2 Alex Borstein, as Lois Griffin, Tricia Takanawa                                                \n",
       "3 Eric Jacobson, as Bert, Grover, Oscar                                                          \n",
       "4 Kevin Michael Richardson, as Rosie                                                             \n",
       "5 Mark Ricker, Production Designer; James Truesdale, Art Director; Cherish M. Hale, Set Decorator\n",
       "6 Laurence Dorman, Production Designer; Beckie Harvey, Art Director; Linda Wilson, Set Decorator \n",
       "  company    \n",
       "1 FOX        \n",
       "2 FOX        \n",
       "3 HBO        \n",
       "4 Netflix    \n",
       "5 Showtime   \n",
       "6 BBC America\n",
       "  producer                                                                                      \n",
       "1 Gracie Films in association with 20th Century Fox Television                                  \n",
       "2 20th Century Fox Television                                                                   \n",
       "3 Sesame Street Workshop                                                                        \n",
       "4 Wild West Television in association with Gaumont Television                                   \n",
       "5 Red Hour, Busyhands, The White Mountain Company, Michael De Luca Productions, BZ Entertainment\n",
       "6 Sid Gentle Films Ltd.                                                                         \n",
       "  win  \n",
       "1 False\n",
       "2 False\n",
       "3 False\n",
       "4 False\n",
       "5 False\n",
       "6 False"
      ]
     },
     "metadata": {},
     "output_type": "display_data"
    }
   ],
   "source": [
    "head(emmy_awards)"
   ]
  },
  {
   "cell_type": "markdown",
   "metadata": {},
   "source": [
    "### Cleaning Emmy Awards and Golden Globes datasets"
   ]
  },
  {
   "cell_type": "code",
   "execution_count": 9,
   "metadata": {},
   "outputs": [],
   "source": [
    "clean_emmy = emmy_awards\n",
    "clean_golden = golden_globes"
   ]
  },
  {
   "cell_type": "code",
   "execution_count": 10,
   "metadata": {},
   "outputs": [],
   "source": [
    "clean_emmy$producer=NULL\n",
    "clean_emmy$id=NULL\n",
    "clean_emmy$staff=NULL\n",
    "clean_emmy$company=NULL\n",
    "clean_emmy$staff=NULL"
   ]
  },
  {
   "cell_type": "code",
   "execution_count": 11,
   "metadata": {},
   "outputs": [
    {
     "data": {
      "text/html": [
       "<ol class=list-inline>\n",
       "\t<li>0</li>\n",
       "\t<li>1</li>\n",
       "</ol>\n"
      ],
      "text/latex": [
       "\\begin{enumerate*}\n",
       "\\item 0\n",
       "\\item 1\n",
       "\\end{enumerate*}\n"
      ],
      "text/markdown": [
       "1. 0\n",
       "2. 1\n",
       "\n",
       "\n"
      ],
      "text/plain": [
       "[1] 0 1"
      ]
     },
     "metadata": {},
     "output_type": "display_data"
    }
   ],
   "source": [
    "clean_emmy$win = as.integer(as.logical(clean_emmy$win))\n",
    "unique(clean_emmy$win)"
   ]
  },
  {
   "cell_type": "code",
   "execution_count": 12,
   "metadata": {},
   "outputs": [],
   "source": [
    "colnames(clean_emmy) = c(\"startYear\",\"category_emmy\",\"primaryTitle\",\"win_emmy\")"
   ]
  },
  {
   "cell_type": "code",
   "execution_count": 13,
   "metadata": {},
   "outputs": [
    {
     "data": {
      "text/html": [
       "<ol class=list-inline>\n",
       "\t<li>1</li>\n",
       "\t<li>0</li>\n",
       "</ol>\n"
      ],
      "text/latex": [
       "\\begin{enumerate*}\n",
       "\\item 1\n",
       "\\item 0\n",
       "\\end{enumerate*}\n"
      ],
      "text/markdown": [
       "1. 1\n",
       "2. 0\n",
       "\n",
       "\n"
      ],
      "text/plain": [
       "[1] 1 0"
      ]
     },
     "metadata": {},
     "output_type": "display_data"
    }
   ],
   "source": [
    "clean_golden$ceremony=NULL\n",
    "clean_golden$year_award=NULL\n",
    "clean_golden$win = as.integer(as.logical(clean_golden$win))\n",
    "unique(clean_golden$win)"
   ]
  },
  {
   "cell_type": "code",
   "execution_count": 14,
   "metadata": {},
   "outputs": [],
   "source": [
    "colnames(clean_golden) = c(\"startYear\",\"category_gg\",\"nominee\",\"film\",\"win_gg\")"
   ]
  },
  {
   "cell_type": "markdown",
   "metadata": {},
   "source": [
    "### Check how much complementary information we have"
   ]
  },
  {
   "cell_type": "code",
   "execution_count": 15,
   "metadata": {},
   "outputs": [],
   "source": [
    "# between title basics and emmy awards\n",
    "titles_year = title_basics %>% select(3,5)"
   ]
  },
  {
   "cell_type": "code",
   "execution_count": 16,
   "metadata": {},
   "outputs": [
    {
     "data": {
      "text/html": [
       "<table>\n",
       "<thead><tr><th scope=col>primaryTitle</th><th scope=col>startYear</th></tr></thead>\n",
       "<tbody>\n",
       "\t<tr><td>Carmencita            </td><td>1894                  </td></tr>\n",
       "\t<tr><td>Le clown et ses chiens</td><td>1892                  </td></tr>\n",
       "\t<tr><td>Pauvre Pierrot        </td><td>1892                  </td></tr>\n",
       "\t<tr><td>Un bon bock           </td><td>1892                  </td></tr>\n",
       "\t<tr><td>Blacksmith Scene      </td><td>1893                  </td></tr>\n",
       "\t<tr><td>Chinese Opium Den     </td><td>1894                  </td></tr>\n",
       "</tbody>\n",
       "</table>\n"
      ],
      "text/latex": [
       "\\begin{tabular}{r|ll}\n",
       " primaryTitle & startYear\\\\\n",
       "\\hline\n",
       "\t Carmencita             & 1894                  \\\\\n",
       "\t Le clown et ses chiens & 1892                  \\\\\n",
       "\t Pauvre Pierrot         & 1892                  \\\\\n",
       "\t Un bon bock            & 1892                  \\\\\n",
       "\t Blacksmith Scene       & 1893                  \\\\\n",
       "\t Chinese Opium Den      & 1894                  \\\\\n",
       "\\end{tabular}\n"
      ],
      "text/markdown": [
       "\n",
       "| primaryTitle | startYear |\n",
       "|---|---|\n",
       "| Carmencita             | 1894                   |\n",
       "| Le clown et ses chiens | 1892                   |\n",
       "| Pauvre Pierrot         | 1892                   |\n",
       "| Un bon bock            | 1892                   |\n",
       "| Blacksmith Scene       | 1893                   |\n",
       "| Chinese Opium Den      | 1894                   |\n",
       "\n"
      ],
      "text/plain": [
       "  primaryTitle           startYear\n",
       "1 Carmencita             1894     \n",
       "2 Le clown et ses chiens 1892     \n",
       "3 Pauvre Pierrot         1892     \n",
       "4 Un bon bock            1892     \n",
       "5 Blacksmith Scene       1893     \n",
       "6 Chinese Opium Den      1894     "
      ]
     },
     "metadata": {},
     "output_type": "display_data"
    }
   ],
   "source": [
    "head(titles_year)"
   ]
  },
  {
   "cell_type": "code",
   "execution_count": 17,
   "metadata": {},
   "outputs": [
    {
     "data": {
      "text/html": [
       "1231356"
      ],
      "text/latex": [
       "1231356"
      ],
      "text/markdown": [
       "1231356"
      ],
      "text/plain": [
       "[1] 1231356"
      ]
     },
     "metadata": {},
     "output_type": "display_data"
    }
   ],
   "source": [
    "nrow(titles_year)"
   ]
  },
  {
   "cell_type": "code",
   "execution_count": 18,
   "metadata": {},
   "outputs": [
    {
     "data": {
      "text/html": [
       "<dl class=dl-horizontal>\n",
       "\t<dt>0</dt>\n",
       "\t\t<dd>16586</dd>\n",
       "\t<dt>1</dt>\n",
       "\t\t<dd>4917</dd>\n",
       "</dl>\n"
      ],
      "text/latex": [
       "\\begin{description*}\n",
       "\\item[0] 16586\n",
       "\\item[1] 4917\n",
       "\\end{description*}\n"
      ],
      "text/markdown": [
       "0\n",
       ":   165861\n",
       ":   4917\n",
       "\n"
      ],
      "text/plain": [
       "    0     1 \n",
       "16586  4917 "
      ]
     },
     "metadata": {},
     "output_type": "display_data"
    }
   ],
   "source": [
    "summary(as.factor(clean_emmy$win_emmy))"
   ]
  },
  {
   "cell_type": "code",
   "execution_count": 19,
   "metadata": {},
   "outputs": [],
   "source": [
    "titles_year_emmys = left_join(titles_year,clean_emmy,by=c(\"primaryTitle\",\"startYear\"))"
   ]
  },
  {
   "cell_type": "code",
   "execution_count": 20,
   "metadata": {
    "scrolled": true
   },
   "outputs": [
    {
     "data": {
      "text/html": [
       "<table>\n",
       "<thead><tr><th scope=col>primaryTitle</th><th scope=col>startYear</th><th scope=col>category_emmy</th><th scope=col>win_emmy</th></tr></thead>\n",
       "<tbody>\n",
       "\t<tr><td>Carmencita            </td><td>1894                  </td><td>NA                    </td><td>NA                    </td></tr>\n",
       "\t<tr><td>Le clown et ses chiens</td><td>1892                  </td><td>NA                    </td><td>NA                    </td></tr>\n",
       "\t<tr><td>Pauvre Pierrot        </td><td>1892                  </td><td>NA                    </td><td>NA                    </td></tr>\n",
       "\t<tr><td>Un bon bock           </td><td>1892                  </td><td>NA                    </td><td>NA                    </td></tr>\n",
       "\t<tr><td>Blacksmith Scene      </td><td>1893                  </td><td>NA                    </td><td>NA                    </td></tr>\n",
       "\t<tr><td>Chinese Opium Den     </td><td>1894                  </td><td>NA                    </td><td>NA                    </td></tr>\n",
       "</tbody>\n",
       "</table>\n"
      ],
      "text/latex": [
       "\\begin{tabular}{r|llll}\n",
       " primaryTitle & startYear & category\\_emmy & win\\_emmy\\\\\n",
       "\\hline\n",
       "\t Carmencita             & 1894                   & NA                     & NA                    \\\\\n",
       "\t Le clown et ses chiens & 1892                   & NA                     & NA                    \\\\\n",
       "\t Pauvre Pierrot         & 1892                   & NA                     & NA                    \\\\\n",
       "\t Un bon bock            & 1892                   & NA                     & NA                    \\\\\n",
       "\t Blacksmith Scene       & 1893                   & NA                     & NA                    \\\\\n",
       "\t Chinese Opium Den      & 1894                   & NA                     & NA                    \\\\\n",
       "\\end{tabular}\n"
      ],
      "text/markdown": [
       "\n",
       "| primaryTitle | startYear | category_emmy | win_emmy |\n",
       "|---|---|---|---|\n",
       "| Carmencita             | 1894                   | NA                     | NA                     |\n",
       "| Le clown et ses chiens | 1892                   | NA                     | NA                     |\n",
       "| Pauvre Pierrot         | 1892                   | NA                     | NA                     |\n",
       "| Un bon bock            | 1892                   | NA                     | NA                     |\n",
       "| Blacksmith Scene       | 1893                   | NA                     | NA                     |\n",
       "| Chinese Opium Den      | 1894                   | NA                     | NA                     |\n",
       "\n"
      ],
      "text/plain": [
       "  primaryTitle           startYear category_emmy win_emmy\n",
       "1 Carmencita             1894      NA            NA      \n",
       "2 Le clown et ses chiens 1892      NA            NA      \n",
       "3 Pauvre Pierrot         1892      NA            NA      \n",
       "4 Un bon bock            1892      NA            NA      \n",
       "5 Blacksmith Scene       1893      NA            NA      \n",
       "6 Chinese Opium Den      1894      NA            NA      "
      ]
     },
     "metadata": {},
     "output_type": "display_data"
    }
   ],
   "source": [
    "head(titles_year_emmys)"
   ]
  },
  {
   "cell_type": "code",
   "execution_count": 21,
   "metadata": {},
   "outputs": [
    {
     "data": {
      "text/html": [
       "1232575"
      ],
      "text/latex": [
       "1232575"
      ],
      "text/markdown": [
       "1232575"
      ],
      "text/plain": [
       "[1] 1232575"
      ]
     },
     "metadata": {},
     "output_type": "display_data"
    }
   ],
   "source": [
    "nrow(titles_year_emmys)"
   ]
  },
  {
   "cell_type": "code",
   "execution_count": 22,
   "metadata": {},
   "outputs": [
    {
     "data": {
      "text/html": [
       "1230693"
      ],
      "text/latex": [
       "1230693"
      ],
      "text/markdown": [
       "1230693"
      ],
      "text/plain": [
       "[1] 1230693"
      ]
     },
     "metadata": {},
     "output_type": "display_data"
    }
   ],
   "source": [
    "sum(is.na(titles_year_emmys$win_emmy))"
   ]
  },
  {
   "cell_type": "code",
   "execution_count": 23,
   "metadata": {},
   "outputs": [
    {
     "data": {
      "text/html": [
       "1649"
      ],
      "text/latex": [
       "1649"
      ],
      "text/markdown": [
       "1649"
      ],
      "text/plain": [
       "[1] 1649"
      ]
     },
     "metadata": {},
     "output_type": "display_data"
    }
   ],
   "source": [
    "1329629 - 1327980\n"
   ]
  },
  {
   "cell_type": "code",
   "execution_count": 24,
   "metadata": {},
   "outputs": [
    {
     "data": {
      "text/html": [
       "21503"
      ],
      "text/latex": [
       "21503"
      ],
      "text/markdown": [
       "21503"
      ],
      "text/plain": [
       "[1] 21503"
      ]
     },
     "metadata": {},
     "output_type": "display_data"
    }
   ],
   "source": [
    "nrow(clean_emmy)"
   ]
  },
  {
   "cell_type": "markdown",
   "metadata": {},
   "source": [
    " - we have 1649 correspondences between our title basics and emmys dataset"
   ]
  },
  {
   "cell_type": "code",
   "execution_count": 25,
   "metadata": {},
   "outputs": [
    {
     "data": {
      "text/html": [
       "1800"
      ],
      "text/latex": [
       "1800"
      ],
      "text/markdown": [
       "1800"
      ],
      "text/plain": [
       "[1] 1800"
      ]
     },
     "metadata": {},
     "output_type": "display_data"
    }
   ],
   "source": [
    "# between title basics and golden globes\n",
    "#first, transform the film column into primary title, \n",
    "#adding values of nominee when it is missing\n",
    "nrow(clean_golden[clean_golden$film==\"\",])"
   ]
  },
  {
   "cell_type": "code",
   "execution_count": 26,
   "metadata": {},
   "outputs": [
    {
     "data": {
      "text/html": [
       "7991"
      ],
      "text/latex": [
       "7991"
      ],
      "text/markdown": [
       "7991"
      ],
      "text/plain": [
       "[1] 7991"
      ]
     },
     "metadata": {},
     "output_type": "display_data"
    }
   ],
   "source": [
    "nrow(clean_golden)"
   ]
  },
  {
   "cell_type": "code",
   "execution_count": 27,
   "metadata": {},
   "outputs": [],
   "source": [
    "#let's separate this dataset into \n",
    "#golden globes for people vs. golden globes for movies\n",
    "clean_gg_films = subset(clean_golden,film == \"\")\n",
    "clean_gg_people = subset(clean_golden,film!= \"\")"
   ]
  },
  {
   "cell_type": "code",
   "execution_count": 28,
   "metadata": {},
   "outputs": [
    {
     "data": {
      "text/html": [
       "1800"
      ],
      "text/latex": [
       "1800"
      ],
      "text/markdown": [
       "1800"
      ],
      "text/plain": [
       "[1] 1800"
      ]
     },
     "metadata": {},
     "output_type": "display_data"
    }
   ],
   "source": [
    "nrow(clean_gg_films)"
   ]
  },
  {
   "cell_type": "code",
   "execution_count": 29,
   "metadata": {},
   "outputs": [
    {
     "data": {
      "text/html": [
       "6191"
      ],
      "text/latex": [
       "6191"
      ],
      "text/markdown": [
       "6191"
      ],
      "text/plain": [
       "[1] 6191"
      ]
     },
     "metadata": {},
     "output_type": "display_data"
    }
   ],
   "source": [
    "nrow(clean_gg_people)"
   ]
  },
  {
   "cell_type": "code",
   "execution_count": 30,
   "metadata": {},
   "outputs": [
    {
     "data": {
      "text/html": [
       "<table>\n",
       "<thead><tr><th></th><th scope=col>startYear</th><th scope=col>category_gg_film</th><th scope=col>primaryTitle</th><th scope=col>win_gg_film</th></tr></thead>\n",
       "<tbody>\n",
       "\t<tr><th scope=row>4</th><td>1943                       </td><td>Picture                    </td><td>The Song Of Bernadette     </td><td>1                          </td></tr>\n",
       "\t<tr><th scope=row>10</th><td>1944                       </td><td>Picture                    </td><td>Going My Way               </td><td>1                          </td></tr>\n",
       "\t<tr><th scope=row>17</th><td>1945                       </td><td>Picture                    </td><td>The Lost Weekend           </td><td>1                          </td></tr>\n",
       "\t<tr><th scope=row>25</th><td>1946                       </td><td>Picture                    </td><td>The Best Years Of Our Lives</td><td>1                          </td></tr>\n",
       "\t<tr><th scope=row>36</th><td>1947                       </td><td>Picture                    </td><td>Gentleman's Agreement      </td><td>1                          </td></tr>\n",
       "\t<tr><th scope=row>47</th><td>1948                       </td><td>Picture                    </td><td>Johnny Belinda             </td><td>1                          </td></tr>\n",
       "</tbody>\n",
       "</table>\n"
      ],
      "text/latex": [
       "\\begin{tabular}{r|llll}\n",
       "  & startYear & category\\_gg\\_film & primaryTitle & win\\_gg\\_film\\\\\n",
       "\\hline\n",
       "\t4 & 1943                        & Picture                     & The Song Of Bernadette      & 1                          \\\\\n",
       "\t10 & 1944                        & Picture                     & Going My Way                & 1                          \\\\\n",
       "\t17 & 1945                        & Picture                     & The Lost Weekend            & 1                          \\\\\n",
       "\t25 & 1946                        & Picture                     & The Best Years Of Our Lives & 1                          \\\\\n",
       "\t36 & 1947                        & Picture                     & Gentleman's Agreement       & 1                          \\\\\n",
       "\t47 & 1948                        & Picture                     & Johnny Belinda              & 1                          \\\\\n",
       "\\end{tabular}\n"
      ],
      "text/markdown": [
       "\n",
       "| <!--/--> | startYear | category_gg_film | primaryTitle | win_gg_film |\n",
       "|---|---|---|---|---|\n",
       "| 4 | 1943                        | Picture                     | The Song Of Bernadette      | 1                           |\n",
       "| 10 | 1944                        | Picture                     | Going My Way                | 1                           |\n",
       "| 17 | 1945                        | Picture                     | The Lost Weekend            | 1                           |\n",
       "| 25 | 1946                        | Picture                     | The Best Years Of Our Lives | 1                           |\n",
       "| 36 | 1947                        | Picture                     | Gentleman's Agreement       | 1                           |\n",
       "| 47 | 1948                        | Picture                     | Johnny Belinda              | 1                           |\n",
       "\n"
      ],
      "text/plain": [
       "   startYear category_gg_film primaryTitle                win_gg_film\n",
       "4  1943      Picture          The Song Of Bernadette      1          \n",
       "10 1944      Picture          Going My Way                1          \n",
       "17 1945      Picture          The Lost Weekend            1          \n",
       "25 1946      Picture          The Best Years Of Our Lives 1          \n",
       "36 1947      Picture          Gentleman's Agreement       1          \n",
       "47 1948      Picture          Johnny Belinda              1          "
      ]
     },
     "metadata": {},
     "output_type": "display_data"
    }
   ],
   "source": [
    "clean_gg_films$film =NULL\n",
    "colnames(clean_gg_films) = c(\"startYear\",\"category_gg_film\",\"primaryTitle\",\"win_gg_film\")\n",
    "head(clean_gg_films)"
   ]
  },
  {
   "cell_type": "markdown",
   "metadata": {},
   "source": [
    " - this dataset also contains data from series and tvshows, but these will be erased when merging"
   ]
  },
  {
   "cell_type": "code",
   "execution_count": 31,
   "metadata": {},
   "outputs": [],
   "source": [
    "titles_year_gg_films = left_join(titles_year,clean_gg_films,by=c(\"primaryTitle\",\"startYear\"))"
   ]
  },
  {
   "cell_type": "code",
   "execution_count": 32,
   "metadata": {},
   "outputs": [
    {
     "data": {
      "text/html": [
       "1231356"
      ],
      "text/latex": [
       "1231356"
      ],
      "text/markdown": [
       "1231356"
      ],
      "text/plain": [
       "[1] 1231356"
      ]
     },
     "metadata": {},
     "output_type": "display_data"
    }
   ],
   "source": [
    "nrow(titles_year_gg_films)"
   ]
  },
  {
   "cell_type": "code",
   "execution_count": 33,
   "metadata": {},
   "outputs": [
    {
     "data": {
      "text/html": [
       "1230611"
      ],
      "text/latex": [
       "1230611"
      ],
      "text/markdown": [
       "1230611"
      ],
      "text/plain": [
       "[1] 1230611"
      ]
     },
     "metadata": {},
     "output_type": "display_data"
    }
   ],
   "source": [
    "sum(is.na(titles_year_gg_films$win_gg_film))"
   ]
  },
  {
   "cell_type": "code",
   "execution_count": 34,
   "metadata": {},
   "outputs": [
    {
     "data": {
      "text/html": [
       "727"
      ],
      "text/latex": [
       "727"
      ],
      "text/markdown": [
       "727"
      ],
      "text/plain": [
       "[1] 727"
      ]
     },
     "metadata": {},
     "output_type": "display_data"
    }
   ],
   "source": [
    "1328553-1327826"
   ]
  },
  {
   "cell_type": "markdown",
   "metadata": {},
   "source": [
    " - we have 727 correspondences"
   ]
  },
  {
   "cell_type": "code",
   "execution_count": 35,
   "metadata": {},
   "outputs": [
    {
     "data": {
      "text/html": [
       "<table>\n",
       "<thead><tr><th scope=col>primaryTitle</th><th scope=col>startYear</th><th scope=col>category_gg_film</th><th scope=col>win_gg_film</th></tr></thead>\n",
       "<tbody>\n",
       "\t<tr><td>Carmencita            </td><td>1894                  </td><td>NA                    </td><td>NA                    </td></tr>\n",
       "\t<tr><td>Le clown et ses chiens</td><td>1892                  </td><td>NA                    </td><td>NA                    </td></tr>\n",
       "\t<tr><td>Pauvre Pierrot        </td><td>1892                  </td><td>NA                    </td><td>NA                    </td></tr>\n",
       "\t<tr><td>Un bon bock           </td><td>1892                  </td><td>NA                    </td><td>NA                    </td></tr>\n",
       "\t<tr><td>Blacksmith Scene      </td><td>1893                  </td><td>NA                    </td><td>NA                    </td></tr>\n",
       "\t<tr><td>Chinese Opium Den     </td><td>1894                  </td><td>NA                    </td><td>NA                    </td></tr>\n",
       "</tbody>\n",
       "</table>\n"
      ],
      "text/latex": [
       "\\begin{tabular}{r|llll}\n",
       " primaryTitle & startYear & category\\_gg\\_film & win\\_gg\\_film\\\\\n",
       "\\hline\n",
       "\t Carmencita             & 1894                   & NA                     & NA                    \\\\\n",
       "\t Le clown et ses chiens & 1892                   & NA                     & NA                    \\\\\n",
       "\t Pauvre Pierrot         & 1892                   & NA                     & NA                    \\\\\n",
       "\t Un bon bock            & 1892                   & NA                     & NA                    \\\\\n",
       "\t Blacksmith Scene       & 1893                   & NA                     & NA                    \\\\\n",
       "\t Chinese Opium Den      & 1894                   & NA                     & NA                    \\\\\n",
       "\\end{tabular}\n"
      ],
      "text/markdown": [
       "\n",
       "| primaryTitle | startYear | category_gg_film | win_gg_film |\n",
       "|---|---|---|---|\n",
       "| Carmencita             | 1894                   | NA                     | NA                     |\n",
       "| Le clown et ses chiens | 1892                   | NA                     | NA                     |\n",
       "| Pauvre Pierrot         | 1892                   | NA                     | NA                     |\n",
       "| Un bon bock            | 1892                   | NA                     | NA                     |\n",
       "| Blacksmith Scene       | 1893                   | NA                     | NA                     |\n",
       "| Chinese Opium Den      | 1894                   | NA                     | NA                     |\n",
       "\n"
      ],
      "text/plain": [
       "  primaryTitle           startYear category_gg_film win_gg_film\n",
       "1 Carmencita             1894      NA               NA         \n",
       "2 Le clown et ses chiens 1892      NA               NA         \n",
       "3 Pauvre Pierrot         1892      NA               NA         \n",
       "4 Un bon bock            1892      NA               NA         \n",
       "5 Blacksmith Scene       1893      NA               NA         \n",
       "6 Chinese Opium Den      1894      NA               NA         "
      ]
     },
     "metadata": {},
     "output_type": "display_data"
    }
   ],
   "source": [
    "head(titles_year_gg_films)"
   ]
  },
  {
   "cell_type": "code",
   "execution_count": 36,
   "metadata": {},
   "outputs": [
    {
     "data": {
      "text/html": [
       "<table>\n",
       "<thead><tr><th></th><th scope=col>startYear</th><th scope=col>category_gg_people</th><th scope=col>nominee</th><th scope=col>primaryTitle</th><th scope=col>win_gg_people</th></tr></thead>\n",
       "<tbody>\n",
       "\t<tr><th scope=row>1</th><td>1943                                                                     </td><td>Best Performance by an Actress in a Supporting Role in any Motion Picture</td><td>Katina Paxinou                                                           </td><td>For Whom The Bell Tolls                                                  </td><td>1                                                                        </td></tr>\n",
       "\t<tr><th scope=row>2</th><td>1943                                                                     </td><td>Best Performance by an Actor in a Supporting Role in any Motion Picture  </td><td>Akim Tamiroff                                                            </td><td>For Whom The Bell Tolls                                                  </td><td>1                                                                        </td></tr>\n",
       "\t<tr><th scope=row>3</th><td>1943                                                                     </td><td>Best Director - Motion Picture                                           </td><td>Henry King                                                               </td><td>The Song Of Bernadette                                                   </td><td>1                                                                        </td></tr>\n",
       "\t<tr><th scope=row>5</th><td>1943                                                                     </td><td>Actress In A Leading Role                                                </td><td>Jennifer Jones                                                           </td><td>The Song Of Bernadette                                                   </td><td>1                                                                        </td></tr>\n",
       "\t<tr><th scope=row>6</th><td>1943                                                                     </td><td>Actor In A Leading Role                                                  </td><td>Paul Lukas                                                               </td><td>Watch On The Rhine                                                       </td><td>1                                                                        </td></tr>\n",
       "\t<tr><th scope=row>7</th><td>1944                                                                     </td><td>Best Performance by an Actress in a Supporting Role in any Motion Picture</td><td>Agnes Moorehead                                                          </td><td>Mrs. Parkington                                                          </td><td>1                                                                        </td></tr>\n",
       "</tbody>\n",
       "</table>\n"
      ],
      "text/latex": [
       "\\begin{tabular}{r|lllll}\n",
       "  & startYear & category\\_gg\\_people & nominee & primaryTitle & win\\_gg\\_people\\\\\n",
       "\\hline\n",
       "\t1 & 1943                                                                      & Best Performance by an Actress in a Supporting Role in any Motion Picture & Katina Paxinou                                                            & For Whom The Bell Tolls                                                   & 1                                                                        \\\\\n",
       "\t2 & 1943                                                                      & Best Performance by an Actor in a Supporting Role in any Motion Picture   & Akim Tamiroff                                                             & For Whom The Bell Tolls                                                   & 1                                                                        \\\\\n",
       "\t3 & 1943                                                                      & Best Director - Motion Picture                                            & Henry King                                                                & The Song Of Bernadette                                                    & 1                                                                        \\\\\n",
       "\t5 & 1943                                                                      & Actress In A Leading Role                                                 & Jennifer Jones                                                            & The Song Of Bernadette                                                    & 1                                                                        \\\\\n",
       "\t6 & 1943                                                                      & Actor In A Leading Role                                                   & Paul Lukas                                                                & Watch On The Rhine                                                        & 1                                                                        \\\\\n",
       "\t7 & 1944                                                                      & Best Performance by an Actress in a Supporting Role in any Motion Picture & Agnes Moorehead                                                           & Mrs. Parkington                                                           & 1                                                                        \\\\\n",
       "\\end{tabular}\n"
      ],
      "text/markdown": [
       "\n",
       "| <!--/--> | startYear | category_gg_people | nominee | primaryTitle | win_gg_people |\n",
       "|---|---|---|---|---|---|\n",
       "| 1 | 1943                                                                      | Best Performance by an Actress in a Supporting Role in any Motion Picture | Katina Paxinou                                                            | For Whom The Bell Tolls                                                   | 1                                                                         |\n",
       "| 2 | 1943                                                                      | Best Performance by an Actor in a Supporting Role in any Motion Picture   | Akim Tamiroff                                                             | For Whom The Bell Tolls                                                   | 1                                                                         |\n",
       "| 3 | 1943                                                                      | Best Director - Motion Picture                                            | Henry King                                                                | The Song Of Bernadette                                                    | 1                                                                         |\n",
       "| 5 | 1943                                                                      | Actress In A Leading Role                                                 | Jennifer Jones                                                            | The Song Of Bernadette                                                    | 1                                                                         |\n",
       "| 6 | 1943                                                                      | Actor In A Leading Role                                                   | Paul Lukas                                                                | Watch On The Rhine                                                        | 1                                                                         |\n",
       "| 7 | 1944                                                                      | Best Performance by an Actress in a Supporting Role in any Motion Picture | Agnes Moorehead                                                           | Mrs. Parkington                                                           | 1                                                                         |\n",
       "\n"
      ],
      "text/plain": [
       "  startYear\n",
       "1 1943     \n",
       "2 1943     \n",
       "3 1943     \n",
       "5 1943     \n",
       "6 1943     \n",
       "7 1944     \n",
       "  category_gg_people                                                       \n",
       "1 Best Performance by an Actress in a Supporting Role in any Motion Picture\n",
       "2 Best Performance by an Actor in a Supporting Role in any Motion Picture  \n",
       "3 Best Director - Motion Picture                                           \n",
       "5 Actress In A Leading Role                                                \n",
       "6 Actor In A Leading Role                                                  \n",
       "7 Best Performance by an Actress in a Supporting Role in any Motion Picture\n",
       "  nominee         primaryTitle            win_gg_people\n",
       "1 Katina Paxinou  For Whom The Bell Tolls 1            \n",
       "2 Akim Tamiroff   For Whom The Bell Tolls 1            \n",
       "3 Henry King      The Song Of Bernadette  1            \n",
       "5 Jennifer Jones  The Song Of Bernadette  1            \n",
       "6 Paul Lukas      Watch On The Rhine      1            \n",
       "7 Agnes Moorehead Mrs. Parkington         1            "
      ]
     },
     "metadata": {},
     "output_type": "display_data"
    }
   ],
   "source": [
    "#for the peoples dataset\n",
    "colnames(clean_gg_people) = c(\"startYear\",\"category_gg_people\",\"nominee\",\"primaryTitle\",\"win_gg_people\")\n",
    "head(clean_gg_people)"
   ]
  },
  {
   "cell_type": "code",
   "execution_count": 37,
   "metadata": {},
   "outputs": [],
   "source": [
    "titles_year_gg_people = left_join(titles_year,clean_gg_people,by=c(\"primaryTitle\",\"startYear\"))"
   ]
  },
  {
   "cell_type": "code",
   "execution_count": 38,
   "metadata": {},
   "outputs": [
    {
     "data": {
      "text/html": [
       "1232826"
      ],
      "text/latex": [
       "1232826"
      ],
      "text/markdown": [
       "1232826"
      ],
      "text/plain": [
       "[1] 1232826"
      ]
     },
     "metadata": {},
     "output_type": "display_data"
    }
   ],
   "source": [
    "nrow(titles_year_gg_people)"
   ]
  },
  {
   "cell_type": "code",
   "execution_count": 39,
   "metadata": {},
   "outputs": [
    {
     "data": {
      "text/html": [
       "1229693"
      ],
      "text/latex": [
       "1229693"
      ],
      "text/markdown": [
       "1229693"
      ],
      "text/plain": [
       "[1] 1229693"
      ]
     },
     "metadata": {},
     "output_type": "display_data"
    }
   ],
   "source": [
    "sum(is.na(titles_year_gg_people$win_gg_people))"
   ]
  },
  {
   "cell_type": "code",
   "execution_count": 40,
   "metadata": {},
   "outputs": [
    {
     "data": {
      "text/html": [
       "3081"
      ],
      "text/latex": [
       "3081"
      ],
      "text/markdown": [
       "3081"
      ],
      "text/plain": [
       "[1] 3081"
      ]
     },
     "metadata": {},
     "output_type": "display_data"
    }
   ],
   "source": [
    "1330005-1326924"
   ]
  },
  {
   "cell_type": "markdown",
   "metadata": {},
   "source": [
    " - we have 3081 correspondences "
   ]
  },
  {
   "cell_type": "markdown",
   "metadata": {},
   "source": [
    "## Now let's merge all this data into one big dataset according to title basics!"
   ]
  },
  {
   "cell_type": "code",
   "execution_count": 41,
   "metadata": {},
   "outputs": [],
   "source": [
    "titlebasics_emmys = left_join(title_basics,clean_emmy,by=c(\"primaryTitle\",\"startYear\"))"
   ]
  },
  {
   "cell_type": "code",
   "execution_count": 42,
   "metadata": {},
   "outputs": [],
   "source": [
    "titlebasics_emmys_ggfilms = left_join(titlebasics_emmys,clean_gg_films,by=c(\"primaryTitle\",\"startYear\"))"
   ]
  },
  {
   "cell_type": "code",
   "execution_count": 43,
   "metadata": {},
   "outputs": [],
   "source": [
    "titlebasics_awards = left_join(titlebasics_emmys_ggfilms,clean_gg_people,by=c(\"primaryTitle\",\"startYear\"))"
   ]
  },
  {
   "cell_type": "code",
   "execution_count": 44,
   "metadata": {},
   "outputs": [
    {
     "data": {
      "text/html": [
       "1882"
      ],
      "text/latex": [
       "1882"
      ],
      "text/markdown": [
       "1882"
      ],
      "text/plain": [
       "[1] 1882"
      ]
     },
     "metadata": {},
     "output_type": "display_data"
    },
    {
     "data": {
      "text/html": [
       "1222"
      ],
      "text/latex": [
       "1222"
      ],
      "text/markdown": [
       "1222"
      ],
      "text/plain": [
       "[1] 1222"
      ]
     },
     "metadata": {},
     "output_type": "display_data"
    },
    {
     "data": {
      "text/html": [
       "4190"
      ],
      "text/latex": [
       "4190"
      ],
      "text/markdown": [
       "4190"
      ],
      "text/plain": [
       "[1] 4190"
      ]
     },
     "metadata": {},
     "output_type": "display_data"
    }
   ],
   "source": [
    "#verify correspondences\n",
    "#emmys\n",
    "nrow(titlebasics_emmys) - sum(is.na(titlebasics_emmys$win_emmy))\n",
    "#gg films\n",
    "nrow(titlebasics_emmys_ggfilms) - sum(is.na(titlebasics_emmys_ggfilms$win_gg_film))\n",
    "#gg people\n",
    "nrow(titlebasics_awards) - sum(is.na(titlebasics_awards$win_gg_people))"
   ]
  },
  {
   "cell_type": "markdown",
   "metadata": {},
   "source": [
    " - repeated values are added at each instance (so we will have multiple instances for same movie but different categories or awards)"
   ]
  },
  {
   "cell_type": "code",
   "execution_count": 45,
   "metadata": {},
   "outputs": [
    {
     "data": {
      "text/html": [
       "<table>\n",
       "<thead><tr><th scope=col>tconst</th><th scope=col>titleType</th><th scope=col>primaryTitle</th><th scope=col>isAdult</th><th scope=col>startYear</th><th scope=col>runtimeMinutes</th><th scope=col>genre1</th><th scope=col>genre2</th><th scope=col>genre3</th><th scope=col>category_emmy</th><th scope=col>win_emmy</th><th scope=col>category_gg_film</th><th scope=col>win_gg_film</th><th scope=col>category_gg_people</th><th scope=col>nominee</th><th scope=col>win_gg_people</th></tr></thead>\n",
       "<tbody>\n",
       "\t<tr><td>tt0000001             </td><td>short                 </td><td>Carmencita            </td><td>0                     </td><td>1894                  </td><td> 1                    </td><td>Documentary           </td><td>Short                 </td><td>0                     </td><td>NA                    </td><td>NA                    </td><td>NA                    </td><td>NA                    </td><td>NA                    </td><td>NA                    </td><td>NA                    </td></tr>\n",
       "\t<tr><td>tt0000002             </td><td>short                 </td><td>Le clown et ses chiens</td><td>0                     </td><td>1892                  </td><td> 5                    </td><td>Animation             </td><td>Short                 </td><td>0                     </td><td>NA                    </td><td>NA                    </td><td>NA                    </td><td>NA                    </td><td>NA                    </td><td>NA                    </td><td>NA                    </td></tr>\n",
       "\t<tr><td>tt0000003             </td><td>short                 </td><td>Pauvre Pierrot        </td><td>0                     </td><td>1892                  </td><td> 4                    </td><td>Animation             </td><td>Comedy                </td><td>Romance               </td><td>NA                    </td><td>NA                    </td><td>NA                    </td><td>NA                    </td><td>NA                    </td><td>NA                    </td><td>NA                    </td></tr>\n",
       "\t<tr><td>tt0000004             </td><td>short                 </td><td>Un bon bock           </td><td>0                     </td><td>1892                  </td><td>12                    </td><td>Animation             </td><td>Short                 </td><td>0                     </td><td>NA                    </td><td>NA                    </td><td>NA                    </td><td>NA                    </td><td>NA                    </td><td>NA                    </td><td>NA                    </td></tr>\n",
       "\t<tr><td>tt0000005             </td><td>short                 </td><td>Blacksmith Scene      </td><td>0                     </td><td>1893                  </td><td> 1                    </td><td>Comedy                </td><td>Short                 </td><td>0                     </td><td>NA                    </td><td>NA                    </td><td>NA                    </td><td>NA                    </td><td>NA                    </td><td>NA                    </td><td>NA                    </td></tr>\n",
       "\t<tr><td>tt0000006             </td><td>short                 </td><td>Chinese Opium Den     </td><td>0                     </td><td>1894                  </td><td> 1                    </td><td>Short                 </td><td>0                     </td><td>0                     </td><td>NA                    </td><td>NA                    </td><td>NA                    </td><td>NA                    </td><td>NA                    </td><td>NA                    </td><td>NA                    </td></tr>\n",
       "</tbody>\n",
       "</table>\n"
      ],
      "text/latex": [
       "\\begin{tabular}{r|llllllllllllllll}\n",
       " tconst & titleType & primaryTitle & isAdult & startYear & runtimeMinutes & genre1 & genre2 & genre3 & category\\_emmy & win\\_emmy & category\\_gg\\_film & win\\_gg\\_film & category\\_gg\\_people & nominee & win\\_gg\\_people\\\\\n",
       "\\hline\n",
       "\t tt0000001              & short                  & Carmencita             & 0                      & 1894                   &  1                     & Documentary            & Short                  & 0                      & NA                     & NA                     & NA                     & NA                     & NA                     & NA                     & NA                    \\\\\n",
       "\t tt0000002              & short                  & Le clown et ses chiens & 0                      & 1892                   &  5                     & Animation              & Short                  & 0                      & NA                     & NA                     & NA                     & NA                     & NA                     & NA                     & NA                    \\\\\n",
       "\t tt0000003              & short                  & Pauvre Pierrot         & 0                      & 1892                   &  4                     & Animation              & Comedy                 & Romance                & NA                     & NA                     & NA                     & NA                     & NA                     & NA                     & NA                    \\\\\n",
       "\t tt0000004              & short                  & Un bon bock            & 0                      & 1892                   & 12                     & Animation              & Short                  & 0                      & NA                     & NA                     & NA                     & NA                     & NA                     & NA                     & NA                    \\\\\n",
       "\t tt0000005              & short                  & Blacksmith Scene       & 0                      & 1893                   &  1                     & Comedy                 & Short                  & 0                      & NA                     & NA                     & NA                     & NA                     & NA                     & NA                     & NA                    \\\\\n",
       "\t tt0000006              & short                  & Chinese Opium Den      & 0                      & 1894                   &  1                     & Short                  & 0                      & 0                      & NA                     & NA                     & NA                     & NA                     & NA                     & NA                     & NA                    \\\\\n",
       "\\end{tabular}\n"
      ],
      "text/markdown": [
       "\n",
       "| tconst | titleType | primaryTitle | isAdult | startYear | runtimeMinutes | genre1 | genre2 | genre3 | category_emmy | win_emmy | category_gg_film | win_gg_film | category_gg_people | nominee | win_gg_people |\n",
       "|---|---|---|---|---|---|---|---|---|---|---|---|---|---|---|---|\n",
       "| tt0000001              | short                  | Carmencita             | 0                      | 1894                   |  1                     | Documentary            | Short                  | 0                      | NA                     | NA                     | NA                     | NA                     | NA                     | NA                     | NA                     |\n",
       "| tt0000002              | short                  | Le clown et ses chiens | 0                      | 1892                   |  5                     | Animation              | Short                  | 0                      | NA                     | NA                     | NA                     | NA                     | NA                     | NA                     | NA                     |\n",
       "| tt0000003              | short                  | Pauvre Pierrot         | 0                      | 1892                   |  4                     | Animation              | Comedy                 | Romance                | NA                     | NA                     | NA                     | NA                     | NA                     | NA                     | NA                     |\n",
       "| tt0000004              | short                  | Un bon bock            | 0                      | 1892                   | 12                     | Animation              | Short                  | 0                      | NA                     | NA                     | NA                     | NA                     | NA                     | NA                     | NA                     |\n",
       "| tt0000005              | short                  | Blacksmith Scene       | 0                      | 1893                   |  1                     | Comedy                 | Short                  | 0                      | NA                     | NA                     | NA                     | NA                     | NA                     | NA                     | NA                     |\n",
       "| tt0000006              | short                  | Chinese Opium Den      | 0                      | 1894                   |  1                     | Short                  | 0                      | 0                      | NA                     | NA                     | NA                     | NA                     | NA                     | NA                     | NA                     |\n",
       "\n"
      ],
      "text/plain": [
       "  tconst    titleType primaryTitle           isAdult startYear runtimeMinutes\n",
       "1 tt0000001 short     Carmencita             0       1894       1            \n",
       "2 tt0000002 short     Le clown et ses chiens 0       1892       5            \n",
       "3 tt0000003 short     Pauvre Pierrot         0       1892       4            \n",
       "4 tt0000004 short     Un bon bock            0       1892      12            \n",
       "5 tt0000005 short     Blacksmith Scene       0       1893       1            \n",
       "6 tt0000006 short     Chinese Opium Den      0       1894       1            \n",
       "  genre1      genre2 genre3  category_emmy win_emmy category_gg_film\n",
       "1 Documentary Short  0       NA            NA       NA              \n",
       "2 Animation   Short  0       NA            NA       NA              \n",
       "3 Animation   Comedy Romance NA            NA       NA              \n",
       "4 Animation   Short  0       NA            NA       NA              \n",
       "5 Comedy      Short  0       NA            NA       NA              \n",
       "6 Short       0      0       NA            NA       NA              \n",
       "  win_gg_film category_gg_people nominee win_gg_people\n",
       "1 NA          NA                 NA      NA           \n",
       "2 NA          NA                 NA      NA           \n",
       "3 NA          NA                 NA      NA           \n",
       "4 NA          NA                 NA      NA           \n",
       "5 NA          NA                 NA      NA           \n",
       "6 NA          NA                 NA      NA           "
      ]
     },
     "metadata": {},
     "output_type": "display_data"
    }
   ],
   "source": [
    "head(titlebasics_awards)"
   ]
  },
  {
   "cell_type": "code",
   "execution_count": 46,
   "metadata": {},
   "outputs": [
    {
     "data": {
      "text/html": [
       "1234535"
      ],
      "text/latex": [
       "1234535"
      ],
      "text/markdown": [
       "1234535"
      ],
      "text/plain": [
       "[1] 1234535"
      ]
     },
     "metadata": {},
     "output_type": "display_data"
    }
   ],
   "source": [
    "nrow(titlebasics_awards)"
   ]
  },
  {
   "cell_type": "code",
   "execution_count": 47,
   "metadata": {},
   "outputs": [
    {
     "data": {
      "text/html": [
       "1231356"
      ],
      "text/latex": [
       "1231356"
      ],
      "text/markdown": [
       "1231356"
      ],
      "text/plain": [
       "[1] 1231356"
      ]
     },
     "metadata": {},
     "output_type": "display_data"
    }
   ],
   "source": [
    "nrow(title_basics)"
   ]
  },
  {
   "cell_type": "code",
   "execution_count": 48,
   "metadata": {},
   "outputs": [
    {
     "data": {
      "text/html": [
       "<table>\n",
       "<thead><tr><th scope=col>tconst</th><th scope=col>titleType</th><th scope=col>primaryTitle</th><th scope=col>isAdult</th><th scope=col>startYear</th><th scope=col>runtimeMinutes</th><th scope=col>genre1</th><th scope=col>genre2</th><th scope=col>genre3</th><th scope=col>category_emmy</th><th scope=col>win_emmy</th><th scope=col>category_gg_film</th><th scope=col>win_gg_film</th><th scope=col>category_gg_people</th><th scope=col>nominee</th><th scope=col>win_gg_people</th></tr></thead>\n",
       "<tbody>\n",
       "\t<tr><td>tt0000001                                    </td><td>short                                        </td><td>Carmencita                                   </td><td>0                                            </td><td>1894                                         </td><td> 1                                           </td><td>Documentary                                  </td><td>Short                                        </td><td>0                                            </td><td>NA                                           </td><td>NA                                           </td><td>NA                                           </td><td>NA                                           </td><td>NA                                           </td><td>NA                                           </td><td>NA                                           </td></tr>\n",
       "\t<tr><td>tt0000002                                    </td><td>short                                        </td><td>Le clown et ses chiens                       </td><td>0                                            </td><td>1892                                         </td><td> 5                                           </td><td>Animation                                    </td><td>Short                                        </td><td>0                                            </td><td>NA                                           </td><td>NA                                           </td><td>NA                                           </td><td>NA                                           </td><td>NA                                           </td><td>NA                                           </td><td>NA                                           </td></tr>\n",
       "\t<tr><td>tt0000003                                    </td><td>short                                        </td><td>Pauvre Pierrot                               </td><td>0                                            </td><td>1892                                         </td><td> 4                                           </td><td>Animation                                    </td><td>Comedy                                       </td><td>Romance                                      </td><td>NA                                           </td><td>NA                                           </td><td>NA                                           </td><td>NA                                           </td><td>NA                                           </td><td>NA                                           </td><td>NA                                           </td></tr>\n",
       "\t<tr><td>tt0000004                                    </td><td>short                                        </td><td>Un bon bock                                  </td><td>0                                            </td><td>1892                                         </td><td>12                                           </td><td>Animation                                    </td><td>Short                                        </td><td>0                                            </td><td>NA                                           </td><td>NA                                           </td><td>NA                                           </td><td>NA                                           </td><td>NA                                           </td><td>NA                                           </td><td>NA                                           </td></tr>\n",
       "\t<tr><td>tt0000005                                    </td><td>short                                        </td><td>Blacksmith Scene                             </td><td>0                                            </td><td>1893                                         </td><td> 1                                           </td><td>Comedy                                       </td><td>Short                                        </td><td>0                                            </td><td>NA                                           </td><td>NA                                           </td><td>NA                                           </td><td>NA                                           </td><td>NA                                           </td><td>NA                                           </td><td>NA                                           </td></tr>\n",
       "\t<tr><td>tt0000006                                    </td><td>short                                        </td><td>Chinese Opium Den                            </td><td>0                                            </td><td>1894                                         </td><td> 1                                           </td><td>Short                                        </td><td>0                                            </td><td>0                                            </td><td>NA                                           </td><td>NA                                           </td><td>NA                                           </td><td>NA                                           </td><td>NA                                           </td><td>NA                                           </td><td>NA                                           </td></tr>\n",
       "\t<tr><td>tt0000007                                    </td><td>short                                        </td><td>Corbett and Courtney Before the Kinetograph  </td><td>0                                            </td><td>1894                                         </td><td> 1                                           </td><td>Short                                        </td><td>Sport                                        </td><td>0                                            </td><td>NA                                           </td><td>NA                                           </td><td>NA                                           </td><td>NA                                           </td><td>NA                                           </td><td>NA                                           </td><td>NA                                           </td></tr>\n",
       "\t<tr><td>tt0000008                                    </td><td>short                                        </td><td>Edison Kinetoscopic Record of a Sneeze       </td><td>0                                            </td><td>1894                                         </td><td> 1                                           </td><td>Documentary                                  </td><td>Short                                        </td><td>0                                            </td><td>NA                                           </td><td>NA                                           </td><td>NA                                           </td><td>NA                                           </td><td>NA                                           </td><td>NA                                           </td><td>NA                                           </td></tr>\n",
       "\t<tr><td>tt0000009                                    </td><td>movie                                        </td><td>Miss Jerry                                   </td><td>0                                            </td><td>1894                                         </td><td>45                                           </td><td>Romance                                      </td><td>0                                            </td><td>0                                            </td><td>NA                                           </td><td>NA                                           </td><td>NA                                           </td><td>NA                                           </td><td>NA                                           </td><td>NA                                           </td><td>NA                                           </td></tr>\n",
       "\t<tr><td>tt0000010                                    </td><td>short                                        </td><td>Leaving the Factory                          </td><td>0                                            </td><td>1895                                         </td><td> 1                                           </td><td>Documentary                                  </td><td>Short                                        </td><td>0                                            </td><td>NA                                           </td><td>NA                                           </td><td>NA                                           </td><td>NA                                           </td><td>NA                                           </td><td>NA                                           </td><td>NA                                           </td></tr>\n",
       "\t<tr><td>tt0000011                                    </td><td>short                                        </td><td>Akrobatisches Potpourri                      </td><td>0                                            </td><td>1895                                         </td><td> 1                                           </td><td>Documentary                                  </td><td>Short                                        </td><td>0                                            </td><td>NA                                           </td><td>NA                                           </td><td>NA                                           </td><td>NA                                           </td><td>NA                                           </td><td>NA                                           </td><td>NA                                           </td></tr>\n",
       "\t<tr><td>tt0000012                                    </td><td>short                                        </td><td>The Arrival of a Train                       </td><td>0                                            </td><td>1896                                         </td><td> 1                                           </td><td>Action                                       </td><td>Documentary                                  </td><td>Short                                        </td><td>NA                                           </td><td>NA                                           </td><td>NA                                           </td><td>NA                                           </td><td>NA                                           </td><td>NA                                           </td><td>NA                                           </td></tr>\n",
       "\t<tr><td>tt0000013                                    </td><td>short                                        </td><td>The Photographical Congress Arrives in Lyon  </td><td>0                                            </td><td>1895                                         </td><td> 1                                           </td><td>Documentary                                  </td><td>Short                                        </td><td>0                                            </td><td>NA                                           </td><td>NA                                           </td><td>NA                                           </td><td>NA                                           </td><td>NA                                           </td><td>NA                                           </td><td>NA                                           </td></tr>\n",
       "\t<tr><td>tt0000014                                    </td><td>short                                        </td><td>The Waterer Watered                          </td><td>0                                            </td><td>1895                                         </td><td> 1                                           </td><td>Comedy                                       </td><td>Short                                        </td><td>0                                            </td><td>NA                                           </td><td>NA                                           </td><td>NA                                           </td><td>NA                                           </td><td>NA                                           </td><td>NA                                           </td><td>NA                                           </td></tr>\n",
       "\t<tr><td>tt0000015                                    </td><td>short                                        </td><td>Autour d'une cabine                          </td><td>0                                            </td><td>1894                                         </td><td> 2                                           </td><td>Animation                                    </td><td>Short                                        </td><td>0                                            </td><td>NA                                           </td><td>NA                                           </td><td>NA                                           </td><td>NA                                           </td><td>NA                                           </td><td>NA                                           </td><td>NA                                           </td></tr>\n",
       "\t<tr><td>tt0000016                                    </td><td>short                                        </td><td>Barque sortant du port                       </td><td>0                                            </td><td>1895                                         </td><td> 1                                           </td><td>Documentary                                  </td><td>Short                                        </td><td>0                                            </td><td>NA                                           </td><td>NA                                           </td><td>NA                                           </td><td>NA                                           </td><td>NA                                           </td><td>NA                                           </td><td>NA                                           </td></tr>\n",
       "\t<tr><td>tt0000017                                    </td><td>short                                        </td><td>Italienischer Bauerntanz                     </td><td>0                                            </td><td>1895                                         </td><td> 1                                           </td><td>Documentary                                  </td><td>Short                                        </td><td>0                                            </td><td>NA                                           </td><td>NA                                           </td><td>NA                                           </td><td>NA                                           </td><td>NA                                           </td><td>NA                                           </td><td>NA                                           </td></tr>\n",
       "\t<tr><td>tt0000018                                    </td><td>short                                        </td><td>Das boxende Känguruh                         </td><td>0                                            </td><td>1895                                         </td><td> 1                                           </td><td>Short                                        </td><td>0                                            </td><td>0                                            </td><td>NA                                           </td><td>NA                                           </td><td>NA                                           </td><td>NA                                           </td><td>NA                                           </td><td>NA                                           </td><td>NA                                           </td></tr>\n",
       "\t<tr><td>tt0000019                                    </td><td>short                                        </td><td>The Clown Barber                             </td><td>0                                            </td><td>1898                                         </td><td>-1                                           </td><td>Comedy                                       </td><td>Short                                        </td><td>0                                            </td><td>NA                                           </td><td>NA                                           </td><td>NA                                           </td><td>NA                                           </td><td>NA                                           </td><td>NA                                           </td><td>NA                                           </td></tr>\n",
       "\t<tr><td>tt0000020                                    </td><td>short                                        </td><td>The Derby 1895                               </td><td>0                                            </td><td>1895                                         </td><td> 1                                           </td><td>Documentary                                  </td><td>Short                                        </td><td>Sport                                        </td><td>NA                                           </td><td>NA                                           </td><td>NA                                           </td><td>NA                                           </td><td>NA                                           </td><td>NA                                           </td><td>NA                                           </td></tr>\n",
       "\t<tr><td>tt0000022                                    </td><td>short                                        </td><td>Blacksmith Scene                             </td><td>0                                            </td><td>1895                                         </td><td> 1                                           </td><td>Documentary                                  </td><td>Short                                        </td><td>0                                            </td><td>NA                                           </td><td>NA                                           </td><td>NA                                           </td><td>NA                                           </td><td>NA                                           </td><td>NA                                           </td><td>NA                                           </td></tr>\n",
       "\t<tr><td>tt0000023                                    </td><td>short                                        </td><td>The Sea                                      </td><td>0                                            </td><td>1895                                         </td><td> 1                                           </td><td>Documentary                                  </td><td>Short                                        </td><td>0                                            </td><td>NA                                           </td><td>NA                                           </td><td>NA                                           </td><td>NA                                           </td><td>NA                                           </td><td>NA                                           </td><td>NA                                           </td></tr>\n",
       "\t<tr><td>tt0000024                                    </td><td>short                                        </td><td>Opening of the Kiel Canal                    </td><td>0                                            </td><td>1895                                         </td><td>-1                                           </td><td>News                                         </td><td>Short                                        </td><td>0                                            </td><td>NA                                           </td><td>NA                                           </td><td>NA                                           </td><td>NA                                           </td><td>NA                                           </td><td>NA                                           </td><td>NA                                           </td></tr>\n",
       "\t<tr><td>tt0000025                                    </td><td>short                                        </td><td>The Oxford and Cambridge University Boat Race</td><td>0                                            </td><td>1895                                         </td><td>-1                                           </td><td>News                                         </td><td>Short                                        </td><td>Sport                                        </td><td>NA                                           </td><td>NA                                           </td><td>NA                                           </td><td>NA                                           </td><td>NA                                           </td><td>NA                                           </td><td>NA                                           </td></tr>\n",
       "\t<tr><td>tt0000026                                    </td><td>short                                        </td><td>The Messers. Lumière at Cards                </td><td>0                                            </td><td>1896                                         </td><td> 1                                           </td><td>Documentary                                  </td><td>Short                                        </td><td>0                                            </td><td>NA                                           </td><td>NA                                           </td><td>NA                                           </td><td>NA                                           </td><td>NA                                           </td><td>NA                                           </td><td>NA                                           </td></tr>\n",
       "\t<tr><td>tt0000027                                    </td><td>short                                        </td><td>Cordeliers' Square in Lyon                   </td><td>0                                            </td><td>1895                                         </td><td> 1                                           </td><td>Documentary                                  </td><td>Short                                        </td><td>0                                            </td><td>NA                                           </td><td>NA                                           </td><td>NA                                           </td><td>NA                                           </td><td>NA                                           </td><td>NA                                           </td><td>NA                                           </td></tr>\n",
       "\t<tr><td>tt0000028                                    </td><td>short                                        </td><td>Fishing for Goldfish                         </td><td>0                                            </td><td>1895                                         </td><td> 1                                           </td><td>Documentary                                  </td><td>Short                                        </td><td>0                                            </td><td>NA                                           </td><td>NA                                           </td><td>NA                                           </td><td>NA                                           </td><td>NA                                           </td><td>NA                                           </td><td>NA                                           </td></tr>\n",
       "\t<tr><td>tt0000029                                    </td><td>short                                        </td><td>Baby's Dinner                                </td><td>0                                            </td><td>1895                                         </td><td> 1                                           </td><td>Documentary                                  </td><td>Short                                        </td><td>0                                            </td><td>NA                                           </td><td>NA                                           </td><td>NA                                           </td><td>NA                                           </td><td>NA                                           </td><td>NA                                           </td><td>NA                                           </td></tr>\n",
       "\t<tr><td>tt0000030                                    </td><td>short                                        </td><td>Rough Sea at Dover                           </td><td>0                                            </td><td>1895                                         </td><td> 1                                           </td><td>Documentary                                  </td><td>Short                                        </td><td>0                                            </td><td>NA                                           </td><td>NA                                           </td><td>NA                                           </td><td>NA                                           </td><td>NA                                           </td><td>NA                                           </td><td>NA                                           </td></tr>\n",
       "\t<tr><td>tt0000031                                    </td><td>short                                        </td><td>Jumping the Blanket                          </td><td>0                                            </td><td>1895                                         </td><td> 1                                           </td><td>Documentary                                  </td><td>Short                                        </td><td>0                                            </td><td>NA                                           </td><td>NA                                           </td><td>NA                                           </td><td>NA                                           </td><td>NA                                           </td><td>NA                                           </td><td>NA                                           </td></tr>\n",
       "\t<tr><td>...</td><td>...</td><td>...</td><td>...</td><td>...</td><td>...</td><td>...</td><td>...</td><td>...</td><td>...</td><td>...</td><td>...</td><td>...</td><td>...</td><td>...</td><td>...</td></tr>\n",
       "\t<tr><td>tt9916170                                                        </td><td>movie                                                            </td><td>The Rehearsal                                                    </td><td>0                                                                </td><td>2019                                                             </td><td> 51                                                              </td><td>Drama                                                            </td><td>0                                                                </td><td>0                                                                </td><td>NA                                                               </td><td>NA                                                               </td><td>NA                                                               </td><td>NA                                                               </td><td>NA                                                               </td><td>NA                                                               </td><td>NA                                                               </td></tr>\n",
       "\t<tr><td>tt9916172                                                        </td><td>short                                                            </td><td>Video (B)art(h)es                                                </td><td>0                                                                </td><td>2003                                                             </td><td>  3                                                              </td><td>Short                                                            </td><td>0                                                                </td><td>0                                                                </td><td>NA                                                               </td><td>NA                                                               </td><td>NA                                                               </td><td>NA                                                               </td><td>NA                                                               </td><td>NA                                                               </td><td>NA                                                               </td></tr>\n",
       "\t<tr><td>tt9916174                                                        </td><td>short                                                            </td><td>Kleiderglück                                                     </td><td>0                                                                </td><td>2018                                                             </td><td> 14                                                              </td><td>Short                                                            </td><td>0                                                                </td><td>0                                                                </td><td>NA                                                               </td><td>NA                                                               </td><td>NA                                                               </td><td>NA                                                               </td><td>NA                                                               </td><td>NA                                                               </td><td>NA                                                               </td></tr>\n",
       "\t<tr><td>tt9916184                                                        </td><td>short                                                            </td><td>Homewrecker                                                      </td><td>0                                                                </td><td>2018                                                             </td><td> -1                                                              </td><td>Comedy                                                           </td><td>Short                                                            </td><td>0                                                                </td><td>NA                                                               </td><td>NA                                                               </td><td>NA                                                               </td><td>NA                                                               </td><td>NA                                                               </td><td>NA                                                               </td><td>NA                                                               </td></tr>\n",
       "\t<tr><td>tt9916186                                                        </td><td>movie                                                            </td><td>Illenau - die Geschichte einer ehemaligen Heil- und Pflegeanstalt</td><td>0                                                                </td><td>2017                                                             </td><td> 84                                                              </td><td>Documentary                                                      </td><td>0                                                                </td><td>0                                                                </td><td>NA                                                               </td><td>NA                                                               </td><td>NA                                                               </td><td>NA                                                               </td><td>NA                                                               </td><td>NA                                                               </td><td>NA                                                               </td></tr>\n",
       "\t<tr><td>tt9916192                                                        </td><td>tvMovie                                                          </td><td>Danielle Darrieux: Il est poli d'être gai!                       </td><td>0                                                                </td><td>2019                                                             </td><td> 53                                                              </td><td>Biography                                                        </td><td>0                                                                </td><td>0                                                                </td><td>NA                                                               </td><td>NA                                                               </td><td>NA                                                               </td><td>NA                                                               </td><td>NA                                                               </td><td>NA                                                               </td><td>NA                                                               </td></tr>\n",
       "\t<tr><td>tt9916214                                                        </td><td>short                                                            </td><td>Drown the Clown                                                  </td><td>0                                                                </td><td>2019                                                             </td><td>  8                                                              </td><td>Drama                                                            </td><td>Short                                                            </td><td>0                                                                </td><td>NA                                                               </td><td>NA                                                               </td><td>NA                                                               </td><td>NA                                                               </td><td>NA                                                               </td><td>NA                                                               </td><td>NA                                                               </td></tr>\n",
       "\t<tr><td>tt9916248                                                        </td><td>tvMovie                                                          </td><td>Mahiwaga                                                         </td><td>0                                                                </td><td>1996                                                             </td><td> -1                                                              </td><td>Action                                                           </td><td>Horror                                                           </td><td>Thriller                                                         </td><td>NA                                                               </td><td>NA                                                               </td><td>NA                                                               </td><td>NA                                                               </td><td>NA                                                               </td><td>NA                                                               </td><td>NA                                                               </td></tr>\n",
       "\t<tr><td>tt9916312                                                        </td><td>short                                                            </td><td>A New ERA, Equal Representation for Actresses Campaign           </td><td>0                                                                </td><td>2018                                                             </td><td> -1                                                              </td><td>Short                                                            </td><td>0                                                                </td><td>0                                                                </td><td>NA                                                               </td><td>NA                                                               </td><td>NA                                                               </td><td>NA                                                               </td><td>NA                                                               </td><td>NA                                                               </td><td>NA                                                               </td></tr>\n",
       "\t<tr><td>tt9916428                                                        </td><td>movie                                                            </td><td>The Secret of China                                              </td><td>0                                                                </td><td>2019                                                             </td><td> -1                                                              </td><td>Adventure                                                        </td><td>History                                                          </td><td>War                                                              </td><td>NA                                                               </td><td>NA                                                               </td><td>NA                                                               </td><td>NA                                                               </td><td>NA                                                               </td><td>NA                                                               </td><td>NA                                                               </td></tr>\n",
       "\t<tr><td>tt9916472                                                        </td><td>short                                                            </td><td>Düzensiz                                                         </td><td>0                                                                </td><td>2018                                                             </td><td> -1                                                              </td><td>Drama                                                            </td><td>Short                                                            </td><td>0                                                                </td><td>NA                                                               </td><td>NA                                                               </td><td>NA                                                               </td><td>NA                                                               </td><td>NA                                                               </td><td>NA                                                               </td><td>NA                                                               </td></tr>\n",
       "\t<tr><td>tt9916538                                                        </td><td>movie                                                            </td><td>Kuambil Lagi Hatiku                                              </td><td>0                                                                </td><td>2019                                                             </td><td>123                                                              </td><td>Drama                                                            </td><td>0                                                                </td><td>0                                                                </td><td>NA                                                               </td><td>NA                                                               </td><td>NA                                                               </td><td>NA                                                               </td><td>NA                                                               </td><td>NA                                                               </td><td>NA                                                               </td></tr>\n",
       "\t<tr><td>tt9916544                                                        </td><td>short                                                            </td><td>My Sweet Prince                                                  </td><td>0                                                                </td><td>2019                                                             </td><td> 12                                                              </td><td>Drama                                                            </td><td>Short                                                            </td><td>0                                                                </td><td>NA                                                               </td><td>NA                                                               </td><td>NA                                                               </td><td>NA                                                               </td><td>NA                                                               </td><td>NA                                                               </td><td>NA                                                               </td></tr>\n",
       "\t<tr><td>tt9916560                                                        </td><td>tvMovie                                                          </td><td>March of Dimes Presents: Once Upon a Dime                        </td><td>0                                                                </td><td>1963                                                             </td><td> 58                                                              </td><td>Family                                                           </td><td>0                                                                </td><td>0                                                                </td><td>NA                                                               </td><td>NA                                                               </td><td>NA                                                               </td><td>NA                                                               </td><td>NA                                                               </td><td>NA                                                               </td><td>NA                                                               </td></tr>\n",
       "\t<tr><td>tt9916610                                                        </td><td>short                                                            </td><td>Private Eye                                                      </td><td>0                                                                </td><td>2019                                                             </td><td> 22                                                              </td><td>Drama                                                            </td><td>Mystery                                                          </td><td>Sci-Fi                                                           </td><td>NA                                                               </td><td>NA                                                               </td><td>NA                                                               </td><td>NA                                                               </td><td>NA                                                               </td><td>NA                                                               </td><td>NA                                                               </td></tr>\n",
       "\t<tr><td>tt9916614                                                        </td><td>short                                                            </td><td>Great Walls                                                      </td><td>0                                                                </td><td>2019                                                             </td><td> 29                                                              </td><td>Documentary                                                      </td><td>History                                                          </td><td>Short                                                            </td><td>NA                                                               </td><td>NA                                                               </td><td>NA                                                               </td><td>NA                                                               </td><td>NA                                                               </td><td>NA                                                               </td><td>NA                                                               </td></tr>\n",
       "\t<tr><td>tt9916622                                                        </td><td>movie                                                            </td><td>Rodolpho Teóphilo - O Legado de um Pioneiro                      </td><td>0                                                                </td><td>2015                                                             </td><td> 57                                                              </td><td>Documentary                                                      </td><td>0                                                                </td><td>0                                                                </td><td>NA                                                               </td><td>NA                                                               </td><td>NA                                                               </td><td>NA                                                               </td><td>NA                                                               </td><td>NA                                                               </td><td>NA                                                               </td></tr>\n",
       "\t<tr><td>tt9916634                                                        </td><td>short                                                            </td><td>Eugène                                                           </td><td>0                                                                </td><td>2018                                                             </td><td> 26                                                              </td><td>Documentary                                                      </td><td>Short                                                            </td><td>Sport                                                            </td><td>NA                                                               </td><td>NA                                                               </td><td>NA                                                               </td><td>NA                                                               </td><td>NA                                                               </td><td>NA                                                               </td><td>NA                                                               </td></tr>\n",
       "\t<tr><td>tt9916666                                                        </td><td>short                                                            </td><td>The Great Confession                                             </td><td>0                                                                </td><td>2019                                                             </td><td> -1                                                              </td><td>Short                                                            </td><td>0                                                                </td><td>0                                                                </td><td>NA                                                               </td><td>NA                                                               </td><td>NA                                                               </td><td>NA                                                               </td><td>NA                                                               </td><td>NA                                                               </td><td>NA                                                               </td></tr>\n",
       "\t<tr><td>tt9916680                                                        </td><td>movie                                                            </td><td>De la ilusión al desconcierto: cine colombiano 1970-1995         </td><td>0                                                                </td><td>2007                                                             </td><td>100                                                              </td><td>Documentary                                                      </td><td>0                                                                </td><td>0                                                                </td><td>NA                                                               </td><td>NA                                                               </td><td>NA                                                               </td><td>NA                                                               </td><td>NA                                                               </td><td>NA                                                               </td><td>NA                                                               </td></tr>\n",
       "\t<tr><td>tt9916692                                                        </td><td>tvMovie                                                          </td><td>Teatroteka: Czlowiek bez twarzy                                  </td><td>0                                                                </td><td>2015                                                             </td><td> 66                                                              </td><td>Drama                                                            </td><td>0                                                                </td><td>0                                                                </td><td>NA                                                               </td><td>NA                                                               </td><td>NA                                                               </td><td>NA                                                               </td><td>NA                                                               </td><td>NA                                                               </td><td>NA                                                               </td></tr>\n",
       "\t<tr><td>tt9916696                                                        </td><td>short                                                            </td><td>Who's Next..? The justice on its way                             </td><td>0                                                                </td><td>2019                                                             </td><td> -1                                                              </td><td>Short                                                            </td><td>Thriller                                                         </td><td>0                                                                </td><td>NA                                                               </td><td>NA                                                               </td><td>NA                                                               </td><td>NA                                                               </td><td>NA                                                               </td><td>NA                                                               </td><td>NA                                                               </td></tr>\n",
       "\t<tr><td>tt9916698                                                        </td><td>short                                                            </td><td>Horevete?                                                        </td><td>0                                                                </td><td>2019                                                             </td><td> -1                                                              </td><td>Short                                                            </td><td>0                                                                </td><td>0                                                                </td><td>NA                                                               </td><td>NA                                                               </td><td>NA                                                               </td><td>NA                                                               </td><td>NA                                                               </td><td>NA                                                               </td><td>NA                                                               </td></tr>\n",
       "\t<tr><td>tt9916706                                                        </td><td>movie                                                            </td><td>Dankyavar Danka                                                  </td><td>0                                                                </td><td>2013                                                             </td><td> -1                                                              </td><td>Comedy                                                           </td><td>0                                                                </td><td>0                                                                </td><td>NA                                                               </td><td>NA                                                               </td><td>NA                                                               </td><td>NA                                                               </td><td>NA                                                               </td><td>NA                                                               </td><td>NA                                                               </td></tr>\n",
       "\t<tr><td>tt9916720                                                        </td><td>short                                                            </td><td>The Nun 2                                                        </td><td>0                                                                </td><td>2019                                                             </td><td> 10                                                              </td><td>Comedy                                                           </td><td>Horror                                                           </td><td>Mystery                                                          </td><td>NA                                                               </td><td>NA                                                               </td><td>NA                                                               </td><td>NA                                                               </td><td>NA                                                               </td><td>NA                                                               </td><td>NA                                                               </td></tr>\n",
       "\t<tr><td>tt9916724                                                        </td><td>short                                                            </td><td>Hay Que Ser Paciente                                             </td><td>0                                                                </td><td>2015                                                             </td><td>  3                                                              </td><td>Documentary                                                      </td><td>Short                                                            </td><td>0                                                                </td><td>NA                                                               </td><td>NA                                                               </td><td>NA                                                               </td><td>NA                                                               </td><td>NA                                                               </td><td>NA                                                               </td><td>NA                                                               </td></tr>\n",
       "\t<tr><td>tt9916754                                                        </td><td>movie                                                            </td><td>Chico Albuquerque - Revelações                                   </td><td>0                                                                </td><td>2013                                                             </td><td> 49                                                              </td><td>Documentary                                                      </td><td>0                                                                </td><td>0                                                                </td><td>NA                                                               </td><td>NA                                                               </td><td>NA                                                               </td><td>NA                                                               </td><td>NA                                                               </td><td>NA                                                               </td><td>NA                                                               </td></tr>\n",
       "\t<tr><td>tt9916756                                                        </td><td>short                                                            </td><td>Pretty Pretty Black Girl                                         </td><td>0                                                                </td><td>2019                                                             </td><td> -1                                                              </td><td>Short                                                            </td><td>0                                                                </td><td>0                                                                </td><td>NA                                                               </td><td>NA                                                               </td><td>NA                                                               </td><td>NA                                                               </td><td>NA                                                               </td><td>NA                                                               </td><td>NA                                                               </td></tr>\n",
       "\t<tr><td>tt9916764                                                        </td><td>short                                                            </td><td>38                                                               </td><td>0                                                                </td><td>2018                                                             </td><td> -1                                                              </td><td>Short                                                            </td><td>0                                                                </td><td>0                                                                </td><td>NA                                                               </td><td>NA                                                               </td><td>NA                                                               </td><td>NA                                                               </td><td>NA                                                               </td><td>NA                                                               </td><td>NA                                                               </td></tr>\n",
       "\t<tr><td>tt9916856                                                        </td><td>short                                                            </td><td>The Wind                                                         </td><td>0                                                                </td><td>2015                                                             </td><td> 27                                                              </td><td>Short                                                            </td><td>0                                                                </td><td>0                                                                </td><td>NA                                                               </td><td>NA                                                               </td><td>NA                                                               </td><td>NA                                                               </td><td>NA                                                               </td><td>NA                                                               </td><td>NA                                                               </td></tr>\n",
       "</tbody>\n",
       "</table>\n"
      ],
      "text/latex": [
       "\\begin{tabular}{r|llllllllllllllll}\n",
       " tconst & titleType & primaryTitle & isAdult & startYear & runtimeMinutes & genre1 & genre2 & genre3 & category\\_emmy & win\\_emmy & category\\_gg\\_film & win\\_gg\\_film & category\\_gg\\_people & nominee & win\\_gg\\_people\\\\\n",
       "\\hline\n",
       "\t tt0000001                                     & short                                         & Carmencita                                    & 0                                             & 1894                                          &  1                                            & Documentary                                   & Short                                         & 0                                             & NA                                            & NA                                            & NA                                            & NA                                            & NA                                            & NA                                            & NA                                           \\\\\n",
       "\t tt0000002                                     & short                                         & Le clown et ses chiens                        & 0                                             & 1892                                          &  5                                            & Animation                                     & Short                                         & 0                                             & NA                                            & NA                                            & NA                                            & NA                                            & NA                                            & NA                                            & NA                                           \\\\\n",
       "\t tt0000003                                     & short                                         & Pauvre Pierrot                                & 0                                             & 1892                                          &  4                                            & Animation                                     & Comedy                                        & Romance                                       & NA                                            & NA                                            & NA                                            & NA                                            & NA                                            & NA                                            & NA                                           \\\\\n",
       "\t tt0000004                                     & short                                         & Un bon bock                                   & 0                                             & 1892                                          & 12                                            & Animation                                     & Short                                         & 0                                             & NA                                            & NA                                            & NA                                            & NA                                            & NA                                            & NA                                            & NA                                           \\\\\n",
       "\t tt0000005                                     & short                                         & Blacksmith Scene                              & 0                                             & 1893                                          &  1                                            & Comedy                                        & Short                                         & 0                                             & NA                                            & NA                                            & NA                                            & NA                                            & NA                                            & NA                                            & NA                                           \\\\\n",
       "\t tt0000006                                     & short                                         & Chinese Opium Den                             & 0                                             & 1894                                          &  1                                            & Short                                         & 0                                             & 0                                             & NA                                            & NA                                            & NA                                            & NA                                            & NA                                            & NA                                            & NA                                           \\\\\n",
       "\t tt0000007                                     & short                                         & Corbett and Courtney Before the Kinetograph   & 0                                             & 1894                                          &  1                                            & Short                                         & Sport                                         & 0                                             & NA                                            & NA                                            & NA                                            & NA                                            & NA                                            & NA                                            & NA                                           \\\\\n",
       "\t tt0000008                                     & short                                         & Edison Kinetoscopic Record of a Sneeze        & 0                                             & 1894                                          &  1                                            & Documentary                                   & Short                                         & 0                                             & NA                                            & NA                                            & NA                                            & NA                                            & NA                                            & NA                                            & NA                                           \\\\\n",
       "\t tt0000009                                     & movie                                         & Miss Jerry                                    & 0                                             & 1894                                          & 45                                            & Romance                                       & 0                                             & 0                                             & NA                                            & NA                                            & NA                                            & NA                                            & NA                                            & NA                                            & NA                                           \\\\\n",
       "\t tt0000010                                     & short                                         & Leaving the Factory                           & 0                                             & 1895                                          &  1                                            & Documentary                                   & Short                                         & 0                                             & NA                                            & NA                                            & NA                                            & NA                                            & NA                                            & NA                                            & NA                                           \\\\\n",
       "\t tt0000011                                     & short                                         & Akrobatisches Potpourri                       & 0                                             & 1895                                          &  1                                            & Documentary                                   & Short                                         & 0                                             & NA                                            & NA                                            & NA                                            & NA                                            & NA                                            & NA                                            & NA                                           \\\\\n",
       "\t tt0000012                                     & short                                         & The Arrival of a Train                        & 0                                             & 1896                                          &  1                                            & Action                                        & Documentary                                   & Short                                         & NA                                            & NA                                            & NA                                            & NA                                            & NA                                            & NA                                            & NA                                           \\\\\n",
       "\t tt0000013                                     & short                                         & The Photographical Congress Arrives in Lyon   & 0                                             & 1895                                          &  1                                            & Documentary                                   & Short                                         & 0                                             & NA                                            & NA                                            & NA                                            & NA                                            & NA                                            & NA                                            & NA                                           \\\\\n",
       "\t tt0000014                                     & short                                         & The Waterer Watered                           & 0                                             & 1895                                          &  1                                            & Comedy                                        & Short                                         & 0                                             & NA                                            & NA                                            & NA                                            & NA                                            & NA                                            & NA                                            & NA                                           \\\\\n",
       "\t tt0000015                                     & short                                         & Autour d'une cabine                           & 0                                             & 1894                                          &  2                                            & Animation                                     & Short                                         & 0                                             & NA                                            & NA                                            & NA                                            & NA                                            & NA                                            & NA                                            & NA                                           \\\\\n",
       "\t tt0000016                                     & short                                         & Barque sortant du port                        & 0                                             & 1895                                          &  1                                            & Documentary                                   & Short                                         & 0                                             & NA                                            & NA                                            & NA                                            & NA                                            & NA                                            & NA                                            & NA                                           \\\\\n",
       "\t tt0000017                                     & short                                         & Italienischer Bauerntanz                      & 0                                             & 1895                                          &  1                                            & Documentary                                   & Short                                         & 0                                             & NA                                            & NA                                            & NA                                            & NA                                            & NA                                            & NA                                            & NA                                           \\\\\n",
       "\t tt0000018                                     & short                                         & Das boxende Känguruh                          & 0                                             & 1895                                          &  1                                            & Short                                         & 0                                             & 0                                             & NA                                            & NA                                            & NA                                            & NA                                            & NA                                            & NA                                            & NA                                           \\\\\n",
       "\t tt0000019                                     & short                                         & The Clown Barber                              & 0                                             & 1898                                          & -1                                            & Comedy                                        & Short                                         & 0                                             & NA                                            & NA                                            & NA                                            & NA                                            & NA                                            & NA                                            & NA                                           \\\\\n",
       "\t tt0000020                                     & short                                         & The Derby 1895                                & 0                                             & 1895                                          &  1                                            & Documentary                                   & Short                                         & Sport                                         & NA                                            & NA                                            & NA                                            & NA                                            & NA                                            & NA                                            & NA                                           \\\\\n",
       "\t tt0000022                                     & short                                         & Blacksmith Scene                              & 0                                             & 1895                                          &  1                                            & Documentary                                   & Short                                         & 0                                             & NA                                            & NA                                            & NA                                            & NA                                            & NA                                            & NA                                            & NA                                           \\\\\n",
       "\t tt0000023                                     & short                                         & The Sea                                       & 0                                             & 1895                                          &  1                                            & Documentary                                   & Short                                         & 0                                             & NA                                            & NA                                            & NA                                            & NA                                            & NA                                            & NA                                            & NA                                           \\\\\n",
       "\t tt0000024                                     & short                                         & Opening of the Kiel Canal                     & 0                                             & 1895                                          & -1                                            & News                                          & Short                                         & 0                                             & NA                                            & NA                                            & NA                                            & NA                                            & NA                                            & NA                                            & NA                                           \\\\\n",
       "\t tt0000025                                     & short                                         & The Oxford and Cambridge University Boat Race & 0                                             & 1895                                          & -1                                            & News                                          & Short                                         & Sport                                         & NA                                            & NA                                            & NA                                            & NA                                            & NA                                            & NA                                            & NA                                           \\\\\n",
       "\t tt0000026                                     & short                                         & The Messers. Lumière at Cards                 & 0                                             & 1896                                          &  1                                            & Documentary                                   & Short                                         & 0                                             & NA                                            & NA                                            & NA                                            & NA                                            & NA                                            & NA                                            & NA                                           \\\\\n",
       "\t tt0000027                                     & short                                         & Cordeliers' Square in Lyon                    & 0                                             & 1895                                          &  1                                            & Documentary                                   & Short                                         & 0                                             & NA                                            & NA                                            & NA                                            & NA                                            & NA                                            & NA                                            & NA                                           \\\\\n",
       "\t tt0000028                                     & short                                         & Fishing for Goldfish                          & 0                                             & 1895                                          &  1                                            & Documentary                                   & Short                                         & 0                                             & NA                                            & NA                                            & NA                                            & NA                                            & NA                                            & NA                                            & NA                                           \\\\\n",
       "\t tt0000029                                     & short                                         & Baby's Dinner                                 & 0                                             & 1895                                          &  1                                            & Documentary                                   & Short                                         & 0                                             & NA                                            & NA                                            & NA                                            & NA                                            & NA                                            & NA                                            & NA                                           \\\\\n",
       "\t tt0000030                                     & short                                         & Rough Sea at Dover                            & 0                                             & 1895                                          &  1                                            & Documentary                                   & Short                                         & 0                                             & NA                                            & NA                                            & NA                                            & NA                                            & NA                                            & NA                                            & NA                                           \\\\\n",
       "\t tt0000031                                     & short                                         & Jumping the Blanket                           & 0                                             & 1895                                          &  1                                            & Documentary                                   & Short                                         & 0                                             & NA                                            & NA                                            & NA                                            & NA                                            & NA                                            & NA                                            & NA                                           \\\\\n",
       "\t ... & ... & ... & ... & ... & ... & ... & ... & ... & ... & ... & ... & ... & ... & ... & ...\\\\\n",
       "\t tt9916170                                                         & movie                                                             & The Rehearsal                                                     & 0                                                                 & 2019                                                              &  51                                                               & Drama                                                             & 0                                                                 & 0                                                                 & NA                                                                & NA                                                                & NA                                                                & NA                                                                & NA                                                                & NA                                                                & NA                                                               \\\\\n",
       "\t tt9916172                                                         & short                                                             & Video (B)art(h)es                                                 & 0                                                                 & 2003                                                              &   3                                                               & Short                                                             & 0                                                                 & 0                                                                 & NA                                                                & NA                                                                & NA                                                                & NA                                                                & NA                                                                & NA                                                                & NA                                                               \\\\\n",
       "\t tt9916174                                                         & short                                                             & Kleiderglück                                                      & 0                                                                 & 2018                                                              &  14                                                               & Short                                                             & 0                                                                 & 0                                                                 & NA                                                                & NA                                                                & NA                                                                & NA                                                                & NA                                                                & NA                                                                & NA                                                               \\\\\n",
       "\t tt9916184                                                         & short                                                             & Homewrecker                                                       & 0                                                                 & 2018                                                              &  -1                                                               & Comedy                                                            & Short                                                             & 0                                                                 & NA                                                                & NA                                                                & NA                                                                & NA                                                                & NA                                                                & NA                                                                & NA                                                               \\\\\n",
       "\t tt9916186                                                         & movie                                                             & Illenau - die Geschichte einer ehemaligen Heil- und Pflegeanstalt & 0                                                                 & 2017                                                              &  84                                                               & Documentary                                                       & 0                                                                 & 0                                                                 & NA                                                                & NA                                                                & NA                                                                & NA                                                                & NA                                                                & NA                                                                & NA                                                               \\\\\n",
       "\t tt9916192                                                         & tvMovie                                                           & Danielle Darrieux: Il est poli d'être gai!                        & 0                                                                 & 2019                                                              &  53                                                               & Biography                                                         & 0                                                                 & 0                                                                 & NA                                                                & NA                                                                & NA                                                                & NA                                                                & NA                                                                & NA                                                                & NA                                                               \\\\\n",
       "\t tt9916214                                                         & short                                                             & Drown the Clown                                                   & 0                                                                 & 2019                                                              &   8                                                               & Drama                                                             & Short                                                             & 0                                                                 & NA                                                                & NA                                                                & NA                                                                & NA                                                                & NA                                                                & NA                                                                & NA                                                               \\\\\n",
       "\t tt9916248                                                         & tvMovie                                                           & Mahiwaga                                                          & 0                                                                 & 1996                                                              &  -1                                                               & Action                                                            & Horror                                                            & Thriller                                                          & NA                                                                & NA                                                                & NA                                                                & NA                                                                & NA                                                                & NA                                                                & NA                                                               \\\\\n",
       "\t tt9916312                                                         & short                                                             & A New ERA, Equal Representation for Actresses Campaign            & 0                                                                 & 2018                                                              &  -1                                                               & Short                                                             & 0                                                                 & 0                                                                 & NA                                                                & NA                                                                & NA                                                                & NA                                                                & NA                                                                & NA                                                                & NA                                                               \\\\\n",
       "\t tt9916428                                                         & movie                                                             & The Secret of China                                               & 0                                                                 & 2019                                                              &  -1                                                               & Adventure                                                         & History                                                           & War                                                               & NA                                                                & NA                                                                & NA                                                                & NA                                                                & NA                                                                & NA                                                                & NA                                                               \\\\\n",
       "\t tt9916472                                                         & short                                                             & Düzensiz                                                          & 0                                                                 & 2018                                                              &  -1                                                               & Drama                                                             & Short                                                             & 0                                                                 & NA                                                                & NA                                                                & NA                                                                & NA                                                                & NA                                                                & NA                                                                & NA                                                               \\\\\n",
       "\t tt9916538                                                         & movie                                                             & Kuambil Lagi Hatiku                                               & 0                                                                 & 2019                                                              & 123                                                               & Drama                                                             & 0                                                                 & 0                                                                 & NA                                                                & NA                                                                & NA                                                                & NA                                                                & NA                                                                & NA                                                                & NA                                                               \\\\\n",
       "\t tt9916544                                                         & short                                                             & My Sweet Prince                                                   & 0                                                                 & 2019                                                              &  12                                                               & Drama                                                             & Short                                                             & 0                                                                 & NA                                                                & NA                                                                & NA                                                                & NA                                                                & NA                                                                & NA                                                                & NA                                                               \\\\\n",
       "\t tt9916560                                                         & tvMovie                                                           & March of Dimes Presents: Once Upon a Dime                         & 0                                                                 & 1963                                                              &  58                                                               & Family                                                            & 0                                                                 & 0                                                                 & NA                                                                & NA                                                                & NA                                                                & NA                                                                & NA                                                                & NA                                                                & NA                                                               \\\\\n",
       "\t tt9916610                                                         & short                                                             & Private Eye                                                       & 0                                                                 & 2019                                                              &  22                                                               & Drama                                                             & Mystery                                                           & Sci-Fi                                                            & NA                                                                & NA                                                                & NA                                                                & NA                                                                & NA                                                                & NA                                                                & NA                                                               \\\\\n",
       "\t tt9916614                                                         & short                                                             & Great Walls                                                       & 0                                                                 & 2019                                                              &  29                                                               & Documentary                                                       & History                                                           & Short                                                             & NA                                                                & NA                                                                & NA                                                                & NA                                                                & NA                                                                & NA                                                                & NA                                                               \\\\\n",
       "\t tt9916622                                                         & movie                                                             & Rodolpho Teóphilo - O Legado de um Pioneiro                       & 0                                                                 & 2015                                                              &  57                                                               & Documentary                                                       & 0                                                                 & 0                                                                 & NA                                                                & NA                                                                & NA                                                                & NA                                                                & NA                                                                & NA                                                                & NA                                                               \\\\\n",
       "\t tt9916634                                                         & short                                                             & Eugène                                                            & 0                                                                 & 2018                                                              &  26                                                               & Documentary                                                       & Short                                                             & Sport                                                             & NA                                                                & NA                                                                & NA                                                                & NA                                                                & NA                                                                & NA                                                                & NA                                                               \\\\\n",
       "\t tt9916666                                                         & short                                                             & The Great Confession                                              & 0                                                                 & 2019                                                              &  -1                                                               & Short                                                             & 0                                                                 & 0                                                                 & NA                                                                & NA                                                                & NA                                                                & NA                                                                & NA                                                                & NA                                                                & NA                                                               \\\\\n",
       "\t tt9916680                                                         & movie                                                             & De la ilusión al desconcierto: cine colombiano 1970-1995          & 0                                                                 & 2007                                                              & 100                                                               & Documentary                                                       & 0                                                                 & 0                                                                 & NA                                                                & NA                                                                & NA                                                                & NA                                                                & NA                                                                & NA                                                                & NA                                                               \\\\\n",
       "\t tt9916692                                                         & tvMovie                                                           & Teatroteka: Czlowiek bez twarzy                                   & 0                                                                 & 2015                                                              &  66                                                               & Drama                                                             & 0                                                                 & 0                                                                 & NA                                                                & NA                                                                & NA                                                                & NA                                                                & NA                                                                & NA                                                                & NA                                                               \\\\\n",
       "\t tt9916696                                                         & short                                                             & Who's Next..? The justice on its way                              & 0                                                                 & 2019                                                              &  -1                                                               & Short                                                             & Thriller                                                          & 0                                                                 & NA                                                                & NA                                                                & NA                                                                & NA                                                                & NA                                                                & NA                                                                & NA                                                               \\\\\n",
       "\t tt9916698                                                         & short                                                             & Horevete?                                                         & 0                                                                 & 2019                                                              &  -1                                                               & Short                                                             & 0                                                                 & 0                                                                 & NA                                                                & NA                                                                & NA                                                                & NA                                                                & NA                                                                & NA                                                                & NA                                                               \\\\\n",
       "\t tt9916706                                                         & movie                                                             & Dankyavar Danka                                                   & 0                                                                 & 2013                                                              &  -1                                                               & Comedy                                                            & 0                                                                 & 0                                                                 & NA                                                                & NA                                                                & NA                                                                & NA                                                                & NA                                                                & NA                                                                & NA                                                               \\\\\n",
       "\t tt9916720                                                         & short                                                             & The Nun 2                                                         & 0                                                                 & 2019                                                              &  10                                                               & Comedy                                                            & Horror                                                            & Mystery                                                           & NA                                                                & NA                                                                & NA                                                                & NA                                                                & NA                                                                & NA                                                                & NA                                                               \\\\\n",
       "\t tt9916724                                                         & short                                                             & Hay Que Ser Paciente                                              & 0                                                                 & 2015                                                              &   3                                                               & Documentary                                                       & Short                                                             & 0                                                                 & NA                                                                & NA                                                                & NA                                                                & NA                                                                & NA                                                                & NA                                                                & NA                                                               \\\\\n",
       "\t tt9916754                                                         & movie                                                             & Chico Albuquerque - Revelações                                    & 0                                                                 & 2013                                                              &  49                                                               & Documentary                                                       & 0                                                                 & 0                                                                 & NA                                                                & NA                                                                & NA                                                                & NA                                                                & NA                                                                & NA                                                                & NA                                                               \\\\\n",
       "\t tt9916756                                                         & short                                                             & Pretty Pretty Black Girl                                          & 0                                                                 & 2019                                                              &  -1                                                               & Short                                                             & 0                                                                 & 0                                                                 & NA                                                                & NA                                                                & NA                                                                & NA                                                                & NA                                                                & NA                                                                & NA                                                               \\\\\n",
       "\t tt9916764                                                         & short                                                             & 38                                                                & 0                                                                 & 2018                                                              &  -1                                                               & Short                                                             & 0                                                                 & 0                                                                 & NA                                                                & NA                                                                & NA                                                                & NA                                                                & NA                                                                & NA                                                                & NA                                                               \\\\\n",
       "\t tt9916856                                                         & short                                                             & The Wind                                                          & 0                                                                 & 2015                                                              &  27                                                               & Short                                                             & 0                                                                 & 0                                                                 & NA                                                                & NA                                                                & NA                                                                & NA                                                                & NA                                                                & NA                                                                & NA                                                               \\\\\n",
       "\\end{tabular}\n"
      ],
      "text/markdown": [
       "\n",
       "| tconst | titleType | primaryTitle | isAdult | startYear | runtimeMinutes | genre1 | genre2 | genre3 | category_emmy | win_emmy | category_gg_film | win_gg_film | category_gg_people | nominee | win_gg_people |\n",
       "|---|---|---|---|---|---|---|---|---|---|---|---|---|---|---|---|\n",
       "| tt0000001                                     | short                                         | Carmencita                                    | 0                                             | 1894                                          |  1                                            | Documentary                                   | Short                                         | 0                                             | NA                                            | NA                                            | NA                                            | NA                                            | NA                                            | NA                                            | NA                                            |\n",
       "| tt0000002                                     | short                                         | Le clown et ses chiens                        | 0                                             | 1892                                          |  5                                            | Animation                                     | Short                                         | 0                                             | NA                                            | NA                                            | NA                                            | NA                                            | NA                                            | NA                                            | NA                                            |\n",
       "| tt0000003                                     | short                                         | Pauvre Pierrot                                | 0                                             | 1892                                          |  4                                            | Animation                                     | Comedy                                        | Romance                                       | NA                                            | NA                                            | NA                                            | NA                                            | NA                                            | NA                                            | NA                                            |\n",
       "| tt0000004                                     | short                                         | Un bon bock                                   | 0                                             | 1892                                          | 12                                            | Animation                                     | Short                                         | 0                                             | NA                                            | NA                                            | NA                                            | NA                                            | NA                                            | NA                                            | NA                                            |\n",
       "| tt0000005                                     | short                                         | Blacksmith Scene                              | 0                                             | 1893                                          |  1                                            | Comedy                                        | Short                                         | 0                                             | NA                                            | NA                                            | NA                                            | NA                                            | NA                                            | NA                                            | NA                                            |\n",
       "| tt0000006                                     | short                                         | Chinese Opium Den                             | 0                                             | 1894                                          |  1                                            | Short                                         | 0                                             | 0                                             | NA                                            | NA                                            | NA                                            | NA                                            | NA                                            | NA                                            | NA                                            |\n",
       "| tt0000007                                     | short                                         | Corbett and Courtney Before the Kinetograph   | 0                                             | 1894                                          |  1                                            | Short                                         | Sport                                         | 0                                             | NA                                            | NA                                            | NA                                            | NA                                            | NA                                            | NA                                            | NA                                            |\n",
       "| tt0000008                                     | short                                         | Edison Kinetoscopic Record of a Sneeze        | 0                                             | 1894                                          |  1                                            | Documentary                                   | Short                                         | 0                                             | NA                                            | NA                                            | NA                                            | NA                                            | NA                                            | NA                                            | NA                                            |\n",
       "| tt0000009                                     | movie                                         | Miss Jerry                                    | 0                                             | 1894                                          | 45                                            | Romance                                       | 0                                             | 0                                             | NA                                            | NA                                            | NA                                            | NA                                            | NA                                            | NA                                            | NA                                            |\n",
       "| tt0000010                                     | short                                         | Leaving the Factory                           | 0                                             | 1895                                          |  1                                            | Documentary                                   | Short                                         | 0                                             | NA                                            | NA                                            | NA                                            | NA                                            | NA                                            | NA                                            | NA                                            |\n",
       "| tt0000011                                     | short                                         | Akrobatisches Potpourri                       | 0                                             | 1895                                          |  1                                            | Documentary                                   | Short                                         | 0                                             | NA                                            | NA                                            | NA                                            | NA                                            | NA                                            | NA                                            | NA                                            |\n",
       "| tt0000012                                     | short                                         | The Arrival of a Train                        | 0                                             | 1896                                          |  1                                            | Action                                        | Documentary                                   | Short                                         | NA                                            | NA                                            | NA                                            | NA                                            | NA                                            | NA                                            | NA                                            |\n",
       "| tt0000013                                     | short                                         | The Photographical Congress Arrives in Lyon   | 0                                             | 1895                                          |  1                                            | Documentary                                   | Short                                         | 0                                             | NA                                            | NA                                            | NA                                            | NA                                            | NA                                            | NA                                            | NA                                            |\n",
       "| tt0000014                                     | short                                         | The Waterer Watered                           | 0                                             | 1895                                          |  1                                            | Comedy                                        | Short                                         | 0                                             | NA                                            | NA                                            | NA                                            | NA                                            | NA                                            | NA                                            | NA                                            |\n",
       "| tt0000015                                     | short                                         | Autour d'une cabine                           | 0                                             | 1894                                          |  2                                            | Animation                                     | Short                                         | 0                                             | NA                                            | NA                                            | NA                                            | NA                                            | NA                                            | NA                                            | NA                                            |\n",
       "| tt0000016                                     | short                                         | Barque sortant du port                        | 0                                             | 1895                                          |  1                                            | Documentary                                   | Short                                         | 0                                             | NA                                            | NA                                            | NA                                            | NA                                            | NA                                            | NA                                            | NA                                            |\n",
       "| tt0000017                                     | short                                         | Italienischer Bauerntanz                      | 0                                             | 1895                                          |  1                                            | Documentary                                   | Short                                         | 0                                             | NA                                            | NA                                            | NA                                            | NA                                            | NA                                            | NA                                            | NA                                            |\n",
       "| tt0000018                                     | short                                         | Das boxende Känguruh                          | 0                                             | 1895                                          |  1                                            | Short                                         | 0                                             | 0                                             | NA                                            | NA                                            | NA                                            | NA                                            | NA                                            | NA                                            | NA                                            |\n",
       "| tt0000019                                     | short                                         | The Clown Barber                              | 0                                             | 1898                                          | -1                                            | Comedy                                        | Short                                         | 0                                             | NA                                            | NA                                            | NA                                            | NA                                            | NA                                            | NA                                            | NA                                            |\n",
       "| tt0000020                                     | short                                         | The Derby 1895                                | 0                                             | 1895                                          |  1                                            | Documentary                                   | Short                                         | Sport                                         | NA                                            | NA                                            | NA                                            | NA                                            | NA                                            | NA                                            | NA                                            |\n",
       "| tt0000022                                     | short                                         | Blacksmith Scene                              | 0                                             | 1895                                          |  1                                            | Documentary                                   | Short                                         | 0                                             | NA                                            | NA                                            | NA                                            | NA                                            | NA                                            | NA                                            | NA                                            |\n",
       "| tt0000023                                     | short                                         | The Sea                                       | 0                                             | 1895                                          |  1                                            | Documentary                                   | Short                                         | 0                                             | NA                                            | NA                                            | NA                                            | NA                                            | NA                                            | NA                                            | NA                                            |\n",
       "| tt0000024                                     | short                                         | Opening of the Kiel Canal                     | 0                                             | 1895                                          | -1                                            | News                                          | Short                                         | 0                                             | NA                                            | NA                                            | NA                                            | NA                                            | NA                                            | NA                                            | NA                                            |\n",
       "| tt0000025                                     | short                                         | The Oxford and Cambridge University Boat Race | 0                                             | 1895                                          | -1                                            | News                                          | Short                                         | Sport                                         | NA                                            | NA                                            | NA                                            | NA                                            | NA                                            | NA                                            | NA                                            |\n",
       "| tt0000026                                     | short                                         | The Messers. Lumière at Cards                 | 0                                             | 1896                                          |  1                                            | Documentary                                   | Short                                         | 0                                             | NA                                            | NA                                            | NA                                            | NA                                            | NA                                            | NA                                            | NA                                            |\n",
       "| tt0000027                                     | short                                         | Cordeliers' Square in Lyon                    | 0                                             | 1895                                          |  1                                            | Documentary                                   | Short                                         | 0                                             | NA                                            | NA                                            | NA                                            | NA                                            | NA                                            | NA                                            | NA                                            |\n",
       "| tt0000028                                     | short                                         | Fishing for Goldfish                          | 0                                             | 1895                                          |  1                                            | Documentary                                   | Short                                         | 0                                             | NA                                            | NA                                            | NA                                            | NA                                            | NA                                            | NA                                            | NA                                            |\n",
       "| tt0000029                                     | short                                         | Baby's Dinner                                 | 0                                             | 1895                                          |  1                                            | Documentary                                   | Short                                         | 0                                             | NA                                            | NA                                            | NA                                            | NA                                            | NA                                            | NA                                            | NA                                            |\n",
       "| tt0000030                                     | short                                         | Rough Sea at Dover                            | 0                                             | 1895                                          |  1                                            | Documentary                                   | Short                                         | 0                                             | NA                                            | NA                                            | NA                                            | NA                                            | NA                                            | NA                                            | NA                                            |\n",
       "| tt0000031                                     | short                                         | Jumping the Blanket                           | 0                                             | 1895                                          |  1                                            | Documentary                                   | Short                                         | 0                                             | NA                                            | NA                                            | NA                                            | NA                                            | NA                                            | NA                                            | NA                                            |\n",
       "| ... | ... | ... | ... | ... | ... | ... | ... | ... | ... | ... | ... | ... | ... | ... | ... |\n",
       "| tt9916170                                                         | movie                                                             | The Rehearsal                                                     | 0                                                                 | 2019                                                              |  51                                                               | Drama                                                             | 0                                                                 | 0                                                                 | NA                                                                | NA                                                                | NA                                                                | NA                                                                | NA                                                                | NA                                                                | NA                                                                |\n",
       "| tt9916172                                                         | short                                                             | Video (B)art(h)es                                                 | 0                                                                 | 2003                                                              |   3                                                               | Short                                                             | 0                                                                 | 0                                                                 | NA                                                                | NA                                                                | NA                                                                | NA                                                                | NA                                                                | NA                                                                | NA                                                                |\n",
       "| tt9916174                                                         | short                                                             | Kleiderglück                                                      | 0                                                                 | 2018                                                              |  14                                                               | Short                                                             | 0                                                                 | 0                                                                 | NA                                                                | NA                                                                | NA                                                                | NA                                                                | NA                                                                | NA                                                                | NA                                                                |\n",
       "| tt9916184                                                         | short                                                             | Homewrecker                                                       | 0                                                                 | 2018                                                              |  -1                                                               | Comedy                                                            | Short                                                             | 0                                                                 | NA                                                                | NA                                                                | NA                                                                | NA                                                                | NA                                                                | NA                                                                | NA                                                                |\n",
       "| tt9916186                                                         | movie                                                             | Illenau - die Geschichte einer ehemaligen Heil- und Pflegeanstalt | 0                                                                 | 2017                                                              |  84                                                               | Documentary                                                       | 0                                                                 | 0                                                                 | NA                                                                | NA                                                                | NA                                                                | NA                                                                | NA                                                                | NA                                                                | NA                                                                |\n",
       "| tt9916192                                                         | tvMovie                                                           | Danielle Darrieux: Il est poli d'être gai!                        | 0                                                                 | 2019                                                              |  53                                                               | Biography                                                         | 0                                                                 | 0                                                                 | NA                                                                | NA                                                                | NA                                                                | NA                                                                | NA                                                                | NA                                                                | NA                                                                |\n",
       "| tt9916214                                                         | short                                                             | Drown the Clown                                                   | 0                                                                 | 2019                                                              |   8                                                               | Drama                                                             | Short                                                             | 0                                                                 | NA                                                                | NA                                                                | NA                                                                | NA                                                                | NA                                                                | NA                                                                | NA                                                                |\n",
       "| tt9916248                                                         | tvMovie                                                           | Mahiwaga                                                          | 0                                                                 | 1996                                                              |  -1                                                               | Action                                                            | Horror                                                            | Thriller                                                          | NA                                                                | NA                                                                | NA                                                                | NA                                                                | NA                                                                | NA                                                                | NA                                                                |\n",
       "| tt9916312                                                         | short                                                             | A New ERA, Equal Representation for Actresses Campaign            | 0                                                                 | 2018                                                              |  -1                                                               | Short                                                             | 0                                                                 | 0                                                                 | NA                                                                | NA                                                                | NA                                                                | NA                                                                | NA                                                                | NA                                                                | NA                                                                |\n",
       "| tt9916428                                                         | movie                                                             | The Secret of China                                               | 0                                                                 | 2019                                                              |  -1                                                               | Adventure                                                         | History                                                           | War                                                               | NA                                                                | NA                                                                | NA                                                                | NA                                                                | NA                                                                | NA                                                                | NA                                                                |\n",
       "| tt9916472                                                         | short                                                             | Düzensiz                                                          | 0                                                                 | 2018                                                              |  -1                                                               | Drama                                                             | Short                                                             | 0                                                                 | NA                                                                | NA                                                                | NA                                                                | NA                                                                | NA                                                                | NA                                                                | NA                                                                |\n",
       "| tt9916538                                                         | movie                                                             | Kuambil Lagi Hatiku                                               | 0                                                                 | 2019                                                              | 123                                                               | Drama                                                             | 0                                                                 | 0                                                                 | NA                                                                | NA                                                                | NA                                                                | NA                                                                | NA                                                                | NA                                                                | NA                                                                |\n",
       "| tt9916544                                                         | short                                                             | My Sweet Prince                                                   | 0                                                                 | 2019                                                              |  12                                                               | Drama                                                             | Short                                                             | 0                                                                 | NA                                                                | NA                                                                | NA                                                                | NA                                                                | NA                                                                | NA                                                                | NA                                                                |\n",
       "| tt9916560                                                         | tvMovie                                                           | March of Dimes Presents: Once Upon a Dime                         | 0                                                                 | 1963                                                              |  58                                                               | Family                                                            | 0                                                                 | 0                                                                 | NA                                                                | NA                                                                | NA                                                                | NA                                                                | NA                                                                | NA                                                                | NA                                                                |\n",
       "| tt9916610                                                         | short                                                             | Private Eye                                                       | 0                                                                 | 2019                                                              |  22                                                               | Drama                                                             | Mystery                                                           | Sci-Fi                                                            | NA                                                                | NA                                                                | NA                                                                | NA                                                                | NA                                                                | NA                                                                | NA                                                                |\n",
       "| tt9916614                                                         | short                                                             | Great Walls                                                       | 0                                                                 | 2019                                                              |  29                                                               | Documentary                                                       | History                                                           | Short                                                             | NA                                                                | NA                                                                | NA                                                                | NA                                                                | NA                                                                | NA                                                                | NA                                                                |\n",
       "| tt9916622                                                         | movie                                                             | Rodolpho Teóphilo - O Legado de um Pioneiro                       | 0                                                                 | 2015                                                              |  57                                                               | Documentary                                                       | 0                                                                 | 0                                                                 | NA                                                                | NA                                                                | NA                                                                | NA                                                                | NA                                                                | NA                                                                | NA                                                                |\n",
       "| tt9916634                                                         | short                                                             | Eugène                                                            | 0                                                                 | 2018                                                              |  26                                                               | Documentary                                                       | Short                                                             | Sport                                                             | NA                                                                | NA                                                                | NA                                                                | NA                                                                | NA                                                                | NA                                                                | NA                                                                |\n",
       "| tt9916666                                                         | short                                                             | The Great Confession                                              | 0                                                                 | 2019                                                              |  -1                                                               | Short                                                             | 0                                                                 | 0                                                                 | NA                                                                | NA                                                                | NA                                                                | NA                                                                | NA                                                                | NA                                                                | NA                                                                |\n",
       "| tt9916680                                                         | movie                                                             | De la ilusión al desconcierto: cine colombiano 1970-1995          | 0                                                                 | 2007                                                              | 100                                                               | Documentary                                                       | 0                                                                 | 0                                                                 | NA                                                                | NA                                                                | NA                                                                | NA                                                                | NA                                                                | NA                                                                | NA                                                                |\n",
       "| tt9916692                                                         | tvMovie                                                           | Teatroteka: Czlowiek bez twarzy                                   | 0                                                                 | 2015                                                              |  66                                                               | Drama                                                             | 0                                                                 | 0                                                                 | NA                                                                | NA                                                                | NA                                                                | NA                                                                | NA                                                                | NA                                                                | NA                                                                |\n",
       "| tt9916696                                                         | short                                                             | Who's Next..? The justice on its way                              | 0                                                                 | 2019                                                              |  -1                                                               | Short                                                             | Thriller                                                          | 0                                                                 | NA                                                                | NA                                                                | NA                                                                | NA                                                                | NA                                                                | NA                                                                | NA                                                                |\n",
       "| tt9916698                                                         | short                                                             | Horevete?                                                         | 0                                                                 | 2019                                                              |  -1                                                               | Short                                                             | 0                                                                 | 0                                                                 | NA                                                                | NA                                                                | NA                                                                | NA                                                                | NA                                                                | NA                                                                | NA                                                                |\n",
       "| tt9916706                                                         | movie                                                             | Dankyavar Danka                                                   | 0                                                                 | 2013                                                              |  -1                                                               | Comedy                                                            | 0                                                                 | 0                                                                 | NA                                                                | NA                                                                | NA                                                                | NA                                                                | NA                                                                | NA                                                                | NA                                                                |\n",
       "| tt9916720                                                         | short                                                             | The Nun 2                                                         | 0                                                                 | 2019                                                              |  10                                                               | Comedy                                                            | Horror                                                            | Mystery                                                           | NA                                                                | NA                                                                | NA                                                                | NA                                                                | NA                                                                | NA                                                                | NA                                                                |\n",
       "| tt9916724                                                         | short                                                             | Hay Que Ser Paciente                                              | 0                                                                 | 2015                                                              |   3                                                               | Documentary                                                       | Short                                                             | 0                                                                 | NA                                                                | NA                                                                | NA                                                                | NA                                                                | NA                                                                | NA                                                                | NA                                                                |\n",
       "| tt9916754                                                         | movie                                                             | Chico Albuquerque - Revelações                                    | 0                                                                 | 2013                                                              |  49                                                               | Documentary                                                       | 0                                                                 | 0                                                                 | NA                                                                | NA                                                                | NA                                                                | NA                                                                | NA                                                                | NA                                                                | NA                                                                |\n",
       "| tt9916756                                                         | short                                                             | Pretty Pretty Black Girl                                          | 0                                                                 | 2019                                                              |  -1                                                               | Short                                                             | 0                                                                 | 0                                                                 | NA                                                                | NA                                                                | NA                                                                | NA                                                                | NA                                                                | NA                                                                | NA                                                                |\n",
       "| tt9916764                                                         | short                                                             | 38                                                                | 0                                                                 | 2018                                                              |  -1                                                               | Short                                                             | 0                                                                 | 0                                                                 | NA                                                                | NA                                                                | NA                                                                | NA                                                                | NA                                                                | NA                                                                | NA                                                                |\n",
       "| tt9916856                                                         | short                                                             | The Wind                                                          | 0                                                                 | 2015                                                              |  27                                                               | Short                                                             | 0                                                                 | 0                                                                 | NA                                                                | NA                                                                | NA                                                                | NA                                                                | NA                                                                | NA                                                                | NA                                                                |\n",
       "\n"
      ],
      "text/plain": [
       "        tconst    titleType\n",
       "1       tt0000001 short    \n",
       "2       tt0000002 short    \n",
       "3       tt0000003 short    \n",
       "4       tt0000004 short    \n",
       "5       tt0000005 short    \n",
       "6       tt0000006 short    \n",
       "7       tt0000007 short    \n",
       "8       tt0000008 short    \n",
       "9       tt0000009 movie    \n",
       "10      tt0000010 short    \n",
       "11      tt0000011 short    \n",
       "12      tt0000012 short    \n",
       "13      tt0000013 short    \n",
       "14      tt0000014 short    \n",
       "15      tt0000015 short    \n",
       "16      tt0000016 short    \n",
       "17      tt0000017 short    \n",
       "18      tt0000018 short    \n",
       "19      tt0000019 short    \n",
       "20      tt0000020 short    \n",
       "21      tt0000022 short    \n",
       "22      tt0000023 short    \n",
       "23      tt0000024 short    \n",
       "24      tt0000025 short    \n",
       "25      tt0000026 short    \n",
       "26      tt0000027 short    \n",
       "27      tt0000028 short    \n",
       "28      tt0000029 short    \n",
       "29      tt0000030 short    \n",
       "30      tt0000031 short    \n",
       "...     ...       ...      \n",
       "1234506 tt9916170 movie    \n",
       "1234507 tt9916172 short    \n",
       "1234508 tt9916174 short    \n",
       "1234509 tt9916184 short    \n",
       "1234510 tt9916186 movie    \n",
       "1234511 tt9916192 tvMovie  \n",
       "1234512 tt9916214 short    \n",
       "1234513 tt9916248 tvMovie  \n",
       "1234514 tt9916312 short    \n",
       "1234515 tt9916428 movie    \n",
       "1234516 tt9916472 short    \n",
       "1234517 tt9916538 movie    \n",
       "1234518 tt9916544 short    \n",
       "1234519 tt9916560 tvMovie  \n",
       "1234520 tt9916610 short    \n",
       "1234521 tt9916614 short    \n",
       "1234522 tt9916622 movie    \n",
       "1234523 tt9916634 short    \n",
       "1234524 tt9916666 short    \n",
       "1234525 tt9916680 movie    \n",
       "1234526 tt9916692 tvMovie  \n",
       "1234527 tt9916696 short    \n",
       "1234528 tt9916698 short    \n",
       "1234529 tt9916706 movie    \n",
       "1234530 tt9916720 short    \n",
       "1234531 tt9916724 short    \n",
       "1234532 tt9916754 movie    \n",
       "1234533 tt9916756 short    \n",
       "1234534 tt9916764 short    \n",
       "1234535 tt9916856 short    \n",
       "        primaryTitle                                                     \n",
       "1       Carmencita                                                       \n",
       "2       Le clown et ses chiens                                           \n",
       "3       Pauvre Pierrot                                                   \n",
       "4       Un bon bock                                                      \n",
       "5       Blacksmith Scene                                                 \n",
       "6       Chinese Opium Den                                                \n",
       "7       Corbett and Courtney Before the Kinetograph                      \n",
       "8       Edison Kinetoscopic Record of a Sneeze                           \n",
       "9       Miss Jerry                                                       \n",
       "10      Leaving the Factory                                              \n",
       "11      Akrobatisches Potpourri                                          \n",
       "12      The Arrival of a Train                                           \n",
       "13      The Photographical Congress Arrives in Lyon                      \n",
       "14      The Waterer Watered                                              \n",
       "15      Autour d'une cabine                                              \n",
       "16      Barque sortant du port                                           \n",
       "17      Italienischer Bauerntanz                                         \n",
       "18      Das boxende Känguruh                                             \n",
       "19      The Clown Barber                                                 \n",
       "20      The Derby 1895                                                   \n",
       "21      Blacksmith Scene                                                 \n",
       "22      The Sea                                                          \n",
       "23      Opening of the Kiel Canal                                        \n",
       "24      The Oxford and Cambridge University Boat Race                    \n",
       "25      The Messers. Lumière at Cards                                    \n",
       "26      Cordeliers' Square in Lyon                                       \n",
       "27      Fishing for Goldfish                                             \n",
       "28      Baby's Dinner                                                    \n",
       "29      Rough Sea at Dover                                               \n",
       "30      Jumping the Blanket                                              \n",
       "...     ...                                                              \n",
       "1234506 The Rehearsal                                                    \n",
       "1234507 Video (B)art(h)es                                                \n",
       "1234508 Kleiderglück                                                     \n",
       "1234509 Homewrecker                                                      \n",
       "1234510 Illenau - die Geschichte einer ehemaligen Heil- und Pflegeanstalt\n",
       "1234511 Danielle Darrieux: Il est poli d'être gai!                       \n",
       "1234512 Drown the Clown                                                  \n",
       "1234513 Mahiwaga                                                         \n",
       "1234514 A New ERA, Equal Representation for Actresses Campaign           \n",
       "1234515 The Secret of China                                              \n",
       "1234516 Düzensiz                                                         \n",
       "1234517 Kuambil Lagi Hatiku                                              \n",
       "1234518 My Sweet Prince                                                  \n",
       "1234519 March of Dimes Presents: Once Upon a Dime                        \n",
       "1234520 Private Eye                                                      \n",
       "1234521 Great Walls                                                      \n",
       "1234522 Rodolpho Teóphilo - O Legado de um Pioneiro                      \n",
       "1234523 Eugène                                                           \n",
       "1234524 The Great Confession                                             \n",
       "1234525 De la ilusión al desconcierto: cine colombiano 1970-1995         \n",
       "1234526 Teatroteka: Czlowiek bez twarzy                                  \n",
       "1234527 Who's Next..? The justice on its way                             \n",
       "1234528 Horevete?                                                        \n",
       "1234529 Dankyavar Danka                                                  \n",
       "1234530 The Nun 2                                                        \n",
       "1234531 Hay Que Ser Paciente                                             \n",
       "1234532 Chico Albuquerque - Revelações                                   \n",
       "1234533 Pretty Pretty Black Girl                                         \n",
       "1234534 38                                                               \n",
       "1234535 The Wind                                                         \n",
       "        isAdult startYear runtimeMinutes genre1      genre2      genre3  \n",
       "1       0       1894       1             Documentary Short       0       \n",
       "2       0       1892       5             Animation   Short       0       \n",
       "3       0       1892       4             Animation   Comedy      Romance \n",
       "4       0       1892      12             Animation   Short       0       \n",
       "5       0       1893       1             Comedy      Short       0       \n",
       "6       0       1894       1             Short       0           0       \n",
       "7       0       1894       1             Short       Sport       0       \n",
       "8       0       1894       1             Documentary Short       0       \n",
       "9       0       1894      45             Romance     0           0       \n",
       "10      0       1895       1             Documentary Short       0       \n",
       "11      0       1895       1             Documentary Short       0       \n",
       "12      0       1896       1             Action      Documentary Short   \n",
       "13      0       1895       1             Documentary Short       0       \n",
       "14      0       1895       1             Comedy      Short       0       \n",
       "15      0       1894       2             Animation   Short       0       \n",
       "16      0       1895       1             Documentary Short       0       \n",
       "17      0       1895       1             Documentary Short       0       \n",
       "18      0       1895       1             Short       0           0       \n",
       "19      0       1898      -1             Comedy      Short       0       \n",
       "20      0       1895       1             Documentary Short       Sport   \n",
       "21      0       1895       1             Documentary Short       0       \n",
       "22      0       1895       1             Documentary Short       0       \n",
       "23      0       1895      -1             News        Short       0       \n",
       "24      0       1895      -1             News        Short       Sport   \n",
       "25      0       1896       1             Documentary Short       0       \n",
       "26      0       1895       1             Documentary Short       0       \n",
       "27      0       1895       1             Documentary Short       0       \n",
       "28      0       1895       1             Documentary Short       0       \n",
       "29      0       1895       1             Documentary Short       0       \n",
       "30      0       1895       1             Documentary Short       0       \n",
       "...     ...     ...       ...            ...         ...         ...     \n",
       "1234506 0       2019       51            Drama       0           0       \n",
       "1234507 0       2003        3            Short       0           0       \n",
       "1234508 0       2018       14            Short       0           0       \n",
       "1234509 0       2018       -1            Comedy      Short       0       \n",
       "1234510 0       2017       84            Documentary 0           0       \n",
       "1234511 0       2019       53            Biography   0           0       \n",
       "1234512 0       2019        8            Drama       Short       0       \n",
       "1234513 0       1996       -1            Action      Horror      Thriller\n",
       "1234514 0       2018       -1            Short       0           0       \n",
       "1234515 0       2019       -1            Adventure   History     War     \n",
       "1234516 0       2018       -1            Drama       Short       0       \n",
       "1234517 0       2019      123            Drama       0           0       \n",
       "1234518 0       2019       12            Drama       Short       0       \n",
       "1234519 0       1963       58            Family      0           0       \n",
       "1234520 0       2019       22            Drama       Mystery     Sci-Fi  \n",
       "1234521 0       2019       29            Documentary History     Short   \n",
       "1234522 0       2015       57            Documentary 0           0       \n",
       "1234523 0       2018       26            Documentary Short       Sport   \n",
       "1234524 0       2019       -1            Short       0           0       \n",
       "1234525 0       2007      100            Documentary 0           0       \n",
       "1234526 0       2015       66            Drama       0           0       \n",
       "1234527 0       2019       -1            Short       Thriller    0       \n",
       "1234528 0       2019       -1            Short       0           0       \n",
       "1234529 0       2013       -1            Comedy      0           0       \n",
       "1234530 0       2019       10            Comedy      Horror      Mystery \n",
       "1234531 0       2015        3            Documentary Short       0       \n",
       "1234532 0       2013       49            Documentary 0           0       \n",
       "1234533 0       2019       -1            Short       0           0       \n",
       "1234534 0       2018       -1            Short       0           0       \n",
       "1234535 0       2015       27            Short       0           0       \n",
       "        category_emmy win_emmy category_gg_film win_gg_film category_gg_people\n",
       "1       NA            NA       NA               NA          NA                \n",
       "2       NA            NA       NA               NA          NA                \n",
       "3       NA            NA       NA               NA          NA                \n",
       "4       NA            NA       NA               NA          NA                \n",
       "5       NA            NA       NA               NA          NA                \n",
       "6       NA            NA       NA               NA          NA                \n",
       "7       NA            NA       NA               NA          NA                \n",
       "8       NA            NA       NA               NA          NA                \n",
       "9       NA            NA       NA               NA          NA                \n",
       "10      NA            NA       NA               NA          NA                \n",
       "11      NA            NA       NA               NA          NA                \n",
       "12      NA            NA       NA               NA          NA                \n",
       "13      NA            NA       NA               NA          NA                \n",
       "14      NA            NA       NA               NA          NA                \n",
       "15      NA            NA       NA               NA          NA                \n",
       "16      NA            NA       NA               NA          NA                \n",
       "17      NA            NA       NA               NA          NA                \n",
       "18      NA            NA       NA               NA          NA                \n",
       "19      NA            NA       NA               NA          NA                \n",
       "20      NA            NA       NA               NA          NA                \n",
       "21      NA            NA       NA               NA          NA                \n",
       "22      NA            NA       NA               NA          NA                \n",
       "23      NA            NA       NA               NA          NA                \n",
       "24      NA            NA       NA               NA          NA                \n",
       "25      NA            NA       NA               NA          NA                \n",
       "26      NA            NA       NA               NA          NA                \n",
       "27      NA            NA       NA               NA          NA                \n",
       "28      NA            NA       NA               NA          NA                \n",
       "29      NA            NA       NA               NA          NA                \n",
       "30      NA            NA       NA               NA          NA                \n",
       "...     ...           ...      ...              ...         ...               \n",
       "1234506 NA            NA       NA               NA          NA                \n",
       "1234507 NA            NA       NA               NA          NA                \n",
       "1234508 NA            NA       NA               NA          NA                \n",
       "1234509 NA            NA       NA               NA          NA                \n",
       "1234510 NA            NA       NA               NA          NA                \n",
       "1234511 NA            NA       NA               NA          NA                \n",
       "1234512 NA            NA       NA               NA          NA                \n",
       "1234513 NA            NA       NA               NA          NA                \n",
       "1234514 NA            NA       NA               NA          NA                \n",
       "1234515 NA            NA       NA               NA          NA                \n",
       "1234516 NA            NA       NA               NA          NA                \n",
       "1234517 NA            NA       NA               NA          NA                \n",
       "1234518 NA            NA       NA               NA          NA                \n",
       "1234519 NA            NA       NA               NA          NA                \n",
       "1234520 NA            NA       NA               NA          NA                \n",
       "1234521 NA            NA       NA               NA          NA                \n",
       "1234522 NA            NA       NA               NA          NA                \n",
       "1234523 NA            NA       NA               NA          NA                \n",
       "1234524 NA            NA       NA               NA          NA                \n",
       "1234525 NA            NA       NA               NA          NA                \n",
       "1234526 NA            NA       NA               NA          NA                \n",
       "1234527 NA            NA       NA               NA          NA                \n",
       "1234528 NA            NA       NA               NA          NA                \n",
       "1234529 NA            NA       NA               NA          NA                \n",
       "1234530 NA            NA       NA               NA          NA                \n",
       "1234531 NA            NA       NA               NA          NA                \n",
       "1234532 NA            NA       NA               NA          NA                \n",
       "1234533 NA            NA       NA               NA          NA                \n",
       "1234534 NA            NA       NA               NA          NA                \n",
       "1234535 NA            NA       NA               NA          NA                \n",
       "        nominee win_gg_people\n",
       "1       NA      NA           \n",
       "2       NA      NA           \n",
       "3       NA      NA           \n",
       "4       NA      NA           \n",
       "5       NA      NA           \n",
       "6       NA      NA           \n",
       "7       NA      NA           \n",
       "8       NA      NA           \n",
       "9       NA      NA           \n",
       "10      NA      NA           \n",
       "11      NA      NA           \n",
       "12      NA      NA           \n",
       "13      NA      NA           \n",
       "14      NA      NA           \n",
       "15      NA      NA           \n",
       "16      NA      NA           \n",
       "17      NA      NA           \n",
       "18      NA      NA           \n",
       "19      NA      NA           \n",
       "20      NA      NA           \n",
       "21      NA      NA           \n",
       "22      NA      NA           \n",
       "23      NA      NA           \n",
       "24      NA      NA           \n",
       "25      NA      NA           \n",
       "26      NA      NA           \n",
       "27      NA      NA           \n",
       "28      NA      NA           \n",
       "29      NA      NA           \n",
       "30      NA      NA           \n",
       "...     ...     ...          \n",
       "1234506 NA      NA           \n",
       "1234507 NA      NA           \n",
       "1234508 NA      NA           \n",
       "1234509 NA      NA           \n",
       "1234510 NA      NA           \n",
       "1234511 NA      NA           \n",
       "1234512 NA      NA           \n",
       "1234513 NA      NA           \n",
       "1234514 NA      NA           \n",
       "1234515 NA      NA           \n",
       "1234516 NA      NA           \n",
       "1234517 NA      NA           \n",
       "1234518 NA      NA           \n",
       "1234519 NA      NA           \n",
       "1234520 NA      NA           \n",
       "1234521 NA      NA           \n",
       "1234522 NA      NA           \n",
       "1234523 NA      NA           \n",
       "1234524 NA      NA           \n",
       "1234525 NA      NA           \n",
       "1234526 NA      NA           \n",
       "1234527 NA      NA           \n",
       "1234528 NA      NA           \n",
       "1234529 NA      NA           \n",
       "1234530 NA      NA           \n",
       "1234531 NA      NA           \n",
       "1234532 NA      NA           \n",
       "1234533 NA      NA           \n",
       "1234534 NA      NA           \n",
       "1234535 NA      NA           "
      ]
     },
     "metadata": {},
     "output_type": "display_data"
    }
   ],
   "source": [
    "titlebasics_awards"
   ]
  },
  {
   "cell_type": "markdown",
   "metadata": {},
   "source": [
    " - most of the rows will be of no interest, but now we need to compare with title ratings!"
   ]
  },
  {
   "cell_type": "markdown",
   "metadata": {},
   "source": [
    "## Do high rated movies get awards ? "
   ]
  },
  {
   "cell_type": "code",
   "execution_count": 49,
   "metadata": {},
   "outputs": [],
   "source": [
    "# first - merge titlebasics_awards with title ratings\n",
    "#load title ratings\n",
    "title_ratings=read.delim(\"./../dataset/filtered_title_ratings.tsv\",header=TRUE)"
   ]
  },
  {
   "cell_type": "code",
   "execution_count": 50,
   "metadata": {},
   "outputs": [
    {
     "data": {
      "text/html": [
       "423183"
      ],
      "text/latex": [
       "423183"
      ],
      "text/markdown": [
       "423183"
      ],
      "text/plain": [
       "[1] 423183"
      ]
     },
     "metadata": {},
     "output_type": "display_data"
    },
    {
     "data": {
      "text/html": [
       "<table>\n",
       "<thead><tr><th scope=col>tconst</th><th scope=col>averageRating</th><th scope=col>numVotes</th></tr></thead>\n",
       "<tbody>\n",
       "\t<tr><td>tt0000001</td><td>5.6      </td><td>1654     </td></tr>\n",
       "\t<tr><td>tt0000002</td><td>6.1      </td><td> 199     </td></tr>\n",
       "\t<tr><td>tt0000003</td><td>6.5      </td><td>1366     </td></tr>\n",
       "\t<tr><td>tt0000004</td><td>6.2      </td><td> 121     </td></tr>\n",
       "\t<tr><td>tt0000005</td><td>6.2      </td><td>2149     </td></tr>\n",
       "\t<tr><td>tt0000006</td><td>5.3      </td><td> 115     </td></tr>\n",
       "</tbody>\n",
       "</table>\n"
      ],
      "text/latex": [
       "\\begin{tabular}{r|lll}\n",
       " tconst & averageRating & numVotes\\\\\n",
       "\\hline\n",
       "\t tt0000001 & 5.6       & 1654     \\\\\n",
       "\t tt0000002 & 6.1       &  199     \\\\\n",
       "\t tt0000003 & 6.5       & 1366     \\\\\n",
       "\t tt0000004 & 6.2       &  121     \\\\\n",
       "\t tt0000005 & 6.2       & 2149     \\\\\n",
       "\t tt0000006 & 5.3       &  115     \\\\\n",
       "\\end{tabular}\n"
      ],
      "text/markdown": [
       "\n",
       "| tconst | averageRating | numVotes |\n",
       "|---|---|---|\n",
       "| tt0000001 | 5.6       | 1654      |\n",
       "| tt0000002 | 6.1       |  199      |\n",
       "| tt0000003 | 6.5       | 1366      |\n",
       "| tt0000004 | 6.2       |  121      |\n",
       "| tt0000005 | 6.2       | 2149      |\n",
       "| tt0000006 | 5.3       |  115      |\n",
       "\n"
      ],
      "text/plain": [
       "  tconst    averageRating numVotes\n",
       "1 tt0000001 5.6           1654    \n",
       "2 tt0000002 6.1            199    \n",
       "3 tt0000003 6.5           1366    \n",
       "4 tt0000004 6.2            121    \n",
       "5 tt0000005 6.2           2149    \n",
       "6 tt0000006 5.3            115    "
      ]
     },
     "metadata": {},
     "output_type": "display_data"
    }
   ],
   "source": [
    "nrow(title_ratings)\n",
    "head(title_ratings)"
   ]
  },
  {
   "cell_type": "code",
   "execution_count": 51,
   "metadata": {},
   "outputs": [],
   "source": [
    "#the merge will be made by tconst\n",
    "#we want to keep all the instances in every dataset,\n",
    "#so we do a fair comparison\n",
    "title_awards_ratings = full_join(titlebasics_awards,title_ratings,by=\"tconst\")"
   ]
  },
  {
   "cell_type": "code",
   "execution_count": 52,
   "metadata": {},
   "outputs": [
    {
     "data": {
      "text/html": [
       "1251290"
      ],
      "text/latex": [
       "1251290"
      ],
      "text/markdown": [
       "1251290"
      ],
      "text/plain": [
       "[1] 1251290"
      ]
     },
     "metadata": {},
     "output_type": "display_data"
    }
   ],
   "source": [
    "nrow(title_awards_ratings)"
   ]
  },
  {
   "cell_type": "code",
   "execution_count": 53,
   "metadata": {},
   "outputs": [
    {
     "data": {
      "text/html": [
       "16755"
      ],
      "text/latex": [
       "16755"
      ],
      "text/markdown": [
       "16755"
      ],
      "text/plain": [
       "[1] 16755"
      ]
     },
     "metadata": {},
     "output_type": "display_data"
    }
   ],
   "source": [
    "1251290-1234535"
   ]
  },
  {
   "cell_type": "markdown",
   "metadata": {},
   "source": [
    " - we have 16 755 more instances than before the merge, this means that 16 755 have ratings instances, but not title basics instances, probably due to cleaning steps, such as removing NA values with no startYear, for instance"
   ]
  },
  {
   "cell_type": "code",
   "execution_count": 54,
   "metadata": {},
   "outputs": [
    {
     "data": {
      "text/html": [
       "<table>\n",
       "<thead><tr><th scope=col>tconst</th><th scope=col>titleType</th><th scope=col>primaryTitle</th><th scope=col>isAdult</th><th scope=col>startYear</th><th scope=col>runtimeMinutes</th><th scope=col>genre1</th><th scope=col>genre2</th><th scope=col>genre3</th><th scope=col>category_emmy</th><th scope=col>win_emmy</th><th scope=col>category_gg_film</th><th scope=col>win_gg_film</th><th scope=col>category_gg_people</th><th scope=col>nominee</th><th scope=col>win_gg_people</th><th scope=col>averageRating</th><th scope=col>numVotes</th></tr></thead>\n",
       "<tbody>\n",
       "\t<tr><td>tt0000001             </td><td>short                 </td><td>Carmencita            </td><td>0                     </td><td>1894                  </td><td> 1                    </td><td>Documentary           </td><td>Short                 </td><td>0                     </td><td>NA                    </td><td>NA                    </td><td>NA                    </td><td>NA                    </td><td>NA                    </td><td>NA                    </td><td>NA                    </td><td>5.6                   </td><td>1654                  </td></tr>\n",
       "\t<tr><td>tt0000002             </td><td>short                 </td><td>Le clown et ses chiens</td><td>0                     </td><td>1892                  </td><td> 5                    </td><td>Animation             </td><td>Short                 </td><td>0                     </td><td>NA                    </td><td>NA                    </td><td>NA                    </td><td>NA                    </td><td>NA                    </td><td>NA                    </td><td>NA                    </td><td>6.1                   </td><td> 199                  </td></tr>\n",
       "\t<tr><td>tt0000003             </td><td>short                 </td><td>Pauvre Pierrot        </td><td>0                     </td><td>1892                  </td><td> 4                    </td><td>Animation             </td><td>Comedy                </td><td>Romance               </td><td>NA                    </td><td>NA                    </td><td>NA                    </td><td>NA                    </td><td>NA                    </td><td>NA                    </td><td>NA                    </td><td>6.5                   </td><td>1366                  </td></tr>\n",
       "\t<tr><td>tt0000004             </td><td>short                 </td><td>Un bon bock           </td><td>0                     </td><td>1892                  </td><td>12                    </td><td>Animation             </td><td>Short                 </td><td>0                     </td><td>NA                    </td><td>NA                    </td><td>NA                    </td><td>NA                    </td><td>NA                    </td><td>NA                    </td><td>NA                    </td><td>6.2                   </td><td> 121                  </td></tr>\n",
       "\t<tr><td>tt0000005             </td><td>short                 </td><td>Blacksmith Scene      </td><td>0                     </td><td>1893                  </td><td> 1                    </td><td>Comedy                </td><td>Short                 </td><td>0                     </td><td>NA                    </td><td>NA                    </td><td>NA                    </td><td>NA                    </td><td>NA                    </td><td>NA                    </td><td>NA                    </td><td>6.2                   </td><td>2149                  </td></tr>\n",
       "\t<tr><td>tt0000006             </td><td>short                 </td><td>Chinese Opium Den     </td><td>0                     </td><td>1894                  </td><td> 1                    </td><td>Short                 </td><td>0                     </td><td>0                     </td><td>NA                    </td><td>NA                    </td><td>NA                    </td><td>NA                    </td><td>NA                    </td><td>NA                    </td><td>NA                    </td><td>5.3                   </td><td> 115                  </td></tr>\n",
       "</tbody>\n",
       "</table>\n"
      ],
      "text/latex": [
       "\\begin{tabular}{r|llllllllllllllllll}\n",
       " tconst & titleType & primaryTitle & isAdult & startYear & runtimeMinutes & genre1 & genre2 & genre3 & category\\_emmy & win\\_emmy & category\\_gg\\_film & win\\_gg\\_film & category\\_gg\\_people & nominee & win\\_gg\\_people & averageRating & numVotes\\\\\n",
       "\\hline\n",
       "\t tt0000001              & short                  & Carmencita             & 0                      & 1894                   &  1                     & Documentary            & Short                  & 0                      & NA                     & NA                     & NA                     & NA                     & NA                     & NA                     & NA                     & 5.6                    & 1654                  \\\\\n",
       "\t tt0000002              & short                  & Le clown et ses chiens & 0                      & 1892                   &  5                     & Animation              & Short                  & 0                      & NA                     & NA                     & NA                     & NA                     & NA                     & NA                     & NA                     & 6.1                    &  199                  \\\\\n",
       "\t tt0000003              & short                  & Pauvre Pierrot         & 0                      & 1892                   &  4                     & Animation              & Comedy                 & Romance                & NA                     & NA                     & NA                     & NA                     & NA                     & NA                     & NA                     & 6.5                    & 1366                  \\\\\n",
       "\t tt0000004              & short                  & Un bon bock            & 0                      & 1892                   & 12                     & Animation              & Short                  & 0                      & NA                     & NA                     & NA                     & NA                     & NA                     & NA                     & NA                     & 6.2                    &  121                  \\\\\n",
       "\t tt0000005              & short                  & Blacksmith Scene       & 0                      & 1893                   &  1                     & Comedy                 & Short                  & 0                      & NA                     & NA                     & NA                     & NA                     & NA                     & NA                     & NA                     & 6.2                    & 2149                  \\\\\n",
       "\t tt0000006              & short                  & Chinese Opium Den      & 0                      & 1894                   &  1                     & Short                  & 0                      & 0                      & NA                     & NA                     & NA                     & NA                     & NA                     & NA                     & NA                     & 5.3                    &  115                  \\\\\n",
       "\\end{tabular}\n"
      ],
      "text/markdown": [
       "\n",
       "| tconst | titleType | primaryTitle | isAdult | startYear | runtimeMinutes | genre1 | genre2 | genre3 | category_emmy | win_emmy | category_gg_film | win_gg_film | category_gg_people | nominee | win_gg_people | averageRating | numVotes |\n",
       "|---|---|---|---|---|---|---|---|---|---|---|---|---|---|---|---|---|---|\n",
       "| tt0000001              | short                  | Carmencita             | 0                      | 1894                   |  1                     | Documentary            | Short                  | 0                      | NA                     | NA                     | NA                     | NA                     | NA                     | NA                     | NA                     | 5.6                    | 1654                   |\n",
       "| tt0000002              | short                  | Le clown et ses chiens | 0                      | 1892                   |  5                     | Animation              | Short                  | 0                      | NA                     | NA                     | NA                     | NA                     | NA                     | NA                     | NA                     | 6.1                    |  199                   |\n",
       "| tt0000003              | short                  | Pauvre Pierrot         | 0                      | 1892                   |  4                     | Animation              | Comedy                 | Romance                | NA                     | NA                     | NA                     | NA                     | NA                     | NA                     | NA                     | 6.5                    | 1366                   |\n",
       "| tt0000004              | short                  | Un bon bock            | 0                      | 1892                   | 12                     | Animation              | Short                  | 0                      | NA                     | NA                     | NA                     | NA                     | NA                     | NA                     | NA                     | 6.2                    |  121                   |\n",
       "| tt0000005              | short                  | Blacksmith Scene       | 0                      | 1893                   |  1                     | Comedy                 | Short                  | 0                      | NA                     | NA                     | NA                     | NA                     | NA                     | NA                     | NA                     | 6.2                    | 2149                   |\n",
       "| tt0000006              | short                  | Chinese Opium Den      | 0                      | 1894                   |  1                     | Short                  | 0                      | 0                      | NA                     | NA                     | NA                     | NA                     | NA                     | NA                     | NA                     | 5.3                    |  115                   |\n",
       "\n"
      ],
      "text/plain": [
       "  tconst    titleType primaryTitle           isAdult startYear runtimeMinutes\n",
       "1 tt0000001 short     Carmencita             0       1894       1            \n",
       "2 tt0000002 short     Le clown et ses chiens 0       1892       5            \n",
       "3 tt0000003 short     Pauvre Pierrot         0       1892       4            \n",
       "4 tt0000004 short     Un bon bock            0       1892      12            \n",
       "5 tt0000005 short     Blacksmith Scene       0       1893       1            \n",
       "6 tt0000006 short     Chinese Opium Den      0       1894       1            \n",
       "  genre1      genre2 genre3  category_emmy win_emmy category_gg_film\n",
       "1 Documentary Short  0       NA            NA       NA              \n",
       "2 Animation   Short  0       NA            NA       NA              \n",
       "3 Animation   Comedy Romance NA            NA       NA              \n",
       "4 Animation   Short  0       NA            NA       NA              \n",
       "5 Comedy      Short  0       NA            NA       NA              \n",
       "6 Short       0      0       NA            NA       NA              \n",
       "  win_gg_film category_gg_people nominee win_gg_people averageRating numVotes\n",
       "1 NA          NA                 NA      NA            5.6           1654    \n",
       "2 NA          NA                 NA      NA            6.1            199    \n",
       "3 NA          NA                 NA      NA            6.5           1366    \n",
       "4 NA          NA                 NA      NA            6.2            121    \n",
       "5 NA          NA                 NA      NA            6.2           2149    \n",
       "6 NA          NA                 NA      NA            5.3            115    "
      ]
     },
     "metadata": {},
     "output_type": "display_data"
    }
   ],
   "source": [
    "head(title_awards_ratings)"
   ]
  },
  {
   "cell_type": "code",
   "execution_count": 55,
   "metadata": {},
   "outputs": [],
   "source": [
    "#let's save this dataset for later use (if hypotheses not completed here)\n",
    "library(readr)\n",
    "write_tsv(title_awards_ratings,'merged_title_basics_ratings_awards.tsv') "
   ]
  },
  {
   "cell_type": "markdown",
   "metadata": {},
   "source": [
    "### Let's compare the ratings of movies with at least 1 nomination vs. movies with 0 nominations\n",
    "\n",
    "To do so, we will select from title_awards_ratings only the instances with actual ratings!"
   ]
  },
  {
   "cell_type": "code",
   "execution_count": 75,
   "metadata": {},
   "outputs": [],
   "source": [
    "#first - let's subset only one instance per tconst\n",
    "ratings_only = title_awards_ratings\n",
    "ratings_only = subset(ratings_only, !duplicated(ratings_only$tconst))\n"
   ]
  },
  {
   "cell_type": "code",
   "execution_count": 76,
   "metadata": {},
   "outputs": [
    {
     "data": {
      "text/html": [
       "1248111"
      ],
      "text/latex": [
       "1248111"
      ],
      "text/markdown": [
       "1248111"
      ],
      "text/plain": [
       "[1] 1248111"
      ]
     },
     "metadata": {},
     "output_type": "display_data"
    }
   ],
   "source": [
    "nrow(ratings_only)"
   ]
  },
  {
   "cell_type": "code",
   "execution_count": 77,
   "metadata": {},
   "outputs": [
    {
     "data": {
      "text/html": [
       "<table>\n",
       "<thead><tr><th></th><th scope=col>tconst</th><th scope=col>titleType</th><th scope=col>primaryTitle</th><th scope=col>isAdult</th><th scope=col>startYear</th><th scope=col>runtimeMinutes</th><th scope=col>genre1</th><th scope=col>genre2</th><th scope=col>genre3</th><th scope=col>category_emmy</th><th scope=col>win_emmy</th><th scope=col>category_gg_film</th><th scope=col>win_gg_film</th><th scope=col>category_gg_people</th><th scope=col>nominee</th><th scope=col>win_gg_people</th><th scope=col>averageRating</th><th scope=col>numVotes</th></tr></thead>\n",
       "<tbody>\n",
       "\t<tr><th scope=row>1</th><td>tt0000001                                    </td><td>short                                        </td><td>Carmencita                                   </td><td>0                                            </td><td>1894                                         </td><td> 1                                           </td><td>Documentary                                  </td><td>Short                                        </td><td>0                                            </td><td>NA                                           </td><td>NA                                           </td><td>NA                                           </td><td>NA                                           </td><td>NA                                           </td><td>NA                                           </td><td>NA                                           </td><td>5.6                                          </td><td> 1654                                        </td></tr>\n",
       "\t<tr><th scope=row>2</th><td>tt0000002                                    </td><td>short                                        </td><td>Le clown et ses chiens                       </td><td>0                                            </td><td>1892                                         </td><td> 5                                           </td><td>Animation                                    </td><td>Short                                        </td><td>0                                            </td><td>NA                                           </td><td>NA                                           </td><td>NA                                           </td><td>NA                                           </td><td>NA                                           </td><td>NA                                           </td><td>NA                                           </td><td>6.1                                          </td><td>  199                                        </td></tr>\n",
       "\t<tr><th scope=row>3</th><td>tt0000003                                    </td><td>short                                        </td><td>Pauvre Pierrot                               </td><td>0                                            </td><td>1892                                         </td><td> 4                                           </td><td>Animation                                    </td><td>Comedy                                       </td><td>Romance                                      </td><td>NA                                           </td><td>NA                                           </td><td>NA                                           </td><td>NA                                           </td><td>NA                                           </td><td>NA                                           </td><td>NA                                           </td><td>6.5                                          </td><td> 1366                                        </td></tr>\n",
       "\t<tr><th scope=row>4</th><td>tt0000004                                    </td><td>short                                        </td><td>Un bon bock                                  </td><td>0                                            </td><td>1892                                         </td><td>12                                           </td><td>Animation                                    </td><td>Short                                        </td><td>0                                            </td><td>NA                                           </td><td>NA                                           </td><td>NA                                           </td><td>NA                                           </td><td>NA                                           </td><td>NA                                           </td><td>NA                                           </td><td>6.2                                          </td><td>  121                                        </td></tr>\n",
       "\t<tr><th scope=row>5</th><td>tt0000005                                    </td><td>short                                        </td><td>Blacksmith Scene                             </td><td>0                                            </td><td>1893                                         </td><td> 1                                           </td><td>Comedy                                       </td><td>Short                                        </td><td>0                                            </td><td>NA                                           </td><td>NA                                           </td><td>NA                                           </td><td>NA                                           </td><td>NA                                           </td><td>NA                                           </td><td>NA                                           </td><td>6.2                                          </td><td> 2149                                        </td></tr>\n",
       "\t<tr><th scope=row>6</th><td>tt0000006                                    </td><td>short                                        </td><td>Chinese Opium Den                            </td><td>0                                            </td><td>1894                                         </td><td> 1                                           </td><td>Short                                        </td><td>0                                            </td><td>0                                            </td><td>NA                                           </td><td>NA                                           </td><td>NA                                           </td><td>NA                                           </td><td>NA                                           </td><td>NA                                           </td><td>NA                                           </td><td>5.3                                          </td><td>  115                                        </td></tr>\n",
       "\t<tr><th scope=row>7</th><td>tt0000007                                    </td><td>short                                        </td><td>Corbett and Courtney Before the Kinetograph  </td><td>0                                            </td><td>1894                                         </td><td> 1                                           </td><td>Short                                        </td><td>Sport                                        </td><td>0                                            </td><td>NA                                           </td><td>NA                                           </td><td>NA                                           </td><td>NA                                           </td><td>NA                                           </td><td>NA                                           </td><td>NA                                           </td><td>5.5                                          </td><td>  659                                        </td></tr>\n",
       "\t<tr><th scope=row>8</th><td>tt0000008                                    </td><td>short                                        </td><td>Edison Kinetoscopic Record of a Sneeze       </td><td>0                                            </td><td>1894                                         </td><td> 1                                           </td><td>Documentary                                  </td><td>Short                                        </td><td>0                                            </td><td>NA                                           </td><td>NA                                           </td><td>NA                                           </td><td>NA                                           </td><td>NA                                           </td><td>NA                                           </td><td>NA                                           </td><td>5.4                                          </td><td> 1821                                        </td></tr>\n",
       "\t<tr><th scope=row>9</th><td>tt0000009                                    </td><td>movie                                        </td><td>Miss Jerry                                   </td><td>0                                            </td><td>1894                                         </td><td>45                                           </td><td>Romance                                      </td><td>0                                            </td><td>0                                            </td><td>NA                                           </td><td>NA                                           </td><td>NA                                           </td><td>NA                                           </td><td>NA                                           </td><td>NA                                           </td><td>NA                                           </td><td>5.9                                          </td><td>  156                                        </td></tr>\n",
       "\t<tr><th scope=row>10</th><td>tt0000010                                    </td><td>short                                        </td><td>Leaving the Factory                          </td><td>0                                            </td><td>1895                                         </td><td> 1                                           </td><td>Documentary                                  </td><td>Short                                        </td><td>0                                            </td><td>NA                                           </td><td>NA                                           </td><td>NA                                           </td><td>NA                                           </td><td>NA                                           </td><td>NA                                           </td><td>NA                                           </td><td>6.9                                          </td><td> 6074                                        </td></tr>\n",
       "\t<tr><th scope=row>11</th><td>tt0000011                                    </td><td>short                                        </td><td>Akrobatisches Potpourri                      </td><td>0                                            </td><td>1895                                         </td><td> 1                                           </td><td>Documentary                                  </td><td>Short                                        </td><td>0                                            </td><td>NA                                           </td><td>NA                                           </td><td>NA                                           </td><td>NA                                           </td><td>NA                                           </td><td>NA                                           </td><td>NA                                           </td><td>5.2                                          </td><td>  266                                        </td></tr>\n",
       "\t<tr><th scope=row>12</th><td>tt0000012                                    </td><td>short                                        </td><td>The Arrival of a Train                       </td><td>0                                            </td><td>1896                                         </td><td> 1                                           </td><td>Action                                       </td><td>Documentary                                  </td><td>Short                                        </td><td>NA                                           </td><td>NA                                           </td><td>NA                                           </td><td>NA                                           </td><td>NA                                           </td><td>NA                                           </td><td>NA                                           </td><td>7.4                                          </td><td>10395                                        </td></tr>\n",
       "\t<tr><th scope=row>13</th><td>tt0000013                                    </td><td>short                                        </td><td>The Photographical Congress Arrives in Lyon  </td><td>0                                            </td><td>1895                                         </td><td> 1                                           </td><td>Documentary                                  </td><td>Short                                        </td><td>0                                            </td><td>NA                                           </td><td>NA                                           </td><td>NA                                           </td><td>NA                                           </td><td>NA                                           </td><td>NA                                           </td><td>NA                                           </td><td>5.7                                          </td><td> 1582                                        </td></tr>\n",
       "\t<tr><th scope=row>14</th><td>tt0000014                                    </td><td>short                                        </td><td>The Waterer Watered                          </td><td>0                                            </td><td>1895                                         </td><td> 1                                           </td><td>Comedy                                       </td><td>Short                                        </td><td>0                                            </td><td>NA                                           </td><td>NA                                           </td><td>NA                                           </td><td>NA                                           </td><td>NA                                           </td><td>NA                                           </td><td>NA                                           </td><td>7.1                                          </td><td> 4649                                        </td></tr>\n",
       "\t<tr><th scope=row>15</th><td>tt0000015                                    </td><td>short                                        </td><td>Autour d'une cabine                          </td><td>0                                            </td><td>1894                                         </td><td> 2                                           </td><td>Animation                                    </td><td>Short                                        </td><td>0                                            </td><td>NA                                           </td><td>NA                                           </td><td>NA                                           </td><td>NA                                           </td><td>NA                                           </td><td>NA                                           </td><td>NA                                           </td><td>6.1                                          </td><td>  826                                        </td></tr>\n",
       "\t<tr><th scope=row>16</th><td>tt0000016                                    </td><td>short                                        </td><td>Barque sortant du port                       </td><td>0                                            </td><td>1895                                         </td><td> 1                                           </td><td>Documentary                                  </td><td>Short                                        </td><td>0                                            </td><td>NA                                           </td><td>NA                                           </td><td>NA                                           </td><td>NA                                           </td><td>NA                                           </td><td>NA                                           </td><td>NA                                           </td><td>5.9                                          </td><td> 1210                                        </td></tr>\n",
       "\t<tr><th scope=row>17</th><td>tt0000017                                    </td><td>short                                        </td><td>Italienischer Bauerntanz                     </td><td>0                                            </td><td>1895                                         </td><td> 1                                           </td><td>Documentary                                  </td><td>Short                                        </td><td>0                                            </td><td>NA                                           </td><td>NA                                           </td><td>NA                                           </td><td>NA                                           </td><td>NA                                           </td><td>NA                                           </td><td>NA                                           </td><td>4.6                                          </td><td>  243                                        </td></tr>\n",
       "\t<tr><th scope=row>18</th><td>tt0000018                                    </td><td>short                                        </td><td>Das boxende Känguruh                         </td><td>0                                            </td><td>1895                                         </td><td> 1                                           </td><td>Short                                        </td><td>0                                            </td><td>0                                            </td><td>NA                                           </td><td>NA                                           </td><td>NA                                           </td><td>NA                                           </td><td>NA                                           </td><td>NA                                           </td><td>NA                                           </td><td>5.3                                          </td><td>  481                                        </td></tr>\n",
       "\t<tr><th scope=row>19</th><td>tt0000019                                    </td><td>short                                        </td><td>The Clown Barber                             </td><td>0                                            </td><td>1898                                         </td><td>-1                                           </td><td>Comedy                                       </td><td>Short                                        </td><td>0                                            </td><td>NA                                           </td><td>NA                                           </td><td>NA                                           </td><td>NA                                           </td><td>NA                                           </td><td>NA                                           </td><td>NA                                           </td><td>5.3                                          </td><td>   20                                        </td></tr>\n",
       "\t<tr><th scope=row>20</th><td>tt0000020                                    </td><td>short                                        </td><td>The Derby 1895                               </td><td>0                                            </td><td>1895                                         </td><td> 1                                           </td><td>Documentary                                  </td><td>Short                                        </td><td>Sport                                        </td><td>NA                                           </td><td>NA                                           </td><td>NA                                           </td><td>NA                                           </td><td>NA                                           </td><td>NA                                           </td><td>NA                                           </td><td>5.0                                          </td><td>  268                                        </td></tr>\n",
       "\t<tr><th scope=row>21</th><td>tt0000022                                    </td><td>short                                        </td><td>Blacksmith Scene                             </td><td>0                                            </td><td>1895                                         </td><td> 1                                           </td><td>Documentary                                  </td><td>Short                                        </td><td>0                                            </td><td>NA                                           </td><td>NA                                           </td><td>NA                                           </td><td>NA                                           </td><td>NA                                           </td><td>NA                                           </td><td>NA                                           </td><td>5.1                                          </td><td>  895                                        </td></tr>\n",
       "\t<tr><th scope=row>22</th><td>tt0000023                                    </td><td>short                                        </td><td>The Sea                                      </td><td>0                                            </td><td>1895                                         </td><td> 1                                           </td><td>Documentary                                  </td><td>Short                                        </td><td>0                                            </td><td>NA                                           </td><td>NA                                           </td><td>NA                                           </td><td>NA                                           </td><td>NA                                           </td><td>NA                                           </td><td>NA                                           </td><td>5.7                                          </td><td> 1150                                        </td></tr>\n",
       "\t<tr><th scope=row>23</th><td>tt0000024                                    </td><td>short                                        </td><td>Opening of the Kiel Canal                    </td><td>0                                            </td><td>1895                                         </td><td>-1                                           </td><td>News                                         </td><td>Short                                        </td><td>0                                            </td><td>NA                                           </td><td>NA                                           </td><td>NA                                           </td><td>NA                                           </td><td>NA                                           </td><td>NA                                           </td><td>NA                                           </td><td>4.5                                          </td><td>   54                                        </td></tr>\n",
       "\t<tr><th scope=row>24</th><td>tt0000025                                    </td><td>short                                        </td><td>The Oxford and Cambridge University Boat Race</td><td>0                                            </td><td>1895                                         </td><td>-1                                           </td><td>News                                         </td><td>Short                                        </td><td>Sport                                        </td><td>NA                                           </td><td>NA                                           </td><td>NA                                           </td><td>NA                                           </td><td>NA                                           </td><td>NA                                           </td><td>NA                                           </td><td>4.2                                          </td><td>   29                                        </td></tr>\n",
       "\t<tr><th scope=row>25</th><td>tt0000026                                    </td><td>short                                        </td><td>The Messers. Lumière at Cards                </td><td>0                                            </td><td>1896                                         </td><td> 1                                           </td><td>Documentary                                  </td><td>Short                                        </td><td>0                                            </td><td>NA                                           </td><td>NA                                           </td><td>NA                                           </td><td>NA                                           </td><td>NA                                           </td><td>NA                                           </td><td>NA                                           </td><td>5.7                                          </td><td> 1318                                        </td></tr>\n",
       "\t<tr><th scope=row>26</th><td>tt0000027                                    </td><td>short                                        </td><td>Cordeliers' Square in Lyon                   </td><td>0                                            </td><td>1895                                         </td><td> 1                                           </td><td>Documentary                                  </td><td>Short                                        </td><td>0                                            </td><td>NA                                           </td><td>NA                                           </td><td>NA                                           </td><td>NA                                           </td><td>NA                                           </td><td>NA                                           </td><td>NA                                           </td><td>5.6                                          </td><td>  933                                        </td></tr>\n",
       "\t<tr><th scope=row>27</th><td>tt0000028                                    </td><td>short                                        </td><td>Fishing for Goldfish                         </td><td>0                                            </td><td>1895                                         </td><td> 1                                           </td><td>Documentary                                  </td><td>Short                                        </td><td>0                                            </td><td>NA                                           </td><td>NA                                           </td><td>NA                                           </td><td>NA                                           </td><td>NA                                           </td><td>NA                                           </td><td>NA                                           </td><td>5.1                                          </td><td>  861                                        </td></tr>\n",
       "\t<tr><th scope=row>28</th><td>tt0000029                                    </td><td>short                                        </td><td>Baby's Dinner                                </td><td>0                                            </td><td>1895                                         </td><td> 1                                           </td><td>Documentary                                  </td><td>Short                                        </td><td>0                                            </td><td>NA                                           </td><td>NA                                           </td><td>NA                                           </td><td>NA                                           </td><td>NA                                           </td><td>NA                                           </td><td>NA                                           </td><td>5.9                                          </td><td> 2877                                        </td></tr>\n",
       "\t<tr><th scope=row>29</th><td>tt0000030                                    </td><td>short                                        </td><td>Rough Sea at Dover                           </td><td>0                                            </td><td>1895                                         </td><td> 1                                           </td><td>Documentary                                  </td><td>Short                                        </td><td>0                                            </td><td>NA                                           </td><td>NA                                           </td><td>NA                                           </td><td>NA                                           </td><td>NA                                           </td><td>NA                                           </td><td>NA                                           </td><td>5.2                                          </td><td>  690                                        </td></tr>\n",
       "\t<tr><th scope=row>30</th><td>tt0000031                                    </td><td>short                                        </td><td>Jumping the Blanket                          </td><td>0                                            </td><td>1895                                         </td><td> 1                                           </td><td>Documentary                                  </td><td>Short                                        </td><td>0                                            </td><td>NA                                           </td><td>NA                                           </td><td>NA                                           </td><td>NA                                           </td><td>NA                                           </td><td>NA                                           </td><td>NA                                           </td><td>5.5                                          </td><td>  842                                        </td></tr>\n",
       "\t<tr><th scope=row>...</th><td>...</td><td>...</td><td>...</td><td>...</td><td>...</td><td>...</td><td>...</td><td>...</td><td>...</td><td>...</td><td>...</td><td>...</td><td>...</td><td>...</td><td>...</td><td>...</td><td>...</td><td>...</td></tr>\n",
       "\t<tr><th scope=row>1251261</th><td>tt9875306</td><td>NA       </td><td>NA       </td><td>NA       </td><td>NA       </td><td>NA       </td><td>NA       </td><td>NA       </td><td>NA       </td><td>NA       </td><td>NA       </td><td>NA       </td><td>NA       </td><td>NA       </td><td>NA       </td><td>NA       </td><td>7.6      </td><td>   17    </td></tr>\n",
       "\t<tr><th scope=row>1251262</th><td>tt9877170</td><td>NA       </td><td>NA       </td><td>NA       </td><td>NA       </td><td>NA       </td><td>NA       </td><td>NA       </td><td>NA       </td><td>NA       </td><td>NA       </td><td>NA       </td><td>NA       </td><td>NA       </td><td>NA       </td><td>NA       </td><td>6.5      </td><td> 7399    </td></tr>\n",
       "\t<tr><th scope=row>1251263</th><td>tt9881630</td><td>NA       </td><td>NA       </td><td>NA       </td><td>NA       </td><td>NA       </td><td>NA       </td><td>NA       </td><td>NA       </td><td>NA       </td><td>NA       </td><td>NA       </td><td>NA       </td><td>NA       </td><td>NA       </td><td>NA       </td><td>7.0      </td><td>   22    </td></tr>\n",
       "\t<tr><th scope=row>1251264</th><td>tt9883024</td><td>NA       </td><td>NA       </td><td>NA       </td><td>NA       </td><td>NA       </td><td>NA       </td><td>NA       </td><td>NA       </td><td>NA       </td><td>NA       </td><td>NA       </td><td>NA       </td><td>NA       </td><td>NA       </td><td>NA       </td><td>9.4      </td><td>    8    </td></tr>\n",
       "\t<tr><th scope=row>1251265</th><td>tt9883996</td><td>NA       </td><td>NA       </td><td>NA       </td><td>NA       </td><td>NA       </td><td>NA       </td><td>NA       </td><td>NA       </td><td>NA       </td><td>NA       </td><td>NA       </td><td>NA       </td><td>NA       </td><td>NA       </td><td>NA       </td><td>5.7      </td><td>  150    </td></tr>\n",
       "\t<tr><th scope=row>1251266</th><td>tt9885292</td><td>NA       </td><td>NA       </td><td>NA       </td><td>NA       </td><td>NA       </td><td>NA       </td><td>NA       </td><td>NA       </td><td>NA       </td><td>NA       </td><td>NA       </td><td>NA       </td><td>NA       </td><td>NA       </td><td>NA       </td><td>6.6      </td><td>    7    </td></tr>\n",
       "\t<tr><th scope=row>1251267</th><td>tt9887580</td><td>NA       </td><td>NA       </td><td>NA       </td><td>NA       </td><td>NA       </td><td>NA       </td><td>NA       </td><td>NA       </td><td>NA       </td><td>NA       </td><td>NA       </td><td>NA       </td><td>NA       </td><td>NA       </td><td>NA       </td><td>3.5      </td><td>  359    </td></tr>\n",
       "\t<tr><th scope=row>1251268</th><td>tt9889664</td><td>NA       </td><td>NA       </td><td>NA       </td><td>NA       </td><td>NA       </td><td>NA       </td><td>NA       </td><td>NA       </td><td>NA       </td><td>NA       </td><td>NA       </td><td>NA       </td><td>NA       </td><td>NA       </td><td>NA       </td><td>6.9      </td><td>   41    </td></tr>\n",
       "\t<tr><th scope=row>1251269</th><td>tt9890308</td><td>NA       </td><td>NA       </td><td>NA       </td><td>NA       </td><td>NA       </td><td>NA       </td><td>NA       </td><td>NA       </td><td>NA       </td><td>NA       </td><td>NA       </td><td>NA       </td><td>NA       </td><td>NA       </td><td>NA       </td><td>7.2      </td><td>  230    </td></tr>\n",
       "\t<tr><th scope=row>1251270</th><td>tt9892094</td><td>NA       </td><td>NA       </td><td>NA       </td><td>NA       </td><td>NA       </td><td>NA       </td><td>NA       </td><td>NA       </td><td>NA       </td><td>NA       </td><td>NA       </td><td>NA       </td><td>NA       </td><td>NA       </td><td>NA       </td><td>6.8      </td><td>  274    </td></tr>\n",
       "\t<tr><th scope=row>1251271</th><td>tt9892546</td><td>NA       </td><td>NA       </td><td>NA       </td><td>NA       </td><td>NA       </td><td>NA       </td><td>NA       </td><td>NA       </td><td>NA       </td><td>NA       </td><td>NA       </td><td>NA       </td><td>NA       </td><td>NA       </td><td>NA       </td><td>5.1      </td><td>   12    </td></tr>\n",
       "\t<tr><th scope=row>1251272</th><td>tt9893070</td><td>NA       </td><td>NA       </td><td>NA       </td><td>NA       </td><td>NA       </td><td>NA       </td><td>NA       </td><td>NA       </td><td>NA       </td><td>NA       </td><td>NA       </td><td>NA       </td><td>NA       </td><td>NA       </td><td>NA       </td><td>6.8      </td><td>   14    </td></tr>\n",
       "\t<tr><th scope=row>1251273</th><td>tt9893250</td><td>NA       </td><td>NA       </td><td>NA       </td><td>NA       </td><td>NA       </td><td>NA       </td><td>NA       </td><td>NA       </td><td>NA       </td><td>NA       </td><td>NA       </td><td>NA       </td><td>NA       </td><td>NA       </td><td>NA       </td><td>7.7      </td><td>   64    </td></tr>\n",
       "\t<tr><th scope=row>1251274</th><td>tt9894440</td><td>NA       </td><td>NA       </td><td>NA       </td><td>NA       </td><td>NA       </td><td>NA       </td><td>NA       </td><td>NA       </td><td>NA       </td><td>NA       </td><td>NA       </td><td>NA       </td><td>NA       </td><td>NA       </td><td>NA       </td><td>7.1      </td><td>  646    </td></tr>\n",
       "\t<tr><th scope=row>1251275</th><td>tt9894450</td><td>NA       </td><td>NA       </td><td>NA       </td><td>NA       </td><td>NA       </td><td>NA       </td><td>NA       </td><td>NA       </td><td>NA       </td><td>NA       </td><td>NA       </td><td>NA       </td><td>NA       </td><td>NA       </td><td>NA       </td><td>6.6      </td><td>  150    </td></tr>\n",
       "\t<tr><th scope=row>1251276</th><td>tt9894660</td><td>NA       </td><td>NA       </td><td>NA       </td><td>NA       </td><td>NA       </td><td>NA       </td><td>NA       </td><td>NA       </td><td>NA       </td><td>NA       </td><td>NA       </td><td>NA       </td><td>NA       </td><td>NA       </td><td>NA       </td><td>7.1      </td><td>   11    </td></tr>\n",
       "\t<tr><th scope=row>1251277</th><td>tt9897258</td><td>NA       </td><td>NA       </td><td>NA       </td><td>NA       </td><td>NA       </td><td>NA       </td><td>NA       </td><td>NA       </td><td>NA       </td><td>NA       </td><td>NA       </td><td>NA       </td><td>NA       </td><td>NA       </td><td>NA       </td><td>5.3      </td><td>   26    </td></tr>\n",
       "\t<tr><th scope=row>1251278</th><td>tt9897894</td><td>NA       </td><td>NA       </td><td>NA       </td><td>NA       </td><td>NA       </td><td>NA       </td><td>NA       </td><td>NA       </td><td>NA       </td><td>NA       </td><td>NA       </td><td>NA       </td><td>NA       </td><td>NA       </td><td>NA       </td><td>6.4      </td><td>    5    </td></tr>\n",
       "\t<tr><th scope=row>1251279</th><td>tt9898858</td><td>NA       </td><td>NA       </td><td>NA       </td><td>NA       </td><td>NA       </td><td>NA       </td><td>NA       </td><td>NA       </td><td>NA       </td><td>NA       </td><td>NA       </td><td>NA       </td><td>NA       </td><td>NA       </td><td>NA       </td><td>5.1      </td><td>10951    </td></tr>\n",
       "\t<tr><th scope=row>1251280</th><td>tt9902160</td><td>NA       </td><td>NA       </td><td>NA       </td><td>NA       </td><td>NA       </td><td>NA       </td><td>NA       </td><td>NA       </td><td>NA       </td><td>NA       </td><td>NA       </td><td>NA       </td><td>NA       </td><td>NA       </td><td>NA       </td><td>7.0      </td><td>  124    </td></tr>\n",
       "\t<tr><th scope=row>1251281</th><td>tt9902734</td><td>NA       </td><td>NA       </td><td>NA       </td><td>NA       </td><td>NA       </td><td>NA       </td><td>NA       </td><td>NA       </td><td>NA       </td><td>NA       </td><td>NA       </td><td>NA       </td><td>NA       </td><td>NA       </td><td>NA       </td><td>7.4      </td><td>   10    </td></tr>\n",
       "\t<tr><th scope=row>1251282</th><td>tt9904802</td><td>NA       </td><td>NA       </td><td>NA       </td><td>NA       </td><td>NA       </td><td>NA       </td><td>NA       </td><td>NA       </td><td>NA       </td><td>NA       </td><td>NA       </td><td>NA       </td><td>NA       </td><td>NA       </td><td>NA       </td><td>4.9      </td><td>  920    </td></tr>\n",
       "\t<tr><th scope=row>1251283</th><td>tt9905932</td><td>NA       </td><td>NA       </td><td>NA       </td><td>NA       </td><td>NA       </td><td>NA       </td><td>NA       </td><td>NA       </td><td>NA       </td><td>NA       </td><td>NA       </td><td>NA       </td><td>NA       </td><td>NA       </td><td>NA       </td><td>7.0      </td><td>    5    </td></tr>\n",
       "\t<tr><th scope=row>1251284</th><td>tt9907396</td><td>NA       </td><td>NA       </td><td>NA       </td><td>NA       </td><td>NA       </td><td>NA       </td><td>NA       </td><td>NA       </td><td>NA       </td><td>NA       </td><td>NA       </td><td>NA       </td><td>NA       </td><td>NA       </td><td>NA       </td><td>7.4      </td><td>    7    </td></tr>\n",
       "\t<tr><th scope=row>1251285</th><td>tt9908390</td><td>NA       </td><td>NA       </td><td>NA       </td><td>NA       </td><td>NA       </td><td>NA       </td><td>NA       </td><td>NA       </td><td>NA       </td><td>NA       </td><td>NA       </td><td>NA       </td><td>NA       </td><td>NA       </td><td>NA       </td><td>5.2      </td><td>  519    </td></tr>\n",
       "\t<tr><th scope=row>1251286</th><td>tt9909596</td><td>NA       </td><td>NA       </td><td>NA       </td><td>NA       </td><td>NA       </td><td>NA       </td><td>NA       </td><td>NA       </td><td>NA       </td><td>NA       </td><td>NA       </td><td>NA       </td><td>NA       </td><td>NA       </td><td>NA       </td><td>8.9      </td><td>    8    </td></tr>\n",
       "\t<tr><th scope=row>1251287</th><td>tt9910530</td><td>NA       </td><td>NA       </td><td>NA       </td><td>NA       </td><td>NA       </td><td>NA       </td><td>NA       </td><td>NA       </td><td>NA       </td><td>NA       </td><td>NA       </td><td>NA       </td><td>NA       </td><td>NA       </td><td>NA       </td><td>6.0      </td><td>   13    </td></tr>\n",
       "\t<tr><th scope=row>1251288</th><td>tt9911196</td><td>NA       </td><td>NA       </td><td>NA       </td><td>NA       </td><td>NA       </td><td>NA       </td><td>NA       </td><td>NA       </td><td>NA       </td><td>NA       </td><td>NA       </td><td>NA       </td><td>NA       </td><td>NA       </td><td>NA       </td><td>7.7      </td><td>  903    </td></tr>\n",
       "\t<tr><th scope=row>1251289</th><td>tt9912890</td><td>NA       </td><td>NA       </td><td>NA       </td><td>NA       </td><td>NA       </td><td>NA       </td><td>NA       </td><td>NA       </td><td>NA       </td><td>NA       </td><td>NA       </td><td>NA       </td><td>NA       </td><td>NA       </td><td>NA       </td><td>7.0      </td><td>    7    </td></tr>\n",
       "\t<tr><th scope=row>1251290</th><td>tt9916362</td><td>NA       </td><td>NA       </td><td>NA       </td><td>NA       </td><td>NA       </td><td>NA       </td><td>NA       </td><td>NA       </td><td>NA       </td><td>NA       </td><td>NA       </td><td>NA       </td><td>NA       </td><td>NA       </td><td>NA       </td><td>6.3      </td><td>  104    </td></tr>\n",
       "</tbody>\n",
       "</table>\n"
      ],
      "text/latex": [
       "\\begin{tabular}{r|llllllllllllllllll}\n",
       "  & tconst & titleType & primaryTitle & isAdult & startYear & runtimeMinutes & genre1 & genre2 & genre3 & category\\_emmy & win\\_emmy & category\\_gg\\_film & win\\_gg\\_film & category\\_gg\\_people & nominee & win\\_gg\\_people & averageRating & numVotes\\\\\n",
       "\\hline\n",
       "\t1 & tt0000001                                     & short                                         & Carmencita                                    & 0                                             & 1894                                          &  1                                            & Documentary                                   & Short                                         & 0                                             & NA                                            & NA                                            & NA                                            & NA                                            & NA                                            & NA                                            & NA                                            & 5.6                                           &  1654                                        \\\\\n",
       "\t2 & tt0000002                                     & short                                         & Le clown et ses chiens                        & 0                                             & 1892                                          &  5                                            & Animation                                     & Short                                         & 0                                             & NA                                            & NA                                            & NA                                            & NA                                            & NA                                            & NA                                            & NA                                            & 6.1                                           &   199                                        \\\\\n",
       "\t3 & tt0000003                                     & short                                         & Pauvre Pierrot                                & 0                                             & 1892                                          &  4                                            & Animation                                     & Comedy                                        & Romance                                       & NA                                            & NA                                            & NA                                            & NA                                            & NA                                            & NA                                            & NA                                            & 6.5                                           &  1366                                        \\\\\n",
       "\t4 & tt0000004                                     & short                                         & Un bon bock                                   & 0                                             & 1892                                          & 12                                            & Animation                                     & Short                                         & 0                                             & NA                                            & NA                                            & NA                                            & NA                                            & NA                                            & NA                                            & NA                                            & 6.2                                           &   121                                        \\\\\n",
       "\t5 & tt0000005                                     & short                                         & Blacksmith Scene                              & 0                                             & 1893                                          &  1                                            & Comedy                                        & Short                                         & 0                                             & NA                                            & NA                                            & NA                                            & NA                                            & NA                                            & NA                                            & NA                                            & 6.2                                           &  2149                                        \\\\\n",
       "\t6 & tt0000006                                     & short                                         & Chinese Opium Den                             & 0                                             & 1894                                          &  1                                            & Short                                         & 0                                             & 0                                             & NA                                            & NA                                            & NA                                            & NA                                            & NA                                            & NA                                            & NA                                            & 5.3                                           &   115                                        \\\\\n",
       "\t7 & tt0000007                                     & short                                         & Corbett and Courtney Before the Kinetograph   & 0                                             & 1894                                          &  1                                            & Short                                         & Sport                                         & 0                                             & NA                                            & NA                                            & NA                                            & NA                                            & NA                                            & NA                                            & NA                                            & 5.5                                           &   659                                        \\\\\n",
       "\t8 & tt0000008                                     & short                                         & Edison Kinetoscopic Record of a Sneeze        & 0                                             & 1894                                          &  1                                            & Documentary                                   & Short                                         & 0                                             & NA                                            & NA                                            & NA                                            & NA                                            & NA                                            & NA                                            & NA                                            & 5.4                                           &  1821                                        \\\\\n",
       "\t9 & tt0000009                                     & movie                                         & Miss Jerry                                    & 0                                             & 1894                                          & 45                                            & Romance                                       & 0                                             & 0                                             & NA                                            & NA                                            & NA                                            & NA                                            & NA                                            & NA                                            & NA                                            & 5.9                                           &   156                                        \\\\\n",
       "\t10 & tt0000010                                     & short                                         & Leaving the Factory                           & 0                                             & 1895                                          &  1                                            & Documentary                                   & Short                                         & 0                                             & NA                                            & NA                                            & NA                                            & NA                                            & NA                                            & NA                                            & NA                                            & 6.9                                           &  6074                                        \\\\\n",
       "\t11 & tt0000011                                     & short                                         & Akrobatisches Potpourri                       & 0                                             & 1895                                          &  1                                            & Documentary                                   & Short                                         & 0                                             & NA                                            & NA                                            & NA                                            & NA                                            & NA                                            & NA                                            & NA                                            & 5.2                                           &   266                                        \\\\\n",
       "\t12 & tt0000012                                     & short                                         & The Arrival of a Train                        & 0                                             & 1896                                          &  1                                            & Action                                        & Documentary                                   & Short                                         & NA                                            & NA                                            & NA                                            & NA                                            & NA                                            & NA                                            & NA                                            & 7.4                                           & 10395                                        \\\\\n",
       "\t13 & tt0000013                                     & short                                         & The Photographical Congress Arrives in Lyon   & 0                                             & 1895                                          &  1                                            & Documentary                                   & Short                                         & 0                                             & NA                                            & NA                                            & NA                                            & NA                                            & NA                                            & NA                                            & NA                                            & 5.7                                           &  1582                                        \\\\\n",
       "\t14 & tt0000014                                     & short                                         & The Waterer Watered                           & 0                                             & 1895                                          &  1                                            & Comedy                                        & Short                                         & 0                                             & NA                                            & NA                                            & NA                                            & NA                                            & NA                                            & NA                                            & NA                                            & 7.1                                           &  4649                                        \\\\\n",
       "\t15 & tt0000015                                     & short                                         & Autour d'une cabine                           & 0                                             & 1894                                          &  2                                            & Animation                                     & Short                                         & 0                                             & NA                                            & NA                                            & NA                                            & NA                                            & NA                                            & NA                                            & NA                                            & 6.1                                           &   826                                        \\\\\n",
       "\t16 & tt0000016                                     & short                                         & Barque sortant du port                        & 0                                             & 1895                                          &  1                                            & Documentary                                   & Short                                         & 0                                             & NA                                            & NA                                            & NA                                            & NA                                            & NA                                            & NA                                            & NA                                            & 5.9                                           &  1210                                        \\\\\n",
       "\t17 & tt0000017                                     & short                                         & Italienischer Bauerntanz                      & 0                                             & 1895                                          &  1                                            & Documentary                                   & Short                                         & 0                                             & NA                                            & NA                                            & NA                                            & NA                                            & NA                                            & NA                                            & NA                                            & 4.6                                           &   243                                        \\\\\n",
       "\t18 & tt0000018                                     & short                                         & Das boxende Känguruh                          & 0                                             & 1895                                          &  1                                            & Short                                         & 0                                             & 0                                             & NA                                            & NA                                            & NA                                            & NA                                            & NA                                            & NA                                            & NA                                            & 5.3                                           &   481                                        \\\\\n",
       "\t19 & tt0000019                                     & short                                         & The Clown Barber                              & 0                                             & 1898                                          & -1                                            & Comedy                                        & Short                                         & 0                                             & NA                                            & NA                                            & NA                                            & NA                                            & NA                                            & NA                                            & NA                                            & 5.3                                           &    20                                        \\\\\n",
       "\t20 & tt0000020                                     & short                                         & The Derby 1895                                & 0                                             & 1895                                          &  1                                            & Documentary                                   & Short                                         & Sport                                         & NA                                            & NA                                            & NA                                            & NA                                            & NA                                            & NA                                            & NA                                            & 5.0                                           &   268                                        \\\\\n",
       "\t21 & tt0000022                                     & short                                         & Blacksmith Scene                              & 0                                             & 1895                                          &  1                                            & Documentary                                   & Short                                         & 0                                             & NA                                            & NA                                            & NA                                            & NA                                            & NA                                            & NA                                            & NA                                            & 5.1                                           &   895                                        \\\\\n",
       "\t22 & tt0000023                                     & short                                         & The Sea                                       & 0                                             & 1895                                          &  1                                            & Documentary                                   & Short                                         & 0                                             & NA                                            & NA                                            & NA                                            & NA                                            & NA                                            & NA                                            & NA                                            & 5.7                                           &  1150                                        \\\\\n",
       "\t23 & tt0000024                                     & short                                         & Opening of the Kiel Canal                     & 0                                             & 1895                                          & -1                                            & News                                          & Short                                         & 0                                             & NA                                            & NA                                            & NA                                            & NA                                            & NA                                            & NA                                            & NA                                            & 4.5                                           &    54                                        \\\\\n",
       "\t24 & tt0000025                                     & short                                         & The Oxford and Cambridge University Boat Race & 0                                             & 1895                                          & -1                                            & News                                          & Short                                         & Sport                                         & NA                                            & NA                                            & NA                                            & NA                                            & NA                                            & NA                                            & NA                                            & 4.2                                           &    29                                        \\\\\n",
       "\t25 & tt0000026                                     & short                                         & The Messers. Lumière at Cards                 & 0                                             & 1896                                          &  1                                            & Documentary                                   & Short                                         & 0                                             & NA                                            & NA                                            & NA                                            & NA                                            & NA                                            & NA                                            & NA                                            & 5.7                                           &  1318                                        \\\\\n",
       "\t26 & tt0000027                                     & short                                         & Cordeliers' Square in Lyon                    & 0                                             & 1895                                          &  1                                            & Documentary                                   & Short                                         & 0                                             & NA                                            & NA                                            & NA                                            & NA                                            & NA                                            & NA                                            & NA                                            & 5.6                                           &   933                                        \\\\\n",
       "\t27 & tt0000028                                     & short                                         & Fishing for Goldfish                          & 0                                             & 1895                                          &  1                                            & Documentary                                   & Short                                         & 0                                             & NA                                            & NA                                            & NA                                            & NA                                            & NA                                            & NA                                            & NA                                            & 5.1                                           &   861                                        \\\\\n",
       "\t28 & tt0000029                                     & short                                         & Baby's Dinner                                 & 0                                             & 1895                                          &  1                                            & Documentary                                   & Short                                         & 0                                             & NA                                            & NA                                            & NA                                            & NA                                            & NA                                            & NA                                            & NA                                            & 5.9                                           &  2877                                        \\\\\n",
       "\t29 & tt0000030                                     & short                                         & Rough Sea at Dover                            & 0                                             & 1895                                          &  1                                            & Documentary                                   & Short                                         & 0                                             & NA                                            & NA                                            & NA                                            & NA                                            & NA                                            & NA                                            & NA                                            & 5.2                                           &   690                                        \\\\\n",
       "\t30 & tt0000031                                     & short                                         & Jumping the Blanket                           & 0                                             & 1895                                          &  1                                            & Documentary                                   & Short                                         & 0                                             & NA                                            & NA                                            & NA                                            & NA                                            & NA                                            & NA                                            & NA                                            & 5.5                                           &   842                                        \\\\\n",
       "\t... & ... & ... & ... & ... & ... & ... & ... & ... & ... & ... & ... & ... & ... & ... & ... & ... & ... & ...\\\\\n",
       "\t1251261 & tt9875306 & NA        & NA        & NA        & NA        & NA        & NA        & NA        & NA        & NA        & NA        & NA        & NA        & NA        & NA        & NA        & 7.6       &    17    \\\\\n",
       "\t1251262 & tt9877170 & NA        & NA        & NA        & NA        & NA        & NA        & NA        & NA        & NA        & NA        & NA        & NA        & NA        & NA        & NA        & 6.5       &  7399    \\\\\n",
       "\t1251263 & tt9881630 & NA        & NA        & NA        & NA        & NA        & NA        & NA        & NA        & NA        & NA        & NA        & NA        & NA        & NA        & NA        & 7.0       &    22    \\\\\n",
       "\t1251264 & tt9883024 & NA        & NA        & NA        & NA        & NA        & NA        & NA        & NA        & NA        & NA        & NA        & NA        & NA        & NA        & NA        & 9.4       &     8    \\\\\n",
       "\t1251265 & tt9883996 & NA        & NA        & NA        & NA        & NA        & NA        & NA        & NA        & NA        & NA        & NA        & NA        & NA        & NA        & NA        & 5.7       &   150    \\\\\n",
       "\t1251266 & tt9885292 & NA        & NA        & NA        & NA        & NA        & NA        & NA        & NA        & NA        & NA        & NA        & NA        & NA        & NA        & NA        & 6.6       &     7    \\\\\n",
       "\t1251267 & tt9887580 & NA        & NA        & NA        & NA        & NA        & NA        & NA        & NA        & NA        & NA        & NA        & NA        & NA        & NA        & NA        & 3.5       &   359    \\\\\n",
       "\t1251268 & tt9889664 & NA        & NA        & NA        & NA        & NA        & NA        & NA        & NA        & NA        & NA        & NA        & NA        & NA        & NA        & NA        & 6.9       &    41    \\\\\n",
       "\t1251269 & tt9890308 & NA        & NA        & NA        & NA        & NA        & NA        & NA        & NA        & NA        & NA        & NA        & NA        & NA        & NA        & NA        & 7.2       &   230    \\\\\n",
       "\t1251270 & tt9892094 & NA        & NA        & NA        & NA        & NA        & NA        & NA        & NA        & NA        & NA        & NA        & NA        & NA        & NA        & NA        & 6.8       &   274    \\\\\n",
       "\t1251271 & tt9892546 & NA        & NA        & NA        & NA        & NA        & NA        & NA        & NA        & NA        & NA        & NA        & NA        & NA        & NA        & NA        & 5.1       &    12    \\\\\n",
       "\t1251272 & tt9893070 & NA        & NA        & NA        & NA        & NA        & NA        & NA        & NA        & NA        & NA        & NA        & NA        & NA        & NA        & NA        & 6.8       &    14    \\\\\n",
       "\t1251273 & tt9893250 & NA        & NA        & NA        & NA        & NA        & NA        & NA        & NA        & NA        & NA        & NA        & NA        & NA        & NA        & NA        & 7.7       &    64    \\\\\n",
       "\t1251274 & tt9894440 & NA        & NA        & NA        & NA        & NA        & NA        & NA        & NA        & NA        & NA        & NA        & NA        & NA        & NA        & NA        & 7.1       &   646    \\\\\n",
       "\t1251275 & tt9894450 & NA        & NA        & NA        & NA        & NA        & NA        & NA        & NA        & NA        & NA        & NA        & NA        & NA        & NA        & NA        & 6.6       &   150    \\\\\n",
       "\t1251276 & tt9894660 & NA        & NA        & NA        & NA        & NA        & NA        & NA        & NA        & NA        & NA        & NA        & NA        & NA        & NA        & NA        & 7.1       &    11    \\\\\n",
       "\t1251277 & tt9897258 & NA        & NA        & NA        & NA        & NA        & NA        & NA        & NA        & NA        & NA        & NA        & NA        & NA        & NA        & NA        & 5.3       &    26    \\\\\n",
       "\t1251278 & tt9897894 & NA        & NA        & NA        & NA        & NA        & NA        & NA        & NA        & NA        & NA        & NA        & NA        & NA        & NA        & NA        & 6.4       &     5    \\\\\n",
       "\t1251279 & tt9898858 & NA        & NA        & NA        & NA        & NA        & NA        & NA        & NA        & NA        & NA        & NA        & NA        & NA        & NA        & NA        & 5.1       & 10951    \\\\\n",
       "\t1251280 & tt9902160 & NA        & NA        & NA        & NA        & NA        & NA        & NA        & NA        & NA        & NA        & NA        & NA        & NA        & NA        & NA        & 7.0       &   124    \\\\\n",
       "\t1251281 & tt9902734 & NA        & NA        & NA        & NA        & NA        & NA        & NA        & NA        & NA        & NA        & NA        & NA        & NA        & NA        & NA        & 7.4       &    10    \\\\\n",
       "\t1251282 & tt9904802 & NA        & NA        & NA        & NA        & NA        & NA        & NA        & NA        & NA        & NA        & NA        & NA        & NA        & NA        & NA        & 4.9       &   920    \\\\\n",
       "\t1251283 & tt9905932 & NA        & NA        & NA        & NA        & NA        & NA        & NA        & NA        & NA        & NA        & NA        & NA        & NA        & NA        & NA        & 7.0       &     5    \\\\\n",
       "\t1251284 & tt9907396 & NA        & NA        & NA        & NA        & NA        & NA        & NA        & NA        & NA        & NA        & NA        & NA        & NA        & NA        & NA        & 7.4       &     7    \\\\\n",
       "\t1251285 & tt9908390 & NA        & NA        & NA        & NA        & NA        & NA        & NA        & NA        & NA        & NA        & NA        & NA        & NA        & NA        & NA        & 5.2       &   519    \\\\\n",
       "\t1251286 & tt9909596 & NA        & NA        & NA        & NA        & NA        & NA        & NA        & NA        & NA        & NA        & NA        & NA        & NA        & NA        & NA        & 8.9       &     8    \\\\\n",
       "\t1251287 & tt9910530 & NA        & NA        & NA        & NA        & NA        & NA        & NA        & NA        & NA        & NA        & NA        & NA        & NA        & NA        & NA        & 6.0       &    13    \\\\\n",
       "\t1251288 & tt9911196 & NA        & NA        & NA        & NA        & NA        & NA        & NA        & NA        & NA        & NA        & NA        & NA        & NA        & NA        & NA        & 7.7       &   903    \\\\\n",
       "\t1251289 & tt9912890 & NA        & NA        & NA        & NA        & NA        & NA        & NA        & NA        & NA        & NA        & NA        & NA        & NA        & NA        & NA        & 7.0       &     7    \\\\\n",
       "\t1251290 & tt9916362 & NA        & NA        & NA        & NA        & NA        & NA        & NA        & NA        & NA        & NA        & NA        & NA        & NA        & NA        & NA        & 6.3       &   104    \\\\\n",
       "\\end{tabular}\n"
      ],
      "text/markdown": [
       "\n",
       "| <!--/--> | tconst | titleType | primaryTitle | isAdult | startYear | runtimeMinutes | genre1 | genre2 | genre3 | category_emmy | win_emmy | category_gg_film | win_gg_film | category_gg_people | nominee | win_gg_people | averageRating | numVotes |\n",
       "|---|---|---|---|---|---|---|---|---|---|---|---|---|---|---|---|---|---|---|\n",
       "| 1 | tt0000001                                     | short                                         | Carmencita                                    | 0                                             | 1894                                          |  1                                            | Documentary                                   | Short                                         | 0                                             | NA                                            | NA                                            | NA                                            | NA                                            | NA                                            | NA                                            | NA                                            | 5.6                                           |  1654                                         |\n",
       "| 2 | tt0000002                                     | short                                         | Le clown et ses chiens                        | 0                                             | 1892                                          |  5                                            | Animation                                     | Short                                         | 0                                             | NA                                            | NA                                            | NA                                            | NA                                            | NA                                            | NA                                            | NA                                            | 6.1                                           |   199                                         |\n",
       "| 3 | tt0000003                                     | short                                         | Pauvre Pierrot                                | 0                                             | 1892                                          |  4                                            | Animation                                     | Comedy                                        | Romance                                       | NA                                            | NA                                            | NA                                            | NA                                            | NA                                            | NA                                            | NA                                            | 6.5                                           |  1366                                         |\n",
       "| 4 | tt0000004                                     | short                                         | Un bon bock                                   | 0                                             | 1892                                          | 12                                            | Animation                                     | Short                                         | 0                                             | NA                                            | NA                                            | NA                                            | NA                                            | NA                                            | NA                                            | NA                                            | 6.2                                           |   121                                         |\n",
       "| 5 | tt0000005                                     | short                                         | Blacksmith Scene                              | 0                                             | 1893                                          |  1                                            | Comedy                                        | Short                                         | 0                                             | NA                                            | NA                                            | NA                                            | NA                                            | NA                                            | NA                                            | NA                                            | 6.2                                           |  2149                                         |\n",
       "| 6 | tt0000006                                     | short                                         | Chinese Opium Den                             | 0                                             | 1894                                          |  1                                            | Short                                         | 0                                             | 0                                             | NA                                            | NA                                            | NA                                            | NA                                            | NA                                            | NA                                            | NA                                            | 5.3                                           |   115                                         |\n",
       "| 7 | tt0000007                                     | short                                         | Corbett and Courtney Before the Kinetograph   | 0                                             | 1894                                          |  1                                            | Short                                         | Sport                                         | 0                                             | NA                                            | NA                                            | NA                                            | NA                                            | NA                                            | NA                                            | NA                                            | 5.5                                           |   659                                         |\n",
       "| 8 | tt0000008                                     | short                                         | Edison Kinetoscopic Record of a Sneeze        | 0                                             | 1894                                          |  1                                            | Documentary                                   | Short                                         | 0                                             | NA                                            | NA                                            | NA                                            | NA                                            | NA                                            | NA                                            | NA                                            | 5.4                                           |  1821                                         |\n",
       "| 9 | tt0000009                                     | movie                                         | Miss Jerry                                    | 0                                             | 1894                                          | 45                                            | Romance                                       | 0                                             | 0                                             | NA                                            | NA                                            | NA                                            | NA                                            | NA                                            | NA                                            | NA                                            | 5.9                                           |   156                                         |\n",
       "| 10 | tt0000010                                     | short                                         | Leaving the Factory                           | 0                                             | 1895                                          |  1                                            | Documentary                                   | Short                                         | 0                                             | NA                                            | NA                                            | NA                                            | NA                                            | NA                                            | NA                                            | NA                                            | 6.9                                           |  6074                                         |\n",
       "| 11 | tt0000011                                     | short                                         | Akrobatisches Potpourri                       | 0                                             | 1895                                          |  1                                            | Documentary                                   | Short                                         | 0                                             | NA                                            | NA                                            | NA                                            | NA                                            | NA                                            | NA                                            | NA                                            | 5.2                                           |   266                                         |\n",
       "| 12 | tt0000012                                     | short                                         | The Arrival of a Train                        | 0                                             | 1896                                          |  1                                            | Action                                        | Documentary                                   | Short                                         | NA                                            | NA                                            | NA                                            | NA                                            | NA                                            | NA                                            | NA                                            | 7.4                                           | 10395                                         |\n",
       "| 13 | tt0000013                                     | short                                         | The Photographical Congress Arrives in Lyon   | 0                                             | 1895                                          |  1                                            | Documentary                                   | Short                                         | 0                                             | NA                                            | NA                                            | NA                                            | NA                                            | NA                                            | NA                                            | NA                                            | 5.7                                           |  1582                                         |\n",
       "| 14 | tt0000014                                     | short                                         | The Waterer Watered                           | 0                                             | 1895                                          |  1                                            | Comedy                                        | Short                                         | 0                                             | NA                                            | NA                                            | NA                                            | NA                                            | NA                                            | NA                                            | NA                                            | 7.1                                           |  4649                                         |\n",
       "| 15 | tt0000015                                     | short                                         | Autour d'une cabine                           | 0                                             | 1894                                          |  2                                            | Animation                                     | Short                                         | 0                                             | NA                                            | NA                                            | NA                                            | NA                                            | NA                                            | NA                                            | NA                                            | 6.1                                           |   826                                         |\n",
       "| 16 | tt0000016                                     | short                                         | Barque sortant du port                        | 0                                             | 1895                                          |  1                                            | Documentary                                   | Short                                         | 0                                             | NA                                            | NA                                            | NA                                            | NA                                            | NA                                            | NA                                            | NA                                            | 5.9                                           |  1210                                         |\n",
       "| 17 | tt0000017                                     | short                                         | Italienischer Bauerntanz                      | 0                                             | 1895                                          |  1                                            | Documentary                                   | Short                                         | 0                                             | NA                                            | NA                                            | NA                                            | NA                                            | NA                                            | NA                                            | NA                                            | 4.6                                           |   243                                         |\n",
       "| 18 | tt0000018                                     | short                                         | Das boxende Känguruh                          | 0                                             | 1895                                          |  1                                            | Short                                         | 0                                             | 0                                             | NA                                            | NA                                            | NA                                            | NA                                            | NA                                            | NA                                            | NA                                            | 5.3                                           |   481                                         |\n",
       "| 19 | tt0000019                                     | short                                         | The Clown Barber                              | 0                                             | 1898                                          | -1                                            | Comedy                                        | Short                                         | 0                                             | NA                                            | NA                                            | NA                                            | NA                                            | NA                                            | NA                                            | NA                                            | 5.3                                           |    20                                         |\n",
       "| 20 | tt0000020                                     | short                                         | The Derby 1895                                | 0                                             | 1895                                          |  1                                            | Documentary                                   | Short                                         | Sport                                         | NA                                            | NA                                            | NA                                            | NA                                            | NA                                            | NA                                            | NA                                            | 5.0                                           |   268                                         |\n",
       "| 21 | tt0000022                                     | short                                         | Blacksmith Scene                              | 0                                             | 1895                                          |  1                                            | Documentary                                   | Short                                         | 0                                             | NA                                            | NA                                            | NA                                            | NA                                            | NA                                            | NA                                            | NA                                            | 5.1                                           |   895                                         |\n",
       "| 22 | tt0000023                                     | short                                         | The Sea                                       | 0                                             | 1895                                          |  1                                            | Documentary                                   | Short                                         | 0                                             | NA                                            | NA                                            | NA                                            | NA                                            | NA                                            | NA                                            | NA                                            | 5.7                                           |  1150                                         |\n",
       "| 23 | tt0000024                                     | short                                         | Opening of the Kiel Canal                     | 0                                             | 1895                                          | -1                                            | News                                          | Short                                         | 0                                             | NA                                            | NA                                            | NA                                            | NA                                            | NA                                            | NA                                            | NA                                            | 4.5                                           |    54                                         |\n",
       "| 24 | tt0000025                                     | short                                         | The Oxford and Cambridge University Boat Race | 0                                             | 1895                                          | -1                                            | News                                          | Short                                         | Sport                                         | NA                                            | NA                                            | NA                                            | NA                                            | NA                                            | NA                                            | NA                                            | 4.2                                           |    29                                         |\n",
       "| 25 | tt0000026                                     | short                                         | The Messers. Lumière at Cards                 | 0                                             | 1896                                          |  1                                            | Documentary                                   | Short                                         | 0                                             | NA                                            | NA                                            | NA                                            | NA                                            | NA                                            | NA                                            | NA                                            | 5.7                                           |  1318                                         |\n",
       "| 26 | tt0000027                                     | short                                         | Cordeliers' Square in Lyon                    | 0                                             | 1895                                          |  1                                            | Documentary                                   | Short                                         | 0                                             | NA                                            | NA                                            | NA                                            | NA                                            | NA                                            | NA                                            | NA                                            | 5.6                                           |   933                                         |\n",
       "| 27 | tt0000028                                     | short                                         | Fishing for Goldfish                          | 0                                             | 1895                                          |  1                                            | Documentary                                   | Short                                         | 0                                             | NA                                            | NA                                            | NA                                            | NA                                            | NA                                            | NA                                            | NA                                            | 5.1                                           |   861                                         |\n",
       "| 28 | tt0000029                                     | short                                         | Baby's Dinner                                 | 0                                             | 1895                                          |  1                                            | Documentary                                   | Short                                         | 0                                             | NA                                            | NA                                            | NA                                            | NA                                            | NA                                            | NA                                            | NA                                            | 5.9                                           |  2877                                         |\n",
       "| 29 | tt0000030                                     | short                                         | Rough Sea at Dover                            | 0                                             | 1895                                          |  1                                            | Documentary                                   | Short                                         | 0                                             | NA                                            | NA                                            | NA                                            | NA                                            | NA                                            | NA                                            | NA                                            | 5.2                                           |   690                                         |\n",
       "| 30 | tt0000031                                     | short                                         | Jumping the Blanket                           | 0                                             | 1895                                          |  1                                            | Documentary                                   | Short                                         | 0                                             | NA                                            | NA                                            | NA                                            | NA                                            | NA                                            | NA                                            | NA                                            | 5.5                                           |   842                                         |\n",
       "| ... | ... | ... | ... | ... | ... | ... | ... | ... | ... | ... | ... | ... | ... | ... | ... | ... | ... | ... |\n",
       "| 1251261 | tt9875306 | NA        | NA        | NA        | NA        | NA        | NA        | NA        | NA        | NA        | NA        | NA        | NA        | NA        | NA        | NA        | 7.6       |    17     |\n",
       "| 1251262 | tt9877170 | NA        | NA        | NA        | NA        | NA        | NA        | NA        | NA        | NA        | NA        | NA        | NA        | NA        | NA        | NA        | 6.5       |  7399     |\n",
       "| 1251263 | tt9881630 | NA        | NA        | NA        | NA        | NA        | NA        | NA        | NA        | NA        | NA        | NA        | NA        | NA        | NA        | NA        | 7.0       |    22     |\n",
       "| 1251264 | tt9883024 | NA        | NA        | NA        | NA        | NA        | NA        | NA        | NA        | NA        | NA        | NA        | NA        | NA        | NA        | NA        | 9.4       |     8     |\n",
       "| 1251265 | tt9883996 | NA        | NA        | NA        | NA        | NA        | NA        | NA        | NA        | NA        | NA        | NA        | NA        | NA        | NA        | NA        | 5.7       |   150     |\n",
       "| 1251266 | tt9885292 | NA        | NA        | NA        | NA        | NA        | NA        | NA        | NA        | NA        | NA        | NA        | NA        | NA        | NA        | NA        | 6.6       |     7     |\n",
       "| 1251267 | tt9887580 | NA        | NA        | NA        | NA        | NA        | NA        | NA        | NA        | NA        | NA        | NA        | NA        | NA        | NA        | NA        | 3.5       |   359     |\n",
       "| 1251268 | tt9889664 | NA        | NA        | NA        | NA        | NA        | NA        | NA        | NA        | NA        | NA        | NA        | NA        | NA        | NA        | NA        | 6.9       |    41     |\n",
       "| 1251269 | tt9890308 | NA        | NA        | NA        | NA        | NA        | NA        | NA        | NA        | NA        | NA        | NA        | NA        | NA        | NA        | NA        | 7.2       |   230     |\n",
       "| 1251270 | tt9892094 | NA        | NA        | NA        | NA        | NA        | NA        | NA        | NA        | NA        | NA        | NA        | NA        | NA        | NA        | NA        | 6.8       |   274     |\n",
       "| 1251271 | tt9892546 | NA        | NA        | NA        | NA        | NA        | NA        | NA        | NA        | NA        | NA        | NA        | NA        | NA        | NA        | NA        | 5.1       |    12     |\n",
       "| 1251272 | tt9893070 | NA        | NA        | NA        | NA        | NA        | NA        | NA        | NA        | NA        | NA        | NA        | NA        | NA        | NA        | NA        | 6.8       |    14     |\n",
       "| 1251273 | tt9893250 | NA        | NA        | NA        | NA        | NA        | NA        | NA        | NA        | NA        | NA        | NA        | NA        | NA        | NA        | NA        | 7.7       |    64     |\n",
       "| 1251274 | tt9894440 | NA        | NA        | NA        | NA        | NA        | NA        | NA        | NA        | NA        | NA        | NA        | NA        | NA        | NA        | NA        | 7.1       |   646     |\n",
       "| 1251275 | tt9894450 | NA        | NA        | NA        | NA        | NA        | NA        | NA        | NA        | NA        | NA        | NA        | NA        | NA        | NA        | NA        | 6.6       |   150     |\n",
       "| 1251276 | tt9894660 | NA        | NA        | NA        | NA        | NA        | NA        | NA        | NA        | NA        | NA        | NA        | NA        | NA        | NA        | NA        | 7.1       |    11     |\n",
       "| 1251277 | tt9897258 | NA        | NA        | NA        | NA        | NA        | NA        | NA        | NA        | NA        | NA        | NA        | NA        | NA        | NA        | NA        | 5.3       |    26     |\n",
       "| 1251278 | tt9897894 | NA        | NA        | NA        | NA        | NA        | NA        | NA        | NA        | NA        | NA        | NA        | NA        | NA        | NA        | NA        | 6.4       |     5     |\n",
       "| 1251279 | tt9898858 | NA        | NA        | NA        | NA        | NA        | NA        | NA        | NA        | NA        | NA        | NA        | NA        | NA        | NA        | NA        | 5.1       | 10951     |\n",
       "| 1251280 | tt9902160 | NA        | NA        | NA        | NA        | NA        | NA        | NA        | NA        | NA        | NA        | NA        | NA        | NA        | NA        | NA        | 7.0       |   124     |\n",
       "| 1251281 | tt9902734 | NA        | NA        | NA        | NA        | NA        | NA        | NA        | NA        | NA        | NA        | NA        | NA        | NA        | NA        | NA        | 7.4       |    10     |\n",
       "| 1251282 | tt9904802 | NA        | NA        | NA        | NA        | NA        | NA        | NA        | NA        | NA        | NA        | NA        | NA        | NA        | NA        | NA        | 4.9       |   920     |\n",
       "| 1251283 | tt9905932 | NA        | NA        | NA        | NA        | NA        | NA        | NA        | NA        | NA        | NA        | NA        | NA        | NA        | NA        | NA        | 7.0       |     5     |\n",
       "| 1251284 | tt9907396 | NA        | NA        | NA        | NA        | NA        | NA        | NA        | NA        | NA        | NA        | NA        | NA        | NA        | NA        | NA        | 7.4       |     7     |\n",
       "| 1251285 | tt9908390 | NA        | NA        | NA        | NA        | NA        | NA        | NA        | NA        | NA        | NA        | NA        | NA        | NA        | NA        | NA        | 5.2       |   519     |\n",
       "| 1251286 | tt9909596 | NA        | NA        | NA        | NA        | NA        | NA        | NA        | NA        | NA        | NA        | NA        | NA        | NA        | NA        | NA        | 8.9       |     8     |\n",
       "| 1251287 | tt9910530 | NA        | NA        | NA        | NA        | NA        | NA        | NA        | NA        | NA        | NA        | NA        | NA        | NA        | NA        | NA        | 6.0       |    13     |\n",
       "| 1251288 | tt9911196 | NA        | NA        | NA        | NA        | NA        | NA        | NA        | NA        | NA        | NA        | NA        | NA        | NA        | NA        | NA        | 7.7       |   903     |\n",
       "| 1251289 | tt9912890 | NA        | NA        | NA        | NA        | NA        | NA        | NA        | NA        | NA        | NA        | NA        | NA        | NA        | NA        | NA        | 7.0       |     7     |\n",
       "| 1251290 | tt9916362 | NA        | NA        | NA        | NA        | NA        | NA        | NA        | NA        | NA        | NA        | NA        | NA        | NA        | NA        | NA        | 6.3       |   104     |\n",
       "\n"
      ],
      "text/plain": [
       "        tconst    titleType primaryTitle                                 \n",
       "1       tt0000001 short     Carmencita                                   \n",
       "2       tt0000002 short     Le clown et ses chiens                       \n",
       "3       tt0000003 short     Pauvre Pierrot                               \n",
       "4       tt0000004 short     Un bon bock                                  \n",
       "5       tt0000005 short     Blacksmith Scene                             \n",
       "6       tt0000006 short     Chinese Opium Den                            \n",
       "7       tt0000007 short     Corbett and Courtney Before the Kinetograph  \n",
       "8       tt0000008 short     Edison Kinetoscopic Record of a Sneeze       \n",
       "9       tt0000009 movie     Miss Jerry                                   \n",
       "10      tt0000010 short     Leaving the Factory                          \n",
       "11      tt0000011 short     Akrobatisches Potpourri                      \n",
       "12      tt0000012 short     The Arrival of a Train                       \n",
       "13      tt0000013 short     The Photographical Congress Arrives in Lyon  \n",
       "14      tt0000014 short     The Waterer Watered                          \n",
       "15      tt0000015 short     Autour d'une cabine                          \n",
       "16      tt0000016 short     Barque sortant du port                       \n",
       "17      tt0000017 short     Italienischer Bauerntanz                     \n",
       "18      tt0000018 short     Das boxende Känguruh                         \n",
       "19      tt0000019 short     The Clown Barber                             \n",
       "20      tt0000020 short     The Derby 1895                               \n",
       "21      tt0000022 short     Blacksmith Scene                             \n",
       "22      tt0000023 short     The Sea                                      \n",
       "23      tt0000024 short     Opening of the Kiel Canal                    \n",
       "24      tt0000025 short     The Oxford and Cambridge University Boat Race\n",
       "25      tt0000026 short     The Messers. Lumière at Cards                \n",
       "26      tt0000027 short     Cordeliers' Square in Lyon                   \n",
       "27      tt0000028 short     Fishing for Goldfish                         \n",
       "28      tt0000029 short     Baby's Dinner                                \n",
       "29      tt0000030 short     Rough Sea at Dover                           \n",
       "30      tt0000031 short     Jumping the Blanket                          \n",
       "...     ...       ...       ...                                          \n",
       "1251261 tt9875306 NA        NA                                           \n",
       "1251262 tt9877170 NA        NA                                           \n",
       "1251263 tt9881630 NA        NA                                           \n",
       "1251264 tt9883024 NA        NA                                           \n",
       "1251265 tt9883996 NA        NA                                           \n",
       "1251266 tt9885292 NA        NA                                           \n",
       "1251267 tt9887580 NA        NA                                           \n",
       "1251268 tt9889664 NA        NA                                           \n",
       "1251269 tt9890308 NA        NA                                           \n",
       "1251270 tt9892094 NA        NA                                           \n",
       "1251271 tt9892546 NA        NA                                           \n",
       "1251272 tt9893070 NA        NA                                           \n",
       "1251273 tt9893250 NA        NA                                           \n",
       "1251274 tt9894440 NA        NA                                           \n",
       "1251275 tt9894450 NA        NA                                           \n",
       "1251276 tt9894660 NA        NA                                           \n",
       "1251277 tt9897258 NA        NA                                           \n",
       "1251278 tt9897894 NA        NA                                           \n",
       "1251279 tt9898858 NA        NA                                           \n",
       "1251280 tt9902160 NA        NA                                           \n",
       "1251281 tt9902734 NA        NA                                           \n",
       "1251282 tt9904802 NA        NA                                           \n",
       "1251283 tt9905932 NA        NA                                           \n",
       "1251284 tt9907396 NA        NA                                           \n",
       "1251285 tt9908390 NA        NA                                           \n",
       "1251286 tt9909596 NA        NA                                           \n",
       "1251287 tt9910530 NA        NA                                           \n",
       "1251288 tt9911196 NA        NA                                           \n",
       "1251289 tt9912890 NA        NA                                           \n",
       "1251290 tt9916362 NA        NA                                           \n",
       "        isAdult startYear runtimeMinutes genre1      genre2      genre3 \n",
       "1       0       1894       1             Documentary Short       0      \n",
       "2       0       1892       5             Animation   Short       0      \n",
       "3       0       1892       4             Animation   Comedy      Romance\n",
       "4       0       1892      12             Animation   Short       0      \n",
       "5       0       1893       1             Comedy      Short       0      \n",
       "6       0       1894       1             Short       0           0      \n",
       "7       0       1894       1             Short       Sport       0      \n",
       "8       0       1894       1             Documentary Short       0      \n",
       "9       0       1894      45             Romance     0           0      \n",
       "10      0       1895       1             Documentary Short       0      \n",
       "11      0       1895       1             Documentary Short       0      \n",
       "12      0       1896       1             Action      Documentary Short  \n",
       "13      0       1895       1             Documentary Short       0      \n",
       "14      0       1895       1             Comedy      Short       0      \n",
       "15      0       1894       2             Animation   Short       0      \n",
       "16      0       1895       1             Documentary Short       0      \n",
       "17      0       1895       1             Documentary Short       0      \n",
       "18      0       1895       1             Short       0           0      \n",
       "19      0       1898      -1             Comedy      Short       0      \n",
       "20      0       1895       1             Documentary Short       Sport  \n",
       "21      0       1895       1             Documentary Short       0      \n",
       "22      0       1895       1             Documentary Short       0      \n",
       "23      0       1895      -1             News        Short       0      \n",
       "24      0       1895      -1             News        Short       Sport  \n",
       "25      0       1896       1             Documentary Short       0      \n",
       "26      0       1895       1             Documentary Short       0      \n",
       "27      0       1895       1             Documentary Short       0      \n",
       "28      0       1895       1             Documentary Short       0      \n",
       "29      0       1895       1             Documentary Short       0      \n",
       "30      0       1895       1             Documentary Short       0      \n",
       "...     ...     ...       ...            ...         ...         ...    \n",
       "1251261 NA      NA        NA             NA          NA          NA     \n",
       "1251262 NA      NA        NA             NA          NA          NA     \n",
       "1251263 NA      NA        NA             NA          NA          NA     \n",
       "1251264 NA      NA        NA             NA          NA          NA     \n",
       "1251265 NA      NA        NA             NA          NA          NA     \n",
       "1251266 NA      NA        NA             NA          NA          NA     \n",
       "1251267 NA      NA        NA             NA          NA          NA     \n",
       "1251268 NA      NA        NA             NA          NA          NA     \n",
       "1251269 NA      NA        NA             NA          NA          NA     \n",
       "1251270 NA      NA        NA             NA          NA          NA     \n",
       "1251271 NA      NA        NA             NA          NA          NA     \n",
       "1251272 NA      NA        NA             NA          NA          NA     \n",
       "1251273 NA      NA        NA             NA          NA          NA     \n",
       "1251274 NA      NA        NA             NA          NA          NA     \n",
       "1251275 NA      NA        NA             NA          NA          NA     \n",
       "1251276 NA      NA        NA             NA          NA          NA     \n",
       "1251277 NA      NA        NA             NA          NA          NA     \n",
       "1251278 NA      NA        NA             NA          NA          NA     \n",
       "1251279 NA      NA        NA             NA          NA          NA     \n",
       "1251280 NA      NA        NA             NA          NA          NA     \n",
       "1251281 NA      NA        NA             NA          NA          NA     \n",
       "1251282 NA      NA        NA             NA          NA          NA     \n",
       "1251283 NA      NA        NA             NA          NA          NA     \n",
       "1251284 NA      NA        NA             NA          NA          NA     \n",
       "1251285 NA      NA        NA             NA          NA          NA     \n",
       "1251286 NA      NA        NA             NA          NA          NA     \n",
       "1251287 NA      NA        NA             NA          NA          NA     \n",
       "1251288 NA      NA        NA             NA          NA          NA     \n",
       "1251289 NA      NA        NA             NA          NA          NA     \n",
       "1251290 NA      NA        NA             NA          NA          NA     \n",
       "        category_emmy win_emmy category_gg_film win_gg_film category_gg_people\n",
       "1       NA            NA       NA               NA          NA                \n",
       "2       NA            NA       NA               NA          NA                \n",
       "3       NA            NA       NA               NA          NA                \n",
       "4       NA            NA       NA               NA          NA                \n",
       "5       NA            NA       NA               NA          NA                \n",
       "6       NA            NA       NA               NA          NA                \n",
       "7       NA            NA       NA               NA          NA                \n",
       "8       NA            NA       NA               NA          NA                \n",
       "9       NA            NA       NA               NA          NA                \n",
       "10      NA            NA       NA               NA          NA                \n",
       "11      NA            NA       NA               NA          NA                \n",
       "12      NA            NA       NA               NA          NA                \n",
       "13      NA            NA       NA               NA          NA                \n",
       "14      NA            NA       NA               NA          NA                \n",
       "15      NA            NA       NA               NA          NA                \n",
       "16      NA            NA       NA               NA          NA                \n",
       "17      NA            NA       NA               NA          NA                \n",
       "18      NA            NA       NA               NA          NA                \n",
       "19      NA            NA       NA               NA          NA                \n",
       "20      NA            NA       NA               NA          NA                \n",
       "21      NA            NA       NA               NA          NA                \n",
       "22      NA            NA       NA               NA          NA                \n",
       "23      NA            NA       NA               NA          NA                \n",
       "24      NA            NA       NA               NA          NA                \n",
       "25      NA            NA       NA               NA          NA                \n",
       "26      NA            NA       NA               NA          NA                \n",
       "27      NA            NA       NA               NA          NA                \n",
       "28      NA            NA       NA               NA          NA                \n",
       "29      NA            NA       NA               NA          NA                \n",
       "30      NA            NA       NA               NA          NA                \n",
       "...     ...           ...      ...              ...         ...               \n",
       "1251261 NA            NA       NA               NA          NA                \n",
       "1251262 NA            NA       NA               NA          NA                \n",
       "1251263 NA            NA       NA               NA          NA                \n",
       "1251264 NA            NA       NA               NA          NA                \n",
       "1251265 NA            NA       NA               NA          NA                \n",
       "1251266 NA            NA       NA               NA          NA                \n",
       "1251267 NA            NA       NA               NA          NA                \n",
       "1251268 NA            NA       NA               NA          NA                \n",
       "1251269 NA            NA       NA               NA          NA                \n",
       "1251270 NA            NA       NA               NA          NA                \n",
       "1251271 NA            NA       NA               NA          NA                \n",
       "1251272 NA            NA       NA               NA          NA                \n",
       "1251273 NA            NA       NA               NA          NA                \n",
       "1251274 NA            NA       NA               NA          NA                \n",
       "1251275 NA            NA       NA               NA          NA                \n",
       "1251276 NA            NA       NA               NA          NA                \n",
       "1251277 NA            NA       NA               NA          NA                \n",
       "1251278 NA            NA       NA               NA          NA                \n",
       "1251279 NA            NA       NA               NA          NA                \n",
       "1251280 NA            NA       NA               NA          NA                \n",
       "1251281 NA            NA       NA               NA          NA                \n",
       "1251282 NA            NA       NA               NA          NA                \n",
       "1251283 NA            NA       NA               NA          NA                \n",
       "1251284 NA            NA       NA               NA          NA                \n",
       "1251285 NA            NA       NA               NA          NA                \n",
       "1251286 NA            NA       NA               NA          NA                \n",
       "1251287 NA            NA       NA               NA          NA                \n",
       "1251288 NA            NA       NA               NA          NA                \n",
       "1251289 NA            NA       NA               NA          NA                \n",
       "1251290 NA            NA       NA               NA          NA                \n",
       "        nominee win_gg_people averageRating numVotes\n",
       "1       NA      NA            5.6            1654   \n",
       "2       NA      NA            6.1             199   \n",
       "3       NA      NA            6.5            1366   \n",
       "4       NA      NA            6.2             121   \n",
       "5       NA      NA            6.2            2149   \n",
       "6       NA      NA            5.3             115   \n",
       "7       NA      NA            5.5             659   \n",
       "8       NA      NA            5.4            1821   \n",
       "9       NA      NA            5.9             156   \n",
       "10      NA      NA            6.9            6074   \n",
       "11      NA      NA            5.2             266   \n",
       "12      NA      NA            7.4           10395   \n",
       "13      NA      NA            5.7            1582   \n",
       "14      NA      NA            7.1            4649   \n",
       "15      NA      NA            6.1             826   \n",
       "16      NA      NA            5.9            1210   \n",
       "17      NA      NA            4.6             243   \n",
       "18      NA      NA            5.3             481   \n",
       "19      NA      NA            5.3              20   \n",
       "20      NA      NA            5.0             268   \n",
       "21      NA      NA            5.1             895   \n",
       "22      NA      NA            5.7            1150   \n",
       "23      NA      NA            4.5              54   \n",
       "24      NA      NA            4.2              29   \n",
       "25      NA      NA            5.7            1318   \n",
       "26      NA      NA            5.6             933   \n",
       "27      NA      NA            5.1             861   \n",
       "28      NA      NA            5.9            2877   \n",
       "29      NA      NA            5.2             690   \n",
       "30      NA      NA            5.5             842   \n",
       "...     ...     ...           ...           ...     \n",
       "1251261 NA      NA            7.6              17   \n",
       "1251262 NA      NA            6.5            7399   \n",
       "1251263 NA      NA            7.0              22   \n",
       "1251264 NA      NA            9.4               8   \n",
       "1251265 NA      NA            5.7             150   \n",
       "1251266 NA      NA            6.6               7   \n",
       "1251267 NA      NA            3.5             359   \n",
       "1251268 NA      NA            6.9              41   \n",
       "1251269 NA      NA            7.2             230   \n",
       "1251270 NA      NA            6.8             274   \n",
       "1251271 NA      NA            5.1              12   \n",
       "1251272 NA      NA            6.8              14   \n",
       "1251273 NA      NA            7.7              64   \n",
       "1251274 NA      NA            7.1             646   \n",
       "1251275 NA      NA            6.6             150   \n",
       "1251276 NA      NA            7.1              11   \n",
       "1251277 NA      NA            5.3              26   \n",
       "1251278 NA      NA            6.4               5   \n",
       "1251279 NA      NA            5.1           10951   \n",
       "1251280 NA      NA            7.0             124   \n",
       "1251281 NA      NA            7.4              10   \n",
       "1251282 NA      NA            4.9             920   \n",
       "1251283 NA      NA            7.0               5   \n",
       "1251284 NA      NA            7.4               7   \n",
       "1251285 NA      NA            5.2             519   \n",
       "1251286 NA      NA            8.9               8   \n",
       "1251287 NA      NA            6.0              13   \n",
       "1251288 NA      NA            7.7             903   \n",
       "1251289 NA      NA            7.0               7   \n",
       "1251290 NA      NA            6.3             104   "
      ]
     },
     "metadata": {},
     "output_type": "display_data"
    }
   ],
   "source": [
    "ratings_only = title_awards_ratings\n",
    "ratings_only[complete.cases(ratings_only[,17]),]"
   ]
  },
  {
   "cell_type": "code",
   "execution_count": 78,
   "metadata": {},
   "outputs": [],
   "source": [
    "zero_nomination_ratings = ratings_only[is.na(ratings_only$win_emmy & ratings_only$win_gg_film & ratings_only$win_gg_people ),]"
   ]
  },
  {
   "cell_type": "code",
   "execution_count": 79,
   "metadata": {},
   "outputs": [
    {
     "data": {
      "text/html": [
       "1246433"
      ],
      "text/latex": [
       "1246433"
      ],
      "text/markdown": [
       "1246433"
      ],
      "text/plain": [
       "[1] 1246433"
      ]
     },
     "metadata": {},
     "output_type": "display_data"
    }
   ],
   "source": [
    "nrow(zero_nomination_ratings)"
   ]
  },
  {
   "cell_type": "code",
   "execution_count": 80,
   "metadata": {},
   "outputs": [],
   "source": [
    "one_plus_nomination_ratings = ratings_only[!is.na(ratings_only$win_emmy | ratings_only$win_gg_film | ratings_only$win_gg_people ),]"
   ]
  },
  {
   "cell_type": "code",
   "execution_count": 81,
   "metadata": {},
   "outputs": [
    {
     "data": {
      "text/html": [
       "2252"
      ],
      "text/latex": [
       "2252"
      ],
      "text/markdown": [
       "2252"
      ],
      "text/plain": [
       "[1] 2252"
      ]
     },
     "metadata": {},
     "output_type": "display_data"
    }
   ],
   "source": [
    "nrow(one_plus_nomination_ratings)"
   ]
  },
  {
   "cell_type": "code",
   "execution_count": 82,
   "metadata": {},
   "outputs": [],
   "source": [
    "one_plus_winning_ratings = ratings_only[which(ratings_only$win_emmy == 1 | ratings_only$win_gg_film == 1| ratings_only$win_gg_people == 1),]"
   ]
  },
  {
   "cell_type": "code",
   "execution_count": 83,
   "metadata": {},
   "outputs": [
    {
     "data": {
      "text/html": [
       "1913"
      ],
      "text/latex": [
       "1913"
      ],
      "text/markdown": [
       "1913"
      ],
      "text/plain": [
       "[1] 1913"
      ]
     },
     "metadata": {},
     "output_type": "display_data"
    }
   ],
   "source": [
    "nrow(one_plus_winning_ratings)"
   ]
  },
  {
   "cell_type": "code",
   "execution_count": 84,
   "metadata": {},
   "outputs": [],
   "source": [
    "#let's plot the distribution of ratings of these two datasets"
   ]
  },
  {
   "cell_type": "code",
   "execution_count": 85,
   "metadata": {},
   "outputs": [
    {
     "data": {
      "text/html": [
       "<table>\n",
       "<thead><tr><th scope=col>tconst</th><th scope=col>titleType</th><th scope=col>primaryTitle</th><th scope=col>isAdult</th><th scope=col>startYear</th><th scope=col>runtimeMinutes</th><th scope=col>genre1</th><th scope=col>genre2</th><th scope=col>genre3</th><th scope=col>category_emmy</th><th scope=col>win_emmy</th><th scope=col>category_gg_film</th><th scope=col>win_gg_film</th><th scope=col>category_gg_people</th><th scope=col>nominee</th><th scope=col>win_gg_people</th><th scope=col>averageRating</th><th scope=col>numVotes</th></tr></thead>\n",
       "<tbody>\n",
       "\t<tr><td>tt0000001             </td><td>short                 </td><td>Carmencita            </td><td>0                     </td><td>1894                  </td><td> 1                    </td><td>Documentary           </td><td>Short                 </td><td>0                     </td><td>NA                    </td><td>NA                    </td><td>NA                    </td><td>NA                    </td><td>NA                    </td><td>NA                    </td><td>NA                    </td><td>5.6                   </td><td>1654                  </td></tr>\n",
       "\t<tr><td>tt0000002             </td><td>short                 </td><td>Le clown et ses chiens</td><td>0                     </td><td>1892                  </td><td> 5                    </td><td>Animation             </td><td>Short                 </td><td>0                     </td><td>NA                    </td><td>NA                    </td><td>NA                    </td><td>NA                    </td><td>NA                    </td><td>NA                    </td><td>NA                    </td><td>6.1                   </td><td> 199                  </td></tr>\n",
       "\t<tr><td>tt0000003             </td><td>short                 </td><td>Pauvre Pierrot        </td><td>0                     </td><td>1892                  </td><td> 4                    </td><td>Animation             </td><td>Comedy                </td><td>Romance               </td><td>NA                    </td><td>NA                    </td><td>NA                    </td><td>NA                    </td><td>NA                    </td><td>NA                    </td><td>NA                    </td><td>6.5                   </td><td>1366                  </td></tr>\n",
       "\t<tr><td>tt0000004             </td><td>short                 </td><td>Un bon bock           </td><td>0                     </td><td>1892                  </td><td>12                    </td><td>Animation             </td><td>Short                 </td><td>0                     </td><td>NA                    </td><td>NA                    </td><td>NA                    </td><td>NA                    </td><td>NA                    </td><td>NA                    </td><td>NA                    </td><td>6.2                   </td><td> 121                  </td></tr>\n",
       "\t<tr><td>tt0000005             </td><td>short                 </td><td>Blacksmith Scene      </td><td>0                     </td><td>1893                  </td><td> 1                    </td><td>Comedy                </td><td>Short                 </td><td>0                     </td><td>NA                    </td><td>NA                    </td><td>NA                    </td><td>NA                    </td><td>NA                    </td><td>NA                    </td><td>NA                    </td><td>6.2                   </td><td>2149                  </td></tr>\n",
       "\t<tr><td>tt0000006             </td><td>short                 </td><td>Chinese Opium Den     </td><td>0                     </td><td>1894                  </td><td> 1                    </td><td>Short                 </td><td>0                     </td><td>0                     </td><td>NA                    </td><td>NA                    </td><td>NA                    </td><td>NA                    </td><td>NA                    </td><td>NA                    </td><td>NA                    </td><td>5.3                   </td><td> 115                  </td></tr>\n",
       "</tbody>\n",
       "</table>\n"
      ],
      "text/latex": [
       "\\begin{tabular}{r|llllllllllllllllll}\n",
       " tconst & titleType & primaryTitle & isAdult & startYear & runtimeMinutes & genre1 & genre2 & genre3 & category\\_emmy & win\\_emmy & category\\_gg\\_film & win\\_gg\\_film & category\\_gg\\_people & nominee & win\\_gg\\_people & averageRating & numVotes\\\\\n",
       "\\hline\n",
       "\t tt0000001              & short                  & Carmencita             & 0                      & 1894                   &  1                     & Documentary            & Short                  & 0                      & NA                     & NA                     & NA                     & NA                     & NA                     & NA                     & NA                     & 5.6                    & 1654                  \\\\\n",
       "\t tt0000002              & short                  & Le clown et ses chiens & 0                      & 1892                   &  5                     & Animation              & Short                  & 0                      & NA                     & NA                     & NA                     & NA                     & NA                     & NA                     & NA                     & 6.1                    &  199                  \\\\\n",
       "\t tt0000003              & short                  & Pauvre Pierrot         & 0                      & 1892                   &  4                     & Animation              & Comedy                 & Romance                & NA                     & NA                     & NA                     & NA                     & NA                     & NA                     & NA                     & 6.5                    & 1366                  \\\\\n",
       "\t tt0000004              & short                  & Un bon bock            & 0                      & 1892                   & 12                     & Animation              & Short                  & 0                      & NA                     & NA                     & NA                     & NA                     & NA                     & NA                     & NA                     & 6.2                    &  121                  \\\\\n",
       "\t tt0000005              & short                  & Blacksmith Scene       & 0                      & 1893                   &  1                     & Comedy                 & Short                  & 0                      & NA                     & NA                     & NA                     & NA                     & NA                     & NA                     & NA                     & 6.2                    & 2149                  \\\\\n",
       "\t tt0000006              & short                  & Chinese Opium Den      & 0                      & 1894                   &  1                     & Short                  & 0                      & 0                      & NA                     & NA                     & NA                     & NA                     & NA                     & NA                     & NA                     & 5.3                    &  115                  \\\\\n",
       "\\end{tabular}\n"
      ],
      "text/markdown": [
       "\n",
       "| tconst | titleType | primaryTitle | isAdult | startYear | runtimeMinutes | genre1 | genre2 | genre3 | category_emmy | win_emmy | category_gg_film | win_gg_film | category_gg_people | nominee | win_gg_people | averageRating | numVotes |\n",
       "|---|---|---|---|---|---|---|---|---|---|---|---|---|---|---|---|---|---|\n",
       "| tt0000001              | short                  | Carmencita             | 0                      | 1894                   |  1                     | Documentary            | Short                  | 0                      | NA                     | NA                     | NA                     | NA                     | NA                     | NA                     | NA                     | 5.6                    | 1654                   |\n",
       "| tt0000002              | short                  | Le clown et ses chiens | 0                      | 1892                   |  5                     | Animation              | Short                  | 0                      | NA                     | NA                     | NA                     | NA                     | NA                     | NA                     | NA                     | 6.1                    |  199                   |\n",
       "| tt0000003              | short                  | Pauvre Pierrot         | 0                      | 1892                   |  4                     | Animation              | Comedy                 | Romance                | NA                     | NA                     | NA                     | NA                     | NA                     | NA                     | NA                     | 6.5                    | 1366                   |\n",
       "| tt0000004              | short                  | Un bon bock            | 0                      | 1892                   | 12                     | Animation              | Short                  | 0                      | NA                     | NA                     | NA                     | NA                     | NA                     | NA                     | NA                     | 6.2                    |  121                   |\n",
       "| tt0000005              | short                  | Blacksmith Scene       | 0                      | 1893                   |  1                     | Comedy                 | Short                  | 0                      | NA                     | NA                     | NA                     | NA                     | NA                     | NA                     | NA                     | 6.2                    | 2149                   |\n",
       "| tt0000006              | short                  | Chinese Opium Den      | 0                      | 1894                   |  1                     | Short                  | 0                      | 0                      | NA                     | NA                     | NA                     | NA                     | NA                     | NA                     | NA                     | 5.3                    |  115                   |\n",
       "\n"
      ],
      "text/plain": [
       "  tconst    titleType primaryTitle           isAdult startYear runtimeMinutes\n",
       "1 tt0000001 short     Carmencita             0       1894       1            \n",
       "2 tt0000002 short     Le clown et ses chiens 0       1892       5            \n",
       "3 tt0000003 short     Pauvre Pierrot         0       1892       4            \n",
       "4 tt0000004 short     Un bon bock            0       1892      12            \n",
       "5 tt0000005 short     Blacksmith Scene       0       1893       1            \n",
       "6 tt0000006 short     Chinese Opium Den      0       1894       1            \n",
       "  genre1      genre2 genre3  category_emmy win_emmy category_gg_film\n",
       "1 Documentary Short  0       NA            NA       NA              \n",
       "2 Animation   Short  0       NA            NA       NA              \n",
       "3 Animation   Comedy Romance NA            NA       NA              \n",
       "4 Animation   Short  0       NA            NA       NA              \n",
       "5 Comedy      Short  0       NA            NA       NA              \n",
       "6 Short       0      0       NA            NA       NA              \n",
       "  win_gg_film category_gg_people nominee win_gg_people averageRating numVotes\n",
       "1 NA          NA                 NA      NA            5.6           1654    \n",
       "2 NA          NA                 NA      NA            6.1            199    \n",
       "3 NA          NA                 NA      NA            6.5           1366    \n",
       "4 NA          NA                 NA      NA            6.2            121    \n",
       "5 NA          NA                 NA      NA            6.2           2149    \n",
       "6 NA          NA                 NA      NA            5.3            115    "
      ]
     },
     "metadata": {},
     "output_type": "display_data"
    }
   ],
   "source": [
    "head(zero_nomination_ratings)"
   ]
  },
  {
   "cell_type": "code",
   "execution_count": 86,
   "metadata": {},
   "outputs": [],
   "source": [
    "mean_rating_zero_nomination =mean(zero_nomination_ratings$averageRating,na.rm=TRUE)\n",
    "mean_rating_one_plus_nomination =mean(one_plus_nomination_ratings$averageRating,na.rm=TRUE)\n",
    "mean_rating_one_plus_winning =mean(one_plus_winning_ratings$averageRating,na.rm=TRUE)"
   ]
  },
  {
   "cell_type": "code",
   "execution_count": 87,
   "metadata": {},
   "outputs": [],
   "source": [
    "xs = c(\"0\",\"1\",\"2\")\n",
    "means = c(mean_rating_zero_nomination,mean_rating_one_plus_nomination,mean_rating_one_plus_winning)\n",
    "means_df = data.frame(xs,means)"
   ]
  },
  {
   "cell_type": "code",
   "execution_count": 88,
   "metadata": {},
   "outputs": [
    {
     "data": {
      "text/html": [
       "<table>\n",
       "<thead><tr><th scope=col>xs</th><th scope=col>means</th></tr></thead>\n",
       "<tbody>\n",
       "\t<tr><td>0       </td><td>6.376546</td></tr>\n",
       "\t<tr><td>1       </td><td>7.318232</td></tr>\n",
       "\t<tr><td>2       </td><td>7.358547</td></tr>\n",
       "</tbody>\n",
       "</table>\n"
      ],
      "text/latex": [
       "\\begin{tabular}{r|ll}\n",
       " xs & means\\\\\n",
       "\\hline\n",
       "\t 0        & 6.376546\\\\\n",
       "\t 1        & 7.318232\\\\\n",
       "\t 2        & 7.358547\\\\\n",
       "\\end{tabular}\n"
      ],
      "text/markdown": [
       "\n",
       "| xs | means |\n",
       "|---|---|\n",
       "| 0        | 6.376546 |\n",
       "| 1        | 7.318232 |\n",
       "| 2        | 7.358547 |\n",
       "\n"
      ],
      "text/plain": [
       "  xs means   \n",
       "1 0  6.376546\n",
       "2 1  7.318232\n",
       "3 2  7.358547"
      ]
     },
     "metadata": {},
     "output_type": "display_data"
    }
   ],
   "source": [
    "means_df"
   ]
  },
  {
   "cell_type": "code",
   "execution_count": 93,
   "metadata": {},
   "outputs": [],
   "source": [
    "plot = qplot()+\n",
    "geom_violin(data=zero_nomination_ratings, aes(x=\"0\",y=averageRating),fill=\"skyblue1\",color=\"skyblue1\")+\n",
    "geom_boxplot(data=zero_nomination_ratings, aes(x=\"0\",y=averageRating),width=0.6,fill=\"white\",color=\"black\")+\n",
    "geom_violin(data=one_plus_nomination_ratings,aes(x=\"1\",y=averageRating),fill=\"skyblue2\",color=\"skyblue2\")+\n",
    "geom_boxplot(data=one_plus_nomination_ratings,aes(x=\"1\",y=averageRating),width=0.2,fill=\"white\",color=\"black\")+\n",
    "geom_violin(data=one_plus_winning_ratings,aes(x=\"2\",y=averageRating),fill=\"skyblue3\",color=\"skyblue3\")+\n",
    "geom_boxplot(data=one_plus_winning_ratings,aes(x=\"2\",y=averageRating),width=0.17,fill=\"white\",color=\"black\")+\n",
    "geom_point(data=means_df,aes(x=xs,y=means,color=\"red4\",size=4,),show.legend = FALSE)+\n",
    "geom_text(data=means_df,aes(x=xs,y=means,label=round(means_df$means,digits=1)),hjust=0.5, vjust=-1)+\n",
    "geom_line(data=means_df,aes(x=xs,y=means,color=\"red4\"),group=1,show.legend = FALSE)+\n",
    "scale_x_discrete(labels=c(\"2\"=\"≥1 Wins \\n (1 913)\",\"1\"=\"≥1 Nominations \\n (2 252)\",\"0\"=\"0 Nominations \\n (1 246 433)\"))+\n",
    "scale_y_continuous(breaks=seq(0,10,1))+\n",
    "labs(y=expression(\"Average Rating\"),x=\"\")+\n",
    "theme_bw(base_size = 19)+\n",
    "theme(axis.text.y = element_text(angle = 90, vjust = 0.5, hjust=0.5))"
   ]
  },
  {
   "cell_type": "code",
   "execution_count": 94,
   "metadata": {},
   "outputs": [
    {
     "name": "stderr",
     "output_type": "stream",
     "text": [
      "Warning message:\n",
      "“Removed 824636 rows containing non-finite values (stat_ydensity).”Warning message:\n",
      "“Removed 824636 rows containing non-finite values (stat_boxplot).”Warning message:\n",
      "“Removed 453 rows containing non-finite values (stat_ydensity).”Warning message:\n",
      "“Removed 453 rows containing non-finite values (stat_boxplot).”Warning message:\n",
      "“Removed 316 rows containing non-finite values (stat_ydensity).”Warning message:\n",
      "“Removed 316 rows containing non-finite values (stat_boxplot).”"
     ]
    },
    {
     "data": {
      "image/png": "[encoded data removed]",
      "text/plain": [
       "plot without title"
      ]
     },
     "metadata": {},
     "output_type": "display_data"
    }
   ],
   "source": [
    "plot"
   ]
  },
  {
   "cell_type": "markdown",
   "metadata": {},
   "source": [
    " - movies with nominations and awards have higher ratings!"
   ]
  },
  {
   "cell_type": "markdown",
   "metadata": {},
   "source": [
    "## How do wins distribute over the genres? \n"
   ]
  },
  {
   "cell_type": "code",
   "execution_count": 99,
   "metadata": {},
   "outputs": [],
   "source": [
    "genres_experiments = title_awards_ratings"
   ]
  },
  {
   "cell_type": "code",
   "execution_count": 109,
   "metadata": {},
   "outputs": [
    {
     "data": {
      "text/html": [
       "1913"
      ],
      "text/latex": [
       "1913"
      ],
      "text/markdown": [
       "1913"
      ],
      "text/plain": [
       "[1] 1913"
      ]
     },
     "metadata": {},
     "output_type": "display_data"
    },
    {
     "data": {
      "text/html": [
       "<table>\n",
       "<thead><tr><th></th><th scope=col>tconst</th><th scope=col>titleType</th><th scope=col>primaryTitle</th><th scope=col>isAdult</th><th scope=col>startYear</th><th scope=col>runtimeMinutes</th><th scope=col>genre1</th><th scope=col>genre2</th><th scope=col>genre3</th><th scope=col>category_emmy</th><th scope=col>win_emmy</th><th scope=col>category_gg_film</th><th scope=col>win_gg_film</th><th scope=col>category_gg_people</th><th scope=col>nominee</th><th scope=col>win_gg_people</th><th scope=col>averageRating</th><th scope=col>numVotes</th></tr></thead>\n",
       "<tbody>\n",
       "\t<tr><th scope=row>31822</th><td>tt0035423                                                                                                        </td><td>movie                                                                                                            </td><td>Kate &amp; Leopold                                                                                               </td><td>0                                                                                                                </td><td>2001                                                                                                             </td><td>118                                                                                                              </td><td><span style=white-space:pre-wrap>Comedy   </span>                                                                </td><td>Fantasy                                                                                                          </td><td>Romance                                                                                                          </td><td>NA                                                                                                               </td><td>NA                                                                                                               </td><td><span style=white-space:pre-wrap>NA     </span>                                                                  </td><td>NA                                                                                                               </td><td><span style=white-space:pre-wrap>Best Original Song - Motion Picture                                      </span></td><td>\"Until…\", Sting                                                                                                  </td><td>1                                                                                                                </td><td>6.4                                                                                                              </td><td>78173                                                                                                            </td></tr>\n",
       "\t<tr><th scope=row>33127</th><td>tt0036855                                                                </td><td>movie                                                                    </td><td>Gaslight                                                                 </td><td>0                                                                        </td><td>1944                                                                     </td><td>114                                                                      </td><td>Crime                                                                    </td><td>Drama                                                                    </td><td>Mystery                                                                  </td><td>NA                                                                       </td><td>NA                                                                       </td><td>NA                                                                       </td><td>NA                                                                       </td><td>Actress In A Leading Role                                                </td><td>Ingrid Bergman                                                           </td><td>1                                                                        </td><td>7.8                                                                      </td><td>23884                                                                    </td></tr>\n",
       "\t<tr><th scope=row>33143</th><td>tt0036872                                                                </td><td>movie                                                                    </td><td>Going My Way                                                             </td><td>0                                                                        </td><td>1944                                                                     </td><td>126                                                                      </td><td>Comedy                                                                   </td><td>Drama                                                                    </td><td>Music                                                                    </td><td>NA                                                                       </td><td>NA                                                                       </td><td>Picture                                                                  </td><td> 1                                                                       </td><td>Best Performance by an Actor in a Supporting Role in any Motion Picture  </td><td>Barry Fitzgerald                                                         </td><td>1                                                                        </td><td>7.0                                                                      </td><td>10302                                                                    </td></tr>\n",
       "\t<tr><th scope=row>33144</th><td>tt0036872                                                                </td><td>movie                                                                    </td><td>Going My Way                                                             </td><td>0                                                                        </td><td>1944                                                                     </td><td>126                                                                      </td><td>Comedy                                                                   </td><td>Drama                                                                    </td><td>Music                                                                    </td><td>NA                                                                       </td><td>NA                                                                       </td><td>Picture                                                                  </td><td> 1                                                                       </td><td>Best Director - Motion Picture                                           </td><td>Leo McCarey                                                              </td><td>1                                                                        </td><td>7.0                                                                      </td><td>10302                                                                    </td></tr>\n",
       "\t<tr><th scope=row>33341</th><td>tt0037096                                                                </td><td>movie                                                                    </td><td>Mrs. Parkington                                                          </td><td>0                                                                        </td><td>1944                                                                     </td><td>124                                                                      </td><td>Drama                                                                    </td><td>Romance                                                                  </td><td>0                                                                        </td><td>NA                                                                       </td><td>NA                                                                       </td><td>NA                                                                       </td><td>NA                                                                       </td><td>Best Performance by an Actress in a Supporting Role in any Motion Picture</td><td>Agnes Moorehead                                                          </td><td>1                                                                        </td><td>7.1                                                                      </td><td> 1369                                                                    </td></tr>\n",
       "\t<tr><th scope=row>33680</th><td>tt0037465                                                                </td><td>movie                                                                    </td><td>Wilson                                                                   </td><td>0                                                                        </td><td>1944                                                                     </td><td>154                                                                      </td><td>Biography                                                                </td><td>Drama                                                                    </td><td>History                                                                  </td><td>NA                                                                       </td><td>NA                                                                       </td><td>NA                                                                       </td><td>NA                                                                       </td><td>Actor In A Leading Role                                                  </td><td>Alexander Knox                                                           </td><td>1                                                                        </td><td>6.4                                                                      </td><td> 1411                                                                    </td></tr>\n",
       "</tbody>\n",
       "</table>\n"
      ],
      "text/latex": [
       "\\begin{tabular}{r|llllllllllllllllll}\n",
       "  & tconst & titleType & primaryTitle & isAdult & startYear & runtimeMinutes & genre1 & genre2 & genre3 & category\\_emmy & win\\_emmy & category\\_gg\\_film & win\\_gg\\_film & category\\_gg\\_people & nominee & win\\_gg\\_people & averageRating & numVotes\\\\\n",
       "\\hline\n",
       "\t31822 & tt0035423                                                                 & movie                                                                     & Kate \\& Leopold                                                          & 0                                                                         & 2001                                                                      & 118                                                                       & Comedy                                                                    & Fantasy                                                                   & Romance                                                                   & NA                                                                        & NA                                                                        & NA                                                                        & NA                                                                        & Best Original Song - Motion Picture                                       & \"Until…\", Sting                                                           & 1                                                                         & 6.4                                                                       & 78173                                                                    \\\\\n",
       "\t33127 & tt0036855                                                                 & movie                                                                     & Gaslight                                                                  & 0                                                                         & 1944                                                                      & 114                                                                       & Crime                                                                     & Drama                                                                     & Mystery                                                                   & NA                                                                        & NA                                                                        & NA                                                                        & NA                                                                        & Actress In A Leading Role                                                 & Ingrid Bergman                                                            & 1                                                                         & 7.8                                                                       & 23884                                                                    \\\\\n",
       "\t33143 & tt0036872                                                                 & movie                                                                     & Going My Way                                                              & 0                                                                         & 1944                                                                      & 126                                                                       & Comedy                                                                    & Drama                                                                     & Music                                                                     & NA                                                                        & NA                                                                        & Picture                                                                   &  1                                                                        & Best Performance by an Actor in a Supporting Role in any Motion Picture   & Barry Fitzgerald                                                          & 1                                                                         & 7.0                                                                       & 10302                                                                    \\\\\n",
       "\t33144 & tt0036872                                                                 & movie                                                                     & Going My Way                                                              & 0                                                                         & 1944                                                                      & 126                                                                       & Comedy                                                                    & Drama                                                                     & Music                                                                     & NA                                                                        & NA                                                                        & Picture                                                                   &  1                                                                        & Best Director - Motion Picture                                            & Leo McCarey                                                               & 1                                                                         & 7.0                                                                       & 10302                                                                    \\\\\n",
       "\t33341 & tt0037096                                                                 & movie                                                                     & Mrs. Parkington                                                           & 0                                                                         & 1944                                                                      & 124                                                                       & Drama                                                                     & Romance                                                                   & 0                                                                         & NA                                                                        & NA                                                                        & NA                                                                        & NA                                                                        & Best Performance by an Actress in a Supporting Role in any Motion Picture & Agnes Moorehead                                                           & 1                                                                         & 7.1                                                                       &  1369                                                                    \\\\\n",
       "\t33680 & tt0037465                                                                 & movie                                                                     & Wilson                                                                    & 0                                                                         & 1944                                                                      & 154                                                                       & Biography                                                                 & Drama                                                                     & History                                                                   & NA                                                                        & NA                                                                        & NA                                                                        & NA                                                                        & Actor In A Leading Role                                                   & Alexander Knox                                                            & 1                                                                         & 6.4                                                                       &  1411                                                                    \\\\\n",
       "\\end{tabular}\n"
      ],
      "text/markdown": [
       "\n",
       "| <!--/--> | tconst | titleType | primaryTitle | isAdult | startYear | runtimeMinutes | genre1 | genre2 | genre3 | category_emmy | win_emmy | category_gg_film | win_gg_film | category_gg_people | nominee | win_gg_people | averageRating | numVotes |\n",
       "|---|---|---|---|---|---|---|---|---|---|---|---|---|---|---|---|---|---|---|\n",
       "| 31822 | tt0035423                                                                 | movie                                                                     | Kate & Leopold                                                            | 0                                                                         | 2001                                                                      | 118                                                                       | Comedy                                                                    | Fantasy                                                                   | Romance                                                                   | NA                                                                        | NA                                                                        | NA                                                                        | NA                                                                        | Best Original Song - Motion Picture                                       | \"Until…\", Sting                                                           | 1                                                                         | 6.4                                                                       | 78173                                                                     |\n",
       "| 33127 | tt0036855                                                                 | movie                                                                     | Gaslight                                                                  | 0                                                                         | 1944                                                                      | 114                                                                       | Crime                                                                     | Drama                                                                     | Mystery                                                                   | NA                                                                        | NA                                                                        | NA                                                                        | NA                                                                        | Actress In A Leading Role                                                 | Ingrid Bergman                                                            | 1                                                                         | 7.8                                                                       | 23884                                                                     |\n",
       "| 33143 | tt0036872                                                                 | movie                                                                     | Going My Way                                                              | 0                                                                         | 1944                                                                      | 126                                                                       | Comedy                                                                    | Drama                                                                     | Music                                                                     | NA                                                                        | NA                                                                        | Picture                                                                   |  1                                                                        | Best Performance by an Actor in a Supporting Role in any Motion Picture   | Barry Fitzgerald                                                          | 1                                                                         | 7.0                                                                       | 10302                                                                     |\n",
       "| 33144 | tt0036872                                                                 | movie                                                                     | Going My Way                                                              | 0                                                                         | 1944                                                                      | 126                                                                       | Comedy                                                                    | Drama                                                                     | Music                                                                     | NA                                                                        | NA                                                                        | Picture                                                                   |  1                                                                        | Best Director - Motion Picture                                            | Leo McCarey                                                               | 1                                                                         | 7.0                                                                       | 10302                                                                     |\n",
       "| 33341 | tt0037096                                                                 | movie                                                                     | Mrs. Parkington                                                           | 0                                                                         | 1944                                                                      | 124                                                                       | Drama                                                                     | Romance                                                                   | 0                                                                         | NA                                                                        | NA                                                                        | NA                                                                        | NA                                                                        | Best Performance by an Actress in a Supporting Role in any Motion Picture | Agnes Moorehead                                                           | 1                                                                         | 7.1                                                                       |  1369                                                                     |\n",
       "| 33680 | tt0037465                                                                 | movie                                                                     | Wilson                                                                    | 0                                                                         | 1944                                                                      | 154                                                                       | Biography                                                                 | Drama                                                                     | History                                                                   | NA                                                                        | NA                                                                        | NA                                                                        | NA                                                                        | Actor In A Leading Role                                                   | Alexander Knox                                                            | 1                                                                         | 6.4                                                                       |  1411                                                                     |\n",
       "\n"
      ],
      "text/plain": [
       "      tconst    titleType primaryTitle    isAdult startYear runtimeMinutes\n",
       "31822 tt0035423 movie     Kate & Leopold  0       2001      118           \n",
       "33127 tt0036855 movie     Gaslight        0       1944      114           \n",
       "33143 tt0036872 movie     Going My Way    0       1944      126           \n",
       "33144 tt0036872 movie     Going My Way    0       1944      126           \n",
       "33341 tt0037096 movie     Mrs. Parkington 0       1944      124           \n",
       "33680 tt0037465 movie     Wilson          0       1944      154           \n",
       "      genre1    genre2  genre3  category_emmy win_emmy category_gg_film\n",
       "31822 Comedy    Fantasy Romance NA            NA       NA              \n",
       "33127 Crime     Drama   Mystery NA            NA       NA              \n",
       "33143 Comedy    Drama   Music   NA            NA       Picture         \n",
       "33144 Comedy    Drama   Music   NA            NA       Picture         \n",
       "33341 Drama     Romance 0       NA            NA       NA              \n",
       "33680 Biography Drama   History NA            NA       NA              \n",
       "      win_gg_film\n",
       "31822 NA         \n",
       "33127 NA         \n",
       "33143  1         \n",
       "33144  1         \n",
       "33341 NA         \n",
       "33680 NA         \n",
       "      category_gg_people                                                       \n",
       "31822 Best Original Song - Motion Picture                                      \n",
       "33127 Actress In A Leading Role                                                \n",
       "33143 Best Performance by an Actor in a Supporting Role in any Motion Picture  \n",
       "33144 Best Director - Motion Picture                                           \n",
       "33341 Best Performance by an Actress in a Supporting Role in any Motion Picture\n",
       "33680 Actor In A Leading Role                                                  \n",
       "      nominee          win_gg_people averageRating numVotes\n",
       "31822 \"Until…\", Sting  1             6.4           78173   \n",
       "33127 Ingrid Bergman   1             7.8           23884   \n",
       "33143 Barry Fitzgerald 1             7.0           10302   \n",
       "33144 Leo McCarey      1             7.0           10302   \n",
       "33341 Agnes Moorehead  1             7.1            1369   \n",
       "33680 Alexander Knox   1             6.4            1411   "
      ]
     },
     "metadata": {},
     "output_type": "display_data"
    }
   ],
   "source": [
    "genres_winnings = genres_experiments[which(genres_experiments$win_emmy == 1 | genres_experiments$win_gg_film == 1| genres_experiments$win_gg_people == 1),]\n",
    "nrow(genres_winnings)\n",
    "head(genres_winnings)"
   ]
  },
  {
   "cell_type": "code",
   "execution_count": 386,
   "metadata": {},
   "outputs": [],
   "source": [
    "#let's separate into 1 genre only, 2 genre and 3 genre"
   ]
  },
  {
   "cell_type": "code",
   "execution_count": 387,
   "metadata": {},
   "outputs": [
    {
     "data": {
      "text/html": [
       "312"
      ],
      "text/latex": [
       "312"
      ],
      "text/markdown": [
       "312"
      ],
      "text/plain": [
       "[1] 312"
      ]
     },
     "metadata": {},
     "output_type": "display_data"
    }
   ],
   "source": [
    "genres1_winnings = genres_winnings[which(genres_winnings$genre2 ==0 & genres_winnings$genre3 ==0),]\n",
    "nrow(genres1_winnings)"
   ]
  },
  {
   "cell_type": "code",
   "execution_count": 388,
   "metadata": {},
   "outputs": [
    {
     "data": {
      "text/html": [
       "720"
      ],
      "text/latex": [
       "720"
      ],
      "text/markdown": [
       "720"
      ],
      "text/plain": [
       "[1] 720"
      ]
     },
     "metadata": {},
     "output_type": "display_data"
    }
   ],
   "source": [
    "genres2_winnings = genres_winnings[which(genres_winnings$genre2 != 0 & genres_winnings$genre3 ==0),]\n",
    "nrow(genres2_winnings)"
   ]
  },
  {
   "cell_type": "code",
   "execution_count": 389,
   "metadata": {},
   "outputs": [
    {
     "data": {
      "text/html": [
       "881"
      ],
      "text/latex": [
       "881"
      ],
      "text/markdown": [
       "881"
      ],
      "text/plain": [
       "[1] 881"
      ]
     },
     "metadata": {},
     "output_type": "display_data"
    }
   ],
   "source": [
    "genres3_winnings = genres_winnings[which(genres_winnings$genre2 != 0 & genres_winnings$genre3 !=0),]\n",
    "nrow(genres3_winnings)"
   ]
  },
  {
   "cell_type": "code",
   "execution_count": 390,
   "metadata": {
    "scrolled": true
   },
   "outputs": [],
   "source": [
    "genres1_winnings_count_genre1 = genres1_winnings %>% count(genre1)\n",
    "genres1_winnings_count_genre1 = arrange(genres1_winnings_count_genre1,n)\n",
    "colnames(genres1_winnings_count_genre1) = c(\"genre\",\"n_1\")\n"
   ]
  },
  {
   "cell_type": "code",
   "execution_count": 391,
   "metadata": {
    "scrolled": true
   },
   "outputs": [],
   "source": [
    "genres2_winnings_count_genre1 = genres2_winnings %>% count(genre1)\n",
    "colnames(genres2_winnings_count_genre1) = c(\"genre\",\"n_1\")\n",
    "genres2_winnings_count_genre2 = genres2_winnings %>% count(genre2)\n",
    "colnames(genres2_winnings_count_genre2) = c(\"genre\",\"n_2\")\n",
    "\n",
    "\n",
    "genres2 = full_join(genres2_winnings_count_genre1,genres2_winnings_count_genre2,by=\"genre\")\n",
    "genres2_n = genres2 %>% select(2,3)\n",
    "genres2_n = rowSums(genres2_n,na.rm=TRUE)\n",
    "\n",
    "genres2$n = genres2_n\n",
    "genres2$n_1=NULL\n",
    "genres2$n_2=NULL\n",
    "genres2_wins = arrange(genres2,n)"
   ]
  },
  {
   "cell_type": "code",
   "execution_count": 392,
   "metadata": {
    "scrolled": true
   },
   "outputs": [],
   "source": [
    "genres3_winnings_count_genre1 = genres3_winnings %>% count(genre1)\n",
    "colnames(genres3_winnings_count_genre1) = c(\"genre\",\"n_1\")\n",
    "genres3_winnings_count_genre2 = genres3_winnings %>% count(genre2)\n",
    "colnames(genres3_winnings_count_genre2) = c(\"genre\",\"n_2\")\n",
    "genres3_winnings_count_genre3 = genres3_winnings %>% count(genre3)\n",
    "colnames(genres3_winnings_count_genre3) = c(\"genre\",\"n_3\")\n",
    "\n",
    "genres1_2 = full_join(genres3_winnings_count_genre1,genres3_winnings_count_genre2,by=\"genre\")\n",
    "genres3 = full_join(genres1_2,genres3_winnings_count_genre3,by=\"genre\")\n",
    "genres3_n = genres3 %>% select(2,3,4)\n",
    "genres3_n = rowSums(genres3_n,na.rm=TRUE)\n",
    "genres3$n = genres3_n\n",
    "\n",
    "genres3$n_1=NULL\n",
    "genres3$n_2=NULL\n",
    "genres3$n_3=NULL\n",
    "\n",
    "genres3_wins = arrange(genres3,n)"
   ]
  },
  {
   "cell_type": "code",
   "execution_count": 393,
   "metadata": {},
   "outputs": [
    {
     "data": {
      "text/html": [
       "<table>\n",
       "<thead><tr><th scope=col>genre</th><th scope=col>n_1</th><th scope=col>n.x</th><th scope=col>n.y</th></tr></thead>\n",
       "<tbody>\n",
       "\t<tr><td>Action     </td><td>  1        </td><td> 19        </td><td> 47        </td></tr>\n",
       "\t<tr><td>Adult      </td><td>  1        </td><td> NA        </td><td> NA        </td></tr>\n",
       "\t<tr><td>Western    </td><td>  1        </td><td>  9        </td><td> 18        </td></tr>\n",
       "\t<tr><td>Animation  </td><td>  2        </td><td>  2        </td><td> 28        </td></tr>\n",
       "\t<tr><td>Horror     </td><td>  2        </td><td> 11        </td><td> 70        </td></tr>\n",
       "\t<tr><td>Musical    </td><td>  2        </td><td> 11        </td><td> 74        </td></tr>\n",
       "\t<tr><td>Thriller   </td><td>  5        </td><td> 23        </td><td> 52        </td></tr>\n",
       "\t<tr><td>Documentary</td><td> 14        </td><td> 48        </td><td> 14        </td></tr>\n",
       "\t<tr><td>Comedy     </td><td> 24        </td><td> 94        </td><td>257        </td></tr>\n",
       "\t<tr><td>Short      </td><td> 33        </td><td>254        </td><td> 43        </td></tr>\n",
       "\t<tr><td>Drama      </td><td>227        </td><td>578        </td><td>716        </td></tr>\n",
       "\t<tr><td>Sci-Fi     </td><td> NA        </td><td>  1        </td><td> 16        </td></tr>\n",
       "\t<tr><td>Film-Noir  </td><td> NA        </td><td>  2        </td><td>  3        </td></tr>\n",
       "\t<tr><td>Adventure  </td><td> NA        </td><td>  3        </td><td>163        </td></tr>\n",
       "\t<tr><td>Mystery    </td><td> NA        </td><td>  4        </td><td> 70        </td></tr>\n",
       "\t<tr><td>Sport      </td><td> NA        </td><td> 11        </td><td>  7        </td></tr>\n",
       "\t<tr><td>Fantasy    </td><td> NA        </td><td> 13        </td><td> 43        </td></tr>\n",
       "\t<tr><td>Music      </td><td> NA        </td><td> 14        </td><td> 60        </td></tr>\n",
       "\t<tr><td>Crime      </td><td> NA        </td><td> 20        </td><td>139        </td></tr>\n",
       "\t<tr><td>Family     </td><td> NA        </td><td> 20        </td><td> 47        </td></tr>\n",
       "\t<tr><td>History    </td><td> NA        </td><td> 23        </td><td>232        </td></tr>\n",
       "\t<tr><td>War        </td><td> NA        </td><td> 48        </td><td> 41        </td></tr>\n",
       "\t<tr><td>Romance    </td><td> NA        </td><td>112        </td><td>199        </td></tr>\n",
       "\t<tr><td>Biography  </td><td> NA        </td><td>120        </td><td>304        </td></tr>\n",
       "</tbody>\n",
       "</table>\n"
      ],
      "text/latex": [
       "\\begin{tabular}{r|llll}\n",
       " genre & n\\_1 & n.x & n.y\\\\\n",
       "\\hline\n",
       "\t Action      &   1         &  19         &  47        \\\\\n",
       "\t Adult       &   1         &  NA         &  NA        \\\\\n",
       "\t Western     &   1         &   9         &  18        \\\\\n",
       "\t Animation   &   2         &   2         &  28        \\\\\n",
       "\t Horror      &   2         &  11         &  70        \\\\\n",
       "\t Musical     &   2         &  11         &  74        \\\\\n",
       "\t Thriller    &   5         &  23         &  52        \\\\\n",
       "\t Documentary &  14         &  48         &  14        \\\\\n",
       "\t Comedy      &  24         &  94         & 257        \\\\\n",
       "\t Short       &  33         & 254         &  43        \\\\\n",
       "\t Drama       & 227         & 578         & 716        \\\\\n",
       "\t Sci-Fi      &  NA         &   1         &  16        \\\\\n",
       "\t Film-Noir   &  NA         &   2         &   3        \\\\\n",
       "\t Adventure   &  NA         &   3         & 163        \\\\\n",
       "\t Mystery     &  NA         &   4         &  70        \\\\\n",
       "\t Sport       &  NA         &  11         &   7        \\\\\n",
       "\t Fantasy     &  NA         &  13         &  43        \\\\\n",
       "\t Music       &  NA         &  14         &  60        \\\\\n",
       "\t Crime       &  NA         &  20         & 139        \\\\\n",
       "\t Family      &  NA         &  20         &  47        \\\\\n",
       "\t History     &  NA         &  23         & 232        \\\\\n",
       "\t War         &  NA         &  48         &  41        \\\\\n",
       "\t Romance     &  NA         & 112         & 199        \\\\\n",
       "\t Biography   &  NA         & 120         & 304        \\\\\n",
       "\\end{tabular}\n"
      ],
      "text/markdown": [
       "\n",
       "| genre | n_1 | n.x | n.y |\n",
       "|---|---|---|---|\n",
       "| Action      |   1         |  19         |  47         |\n",
       "| Adult       |   1         |  NA         |  NA         |\n",
       "| Western     |   1         |   9         |  18         |\n",
       "| Animation   |   2         |   2         |  28         |\n",
       "| Horror      |   2         |  11         |  70         |\n",
       "| Musical     |   2         |  11         |  74         |\n",
       "| Thriller    |   5         |  23         |  52         |\n",
       "| Documentary |  14         |  48         |  14         |\n",
       "| Comedy      |  24         |  94         | 257         |\n",
       "| Short       |  33         | 254         |  43         |\n",
       "| Drama       | 227         | 578         | 716         |\n",
       "| Sci-Fi      |  NA         |   1         |  16         |\n",
       "| Film-Noir   |  NA         |   2         |   3         |\n",
       "| Adventure   |  NA         |   3         | 163         |\n",
       "| Mystery     |  NA         |   4         |  70         |\n",
       "| Sport       |  NA         |  11         |   7         |\n",
       "| Fantasy     |  NA         |  13         |  43         |\n",
       "| Music       |  NA         |  14         |  60         |\n",
       "| Crime       |  NA         |  20         | 139         |\n",
       "| Family      |  NA         |  20         |  47         |\n",
       "| History     |  NA         |  23         | 232         |\n",
       "| War         |  NA         |  48         |  41         |\n",
       "| Romance     |  NA         | 112         | 199         |\n",
       "| Biography   |  NA         | 120         | 304         |\n",
       "\n"
      ],
      "text/plain": [
       "   genre       n_1 n.x n.y\n",
       "1  Action        1  19  47\n",
       "2  Adult         1  NA  NA\n",
       "3  Western       1   9  18\n",
       "4  Animation     2   2  28\n",
       "5  Horror        2  11  70\n",
       "6  Musical       2  11  74\n",
       "7  Thriller      5  23  52\n",
       "8  Documentary  14  48  14\n",
       "9  Comedy       24  94 257\n",
       "10 Short        33 254  43\n",
       "11 Drama       227 578 716\n",
       "12 Sci-Fi       NA   1  16\n",
       "13 Film-Noir    NA   2   3\n",
       "14 Adventure    NA   3 163\n",
       "15 Mystery      NA   4  70\n",
       "16 Sport        NA  11   7\n",
       "17 Fantasy      NA  13  43\n",
       "18 Music        NA  14  60\n",
       "19 Crime        NA  20 139\n",
       "20 Family       NA  20  47\n",
       "21 History      NA  23 232\n",
       "22 War          NA  48  41\n",
       "23 Romance      NA 112 199\n",
       "24 Biography    NA 120 304"
      ]
     },
     "metadata": {},
     "output_type": "display_data"
    }
   ],
   "source": [
    "#join everything together\n",
    "wins_all_genres_1_2 = full_join(genres1_winnings_count_genre1,genres2_wins,by=\"genre\")\n",
    "wins_all_genres = full_join(wins_all_genres_1_2, genres3_wins,by=\"genre\")\n",
    "wins_all_genres"
   ]
  },
  {
   "cell_type": "code",
   "execution_count": 394,
   "metadata": {},
   "outputs": [
    {
     "data": {
      "text/html": [
       "<table>\n",
       "<thead><tr><th scope=col>genre</th><th scope=col>n</th></tr></thead>\n",
       "<tbody>\n",
       "\t<tr><td>Adult      </td><td>   1       </td></tr>\n",
       "\t<tr><td>Film-Noir  </td><td>   5       </td></tr>\n",
       "\t<tr><td>Sci-Fi     </td><td>  17       </td></tr>\n",
       "\t<tr><td>Sport      </td><td>  18       </td></tr>\n",
       "\t<tr><td>Western    </td><td>  28       </td></tr>\n",
       "\t<tr><td>Animation  </td><td>  32       </td></tr>\n",
       "\t<tr><td>Fantasy    </td><td>  56       </td></tr>\n",
       "\t<tr><td>Action     </td><td>  67       </td></tr>\n",
       "\t<tr><td>Family     </td><td>  67       </td></tr>\n",
       "\t<tr><td>Mystery    </td><td>  74       </td></tr>\n",
       "\t<tr><td>Music      </td><td>  74       </td></tr>\n",
       "\t<tr><td>Documentary</td><td>  76       </td></tr>\n",
       "\t<tr><td>Thriller   </td><td>  80       </td></tr>\n",
       "\t<tr><td>Horror     </td><td>  83       </td></tr>\n",
       "\t<tr><td>Musical    </td><td>  87       </td></tr>\n",
       "\t<tr><td>War        </td><td>  89       </td></tr>\n",
       "\t<tr><td>Crime      </td><td> 159       </td></tr>\n",
       "\t<tr><td>Adventure  </td><td> 166       </td></tr>\n",
       "\t<tr><td>History    </td><td> 255       </td></tr>\n",
       "\t<tr><td>Romance    </td><td> 311       </td></tr>\n",
       "\t<tr><td>Short      </td><td> 330       </td></tr>\n",
       "\t<tr><td>Comedy     </td><td> 375       </td></tr>\n",
       "\t<tr><td>Biography  </td><td> 424       </td></tr>\n",
       "\t<tr><td>Drama      </td><td>1521       </td></tr>\n",
       "</tbody>\n",
       "</table>\n"
      ],
      "text/latex": [
       "\\begin{tabular}{r|ll}\n",
       " genre & n\\\\\n",
       "\\hline\n",
       "\t Adult       &    1       \\\\\n",
       "\t Film-Noir   &    5       \\\\\n",
       "\t Sci-Fi      &   17       \\\\\n",
       "\t Sport       &   18       \\\\\n",
       "\t Western     &   28       \\\\\n",
       "\t Animation   &   32       \\\\\n",
       "\t Fantasy     &   56       \\\\\n",
       "\t Action      &   67       \\\\\n",
       "\t Family      &   67       \\\\\n",
       "\t Mystery     &   74       \\\\\n",
       "\t Music       &   74       \\\\\n",
       "\t Documentary &   76       \\\\\n",
       "\t Thriller    &   80       \\\\\n",
       "\t Horror      &   83       \\\\\n",
       "\t Musical     &   87       \\\\\n",
       "\t War         &   89       \\\\\n",
       "\t Crime       &  159       \\\\\n",
       "\t Adventure   &  166       \\\\\n",
       "\t History     &  255       \\\\\n",
       "\t Romance     &  311       \\\\\n",
       "\t Short       &  330       \\\\\n",
       "\t Comedy      &  375       \\\\\n",
       "\t Biography   &  424       \\\\\n",
       "\t Drama       & 1521       \\\\\n",
       "\\end{tabular}\n"
      ],
      "text/markdown": [
       "\n",
       "| genre | n |\n",
       "|---|---|\n",
       "| Adult       |    1        |\n",
       "| Film-Noir   |    5        |\n",
       "| Sci-Fi      |   17        |\n",
       "| Sport       |   18        |\n",
       "| Western     |   28        |\n",
       "| Animation   |   32        |\n",
       "| Fantasy     |   56        |\n",
       "| Action      |   67        |\n",
       "| Family      |   67        |\n",
       "| Mystery     |   74        |\n",
       "| Music       |   74        |\n",
       "| Documentary |   76        |\n",
       "| Thriller    |   80        |\n",
       "| Horror      |   83        |\n",
       "| Musical     |   87        |\n",
       "| War         |   89        |\n",
       "| Crime       |  159        |\n",
       "| Adventure   |  166        |\n",
       "| History     |  255        |\n",
       "| Romance     |  311        |\n",
       "| Short       |  330        |\n",
       "| Comedy      |  375        |\n",
       "| Biography   |  424        |\n",
       "| Drama       | 1521        |\n",
       "\n"
      ],
      "text/plain": [
       "   genre       n   \n",
       "1  Adult          1\n",
       "2  Film-Noir      5\n",
       "3  Sci-Fi        17\n",
       "4  Sport         18\n",
       "5  Western       28\n",
       "6  Animation     32\n",
       "7  Fantasy       56\n",
       "8  Action        67\n",
       "9  Family        67\n",
       "10 Mystery       74\n",
       "11 Music         74\n",
       "12 Documentary   76\n",
       "13 Thriller      80\n",
       "14 Horror        83\n",
       "15 Musical       87\n",
       "16 War           89\n",
       "17 Crime        159\n",
       "18 Adventure    166\n",
       "19 History      255\n",
       "20 Romance      311\n",
       "21 Short        330\n",
       "22 Comedy       375\n",
       "23 Biography    424\n",
       "24 Drama       1521"
      ]
     },
     "metadata": {},
     "output_type": "display_data"
    }
   ],
   "source": [
    "wins_all_genres_n = wins_all_genres %>% select(2,3,4)\n",
    "wins_all_genres_n = rowSums(wins_all_genres_n,na.rm=TRUE)\n",
    "wins_all_genres$n = wins_all_genres_n\n",
    "\n",
    "wins_all_genres$n_1=NULL\n",
    "wins_all_genres$n.x=NULL\n",
    "wins_all_genres$n.y=NULL\n",
    "\n",
    "wins_all_genres = arrange(wins_all_genres,n)\n",
    "wins_all_genres"
   ]
  },
  {
   "cell_type": "code",
   "execution_count": 395,
   "metadata": {},
   "outputs": [
    {
     "data": {
      "image/png": "[encoded data removed]",
      "text/plain": [
       "plot without title"
      ]
     },
     "metadata": {},
     "output_type": "display_data"
    }
   ],
   "source": [
    "ggplot ()+ \n",
    "geom_point(shape=18,data=wins_all_genres, \n",
    "           aes(x=0,y=seq(1,nrow(wins_all_genres),1),\n",
    "               size=n,colour=genre))  +\n",
    "theme_bw(base_size = 19)\n"
   ]
  },
  {
   "cell_type": "markdown",
   "metadata": {},
   "source": [
    " - let's try another visualization"
   ]
  },
  {
   "cell_type": "code",
   "execution_count": 410,
   "metadata": {},
   "outputs": [
    {
     "data": {
      "text/html": [
       "24"
      ],
      "text/latex": [
       "24"
      ],
      "text/markdown": [
       "24"
      ],
      "text/plain": [
       "[1] 24"
      ]
     },
     "metadata": {},
     "output_type": "display_data"
    },
    {
     "data": {
      "text/html": [
       "<ol class=list-inline>\n",
       "\t<li>75</li>\n",
       "\t<li>60</li>\n",
       "\t<li>45</li>\n",
       "\t<li>30</li>\n",
       "\t<li>15</li>\n",
       "\t<li>0</li>\n",
       "\t<li>-15</li>\n",
       "\t<li>-30</li>\n",
       "\t<li>-45</li>\n",
       "\t<li>-60</li>\n",
       "\t<li>-75</li>\n",
       "\t<li>-90</li>\n",
       "\t<li>-105</li>\n",
       "\t<li>-120</li>\n",
       "\t<li>-135</li>\n",
       "\t<li>-150</li>\n",
       "\t<li>-165</li>\n",
       "\t<li>-180</li>\n",
       "\t<li>-195</li>\n",
       "\t<li>-210</li>\n",
       "\t<li>-225</li>\n",
       "\t<li>-240</li>\n",
       "\t<li>-255</li>\n",
       "\t<li>-270</li>\n",
       "</ol>\n"
      ],
      "text/latex": [
       "\\begin{enumerate*}\n",
       "\\item 75\n",
       "\\item 60\n",
       "\\item 45\n",
       "\\item 30\n",
       "\\item 15\n",
       "\\item 0\n",
       "\\item -15\n",
       "\\item -30\n",
       "\\item -45\n",
       "\\item -60\n",
       "\\item -75\n",
       "\\item -90\n",
       "\\item -105\n",
       "\\item -120\n",
       "\\item -135\n",
       "\\item -150\n",
       "\\item -165\n",
       "\\item -180\n",
       "\\item -195\n",
       "\\item -210\n",
       "\\item -225\n",
       "\\item -240\n",
       "\\item -255\n",
       "\\item -270\n",
       "\\end{enumerate*}\n"
      ],
      "text/markdown": [
       "1. 75\n",
       "2. 60\n",
       "3. 45\n",
       "4. 30\n",
       "5. 15\n",
       "6. 0\n",
       "7. -15\n",
       "8. -30\n",
       "9. -45\n",
       "10. -60\n",
       "11. -75\n",
       "12. -90\n",
       "13. -105\n",
       "14. -120\n",
       "15. -135\n",
       "16. -150\n",
       "17. -165\n",
       "18. -180\n",
       "19. -195\n",
       "20. -210\n",
       "21. -225\n",
       "22. -240\n",
       "23. -255\n",
       "24. -270\n",
       "\n",
       "\n"
      ],
      "text/plain": [
       " [1]   75   60   45   30   15    0  -15  -30  -45  -60  -75  -90 -105 -120 -135\n",
       "[16] -150 -165 -180 -195 -210 -225 -240 -255 -270"
      ]
     },
     "metadata": {},
     "output_type": "display_data"
    }
   ],
   "source": [
    "label_genre = wins_all_genres\n",
    "label_genre$id = seq(1,nrow(label_genre))\n",
    "label_genre$labels = paste(\"  \",label_genre$genre,\" \",label_genre$n,\"  \")\n",
    "nbars = nrow(label_genre)\n",
    "nbars\n",
    "angle = 90 - 360 * (label_genre$id) / nbars\n",
    "angle"
   ]
  },
  {
   "cell_type": "code",
   "execution_count": 411,
   "metadata": {},
   "outputs": [],
   "source": [
    "label_genre$hjust<-ifelse(angle < -90, 1, 0)\n",
    "label_genre$angle<-ifelse(angle < -90, angle+180, angle)"
   ]
  },
  {
   "cell_type": "code",
   "execution_count": 429,
   "metadata": {},
   "outputs": [
    {
     "name": "stderr",
     "output_type": "stream",
     "text": [
      "Only 26 colors are available with 'alphabet'\n",
      "Only 26 colors are available with 'alphabet2'\n",
      "Only 25 colors are available with 'cols25'.\n",
      "Only 32 colors are available with 'glasbey'.\n",
      "Only 22 colors are available with 'kelly'.\n",
      "Only 36 colors are available with 'polychrome'.\n",
      "Only 24 colors are available with 'stepped'\n",
      "Only 12 colors are available with 'tol'\n",
      "Only 16 colors are available with 'watlington'.\n"
     ]
    },
    {
     "data": {
      "image/png": "[encoded data removed]",
      "text/plain": [
       "plot without title"
      ]
     },
     "metadata": {},
     "output_type": "display_data"
    }
   ],
   "source": [
    "library(pals)\n",
    "pal.bands(alphabet, alphabet2, cols25, glasbey, kelly, polychrome, \n",
    "  stepped, tol, watlington,\n",
    "  show.names=FALSE)"
   ]
  },
  {
   "cell_type": "code",
   "execution_count": 463,
   "metadata": {},
   "outputs": [
    {
     "data": {
      "image/png": "[encoded data removed]",
      "text/plain": [
       "plot without title"
      ]
     },
     "metadata": {},
     "output_type": "display_data"
    }
   ],
   "source": [
    "ggplot(wins_all_genres,aes(x=reorder(genre, n),y=n,fill=factor(genre))) +\n",
    "geom_bar(stat=\"identity\",show.legend=FALSE)+#,fill=alpha(\"skyblue3\",0.5)) + \n",
    "scale_fill_manual(values=as.vector(stepped(24)))+\n",
    "ylim(-300,2100)+\n",
    "theme_minimal()+\n",
    "theme(plot.title=element_text(),\n",
    "    axis.text = element_blank(),\n",
    "    axis.title = element_blank(),\n",
    "    panel.grid = element_blank(),\n",
    "    plot.margin = unit(rep(-1,4), \"cm\"))+\n",
    "coord_polar(start = 0)+\n",
    "geom_text(data=label_genre, aes(x=seq(1,nrow(wins_all_genres)), y=n+10, label=labels, hjust=hjust), \n",
    "                                color=\"black\", size=2.3, angle= label_genre$angle, inherit.aes = FALSE)+\n",
    "geom_text(aes(x=-1, y=2100, label=\"Winning awards per gender\"), color=\"black\", inherit.aes = FALSE)\n"
   ]
  },
  {
   "cell_type": "code",
   "execution_count": null,
   "metadata": {},
   "outputs": [],
   "source": []
  },
  {
   "cell_type": "code",
   "execution_count": null,
   "metadata": {},
   "outputs": [],
   "source": []
  }
 ],
 "metadata": {
  "kernelspec": {
   "display_name": "R",
   "language": "R",
   "name": "ir"
  },
  "language_info": {
   "codemirror_mode": "r",
   "file_extension": ".r",
   "mimetype": "text/x-r-source",
   "name": "R",
   "pygments_lexer": "r",
   "version": "3.6.1"
  }
 },
 "nbformat": 4,
 "nbformat_minor": 4
}
