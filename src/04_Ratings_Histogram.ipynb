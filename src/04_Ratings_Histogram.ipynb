{
 "cells": [
  {
   "cell_type": "code",
   "execution_count": 1,
   "metadata": {},
   "outputs": [],
   "source": [
    "merged=read.delim('/home/fatimab/Documents/FEUP/Visualização_de_Dados/VD_project/dataset/merge_basics_ratings_crew.tsv')"
   ]
  },
  {
   "cell_type": "code",
   "execution_count": 2,
   "metadata": {},
   "outputs": [
    {
     "name": "stderr",
     "output_type": "stream",
     "text": [
      "Registered S3 methods overwritten by 'ggplot2':\n",
      "  method         from \n",
      "  [.quosures     rlang\n",
      "  c.quosures     rlang\n",
      "  print.quosures rlang\n"
     ]
    }
   ],
   "source": [
    "library(ggplot2)\n",
    "library(scales)"
   ]
  },
  {
   "cell_type": "code",
   "execution_count": 3,
   "metadata": {
    "scrolled": true
   },
   "outputs": [
    {
     "data": {
      "text/html": [
       "<table>\n",
       "<thead><tr><th scope=col>tconst</th><th scope=col>titleType</th><th scope=col>isAdult</th><th scope=col>startYear</th><th scope=col>runtimeMinutes</th><th scope=col>genre1</th><th scope=col>genre2</th><th scope=col>genre3</th><th scope=col>averageRating</th><th scope=col>numVotes</th><th scope=col>n_directors</th><th scope=col>n_writers</th></tr></thead>\n",
       "<tbody>\n",
       "\t<tr><td>tt0000001  </td><td>short      </td><td>0          </td><td>1894       </td><td> 1         </td><td>Documentary</td><td>Short      </td><td>0          </td><td>5.6        </td><td>1654       </td><td>1          </td><td>1          </td></tr>\n",
       "\t<tr><td>tt0000002  </td><td>short      </td><td>0          </td><td>1892       </td><td> 5         </td><td>Animation  </td><td>Short      </td><td>0          </td><td>6.1        </td><td> 199       </td><td>1          </td><td>1          </td></tr>\n",
       "\t<tr><td>tt0000003  </td><td>short      </td><td>0          </td><td>1892       </td><td> 4         </td><td>Animation  </td><td>Comedy     </td><td>Romance    </td><td>6.5        </td><td>1366       </td><td>1          </td><td>1          </td></tr>\n",
       "\t<tr><td>tt0000004  </td><td>short      </td><td>0          </td><td>1892       </td><td>12         </td><td>Animation  </td><td>Short      </td><td>0          </td><td>6.2        </td><td> 121       </td><td>1          </td><td>1          </td></tr>\n",
       "\t<tr><td>tt0000005  </td><td>short      </td><td>0          </td><td>1893       </td><td> 1         </td><td>Comedy     </td><td>Short      </td><td>0          </td><td>6.2        </td><td>2149       </td><td>1          </td><td>1          </td></tr>\n",
       "\t<tr><td>tt0000006  </td><td>short      </td><td>0          </td><td>1894       </td><td> 1         </td><td>Short      </td><td>0          </td><td>0          </td><td>5.3        </td><td> 115       </td><td>1          </td><td>1          </td></tr>\n",
       "</tbody>\n",
       "</table>\n"
      ],
      "text/latex": [
       "\\begin{tabular}{r|llllllllllll}\n",
       " tconst & titleType & isAdult & startYear & runtimeMinutes & genre1 & genre2 & genre3 & averageRating & numVotes & n\\_directors & n\\_writers\\\\\n",
       "\\hline\n",
       "\t tt0000001   & short       & 0           & 1894        &  1          & Documentary & Short       & 0           & 5.6         & 1654        & 1           & 1          \\\\\n",
       "\t tt0000002   & short       & 0           & 1892        &  5          & Animation   & Short       & 0           & 6.1         &  199        & 1           & 1          \\\\\n",
       "\t tt0000003   & short       & 0           & 1892        &  4          & Animation   & Comedy      & Romance     & 6.5         & 1366        & 1           & 1          \\\\\n",
       "\t tt0000004   & short       & 0           & 1892        & 12          & Animation   & Short       & 0           & 6.2         &  121        & 1           & 1          \\\\\n",
       "\t tt0000005   & short       & 0           & 1893        &  1          & Comedy      & Short       & 0           & 6.2         & 2149        & 1           & 1          \\\\\n",
       "\t tt0000006   & short       & 0           & 1894        &  1          & Short       & 0           & 0           & 5.3         &  115        & 1           & 1          \\\\\n",
       "\\end{tabular}\n"
      ],
      "text/markdown": [
       "\n",
       "| tconst | titleType | isAdult | startYear | runtimeMinutes | genre1 | genre2 | genre3 | averageRating | numVotes | n_directors | n_writers |\n",
       "|---|---|---|---|---|---|---|---|---|---|---|---|\n",
       "| tt0000001   | short       | 0           | 1894        |  1          | Documentary | Short       | 0           | 5.6         | 1654        | 1           | 1           |\n",
       "| tt0000002   | short       | 0           | 1892        |  5          | Animation   | Short       | 0           | 6.1         |  199        | 1           | 1           |\n",
       "| tt0000003   | short       | 0           | 1892        |  4          | Animation   | Comedy      | Romance     | 6.5         | 1366        | 1           | 1           |\n",
       "| tt0000004   | short       | 0           | 1892        | 12          | Animation   | Short       | 0           | 6.2         |  121        | 1           | 1           |\n",
       "| tt0000005   | short       | 0           | 1893        |  1          | Comedy      | Short       | 0           | 6.2         | 2149        | 1           | 1           |\n",
       "| tt0000006   | short       | 0           | 1894        |  1          | Short       | 0           | 0           | 5.3         |  115        | 1           | 1           |\n",
       "\n"
      ],
      "text/plain": [
       "  tconst    titleType isAdult startYear runtimeMinutes genre1      genre2\n",
       "1 tt0000001 short     0       1894       1             Documentary Short \n",
       "2 tt0000002 short     0       1892       5             Animation   Short \n",
       "3 tt0000003 short     0       1892       4             Animation   Comedy\n",
       "4 tt0000004 short     0       1892      12             Animation   Short \n",
       "5 tt0000005 short     0       1893       1             Comedy      Short \n",
       "6 tt0000006 short     0       1894       1             Short       0     \n",
       "  genre3  averageRating numVotes n_directors n_writers\n",
       "1 0       5.6           1654     1           1        \n",
       "2 0       6.1            199     1           1        \n",
       "3 Romance 6.5           1366     1           1        \n",
       "4 0       6.2            121     1           1        \n",
       "5 0       6.2           2149     1           1        \n",
       "6 0       5.3            115     1           1        "
      ]
     },
     "metadata": {},
     "output_type": "display_data"
    }
   ],
   "source": [
    "head(merged)"
   ]
  },
  {
   "cell_type": "code",
   "execution_count": 5,
   "metadata": {},
   "outputs": [
    {
     "data": {
      "text/html": [
       "1277962"
      ],
      "text/latex": [
       "1277962"
      ],
      "text/markdown": [
       "1277962"
      ],
      "text/plain": [
       "[1] 1277962"
      ]
     },
     "metadata": {},
     "output_type": "display_data"
    },
    {
     "data": {
      "text/html": [
       "901403"
      ],
      "text/latex": [
       "901403"
      ],
      "text/markdown": [
       "901403"
      ],
      "text/plain": [
       "[1] 901403"
      ]
     },
     "metadata": {},
     "output_type": "display_data"
    }
   ],
   "source": [
    "nrow(merged)\n",
    "merged = merged[merged$numVotes > 1000,]\n",
    "nrow(merged)\n"
   ]
  },
  {
   "cell_type": "code",
   "execution_count": 25,
   "metadata": {},
   "outputs": [],
   "source": [
    "g = ggplot(merged[merged$averageRating>=1,],aes(x=averageRating))+\n",
    "theme_bw(base_size=15)+\n",
    "geom_histogram(bins=10,color=1,fill=\"skyblue\",alpha=.3)+\n",
    "scale_x_continuous(breaks=seq(0,10,1))+\n",
    "scale_y_continuous(breaks=seq(0,120000,2000),labels=scientific)+\n",
    "labs(x='Average Rating',y='Frequency')+\n",
    "theme(plot.title=element_text(hjust=0.5,size=30),\n",
    "      panel.grid.major.x=element_blank(),\n",
    "      panel.grid.minor.x=element_blank(),\n",
    "      axis.text.x = element_text(size=8),\n",
    "     axis.text.y = element_text(size=8))"
   ]
  },
  {
   "cell_type": "code",
   "execution_count": 26,
   "metadata": {},
   "outputs": [
    {
     "name": "stderr",
     "output_type": "stream",
     "text": [
      "Warning message:\n",
      "“Removed 866725 rows containing non-finite values (stat_bin).”"
     ]
    },
    {
     "data": {
      "image/png": "[encoded data removed]",
      "text/plain": [
       "plot without title"
      ]
     },
     "metadata": {},
     "output_type": "display_data"
    }
   ],
   "source": [
    "g"
   ]
  },
  {
   "cell_type": "code",
   "execution_count": 27,
   "metadata": {},
   "outputs": [
    {
     "name": "stderr",
     "output_type": "stream",
     "text": [
      "Warning message:\n",
      "“Removed 866725 rows containing non-finite values (stat_bin).”"
     ]
    }
   ],
   "source": [
    "ggsave(g,file=\"ratings_histogram.png\",width=3,height=3,dpi=300)"
   ]
  },
  {
   "cell_type": "code",
   "execution_count": null,
   "metadata": {},
   "outputs": [],
   "source": []
  }
 ],
 "metadata": {
  "kernelspec": {
   "display_name": "R",
   "language": "R",
   "name": "ir"
  },
  "language_info": {
   "codemirror_mode": "r",
   "file_extension": ".r",
   "mimetype": "text/x-r-source",
   "name": "R",
   "pygments_lexer": "r",
   "version": "3.6.1"
  }
 },
 "nbformat": 4,
 "nbformat_minor": 4
}
