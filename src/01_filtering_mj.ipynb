{
 "cells": [
  {
   "cell_type": "code",
   "execution_count": 12,
   "metadata": {},
   "outputs": [],
   "source": [
    "library(readxl)\n",
    "library(readr)"
   ]
  },
  {
   "cell_type": "code",
   "execution_count": 38,
   "metadata": {},
   "outputs": [
    {
     "data": {
      "text/html": [
       "<table>\n",
       "<caption>A data.frame: 5 × 2</caption>\n",
       "<thead>\n",
       "\t<tr><th scope=col>tconst</th><th scope=col>att2</th></tr>\n",
       "\t<tr><th scope=col>&lt;dbl&gt;</th><th scope=col>&lt;fct&gt;</th></tr>\n",
       "</thead>\n",
       "<tbody>\n",
       "\t<tr><td>1</td><td>1</td></tr>\n",
       "\t<tr><td>2</td><td>2</td></tr>\n",
       "\t<tr><td>3</td><td>3</td></tr>\n",
       "\t<tr><td>4</td><td>4</td></tr>\n",
       "\t<tr><td>4</td><td>4</td></tr>\n",
       "</tbody>\n",
       "</table>\n"
      ],
      "text/latex": [
       "A data.frame: 5 × 2\n",
       "\\begin{tabular}{ll}\n",
       " tconst & att2\\\\\n",
       " <dbl> & <fct>\\\\\n",
       "\\hline\n",
       "\t 1 & 1\\\\\n",
       "\t 2 & 2\\\\\n",
       "\t 3 & 3\\\\\n",
       "\t 4 & 4\\\\\n",
       "\t 4 & 4\\\\\n",
       "\\end{tabular}\n"
      ],
      "text/markdown": [
       "\n",
       "A data.frame: 5 × 2\n",
       "\n",
       "| tconst &lt;dbl&gt; | att2 &lt;fct&gt; |\n",
       "|---|---|\n",
       "| 1 | 1 |\n",
       "| 2 | 2 |\n",
       "| 3 | 3 |\n",
       "| 4 | 4 |\n",
       "| 4 | 4 |\n",
       "\n"
      ],
      "text/plain": [
       "  tconst att2\n",
       "1 1      1   \n",
       "2 2      2   \n",
       "3 3      3   \n",
       "4 4      4   \n",
       "5 4      4   "
      ]
     },
     "metadata": {},
     "output_type": "display_data"
    }
   ],
   "source": [
    "#Example of filtering\n",
    "#filtered = data.frame(tconst=c(1,2,3,4,10), att2=c(\"1\",\"2\",\"3\",\"4\",\"5\"))\n",
    "#new = data.frame(tconst=c(2,3,4,4,3,7,8,1), att3=c(\"a\",\"b\",\"c\",\"d\",\"e\",\"f\",\"g\",\"h\"))\n",
    "filtered = data.frame(tconst=c(2,3,4,4,3,7,8,1), att3=c(\"a\",\"b\",\"c\",\"d\",\"e\",\"f\",\"g\",\"h\"))\n",
    "new = data.frame(tconst=c(1,2,3,4,4,10), att2=c(\"1\",\"2\",\"3\",\"4\",\"4\",\"5\"))\n",
    "a = dplyr::filter(new, new$tconst %in% filtered$tconst)\n",
    "a"
   ]
  },
  {
   "cell_type": "markdown",
   "metadata": {},
   "source": [
    "### title akas"
   ]
  },
  {
   "cell_type": "code",
   "execution_count": 20,
   "metadata": {},
   "outputs": [],
   "source": [
    "title_akas = read.delim(\"./../dataset/TitleAkas.tsv\",header=TRUE)\n",
    "filtered_title_basics = read.delim(\"./../dataset/filtered.title.basics.tsv\",header=TRUE)"
   ]
  },
  {
   "cell_type": "code",
   "execution_count": 21,
   "metadata": {},
   "outputs": [],
   "source": [
    "title_akas_filtered = dplyr::filter(title_akas, title_akas$titleId %in% filtered_title_basics$tconst)"
   ]
  },
  {
   "cell_type": "code",
   "execution_count": 22,
   "metadata": {},
   "outputs": [],
   "source": [
    "write_tsv(title_akas_filtered,'filtered_title_akas.tsv')"
   ]
  },
  {
   "cell_type": "markdown",
   "metadata": {},
   "source": [
    "### title principals"
   ]
  },
  {
   "cell_type": "code",
   "execution_count": 1,
   "metadata": {},
   "outputs": [],
   "source": [
    "title_principals = read.delim(\"./../dataset/TitlePrincipals.tsv\",header=TRUE)"
   ]
  },
  {
   "cell_type": "code",
   "execution_count": 8,
   "metadata": {},
   "outputs": [],
   "source": [
    "title_principals_filtered = dplyr::filter(title_principals, title_principals$tconst %in% filtered_title_basics$tconst)"
   ]
  },
  {
   "cell_type": "code",
   "execution_count": 19,
   "metadata": {},
   "outputs": [],
   "source": [
    "write_tsv(title_principals_filtered, \"filtered_title_principals.tsv\")"
   ]
  },
  {
   "cell_type": "markdown",
   "metadata": {},
   "source": [
    "### name basics"
   ]
  },
  {
   "cell_type": "code",
   "execution_count": 23,
   "metadata": {},
   "outputs": [],
   "source": [
    "name_basics = read.delim(\"./../dataset/NameBasics.tsv\",header=TRUE)\n",
    "name_basics_filtered = dplyr::filter(name_basics, name_basics$nconst %in% title_principals_filtered$nconst)\n",
    "write_tsv(name_basics_filtered,'filtered_name_basics.tsv')"
   ]
  },
  {
   "cell_type": "markdown",
   "metadata": {},
   "source": [
    "### title crew"
   ]
  },
  {
   "cell_type": "code",
   "execution_count": 24,
   "metadata": {},
   "outputs": [],
   "source": [
    "title_crew = read.delim(\"./../dataset/TitleCrew.tsv\",header=TRUE)\n",
    "title_crew_filtered = dplyr::filter(title_crew, title_crew$tconst %in% filtered_title_basics$tconst)\n",
    "write_tsv(title_crew_filtered,'filtered_title_crew.tsv')"
   ]
  },
  {
   "cell_type": "markdown",
   "metadata": {},
   "source": [
    "### title ratings"
   ]
  },
  {
   "cell_type": "code",
   "execution_count": 26,
   "metadata": {},
   "outputs": [],
   "source": [
    "title_ratings = read.delim(\"./../dataset/TitleRatings.tsv\",header=TRUE)\n",
    "title_ratings_filtered = dplyr::filter(title_ratings, title_ratings$tconst %in% filtered_title_basics$tconst)\n",
    "write_tsv(title_ratings_filtered,'filtered_title_ratings.tsv')"
   ]
  },
  {
   "cell_type": "code",
   "execution_count": null,
   "metadata": {},
   "outputs": [],
   "source": []
  }
 ],
 "metadata": {
  "kernelspec": {
   "display_name": "R",
   "language": "R",
   "name": "ir"
  },
  "language_info": {
   "codemirror_mode": "r",
   "file_extension": ".r",
   "mimetype": "text/x-r-source",
   "name": "R",
   "pygments_lexer": "r",
   "version": "3.6.3"
  }
 },
 "nbformat": 4,
 "nbformat_minor": 4
}
