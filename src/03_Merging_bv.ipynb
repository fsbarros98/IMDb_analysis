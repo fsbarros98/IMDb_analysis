{
 "cells": [
  {
   "cell_type": "code",
   "execution_count": 1,
   "metadata": {},
   "outputs": [],
   "source": [
    "tc=read.delim('IMDb_Datasets_Filtered/cleaned_filtered_title_crew.tsv',header=TRUE)"
   ]
  },
  {
   "cell_type": "code",
   "execution_count": 2,
   "metadata": {},
   "outputs": [],
   "source": [
    "tb=read.delim('cleaned_filtered_title_basics.tsv',header=TRUE)"
   ]
  },
  {
   "cell_type": "code",
   "execution_count": 3,
   "metadata": {},
   "outputs": [],
   "source": [
    "tr=read.delim('IMDb_Datasets_Filtered/filtered_title_ratings.tsv',header=TRUE)"
   ]
  },
  {
   "cell_type": "code",
   "execution_count": 4,
   "metadata": {},
   "outputs": [
    {
     "data": {
      "text/html": [
       "<table>\n",
       "<caption>A data.frame: 6 × 8</caption>\n",
       "<thead>\n",
       "\t<tr><th></th><th scope=col>tconst</th><th scope=col>titleType</th><th scope=col>isAdult</th><th scope=col>startYear</th><th scope=col>runtimeMinutes</th><th scope=col>genre1</th><th scope=col>genre2</th><th scope=col>genre3</th></tr>\n",
       "\t<tr><th></th><th scope=col>&lt;chr&gt;</th><th scope=col>&lt;chr&gt;</th><th scope=col>&lt;int&gt;</th><th scope=col>&lt;int&gt;</th><th scope=col>&lt;int&gt;</th><th scope=col>&lt;chr&gt;</th><th scope=col>&lt;chr&gt;</th><th scope=col>&lt;chr&gt;</th></tr>\n",
       "</thead>\n",
       "<tbody>\n",
       "\t<tr><th scope=row>1</th><td>tt0000001</td><td>short</td><td>0</td><td>1894</td><td> 1</td><td>Documentary</td><td>Short </td><td>0      </td></tr>\n",
       "\t<tr><th scope=row>2</th><td>tt0000002</td><td>short</td><td>0</td><td>1892</td><td> 5</td><td>Animation  </td><td>Short </td><td>0      </td></tr>\n",
       "\t<tr><th scope=row>3</th><td>tt0000003</td><td>short</td><td>0</td><td>1892</td><td> 4</td><td>Animation  </td><td>Comedy</td><td>Romance</td></tr>\n",
       "\t<tr><th scope=row>4</th><td>tt0000004</td><td>short</td><td>0</td><td>1892</td><td>12</td><td>Animation  </td><td>Short </td><td>0      </td></tr>\n",
       "\t<tr><th scope=row>5</th><td>tt0000005</td><td>short</td><td>0</td><td>1893</td><td> 1</td><td>Comedy     </td><td>Short </td><td>0      </td></tr>\n",
       "\t<tr><th scope=row>6</th><td>tt0000006</td><td>short</td><td>0</td><td>1894</td><td> 1</td><td>Short      </td><td>0     </td><td>0      </td></tr>\n",
       "</tbody>\n",
       "</table>\n"
      ],
      "text/latex": [
       "A data.frame: 6 × 8\n",
       "\\begin{tabular}{r|llllllll}\n",
       "  & tconst & titleType & isAdult & startYear & runtimeMinutes & genre1 & genre2 & genre3\\\\\n",
       "  & <chr> & <chr> & <int> & <int> & <int> & <chr> & <chr> & <chr>\\\\\n",
       "\\hline\n",
       "\t1 & tt0000001 & short & 0 & 1894 &  1 & Documentary & Short  & 0      \\\\\n",
       "\t2 & tt0000002 & short & 0 & 1892 &  5 & Animation   & Short  & 0      \\\\\n",
       "\t3 & tt0000003 & short & 0 & 1892 &  4 & Animation   & Comedy & Romance\\\\\n",
       "\t4 & tt0000004 & short & 0 & 1892 & 12 & Animation   & Short  & 0      \\\\\n",
       "\t5 & tt0000005 & short & 0 & 1893 &  1 & Comedy      & Short  & 0      \\\\\n",
       "\t6 & tt0000006 & short & 0 & 1894 &  1 & Short       & 0      & 0      \\\\\n",
       "\\end{tabular}\n"
      ],
      "text/markdown": [
       "\n",
       "A data.frame: 6 × 8\n",
       "\n",
       "| <!--/--> | tconst &lt;chr&gt; | titleType &lt;chr&gt; | isAdult &lt;int&gt; | startYear &lt;int&gt; | runtimeMinutes &lt;int&gt; | genre1 &lt;chr&gt; | genre2 &lt;chr&gt; | genre3 &lt;chr&gt; |\n",
       "|---|---|---|---|---|---|---|---|---|\n",
       "| 1 | tt0000001 | short | 0 | 1894 |  1 | Documentary | Short  | 0       |\n",
       "| 2 | tt0000002 | short | 0 | 1892 |  5 | Animation   | Short  | 0       |\n",
       "| 3 | tt0000003 | short | 0 | 1892 |  4 | Animation   | Comedy | Romance |\n",
       "| 4 | tt0000004 | short | 0 | 1892 | 12 | Animation   | Short  | 0       |\n",
       "| 5 | tt0000005 | short | 0 | 1893 |  1 | Comedy      | Short  | 0       |\n",
       "| 6 | tt0000006 | short | 0 | 1894 |  1 | Short       | 0      | 0       |\n",
       "\n"
      ],
      "text/plain": [
       "  tconst    titleType isAdult startYear runtimeMinutes genre1      genre2\n",
       "1 tt0000001 short     0       1894       1             Documentary Short \n",
       "2 tt0000002 short     0       1892       5             Animation   Short \n",
       "3 tt0000003 short     0       1892       4             Animation   Comedy\n",
       "4 tt0000004 short     0       1892      12             Animation   Short \n",
       "5 tt0000005 short     0       1893       1             Comedy      Short \n",
       "6 tt0000006 short     0       1894       1             Short       0     \n",
       "  genre3 \n",
       "1 0      \n",
       "2 0      \n",
       "3 Romance\n",
       "4 0      \n",
       "5 0      \n",
       "6 0      "
      ]
     },
     "metadata": {},
     "output_type": "display_data"
    }
   ],
   "source": [
    "head(tb)"
   ]
  },
  {
   "cell_type": "code",
   "execution_count": 5,
   "metadata": {},
   "outputs": [],
   "source": [
    "tbtr=merge(tb,tr, by=\"tconst\",all.x=TRUE) #Merging title_basics with title_ratings\n",
    "#The all.x = True means that the movies which are in title_ratings but are not in title_basics won't be in tbtr"
   ]
  },
  {
   "cell_type": "code",
   "execution_count": 6,
   "metadata": {},
   "outputs": [
    {
     "data": {
      "text/html": [
       "1277962"
      ],
      "text/latex": [
       "1277962"
      ],
      "text/markdown": [
       "1277962"
      ],
      "text/plain": [
       "[1] 1277962"
      ]
     },
     "metadata": {},
     "output_type": "display_data"
    },
    {
     "data": {
      "text/html": [
       "1277962"
      ],
      "text/latex": [
       "1277962"
      ],
      "text/markdown": [
       "1277962"
      ],
      "text/plain": [
       "[1] 1277962"
      ]
     },
     "metadata": {},
     "output_type": "display_data"
    }
   ],
   "source": [
    "nrow(tbtr)\n",
    "nrow(tb)\n",
    "#As expected, the number of rows is the same"
   ]
  },
  {
   "cell_type": "code",
   "execution_count": 7,
   "metadata": {},
   "outputs": [
    {
     "data": {
      "text/html": [
       "<table>\n",
       "<caption>A data.frame: 6 × 10</caption>\n",
       "<thead>\n",
       "\t<tr><th></th><th scope=col>tconst</th><th scope=col>titleType</th><th scope=col>isAdult</th><th scope=col>startYear</th><th scope=col>runtimeMinutes</th><th scope=col>genre1</th><th scope=col>genre2</th><th scope=col>genre3</th><th scope=col>averageRating</th><th scope=col>numVotes</th></tr>\n",
       "\t<tr><th></th><th scope=col>&lt;chr&gt;</th><th scope=col>&lt;chr&gt;</th><th scope=col>&lt;int&gt;</th><th scope=col>&lt;int&gt;</th><th scope=col>&lt;int&gt;</th><th scope=col>&lt;chr&gt;</th><th scope=col>&lt;chr&gt;</th><th scope=col>&lt;chr&gt;</th><th scope=col>&lt;dbl&gt;</th><th scope=col>&lt;int&gt;</th></tr>\n",
       "</thead>\n",
       "<tbody>\n",
       "\t<tr><th scope=row>1</th><td>tt0000001</td><td>short</td><td>0</td><td>1894</td><td> 1</td><td>Documentary</td><td>Short </td><td>0      </td><td>5.6</td><td>1654</td></tr>\n",
       "\t<tr><th scope=row>2</th><td>tt0000002</td><td>short</td><td>0</td><td>1892</td><td> 5</td><td>Animation  </td><td>Short </td><td>0      </td><td>6.1</td><td> 199</td></tr>\n",
       "\t<tr><th scope=row>3</th><td>tt0000003</td><td>short</td><td>0</td><td>1892</td><td> 4</td><td>Animation  </td><td>Comedy</td><td>Romance</td><td>6.5</td><td>1366</td></tr>\n",
       "\t<tr><th scope=row>4</th><td>tt0000004</td><td>short</td><td>0</td><td>1892</td><td>12</td><td>Animation  </td><td>Short </td><td>0      </td><td>6.2</td><td> 121</td></tr>\n",
       "\t<tr><th scope=row>5</th><td>tt0000005</td><td>short</td><td>0</td><td>1893</td><td> 1</td><td>Comedy     </td><td>Short </td><td>0      </td><td>6.2</td><td>2149</td></tr>\n",
       "\t<tr><th scope=row>6</th><td>tt0000006</td><td>short</td><td>0</td><td>1894</td><td> 1</td><td>Short      </td><td>0     </td><td>0      </td><td>5.3</td><td> 115</td></tr>\n",
       "</tbody>\n",
       "</table>\n"
      ],
      "text/latex": [
       "A data.frame: 6 × 10\n",
       "\\begin{tabular}{r|llllllllll}\n",
       "  & tconst & titleType & isAdult & startYear & runtimeMinutes & genre1 & genre2 & genre3 & averageRating & numVotes\\\\\n",
       "  & <chr> & <chr> & <int> & <int> & <int> & <chr> & <chr> & <chr> & <dbl> & <int>\\\\\n",
       "\\hline\n",
       "\t1 & tt0000001 & short & 0 & 1894 &  1 & Documentary & Short  & 0       & 5.6 & 1654\\\\\n",
       "\t2 & tt0000002 & short & 0 & 1892 &  5 & Animation   & Short  & 0       & 6.1 &  199\\\\\n",
       "\t3 & tt0000003 & short & 0 & 1892 &  4 & Animation   & Comedy & Romance & 6.5 & 1366\\\\\n",
       "\t4 & tt0000004 & short & 0 & 1892 & 12 & Animation   & Short  & 0       & 6.2 &  121\\\\\n",
       "\t5 & tt0000005 & short & 0 & 1893 &  1 & Comedy      & Short  & 0       & 6.2 & 2149\\\\\n",
       "\t6 & tt0000006 & short & 0 & 1894 &  1 & Short       & 0      & 0       & 5.3 &  115\\\\\n",
       "\\end{tabular}\n"
      ],
      "text/markdown": [
       "\n",
       "A data.frame: 6 × 10\n",
       "\n",
       "| <!--/--> | tconst &lt;chr&gt; | titleType &lt;chr&gt; | isAdult &lt;int&gt; | startYear &lt;int&gt; | runtimeMinutes &lt;int&gt; | genre1 &lt;chr&gt; | genre2 &lt;chr&gt; | genre3 &lt;chr&gt; | averageRating &lt;dbl&gt; | numVotes &lt;int&gt; |\n",
       "|---|---|---|---|---|---|---|---|---|---|---|\n",
       "| 1 | tt0000001 | short | 0 | 1894 |  1 | Documentary | Short  | 0       | 5.6 | 1654 |\n",
       "| 2 | tt0000002 | short | 0 | 1892 |  5 | Animation   | Short  | 0       | 6.1 |  199 |\n",
       "| 3 | tt0000003 | short | 0 | 1892 |  4 | Animation   | Comedy | Romance | 6.5 | 1366 |\n",
       "| 4 | tt0000004 | short | 0 | 1892 | 12 | Animation   | Short  | 0       | 6.2 |  121 |\n",
       "| 5 | tt0000005 | short | 0 | 1893 |  1 | Comedy      | Short  | 0       | 6.2 | 2149 |\n",
       "| 6 | tt0000006 | short | 0 | 1894 |  1 | Short       | 0      | 0       | 5.3 |  115 |\n",
       "\n"
      ],
      "text/plain": [
       "  tconst    titleType isAdult startYear runtimeMinutes genre1      genre2\n",
       "1 tt0000001 short     0       1894       1             Documentary Short \n",
       "2 tt0000002 short     0       1892       5             Animation   Short \n",
       "3 tt0000003 short     0       1892       4             Animation   Comedy\n",
       "4 tt0000004 short     0       1892      12             Animation   Short \n",
       "5 tt0000005 short     0       1893       1             Comedy      Short \n",
       "6 tt0000006 short     0       1894       1             Short       0     \n",
       "  genre3  averageRating numVotes\n",
       "1 0       5.6           1654    \n",
       "2 0       6.1            199    \n",
       "3 Romance 6.5           1366    \n",
       "4 0       6.2            121    \n",
       "5 0       6.2           2149    \n",
       "6 0       5.3            115    "
      ]
     },
     "metadata": {},
     "output_type": "display_data"
    }
   ],
   "source": [
    "head(tbtr)"
   ]
  },
  {
   "cell_type": "code",
   "execution_count": 8,
   "metadata": {},
   "outputs": [],
   "source": [
    "tbtrtc=merge(tbtr,tc,by='tconst',all.x=TRUE) #Merging tbtr with title_crew\n",
    "#All movies which are in title_crew but not in title_basics will not be merged"
   ]
  },
  {
   "cell_type": "code",
   "execution_count": 9,
   "metadata": {},
   "outputs": [
    {
     "data": {
      "text/html": [
       "1277962"
      ],
      "text/latex": [
       "1277962"
      ],
      "text/markdown": [
       "1277962"
      ],
      "text/plain": [
       "[1] 1277962"
      ]
     },
     "metadata": {},
     "output_type": "display_data"
    }
   ],
   "source": [
    "nrow(tbtrtc) #As expected"
   ]
  },
  {
   "cell_type": "code",
   "execution_count": 10,
   "metadata": {},
   "outputs": [
    {
     "data": {
      "text/html": [
       "<table>\n",
       "<caption>A data.frame: 6 × 12</caption>\n",
       "<thead>\n",
       "\t<tr><th></th><th scope=col>tconst</th><th scope=col>titleType</th><th scope=col>isAdult</th><th scope=col>startYear</th><th scope=col>runtimeMinutes</th><th scope=col>genre1</th><th scope=col>genre2</th><th scope=col>genre3</th><th scope=col>averageRating</th><th scope=col>numVotes</th><th scope=col>n_directors</th><th scope=col>n_writers</th></tr>\n",
       "\t<tr><th></th><th scope=col>&lt;chr&gt;</th><th scope=col>&lt;chr&gt;</th><th scope=col>&lt;int&gt;</th><th scope=col>&lt;int&gt;</th><th scope=col>&lt;int&gt;</th><th scope=col>&lt;chr&gt;</th><th scope=col>&lt;chr&gt;</th><th scope=col>&lt;chr&gt;</th><th scope=col>&lt;dbl&gt;</th><th scope=col>&lt;int&gt;</th><th scope=col>&lt;int&gt;</th><th scope=col>&lt;int&gt;</th></tr>\n",
       "</thead>\n",
       "<tbody>\n",
       "\t<tr><th scope=row>1</th><td>tt0000001</td><td>short</td><td>0</td><td>1894</td><td> 1</td><td>Documentary</td><td>Short </td><td>0      </td><td>5.6</td><td>1654</td><td>1</td><td>1</td></tr>\n",
       "\t<tr><th scope=row>2</th><td>tt0000002</td><td>short</td><td>0</td><td>1892</td><td> 5</td><td>Animation  </td><td>Short </td><td>0      </td><td>6.1</td><td> 199</td><td>1</td><td>1</td></tr>\n",
       "\t<tr><th scope=row>3</th><td>tt0000003</td><td>short</td><td>0</td><td>1892</td><td> 4</td><td>Animation  </td><td>Comedy</td><td>Romance</td><td>6.5</td><td>1366</td><td>1</td><td>1</td></tr>\n",
       "\t<tr><th scope=row>4</th><td>tt0000004</td><td>short</td><td>0</td><td>1892</td><td>12</td><td>Animation  </td><td>Short </td><td>0      </td><td>6.2</td><td> 121</td><td>1</td><td>1</td></tr>\n",
       "\t<tr><th scope=row>5</th><td>tt0000005</td><td>short</td><td>0</td><td>1893</td><td> 1</td><td>Comedy     </td><td>Short </td><td>0      </td><td>6.2</td><td>2149</td><td>1</td><td>1</td></tr>\n",
       "\t<tr><th scope=row>6</th><td>tt0000006</td><td>short</td><td>0</td><td>1894</td><td> 1</td><td>Short      </td><td>0     </td><td>0      </td><td>5.3</td><td> 115</td><td>1</td><td>1</td></tr>\n",
       "</tbody>\n",
       "</table>\n"
      ],
      "text/latex": [
       "A data.frame: 6 × 12\n",
       "\\begin{tabular}{r|llllllllllll}\n",
       "  & tconst & titleType & isAdult & startYear & runtimeMinutes & genre1 & genre2 & genre3 & averageRating & numVotes & n\\_directors & n\\_writers\\\\\n",
       "  & <chr> & <chr> & <int> & <int> & <int> & <chr> & <chr> & <chr> & <dbl> & <int> & <int> & <int>\\\\\n",
       "\\hline\n",
       "\t1 & tt0000001 & short & 0 & 1894 &  1 & Documentary & Short  & 0       & 5.6 & 1654 & 1 & 1\\\\\n",
       "\t2 & tt0000002 & short & 0 & 1892 &  5 & Animation   & Short  & 0       & 6.1 &  199 & 1 & 1\\\\\n",
       "\t3 & tt0000003 & short & 0 & 1892 &  4 & Animation   & Comedy & Romance & 6.5 & 1366 & 1 & 1\\\\\n",
       "\t4 & tt0000004 & short & 0 & 1892 & 12 & Animation   & Short  & 0       & 6.2 &  121 & 1 & 1\\\\\n",
       "\t5 & tt0000005 & short & 0 & 1893 &  1 & Comedy      & Short  & 0       & 6.2 & 2149 & 1 & 1\\\\\n",
       "\t6 & tt0000006 & short & 0 & 1894 &  1 & Short       & 0      & 0       & 5.3 &  115 & 1 & 1\\\\\n",
       "\\end{tabular}\n"
      ],
      "text/markdown": [
       "\n",
       "A data.frame: 6 × 12\n",
       "\n",
       "| <!--/--> | tconst &lt;chr&gt; | titleType &lt;chr&gt; | isAdult &lt;int&gt; | startYear &lt;int&gt; | runtimeMinutes &lt;int&gt; | genre1 &lt;chr&gt; | genre2 &lt;chr&gt; | genre3 &lt;chr&gt; | averageRating &lt;dbl&gt; | numVotes &lt;int&gt; | n_directors &lt;int&gt; | n_writers &lt;int&gt; |\n",
       "|---|---|---|---|---|---|---|---|---|---|---|---|---|\n",
       "| 1 | tt0000001 | short | 0 | 1894 |  1 | Documentary | Short  | 0       | 5.6 | 1654 | 1 | 1 |\n",
       "| 2 | tt0000002 | short | 0 | 1892 |  5 | Animation   | Short  | 0       | 6.1 |  199 | 1 | 1 |\n",
       "| 3 | tt0000003 | short | 0 | 1892 |  4 | Animation   | Comedy | Romance | 6.5 | 1366 | 1 | 1 |\n",
       "| 4 | tt0000004 | short | 0 | 1892 | 12 | Animation   | Short  | 0       | 6.2 |  121 | 1 | 1 |\n",
       "| 5 | tt0000005 | short | 0 | 1893 |  1 | Comedy      | Short  | 0       | 6.2 | 2149 | 1 | 1 |\n",
       "| 6 | tt0000006 | short | 0 | 1894 |  1 | Short       | 0      | 0       | 5.3 |  115 | 1 | 1 |\n",
       "\n"
      ],
      "text/plain": [
       "  tconst    titleType isAdult startYear runtimeMinutes genre1      genre2\n",
       "1 tt0000001 short     0       1894       1             Documentary Short \n",
       "2 tt0000002 short     0       1892       5             Animation   Short \n",
       "3 tt0000003 short     0       1892       4             Animation   Comedy\n",
       "4 tt0000004 short     0       1892      12             Animation   Short \n",
       "5 tt0000005 short     0       1893       1             Comedy      Short \n",
       "6 tt0000006 short     0       1894       1             Short       0     \n",
       "  genre3  averageRating numVotes n_directors n_writers\n",
       "1 0       5.6           1654     1           1        \n",
       "2 0       6.1            199     1           1        \n",
       "3 Romance 6.5           1366     1           1        \n",
       "4 0       6.2            121     1           1        \n",
       "5 0       6.2           2149     1           1        \n",
       "6 0       5.3            115     1           1        "
      ]
     },
     "metadata": {},
     "output_type": "display_data"
    },
    {
     "data": {
      "text/html": [
       "<table>\n",
       "<caption>A data.frame: 6 × 12</caption>\n",
       "<thead>\n",
       "\t<tr><th></th><th scope=col>tconst</th><th scope=col>titleType</th><th scope=col>isAdult</th><th scope=col>startYear</th><th scope=col>runtimeMinutes</th><th scope=col>genre1</th><th scope=col>genre2</th><th scope=col>genre3</th><th scope=col>averageRating</th><th scope=col>numVotes</th><th scope=col>n_directors</th><th scope=col>n_writers</th></tr>\n",
       "\t<tr><th></th><th scope=col>&lt;chr&gt;</th><th scope=col>&lt;chr&gt;</th><th scope=col>&lt;int&gt;</th><th scope=col>&lt;int&gt;</th><th scope=col>&lt;int&gt;</th><th scope=col>&lt;chr&gt;</th><th scope=col>&lt;chr&gt;</th><th scope=col>&lt;chr&gt;</th><th scope=col>&lt;dbl&gt;</th><th scope=col>&lt;int&gt;</th><th scope=col>&lt;int&gt;</th><th scope=col>&lt;int&gt;</th></tr>\n",
       "</thead>\n",
       "<tbody>\n",
       "\t<tr><th scope=row>1277957</th><td>tt9916720</td><td>short</td><td>0</td><td>2019</td><td>10</td><td>Comedy     </td><td>Horror</td><td>Mystery</td><td> 6</td><td>64</td><td>1</td><td>1</td></tr>\n",
       "\t<tr><th scope=row>1277958</th><td>tt9916724</td><td>short</td><td>0</td><td>2015</td><td> 3</td><td>Documentary</td><td>Short </td><td>0      </td><td>NA</td><td>NA</td><td>1</td><td>1</td></tr>\n",
       "\t<tr><th scope=row>1277959</th><td>tt9916754</td><td>movie</td><td>0</td><td>2013</td><td>49</td><td>Documentary</td><td>0     </td><td>0      </td><td>NA</td><td>NA</td><td>2</td><td>2</td></tr>\n",
       "\t<tr><th scope=row>1277960</th><td>tt9916756</td><td>short</td><td>0</td><td>2019</td><td>-1</td><td>Short      </td><td>0     </td><td>0      </td><td>NA</td><td>NA</td><td>1</td><td>1</td></tr>\n",
       "\t<tr><th scope=row>1277961</th><td>tt9916764</td><td>short</td><td>0</td><td>2018</td><td>-1</td><td>Short      </td><td>0     </td><td>0      </td><td>NA</td><td>NA</td><td>1</td><td>4</td></tr>\n",
       "\t<tr><th scope=row>1277962</th><td>tt9916856</td><td>short</td><td>0</td><td>2015</td><td>27</td><td>Short      </td><td>0     </td><td>0      </td><td>NA</td><td>NA</td><td>1</td><td>1</td></tr>\n",
       "</tbody>\n",
       "</table>\n"
      ],
      "text/latex": [
       "A data.frame: 6 × 12\n",
       "\\begin{tabular}{r|llllllllllll}\n",
       "  & tconst & titleType & isAdult & startYear & runtimeMinutes & genre1 & genre2 & genre3 & averageRating & numVotes & n\\_directors & n\\_writers\\\\\n",
       "  & <chr> & <chr> & <int> & <int> & <int> & <chr> & <chr> & <chr> & <dbl> & <int> & <int> & <int>\\\\\n",
       "\\hline\n",
       "\t1277957 & tt9916720 & short & 0 & 2019 & 10 & Comedy      & Horror & Mystery &  6 & 64 & 1 & 1\\\\\n",
       "\t1277958 & tt9916724 & short & 0 & 2015 &  3 & Documentary & Short  & 0       & NA & NA & 1 & 1\\\\\n",
       "\t1277959 & tt9916754 & movie & 0 & 2013 & 49 & Documentary & 0      & 0       & NA & NA & 2 & 2\\\\\n",
       "\t1277960 & tt9916756 & short & 0 & 2019 & -1 & Short       & 0      & 0       & NA & NA & 1 & 1\\\\\n",
       "\t1277961 & tt9916764 & short & 0 & 2018 & -1 & Short       & 0      & 0       & NA & NA & 1 & 4\\\\\n",
       "\t1277962 & tt9916856 & short & 0 & 2015 & 27 & Short       & 0      & 0       & NA & NA & 1 & 1\\\\\n",
       "\\end{tabular}\n"
      ],
      "text/markdown": [
       "\n",
       "A data.frame: 6 × 12\n",
       "\n",
       "| <!--/--> | tconst &lt;chr&gt; | titleType &lt;chr&gt; | isAdult &lt;int&gt; | startYear &lt;int&gt; | runtimeMinutes &lt;int&gt; | genre1 &lt;chr&gt; | genre2 &lt;chr&gt; | genre3 &lt;chr&gt; | averageRating &lt;dbl&gt; | numVotes &lt;int&gt; | n_directors &lt;int&gt; | n_writers &lt;int&gt; |\n",
       "|---|---|---|---|---|---|---|---|---|---|---|---|---|\n",
       "| 1277957 | tt9916720 | short | 0 | 2019 | 10 | Comedy      | Horror | Mystery |  6 | 64 | 1 | 1 |\n",
       "| 1277958 | tt9916724 | short | 0 | 2015 |  3 | Documentary | Short  | 0       | NA | NA | 1 | 1 |\n",
       "| 1277959 | tt9916754 | movie | 0 | 2013 | 49 | Documentary | 0      | 0       | NA | NA | 2 | 2 |\n",
       "| 1277960 | tt9916756 | short | 0 | 2019 | -1 | Short       | 0      | 0       | NA | NA | 1 | 1 |\n",
       "| 1277961 | tt9916764 | short | 0 | 2018 | -1 | Short       | 0      | 0       | NA | NA | 1 | 4 |\n",
       "| 1277962 | tt9916856 | short | 0 | 2015 | 27 | Short       | 0      | 0       | NA | NA | 1 | 1 |\n",
       "\n"
      ],
      "text/plain": [
       "        tconst    titleType isAdult startYear runtimeMinutes genre1      genre2\n",
       "1277957 tt9916720 short     0       2019      10             Comedy      Horror\n",
       "1277958 tt9916724 short     0       2015       3             Documentary Short \n",
       "1277959 tt9916754 movie     0       2013      49             Documentary 0     \n",
       "1277960 tt9916756 short     0       2019      -1             Short       0     \n",
       "1277961 tt9916764 short     0       2018      -1             Short       0     \n",
       "1277962 tt9916856 short     0       2015      27             Short       0     \n",
       "        genre3  averageRating numVotes n_directors n_writers\n",
       "1277957 Mystery  6            64       1           1        \n",
       "1277958 0       NA            NA       1           1        \n",
       "1277959 0       NA            NA       2           2        \n",
       "1277960 0       NA            NA       1           1        \n",
       "1277961 0       NA            NA       1           4        \n",
       "1277962 0       NA            NA       1           1        "
      ]
     },
     "metadata": {},
     "output_type": "display_data"
    }
   ],
   "source": [
    "head(tbtrtc)\n",
    "tail(tbtrtc)"
   ]
  },
  {
   "cell_type": "code",
   "execution_count": 11,
   "metadata": {},
   "outputs": [],
   "source": [
    "tbtrtc[is.na(tbtrtc$averageRating),9]=-1 #Replacing the missing averageRatings by -1"
   ]
  },
  {
   "cell_type": "code",
   "execution_count": 12,
   "metadata": {},
   "outputs": [],
   "source": [
    "tbtrtc[is.na(tbtrtc$numVotes),10]=-1 #Replacing the missing numVotes by -1"
   ]
  },
  {
   "cell_type": "code",
   "execution_count": 13,
   "metadata": {},
   "outputs": [],
   "source": [
    "tbtrtc[is.na(tbtrtc$n_directors),11]=-1 #Replacing the missing n_directors by -1"
   ]
  },
  {
   "cell_type": "code",
   "execution_count": 14,
   "metadata": {},
   "outputs": [],
   "source": [
    "tbtrtc[is.na(tbtrtc$n_writers),12]=-1 #Replacing the missing n_writers by -1"
   ]
  },
  {
   "cell_type": "code",
   "execution_count": 15,
   "metadata": {},
   "outputs": [],
   "source": [
    "library(readr)\n",
    "write_tsv(tbtrtc,'merge_basics_ratings_crew.tsv')"
   ]
  },
  {
   "cell_type": "code",
   "execution_count": null,
   "metadata": {},
   "outputs": [],
   "source": []
  }
 ],
 "metadata": {
  "kernelspec": {
   "display_name": "R",
   "language": "R",
   "name": "ir"
  },
  "language_info": {
   "codemirror_mode": "r",
   "file_extension": ".r",
   "mimetype": "text/x-r-source",
   "name": "R",
   "pygments_lexer": "r",
   "version": "3.6.1"
  }
 },
 "nbformat": 4,
 "nbformat_minor": 4
}
