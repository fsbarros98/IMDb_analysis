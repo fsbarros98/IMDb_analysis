{
 "cells": [
  {
   "cell_type": "code",
   "execution_count": 1,
   "metadata": {},
   "outputs": [],
   "source": [
    "nb=read.delim('./../dataset/cleaned_filtered_name_basics.tsv')"
   ]
  },
  {
   "cell_type": "code",
   "execution_count": 2,
   "metadata": {},
   "outputs": [],
   "source": [
    "merge=read.delim('./../dataset/merge_basics_ratings_crew.tsv')"
   ]
  },
  {
   "cell_type": "code",
   "execution_count": 3,
   "metadata": {},
   "outputs": [
    {
     "data": {
      "text/html": [
       "<table>\n",
       "<thead><tr><th scope=col>nconst</th><th scope=col>primaryName</th><th scope=col>primaryProfession1</th><th scope=col>primaryProfession2</th><th scope=col>primaryProfession3</th><th scope=col>knownForTitles1</th><th scope=col>knownForTitles2</th><th scope=col>knownForTitles3</th><th scope=col>knownForTitles4</th><th scope=col>isDead</th></tr></thead>\n",
       "<tbody>\n",
       "\t<tr><td>nm0000001       </td><td>Fred Astaire    </td><td>soundtrack      </td><td>actor           </td><td>miscellaneous   </td><td>tt0053137       </td><td>tt0072308       </td><td>tt0050419       </td><td>tt0031983       </td><td>1               </td></tr>\n",
       "\t<tr><td>nm0000002       </td><td>Lauren Bacall   </td><td>actress         </td><td>soundtrack      </td><td>0               </td><td>tt0117057       </td><td>tt0071877       </td><td>tt0038355       </td><td>tt0037382       </td><td>1               </td></tr>\n",
       "\t<tr><td>nm0000003       </td><td>Brigitte Bardot </td><td>actress         </td><td>soundtrack      </td><td>music_department</td><td>tt0049189       </td><td>tt0054452       </td><td>tt0057345       </td><td>tt0059956       </td><td>0               </td></tr>\n",
       "\t<tr><td>nm0000004       </td><td>John Belushi    </td><td>actor           </td><td>soundtrack      </td><td>writer          </td><td>tt0072562       </td><td>tt0077975       </td><td>tt0078723       </td><td>tt0080455       </td><td>1               </td></tr>\n",
       "\t<tr><td>nm0000005       </td><td>Ingmar Bergman  </td><td>writer          </td><td>director        </td><td>actor           </td><td>tt0050986       </td><td>tt0060827       </td><td>tt0083922       </td><td>tt0050976       </td><td>1               </td></tr>\n",
       "\t<tr><td>nm0000006       </td><td>Ingrid Bergman  </td><td>actress         </td><td>soundtrack      </td><td>producer        </td><td>tt0034583       </td><td>tt0036855       </td><td>tt0038787       </td><td>tt0038109       </td><td>1               </td></tr>\n",
       "</tbody>\n",
       "</table>\n"
      ],
      "text/latex": [
       "\\begin{tabular}{r|llllllllll}\n",
       " nconst & primaryName & primaryProfession1 & primaryProfession2 & primaryProfession3 & knownForTitles1 & knownForTitles2 & knownForTitles3 & knownForTitles4 & isDead\\\\\n",
       "\\hline\n",
       "\t nm0000001        & Fred Astaire     & soundtrack       & actor            & miscellaneous    & tt0053137        & tt0072308        & tt0050419        & tt0031983        & 1               \\\\\n",
       "\t nm0000002        & Lauren Bacall    & actress          & soundtrack       & 0                & tt0117057        & tt0071877        & tt0038355        & tt0037382        & 1               \\\\\n",
       "\t nm0000003          & Brigitte Bardot    & actress            & soundtrack         & music\\_department & tt0049189          & tt0054452          & tt0057345          & tt0059956          & 0                 \\\\\n",
       "\t nm0000004        & John Belushi     & actor            & soundtrack       & writer           & tt0072562        & tt0077975        & tt0078723        & tt0080455        & 1               \\\\\n",
       "\t nm0000005        & Ingmar Bergman   & writer           & director         & actor            & tt0050986        & tt0060827        & tt0083922        & tt0050976        & 1               \\\\\n",
       "\t nm0000006        & Ingrid Bergman   & actress          & soundtrack       & producer         & tt0034583        & tt0036855        & tt0038787        & tt0038109        & 1               \\\\\n",
       "\\end{tabular}\n"
      ],
      "text/markdown": [
       "\n",
       "| nconst | primaryName | primaryProfession1 | primaryProfession2 | primaryProfession3 | knownForTitles1 | knownForTitles2 | knownForTitles3 | knownForTitles4 | isDead |\n",
       "|---|---|---|---|---|---|---|---|---|---|\n",
       "| nm0000001        | Fred Astaire     | soundtrack       | actor            | miscellaneous    | tt0053137        | tt0072308        | tt0050419        | tt0031983        | 1                |\n",
       "| nm0000002        | Lauren Bacall    | actress          | soundtrack       | 0                | tt0117057        | tt0071877        | tt0038355        | tt0037382        | 1                |\n",
       "| nm0000003        | Brigitte Bardot  | actress          | soundtrack       | music_department | tt0049189        | tt0054452        | tt0057345        | tt0059956        | 0                |\n",
       "| nm0000004        | John Belushi     | actor            | soundtrack       | writer           | tt0072562        | tt0077975        | tt0078723        | tt0080455        | 1                |\n",
       "| nm0000005        | Ingmar Bergman   | writer           | director         | actor            | tt0050986        | tt0060827        | tt0083922        | tt0050976        | 1                |\n",
       "| nm0000006        | Ingrid Bergman   | actress          | soundtrack       | producer         | tt0034583        | tt0036855        | tt0038787        | tt0038109        | 1                |\n",
       "\n"
      ],
      "text/plain": [
       "  nconst    primaryName     primaryProfession1 primaryProfession2\n",
       "1 nm0000001 Fred Astaire    soundtrack         actor             \n",
       "2 nm0000002 Lauren Bacall   actress            soundtrack        \n",
       "3 nm0000003 Brigitte Bardot actress            soundtrack        \n",
       "4 nm0000004 John Belushi    actor              soundtrack        \n",
       "5 nm0000005 Ingmar Bergman  writer             director          \n",
       "6 nm0000006 Ingrid Bergman  actress            soundtrack        \n",
       "  primaryProfession3 knownForTitles1 knownForTitles2 knownForTitles3\n",
       "1 miscellaneous      tt0053137       tt0072308       tt0050419      \n",
       "2 0                  tt0117057       tt0071877       tt0038355      \n",
       "3 music_department   tt0049189       tt0054452       tt0057345      \n",
       "4 writer             tt0072562       tt0077975       tt0078723      \n",
       "5 actor              tt0050986       tt0060827       tt0083922      \n",
       "6 producer           tt0034583       tt0036855       tt0038787      \n",
       "  knownForTitles4 isDead\n",
       "1 tt0031983       1     \n",
       "2 tt0037382       1     \n",
       "3 tt0059956       0     \n",
       "4 tt0080455       1     \n",
       "5 tt0050976       1     \n",
       "6 tt0038109       1     "
      ]
     },
     "metadata": {},
     "output_type": "display_data"
    }
   ],
   "source": [
    "head(nb)"
   ]
  },
  {
   "cell_type": "code",
   "execution_count": 4,
   "metadata": {},
   "outputs": [
    {
     "data": {
      "text/html": [
       "<table>\n",
       "<thead><tr><th scope=col>tconst</th><th scope=col>titleType</th><th scope=col>isAdult</th><th scope=col>startYear</th><th scope=col>runtimeMinutes</th><th scope=col>genre1</th><th scope=col>genre2</th><th scope=col>genre3</th><th scope=col>averageRating</th><th scope=col>numVotes</th><th scope=col>n_directors</th><th scope=col>n_writers</th></tr></thead>\n",
       "<tbody>\n",
       "\t<tr><td>tt0000001  </td><td>short      </td><td>0          </td><td>1894       </td><td> 1         </td><td>Documentary</td><td>Short      </td><td>0          </td><td>5.6        </td><td>1654       </td><td>1          </td><td>1          </td></tr>\n",
       "\t<tr><td>tt0000002  </td><td>short      </td><td>0          </td><td>1892       </td><td> 5         </td><td>Animation  </td><td>Short      </td><td>0          </td><td>6.1        </td><td> 199       </td><td>1          </td><td>1          </td></tr>\n",
       "\t<tr><td>tt0000003  </td><td>short      </td><td>0          </td><td>1892       </td><td> 4         </td><td>Animation  </td><td>Comedy     </td><td>Romance    </td><td>6.5        </td><td>1366       </td><td>1          </td><td>1          </td></tr>\n",
       "\t<tr><td>tt0000004  </td><td>short      </td><td>0          </td><td>1892       </td><td>12         </td><td>Animation  </td><td>Short      </td><td>0          </td><td>6.2        </td><td> 121       </td><td>1          </td><td>1          </td></tr>\n",
       "\t<tr><td>tt0000005  </td><td>short      </td><td>0          </td><td>1893       </td><td> 1         </td><td>Comedy     </td><td>Short      </td><td>0          </td><td>6.2        </td><td>2149       </td><td>1          </td><td>1          </td></tr>\n",
       "\t<tr><td>tt0000006  </td><td>short      </td><td>0          </td><td>1894       </td><td> 1         </td><td>Short      </td><td>0          </td><td>0          </td><td>5.3        </td><td> 115       </td><td>1          </td><td>1          </td></tr>\n",
       "</tbody>\n",
       "</table>\n"
      ],
      "text/latex": [
       "\\begin{tabular}{r|llllllllllll}\n",
       " tconst & titleType & isAdult & startYear & runtimeMinutes & genre1 & genre2 & genre3 & averageRating & numVotes & n\\_directors & n\\_writers\\\\\n",
       "\\hline\n",
       "\t tt0000001   & short       & 0           & 1894        &  1          & Documentary & Short       & 0           & 5.6         & 1654        & 1           & 1          \\\\\n",
       "\t tt0000002   & short       & 0           & 1892        &  5          & Animation   & Short       & 0           & 6.1         &  199        & 1           & 1          \\\\\n",
       "\t tt0000003   & short       & 0           & 1892        &  4          & Animation   & Comedy      & Romance     & 6.5         & 1366        & 1           & 1          \\\\\n",
       "\t tt0000004   & short       & 0           & 1892        & 12          & Animation   & Short       & 0           & 6.2         &  121        & 1           & 1          \\\\\n",
       "\t tt0000005   & short       & 0           & 1893        &  1          & Comedy      & Short       & 0           & 6.2         & 2149        & 1           & 1          \\\\\n",
       "\t tt0000006   & short       & 0           & 1894        &  1          & Short       & 0           & 0           & 5.3         &  115        & 1           & 1          \\\\\n",
       "\\end{tabular}\n"
      ],
      "text/markdown": [
       "\n",
       "| tconst | titleType | isAdult | startYear | runtimeMinutes | genre1 | genre2 | genre3 | averageRating | numVotes | n_directors | n_writers |\n",
       "|---|---|---|---|---|---|---|---|---|---|---|---|\n",
       "| tt0000001   | short       | 0           | 1894        |  1          | Documentary | Short       | 0           | 5.6         | 1654        | 1           | 1           |\n",
       "| tt0000002   | short       | 0           | 1892        |  5          | Animation   | Short       | 0           | 6.1         |  199        | 1           | 1           |\n",
       "| tt0000003   | short       | 0           | 1892        |  4          | Animation   | Comedy      | Romance     | 6.5         | 1366        | 1           | 1           |\n",
       "| tt0000004   | short       | 0           | 1892        | 12          | Animation   | Short       | 0           | 6.2         |  121        | 1           | 1           |\n",
       "| tt0000005   | short       | 0           | 1893        |  1          | Comedy      | Short       | 0           | 6.2         | 2149        | 1           | 1           |\n",
       "| tt0000006   | short       | 0           | 1894        |  1          | Short       | 0           | 0           | 5.3         |  115        | 1           | 1           |\n",
       "\n"
      ],
      "text/plain": [
       "  tconst    titleType isAdult startYear runtimeMinutes genre1      genre2\n",
       "1 tt0000001 short     0       1894       1             Documentary Short \n",
       "2 tt0000002 short     0       1892       5             Animation   Short \n",
       "3 tt0000003 short     0       1892       4             Animation   Comedy\n",
       "4 tt0000004 short     0       1892      12             Animation   Short \n",
       "5 tt0000005 short     0       1893       1             Comedy      Short \n",
       "6 tt0000006 short     0       1894       1             Short       0     \n",
       "  genre3  averageRating numVotes n_directors n_writers\n",
       "1 0       5.6           1654     1           1        \n",
       "2 0       6.1            199     1           1        \n",
       "3 Romance 6.5           1366     1           1        \n",
       "4 0       6.2            121     1           1        \n",
       "5 0       6.2           2149     1           1        \n",
       "6 0       5.3            115     1           1        "
      ]
     },
     "metadata": {},
     "output_type": "display_data"
    }
   ],
   "source": [
    "head(merge)"
   ]
  },
  {
   "cell_type": "code",
   "execution_count": 5,
   "metadata": {},
   "outputs": [],
   "source": [
    "titles1=nb[,6,drop=F]\n",
    "titles2=nb[,7,drop=F]\n",
    "titles3=nb[,8,drop=F]\n",
    "titles4=nb[,9,drop=F]\n",
    "colnames(titles1)='tconst'\n",
    "colnames(titles2)='tconst'\n",
    "colnames(titles3)='tconst'\n",
    "colnames(titles4)='tconst'"
   ]
  },
  {
   "cell_type": "code",
   "execution_count": 6,
   "metadata": {},
   "outputs": [
    {
     "name": "stderr",
     "output_type": "stream",
     "text": [
      "Warning message in `[<-.factor`(`*tmp*`, iseq, value = c(\"NA\", \"NA\", \"NA\", \"NA\", :\n",
      "“invalid factor level, NA generated”Warning message in `[<-.factor`(`*tmp*`, iseq, value = c(\"NA\", \"NA\", \"NA\", \"NA\", :\n",
      "“invalid factor level, NA generated”Warning message in `[<-.factor`(`*tmp*`, iseq, value = c(\"NA\", \"NA\", \"NA\", \"NA\", :\n",
      "“invalid factor level, NA generated”"
     ]
    }
   ],
   "source": [
    "titles1[(titles1$tconst==\"0\"),]= \"NA\"\n",
    "titles2[(titles2$tconst==\"0\"),] = \"NA\"\n",
    "titles3[(titles3$tconst==\"0\"),] = \"NA\"\n",
    "titles4[(titles4$tconst==\"0\"),] = \"NA\""
   ]
  },
  {
   "cell_type": "code",
   "execution_count": 7,
   "metadata": {},
   "outputs": [],
   "source": [
    "ratings=merge[,c(1,9)]"
   ]
  },
  {
   "cell_type": "code",
   "execution_count": 8,
   "metadata": {},
   "outputs": [
    {
     "data": {
      "text/plain": [
       "       tconst        averageRating   \n",
       " tt0000001:      1   Min.   : 1.0    \n",
       " tt0000002:      1   1st Qu.: 5.6    \n",
       " tt0000003:      1   Median : 6.5    \n",
       " tt0000004:      1   Mean   : 6.4    \n",
       " tt0000005:      1   3rd Qu.: 7.3    \n",
       " tt0000006:      1   Max.   :10.0    \n",
       " (Other)  :1277956   NA's   :866725  "
      ]
     },
     "metadata": {},
     "output_type": "display_data"
    }
   ],
   "source": [
    "summary(ratings)"
   ]
  },
  {
   "cell_type": "code",
   "execution_count": 9,
   "metadata": {},
   "outputs": [],
   "source": [
    "ratings = ratings[complete.cases(ratings),]"
   ]
  },
  {
   "cell_type": "code",
   "execution_count": 10,
   "metadata": {},
   "outputs": [
    {
     "data": {
      "text/html": [
       "<table>\n",
       "<thead><tr><th></th><th scope=col>tconst</th></tr></thead>\n",
       "<tbody>\n",
       "\t<tr><th scope=row>1532129</th><td>NA        </td></tr>\n",
       "\t<tr><th scope=row>1532130</th><td>NA        </td></tr>\n",
       "\t<tr><th scope=row>1532131</th><td>tt9097592 </td></tr>\n",
       "\t<tr><th scope=row>1532132</th><td>tt11212278</td></tr>\n",
       "\t<tr><th scope=row>1532133</th><td>tt11702702</td></tr>\n",
       "\t<tr><th scope=row>1532134</th><td>tt11772904</td></tr>\n",
       "</tbody>\n",
       "</table>\n"
      ],
      "text/latex": [
       "\\begin{tabular}{r|l}\n",
       "  & tconst\\\\\n",
       "\\hline\n",
       "\t1532129 & NA        \\\\\n",
       "\t1532130 & NA        \\\\\n",
       "\t1532131 & tt9097592 \\\\\n",
       "\t1532132 & tt11212278\\\\\n",
       "\t1532133 & tt11702702\\\\\n",
       "\t1532134 & tt11772904\\\\\n",
       "\\end{tabular}\n"
      ],
      "text/markdown": [
       "\n",
       "| <!--/--> | tconst |\n",
       "|---|---|\n",
       "| 1532129 | NA         |\n",
       "| 1532130 | NA         |\n",
       "| 1532131 | tt9097592  |\n",
       "| 1532132 | tt11212278 |\n",
       "| 1532133 | tt11702702 |\n",
       "| 1532134 | tt11772904 |\n",
       "\n"
      ],
      "text/plain": [
       "        tconst    \n",
       "1532129 NA        \n",
       "1532130 NA        \n",
       "1532131 tt9097592 \n",
       "1532132 tt11212278\n",
       "1532133 tt11702702\n",
       "1532134 tt11772904"
      ]
     },
     "metadata": {},
     "output_type": "display_data"
    }
   ],
   "source": [
    "tail(titles4)"
   ]
  },
  {
   "cell_type": "code",
   "execution_count": 11,
   "metadata": {},
   "outputs": [
    {
     "data": {
      "text/plain": [
       "       tconst       averageRating   \n",
       " tt0000001:     1   Min.   : 1.000  \n",
       " tt0000002:     1   1st Qu.: 5.600  \n",
       " tt0000003:     1   Median : 6.500  \n",
       " tt0000004:     1   Mean   : 6.383  \n",
       " tt0000005:     1   3rd Qu.: 7.300  \n",
       " tt0000006:     1   Max.   :10.000  \n",
       " (Other)  :411231                   "
      ]
     },
     "metadata": {},
     "output_type": "display_data"
    }
   ],
   "source": [
    "summary(ratings)"
   ]
  },
  {
   "cell_type": "code",
   "execution_count": 12,
   "metadata": {},
   "outputs": [
    {
     "data": {
      "text/html": [
       "1532134"
      ],
      "text/latex": [
       "1532134"
      ],
      "text/markdown": [
       "1532134"
      ],
      "text/plain": [
       "[1] 1532134"
      ]
     },
     "metadata": {},
     "output_type": "display_data"
    }
   ],
   "source": [
    "nrow(titles1)"
   ]
  },
  {
   "cell_type": "code",
   "execution_count": 13,
   "metadata": {},
   "outputs": [
    {
     "name": "stderr",
     "output_type": "stream",
     "text": [
      "Registered S3 methods overwritten by 'ggplot2':\n",
      "  method         from \n",
      "  [.quosures     rlang\n",
      "  c.quosures     rlang\n",
      "  print.quosures rlang\n",
      "Registered S3 method overwritten by 'rvest':\n",
      "  method            from\n",
      "  read_xml.response xml2\n",
      "── Attaching packages ─────────────────────────────────────── tidyverse 1.2.1 ──\n",
      "✔ ggplot2 3.1.1     ✔ purrr   0.3.2\n",
      "✔ tibble  3.0.4     ✔ dplyr   1.0.2\n",
      "✔ tidyr   0.8.3     ✔ stringr 1.4.0\n",
      "✔ readr   1.3.1     ✔ forcats 0.4.0\n",
      "── Conflicts ────────────────────────────────────────── tidyverse_conflicts() ──\n",
      "✖ dplyr::filter() masks stats::filter()\n",
      "✖ dplyr::lag()    masks stats::lag()\n"
     ]
    }
   ],
   "source": [
    "library(tidyverse)"
   ]
  },
  {
   "cell_type": "code",
   "execution_count": 14,
   "metadata": {},
   "outputs": [],
   "source": [
    "titles_1_join = left_join(titles1,ratings,by=\"tconst\")\n",
    "titles_2_join = left_join(titles2,ratings,by=\"tconst\")\n",
    "titles_3_join = left_join(titles3,ratings,by=\"tconst\")\n",
    "titles_4_join = left_join(titles4,ratings,by=\"tconst\")"
   ]
  },
  {
   "cell_type": "code",
   "execution_count": 15,
   "metadata": {},
   "outputs": [
    {
     "data": {
      "text/html": [
       "<table>\n",
       "<thead><tr><th></th><th scope=col>tconst</th></tr></thead>\n",
       "<tbody>\n",
       "\t<tr><th scope=row>1532129</th><td>NA        </td></tr>\n",
       "\t<tr><th scope=row>1532130</th><td>NA        </td></tr>\n",
       "\t<tr><th scope=row>1532131</th><td>tt9097592 </td></tr>\n",
       "\t<tr><th scope=row>1532132</th><td>tt11212278</td></tr>\n",
       "\t<tr><th scope=row>1532133</th><td>tt11702702</td></tr>\n",
       "\t<tr><th scope=row>1532134</th><td>tt11772904</td></tr>\n",
       "</tbody>\n",
       "</table>\n"
      ],
      "text/latex": [
       "\\begin{tabular}{r|l}\n",
       "  & tconst\\\\\n",
       "\\hline\n",
       "\t1532129 & NA        \\\\\n",
       "\t1532130 & NA        \\\\\n",
       "\t1532131 & tt9097592 \\\\\n",
       "\t1532132 & tt11212278\\\\\n",
       "\t1532133 & tt11702702\\\\\n",
       "\t1532134 & tt11772904\\\\\n",
       "\\end{tabular}\n"
      ],
      "text/markdown": [
       "\n",
       "| <!--/--> | tconst |\n",
       "|---|---|\n",
       "| 1532129 | NA         |\n",
       "| 1532130 | NA         |\n",
       "| 1532131 | tt9097592  |\n",
       "| 1532132 | tt11212278 |\n",
       "| 1532133 | tt11702702 |\n",
       "| 1532134 | tt11772904 |\n",
       "\n"
      ],
      "text/plain": [
       "        tconst    \n",
       "1532129 NA        \n",
       "1532130 NA        \n",
       "1532131 tt9097592 \n",
       "1532132 tt11212278\n",
       "1532133 tt11702702\n",
       "1532134 tt11772904"
      ]
     },
     "metadata": {},
     "output_type": "display_data"
    }
   ],
   "source": [
    "tail(titles4)"
   ]
  },
  {
   "cell_type": "code",
   "execution_count": 16,
   "metadata": {},
   "outputs": [
    {
     "data": {
      "text/html": [
       "<table>\n",
       "<thead><tr><th></th><th scope=col>tconst</th><th scope=col>averageRating</th></tr></thead>\n",
       "<tbody>\n",
       "\t<tr><th scope=row>1532129</th><td>NA        </td><td>NA        </td></tr>\n",
       "\t<tr><th scope=row>1532130</th><td>NA        </td><td>NA        </td></tr>\n",
       "\t<tr><th scope=row>1532131</th><td>tt9097592 </td><td>NA        </td></tr>\n",
       "\t<tr><th scope=row>1532132</th><td>tt11212278</td><td>NA        </td></tr>\n",
       "\t<tr><th scope=row>1532133</th><td>tt11702702</td><td>NA        </td></tr>\n",
       "\t<tr><th scope=row>1532134</th><td>tt11772904</td><td>NA        </td></tr>\n",
       "</tbody>\n",
       "</table>\n"
      ],
      "text/latex": [
       "\\begin{tabular}{r|ll}\n",
       "  & tconst & averageRating\\\\\n",
       "\\hline\n",
       "\t1532129 & NA         & NA        \\\\\n",
       "\t1532130 & NA         & NA        \\\\\n",
       "\t1532131 & tt9097592  & NA        \\\\\n",
       "\t1532132 & tt11212278 & NA        \\\\\n",
       "\t1532133 & tt11702702 & NA        \\\\\n",
       "\t1532134 & tt11772904 & NA        \\\\\n",
       "\\end{tabular}\n"
      ],
      "text/markdown": [
       "\n",
       "| <!--/--> | tconst | averageRating |\n",
       "|---|---|---|\n",
       "| 1532129 | NA         | NA         |\n",
       "| 1532130 | NA         | NA         |\n",
       "| 1532131 | tt9097592  | NA         |\n",
       "| 1532132 | tt11212278 | NA         |\n",
       "| 1532133 | tt11702702 | NA         |\n",
       "| 1532134 | tt11772904 | NA         |\n",
       "\n"
      ],
      "text/plain": [
       "        tconst     averageRating\n",
       "1532129 NA         NA           \n",
       "1532130 NA         NA           \n",
       "1532131 tt9097592  NA           \n",
       "1532132 tt11212278 NA           \n",
       "1532133 tt11702702 NA           \n",
       "1532134 tt11772904 NA           "
      ]
     },
     "metadata": {},
     "output_type": "display_data"
    }
   ],
   "source": [
    "tail(titles_4_join)"
   ]
  },
  {
   "cell_type": "code",
   "execution_count": 17,
   "metadata": {},
   "outputs": [],
   "source": [
    "titles=cbind(titles_1_join,titles_2_join,titles_3_join,titles_4_join)"
   ]
  },
  {
   "cell_type": "code",
   "execution_count": 18,
   "metadata": {},
   "outputs": [
    {
     "data": {
      "text/html": [
       "<table>\n",
       "<thead><tr><th scope=col>tconst</th><th scope=col>averageRating</th><th scope=col>tconst</th><th scope=col>averageRating</th><th scope=col>tconst</th><th scope=col>averageRating</th><th scope=col>tconst</th><th scope=col>averageRating</th></tr></thead>\n",
       "<tbody>\n",
       "\t<tr><td>tt0053137</td><td>7.2      </td><td>tt0072308</td><td>7.0      </td><td>tt0050419</td><td>7.0      </td><td>tt0031983</td><td>6.9      </td></tr>\n",
       "\t<tr><td>tt0117057</td><td>6.6      </td><td>tt0071877</td><td>7.3      </td><td>tt0038355</td><td>7.9      </td><td>tt0037382</td><td>7.8      </td></tr>\n",
       "\t<tr><td>tt0049189</td><td>6.3      </td><td>tt0054452</td><td>7.6      </td><td>tt0057345</td><td>7.6      </td><td>tt0059956</td><td>6.4      </td></tr>\n",
       "\t<tr><td>tt0072562</td><td> NA      </td><td>tt0077975</td><td>7.5      </td><td>tt0078723</td><td>5.8      </td><td>tt0080455</td><td>7.9      </td></tr>\n",
       "\t<tr><td>tt0050986</td><td>8.2      </td><td>tt0060827</td><td>8.1      </td><td>tt0083922</td><td>8.1      </td><td>tt0050976</td><td>8.2      </td></tr>\n",
       "\t<tr><td>tt0034583</td><td>8.5      </td><td>tt0036855</td><td>7.8      </td><td>tt0038787</td><td>7.9      </td><td>tt0038109</td><td>7.6      </td></tr>\n",
       "</tbody>\n",
       "</table>\n"
      ],
      "text/latex": [
       "\\begin{tabular}{r|llllllll}\n",
       " tconst & averageRating & tconst & averageRating & tconst & averageRating & tconst & averageRating\\\\\n",
       "\\hline\n",
       "\t tt0053137 & 7.2       & tt0072308 & 7.0       & tt0050419 & 7.0       & tt0031983 & 6.9      \\\\\n",
       "\t tt0117057 & 6.6       & tt0071877 & 7.3       & tt0038355 & 7.9       & tt0037382 & 7.8      \\\\\n",
       "\t tt0049189 & 6.3       & tt0054452 & 7.6       & tt0057345 & 7.6       & tt0059956 & 6.4      \\\\\n",
       "\t tt0072562 &  NA       & tt0077975 & 7.5       & tt0078723 & 5.8       & tt0080455 & 7.9      \\\\\n",
       "\t tt0050986 & 8.2       & tt0060827 & 8.1       & tt0083922 & 8.1       & tt0050976 & 8.2      \\\\\n",
       "\t tt0034583 & 8.5       & tt0036855 & 7.8       & tt0038787 & 7.9       & tt0038109 & 7.6      \\\\\n",
       "\\end{tabular}\n"
      ],
      "text/markdown": [
       "\n",
       "| tconst | averageRating | tconst | averageRating | tconst | averageRating | tconst | averageRating |\n",
       "|---|---|---|---|---|---|---|---|\n",
       "| tt0053137 | 7.2       | tt0072308 | 7.0       | tt0050419 | 7.0       | tt0031983 | 6.9       |\n",
       "| tt0117057 | 6.6       | tt0071877 | 7.3       | tt0038355 | 7.9       | tt0037382 | 7.8       |\n",
       "| tt0049189 | 6.3       | tt0054452 | 7.6       | tt0057345 | 7.6       | tt0059956 | 6.4       |\n",
       "| tt0072562 |  NA       | tt0077975 | 7.5       | tt0078723 | 5.8       | tt0080455 | 7.9       |\n",
       "| tt0050986 | 8.2       | tt0060827 | 8.1       | tt0083922 | 8.1       | tt0050976 | 8.2       |\n",
       "| tt0034583 | 8.5       | tt0036855 | 7.8       | tt0038787 | 7.9       | tt0038109 | 7.6       |\n",
       "\n"
      ],
      "text/plain": [
       "  tconst    averageRating tconst    averageRating tconst    averageRating\n",
       "1 tt0053137 7.2           tt0072308 7.0           tt0050419 7.0          \n",
       "2 tt0117057 6.6           tt0071877 7.3           tt0038355 7.9          \n",
       "3 tt0049189 6.3           tt0054452 7.6           tt0057345 7.6          \n",
       "4 tt0072562  NA           tt0077975 7.5           tt0078723 5.8          \n",
       "5 tt0050986 8.2           tt0060827 8.1           tt0083922 8.1          \n",
       "6 tt0034583 8.5           tt0036855 7.8           tt0038787 7.9          \n",
       "  tconst    averageRating\n",
       "1 tt0031983 6.9          \n",
       "2 tt0037382 7.8          \n",
       "3 tt0059956 6.4          \n",
       "4 tt0080455 7.9          \n",
       "5 tt0050976 8.2          \n",
       "6 tt0038109 7.6          "
      ]
     },
     "metadata": {},
     "output_type": "display_data"
    }
   ],
   "source": [
    "head(titles)"
   ]
  },
  {
   "cell_type": "code",
   "execution_count": 19,
   "metadata": {},
   "outputs": [
    {
     "data": {
      "text/html": [
       "<table>\n",
       "<thead><tr><th></th><th scope=col>tconst</th><th scope=col>averageRating</th><th scope=col>tconst</th><th scope=col>averageRating</th><th scope=col>tconst</th><th scope=col>averageRating</th><th scope=col>tconst</th><th scope=col>averageRating</th></tr></thead>\n",
       "<tbody>\n",
       "\t<tr><th scope=row>1532129</th><td>tt10427366</td><td> NA       </td><td>tt8295580 </td><td>NA        </td><td>tt10979852</td><td>NA        </td><td>NA        </td><td>NA        </td></tr>\n",
       "\t<tr><th scope=row>1532130</th><td>tt9815360 </td><td>3.8       </td><td>tt8737752 </td><td>NA        </td><td>NA        </td><td>NA        </td><td>NA        </td><td>NA        </td></tr>\n",
       "\t<tr><th scope=row>1532131</th><td>tt10140990</td><td> NA       </td><td>tt8737752 </td><td>NA        </td><td>tt9083282 </td><td>NA        </td><td>tt9097592 </td><td>NA        </td></tr>\n",
       "\t<tr><th scope=row>1532132</th><td>tt10627062</td><td> NA       </td><td>tt6225166 </td><td>NA        </td><td>tt6914160 </td><td>NA        </td><td>tt11212278</td><td>NA        </td></tr>\n",
       "\t<tr><th scope=row>1532133</th><td>tt11772940</td><td> NA       </td><td>tt11772858</td><td>NA        </td><td>tt11772904</td><td>NA        </td><td>tt11702702</td><td>NA        </td></tr>\n",
       "\t<tr><th scope=row>1532134</th><td>tt11772858</td><td> NA       </td><td>tt11772940</td><td>NA        </td><td>tt11702702</td><td>NA        </td><td>tt11772904</td><td>NA        </td></tr>\n",
       "</tbody>\n",
       "</table>\n"
      ],
      "text/latex": [
       "\\begin{tabular}{r|llllllll}\n",
       "  & tconst & averageRating & tconst & averageRating & tconst & averageRating & tconst & averageRating\\\\\n",
       "\\hline\n",
       "\t1532129 & tt10427366 &  NA        & tt8295580  & NA         & tt10979852 & NA         & NA         & NA        \\\\\n",
       "\t1532130 & tt9815360  & 3.8        & tt8737752  & NA         & NA         & NA         & NA         & NA        \\\\\n",
       "\t1532131 & tt10140990 &  NA        & tt8737752  & NA         & tt9083282  & NA         & tt9097592  & NA        \\\\\n",
       "\t1532132 & tt10627062 &  NA        & tt6225166  & NA         & tt6914160  & NA         & tt11212278 & NA        \\\\\n",
       "\t1532133 & tt11772940 &  NA        & tt11772858 & NA         & tt11772904 & NA         & tt11702702 & NA        \\\\\n",
       "\t1532134 & tt11772858 &  NA        & tt11772940 & NA         & tt11702702 & NA         & tt11772904 & NA        \\\\\n",
       "\\end{tabular}\n"
      ],
      "text/markdown": [
       "\n",
       "| <!--/--> | tconst | averageRating | tconst | averageRating | tconst | averageRating | tconst | averageRating |\n",
       "|---|---|---|---|---|---|---|---|---|\n",
       "| 1532129 | tt10427366 |  NA        | tt8295580  | NA         | tt10979852 | NA         | NA         | NA         |\n",
       "| 1532130 | tt9815360  | 3.8        | tt8737752  | NA         | NA         | NA         | NA         | NA         |\n",
       "| 1532131 | tt10140990 |  NA        | tt8737752  | NA         | tt9083282  | NA         | tt9097592  | NA         |\n",
       "| 1532132 | tt10627062 |  NA        | tt6225166  | NA         | tt6914160  | NA         | tt11212278 | NA         |\n",
       "| 1532133 | tt11772940 |  NA        | tt11772858 | NA         | tt11772904 | NA         | tt11702702 | NA         |\n",
       "| 1532134 | tt11772858 |  NA        | tt11772940 | NA         | tt11702702 | NA         | tt11772904 | NA         |\n",
       "\n"
      ],
      "text/plain": [
       "        tconst     averageRating tconst     averageRating tconst    \n",
       "1532129 tt10427366  NA           tt8295580  NA            tt10979852\n",
       "1532130 tt9815360  3.8           tt8737752  NA            NA        \n",
       "1532131 tt10140990  NA           tt8737752  NA            tt9083282 \n",
       "1532132 tt10627062  NA           tt6225166  NA            tt6914160 \n",
       "1532133 tt11772940  NA           tt11772858 NA            tt11772904\n",
       "1532134 tt11772858  NA           tt11772940 NA            tt11702702\n",
       "        averageRating tconst     averageRating\n",
       "1532129 NA            NA         NA           \n",
       "1532130 NA            NA         NA           \n",
       "1532131 NA            tt9097592  NA           \n",
       "1532132 NA            tt11212278 NA           \n",
       "1532133 NA            tt11702702 NA           \n",
       "1532134 NA            tt11772904 NA           "
      ]
     },
     "metadata": {},
     "output_type": "display_data"
    }
   ],
   "source": [
    "tail(titles)"
   ]
  },
  {
   "cell_type": "code",
   "execution_count": 20,
   "metadata": {},
   "outputs": [
    {
     "data": {
      "text/html": [
       "1532134"
      ],
      "text/latex": [
       "1532134"
      ],
      "text/markdown": [
       "1532134"
      ],
      "text/plain": [
       "[1] 1532134"
      ]
     },
     "metadata": {},
     "output_type": "display_data"
    }
   ],
   "source": [
    "nrow(titles)"
   ]
  },
  {
   "cell_type": "code",
   "execution_count": 21,
   "metadata": {},
   "outputs": [],
   "source": [
    "ratings_titles=titles[,c(2,4,6,8)]"
   ]
  },
  {
   "cell_type": "code",
   "execution_count": 22,
   "metadata": {},
   "outputs": [],
   "source": [
    "row_means = rowMeans(ratings_titles, na.rm = TRUE,dims = 1)"
   ]
  },
  {
   "cell_type": "code",
   "execution_count": 23,
   "metadata": {},
   "outputs": [
    {
     "data": {
      "text/html": [
       "<ol class=list-inline>\n",
       "\t<li>7.025</li>\n",
       "\t<li>7.4</li>\n",
       "\t<li>6.975</li>\n",
       "\t<li>7.06666666666667</li>\n",
       "\t<li>8.15</li>\n",
       "\t<li>7.95</li>\n",
       "</ol>\n"
      ],
      "text/latex": [
       "\\begin{enumerate*}\n",
       "\\item 7.025\n",
       "\\item 7.4\n",
       "\\item 6.975\n",
       "\\item 7.06666666666667\n",
       "\\item 8.15\n",
       "\\item 7.95\n",
       "\\end{enumerate*}\n"
      ],
      "text/markdown": [
       "1. 7.025\n",
       "2. 7.4\n",
       "3. 6.975\n",
       "4. 7.06666666666667\n",
       "5. 8.15\n",
       "6. 7.95\n",
       "\n",
       "\n"
      ],
      "text/plain": [
       "[1] 7.025000 7.400000 6.975000 7.066667 8.150000 7.950000"
      ]
     },
     "metadata": {},
     "output_type": "display_data"
    }
   ],
   "source": [
    "head(row_means)"
   ]
  },
  {
   "cell_type": "code",
   "execution_count": 24,
   "metadata": {},
   "outputs": [
    {
     "data": {
      "text/plain": [
       "   Min. 1st Qu.  Median    Mean 3rd Qu.    Max.    NA's \n",
       "    1.0     5.7     6.5     6.4     7.2    10.0  662884 "
      ]
     },
     "metadata": {},
     "output_type": "display_data"
    }
   ],
   "source": [
    "summary(row_means)"
   ]
  },
  {
   "cell_type": "code",
   "execution_count": 25,
   "metadata": {},
   "outputs": [],
   "source": [
    "#remove NAs\n",
    "row_means = row_means[complete.cases(row_means)]"
   ]
  },
  {
   "cell_type": "code",
   "execution_count": 26,
   "metadata": {},
   "outputs": [
    {
     "data": {
      "text/plain": [
       "   Min. 1st Qu.  Median    Mean 3rd Qu.    Max. \n",
       "  1.000   5.700   6.500   6.395   7.200  10.000 "
      ]
     },
     "metadata": {},
     "output_type": "display_data"
    }
   ],
   "source": [
    "summary(row_means)"
   ]
  },
  {
   "cell_type": "code",
   "execution_count": 27,
   "metadata": {},
   "outputs": [],
   "source": [
    "library(ggplot2)"
   ]
  },
  {
   "cell_type": "code",
   "execution_count": 28,
   "metadata": {},
   "outputs": [],
   "source": [
    "row_means_df=data.frame(row_means)"
   ]
  },
  {
   "cell_type": "code",
   "execution_count": 29,
   "metadata": {},
   "outputs": [
    {
     "data": {
      "text/html": [
       "<table>\n",
       "<thead><tr><th scope=col>row_means</th></tr></thead>\n",
       "<tbody>\n",
       "\t<tr><td>7.025000</td></tr>\n",
       "\t<tr><td>7.400000</td></tr>\n",
       "\t<tr><td>6.975000</td></tr>\n",
       "\t<tr><td>7.066667</td></tr>\n",
       "\t<tr><td>8.150000</td></tr>\n",
       "\t<tr><td>7.950000</td></tr>\n",
       "</tbody>\n",
       "</table>\n"
      ],
      "text/latex": [
       "\\begin{tabular}{r|l}\n",
       " row\\_means\\\\\n",
       "\\hline\n",
       "\t 7.025000\\\\\n",
       "\t 7.400000\\\\\n",
       "\t 6.975000\\\\\n",
       "\t 7.066667\\\\\n",
       "\t 8.150000\\\\\n",
       "\t 7.950000\\\\\n",
       "\\end{tabular}\n"
      ],
      "text/markdown": [
       "\n",
       "| row_means |\n",
       "|---|\n",
       "| 7.025000 |\n",
       "| 7.400000 |\n",
       "| 6.975000 |\n",
       "| 7.066667 |\n",
       "| 8.150000 |\n",
       "| 7.950000 |\n",
       "\n"
      ],
      "text/plain": [
       "  row_means\n",
       "1 7.025000 \n",
       "2 7.400000 \n",
       "3 6.975000 \n",
       "4 7.066667 \n",
       "5 8.150000 \n",
       "6 7.950000 "
      ]
     },
     "metadata": {},
     "output_type": "display_data"
    }
   ],
   "source": [
    "head(row_means_df)"
   ]
  },
  {
   "cell_type": "code",
   "execution_count": 33,
   "metadata": {},
   "outputs": [],
   "source": [
    "g = ggplot(row_means_df,aes(x=\"\",y=row_means)) + geom_violin(fill=\"skyblue\",color=\"skyblue4\",alpha=0.3)+\n",
    "geom_boxplot(width=0.4,fill=\"white\",color=\"skyblue4\") +\n",
    "theme_bw(base_size = 15)+\n",
    "scale_y_continuous(breaks=seq(0,10,1))+\n",
    "coord_flip()+\n",
    "theme(axis.title.y=element_blank(),axis.text.y=element_blank(),\n",
    "axis.ticks.y=element_blank(),legend.position=\"none\",plot.title=element_text(\n",
    "hjust=0.5,size=30)) +\n",
    "labs(y=expression(\"Mean Average Ratings\"),x=\"\")"
   ]
  },
  {
   "cell_type": "code",
   "execution_count": 34,
   "metadata": {},
   "outputs": [],
   "source": [
    "ggsave(plot=g,file=\"average_ratings_per_person.png\",width=3,height=3,dpi=300)"
   ]
  },
  {
   "cell_type": "code",
   "execution_count": null,
   "metadata": {},
   "outputs": [],
   "source": []
  }
 ],
 "metadata": {
  "kernelspec": {
   "display_name": "R",
   "language": "R",
   "name": "ir"
  },
  "language_info": {
   "codemirror_mode": "r",
   "file_extension": ".r",
   "mimetype": "text/x-r-source",
   "name": "R",
   "pygments_lexer": "r",
   "version": "3.6.1"
  }
 },
 "nbformat": 4,
 "nbformat_minor": 4
}
